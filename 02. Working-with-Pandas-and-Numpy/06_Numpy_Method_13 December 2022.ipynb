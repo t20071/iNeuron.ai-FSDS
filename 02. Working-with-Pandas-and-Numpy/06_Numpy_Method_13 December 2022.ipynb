{
 "cells": [
  {
   "cell_type": "markdown",
   "id": "4484f66a",
   "metadata": {},
   "source": [
    "# Numpy Method \n",
    "**Tuesday, 13 December 2022**\n",
    "> 1. Matrix is a sub part of array, array can be any dim but mat will be in 2D dim only.\n",
    "> 1. Numpy derived from Matlab."
   ]
  },
  {
   "cell_type": "code",
   "execution_count": 1,
   "id": "cf6a9b29",
   "metadata": {},
   "outputs": [
    {
     "data": {
      "text/plain": [
       "array([1, 2, 3, 4])"
      ]
     },
     "execution_count": 1,
     "metadata": {},
     "output_type": "execute_result"
    }
   ],
   "source": [
    "import numpy as np\n",
    "l = [1,2,3,4]\n",
    "np.asarray(l)"
   ]
  },
  {
   "cell_type": "markdown",
   "id": "883fd489",
   "metadata": {},
   "source": [
    "> Deep learning and computer vision where below method going to use. "
   ]
  },
  {
   "cell_type": "code",
   "execution_count": 2,
   "id": "2d817594",
   "metadata": {},
   "outputs": [
    {
     "data": {
      "text/plain": [
       "array([0., 0., 0., 0., 0.])"
      ]
     },
     "execution_count": 2,
     "metadata": {},
     "output_type": "execute_result"
    }
   ],
   "source": [
    "np.zeros(5)  # create 1d array means 1 single row"
   ]
  },
  {
   "cell_type": "code",
   "execution_count": 3,
   "id": "b7bc0ede",
   "metadata": {},
   "outputs": [
    {
     "data": {
      "text/plain": [
       "array([[0., 0., 0., 0.],\n",
       "       [0., 0., 0., 0.],\n",
       "       [0., 0., 0., 0.]])"
      ]
     },
     "execution_count": 3,
     "metadata": {},
     "output_type": "execute_result"
    }
   ],
   "source": [
    "np.zeros((3,4))"
   ]
  },
  {
   "cell_type": "code",
   "execution_count": 4,
   "id": "385862cb",
   "metadata": {},
   "outputs": [
    {
     "data": {
      "text/plain": [
       "array([[[0., 0., 0., 0., 0.],\n",
       "        [0., 0., 0., 0., 0.],\n",
       "        [0., 0., 0., 0., 0.],\n",
       "        [0., 0., 0., 0., 0.]],\n",
       "\n",
       "       [[0., 0., 0., 0., 0.],\n",
       "        [0., 0., 0., 0., 0.],\n",
       "        [0., 0., 0., 0., 0.],\n",
       "        [0., 0., 0., 0., 0.]],\n",
       "\n",
       "       [[0., 0., 0., 0., 0.],\n",
       "        [0., 0., 0., 0., 0.],\n",
       "        [0., 0., 0., 0., 0.],\n",
       "        [0., 0., 0., 0., 0.]]])"
      ]
     },
     "execution_count": 4,
     "metadata": {},
     "output_type": "execute_result"
    }
   ],
   "source": [
    "np.zeros((3,4,5))"
   ]
  },
  {
   "cell_type": "markdown",
   "id": "bcc2eef8",
   "metadata": {},
   "source": [
    "> zeros used for nullify the RGB value "
   ]
  },
  {
   "cell_type": "code",
   "execution_count": 5,
   "id": "910c44a6",
   "metadata": {},
   "outputs": [
    {
     "data": {
      "text/plain": [
       "array([1., 1., 1., 1., 1.])"
      ]
     },
     "execution_count": 5,
     "metadata": {},
     "output_type": "execute_result"
    }
   ],
   "source": [
    "np.ones(5)"
   ]
  },
  {
   "cell_type": "code",
   "execution_count": 6,
   "id": "7f88d399",
   "metadata": {},
   "outputs": [
    {
     "data": {
      "text/plain": [
       "array([[1., 1., 1., 1., 1., 1.],\n",
       "       [1., 1., 1., 1., 1., 1.],\n",
       "       [1., 1., 1., 1., 1., 1.],\n",
       "       [1., 1., 1., 1., 1., 1.]])"
      ]
     },
     "execution_count": 6,
     "metadata": {},
     "output_type": "execute_result"
    }
   ],
   "source": [
    "np.ones((4,6))"
   ]
  },
  {
   "cell_type": "code",
   "execution_count": 7,
   "id": "01465d21",
   "metadata": {},
   "outputs": [
    {
     "data": {
      "text/plain": [
       "array([[[1., 1., 1., 1., 1., 1.],\n",
       "        [1., 1., 1., 1., 1., 1.],\n",
       "        [1., 1., 1., 1., 1., 1.],\n",
       "        [1., 1., 1., 1., 1., 1.]],\n",
       "\n",
       "       [[1., 1., 1., 1., 1., 1.],\n",
       "        [1., 1., 1., 1., 1., 1.],\n",
       "        [1., 1., 1., 1., 1., 1.],\n",
       "        [1., 1., 1., 1., 1., 1.]]])"
      ]
     },
     "execution_count": 7,
     "metadata": {},
     "output_type": "execute_result"
    }
   ],
   "source": [
    "np.ones((2,4,6))"
   ]
  },
  {
   "cell_type": "markdown",
   "id": "712be9e8",
   "metadata": {},
   "source": [
    "> not beyond ones and zeros is available"
   ]
  },
  {
   "cell_type": "code",
   "execution_count": 8,
   "id": "0a5bc276",
   "metadata": {},
   "outputs": [
    {
     "data": {
      "text/plain": [
       "array([[0., 0., 0., 0.],\n",
       "       [0., 0., 0., 0.],\n",
       "       [0., 0., 0., 0.]])"
      ]
     },
     "execution_count": 8,
     "metadata": {},
     "output_type": "execute_result"
    }
   ],
   "source": [
    "a = np.zeros((3,4))\n",
    "a"
   ]
  },
  {
   "cell_type": "code",
   "execution_count": 9,
   "id": "87fe51d7",
   "metadata": {},
   "outputs": [
    {
     "data": {
      "text/plain": [
       "array([[5., 5., 5., 5.],\n",
       "       [5., 5., 5., 5.],\n",
       "       [5., 5., 5., 5.]])"
      ]
     },
     "execution_count": 9,
     "metadata": {},
     "output_type": "execute_result"
    }
   ],
   "source": [
    "a + 5"
   ]
  },
  {
   "cell_type": "code",
   "execution_count": 10,
   "id": "d4eb04c8",
   "metadata": {},
   "outputs": [
    {
     "data": {
      "text/plain": [
       "array([[6.23042070e-307, 4.67296746e-307, 1.69121096e-306,\n",
       "        6.23047842e-307, 8.45593934e-307],\n",
       "       [7.56593017e-307, 1.11261027e-306, 1.11261502e-306,\n",
       "        1.42410839e-306, 7.56597770e-307],\n",
       "       [6.23059726e-307, 1.42419530e-306, 7.56599128e-307,\n",
       "        1.11260144e-306, 6.89812281e-307],\n",
       "       [1.42418172e-306, 2.04712906e-306, 7.56589622e-307,\n",
       "        1.11258277e-307, 8.90111708e-307]])"
      ]
     },
     "execution_count": 10,
     "metadata": {},
     "output_type": "execute_result"
    }
   ],
   "source": [
    "np.empty((4,5)) # rondom value but mag will be very small or close to zero e-312"
   ]
  },
  {
   "cell_type": "code",
   "execution_count": 11,
   "id": "49fdf5da",
   "metadata": {},
   "outputs": [
    {
     "data": {
      "text/plain": [
       "array([[[nan, nan, nan,  0.,  0.],\n",
       "        [ 0.,  0.,  0.,  0.,  0.],\n",
       "        [ 0.,  0.,  0.,  0.,  0.],\n",
       "        [ 0.,  0.,  0.,  0.,  0.]],\n",
       "\n",
       "       [[ 0.,  0.,  0.,  0.,  0.],\n",
       "        [ 0.,  0.,  0.,  0.,  0.],\n",
       "        [ 0.,  0.,  0.,  0.,  0.],\n",
       "        [ 0.,  0.,  0.,  0.,  0.]]])"
      ]
     },
     "execution_count": 11,
     "metadata": {},
     "output_type": "execute_result"
    }
   ],
   "source": [
    "np.empty((2,4,5))"
   ]
  },
  {
   "cell_type": "code",
   "execution_count": 12,
   "id": "d7eb3f0b",
   "metadata": {},
   "outputs": [
    {
     "data": {
      "text/plain": [
       "array([2.        , 2.08163265, 2.16326531, 2.24489796, 2.32653061,\n",
       "       2.40816327, 2.48979592, 2.57142857, 2.65306122, 2.73469388,\n",
       "       2.81632653, 2.89795918, 2.97959184, 3.06122449, 3.14285714,\n",
       "       3.2244898 , 3.30612245, 3.3877551 , 3.46938776, 3.55102041,\n",
       "       3.63265306, 3.71428571, 3.79591837, 3.87755102, 3.95918367,\n",
       "       4.04081633, 4.12244898, 4.20408163, 4.28571429, 4.36734694,\n",
       "       4.44897959, 4.53061224, 4.6122449 , 4.69387755, 4.7755102 ,\n",
       "       4.85714286, 4.93877551, 5.02040816, 5.10204082, 5.18367347,\n",
       "       5.26530612, 5.34693878, 5.42857143, 5.51020408, 5.59183673,\n",
       "       5.67346939, 5.75510204, 5.83673469, 5.91836735, 6.        ])"
      ]
     },
     "execution_count": 12,
     "metadata": {},
     "output_type": "execute_result"
    }
   ],
   "source": [
    "np.linspace(2,6) # Return evenly spaced numbers over a specified interval.\n",
    "# it will generate only single dim array "
   ]
  },
  {
   "cell_type": "code",
   "execution_count": 13,
   "id": "3cdde8b4",
   "metadata": {},
   "outputs": [
    {
     "data": {
      "text/plain": [
       "array([2.        , 2.44444444, 2.88888889, 3.33333333, 3.77777778,\n",
       "       4.22222222, 4.66666667, 5.11111111, 5.55555556, 6.        ])"
      ]
     },
     "execution_count": 13,
     "metadata": {},
     "output_type": "execute_result"
    }
   ],
   "source": [
    "np.linspace(2,6,10)"
   ]
  },
  {
   "cell_type": "code",
   "execution_count": 14,
   "id": "70f2073b",
   "metadata": {},
   "outputs": [
    {
     "data": {
      "text/plain": [
       "array([2.        , 2.04040404, 2.08080808, 2.12121212, 2.16161616,\n",
       "       2.2020202 , 2.24242424, 2.28282828, 2.32323232, 2.36363636,\n",
       "       2.4040404 , 2.44444444, 2.48484848, 2.52525253, 2.56565657,\n",
       "       2.60606061, 2.64646465, 2.68686869, 2.72727273, 2.76767677,\n",
       "       2.80808081, 2.84848485, 2.88888889, 2.92929293, 2.96969697,\n",
       "       3.01010101, 3.05050505, 3.09090909, 3.13131313, 3.17171717,\n",
       "       3.21212121, 3.25252525, 3.29292929, 3.33333333, 3.37373737,\n",
       "       3.41414141, 3.45454545, 3.49494949, 3.53535354, 3.57575758,\n",
       "       3.61616162, 3.65656566, 3.6969697 , 3.73737374, 3.77777778,\n",
       "       3.81818182, 3.85858586, 3.8989899 , 3.93939394, 3.97979798,\n",
       "       4.02020202, 4.06060606, 4.1010101 , 4.14141414, 4.18181818,\n",
       "       4.22222222, 4.26262626, 4.3030303 , 4.34343434, 4.38383838,\n",
       "       4.42424242, 4.46464646, 4.50505051, 4.54545455, 4.58585859,\n",
       "       4.62626263, 4.66666667, 4.70707071, 4.74747475, 4.78787879,\n",
       "       4.82828283, 4.86868687, 4.90909091, 4.94949495, 4.98989899,\n",
       "       5.03030303, 5.07070707, 5.11111111, 5.15151515, 5.19191919,\n",
       "       5.23232323, 5.27272727, 5.31313131, 5.35353535, 5.39393939,\n",
       "       5.43434343, 5.47474747, 5.51515152, 5.55555556, 5.5959596 ,\n",
       "       5.63636364, 5.67676768, 5.71717172, 5.75757576, 5.7979798 ,\n",
       "       5.83838384, 5.87878788, 5.91919192, 5.95959596, 6.        ])"
      ]
     },
     "execution_count": 14,
     "metadata": {},
     "output_type": "execute_result"
    }
   ],
   "source": [
    "np.linspace(2,6,100)"
   ]
  },
  {
   "cell_type": "code",
   "execution_count": 15,
   "id": "a7e5a4da",
   "metadata": {},
   "outputs": [
    {
     "data": {
      "text/plain": [
       "array([[ 2.        ,  2.42105263,  2.84210526,  3.26315789],\n",
       "       [ 3.68421053,  4.10526316,  4.52631579,  4.94736842],\n",
       "       [ 5.36842105,  5.78947368,  6.21052632,  6.63157895],\n",
       "       [ 7.05263158,  7.47368421,  7.89473684,  8.31578947],\n",
       "       [ 8.73684211,  9.15789474,  9.57894737, 10.        ]])"
      ]
     },
     "execution_count": 15,
     "metadata": {},
     "output_type": "execute_result"
    }
   ],
   "source": [
    "np.linspace(2,10,20).reshape(5,4)\n",
    "# it will take upper bound also"
   ]
  },
  {
   "cell_type": "code",
   "execution_count": 16,
   "id": "32337211",
   "metadata": {},
   "outputs": [
    {
     "data": {
      "text/plain": [
       "array([ 2. ,  3.8,  5.6,  7.4,  9.2, 11. , 12.8, 14.6, 16.4, 18.2])"
      ]
     },
     "execution_count": 16,
     "metadata": {},
     "output_type": "execute_result"
    }
   ],
   "source": [
    "np.linspace(2,20,10 , endpoint= False)\n",
    "# Now there will be 10 element but last ele will not be there in output"
   ]
  },
  {
   "cell_type": "code",
   "execution_count": 17,
   "id": "741ccafb",
   "metadata": {},
   "outputs": [
    {
     "data": {
      "text/plain": [
       "array([[ 2. ,  3.8],\n",
       "       [ 5.6,  7.4],\n",
       "       [ 9.2, 11. ],\n",
       "       [12.8, 14.6],\n",
       "       [16.4, 18.2]])"
      ]
     },
     "execution_count": 17,
     "metadata": {},
     "output_type": "execute_result"
    }
   ],
   "source": [
    "np.linspace(2,20,10 , endpoint= False).reshape(5,2)"
   ]
  },
  {
   "cell_type": "code",
   "execution_count": 18,
   "id": "1213d643",
   "metadata": {},
   "outputs": [
    {
     "data": {
      "text/plain": [
       "(array([ 2. ,  3.8,  5.6,  7.4,  9.2, 11. , 12.8, 14.6, 16.4, 18.2]), 1.8)"
      ]
     },
     "execution_count": 18,
     "metadata": {},
     "output_type": "execute_result"
    }
   ],
   "source": [
    "np.linspace(2,20,10 , endpoint= False,retstep=True)"
   ]
  },
  {
   "cell_type": "markdown",
   "id": "c5982fa6",
   "metadata": {},
   "source": [
    "> 1.8 is step size will also visible"
   ]
  },
  {
   "cell_type": "code",
   "execution_count": 19,
   "id": "d64b5e4d",
   "metadata": {},
   "outputs": [
    {
     "data": {
      "text/plain": [
       "(array([ 2. ,  3.8,  5.6,  7.4,  9.2, 11. , 12.8, 14.6, 16.4, 18.2]), 1.8)"
      ]
     },
     "execution_count": 19,
     "metadata": {},
     "output_type": "execute_result"
    }
   ],
   "source": [
    "np.linspace(2,20,10 , endpoint= False,retstep=True)"
   ]
  },
  {
   "cell_type": "code",
   "execution_count": 20,
   "id": "229c2b96",
   "metadata": {},
   "outputs": [
    {
     "data": {
      "text/plain": [
       "array([1.e+01, 1.e+02, 1.e+03, 1.e+04, 1.e+05, 1.e+06, 1.e+07, 1.e+08,\n",
       "       1.e+09, 1.e+10])"
      ]
     },
     "execution_count": 20,
     "metadata": {},
     "output_type": "execute_result"
    }
   ],
   "source": [
    "np.logspace(1,10,10)  # same as linspace but in this function log value will return"
   ]
  },
  {
   "cell_type": "code",
   "execution_count": 21,
   "id": "7ad25500",
   "metadata": {},
   "outputs": [
    {
     "data": {
      "text/plain": [
       "array([1.e+01, 1.e+02, 1.e+03, 1.e+04, 1.e+05, 1.e+06, 1.e+07, 1.e+08,\n",
       "       1.e+09, 1.e+10])"
      ]
     },
     "execution_count": 21,
     "metadata": {},
     "output_type": "execute_result"
    }
   ],
   "source": [
    "np.logspace(1,10,10, base = 10)"
   ]
  },
  {
   "cell_type": "code",
   "execution_count": 22,
   "id": "3fffcef9",
   "metadata": {},
   "outputs": [
    {
     "data": {
      "text/plain": [
       "array([   2.,    4.,    8.,   16.,   32.,   64.,  128.,  256.,  512.,\n",
       "       1024.])"
      ]
     },
     "execution_count": 22,
     "metadata": {},
     "output_type": "execute_result"
    }
   ],
   "source": [
    "np.logspace(1,10,10, base = 2)"
   ]
  },
  {
   "cell_type": "code",
   "execution_count": 23,
   "id": "9cc17696",
   "metadata": {},
   "outputs": [
    {
     "data": {
      "text/plain": [
       "array([ 4.        ,  4.66611616,  5.44316   ,  6.34960421,  7.4069977 ,\n",
       "        8.64047791, 10.0793684 , 11.75787594, 13.71590373, 16.        ])"
      ]
     },
     "execution_count": 23,
     "metadata": {},
     "output_type": "execute_result"
    }
   ],
   "source": [
    "np.logspace(2,4,10, base = 2)"
   ]
  },
  {
   "cell_type": "code",
   "execution_count": 24,
   "id": "3efdc83d",
   "metadata": {},
   "outputs": [
    {
     "data": {
      "text/plain": [
       "array([ 0,  1,  2,  3,  4,  5,  6,  7,  8,  9, 10, 11, 12, 13, 14, 15])"
      ]
     },
     "execution_count": 24,
     "metadata": {},
     "output_type": "execute_result"
    }
   ],
   "source": [
    "a = np.arange(16)\n",
    "a"
   ]
  },
  {
   "cell_type": "code",
   "execution_count": 25,
   "id": "e833cce1",
   "metadata": {},
   "outputs": [
    {
     "data": {
      "text/plain": [
       "array([[ 0,  1,  2,  3],\n",
       "       [ 4,  5,  6,  7],\n",
       "       [ 8,  9, 10, 11],\n",
       "       [12, 13, 14, 15]])"
      ]
     },
     "execution_count": 25,
     "metadata": {},
     "output_type": "execute_result"
    }
   ],
   "source": [
    "a = a.reshape(4,4)\n",
    "a"
   ]
  },
  {
   "cell_type": "code",
   "execution_count": 26,
   "id": "b8b4abf5",
   "metadata": {},
   "outputs": [
    {
     "data": {
      "text/plain": [
       "15"
      ]
     },
     "execution_count": 26,
     "metadata": {},
     "output_type": "execute_result"
    }
   ],
   "source": [
    "a.max() #return max value not index"
   ]
  },
  {
   "cell_type": "code",
   "execution_count": 27,
   "id": "121fccea",
   "metadata": {},
   "outputs": [
    {
     "data": {
      "text/plain": [
       "array([[ 4,  5,  6,  7],\n",
       "       [ 8,  9, 10, 11],\n",
       "       [12, 13, 14, 15],\n",
       "       [16, 17, 18, 19]])"
      ]
     },
     "execution_count": 27,
     "metadata": {},
     "output_type": "execute_result"
    }
   ],
   "source": [
    "b = np.arange(4,20).reshape(4,4)\n",
    "b"
   ]
  },
  {
   "cell_type": "code",
   "execution_count": 28,
   "id": "9a19de26",
   "metadata": {},
   "outputs": [
    {
     "data": {
      "text/plain": [
       "19"
      ]
     },
     "execution_count": 28,
     "metadata": {},
     "output_type": "execute_result"
    }
   ],
   "source": [
    "b.max() # it will give max number "
   ]
  },
  {
   "cell_type": "code",
   "execution_count": 29,
   "id": "4e949417",
   "metadata": {},
   "outputs": [
    {
     "data": {
      "text/plain": [
       "array([[[ 4,  5],\n",
       "        [ 6,  7],\n",
       "        [ 8,  9],\n",
       "        [10, 11],\n",
       "        [12, 13],\n",
       "        [14, 15]],\n",
       "\n",
       "       [[16, 17],\n",
       "        [18, 19],\n",
       "        [20, 21],\n",
       "        [22, 23],\n",
       "        [24, 25],\n",
       "        [26, 27]],\n",
       "\n",
       "       [[28, 29],\n",
       "        [30, 31],\n",
       "        [32, 33],\n",
       "        [34, 35],\n",
       "        [36, 37],\n",
       "        [38, 39]]])"
      ]
     },
     "execution_count": 29,
     "metadata": {},
     "output_type": "execute_result"
    }
   ],
   "source": [
    "c = np.arange(4,40).reshape(3,6,2)\n",
    "c"
   ]
  },
  {
   "cell_type": "code",
   "execution_count": 30,
   "id": "c8d2b6f7",
   "metadata": {},
   "outputs": [
    {
     "data": {
      "text/plain": [
       "39"
      ]
     },
     "execution_count": 30,
     "metadata": {},
     "output_type": "execute_result"
    }
   ],
   "source": [
    "c.max()"
   ]
  },
  {
   "cell_type": "code",
   "execution_count": 31,
   "id": "f13dd96b",
   "metadata": {},
   "outputs": [
    {
     "data": {
      "text/plain": [
       "array([[14, 15],\n",
       "       [26, 27],\n",
       "       [38, 39]])"
      ]
     },
     "execution_count": 31,
     "metadata": {},
     "output_type": "execute_result"
    }
   ],
   "source": [
    "c.max(axis = 1) # column wise serchingg max"
   ]
  },
  {
   "cell_type": "code",
   "execution_count": 32,
   "id": "5f9b0a72",
   "metadata": {},
   "outputs": [
    {
     "data": {
      "text/plain": [
       "array([[28, 29],\n",
       "       [30, 31],\n",
       "       [32, 33],\n",
       "       [34, 35],\n",
       "       [36, 37],\n",
       "       [38, 39]])"
      ]
     },
     "execution_count": 32,
     "metadata": {},
     "output_type": "execute_result"
    }
   ],
   "source": [
    "c.max(axis = 0)"
   ]
  },
  {
   "cell_type": "code",
   "execution_count": 33,
   "id": "29997fce",
   "metadata": {},
   "outputs": [
    {
     "data": {
      "text/plain": [
       "array([[ 4,  5,  6,  7,  8,  9],\n",
       "       [10, 11, 12, 13, 14, 15],\n",
       "       [16, 17, 18, 19, 20, 21],\n",
       "       [22, 23, 24, 25, 26, 27],\n",
       "       [28, 29, 30, 31, 32, 33],\n",
       "       [34, 35, 36, 37, 38, 39]])"
      ]
     },
     "execution_count": 33,
     "metadata": {},
     "output_type": "execute_result"
    }
   ],
   "source": [
    "d = np.arange(4,40).reshape(6,6)\n",
    "d"
   ]
  },
  {
   "cell_type": "code",
   "execution_count": 34,
   "id": "96d243a0",
   "metadata": {},
   "outputs": [
    {
     "data": {
      "text/plain": [
       "39"
      ]
     },
     "execution_count": 34,
     "metadata": {},
     "output_type": "execute_result"
    }
   ],
   "source": [
    "d.max()"
   ]
  },
  {
   "cell_type": "code",
   "execution_count": 35,
   "id": "0a5c9e32",
   "metadata": {},
   "outputs": [
    {
     "data": {
      "text/plain": [
       "array([34, 35, 36, 37, 38, 39])"
      ]
     },
     "execution_count": 35,
     "metadata": {},
     "output_type": "execute_result"
    }
   ],
   "source": [
    "d.max(axis = 0) # == 0 row\n",
    "# 4,10 .....34 representing row parsing so axis = 0 show row"
   ]
  },
  {
   "cell_type": "markdown",
   "id": "2b7b81cf",
   "metadata": {},
   "source": [
    "> opposite of understand that we have "
   ]
  },
  {
   "cell_type": "code",
   "execution_count": 36,
   "id": "41f7e827",
   "metadata": {},
   "outputs": [
    {
     "data": {
      "text/plain": [
       "array([ 9, 15, 21, 27, 33, 39])"
      ]
     },
     "execution_count": 36,
     "metadata": {},
     "output_type": "execute_result"
    }
   ],
   "source": [
    "d.max(axis = 1)  # == 1 column wise max\n",
    "# 4,  5,  6,  7,  8,  9 representing column parsing so axis == 1 is column"
   ]
  },
  {
   "cell_type": "code",
   "execution_count": 37,
   "id": "fd3b91b8",
   "metadata": {},
   "outputs": [
    {
     "data": {
      "text/plain": [
       "array([[ 4,  5,  6,  7,  8,  9],\n",
       "       [10, 11, 12, 13, 14, 15],\n",
       "       [16, 17, 18, 19, 20, 21],\n",
       "       [22, 23, 24, 25, 26, 27],\n",
       "       [28, 29, 30, 31, 32, 33],\n",
       "       [34, 35, 36, 37, 38, 39]])"
      ]
     },
     "execution_count": 37,
     "metadata": {},
     "output_type": "execute_result"
    }
   ],
   "source": [
    "d"
   ]
  },
  {
   "cell_type": "code",
   "execution_count": 38,
   "id": "745281bb",
   "metadata": {},
   "outputs": [
    {
     "data": {
      "text/plain": [
       "array([[  16,   25,   36,   49,   64,   81],\n",
       "       [ 100,  121,  144,  169,  196,  225],\n",
       "       [ 256,  289,  324,  361,  400,  441],\n",
       "       [ 484,  529,  576,  625,  676,  729],\n",
       "       [ 784,  841,  900,  961, 1024, 1089],\n",
       "       [1156, 1225, 1296, 1369, 1444, 1521]], dtype=int32)"
      ]
     },
     "execution_count": 38,
     "metadata": {},
     "output_type": "execute_result"
    }
   ],
   "source": [
    "d**2"
   ]
  },
  {
   "cell_type": "code",
   "execution_count": 39,
   "id": "bd53a745",
   "metadata": {},
   "outputs": [
    {
     "data": {
      "text/plain": [
       "array([[  16,   25,   36,   49,   64,   81],\n",
       "       [ 100,  121,  144,  169,  196,  225],\n",
       "       [ 256,  289,  324,  361,  400,  441],\n",
       "       [ 484,  529,  576,  625,  676,  729],\n",
       "       [ 784,  841,  900,  961, 1024, 1089],\n",
       "       [1156, 1225, 1296, 1369, 1444, 1521]], dtype=int32)"
      ]
     },
     "execution_count": 39,
     "metadata": {},
     "output_type": "execute_result"
    }
   ],
   "source": [
    "pow(d,2)"
   ]
  },
  {
   "cell_type": "code",
   "execution_count": 40,
   "id": "22cf06f9",
   "metadata": {},
   "outputs": [
    {
     "data": {
      "text/plain": [
       "array([[   64,   125,   216,   343,   512,   729],\n",
       "       [ 1000,  1331,  1728,  2197,  2744,  3375],\n",
       "       [ 4096,  4913,  5832,  6859,  8000,  9261],\n",
       "       [10648, 12167, 13824, 15625, 17576, 19683],\n",
       "       [21952, 24389, 27000, 29791, 32768, 35937],\n",
       "       [39304, 42875, 46656, 50653, 54872, 59319]], dtype=int32)"
      ]
     },
     "execution_count": 40,
     "metadata": {},
     "output_type": "execute_result"
    }
   ],
   "source": [
    "pow(d,3)"
   ]
  },
  {
   "cell_type": "code",
   "execution_count": 41,
   "id": "a6498eb1",
   "metadata": {},
   "outputs": [
    {
     "data": {
      "text/plain": [
       "array([[    1048576,     9765625,    60466176,   282475249,  1073741824,\n",
       "         -808182895],\n",
       "       [ 1410065408,   167620825,  1787822080,   419538377,  1491846144,\n",
       "         1124772961],\n",
       "       [          0,  1654238625,  1349403648, -2147040887,   797966336,\n",
       "        -1771999463],\n",
       "       [ -154967040,  1551643729,  1073741824,  1977800241,   110568448,\n",
       "        -1010140999],\n",
       "       [-1357905920, -1993212183,   716276736, -1796951359,           0,\n",
       "        -2057521855],\n",
       "       [ 1723237376,  1528444521, -1190133760,  -882641607,   453387264,\n",
       "          -49739855]], dtype=int32)"
      ]
     },
     "execution_count": 41,
     "metadata": {},
     "output_type": "execute_result"
    }
   ],
   "source": [
    "pow(d,10)"
   ]
  },
  {
   "cell_type": "code",
   "execution_count": 42,
   "id": "31641eb8",
   "metadata": {},
   "outputs": [
    {
     "data": {
      "text/plain": [
       "array([[ 4,  5,  6,  7,  8,  9],\n",
       "       [10, 11, 12, 13, 14, 15],\n",
       "       [16, 17, 18, 19, 20, 21],\n",
       "       [22, 23, 24, 25, 26, 27],\n",
       "       [28, 29, 30, 31, 32, 33],\n",
       "       [34, 35, 36, 37, 38, 39]])"
      ]
     },
     "execution_count": 42,
     "metadata": {},
     "output_type": "execute_result"
    }
   ],
   "source": [
    "d"
   ]
  },
  {
   "cell_type": "code",
   "execution_count": 43,
   "id": "12f7bf4d",
   "metadata": {},
   "outputs": [
    {
     "data": {
      "text/plain": [
       "array([9, 3, 1, 2, 3, 4])"
      ]
     },
     "execution_count": 43,
     "metadata": {},
     "output_type": "execute_result"
    }
   ],
   "source": [
    "e = np.array([9,3,1,2,3,4])\n",
    "e"
   ]
  },
  {
   "cell_type": "code",
   "execution_count": 44,
   "id": "c5db4713",
   "metadata": {},
   "outputs": [
    {
     "data": {
      "text/plain": [
       "array([[13,  8,  7,  9, 11, 13],\n",
       "       [19, 14, 13, 15, 17, 19],\n",
       "       [25, 20, 19, 21, 23, 25],\n",
       "       [31, 26, 25, 27, 29, 31],\n",
       "       [37, 32, 31, 33, 35, 37],\n",
       "       [43, 38, 37, 39, 41, 43]])"
      ]
     },
     "execution_count": 44,
     "metadata": {},
     "output_type": "execute_result"
    }
   ],
   "source": [
    "d + e  # broadcasting"
   ]
  },
  {
   "cell_type": "code",
   "execution_count": 45,
   "id": "f498041f",
   "metadata": {},
   "outputs": [
    {
     "data": {
      "text/plain": [
       "array([[14, 15, 16, 17, 18, 19],\n",
       "       [20, 21, 22, 23, 24, 25],\n",
       "       [26, 27, 28, 29, 30, 31],\n",
       "       [32, 33, 34, 35, 36, 37],\n",
       "       [38, 39, 40, 41, 42, 43],\n",
       "       [44, 45, 46, 47, 48, 49]])"
      ]
     },
     "execution_count": 45,
     "metadata": {},
     "output_type": "execute_result"
    }
   ],
   "source": [
    " d + 10 "
   ]
  },
  {
   "cell_type": "code",
   "execution_count": 46,
   "id": "fe6a1a29",
   "metadata": {},
   "outputs": [
    {
     "data": {
      "text/plain": [
       "array([2, 3, 1, 2, 3])"
      ]
     },
     "execution_count": 46,
     "metadata": {},
     "output_type": "execute_result"
    }
   ],
   "source": [
    "f = np.array([2,3,1,2,3])\n",
    "f"
   ]
  },
  {
   "cell_type": "code",
   "execution_count": 47,
   "id": "e2e097bd",
   "metadata": {},
   "outputs": [
    {
     "ename": "ValueError",
     "evalue": "operands could not be broadcast together with shapes (6,6) (5,) ",
     "output_type": "error",
     "traceback": [
      "\u001b[1;31m---------------------------------------------------------------------------\u001b[0m",
      "\u001b[1;31mValueError\u001b[0m                                Traceback (most recent call last)",
      "Input \u001b[1;32mIn [47]\u001b[0m, in \u001b[0;36m<cell line: 1>\u001b[1;34m()\u001b[0m\n\u001b[1;32m----> 1\u001b[0m \u001b[43md\u001b[49m\u001b[43m \u001b[49m\u001b[38;5;241;43m+\u001b[39;49m\u001b[43m \u001b[49m\u001b[43mf\u001b[49m\n",
      "\u001b[1;31mValueError\u001b[0m: operands could not be broadcast together with shapes (6,6) (5,) "
     ]
    }
   ],
   "source": [
    "d + f"
   ]
  },
  {
   "cell_type": "code",
   "execution_count": 48,
   "id": "fb61cee8",
   "metadata": {},
   "outputs": [],
   "source": [
    "e = e.T"
   ]
  },
  {
   "cell_type": "code",
   "execution_count": 49,
   "id": "8fa06dfe",
   "metadata": {},
   "outputs": [
    {
     "data": {
      "text/plain": [
       "array([[13,  8,  7,  9, 11, 13],\n",
       "       [19, 14, 13, 15, 17, 19],\n",
       "       [25, 20, 19, 21, 23, 25],\n",
       "       [31, 26, 25, 27, 29, 31],\n",
       "       [37, 32, 31, 33, 35, 37],\n",
       "       [43, 38, 37, 39, 41, 43]])"
      ]
     },
     "execution_count": 49,
     "metadata": {},
     "output_type": "execute_result"
    }
   ],
   "source": [
    "d + e # column wise broadcasting"
   ]
  },
  {
   "cell_type": "markdown",
   "id": "292f4419",
   "metadata": {},
   "source": [
    "> e is 1D so for transpose e needs to convert into 2d"
   ]
  },
  {
   "cell_type": "code",
   "execution_count": 50,
   "id": "482dee4b",
   "metadata": {},
   "outputs": [
    {
     "data": {
      "text/plain": [
       "array([[9, 3, 1, 2, 3, 4]])"
      ]
     },
     "execution_count": 50,
     "metadata": {},
     "output_type": "execute_result"
    }
   ],
   "source": [
    "e = e.reshape(1,-1)\n",
    "e"
   ]
  },
  {
   "cell_type": "markdown",
   "id": "99c8068d",
   "metadata": {},
   "source": [
    "> now e convert into 2d"
   ]
  },
  {
   "cell_type": "code",
   "execution_count": 51,
   "id": "b7c564d4",
   "metadata": {},
   "outputs": [
    {
     "data": {
      "text/plain": [
       "array([[9],\n",
       "       [3],\n",
       "       [1],\n",
       "       [2],\n",
       "       [3],\n",
       "       [4]])"
      ]
     },
     "execution_count": 51,
     "metadata": {},
     "output_type": "execute_result"
    }
   ],
   "source": [
    "g = e.T\n",
    "g"
   ]
  },
  {
   "cell_type": "code",
   "execution_count": 53,
   "id": "ce4fbc09",
   "metadata": {},
   "outputs": [
    {
     "data": {
      "text/plain": [
       "array([[ 4,  5,  6,  7,  8,  9],\n",
       "       [10, 11, 12, 13, 14, 15],\n",
       "       [16, 17, 18, 19, 20, 21],\n",
       "       [22, 23, 24, 25, 26, 27],\n",
       "       [28, 29, 30, 31, 32, 33],\n",
       "       [34, 35, 36, 37, 38, 39]])"
      ]
     },
     "execution_count": 53,
     "metadata": {},
     "output_type": "execute_result"
    }
   ],
   "source": [
    "d"
   ]
  },
  {
   "cell_type": "code",
   "execution_count": 52,
   "id": "6cb27be0",
   "metadata": {},
   "outputs": [
    {
     "data": {
      "text/plain": [
       "array([[13, 14, 15, 16, 17, 18],\n",
       "       [13, 14, 15, 16, 17, 18],\n",
       "       [17, 18, 19, 20, 21, 22],\n",
       "       [24, 25, 26, 27, 28, 29],\n",
       "       [31, 32, 33, 34, 35, 36],\n",
       "       [38, 39, 40, 41, 42, 43]])"
      ]
     },
     "execution_count": 52,
     "metadata": {},
     "output_type": "execute_result"
    }
   ],
   "source": [
    "g + d"
   ]
  },
  {
   "cell_type": "code",
   "execution_count": 54,
   "id": "f1303b85",
   "metadata": {},
   "outputs": [
    {
     "data": {
      "text/plain": [
       "array([[ 0,  1,  2,  3],\n",
       "       [ 4,  5,  6,  7],\n",
       "       [ 8,  9, 10, 11],\n",
       "       [12, 13, 14, 15]])"
      ]
     },
     "execution_count": 54,
     "metadata": {},
     "output_type": "execute_result"
    }
   ],
   "source": [
    "a "
   ]
  },
  {
   "cell_type": "code",
   "execution_count": 55,
   "id": "6e69b52e",
   "metadata": {},
   "outputs": [
    {
     "data": {
      "text/plain": [
       "array([[0.        , 1.        , 1.41421356, 1.73205081],\n",
       "       [2.        , 2.23606798, 2.44948974, 2.64575131],\n",
       "       [2.82842712, 3.        , 3.16227766, 3.31662479],\n",
       "       [3.46410162, 3.60555128, 3.74165739, 3.87298335]])"
      ]
     },
     "execution_count": 55,
     "metadata": {},
     "output_type": "execute_result"
    }
   ],
   "source": [
    "np.sqrt(a)"
   ]
  },
  {
   "cell_type": "code",
   "execution_count": 56,
   "id": "3aadc4fe",
   "metadata": {},
   "outputs": [
    {
     "data": {
      "text/plain": [
       "array([[1.00000000e+00, 2.71828183e+00, 7.38905610e+00, 2.00855369e+01],\n",
       "       [5.45981500e+01, 1.48413159e+02, 4.03428793e+02, 1.09663316e+03],\n",
       "       [2.98095799e+03, 8.10308393e+03, 2.20264658e+04, 5.98741417e+04],\n",
       "       [1.62754791e+05, 4.42413392e+05, 1.20260428e+06, 3.26901737e+06]])"
      ]
     },
     "execution_count": 56,
     "metadata": {},
     "output_type": "execute_result"
    }
   ],
   "source": [
    "np.exp(a)"
   ]
  },
  {
   "cell_type": "code",
   "execution_count": 59,
   "id": "79676168",
   "metadata": {},
   "outputs": [
    {
     "name": "stderr",
     "output_type": "stream",
     "text": [
      "C:\\Users\\HP\\AppData\\Local\\Temp\\ipykernel_7716\\547625357.py:1: RuntimeWarning: divide by zero encountered in log10\n",
      "  np.log10(a)\n"
     ]
    },
    {
     "data": {
      "text/plain": [
       "array([[      -inf, 0.        , 0.30103   , 0.47712125],\n",
       "       [0.60205999, 0.69897   , 0.77815125, 0.84509804],\n",
       "       [0.90308999, 0.95424251, 1.        , 1.04139269],\n",
       "       [1.07918125, 1.11394335, 1.14612804, 1.17609126]])"
      ]
     },
     "execution_count": 59,
     "metadata": {},
     "output_type": "execute_result"
    }
   ],
   "source": [
    "np.log10(a)"
   ]
  },
  {
   "cell_type": "code",
   "execution_count": 60,
   "id": "764be853",
   "metadata": {},
   "outputs": [
    {
     "data": {
      "text/plain": [
       "array([1, 2, 3])"
      ]
     },
     "execution_count": 60,
     "metadata": {},
     "output_type": "execute_result"
    }
   ],
   "source": [
    "x = np.array([1,2,3])\n",
    "y = x # swallow copy\n",
    "y "
   ]
  },
  {
   "cell_type": "code",
   "execution_count": 61,
   "id": "43cbb24a",
   "metadata": {},
   "outputs": [
    {
     "data": {
      "text/plain": [
       "array([1, 2, 3])"
      ]
     },
     "execution_count": 61,
     "metadata": {},
     "output_type": "execute_result"
    }
   ],
   "source": [
    "x"
   ]
  },
  {
   "cell_type": "code",
   "execution_count": 62,
   "id": "1fa034ab",
   "metadata": {},
   "outputs": [],
   "source": [
    "z = np.copy(x) # deep copy"
   ]
  },
  {
   "cell_type": "code",
   "execution_count": 63,
   "id": "397e389b",
   "metadata": {},
   "outputs": [
    {
     "data": {
      "text/plain": [
       "array([1, 2, 3])"
      ]
     },
     "execution_count": 63,
     "metadata": {},
     "output_type": "execute_result"
    }
   ],
   "source": [
    "z"
   ]
  },
  {
   "cell_type": "code",
   "execution_count": 64,
   "id": "bf0c32df",
   "metadata": {},
   "outputs": [
    {
     "data": {
      "text/plain": [
       "array([1, 2, 3])"
      ]
     },
     "execution_count": 64,
     "metadata": {},
     "output_type": "execute_result"
    }
   ],
   "source": [
    "y"
   ]
  },
  {
   "cell_type": "markdown",
   "id": "d19e47ba",
   "metadata": {},
   "source": [
    "> deep copy and swallow copy"
   ]
  },
  {
   "cell_type": "code",
   "execution_count": 67,
   "id": "b6073ede",
   "metadata": {},
   "outputs": [
    {
     "data": {
      "text/plain": [
       "array([ True,  True,  True])"
      ]
     },
     "execution_count": 67,
     "metadata": {},
     "output_type": "execute_result"
    }
   ],
   "source": [
    "x == y "
   ]
  },
  {
   "cell_type": "code",
   "execution_count": 68,
   "id": "62136e2c",
   "metadata": {},
   "outputs": [
    {
     "data": {
      "text/plain": [
       "True"
      ]
     },
     "execution_count": 68,
     "metadata": {},
     "output_type": "execute_result"
    }
   ],
   "source": [
    "id(x) == id(y) # anytype of change in x will affect on y"
   ]
  },
  {
   "cell_type": "code",
   "execution_count": 70,
   "id": "7fcb419f",
   "metadata": {},
   "outputs": [
    {
     "data": {
      "text/plain": [
       "False"
      ]
     },
     "execution_count": 70,
     "metadata": {},
     "output_type": "execute_result"
    }
   ],
   "source": [
    "id(z) == id(x)"
   ]
  },
  {
   "cell_type": "code",
   "execution_count": 71,
   "id": "7cc4bd6b",
   "metadata": {},
   "outputs": [],
   "source": [
    "x[0] = 100"
   ]
  },
  {
   "cell_type": "code",
   "execution_count": 72,
   "id": "ca2349d5",
   "metadata": {},
   "outputs": [
    {
     "data": {
      "text/plain": [
       "array([100,   2,   3])"
      ]
     },
     "execution_count": 72,
     "metadata": {},
     "output_type": "execute_result"
    }
   ],
   "source": [
    "x"
   ]
  },
  {
   "cell_type": "code",
   "execution_count": 73,
   "id": "dd10c9ac",
   "metadata": {},
   "outputs": [
    {
     "data": {
      "text/plain": [
       "array([100,   2,   3])"
      ]
     },
     "execution_count": 73,
     "metadata": {},
     "output_type": "execute_result"
    }
   ],
   "source": [
    "y"
   ]
  },
  {
   "cell_type": "code",
   "execution_count": 74,
   "id": "b2c39dea",
   "metadata": {},
   "outputs": [
    {
     "data": {
      "text/plain": [
       "array([1, 2, 3])"
      ]
     },
     "execution_count": 74,
     "metadata": {},
     "output_type": "execute_result"
    }
   ],
   "source": [
    "z # z will not change "
   ]
  },
  {
   "cell_type": "markdown",
   "id": "82b4a179",
   "metadata": {},
   "source": [
    "> id show memory location,memory address\n",
    "\n",
    "> Return the identity of an object.\n",
    "\n",
    "> This is guaranteed to be unique among simultaneously existing objects."
   ]
  },
  {
   "cell_type": "code",
   "execution_count": 80,
   "id": "380b1378",
   "metadata": {},
   "outputs": [
    {
     "data": {
      "text/plain": [
       "3043883111696"
      ]
     },
     "execution_count": 80,
     "metadata": {},
     "output_type": "execute_result"
    }
   ],
   "source": [
    "id(x) "
   ]
  },
  {
   "cell_type": "code",
   "execution_count": 81,
   "id": "c4d1a513",
   "metadata": {},
   "outputs": [
    {
     "data": {
      "text/plain": [
       "3043883111696"
      ]
     },
     "execution_count": 81,
     "metadata": {},
     "output_type": "execute_result"
    }
   ],
   "source": [
    "id(y)"
   ]
  },
  {
   "cell_type": "code",
   "execution_count": 87,
   "id": "df946d42",
   "metadata": {},
   "outputs": [
    {
     "data": {
      "text/plain": [
       "3043885602704"
      ]
     },
     "execution_count": 87,
     "metadata": {},
     "output_type": "execute_result"
    }
   ],
   "source": [
    "id(y[0])"
   ]
  },
  {
   "cell_type": "code",
   "execution_count": 88,
   "id": "22afa9ca",
   "metadata": {},
   "outputs": [
    {
     "data": {
      "text/plain": [
       "3043885602064"
      ]
     },
     "execution_count": 88,
     "metadata": {},
     "output_type": "execute_result"
    }
   ],
   "source": [
    "id(x[0])"
   ]
  },
  {
   "cell_type": "code",
   "execution_count": 101,
   "id": "83f809ff",
   "metadata": {},
   "outputs": [
    {
     "data": {
      "text/plain": [
       "True"
      ]
     },
     "execution_count": 101,
     "metadata": {},
     "output_type": "execute_result"
    }
   ],
   "source": [
    "id(x[0]) == id(y[0])"
   ]
  },
  {
   "cell_type": "markdown",
   "id": "0621a40e",
   "metadata": {},
   "source": [
    "> not similar identity"
   ]
  },
  {
   "cell_type": "code",
   "execution_count": 83,
   "id": "bb30e2e9",
   "metadata": {},
   "outputs": [
    {
     "data": {
      "text/plain": [
       "3043882042928"
      ]
     },
     "execution_count": 83,
     "metadata": {},
     "output_type": "execute_result"
    }
   ],
   "source": [
    "id(z)"
   ]
  },
  {
   "cell_type": "code",
   "execution_count": 92,
   "id": "0fe37752",
   "metadata": {},
   "outputs": [],
   "source": [
    "sharad = np.array([34,3443])\n",
    "df = sharad"
   ]
  },
  {
   "cell_type": "code",
   "execution_count": 93,
   "id": "18921276",
   "metadata": {},
   "outputs": [
    {
     "data": {
      "text/plain": [
       "3043882042736"
      ]
     },
     "execution_count": 93,
     "metadata": {},
     "output_type": "execute_result"
    }
   ],
   "source": [
    "id(df)"
   ]
  },
  {
   "cell_type": "code",
   "execution_count": 95,
   "id": "058d7737",
   "metadata": {},
   "outputs": [
    {
     "data": {
      "text/plain": [
       "3043882042736"
      ]
     },
     "execution_count": 95,
     "metadata": {},
     "output_type": "execute_result"
    }
   ],
   "source": [
    "id(sharad)"
   ]
  },
  {
   "cell_type": "code",
   "execution_count": 103,
   "id": "14beec12",
   "metadata": {},
   "outputs": [
    {
     "data": {
      "text/plain": [
       "True"
      ]
     },
     "execution_count": 103,
     "metadata": {},
     "output_type": "execute_result"
    }
   ],
   "source": [
    "id(sharad) == id(df)"
   ]
  },
  {
   "cell_type": "code",
   "execution_count": 98,
   "id": "dbffb5ec",
   "metadata": {},
   "outputs": [
    {
     "data": {
      "text/plain": [
       "3043885604272"
      ]
     },
     "execution_count": 98,
     "metadata": {},
     "output_type": "execute_result"
    }
   ],
   "source": [
    "id(sharad[0])"
   ]
  },
  {
   "cell_type": "code",
   "execution_count": 102,
   "id": "3fc5c127",
   "metadata": {},
   "outputs": [
    {
     "data": {
      "text/plain": [
       "3043883999600"
      ]
     },
     "execution_count": 102,
     "metadata": {},
     "output_type": "execute_result"
    }
   ],
   "source": [
    "id(df[0])"
   ]
  },
  {
   "cell_type": "markdown",
   "id": "dba63fbb",
   "metadata": {},
   "source": [
    "> element wise id is different"
   ]
  },
  {
   "cell_type": "code",
   "execution_count": 100,
   "id": "5965c3d6",
   "metadata": {},
   "outputs": [
    {
     "data": {
      "text/plain": [
       "True"
      ]
     },
     "execution_count": 100,
     "metadata": {},
     "output_type": "execute_result"
    }
   ],
   "source": [
    "id(sharad[0]) == id(sharad[0])"
   ]
  },
  {
   "cell_type": "markdown",
   "id": "4bde7fbc",
   "metadata": {},
   "source": [
    "> How, ouptput is diffenrent but here is True"
   ]
  },
  {
   "cell_type": "markdown",
   "id": "d2a0d3a7",
   "metadata": {},
   "source": [
    "> Hw - Try to find out why ?  actual m"
   ]
  },
  {
   "cell_type": "code",
   "execution_count": 105,
   "id": "66c6de0a",
   "metadata": {},
   "outputs": [
    {
     "data": {
      "text/plain": [
       "False"
      ]
     },
     "execution_count": 105,
     "metadata": {},
     "output_type": "execute_result"
    }
   ],
   "source": [
    "# Hint\n",
    "c = 'IIT'\n",
    "id(c) == id(sharad)"
   ]
  },
  {
   "cell_type": "code",
   "execution_count": null,
   "id": "25498d4e",
   "metadata": {},
   "outputs": [],
   "source": []
  }
 ],
 "metadata": {
  "kernelspec": {
   "display_name": "Python 3 (ipykernel)",
   "language": "python",
   "name": "python3"
  },
  "language_info": {
   "codemirror_mode": {
    "name": "ipython",
    "version": 3
   },
   "file_extension": ".py",
   "mimetype": "text/x-python",
   "name": "python",
   "nbconvert_exporter": "python",
   "pygments_lexer": "ipython3",
   "version": "3.9.12"
  }
 },
 "nbformat": 4,
 "nbformat_minor": 5
}
