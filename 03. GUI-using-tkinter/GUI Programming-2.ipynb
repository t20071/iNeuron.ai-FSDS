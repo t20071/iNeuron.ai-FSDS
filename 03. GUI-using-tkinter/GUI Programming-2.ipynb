{
 "cells": [
  {
   "cell_type": "markdown",
   "metadata": {},
   "source": [
    "# GUI Programming-2      \n",
    "**Saturday, 24 December 2022**"
   ]
  },
  {
   "cell_type": "markdown",
   "metadata": {},
   "source": [
    "### GUI Programming-IV\n",
    "\n",
    "* Buttons\n",
    "* Event Handling\n"
   ]
  },
  {
   "cell_type": "markdown",
   "metadata": {},
   "source": [
    "A Button is a widget which is designed for the user to interact with.\n",
    "\n",
    "\n",
    "This means that if the Button is pressed using mouse/keyboard then some action might be started. \n",
    "\n",
    "\n",
    "This action is coded inside a function or a method\n",
    "\n",
    "\n",
    "Buttons  can also contain text and images like labels.\n"
   ]
  },
  {
   "cell_type": "code",
   "execution_count": 1,
   "metadata": {},
   "outputs": [],
   "source": [
    "from tkinter import *\n",
    "root = Tk()\n",
    "root.geometry('600x200')\n",
    "b1 = Button(root,text='click here') # Button is a method\n",
    "b1.pack() \n",
    "root.mainloop()"
   ]
  },
  {
   "cell_type": "markdown",
   "metadata": {},
   "source": [
    "In the previous code nothing happened when the user clicks on the Button.\n",
    "\n",
    "\n",
    "\n",
    "This is because we did not perform EVENT HANDLING for the Button widget"
   ]
  },
  {
   "cell_type": "markdown",
   "metadata": {},
   "source": [
    "To understand what is Event Handling , we must first understand the word Event.\n",
    "\n",
    "The term Event means any action taken by the user on our GUI app while the app is running.\n",
    "\n",
    "**Examples of events are :**\n",
    "    \n",
    "1. Clicking the button\n",
    "\n",
    "1. Scrolling the mouse\n",
    "\n",
    "1. Typing some text\n",
    "\n",
    "1. Dragging the mouse "
   ]
  },
  {
   "cell_type": "markdown",
   "metadata": {},
   "source": [
    "* Now , the way our app responds to these events is called Event Handling\n",
    "\n",
    "\n",
    "\n",
    "* For example , if on clicking the Button our app displays the text Welcome User in a Label, then this behavior is called Event Handling\n"
   ]
  },
  {
   "cell_type": "markdown",
   "metadata": {},
   "source": [
    "**There are 2 ways to handle events in Python :**\n",
    "\n",
    "\n",
    "Using command attribute    \n",
    "OR    \n",
    "Using bind() method\n"
   ]
  },
  {
   "cell_type": "markdown",
   "metadata": {},
   "source": [
    "> This is the  simplest way of Event Handling.\n",
    "\n",
    "In this we  associate the widget with an event while creating it.\n",
    "\n",
    "For example , while creating a Button we can tell Python what it should do when the Button is clicked\n",
    "\n",
    "This is done by setting a special attribute called command of the Button widget by passing it the name of a function to be called when the Button is clicked\n"
   ]
  },
  {
   "cell_type": "markdown",
   "metadata": {},
   "source": [
    "**To do this we have to take 2 steps:**\n",
    "\n",
    "Define a function containing the code to be executed when the Button is clicked\n",
    "\n",
    "Set the command attribute of the Button widget while creating the Button assigning it the  name of the function which has to be called when the Button is clicked.\n",
    "\n",
    "Now as soon as the Button is clicked by the user , Python will execute the function whose name is passed to the command attribute\n"
   ]
  },
  {
   "cell_type": "markdown",
   "metadata": {},
   "source": [
    "**Que. Write a GUI app that displays a Button titled 'Click here' and soon as the Button is clicked it should display the text Welcome To Python on console**"
   ]
  },
  {
   "cell_type": "code",
   "execution_count": 2,
   "metadata": {},
   "outputs": [
    {
     "name": "stdout",
     "output_type": "stream",
     "text": [
      "My name is Sharad\n"
     ]
    }
   ],
   "source": [
    "# from command attribute\n",
    "from tkinter import * \n",
    "\n",
    "def showmsg():\n",
    "    print('My name is Sharad')\n",
    "    \n",
    "root = Tk()\n",
    "root.geometry('600x200')\n",
    "b1 = Button(root,text = 'click here',command = showmsg)\n",
    "b1.pack()\n",
    "root.mainloop()\n",
    "# after clicking, print will appear on console not on window"
   ]
  },
  {
   "cell_type": "markdown",
   "metadata": {},
   "source": [
    "**Now print message on window after clicking the butoon**"
   ]
  },
  {
   "cell_type": "code",
   "execution_count": 4,
   "metadata": {},
   "outputs": [],
   "source": [
    "from tkinter import *\n",
    "def showmsg():\n",
    "    lbl = Label(root,text = 'My name is Sharad')\n",
    "    lbl.pack()\n",
    "    \n",
    "root = Tk()\n",
    "root.geometry('500x200')\n",
    "\n",
    "lbl = Label(root,text = \"welcome to Python\")\n",
    "b = Button(root,text=\"For Name just click here\",command = showmsg)\n",
    "lbl.pack()\n",
    "b.pack()\n",
    "\n",
    "root.mainloop()"
   ]
  },
  {
   "cell_type": "markdown",
   "metadata": {},
   "source": [
    "Now modify the previous app so that as soon as the Button is clicked it should display the text Welcome To Python in Label\n",
    "\n",
    "Before Button Click\tAfter Button Click\n"
   ]
  },
  {
   "cell_type": "code",
   "execution_count": 5,
   "metadata": {},
   "outputs": [],
   "source": [
    "from tkinter import *\n",
    "\n",
    "def showmsg():\n",
    "    l1=Label(root,text=\"Welcome To Python\")\n",
    "    l1.pack()\n",
    "\n",
    "root = Tk()\n",
    "root.geometry('200x200')\n",
    "b1=Button(root,text=\"Click here\",command=showmsg)\n",
    "b1.pack()\n",
    "root.mainloop()"
   ]
  },
  {
   "cell_type": "markdown",
   "metadata": {},
   "source": [
    "**Que. Write an app containing a Button and as soon as the Button is clicked it should display the current date and time in a Label**\n",
    "\n",
    "Before Button Click\tAfter Button Click"
   ]
  },
  {
   "cell_type": "code",
   "execution_count": 6,
   "metadata": {},
   "outputs": [],
   "source": [
    "# 1st solution\n",
    "from datetime import date\n",
    "today = date.today()\n",
    "\n",
    "from tkinter import * \n",
    "\n",
    "def showmsg():\n",
    "    lbl = Label(root,text = today)\n",
    "    lbl.pack()\n",
    "    \n",
    "root = Tk()\n",
    "root.geometry(\"600x200\")\n",
    "butt = Button(root,text = 'click here for date',command = showmsg)\n",
    "butt.pack()\n",
    "root.mainloop()"
   ]
  },
  {
   "cell_type": "markdown",
   "metadata": {},
   "source": [
    "**In Python we have a module called datetime.**\n",
    "\n",
    "\n",
    "This module contains a class called datetime\n",
    "\n",
    "\n",
    "This class contains a class method called now( ) which returns an object of type datetime containing the current date and time \n"
   ]
  },
  {
   "cell_type": "code",
   "execution_count": 7,
   "metadata": {},
   "outputs": [
    {
     "name": "stdout",
     "output_type": "stream",
     "text": [
      "2022-12-24 16:06:58.252002\n"
     ]
    }
   ],
   "source": [
    "from datetime import *\n",
    "today=datetime.now()\n",
    "print(today)"
   ]
  },
  {
   "cell_type": "markdown",
   "metadata": {},
   "source": [
    "The previous code displayed date and time details but sometimes we may want only a part of the entire date time.\n",
    "\n",
    "For example we just want to display the month name or we just want to get the year.\n"
   ]
  },
  {
   "cell_type": "markdown",
   "metadata": {},
   "source": [
    "**For such kinds of data , the class datetime provides us an instance  method called strftime( )** .\n",
    "\n",
    "This method accepts a pattern representing a particular date/time element and returns a string containing that element\n",
    "\n",
    "Syntax:\n",
    "\n",
    "``` JSON\n",
    "<var_name>=<obj>.strftime(“pattern”)\n",
    "```"
   ]
  },
  {
   "cell_type": "code",
   "execution_count": 8,
   "metadata": {},
   "outputs": [
    {
     "name": "stdout",
     "output_type": "stream",
     "text": [
      "2022-12-24 16:11:01.678475\n",
      "24\n",
      "Dec\n",
      "2022\n"
     ]
    }
   ],
   "source": [
    "from datetime import *\n",
    "\n",
    "today=datetime.now()\n",
    "print(today)\n",
    "\n",
    "day=today.strftime(\"%d\") # this gives day number\n",
    "\n",
    "month=today.strftime(\"%b\") # this gives 3 letter month name\n",
    "\n",
    "year=today.strftime(\"%Y\") # this gives 4 digit year\n",
    "\n",
    "print(day)\n",
    "print(month)\n",
    "print(year)"
   ]
  },
  {
   "cell_type": "markdown",
   "metadata": {},
   "source": [
    "Remember ! These patterns are case sensitive\n",
    "\n",
    "\n",
    "We can also club these patterns by passing them as a single string . For ex:\n",
    "\n",
    "```currdate=today.strftime(“%d-%b-%Y”)```\n",
    "\n",
    "will give \n",
    "\n",
    "6-Jan-2019\n",
    "\n",
    "\n"
   ]
  },
  {
   "cell_type": "code",
   "execution_count": 7,
   "metadata": {},
   "outputs": [],
   "source": [
    "from tkinter import *\n",
    "from datetime import *\n",
    "\n",
    "def showdatetime():\n",
    "    today = datetime.now()\n",
    "    formatdatetime = today.strftime(\"%d-%b-%Y %H:%M:%S %p\")\n",
    "    l1.config(text = formatdatetime )\n",
    "    \n",
    "root = Tk()\n",
    "root.geometry('600x200')\n",
    "b1 = Button(root,text= 'For date and time click here',command = showdatetime)\n",
    "l1 = Label(root,text = 'Welcome today')\n",
    "b1.pack()\n",
    "l1.pack()\n",
    "root.mainloop()"
   ]
  },
  {
   "cell_type": "markdown",
   "metadata": {},
   "source": [
    "**Que. Write a GUI app that has a Button titled “Click Me” . Whenever the user clicks the button , the label should show the number of times the click has occurred.**"
   ]
  },
  {
   "cell_type": "code",
   "execution_count": 8,
   "metadata": {},
   "outputs": [],
   "source": [
    "# sol 1 \n",
    "from tkinter import * \n",
    "count = 0\n",
    "def incrementcount():\n",
    "    global count\n",
    "    count += 1\n",
    "    l1.config(text = str(count))\n",
    "    \n",
    "root = Tk()\n",
    "root.geometry('200x200')\n",
    "b1 = Button(root,text = 'click here',command = incrementcount )\n",
    "l1 = Label(root,text = '0')\n",
    "b1.pack()\n",
    "l1.pack()\n",
    "root.mainloop()"
   ]
  },
  {
   "cell_type": "code",
   "execution_count": null,
   "metadata": {},
   "outputs": [],
   "source": [
    "# sol 2 \n",
    "from datetime import *\n",
    "from tkinter import *\n",
    "\n",
    "today = datetime.now()\n",
    "root=Tk()\n",
    "root.counter = 0\n",
    "\n",
    "def clicked():\n",
    "    root.counter += 1\n",
    "    L['text'] = 'Button clicked: ' + str(root.counter)\n",
    "\n",
    "root.geometry('200x200')\n",
    "b1=Button(root,text='Click Me',command=clicked)\n",
    "b1.pack()\n",
    "L = Label(root, text=\"No clicks yet.\")\n",
    "L.pack()\n",
    "\n",
    "root.mainloop()"
   ]
  },
  {
   "cell_type": "code",
   "execution_count": null,
   "metadata": {},
   "outputs": [],
   "source": [
    "# sol3\n",
    "from tkinter import*\n",
    "import datetime\n",
    "from datetime import date\n",
    "count=0\n",
    "def show():\n",
    "    t1.delete(0, END)\n",
    "    global count\n",
    "    count+=1\n",
    "    t1.insert(0, count)\n",
    "\n",
    "f1 = Tk()\n",
    "\n",
    "f1.title(\"test\")\n",
    "f1.config(bg=\"orange\")\n",
    "f1.geometry(\"600x400+100+100\")\n",
    "\n",
    "l1 = Label(f1, text=\"test1\", font=\"arial 12 bold\", border=2, relief=\"solid\")\n",
    "l1.pack()\n",
    "\n",
    "b1 = Button(f1, text=\"click me \",command=show)\n",
    "b1.pack()\n",
    "t1 = Entry(f1,font=\"arial 12 bold\")\n",
    "t1.pack()\n",
    "\n",
    "f1.mainloop()\n"
   ]
  },
  {
   "cell_type": "markdown",
   "metadata": {},
   "source": [
    "**Redesign the previous code using the property textvariable             \n",
    "Before Button Click\tAfter Button Click**\n"
   ]
  },
  {
   "cell_type": "code",
   "execution_count": 9,
   "metadata": {},
   "outputs": [],
   "source": [
    "from tkinter import *\n",
    "def incrementcount():\n",
    "    count.set(count.get()+1)\n",
    "    \n",
    "root = Tk()\n",
    "root.geometry('200x200')\n",
    "\n",
    "count=IntVar()\n",
    "b1=Button(root,text=\"Click Me\",command=incrementcount)\n",
    "l1=Label(root,textvariable=count)\n",
    "b1.pack()\n",
    "l1.pack()\n",
    "root.mainloop()\n"
   ]
  },
  {
   "cell_type": "markdown",
   "metadata": {},
   "source": [
    "**Que - Write a GUI app that has 3 buttons and 1 label. The buttons should be titled Red, Green and Blue . Now whenever the user clicks on any of the Button change the background color of the Label accordingly. Initially the background color of the Label should be white without any text displayed on it.**\n",
    "\n",
    "Before Button Click\tAfter Button Click\n"
   ]
  },
  {
   "cell_type": "code",
   "execution_count": 9,
   "metadata": {},
   "outputs": [],
   "source": [
    "from tkinter import *\n",
    "\n",
    "def fnRed():\n",
    "    l1['bg'] = 'red'\n",
    "    \n",
    "def fnGreen():\n",
    "    l1['bg'] = 'green'\n",
    "    \n",
    "def fnBlue():\n",
    "    l1['bg'] = 'blue'\n",
    "    \n",
    "root = Tk()\n",
    "l1 = Label(root,height = 3, width = 20, bg = 'white')\n",
    "\n",
    "b1 = Button(root,text = 'Red',width = 6, command = fnRed)\n",
    "b2 = Button(root,text = 'Green',width = 6, command = fnGreen)\n",
    "b3 = Button(root,text = 'Blue',width = 6, command = fnBlue)\n",
    "\n",
    "l1.grid(row=0,column=1)\n",
    "\n",
    "b1.grid(row=1,column=0)\n",
    "b2.grid(row=1,column=1)\n",
    "b3.grid(row=1,column=2)\n",
    "\n",
    "root.mainloop()"
   ]
  },
  {
   "cell_type": "code",
   "execution_count": 18,
   "metadata": {},
   "outputs": [],
   "source": [
    "# sol2\n",
    "from tkinter import *\n",
    "from datetime import date\n",
    "\n",
    "count = 0\n",
    "def red():\n",
    "    l1[\"bg\"] = \"red\"\n",
    "    # l1.config(bg = 'red') can be write also\n",
    "\n",
    "def blue():\n",
    "    l1[\"bg\"] = \"blue\"\n",
    "\n",
    "def green():\n",
    "    l1[\"bg\"] = \"green\"\n",
    "    \n",
    "    \n",
    "root = Tk()\n",
    "root.geometry(\"200x200\")\n",
    "b_red=Button(root, text=\"Red\", command=red)\n",
    "b_green=Button(root, text=\"Green\", command=green)\n",
    "b_blue=Button(root, text=\"Blue\", command=blue)\n",
    "\n",
    "l1=Label(root, bg=\"white\")\n",
    "b_red.pack()\n",
    "b_green.pack()\n",
    "b_blue.pack()\n",
    "l1.pack()\n",
    "root.mainloop()\n"
   ]
  },
  {
   "cell_type": "markdown",
   "metadata": {},
   "source": [
    "**Can you modify the previous code so that the task can be done without defining any function explicitly ?**\n",
    "\n",
    "> Answer:\n",
    "Yes, \n",
    "By using Lambda Function\n"
   ]
  },
  {
   "cell_type": "code",
   "execution_count": 22,
   "metadata": {},
   "outputs": [],
   "source": [
    "# sol 1\n",
    "from tkinter import *\n",
    "root = Tk()\n",
    "\n",
    "l1=Label(root,height=3,width=20,bg=\"white\")\n",
    "\n",
    "b1=Button(root,text=\"Red\",width=6,command=lambda:l1.config(bg=\"red\"))\n",
    "b2=Button(root,text=\"Green\",width=6,command=lambda:l1.config(bg=\"green\"))\n",
    "b3=Button(root,text=\"Blue\",width=6,command=lambda:l1.config(bg=\"blue\"))\n",
    "\n",
    "l1.grid(row=0,column=1)\n",
    "\n",
    "b1.grid(row=1,column=0)\n",
    "b2.grid(row=1,column=1)\n",
    "b3.grid(row=1,column=2)\n",
    "\n",
    "root.mainloop()"
   ]
  },
  {
   "cell_type": "markdown",
   "metadata": {},
   "source": [
    "We cannot write the expression ```l1[\"bg\"]=\"red\"```  \n",
    "\n",
    "here because recall that lambdas don’t accept assignment expressions\n"
   ]
  },
  {
   "cell_type": "code",
   "execution_count": 10,
   "metadata": {},
   "outputs": [],
   "source": [
    "# sol 2\n",
    "def changecolor(args):\n",
    "    if str(args)==\"Red\":\n",
    "        root.configure(width=6,bg='red')\n",
    "    elif str(args)==\"Green\":\n",
    "        root.configure(width=10,bg='green')\n",
    "    elif str(args)==\"Blue\":\n",
    "        root.configure(width=12,bg='blue')\n",
    "    else:\n",
    "        root.configure(bg='white')\n",
    "\n",
    "from tkinter import *\n",
    "root = Tk()\n",
    "root.geometry('200x200')\n",
    "    \n",
    "b1 = Button(root,text=\"Red\", command=lambda: changecolor(\"Red\"))\n",
    "b1.pack()\n",
    "    \n",
    "b2=  Button(root,text=\"Blue\", command=lambda: changecolor(\"Blue\"))\n",
    "b2.pack()\n",
    "    \n",
    "b3=  Button(root,text=\"Green\", command=lambda: changecolor(\"Green\"))\n",
    "b3.pack()\n",
    "    \n",
    "l1=Label(root,text=\"The background color\")\n",
    "l1.pack()\n",
    "    \n",
    "root.mainloop()\n"
   ]
  }
 ],
 "metadata": {
  "kernelspec": {
   "display_name": "Python 3 (ipykernel)",
   "language": "python",
   "name": "python3"
  },
  "language_info": {
   "codemirror_mode": {
    "name": "ipython",
    "version": 3
   },
   "file_extension": ".py",
   "mimetype": "text/x-python",
   "name": "python",
   "nbconvert_exporter": "python",
   "pygments_lexer": "ipython3",
   "version": "3.9.12"
  }
 },
 "nbformat": 4,
 "nbformat_minor": 4
}
