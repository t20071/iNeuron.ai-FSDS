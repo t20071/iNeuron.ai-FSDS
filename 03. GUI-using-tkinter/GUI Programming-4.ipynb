{
 "cells": [
  {
   "cell_type": "markdown",
   "metadata": {},
   "source": [
    "# GUI Programming-4\n",
    "**Monday, 26 December 2022**\n",
    "\n",
    "### GUI Programming-V\n",
    "Using bind( ) Method           \n",
    "Using Entry Widget\n"
   ]
  },
  {
   "cell_type": "markdown",
   "metadata": {},
   "source": [
    "#### bind( ) Method\n",
    "Python provides us another more powerful way of event handling using a method called bind( ).\n",
    "\n",
    "This method is included in all the widgets and has the following syntax:\n",
    "\n",
    "Syntax:\n",
    "``` JSON\n",
    "<obj_name>.bind(“<event>”,handler)\n",
    "```\n",
    "**event :** A case sensitive string that contains details about which event to listen for, this must be given in the following format:\"<modifier>\". \n",
    "\n",
    "**handler** The name of the function to call when the event occurs\n"
   ]
  },
  {
   "cell_type": "markdown",
   "metadata": {},
   "source": [
    "**The function** name which is passed as second argument to the method bind() should have the following syntax:\n",
    "\n",
    "Syntax:\n",
    "\n",
    "``` JSON\n",
    "def fun_name(e): \n",
    "    # some code\n",
    "```"
   ]
  },
  {
   "cell_type": "markdown",
   "metadata": {},
   "source": [
    "This argument is compulsory as Python passes it while calling the event handler function. It is of class ```tkinter.Event```\n"
   ]
  },
  {
   "cell_type": "markdown",
   "metadata": {},
   "source": [
    "**Que1. Write an app that contains a Button and as soon as it is clicked using any  Mouse Button , the background color of the window should change to red**\n",
    "\n",
    "Before Button Click\tAfter Button Click\n"
   ]
  },
  {
   "attachments": {
    "image.png": {
     "image/png": "[encoded data removed]"
    }
   },
   "cell_type": "markdown",
   "metadata": {},
   "source": [
    "![image.png](attachment:image.png)"
   ]
  },
  {
   "cell_type": "code",
   "execution_count": 6,
   "metadata": {},
   "outputs": [],
   "source": [
    "# my solution \n",
    "from tkinter import *\n",
    "def show():\n",
    "    root.config(bg = 'red')\n",
    "    \n",
    "root = Tk()\n",
    "root.geometry('300x300')\n",
    "\n",
    "b1 = Button(root,text = 'click here',command = show)\n",
    "b1.pack()\n",
    "\n",
    "root.mainloop()"
   ]
  },
  {
   "cell_type": "code",
   "execution_count": 10,
   "metadata": {},
   "outputs": [],
   "source": [
    "# my solution using lambda function\n",
    "from tkinter import *\n",
    "\n",
    "root = Tk()\n",
    "root.geometry('300x300')\n",
    "\n",
    "b1 = Button(root,text = 'click here',command = lambda: root.config(bg='red'))\n",
    "b1.pack()\n",
    "\n",
    "root.mainloop()"
   ]
  },
  {
   "cell_type": "markdown",
   "metadata": {},
   "source": [
    "> above solution, red the screen by only left click"
   ]
  },
  {
   "cell_type": "code",
   "execution_count": 15,
   "metadata": {},
   "outputs": [],
   "source": [
    "# using bind() method - 1\n",
    "from tkinter import *\n",
    "\n",
    "def changecolor(e):\n",
    "    root.config(bg=\"red\")\n",
    "\n",
    "root = Tk()\n",
    "root.geometry('200x200')\n",
    "\n",
    "b1=Button(root,text=\"Click here\")\n",
    "\n",
    "b1.bind(\"<Button-1>\",changecolor)\n",
    "b1.pack()\n",
    "\n",
    "root.mainloop()"
   ]
  },
  {
   "cell_type": "code",
   "execution_count": 16,
   "metadata": {},
   "outputs": [],
   "source": [
    "# using bind() method - 2 (the perfect one)\n",
    "from tkinter import *\n",
    "root = Tk()\n",
    "\n",
    "root.geometry('200x200')\n",
    "\n",
    "b1=Button(root,text=\"Click Me\")\n",
    "\n",
    "b1.bind(\"<Button>\",lambda e: root.config(bg=\"red\"))\n",
    "b1.pack()\n",
    "\n",
    "root.mainloop()"
   ]
  },
  {
   "cell_type": "markdown",
   "metadata": {},
   "source": [
    "``` json\n",
    "b1.bind(\"<Button>\",changecolor)\n",
    "```\n",
    "The first argument is type of event that we wish to bind and it can be user actions like Button (for mouse clicks using any mouse button), and Key( for key press), or many other events like  Enter, Leave,FocusIn,FocusOut etc.\n",
    "\n",
    "1. Button - Any mouse button pressed\n",
    "1. Button-1 - Left mouse button pressed\n",
    "1. Button-2 - Middle mouse button pressed\n",
    "1. Button-3 - Right mouse button pressed        \n",
    "\n",
    "The second argument is the function name to be called when the event occurs."
   ]
  },
  {
   "cell_type": "markdown",
   "metadata": {},
   "source": [
    "``` JSON\n",
    "def changecolor(e):\n",
    "    root.config(bg=\"red\")\n",
    "```\n",
    "\n",
    "The argument e is called event object and it is a standard Python object instance, with a number of attributes describing the event.\n"
   ]
  },
  {
   "cell_type": "markdown",
   "metadata": {},
   "source": [
    "**Que2. Write an app that contains a Button and as soon as the Button is left clicked it should change the background color of the window to red and if it is right clicked the background color of the window should be come blue ?**"
   ]
  },
  {
   "cell_type": "code",
   "execution_count": 19,
   "metadata": {},
   "outputs": [],
   "source": [
    "from tkinter import *\n",
    "\n",
    "root = Tk()\n",
    "root.geometry('300x300')\n",
    "\n",
    "b1 = Button(root,text = 'click here')\n",
    "\n",
    "b1.bind(\"<Button-1>\",lambda e:root.config(bg = 'red'))\n",
    "b1.bind(\"<Button-3>\",lambda e:root.config(bg = 'Green' ))\n",
    "\n",
    "\n",
    "b1.pack()\n",
    "\n",
    "root.mainloop()"
   ]
  },
  {
   "cell_type": "markdown",
   "metadata": {},
   "source": [
    "**Que 3. Write an app that displays a window of 200 x 200 size. Now whenever the user presses ENTER key on the window the background color should become red and on pressing ESCAPE key the window should retain it’s original color?**"
   ]
  },
  {
   "cell_type": "code",
   "execution_count": 21,
   "metadata": {},
   "outputs": [],
   "source": [
    "from tkinter import * \n",
    "old = \"\"\n",
    "root = Tk()\n",
    "root.geometry('200x200')\n",
    "\n",
    "root.bind(\"<Return>\",lambda e: root.config(bg='red'))\n",
    "root.bind(\"<Escape>\",lambda e: root.config(bg = 'SystemButtonFace'))\n",
    "\n",
    "root.mainloop()"
   ]
  },
  {
   "cell_type": "code",
   "execution_count": null,
   "metadata": {},
   "outputs": [],
   "source": [
    "# using ChatGpt\n",
    "import tkinter as tk\n",
    "\n",
    "# Create the main window\n",
    "root = tk.Tk()\n",
    "root.geometry(\"200x200\")\n",
    "\n",
    "# Create a function to change the background color\n",
    "def change_color(event):\n",
    "    if event.keysym == \"Return\":\n",
    "        root.configure(bg=\"red\")\n",
    "    elif event.keysym == \"Escape\":\n",
    "        root.configure(bg=\"white\")\n",
    "\n",
    "# Bind the \"change_color\" function to the key press event\n",
    "root.bind(\"<KeyPress>\", change_color)\n",
    "\n",
    "# Run the main loop\n",
    "root.mainloop()"
   ]
  },
  {
   "cell_type": "code",
   "execution_count": 22,
   "metadata": {},
   "outputs": [
    {
     "name": "stdout",
     "output_type": "stream",
     "text": [
      "SystemButtonFace\n"
     ]
    }
   ],
   "source": [
    "# from class\n",
    "from tkinter import *\n",
    "oldcolor=\"\"\n",
    "\n",
    "def enterkey(e):\n",
    "    root.config(bg=\"red\")\n",
    "\n",
    "def escapekey(e):\n",
    "    root.config(bg=\"SystemButtonFace\")\n",
    "\n",
    "root = Tk()\n",
    "root.geometry('200x200')\n",
    "b1=Button(root,text=\"Click Me\")\n",
    "root.bind(\"<Return>\",enterkey)\n",
    "root.bind(\"<Escape>\",escapekey)\n",
    "oldcolor=root[\"bg\"]\n",
    "print(oldcolor)\n",
    "b1.pack()\n",
    "root.mainloop()"
   ]
  },
  {
   "cell_type": "markdown",
   "metadata": {},
   "source": [
    "**Que 4. Write an app that displays a window of 200 x 200 size. Now whenever the user presses any key on the window the code should check whether it is “r” , “g” or “b” and change the  background color of the window accordingly?**"
   ]
  },
  {
   "cell_type": "code",
   "execution_count": 26,
   "metadata": {},
   "outputs": [],
   "source": [
    "# from me\n",
    "from tkinter import *\n",
    "\n",
    "root= Tk()\n",
    "root.geometry('200x200')\n",
    "\n",
    "b1 = Button(root, text=\"Enter keys - 'r', 'g, or 'b' \")\n",
    "b1.pack()\n",
    "\n",
    "root.bind('<r>',lambda e:root.config(bg='red'))\n",
    "root.bind('<g>',lambda e:root.config(bg='green'))\n",
    "root.bind('<b>',lambda e:root.config(bg='blue'))\n",
    "\n",
    "root.mainloop()"
   ]
  },
  {
   "cell_type": "code",
   "execution_count": 24,
   "metadata": {},
   "outputs": [],
   "source": [
    "# sol 2\n",
    "#event handling - enter key\n",
    "from tkinter import *\n",
    "\n",
    "def clickme(e):\n",
    "    f1.config(bg=\"red\")\n",
    "def clickme1(e):\n",
    "    f1.config(bg=\"green\")\n",
    "def clickme2(e):\n",
    "    f1.config(bg=\"blue\")\n",
    "\n",
    "f1 = Tk()\n",
    "f1.geometry(\"200x200\")\n",
    "\n",
    "b1 = Button(f1, text=\"Enter keys - 'r', 'g, or 'b' \")\n",
    "b1.pack()\n",
    "f1.bind(\"r\",clickme)\n",
    "f1.bind(\"g\",clickme1)\n",
    "f1.bind(\"b\",clickme2)\n",
    "\n",
    "f1.mainloop()\n"
   ]
  },
  {
   "cell_type": "code",
   "execution_count": 5,
   "metadata": {},
   "outputs": [],
   "source": [
    "# sol 3\n",
    "from tkinter import *\n",
    "oldcolor = \"\"\n",
    "root = Tk()\n",
    "def red_bg(e):\n",
    "    root.config(bg = \"red\")\n",
    "def green_bg(e):\n",
    "    root.config(bg = \"green\")\n",
    "def blue_bg(e):\n",
    "    root.config(bg = \"blue\")\n",
    "def escapekey(e):\n",
    "    root.config(bg = oldcolor)\n",
    "\n",
    "root.geometry(\"200x200\")\n",
    "root.bind(\"<r>\",red_bg)\n",
    "root.bind(\"<g>\",green_bg)\n",
    "root.bind(\"<b>\",blue_bg)\n",
    "root.bind(\"<Escape>\",escapekey)\n",
    "oldcolor = root[\"bg\"]\n",
    "root.mainloop()\n"
   ]
  },
  {
   "cell_type": "code",
   "execution_count": 25,
   "metadata": {},
   "outputs": [],
   "source": [
    "# sol 4\n",
    "from tkinter import *\n",
    "\n",
    "oldcolor = \"\"\n",
    "\n",
    "def r(e):\n",
    "    root.config(bg=\"red\")\n",
    "    \n",
    "def g(e):\n",
    "    root.config(bg= \"green\")\n",
    "    \n",
    "def b(e):\n",
    "    root.config(bg= \"blue\")\n",
    "def escapekey(e):\n",
    "    root.config(bg= oldcolor)\n",
    "    \n",
    "root = Tk()\n",
    "root.geometry(\"200x200\")\n",
    "root.bind(\"<r>\", r)\n",
    "root.bind(\"<g>\", g)\n",
    "root.bind(\"<b>\", b)\n",
    "root.bind(\"<Escape>\", escapekey)\n",
    "oldcolor = root[\"bg\"]\n",
    "\n",
    "root.mainloop()"
   ]
  },
  {
   "cell_type": "code",
   "execution_count": 3,
   "metadata": {},
   "outputs": [],
   "source": [
    "# sol 5\n",
    "from tkinter import *\n",
    "oldcolor=\"\"\n",
    "\n",
    "def pressr(e):\n",
    "    root.config(bg=\"red\")\n",
    "\n",
    "def pressg(e):\n",
    "    root.config(bg=\"green\")\n",
    "    \n",
    "def pressb(e):\n",
    "    root.config(bg=\"blue\")\n",
    "\n",
    "root = Tk()\n",
    "root.geometry('200x200')\n",
    "b1=Button(root,text=\"Click Me\")\n",
    "root.bind(\"<r>\",pressr)\n",
    "root.bind(\"<g>\",pressg)\n",
    "root.bind(\"<b>\",pressb)\n",
    "b1.pack()\n",
    "root.mainloop()\n"
   ]
  },
  {
   "cell_type": "code",
   "execution_count": 4,
   "metadata": {},
   "outputs": [],
   "source": [
    "# sol 6\n",
    "def presskey(e):\n",
    "    if e.keysym == 'r':\n",
    "        root.config(bg='red')\n",
    "    elif e.keysym == 'g':\n",
    "        root.config(bg='green')\n",
    "    elif e.keysym == 'b':\n",
    "        root.config(bg='blue')\n",
    "    \n",
    "import tkinter\n",
    "root = tkinter.Tk()\n",
    "root.geometry('200x200')\n",
    "root.bind('<KeyRelease>',presskey)\n",
    "root.mainloop()\n"
   ]
  },
  {
   "cell_type": "markdown",
   "metadata": {},
   "source": [
    "**To solve the above problem** , we have to do 2 things:\n",
    "\n",
    "\n",
    "Set the event handler for ```\"<Key>\"``` event\n",
    "\n",
    "Capture the key and check whether it is “r” , “g” or “b” and then change the background color accordingly.\n",
    "\n",
    "This can be done by using attributes of the event object passed as argument to the event handler function by Python\n"
   ]
  },
  {
   "cell_type": "code",
   "execution_count": 27,
   "metadata": {},
   "outputs": [],
   "source": [
    "# sol 7\n",
    "from tkinter import *\n",
    "def changecolor(e):\n",
    "    ch=e.char\n",
    "    if ch==\"r\":\n",
    "        root.config(bg=\"red\")\n",
    "    elif ch==\"b\":\n",
    "        root.config(bg=\"blue\")\n",
    "    elif ch==\"g\":\n",
    "        root.config(bg=\"green\")\n",
    "\n",
    "root = Tk()\n",
    "root.geometry('200x200')\n",
    "root.bind(\"<Key>\",changecolor)\n",
    "root.mainloop()\n"
   ]
  },
  {
   "cell_type": "markdown",
   "metadata": {},
   "source": [
    "**Entry** widget is the basic widget of Tkinter used to get input, i.e. text strings, from the user of an application.\n",
    "\n",
    "\n",
    "This widget allows the user to enter a single line of text.\n",
    "\n",
    "\n",
    "If the user enters a string, which is longer than the available display space of the widget, the content will be scrolled.\n",
    "\n",
    "If we want to enter multiple lines of text, we have to use the Text widget "
   ]
  },
  {
   "cell_type": "code",
   "execution_count": 28,
   "metadata": {},
   "outputs": [],
   "source": [
    "from tkinter import *\n",
    "root = Tk()\n",
    "root.geometry(\"200x200\")\n",
    "\n",
    "l1=Label(root, text=\"First Name\")\n",
    "l2=Label(root, text=\"Last Name\")\n",
    "\n",
    "e1 = Entry(root)\n",
    "e2 = Entry(root)\n",
    "\n",
    "l1.grid(row=0,column=0)\n",
    "l2.grid(row=1,column=0)\n",
    "e1.grid(row=0, column=1)\n",
    "e2.grid(row=1, column=1)\n",
    "\n",
    "root.mainloop( )"
   ]
  },
  {
   "cell_type": "code",
   "execution_count": 1,
   "metadata": {},
   "outputs": [
    {
     "name": "stdout",
     "output_type": "stream",
     "text": [
      "enter name: sharad\n",
      "enter last name: pardhe\n"
     ]
    },
    {
     "data": {
      "text/plain": [
       "'sharad pardhe'"
      ]
     },
     "execution_count": 1,
     "metadata": {},
     "output_type": "execute_result"
    }
   ],
   "source": [
    "a=input(\"enter name: \")\n",
    "b=input(\"enter last name: \")\n",
    "a +\" \" +  b"
   ]
  },
  {
   "cell_type": "markdown",
   "metadata": {},
   "source": [
    "The text property doesn’t work with Entry widget , so to fetch the data from Entry widget , we have 2 ways:\n",
    "\n",
    "\n",
    "1. Using it’s get() method\n",
    "\n",
    "OR\n",
    "\n",
    "2. Using Var class (StringVar, IntVar etc) objects\n"
   ]
  },
  {
   "cell_type": "markdown",
   "metadata": {},
   "source": [
    "**The Entry** widget provides us get() method which returns contents of the widget as a string value.\n",
    "\n",
    "\n",
    "Syntax:\n",
    "``` json\n",
    "var_name=<obj>.get()\n",
    "```\n",
    "Example:\n",
    "``` json\n",
    "s = e1.get()\n",
    "```\n",
    "Assume , e1 is the object of  Entry \n"
   ]
  },
  {
   "cell_type": "markdown",
   "metadata": {},
   "source": [
    "If we associate the Var objects with the Entry widget , then we can fetch the data of Entry widget by calling the get() method of these Var objects\n",
    "\n",
    "Syntax:\n",
    "``` json\n",
    "var_name=<obj>.get()\n",
    "```\n",
    "Example:\n",
    "``` json\n",
    "s = msg.get()\n",
    "```\n",
    "Assume , msg is the object of  any of the Var classes like StringVar or IntVar and is associated with Entry widget\n"
   ]
  },
  {
   "cell_type": "markdown",
   "metadata": {},
   "source": [
    "**Que5. Modify the previous app by adding 2 Buttons titled “Show” and “Quit”and a Label. When the user presses the first Button , the app should display firstname and lastname concatenated as a single string in the Label and when the user presses “Quit” the app should terminate?**\n"
   ]
  },
  {
   "attachments": {
    "image.png": {
     "image/png": "[encoded data removed]"
    }
   },
   "cell_type": "markdown",
   "metadata": {},
   "source": [
    "![image.png](attachment:image.png)"
   ]
  },
  {
   "attachments": {
    "image.png": {
     "image/png": "[encoded data removed]"
    }
   },
   "cell_type": "markdown",
   "metadata": {},
   "source": [
    "![image.png](attachment:image.png)"
   ]
  },
  {
   "cell_type": "markdown",
   "metadata": {},
   "source": [
    "We have 2 ways to terminate our Python app:\n",
    "\n",
    "By calling ```root.destroy()```: The method ```destroy()``` just terminates the mainloop() and deletes all widgets\n",
    "\n",
    "By calling ```sys.exit(0)```: The function ```sys.exit(0)``` stops all active applications used by Python\n"
   ]
  },
  {
   "cell_type": "code",
   "execution_count": 2,
   "metadata": {},
   "outputs": [],
   "source": [
    "# sol1\n",
    "from tkinter import * \n",
    "\n",
    "def Quit():\n",
    "    root.destroy()\n",
    "    \n",
    "def show():\n",
    "    first_name = e1.get()\n",
    "    last_name = e2.get()\n",
    "    name = first_name + ' ' + last_name\n",
    "    l3.config(text = name )\n",
    "    \n",
    "    \n",
    "root = Tk()\n",
    "root.geometry('200x200')\n",
    "\n",
    "l1 = Label(root,text = 'First Name')\n",
    "l2 = Label(root,text = 'Last Name')\n",
    "l3 = Label(root,text = '',width=20,anchor=W,font=\"Arial 10 bold\")\n",
    "\n",
    "\n",
    "\n",
    "e1 = Entry(root)\n",
    "e2 = Entry(root)\n",
    "\n",
    "b1 = Button(root,text = 'Show' ,command = show)\n",
    "b2 = Button(root,text = 'Quit',command = Quit )\n",
    "\n",
    "l1.grid(row = 0,column = 0)\n",
    "l2.grid(row = 1,column = 0)\n",
    "l3.grid(row=2,columnspan=2,sticky=W)\n",
    "\n",
    "\n",
    "e1.grid(row = 0,column = 1)\n",
    "e2.grid(row = 1,column = 1)\n",
    "\n",
    "b1.grid(row = 3,column = 0)\n",
    "b2.grid(row = 3,column = 1)\n",
    "\n",
    "root.mainloop()"
   ]
  },
  {
   "cell_type": "code",
   "execution_count": 3,
   "metadata": {},
   "outputs": [],
   "source": [
    "# sol2\n",
    "from tkinter import *\n",
    "def finish():\n",
    "    root.destroy()\n",
    "def show():\n",
    "    a = str(e1.get())\n",
    "    b = str(e2.get())\n",
    "    e3.insert(0,a+b)\n",
    "    \n",
    "root = Tk()\n",
    "l1=Label(root, text=\"First Name\")\n",
    "l2=Label(root, text=\"Last Name\")\n",
    "l3=Label(root,width=20,anchor=W,font=\"Arial 10 bold\")\n",
    "\n",
    "e1 = Entry(root)\n",
    "e2 = Entry(root)\n",
    "e3 = Entry(root)\n",
    "\n",
    "b1=Button(root, text='Show', command=show)\n",
    "b2=Button(root, text='Quit', command=finish)\n",
    "\n",
    "l1.grid(row=0,column=0)\n",
    "l2.grid(row=1,column=0)\n",
    "l3.grid(row=2,columnspan=2,sticky=W)\n",
    "\n",
    "e1.grid(row=0, column=1)\n",
    "e2.grid(row=1, column=1)\n",
    "e3.grid(row=2, column=1)\n",
    "\n",
    "b1.grid(row=3, column=0, sticky=W, pady=4)\n",
    "b2.grid(row=3, column=1, sticky=W, pady=4)\n",
    "\n",
    "root.mainloop( )\n"
   ]
  },
  {
   "cell_type": "code",
   "execution_count": 4,
   "metadata": {},
   "outputs": [],
   "source": [
    "# sol3\n",
    "from tkinter import *\n",
    "\n",
    "def finish():\n",
    "    root.destroy()\n",
    "\n",
    "def show():\n",
    "    l3.config(text=e1.get()+\" \"+e2.get())\n",
    "\n",
    "root = Tk()\n",
    "\n",
    "l1=Label(root, text=\"First Name\")\n",
    "l2=Label(root, text=\"Last Name\")\n",
    "l3=Label(root,width=20,anchor=W,font=\"Arial 10 bold\")\n",
    "\n",
    "e1 = Entry(root)\n",
    "e2 = Entry(root)\n",
    "\n",
    "b1=Button(root, text='Show', command=show)\n",
    "b2=Button(root, text='Quit', command=finish)\n",
    "\n",
    "l1.grid(row=0,column=0)\n",
    "l2.grid(row=1,column=0)\n",
    "l3.grid(row=2,columnspan=2,sticky=W)\n",
    "\n",
    "e1.grid(row=0, column=1)\n",
    "e2.grid(row=1, column=1)\n",
    "\n",
    "b1.grid(row=3, column=0, sticky=W, pady=4)\n",
    "b2.grid(row=3, column=1, sticky=W, pady=4)\n",
    "root.mainloop( )"
   ]
  },
  {
   "cell_type": "code",
   "execution_count": 6,
   "metadata": {},
   "outputs": [],
   "source": [
    "# sol4\n",
    "from tkinter import *\n",
    "import sys\n",
    "def finish():\n",
    "    sys.exit(0) # can also be root.destroy()\n",
    "\n",
    "def show():\n",
    "    fname=e1.get()\n",
    "    lname=e2.get()\n",
    "    l3.config(text=fname+\" \"+lname)\n",
    "\n",
    "root = Tk()\n",
    "\n",
    "l1=Label(root, text=\"First Name\")\n",
    "l2=Label(root, text=\"Last Name\")\n",
    "l3=Label(root,width=20,anchor=W,font=\"Arial 10 bold\")\n",
    "\n",
    "e1 = Entry(root)\n",
    "e2 = Entry(root)\n",
    "\n",
    "b1=Button(root, text='Show', command=show)\n",
    "b2=Button(root, text='Quit', command=finish)\n",
    "\n",
    "l1.grid(row=0,column=0)\n",
    "l2.grid(row=1,column=0)\n",
    "l3.grid(row=2,columnspan=2,sticky=W)\n",
    "\n",
    "e1.grid(row=0, column=1)\n",
    "e2.grid(row=1, column=1)\n",
    "\n",
    "b1.grid(row=3, column=0, sticky=W, pady=4)\n",
    "b2.grid(row=3, column=1, sticky=W, pady=4)\n",
    "\n",
    "root.mainloop( )"
   ]
  },
  {
   "cell_type": "code",
   "execution_count": 7,
   "metadata": {},
   "outputs": [],
   "source": [
    "from tkinter import *\n",
    "import sys\n",
    "def finish():\n",
    "    sys.exit(0) # can also be root.destroy()\n",
    "\n",
    "def show():\n",
    "    fname=s1.get()\n",
    "    lname=s2.get()\n",
    "    l3.config(text=fname+\" \"+lname)\n",
    "\n",
    "root = Tk()\n",
    "\n",
    "l1=Label(root, text=\"First Name\")\n",
    "l2=Label(root, text=\"Last Name\")\n",
    "l3=Label(root,width=20,anchor=W,font=\"Arial 10 bold\")\n",
    "\n",
    "s1=StringVar()\n",
    "s2=StringVar()\n",
    "\n",
    "e1 = Entry(root,textvariable=s1)\n",
    "e2 = Entry(root,textvariable=s2)\n",
    "\n",
    "b1=Button(root, text='Show', command=show)\n",
    "b2=Button(root, text='Quit', command=finish)\n",
    "\n",
    "l1.grid(row=0,column=0)\n",
    "l2.grid(row=1,column=0)\n",
    "l3.grid(row=2,columnspan=2,sticky=W)\n",
    "\n",
    "\n",
    "e1.grid(row=0, column=1)\n",
    "e2.grid(row=1, column=1)\n",
    "\n",
    "b1.grid(row=3, column=0, sticky=W, pady=4)\n",
    "b2.grid(row=3, column=1, sticky=W, pady=4)\n",
    "\n",
    "root.mainloop( )\n"
   ]
  },
  {
   "cell_type": "markdown",
   "metadata": {},
   "source": [
    "#### insert( )\n",
    "To set text in the Entry widget , we have to call the method insert().\n",
    "\n",
    "Syntax:\n",
    "```json\n",
    "<obj>.insert(index,text)\n",
    "```\n",
    "What is index ?\n",
    "\n",
    "index is the position in the text field where the text is to be inserted \n",
    "\n",
    "It can have any valid index starting from 0 or INSERT to indicate the current cursor pos or END to indicate end of the string\n"
   ]
  },
  {
   "cell_type": "markdown",
   "metadata": {},
   "source": [
    "**Example:**\n",
    "``` json\n",
    "e1.insert(0, \"Hello\")\n",
    "```\n",
    "The above code will set the text “Hello” at 0th index in the Entry widget\n",
    "\n",
    "Example:\n",
    "``` json\n",
    "e1.insert(END, \"Hi\")\n",
    "```\n",
    "The above code will append the text “Hello” at the end of the current text in  the Entry widget\n"
   ]
  },
  {
   "cell_type": "markdown",
   "metadata": {},
   "source": [
    "### delete( )\n",
    "To erase text in the Entry widget , we have to call the method delete( ) .\n",
    "\n",
    "Syntax:\n",
    "``` json\n",
    "<obj>.delete(first,last)\n",
    "```\n",
    "first : Starting index from where deletion should begin\n",
    "\n",
    "last: Optional end index. If omitted, only a single character is removed"
   ]
  },
  {
   "cell_type": "markdown",
   "metadata": {},
   "source": [
    "Example:\n",
    "``` json\n",
    "e1.insert(0, \"Bhopal\")\n",
    "e1.delete(0,3)\n",
    "```\n",
    "The above code will delete first 3 letters ( from index 0 to index  2) from the Entry widget.\n",
    "\n",
    "Example:\n",
    "``` json\n",
    "e1.insert(0, \"Bhopal\")\n",
    "e1.delete(0,END)\n",
    "```\n",
    "The above code will clear the entire Entry wiget\n"
   ]
  },
  {
   "cell_type": "markdown",
   "metadata": {},
   "source": [
    "**Que6. Modify the previous app by replacing the Label with the Entry widget as shown . The behavior of the app should remain same**\n",
    "\n"
   ]
  },
  {
   "cell_type": "code",
   "execution_count": 4,
   "metadata": {},
   "outputs": [],
   "source": [
    "from tkinter import *\n",
    "import sys\n",
    "def finish():\n",
    "      sys.exit(0)\n",
    "def show():\n",
    "    pass\n",
    "\n",
    "\n",
    "root = Tk()\n",
    "l1=Label(root, text=\"First Name\")\n",
    "l2=Label(root, text=\"Last Name\")\n",
    "l3=Label(root,text=\"You Typed\")\n",
    "\n",
    "e1 = Entry(root)\n",
    "e2 = Entry(root)\n",
    "e3=Entry(root)\n",
    "\n",
    "b1=Button(root, text='Show', command=show)\n",
    "b2=Button(root, text='Quit', command=finish)\n",
    "\n",
    "l1.grid(row=0,column=0,sticky=W)\n",
    "l2.grid(row=1,column=0,sticky=W)\n",
    "l3.grid(row=2,column=0,sticky=W)\n",
    "\n",
    "e1.grid(row=0, column=1)\n",
    "e2.grid(row=1, column=1)\n",
    "e3.grid(row=2,column=1)\n",
    "\n",
    "b1.grid(row=3, column=0, sticky=W, pady=4)\n",
    "b2.grid(row=3, column=1, sticky=W, pady=4)\n",
    "root.mainloop( )"
   ]
  },
  {
   "cell_type": "code",
   "execution_count": 5,
   "metadata": {},
   "outputs": [],
   "source": [
    "from tkinter import *\n",
    "import sys\n",
    "\n",
    "def finish():\n",
    "    sys.exit(0)\n",
    "def show():\n",
    "    fname=e1.get()\n",
    "    lname=e2.get()\n",
    "    e3.delete(0,END)\n",
    "    e3.insert(0,fname+\" \"+lname)\n",
    "\n",
    "root = Tk()\n",
    "l1=Label(root, text=\"First Name\")\n",
    "l2=Label(root, text=\"Last Name\")\n",
    "l3=Label(root,text=\"You Typed\")\n",
    "\n",
    "e1 = Entry(root)\n",
    "e2 = Entry(root)\n",
    "e3=Entry(root)\n",
    "\n",
    "b1=Button(root, text='Show', command=show)\n",
    "b2=Button(root, text='Quit', command=finish\n",
    "         )\n",
    "l1.grid(row=0,column=0,sticky=W)\n",
    "l2.grid(row=1,column=0,sticky=W)\n",
    "l3.grid(row=2,column=0,sticky=W)\n",
    "e1.grid(row=0, column=1)\n",
    "e2.grid(row=1, column=1)\n",
    "e3.grid(row=2,column=1)\n",
    "\n",
    "b1.grid(row=3, column=0, sticky=W, pady=4)\n",
    "b2.grid(row=3, column=1, sticky=W, pady=4)\n",
    "root.mainloop( )"
   ]
  },
  {
   "cell_type": "markdown",
   "metadata": {},
   "source": [
    "**Que 6.1 Can you rewrite the previous code so that we don’t have call the delete() method ?**"
   ]
  },
  {
   "cell_type": "code",
   "execution_count": 6,
   "metadata": {},
   "outputs": [],
   "source": [
    "from tkinter import *\n",
    "import sys\n",
    "\n",
    "def finish():\n",
    "    sys.exit(0)\n",
    "def show():\n",
    "    fname=e1.get()\n",
    "    lname=e2.get()\n",
    "    s.set(fname+\" \"+lname)\n",
    "\n",
    "root = Tk()\n",
    "l1=Label(root, text=\"First Name\")\n",
    "l2=Label(root, text=\"Last Name\")\n",
    "l3=Label(root,text=\"You Typed\")\n",
    "\n",
    "e1 = Entry(root)\n",
    "e2 = Entry(root)\n",
    "s=StringVar()\n",
    "e3=Entry(root,textvariable=s) \n",
    "\n",
    "b1=Button(root, text='Show', command=show)\n",
    "b2=Button(root, text='Quit', command=finish)\n",
    "\n",
    "l1.grid(row=0,column=0,sticky=W)\n",
    "l2.grid(row=1,column=0,sticky=W)\n",
    "l3.grid(row=2,column=0,sticky=W)\n",
    "\n",
    "e1.grid(row=0, column=1)\n",
    "e2.grid(row=1, column=1)\n",
    "e3.grid(row=2,column=1)\n",
    "\n",
    "b1.grid(row=3, column=0, sticky=W, pady=4)\n",
    "b2.grid(row=3, column=1, sticky=W, pady=4)\n",
    "\n",
    "root.mainloop()"
   ]
  },
  {
   "cell_type": "markdown",
   "metadata": {},
   "source": [
    "**Que7. Write a GUI app to accept 2 integers from the user and display their division. Create the GUI as shown below and make sure to handle all the exception code can throw?**"
   ]
  },
  {
   "cell_type": "code",
   "execution_count": 12,
   "metadata": {},
   "outputs": [],
   "source": [
    "# sol1 my sol\n",
    "from tkinter import * \n",
    "\n",
    "def Quit():\n",
    "    root.destroy()\n",
    "    \n",
    "def divide():\n",
    "    first_number = int(e1.get())\n",
    "    second_number = int(e2.get())\n",
    "    \n",
    "    try:\n",
    "        divide = first_number/second_number\n",
    "    except Exception as e:\n",
    "        divide = str(e)\n",
    "        \n",
    "    e3.insert(0,divide)\n",
    "    \n",
    "def clear():\n",
    "    e1.delete(0, END)\n",
    "    e2.delete(0, END)\n",
    "    e3.delete(0, END)\n",
    "\n",
    "    \n",
    "    \n",
    "root = Tk()\n",
    "root.geometry('600x600')\n",
    "\n",
    "l1 = Label(root,text = 'First Number')\n",
    "l2 = Label(root,text = 'second number')\n",
    "l3 = Label(root,text = 'Result')\n",
    "\n",
    "\n",
    "e1 = Entry(root)\n",
    "e2 = Entry(root)\n",
    "e3 = Entry(root)\n",
    "\n",
    "b1 = Button(root,text = 'divide' ,command = divide)\n",
    "b2 = Button(root,text = 'Quit',command = Quit )\n",
    "b3 = Button(root,text = 'clear', command = clear)\n",
    "\n",
    "l1.grid(row = 0,column = 0)\n",
    "l2.grid(row = 1,column = 0)\n",
    "l3.grid(row = 2,column = 0)\n",
    "\n",
    "\n",
    "e1.grid(row = 0,column = 1)\n",
    "e2.grid(row = 1,column = 1)\n",
    "e3.grid(row = 2,column = 1)\n",
    "\n",
    "b1.grid(row = 3,column = 0)\n",
    "b2.grid(row = 3,column = 1)\n",
    "b3.grid(row = 3,column = 3)\n",
    "\n",
    "root.mainloop()"
   ]
  },
  {
   "cell_type": "code",
   "execution_count": 13,
   "metadata": {},
   "outputs": [],
   "source": [
    "# sol2\n",
    "from tkinter import *\n",
    "\n",
    "def divide():\n",
    "    a = float(e1.get())\n",
    "    b = float(e2.get())\n",
    "    divide = a/b\n",
    "    e3.insert(0,divide)\n",
    "def clear():\n",
    "    e1.delete(0, END)\n",
    "    e2.delete(0, END)\n",
    "    e3.delete(0, END)\n",
    "def finish():\n",
    "    root.destroy()\n",
    "    \n",
    "root = Tk()\n",
    "root.geometry('400x200+100+200')\n",
    "\n",
    "l1=Label(root, text=\"Number Division Program\",font=\"Arial 18 bold\")\n",
    "l2=Label(root, text=\"First No:\")\n",
    "l3=Label(root, text=\"Second No:\")\n",
    "l4=Label(root,text=\"Result:\")\n",
    "\n",
    "e1=Entry(root)\n",
    "e2=Entry(root)\n",
    "e3=Entry(root)\n",
    "\n",
    "b1=Button(root,text=\"Divide\",command=divide)\n",
    "b2=Button(root,text=\"Clear\",command=clear)\n",
    "b3=Button(root,text=\"Quit\",command=finish)\n",
    "\n",
    "l1.grid(row=0,column=0,columnspan=4)\n",
    "l2.grid(row=1,column=0,sticky=E)\n",
    "e1.grid(row=1,column=1)\n",
    "l3.grid(row=2,column=0,sticky=E)\n",
    "e2.grid(row=2,column=1)\n",
    "l4.grid(row=3,column=0,sticky=E)\n",
    "e3.grid(row=3,column=1)\n",
    "b1.grid(row=4,column=0,pady=5,padx=5,sticky=E+W)\n",
    "b2.grid(row=4,column=1,pady=5,padx=5,sticky=E+W)\n",
    "b3.grid(row=4,column=2,pady=5,padx=5,sticky=E+W)\n",
    "\n",
    "root.mainloop()\n"
   ]
  },
  {
   "cell_type": "code",
   "execution_count": 17,
   "metadata": {},
   "outputs": [],
   "source": [
    "# sol3\n",
    "from tkinter import *\n",
    "def divide():\n",
    "    try:\n",
    "        e3.delete(0, END)\n",
    "        e3.config(fg=\"red\")\n",
    "        a=int(e1.get())\n",
    "        b=int(e2.get())\n",
    "        c=a/b\n",
    "        e3.config(fg=\"green\")\n",
    "        e3.insert(0,str(c))\n",
    "    except ZeroDivisionError:\n",
    "        e3.insert(0,\"Divide by 0!\")\n",
    "    except ValueError:\n",
    "        e3.insert(0,\"Only digits allowed!\")\n",
    "\n",
    "def clear():\n",
    "    e1.delete(0, END)\n",
    "    e2.delete(0, END)\n",
    "    e3.delete(0, END)\n",
    "    e1.focus()\n",
    "\n",
    "def finish():\n",
    "    root.destroy()\n",
    "\n",
    "root = Tk()\n",
    "root.geometry('400x200+100+200')\n",
    "\n",
    "l1=Label(root, text=\"Number Division Program\",font=\"Arial 18 bold\")\n",
    "l2=Label(root, text=\"First No:\")\n",
    "l3=Label(root, text=\"Second No:\")\n",
    "l4=Label(root,text=\"Result:\")\n",
    "\n",
    "e1=Entry(root)\n",
    "e2=Entry(root)\n",
    "e3=Entry(root)\n",
    "\n",
    "b1=Button(root,text=\"Divide\",command=divide)\n",
    "b2=Button(root,text=\"Clear\",command=clear)\n",
    "b3=Button(root,text=\"Quit\",command=finish)\n",
    "\n",
    "l1.grid(row=0,column=0,columnspan=4)\n",
    "l2.grid(row=1,column=0,sticky=E)\n",
    "e1.grid(row=1,column=1)\n",
    "l3.grid(row=2,column=0,sticky=E)\n",
    "e2.grid(row=2,column=1)\n",
    "l4.grid(row=3,column=0,sticky=E)\n",
    "e3.grid(row=3,column=1)\n",
    "\n",
    "b1.grid(row=4,column=0,pady=5,padx=5,sticky=E+W)\n",
    "b2.grid(row=4,column=1,pady=5,padx=5,sticky=E+W)\n",
    "b3.grid(row=4,column=2,pady=5,padx=5,sticky=E+W)\n",
    "root.mainloop()"
   ]
  },
  {
   "cell_type": "markdown",
   "metadata": {},
   "source": [
    "**Que9. Rewrite the same app using Var classes?**"
   ]
  },
  {
   "cell_type": "code",
   "execution_count": 3,
   "metadata": {},
   "outputs": [],
   "source": [
    "from tkinter import *\n",
    "def divide():\n",
    "    try:\n",
    "        c.set(\"\")\n",
    "        e3.config(fg=\"red\")\n",
    "        c.set(a.get()/b.get())\n",
    "        e3.config(fg=\"green\")\n",
    "    except ZeroDivisionError:\n",
    "        c.set(\"Divide by 0\")\n",
    "    except ValueError:\n",
    "        c.set(\"Only digits allowed!\")\n",
    "    \n",
    "def clear():\n",
    "    a.set(\"\")\n",
    "    b.set(\"\")\n",
    "    c.set(\"\")\n",
    "    e1.focus()\n",
    "def finish():\n",
    "    root.destroy()\n",
    "    \n",
    "root = Tk()\n",
    "root.geometry('400x200+100+200')\n",
    "\n",
    "a=IntVar()\n",
    "b=IntVar()\n",
    "c=IntVar()\n",
    "\n",
    "a.set(\"\")\n",
    "b.set(\"\")\n",
    "c.set(\"\")\n",
    "\n",
    "l1=Label(root, text=\"Number Division Program\",font=\"Arial 18 bold\")\n",
    "l2=Label(root, text=\"First No:\")\n",
    "l3=Label(root, text=\"Second No:\")\n",
    "l4=Label(root,text=\"Result:\")\n",
    "\n",
    "e1=Entry(root,textvariable=a)\n",
    "e2=Entry(root,textvariable=b)\n",
    "e3=Entry(root,textvariable=c)\n",
    "\n",
    "b1=Button(root,text=\"Divide\",command=divide)\n",
    "b2=Button(root,text=\"Clear\",command=clear)\n",
    "b3=Button(root,text=\"Quit\",command=finish)\n",
    "\n",
    "l1.grid(row=0,column=0,columnspan=4)\n",
    "l2.grid(row=1,column=0,sticky=E)\n",
    "e1.grid(row=1,column=1)\n",
    "l3.grid(row=2,column=0,sticky=E)\n",
    "e2.grid(row=2,column=1)\n",
    "l4.grid(row=3,column=0,sticky=E)\n",
    "e3.grid(row=3,column=1)\n",
    "\n",
    "b1.grid(row=4,column=0,pady=5,padx=5,sticky=E+W)\n",
    "b2.grid(row=4,column=1,pady=5,padx=5,sticky=E+W)\n",
    "b3.grid(row=4,column=2,pady=5,padx=5,sticky=E+W)\n",
    "root.mainloop()"
   ]
  }
 ],
 "metadata": {
  "kernelspec": {
   "display_name": "Python 3 (ipykernel)",
   "language": "python",
   "name": "python3"
  },
  "language_info": {
   "codemirror_mode": {
    "name": "ipython",
    "version": 3
   },
   "file_extension": ".py",
   "mimetype": "text/x-python",
   "name": "python",
   "nbconvert_exporter": "python",
   "pygments_lexer": "ipython3",
   "version": "3.9.12"
  }
 },
 "nbformat": 4,
 "nbformat_minor": 4
}
