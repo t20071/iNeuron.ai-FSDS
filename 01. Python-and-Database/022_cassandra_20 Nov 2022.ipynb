{
 "cells": [
  {
   "cell_type": "markdown",
   "id": "ec4f3ada",
   "metadata": {},
   "source": [
    "# Cassandra \n",
    "[lecture link](https://www.youtube.com/watch?v=FE-ft3m6d_o)    \n",
    "**Sunday, 20 November 2022**"
   ]
  },
  {
   "cell_type": "markdown",
   "id": "c3182a97",
   "metadata": {},
   "source": [
    "# Steps for local - No need to done local setup\n",
    "1. [java installation](https://www.oracle.com/in/java/technologies/javase/javase8-archive-downloads.html)\n",
    "1. [cassandra installation](https://www.apache.org/dyn/closer.lua/cassandra/3.11.14/apache-cassandra-3.11.14-bin.tar.gz)"
   ]
  },
  {
   "cell_type": "markdown",
   "id": "79504cfe",
   "metadata": {},
   "source": [
    "# Cloud setup :\n",
    "[go to link](https://astra.datastax.com/org/88c35d40-5aaf-4aea-b9ca-58b2595345f1/database/3e734e19-7371-4e9e-96c1-62da78743318/summary) 2:15:25 / 3:42:18"
   ]
  },
  {
   "cell_type": "code",
   "execution_count": 1,
   "id": "bb1d6de6",
   "metadata": {},
   "outputs": [
    {
     "name": "stdout",
     "output_type": "stream",
     "text": [
      "Collecting cassandra-driver\n",
      "  Downloading cassandra-driver-3.25.0.tar.gz (289 kB)\n",
      "Requirement already satisfied: six>=1.9 in c:\\users\\hp\\anaconda3\\lib\\site-packages (from cassandra-driver) (1.16.0)\n",
      "Collecting geomet<0.3,>=0.1\n",
      "  Downloading geomet-0.2.1.post1-py3-none-any.whl (18 kB)\n",
      "Requirement already satisfied: click in c:\\users\\hp\\anaconda3\\lib\\site-packages (from geomet<0.3,>=0.1->cassandra-driver) (8.0.4)\n",
      "Requirement already satisfied: colorama in c:\\users\\hp\\anaconda3\\lib\\site-packages (from click->geomet<0.3,>=0.1->cassandra-driver) (0.4.4)\n",
      "Building wheels for collected packages: cassandra-driver\n",
      "  Building wheel for cassandra-driver (setup.py): started\n",
      "  Building wheel for cassandra-driver (setup.py): finished with status 'done'\n",
      "  Created wheel for cassandra-driver: filename=cassandra_driver-3.25.0-cp39-cp39-win_amd64.whl size=329419 sha256=0f70bb3ecb4681791d5742997cee67cd1479e095ac00eebc5aacab8ff134ae36\n",
      "  Stored in directory: c:\\users\\hp\\appdata\\local\\pip\\cache\\wheels\\3d\\bd\\75\\12875d7c70c5b18e8738c9e06f2d3f5b752fa372917c663fcc\n",
      "Successfully built cassandra-driver\n",
      "Installing collected packages: geomet, cassandra-driver\n",
      "Successfully installed cassandra-driver-3.25.0 geomet-0.2.1.post1\n"
     ]
    }
   ],
   "source": [
    "! pip install cassandra-driver"
   ]
  },
  {
   "cell_type": "code",
   "execution_count": 1,
   "id": "b1ac9949",
   "metadata": {},
   "outputs": [
    {
     "name": "stdout",
     "output_type": "stream",
     "text": [
      "3.25.0\n"
     ]
    }
   ],
   "source": [
    "import cassandra\n",
    "print (cassandra.__version__)"
   ]
  },
  {
   "cell_type": "markdown",
   "id": "5c18ea46",
   "metadata": {},
   "source": [
    "# Creating a connection on cloud\n",
    "Create a connect_database.py file in the main directory for your Python project:    \n",
    "Copy the following connection code into the connect_database.py file:      \n",
    "2:28:00 / 3:42:18"
   ]
  },
  {
   "cell_type": "code",
   "execution_count": 1,
   "id": "021d9737",
   "metadata": {},
   "outputs": [
    {
     "name": "stdout",
     "output_type": "stream",
     "text": [
      "4.0.0.6816\n"
     ]
    }
   ],
   "source": [
    "from cassandra.cluster import Cluster\n",
    "from cassandra.auth import PlainTextAuthProvider\n",
    "\n",
    "cloud_config= {\n",
    "         'secure_connect_bundle': 'D:\\secure-connect-test.zip'\n",
    "}\n",
    "auth_provider = PlainTextAuthProvider('cQMbupayaMKiLiqGfJfSPbyp', 'tl9emRqUI730dH,ctLlJv0HwuFYcOkuhw2t+GiwkUFDbifndZTdupGxL1RWguA,nw6._M9ierwLzme-3SrUEOgGu9.1o1ohhUjfM9Jzvd5BNnZbTi1DvnhcFIIdX7XM8')\n",
    "cluster = Cluster(cloud=cloud_config, auth_provider=auth_provider)\n",
    "session = cluster.connect()\n",
    "\n",
    "row = session.execute(\"select release_version from system.local\").one()\n",
    "if row:\n",
    "      print(row[0])\n",
    "else:\n",
    "      print(\"An error occurred.\")"
   ]
  },
  {
   "cell_type": "markdown",
   "id": "134e298e",
   "metadata": {},
   "source": [
    "Ensure you use your App Token's Client ID, Client Secret, and path/to/secure-connect-database_name.zip with the path to your SCB. You can download it by clicking on the Download Bundle button at the top of this page.\n",
    "\n",
    "This code creates a Cluster instance to connect to your Astra DB, runs a CQL query, and prints the output to the console. As the name suggests, you will typically have one instance of Cluster for each Cassandra cluster you want to interact with."
   ]
  },
  {
   "cell_type": "markdown",
   "id": "30adc70d",
   "metadata": {},
   "source": [
    "# For offline connection \n",
    "\n",
    "```  JSON\n",
    "from cassandra.clustor import Cluster \n",
    "\n",
    "cluster = Cluster()\n",
    "\n",
    "session_offline = cluster.connect \n",
    "\n",
    "row = session.execute(\"select release_version from system.local\").one()\n",
    "if row:\n",
    "      print(row[0])\n",
    "else:\n",
    "      print(\"An error occurred.\")\n",
    "```"
   ]
  },
  {
   "cell_type": "markdown",
   "id": "3fc98cb2",
   "metadata": {},
   "source": [
    "### Creating a table emp1 in ineuron keyspace that we have created manually through UI\n",
    "\n",
    "```ineuron``` keyspace is in ```test``` database that we have created during the setup."
   ]
  },
  {
   "cell_type": "code",
   "execution_count": 2,
   "id": "f98fef6d",
   "metadata": {},
   "outputs": [
    {
     "name": "stdout",
     "output_type": "stream",
     "text": [
      "None\n"
     ]
    }
   ],
   "source": [
    "from cassandra.cluster import Cluster\n",
    "from cassandra.auth import PlainTextAuthProvider\n",
    "\n",
    "cloud_config= {\n",
    "         'secure_connect_bundle': 'D:\\secure-connect-test.zip'\n",
    "}\n",
    "auth_provider = PlainTextAuthProvider('cQMbupayaMKiLiqGfJfSPbyp', 'tl9emRqUI730dH,ctLlJv0HwuFYcOkuhw2t+GiwkUFDbifndZTdupGxL1RWguA,nw6._M9ierwLzme-3SrUEOgGu9.1o1ohhUjfM9Jzvd5BNnZbTi1DvnhcFIIdX7XM8')\n",
    "cluster = Cluster(cloud=cloud_config, auth_provider=auth_provider)\n",
    "session = cluster.connect()\n",
    "row=session.execute(\"CREATE TABLE ineuron.emp(emp_id int PRIMARY KEY,emp_name text,emp_city text,emp_salary varint,emp_phone varint);\").one()\n",
    "print(row)"
   ]
  },
  {
   "cell_type": "markdown",
   "id": "c7a5ad85",
   "metadata": {},
   "source": [
    "```ineuron.emp``` table has been created"
   ]
  },
  {
   "cell_type": "markdown",
   "id": "ba04c29d",
   "metadata": {},
   "source": [
    "<img src=\"Capture.PNG\" style = \"width:600px;height:400px\">"
   ]
  },
  {
   "cell_type": "markdown",
   "id": "3ca4754d",
   "metadata": {},
   "source": [
    "<img src=\"Capture2.PNG\" style = \"width:600px;height:400px\">"
   ]
  },
  {
   "cell_type": "markdown",
   "id": "d903a1b8",
   "metadata": {},
   "source": [
    "90% command of cassandra is same as sql"
   ]
  },
  {
   "cell_type": "code",
   "execution_count": 3,
   "id": "e2a3b9b5",
   "metadata": {},
   "outputs": [],
   "source": [
    "q = \"insert into ineuron.emp(emp_id,emp_city,emp_name,emp_phone,emp_salary) values(20071,'MANDI','SHARAD',4892375,23000000)\"\n",
    "row = session.execute(q)"
   ]
  },
  {
   "cell_type": "code",
   "execution_count": 4,
   "id": "fc4efe8e",
   "metadata": {},
   "outputs": [
    {
     "name": "stdout",
     "output_type": "stream",
     "text": [
      "Row(emp_id=20071, emp_city='MANDI', emp_name='SHARAD', emp_phone=4892375, emp_salary=23000000)\n"
     ]
    }
   ],
   "source": [
    "q = \"select * from ineuron.emp\"\n",
    "row = session.execute(q)\n",
    "for i in row:\n",
    "    print(i)"
   ]
  },
  {
   "cell_type": "markdown",
   "id": "6d763d53",
   "metadata": {},
   "source": [
    "# From the start \n",
    "``` JSON \n",
    "# create keyspace in database\n",
    "row = session.execute(\"CREATE KEYSPACE home WITH replication = {'class': 'SimpleStrategy', 'replication_factor' : 4};\")\n",
    "\n",
    "#use keyspace\n",
    "row=session.execute(\"use home;\")\n",
    "\n",
    "#dropping the keyspace\n",
    "row=session.execute(\"DROP KEYSPACE home;\")\n",
    "\n",
    "# Creating table emp2 in keyspace ineuron\n",
    "row=session.execute(\"CREATE TABLE ineuron.emp2(emp_id int PRIMARY KEY,emp_name text,emp_city text,emp_salary varint,emp_phone varint);\").one()\n",
    "\n",
    "```\n"
   ]
  },
  {
   "cell_type": "code",
   "execution_count": 5,
   "id": "c247f209",
   "metadata": {},
   "outputs": [],
   "source": [
    "# insert value in table emp\n",
    "q = \"insert into ineuron.emp(emp_id,emp_city,emp_name,emp_phone,emp_salary) values(20071,'MANDI','SHARAD',4892375,23000000)\"\n",
    "row = session.execute(q)\n",
    "q = \"insert into ineuron.emp(emp_id,emp_city,emp_name,emp_phone,emp_salary) values(20072,'MANDI','Nitin',4892375,23000000)\"\n",
    "row = session.execute(q)\n",
    "q = \"insert into ineuron.emp(emp_id,emp_city,emp_name,emp_phone,emp_salary) values(20073,'MANDI','Vinay',4892375,23000000)\"\n",
    "row = session.execute(q)\n",
    "q = \"insert into ineuron.emp(emp_id,emp_city,emp_name,emp_phone,emp_salary) values(20074,'MANDI','Mukesh',4892375,23000000)\"\n",
    "row = session.execute(q)\n",
    "q = \"insert into ineuron.emp(emp_id,emp_city,emp_name,emp_phone,emp_salary) values(20075,'MANDI','Anjani',4892375,23000000)\"\n",
    "row = session.execute(q)"
   ]
  },
  {
   "cell_type": "code",
   "execution_count": 6,
   "id": "1b81ba97",
   "metadata": {},
   "outputs": [
    {
     "name": "stdout",
     "output_type": "stream",
     "text": [
      "Row(emp_id=20075, emp_city='MANDI', emp_name='Anjani', emp_phone=4892375, emp_salary=23000000)\n",
      "Row(emp_id=20072, emp_city='MANDI', emp_name='Nitin', emp_phone=4892375, emp_salary=23000000)\n",
      "Row(emp_id=20073, emp_city='MANDI', emp_name='Vinay', emp_phone=4892375, emp_salary=23000000)\n",
      "Row(emp_id=20074, emp_city='MANDI', emp_name='Mukesh', emp_phone=4892375, emp_salary=23000000)\n",
      "Row(emp_id=20071, emp_city='MANDI', emp_name='SHARAD', emp_phone=4892375, emp_salary=23000000)\n"
     ]
    }
   ],
   "source": [
    "# show all record\n",
    "q = \"select * from ineuron.emp\"\n",
    "row = session.execute(q)\n",
    "for i in row:\n",
    "    print(i)"
   ]
  },
  {
   "cell_type": "code",
   "execution_count": 7,
   "id": "3cbc1d42",
   "metadata": {},
   "outputs": [],
   "source": [
    "#alter existing table (adding more columns to table)\n",
    "row=session.execute(\"ALTER TABLE ineuron.emp ADD email varchar;\")"
   ]
  },
  {
   "cell_type": "code",
   "execution_count": 8,
   "id": "d93fd732",
   "metadata": {},
   "outputs": [
    {
     "name": "stdout",
     "output_type": "stream",
     "text": [
      "Row(emp_id=20075, email=None, emp_city='MANDI', emp_name='Anjani', emp_phone=4892375, emp_salary=23000000)\n",
      "Row(emp_id=20072, email=None, emp_city='MANDI', emp_name='Nitin', emp_phone=4892375, emp_salary=23000000)\n",
      "Row(emp_id=20073, email=None, emp_city='MANDI', emp_name='Vinay', emp_phone=4892375, emp_salary=23000000)\n",
      "Row(emp_id=20074, email=None, emp_city='MANDI', emp_name='Mukesh', emp_phone=4892375, emp_salary=23000000)\n",
      "Row(emp_id=20071, email=None, emp_city='MANDI', emp_name='SHARAD', emp_phone=4892375, emp_salary=23000000)\n"
     ]
    }
   ],
   "source": [
    "q = \"select * from ineuron.emp\"\n",
    "row = session.execute(q)\n",
    "for i in row:\n",
    "    print(i)"
   ]
  },
  {
   "cell_type": "code",
   "execution_count": 9,
   "id": "297b7542",
   "metadata": {},
   "outputs": [
    {
     "data": {
      "text/plain": [
       "<cassandra.cluster.ResultSet at 0x1c30f00f2b0>"
      ]
     },
     "execution_count": 9,
     "metadata": {},
     "output_type": "execute_result"
    }
   ],
   "source": [
    "# updata the data \n",
    "q = \"UPDATE ineuron.emp SET emp_name = 'BABA' WHERE emp_id = 20072;\"\n",
    "session.execute(q)"
   ]
  },
  {
   "cell_type": "code",
   "execution_count": 10,
   "id": "b1935fa4",
   "metadata": {},
   "outputs": [
    {
     "name": "stdout",
     "output_type": "stream",
     "text": [
      "Row(emp_id=20075, email=None, emp_city='MANDI', emp_name='Anjani', emp_phone=4892375, emp_salary=23000000)\n",
      "Row(emp_id=20072, email=None, emp_city='MANDI', emp_name='BABA', emp_phone=4892375, emp_salary=23000000)\n",
      "Row(emp_id=20073, email=None, emp_city='MANDI', emp_name='Vinay', emp_phone=4892375, emp_salary=23000000)\n",
      "Row(emp_id=20074, email=None, emp_city='MANDI', emp_name='Mukesh', emp_phone=4892375, emp_salary=23000000)\n",
      "Row(emp_id=20071, email=None, emp_city='MANDI', emp_name='SHARAD', emp_phone=4892375, emp_salary=23000000)\n"
     ]
    }
   ],
   "source": [
    "q = \"select * from ineuron.emp\"\n",
    "row = session.execute(q)\n",
    "for i in row:\n",
    "    print(i)"
   ]
  },
  {
   "cell_type": "markdown",
   "id": "7d0dd8bd",
   "metadata": {},
   "source": [
    "# allow filtering"
   ]
  },
  {
   "cell_type": "code",
   "execution_count": 11,
   "id": "145f2504",
   "metadata": {},
   "outputs": [
    {
     "name": "stdout",
     "output_type": "stream",
     "text": [
      "Row(emp_id=20071, email=None, emp_city='MANDI', emp_name='SHARAD', emp_phone=4892375, emp_salary=23000000)\n"
     ]
    }
   ],
   "source": [
    "q = \"select * from ineuron.emp where emp_name = 'SHARAD' allow filtering\"\n",
    "row = session.execute(q)\n",
    "for i in row:\n",
    "    print(i)"
   ]
  },
  {
   "cell_type": "code",
   "execution_count": 12,
   "id": "d7feb631",
   "metadata": {},
   "outputs": [
    {
     "name": "stdout",
     "output_type": "stream",
     "text": [
      "Row(emp_id=20075, email=None, emp_city='MANDI', emp_name='Anjani', emp_phone=4892375, emp_salary=23000000)\n",
      "Row(emp_id=20073, email=None, emp_city='MANDI', emp_name='Vinay', emp_phone=4892375, emp_salary=23000000)\n",
      "Row(emp_id=20074, email=None, emp_city='MANDI', emp_name='Mukesh', emp_phone=4892375, emp_salary=23000000)\n"
     ]
    }
   ],
   "source": [
    "q = \"select * from ineuron.emp where emp_id >= 20073 allow filtering\"\n",
    "row = session.execute(q)\n",
    "for i in row:\n",
    "    print(i)"
   ]
  },
  {
   "cell_type": "markdown",
   "id": "b8fd03a8",
   "metadata": {},
   "source": [
    "# delete"
   ]
  },
  {
   "cell_type": "code",
   "execution_count": 13,
   "id": "44d6cc7d",
   "metadata": {},
   "outputs": [
    {
     "data": {
      "text/plain": [
       "<cassandra.cluster.ResultSet at 0x1c30ef3a6d0>"
      ]
     },
     "execution_count": 13,
     "metadata": {},
     "output_type": "execute_result"
    }
   ],
   "source": [
    "q = \"delete from ineuron.emp where emp_id = 20072;\"\n",
    "session.execute(q)"
   ]
  },
  {
   "cell_type": "code",
   "execution_count": 14,
   "id": "232cda08",
   "metadata": {},
   "outputs": [
    {
     "name": "stdout",
     "output_type": "stream",
     "text": [
      "Row(emp_id=20075, email=None, emp_city='MANDI', emp_name='Anjani', emp_phone=4892375, emp_salary=23000000)\n",
      "Row(emp_id=20073, email=None, emp_city='MANDI', emp_name='Vinay', emp_phone=4892375, emp_salary=23000000)\n",
      "Row(emp_id=20074, email=None, emp_city='MANDI', emp_name='Mukesh', emp_phone=4892375, emp_salary=23000000)\n",
      "Row(emp_id=20071, email=None, emp_city='MANDI', emp_name='SHARAD', emp_phone=4892375, emp_salary=23000000)\n"
     ]
    }
   ],
   "source": [
    "q = \"select * from ineuron.emp\"\n",
    "row = session.execute(q)\n",
    "for i in row:\n",
    "    print(i)"
   ]
  },
  {
   "cell_type": "markdown",
   "id": "9cbe6dd1",
   "metadata": {},
   "source": [
    "### Aggregation"
   ]
  },
  {
   "cell_type": "code",
   "execution_count": 15,
   "id": "3a2591e4",
   "metadata": {},
   "outputs": [
    {
     "name": "stdout",
     "output_type": "stream",
     "text": [
      "Row(count=4)\n"
     ]
    }
   ],
   "source": [
    "row = session.execute(\"SELECT COUNT(*) FROM ineuron.emp;\").one()\n",
    "print(row)"
   ]
  },
  {
   "cell_type": "code",
   "execution_count": 16,
   "id": "30cf525d",
   "metadata": {},
   "outputs": [
    {
     "name": "stdout",
     "output_type": "stream",
     "text": [
      "Row(system_max_emp_id=20075)\n"
     ]
    }
   ],
   "source": [
    "row = session.execute(\"SELECT MAX(EMP_ID) FROM ineuron.emp;\").one()\n",
    "print(row)"
   ]
  },
  {
   "cell_type": "markdown",
   "id": "d0cbe242",
   "metadata": {},
   "source": [
    "# TRUNCATE "
   ]
  },
  {
   "cell_type": "code",
   "execution_count": 17,
   "id": "3145cd8d",
   "metadata": {},
   "outputs": [],
   "source": [
    "#truncating (removing all data from table)\n",
    "row=session.execute(\"TRUNCATE ineuron.emp;\")"
   ]
  },
  {
   "cell_type": "code",
   "execution_count": 18,
   "id": "296095b4",
   "metadata": {},
   "outputs": [],
   "source": [
    "q = \"select * from ineuron.emp\"\n",
    "row = session.execute(q)\n",
    "for i in row:\n",
    "    print(i)\n",
    "# in truncate data will be deleted but table won't"
   ]
  },
  {
   "cell_type": "markdown",
   "id": "650ce3c1",
   "metadata": {},
   "source": [
    "# Drop \n",
    "In drop table will entirely delete"
   ]
  },
  {
   "cell_type": "code",
   "execution_count": 19,
   "id": "8626e4c0",
   "metadata": {},
   "outputs": [
    {
     "data": {
      "text/plain": [
       "<cassandra.cluster.ResultSet at 0x1c30ef5acd0>"
      ]
     },
     "execution_count": 19,
     "metadata": {},
     "output_type": "execute_result"
    }
   ],
   "source": [
    "session.execute(\"drop TABLE if exists ineuron.emp;\")"
   ]
  },
  {
   "cell_type": "code",
   "execution_count": 20,
   "id": "8be3ca78",
   "metadata": {},
   "outputs": [
    {
     "ename": "InvalidRequest",
     "evalue": "Error from server: code=2200 [Invalid query] message=\"table ineuron.emp does not exist\"",
     "output_type": "error",
     "traceback": [
      "\u001b[1;31m---------------------------------------------------------------------------\u001b[0m",
      "\u001b[1;31mInvalidRequest\u001b[0m                            Traceback (most recent call last)",
      "Input \u001b[1;32mIn [20]\u001b[0m, in \u001b[0;36m<cell line: 2>\u001b[1;34m()\u001b[0m\n\u001b[0;32m      1\u001b[0m q \u001b[38;5;241m=\u001b[39m \u001b[38;5;124m\"\u001b[39m\u001b[38;5;124mselect * from ineuron.emp\u001b[39m\u001b[38;5;124m\"\u001b[39m\n\u001b[1;32m----> 2\u001b[0m row \u001b[38;5;241m=\u001b[39m \u001b[43msession\u001b[49m\u001b[38;5;241;43m.\u001b[39;49m\u001b[43mexecute\u001b[49m\u001b[43m(\u001b[49m\u001b[43mq\u001b[49m\u001b[43m)\u001b[49m\n\u001b[0;32m      3\u001b[0m \u001b[38;5;28;01mfor\u001b[39;00m i \u001b[38;5;129;01min\u001b[39;00m row:\n\u001b[0;32m      4\u001b[0m     \u001b[38;5;28mprint\u001b[39m(i)\n",
      "File \u001b[1;32m~\\anaconda3\\lib\\site-packages\\cassandra\\cluster.py:2618\u001b[0m, in \u001b[0;36mSession.execute\u001b[1;34m(self, query, parameters, timeout, trace, custom_payload, execution_profile, paging_state, host, execute_as)\u001b[0m\n\u001b[0;32m   2575\u001b[0m \u001b[38;5;28;01mdef\u001b[39;00m \u001b[38;5;21mexecute\u001b[39m(\u001b[38;5;28mself\u001b[39m, query, parameters\u001b[38;5;241m=\u001b[39m\u001b[38;5;28;01mNone\u001b[39;00m, timeout\u001b[38;5;241m=\u001b[39m_NOT_SET, trace\u001b[38;5;241m=\u001b[39m\u001b[38;5;28;01mFalse\u001b[39;00m,\n\u001b[0;32m   2576\u001b[0m             custom_payload\u001b[38;5;241m=\u001b[39m\u001b[38;5;28;01mNone\u001b[39;00m, execution_profile\u001b[38;5;241m=\u001b[39mEXEC_PROFILE_DEFAULT,\n\u001b[0;32m   2577\u001b[0m             paging_state\u001b[38;5;241m=\u001b[39m\u001b[38;5;28;01mNone\u001b[39;00m, host\u001b[38;5;241m=\u001b[39m\u001b[38;5;28;01mNone\u001b[39;00m, execute_as\u001b[38;5;241m=\u001b[39m\u001b[38;5;28;01mNone\u001b[39;00m):\n\u001b[0;32m   2578\u001b[0m     \u001b[38;5;124;03m\"\"\"\u001b[39;00m\n\u001b[0;32m   2579\u001b[0m \u001b[38;5;124;03m    Execute the given query and synchronously wait for the response.\u001b[39;00m\n\u001b[0;32m   2580\u001b[0m \n\u001b[1;32m   (...)\u001b[0m\n\u001b[0;32m   2615\u001b[0m \u001b[38;5;124;03m    on a DSE cluster.\u001b[39;00m\n\u001b[0;32m   2616\u001b[0m \u001b[38;5;124;03m    \"\"\"\u001b[39;00m\n\u001b[1;32m-> 2618\u001b[0m     \u001b[38;5;28;01mreturn\u001b[39;00m \u001b[38;5;28;43mself\u001b[39;49m\u001b[38;5;241;43m.\u001b[39;49m\u001b[43mexecute_async\u001b[49m\u001b[43m(\u001b[49m\u001b[43mquery\u001b[49m\u001b[43m,\u001b[49m\u001b[43m \u001b[49m\u001b[43mparameters\u001b[49m\u001b[43m,\u001b[49m\u001b[43m \u001b[49m\u001b[43mtrace\u001b[49m\u001b[43m,\u001b[49m\u001b[43m \u001b[49m\u001b[43mcustom_payload\u001b[49m\u001b[43m,\u001b[49m\u001b[43m \u001b[49m\u001b[43mtimeout\u001b[49m\u001b[43m,\u001b[49m\u001b[43m \u001b[49m\u001b[43mexecution_profile\u001b[49m\u001b[43m,\u001b[49m\u001b[43m \u001b[49m\u001b[43mpaging_state\u001b[49m\u001b[43m,\u001b[49m\u001b[43m \u001b[49m\u001b[43mhost\u001b[49m\u001b[43m,\u001b[49m\u001b[43m \u001b[49m\u001b[43mexecute_as\u001b[49m\u001b[43m)\u001b[49m\u001b[38;5;241;43m.\u001b[39;49m\u001b[43mresult\u001b[49m\u001b[43m(\u001b[49m\u001b[43m)\u001b[49m\n",
      "File \u001b[1;32m~\\anaconda3\\lib\\site-packages\\cassandra\\cluster.py:4894\u001b[0m, in \u001b[0;36mResponseFuture.result\u001b[1;34m(self)\u001b[0m\n\u001b[0;32m   4892\u001b[0m     \u001b[38;5;28;01mreturn\u001b[39;00m ResultSet(\u001b[38;5;28mself\u001b[39m, \u001b[38;5;28mself\u001b[39m\u001b[38;5;241m.\u001b[39m_final_result)\n\u001b[0;32m   4893\u001b[0m \u001b[38;5;28;01melse\u001b[39;00m:\n\u001b[1;32m-> 4894\u001b[0m     \u001b[38;5;28;01mraise\u001b[39;00m \u001b[38;5;28mself\u001b[39m\u001b[38;5;241m.\u001b[39m_final_exception\n",
      "\u001b[1;31mInvalidRequest\u001b[0m: Error from server: code=2200 [Invalid query] message=\"table ineuron.emp does not exist\""
     ]
    }
   ],
   "source": [
    "q = \"select * from ineuron.emp\"\n",
    "row = session.execute(q)\n",
    "for i in row:\n",
    "    print(i)"
   ]
  },
  {
   "cell_type": "markdown",
   "id": "347d2a21",
   "metadata": {},
   "source": [
    "# Insert data from a CSV file to Cassandra DB"
   ]
  },
  {
   "cell_type": "code",
   "execution_count": 36,
   "id": "2761deb5",
   "metadata": {},
   "outputs": [],
   "source": [
    "# create new table car in keyspace ineuron\n",
    "session.execute('create table ineuron.car(buying text PRIMARY KEY, maint text , doors text , persons text , lug_boot text , safety text , class text );').one()"
   ]
  },
  {
   "cell_type": "code",
   "execution_count": 39,
   "id": "e992b668",
   "metadata": {},
   "outputs": [],
   "source": [
    "import csv\n",
    "with open(\"car.data\",'r') as f:\n",
    "    car_data=csv.reader(f,delimiter=',') # delimiter check all the time\n",
    "    for i in car_data:\n",
    "          session.execute(f'insert into ineuron.car(buying, maint, doors, persons, lug_boot, safety, class) values{tuple(i)}')\n"
   ]
  },
  {
   "cell_type": "markdown",
   "id": "6c67baab",
   "metadata": {},
   "source": [
    "### METHOD 2\n",
    "``` JSON\n",
    "import csv\n",
    "with open('car.data','r') as data:\n",
    "    next(data)\n",
    "    data_csv= csv.reader(data,delimiter=',')\n",
    "    #csv reader object\n",
    "    print(data_csv)\n",
    "    all_value= []\n",
    "    for i in data_csv:\n",
    "        session.execute(\"insert into ineuron.car(buying, maint, doors, persons, lug_boot, safety, class) values(%s,%s,%s,%s,%s,%s,%s)\",[i[0],i[1],i[2],i[3],i[4],i[5],i[6]])\n",
    "print('Finished')\n",
    "```"
   ]
  },
  {
   "cell_type": "code",
   "execution_count": 41,
   "id": "04fc1cbf",
   "metadata": {},
   "outputs": [
    {
     "name": "stdout",
     "output_type": "stream",
     "text": [
      "Row(buying='high', field_1_='acc', doors='5more', lug_boot='big', maint='low', persons='more', safety='high')\n",
      "Row(buying='vhigh', field_1_='acc', doors='5more', lug_boot='big', maint='low', persons='more', safety='high')\n",
      "Row(buying='med', field_1_='vgood', doors='5more', lug_boot='big', maint='low', persons='more', safety='high')\n",
      "Row(buying='low', field_1_='vgood', doors='5more', lug_boot='big', maint='low', persons='more', safety='high')\n"
     ]
    }
   ],
   "source": [
    "q = \"select * from ineuron.car\"\n",
    "row = session.execute(q)\n",
    "for i in row:\n",
    "    print(i)"
   ]
  },
  {
   "cell_type": "code",
   "execution_count": 42,
   "id": "e58a1409",
   "metadata": {},
   "outputs": [
    {
     "name": "stdout",
     "output_type": "stream",
     "text": [
      "Row(count=4)\n"
     ]
    }
   ],
   "source": [
    "q = \"select COUNT(*) from ineuron.car\"\n",
    "row = session.execute(q)\n",
    "for i in row:\n",
    "    print(i)"
   ]
  },
  {
   "cell_type": "code",
   "execution_count": 44,
   "id": "6da493d8",
   "metadata": {},
   "outputs": [
    {
     "data": {
      "text/plain": [
       "<cassandra.cluster.ResultSet at 0x1c311dbafd0>"
      ]
     },
     "execution_count": 44,
     "metadata": {},
     "output_type": "execute_result"
    }
   ],
   "source": [
    "session.execute(\"drop TABLE if exists ineuron.car;\")"
   ]
  }
 ],
 "metadata": {
  "kernelspec": {
   "display_name": "Python 3 (ipykernel)",
   "language": "python",
   "name": "python3"
  },
  "language_info": {
   "codemirror_mode": {
    "name": "ipython",
    "version": 3
   },
   "file_extension": ".py",
   "mimetype": "text/x-python",
   "name": "python",
   "nbconvert_exporter": "python",
   "pygments_lexer": "ipython3",
   "version": "3.9.12"
  }
 },
 "nbformat": 4,
 "nbformat_minor": 5
}
