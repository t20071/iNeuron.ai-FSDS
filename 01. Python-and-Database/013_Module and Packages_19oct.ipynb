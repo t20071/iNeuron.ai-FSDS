{
 "cells": [
  {
   "cell_type": "markdown",
   "id": "94dbf711",
   "metadata": {},
   "source": [
    "[Lecture_video](https://www.youtube.com/watch?v=CNv0PUji8AA)\n",
    "\n",
    "Module is collection of code\n",
    "> 19 oct 2022"
   ]
  },
  {
   "cell_type": "code",
   "execution_count": 1,
   "id": "c611cd4e",
   "metadata": {},
   "outputs": [],
   "source": [
    "import os "
   ]
  },
  {
   "cell_type": "code",
   "execution_count": 2,
   "id": "58dfcdd2",
   "metadata": {},
   "outputs": [],
   "source": [
    "def test(a,b):\n",
    "    return a+b # only avilable in this notebook"
   ]
  },
  {
   "cell_type": "code",
   "execution_count": 3,
   "id": "6de4eb40",
   "metadata": {},
   "outputs": [],
   "source": [
    "# type()\n",
    "# print()\n",
    "# len()\n",
    "# create test.py using notepad++ at your pwd and define some function like test1,test2 like this"
   ]
  },
  {
   "cell_type": "code",
   "execution_count": 4,
   "id": "5436ad0f",
   "metadata": {},
   "outputs": [
    {
     "data": {
      "text/plain": [
       "'C:\\\\Users\\\\HP\\\\1AI iNeuron'"
      ]
     },
     "execution_count": 4,
     "metadata": {},
     "output_type": "execute_result"
    }
   ],
   "source": [
    "pwd()"
   ]
  },
  {
   "cell_type": "code",
   "execution_count": 5,
   "id": "63321cd3",
   "metadata": {},
   "outputs": [
    {
     "name": "stdout",
     "output_type": "stream",
     "text": [
      " Volume in drive C is Windows SSD\n",
      " Volume Serial Number is FCA4-BF44\n",
      "\n",
      " Directory of C:\\Users\\HP\\1AI iNeuron\n",
      "\n",
      "19-10-2022  06:01 PM    <DIR>          .\n",
      "19-10-2022  06:01 PM    <DIR>          ..\n",
      "19-10-2022  05:04 PM    <DIR>          .ipynb_checkpoints\n",
      "19-10-2022  05:45 PM    <DIR>          __pycache__\n",
      "19-10-2022  06:01 PM             9,760 03_Module and Packages_19oct.ipynb\n",
      "19-10-2022  04:02 PM             5,902 Assignment_5.ipynb\n",
      "18-10-2022  04:44 PM            11,786 Assignmet_4.ipynb\n",
      "17-10-2022  08:04 AM            19,914 CH6,7 ATBSWP .ipynb\n",
      "17-10-2022  09:53 AM             6,599 Chapter_7_INPUT VALIDATION.ipynb\n",
      "19-10-2022  09:15 AM            10,025 Chapter_9 READING AND WRITING FILES.ipynb\n",
      "19-10-2022  09:52 AM            41,660 Exception Handling_15oct.ipynb\n",
      "18-10-2022  11:08 PM             4,596 logging_18oct.ipynb\n",
      "19-10-2022  05:06 PM               932 test.ipynb\n",
      "19-10-2022  05:16 PM               198 test.py\n",
      "19-10-2022  05:56 PM                 0 test2.py\n",
      "              11 File(s)        111,372 bytes\n",
      "               4 Dir(s)  64,141,590,528 bytes free\n"
     ]
    }
   ],
   "source": [
    "ls"
   ]
  },
  {
   "cell_type": "code",
   "execution_count": 6,
   "id": "6c12a8b2",
   "metadata": {},
   "outputs": [
    {
     "data": {
      "text/plain": [
       "<_io.TextIOWrapper name='test2.py' mode='w' encoding='cp1252'>"
      ]
     },
     "execution_count": 6,
     "metadata": {},
     "output_type": "execute_result"
    }
   ],
   "source": [
    "open('test2.py','w') # you can also create like this"
   ]
  },
  {
   "cell_type": "code",
   "execution_count": 7,
   "id": "63e02a51",
   "metadata": {},
   "outputs": [
    {
     "name": "stdout",
     "output_type": "stream",
     "text": [
      "20\n",
      "2.0\n",
      "4\n"
     ]
    }
   ],
   "source": [
    "import test\n",
    "print(test.test1(4,5))\n",
    "print(test.test2(2,1))\n",
    "print(test.test3(5,1))"
   ]
  },
  {
   "cell_type": "code",
   "execution_count": 8,
   "id": "7f4dd698",
   "metadata": {},
   "outputs": [],
   "source": [
    "from test import test2"
   ]
  },
  {
   "cell_type": "code",
   "execution_count": 9,
   "id": "f73cfcb9",
   "metadata": {},
   "outputs": [
    {
     "data": {
      "text/plain": [
       "0.75"
      ]
     },
     "execution_count": 9,
     "metadata": {},
     "output_type": "execute_result"
    }
   ],
   "source": [
    "test2(3,4)"
   ]
  },
  {
   "cell_type": "code",
   "execution_count": 10,
   "id": "e5c988f9",
   "metadata": {
    "scrolled": false
   },
   "outputs": [
    {
     "name": "stdout",
     "output_type": "stream",
     "text": [
      "20\n",
      "2.0\n",
      "4\n"
     ]
    }
   ],
   "source": [
    "from test import * # * means import each and every funtion from test module\n",
    "print(test1(4,5))\n",
    "print(test2(2,1))\n",
    "print(test3(5,1))"
   ]
  },
  {
   "cell_type": "code",
   "execution_count": 11,
   "id": "2722c8e6",
   "metadata": {},
   "outputs": [
    {
     "data": {
      "text/plain": [
       "['In',\n",
       " 'Out',\n",
       " '_',\n",
       " '_4',\n",
       " '_6',\n",
       " '_9',\n",
       " '__',\n",
       " '___',\n",
       " '__builtin__',\n",
       " '__builtins__',\n",
       " '__doc__',\n",
       " '__loader__',\n",
       " '__name__',\n",
       " '__package__',\n",
       " '__spec__',\n",
       " '_dh',\n",
       " '_exit_code',\n",
       " '_i',\n",
       " '_i1',\n",
       " '_i10',\n",
       " '_i11',\n",
       " '_i2',\n",
       " '_i3',\n",
       " '_i4',\n",
       " '_i5',\n",
       " '_i6',\n",
       " '_i7',\n",
       " '_i8',\n",
       " '_i9',\n",
       " '_ih',\n",
       " '_ii',\n",
       " '_iii',\n",
       " '_oh',\n",
       " 'exit',\n",
       " 'get_ipython',\n",
       " 'os',\n",
       " 'quit',\n",
       " 'test',\n",
       " 'test1',\n",
       " 'test2',\n",
       " 'test3']"
      ]
     },
     "execution_count": 11,
     "metadata": {},
     "output_type": "execute_result"
    }
   ],
   "source": [
    "dir()"
   ]
  },
  {
   "cell_type": "code",
   "execution_count": 12,
   "id": "88452f7c",
   "metadata": {},
   "outputs": [
    {
     "data": {
      "text/plain": [
       "<_io.TextIOWrapper name='my_module.py' mode='w' encoding='cp1252'>"
      ]
     },
     "execution_count": 12,
     "metadata": {},
     "output_type": "execute_result"
    }
   ],
   "source": [
    "open('my_module.py','w')"
   ]
  },
  {
   "cell_type": "code",
   "execution_count": 14,
   "id": "a290f46f",
   "metadata": {
    "scrolled": true
   },
   "outputs": [
    {
     "name": "stdout",
     "output_type": "stream",
     "text": [
      " Volume in drive C is Windows SSD\n",
      " Volume Serial Number is FCA4-BF44\n",
      "\n",
      " Directory of C:\\Users\\HP\\1AI iNeuron\n",
      "\n",
      "19-10-2022  06:02 PM    <DIR>          .\n",
      "19-10-2022  06:02 PM    <DIR>          ..\n",
      "19-10-2022  05:04 PM    <DIR>          .ipynb_checkpoints\n",
      "19-10-2022  05:45 PM    <DIR>          __pycache__\n",
      "19-10-2022  06:01 PM             9,760 03_Module and Packages_19oct.ipynb\n",
      "19-10-2022  04:02 PM             5,902 Assignment_5.ipynb\n",
      "18-10-2022  04:44 PM            11,786 Assignmet_4.ipynb\n",
      "17-10-2022  08:04 AM            19,914 CH6,7 ATBSWP .ipynb\n",
      "17-10-2022  09:53 AM             6,599 Chapter_7_INPUT VALIDATION.ipynb\n",
      "19-10-2022  09:15 AM            10,025 Chapter_9 READING AND WRITING FILES.ipynb\n",
      "19-10-2022  09:52 AM            41,660 Exception Handling_15oct.ipynb\n",
      "18-10-2022  11:08 PM             4,596 logging_18oct.ipynb\n",
      "19-10-2022  06:02 PM                 0 my_module.py\n",
      "19-10-2022  05:06 PM               932 test.ipynb\n",
      "19-10-2022  05:16 PM               198 test.py\n",
      "19-10-2022  06:02 PM                 0 test2.py\n",
      "              12 File(s)        111,372 bytes\n",
      "               4 Dir(s)  64,141,377,536 bytes free\n"
     ]
    }
   ],
   "source": [
    "ls"
   ]
  },
  {
   "cell_type": "code",
   "execution_count": 16,
   "id": "4ac69d33",
   "metadata": {},
   "outputs": [],
   "source": [
    "import my_module"
   ]
  },
  {
   "cell_type": "code",
   "execution_count": 17,
   "id": "d4b465ac",
   "metadata": {},
   "outputs": [
    {
     "data": {
      "text/plain": [
       "'iNeuron'"
      ]
     },
     "execution_count": 17,
     "metadata": {},
     "output_type": "execute_result"
    }
   ],
   "source": [
    "my_module.platform()"
   ]
  },
  {
   "cell_type": "code",
   "execution_count": 19,
   "id": "368b6473",
   "metadata": {},
   "outputs": [
    {
     "data": {
      "text/plain": [
       "['FSDS', 'JAVA', 'IOT']"
      ]
     },
     "execution_count": 19,
     "metadata": {},
     "output_type": "execute_result"
    }
   ],
   "source": [
    "my_module.get_course()"
   ]
  },
  {
   "cell_type": "code",
   "execution_count": 21,
   "id": "d0d17494",
   "metadata": {},
   "outputs": [],
   "source": [
    "from my_module import *"
   ]
  },
  {
   "cell_type": "code",
   "execution_count": 22,
   "id": "1478a3a5",
   "metadata": {},
   "outputs": [
    {
     "data": {
      "text/plain": [
       "'iNeuron'"
      ]
     },
     "execution_count": 22,
     "metadata": {},
     "output_type": "execute_result"
    }
   ],
   "source": [
    "platform()"
   ]
  },
  {
   "cell_type": "code",
   "execution_count": 23,
   "id": "a174be3c",
   "metadata": {},
   "outputs": [
    {
     "data": {
      "text/plain": [
       "['FSDS', 'JAVA', 'IOT']"
      ]
     },
     "execution_count": 23,
     "metadata": {},
     "output_type": "execute_result"
    }
   ],
   "source": [
    "get_course()"
   ]
  }
 ],
 "metadata": {
  "kernelspec": {
   "display_name": "Python 3 (ipykernel)",
   "language": "python",
   "name": "python3"
  },
  "language_info": {
   "codemirror_mode": {
    "name": "ipython",
    "version": 3
   },
   "file_extension": ".py",
   "mimetype": "text/x-python",
   "name": "python",
   "nbconvert_exporter": "python",
   "pygments_lexer": "ipython3",
   "version": "3.9.12"
  }
 },
 "nbformat": 4,
 "nbformat_minor": 5
}
