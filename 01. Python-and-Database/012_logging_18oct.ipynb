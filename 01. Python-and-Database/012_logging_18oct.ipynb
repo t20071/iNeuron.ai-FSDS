{
 "cells": [
  {
   "cell_type": "code",
   "execution_count": 1,
   "id": "83cba5f2",
   "metadata": {},
   "outputs": [
    {
     "name": "stdout",
     "output_type": "stream",
     "text": [
      "This is my code\n"
     ]
    }
   ],
   "source": [
    "print(\"This is my code\")"
   ]
  },
  {
   "cell_type": "markdown",
   "id": "3d130168",
   "metadata": {},
   "source": [
    "[Video link](https://www.youtube.com/watch?v=j6KJ8naxEUg)"
   ]
  },
  {
   "cell_type": "code",
   "execution_count": 2,
   "id": "d3b43453",
   "metadata": {},
   "outputs": [],
   "source": [
    "# logging is a module \n",
    "# keep track of your error,debugging,any problem\n",
    "# security attack\n",
    "# production environment\n",
    "# store each and every problelm in log\n",
    "# avoid print use logging"
   ]
  },
  {
   "cell_type": "code",
   "execution_count": 3,
   "id": "1c14b1de",
   "metadata": {},
   "outputs": [],
   "source": [
    "import logging # logging is a simple way to write a message"
   ]
  },
  {
   "cell_type": "code",
   "execution_count": 4,
   "id": "8c0949c0",
   "metadata": {},
   "outputs": [],
   "source": [
    "logging.basicConfig(filename = 'test.log',level = logging.INFO) #create a file"
   ]
  },
  {
   "cell_type": "code",
   "execution_count": 5,
   "id": "0fe9b976",
   "metadata": {},
   "outputs": [
    {
     "data": {
      "text/plain": [
       "'C:\\\\Users\\\\HP\\\\1AI iNeuron'"
      ]
     },
     "execution_count": 5,
     "metadata": {},
     "output_type": "execute_result"
    }
   ],
   "source": [
    "pwd()"
   ]
  },
  {
   "cell_type": "code",
   "execution_count": 6,
   "id": "6b975728",
   "metadata": {},
   "outputs": [],
   "source": [
    "# Type of log\n",
    "# DEBUG\n",
    "# INFO\n",
    "# WARNING\n",
    "# ERROR\n",
    "# CRITICAL "
   ]
  },
  {
   "cell_type": "code",
   "execution_count": 7,
   "id": "232c53f1",
   "metadata": {},
   "outputs": [],
   "source": [
    "logging.info(\"this is my info\")\n",
    "logging.warning(\"This is my warning log\")\n",
    "logging.error(\"This is my error log\")"
   ]
  },
  {
   "cell_type": "code",
   "execution_count": 8,
   "id": "cdfd27ad",
   "metadata": {},
   "outputs": [],
   "source": [
    "logging.shutdown()"
   ]
  },
  {
   "cell_type": "code",
   "execution_count": 9,
   "id": "ad318548",
   "metadata": {},
   "outputs": [],
   "source": [
    "logging.basicConfig(filename = 'test2.log',level = logging.DEBUG,format = '%(asctime)s %(levelname)s %(message)s')"
   ]
  },
  {
   "cell_type": "code",
   "execution_count": 10,
   "id": "aa832f5a",
   "metadata": {},
   "outputs": [],
   "source": [
    "logging.info('This is my info log')"
   ]
  },
  {
   "cell_type": "markdown",
   "id": "c401eb1f",
   "metadata": {},
   "source": [
    "**error is top priority log then warning, then info,then debug**\n",
    "1. error\n",
    "1. warning\n",
    "1. info\n",
    "1. debug\n",
    "\n",
    "* if you have set low proprity it will call all high priority "
   ]
  },
  {
   "cell_type": "code",
   "execution_count": 19,
   "id": "1c900580",
   "metadata": {},
   "outputs": [],
   "source": [
    "import logging\n",
    "logging.basicConfig(filename = 'test3.log',level = logging.DEBUG,format = '%(asctime)s %(levelname)s %(message)s')"
   ]
  },
  {
   "cell_type": "code",
   "execution_count": 2,
   "id": "e4b7a974",
   "metadata": {},
   "outputs": [],
   "source": [
    "def dividebyzero(a,b):\n",
    "    logging.info('This is start of my code and i am trying to enter %s and %s',a,b)\n",
    "    try :\n",
    "        div = a/b\n",
    "        logging.info('executed succesfully')\n",
    "    except Exception as e:\n",
    "        logging.error('Error has happend')\n",
    "        logging.exception('Exception occured' + str(e))\n",
    "        "
   ]
  },
  {
   "cell_type": "code",
   "execution_count": 21,
   "id": "79f0b5e9",
   "metadata": {},
   "outputs": [],
   "source": [
    "fcn(4,5)"
   ]
  },
  {
   "cell_type": "code",
   "execution_count": 22,
   "id": "b6a91746",
   "metadata": {},
   "outputs": [],
   "source": [
    "fcn(4,0)"
   ]
  }
 ],
 "metadata": {
  "kernelspec": {
   "display_name": "Python 3 (ipykernel)",
   "language": "python",
   "name": "python3"
  },
  "language_info": {
   "codemirror_mode": {
    "name": "ipython",
    "version": 3
   },
   "file_extension": ".py",
   "mimetype": "text/x-python",
   "name": "python",
   "nbconvert_exporter": "python",
   "pygments_lexer": "ipython3",
   "version": "3.9.12"
  }
 },
 "nbformat": 4,
 "nbformat_minor": 5
}
