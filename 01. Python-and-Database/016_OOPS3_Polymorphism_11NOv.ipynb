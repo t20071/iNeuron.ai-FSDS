{
 "cells": [
  {
   "cell_type": "markdown",
   "id": "246c36f2",
   "metadata": {},
   "source": [
    "# Polymorphism\n",
    "**Date 11 Nov 2022**  \n",
    "[Lecture Link](https://www.youtube.com/watch?v=lIXPAnwvXfE)"
   ]
  },
  {
   "cell_type": "code",
   "execution_count": 1,
   "id": "48c90f85",
   "metadata": {},
   "outputs": [],
   "source": [
    "# easy thing to understand \n",
    "# you can be uncle, brother,son \n",
    "# multiple form - called polymorphism"
   ]
  },
  {
   "cell_type": "code",
   "execution_count": 2,
   "id": "4ae50625",
   "metadata": {},
   "outputs": [],
   "source": [
    "def test(a,b):\n",
    "    return a+b"
   ]
  },
  {
   "cell_type": "code",
   "execution_count": 3,
   "id": "ec6a1c95",
   "metadata": {},
   "outputs": [
    {
     "data": {
      "text/plain": [
       "9"
      ]
     },
     "execution_count": 3,
     "metadata": {},
     "output_type": "execute_result"
    }
   ],
   "source": [
    "test(4,5)"
   ]
  },
  {
   "cell_type": "code",
   "execution_count": 4,
   "id": "b5b79348",
   "metadata": {},
   "outputs": [
    {
     "data": {
      "text/plain": [
       "'sharad pardhe'"
      ]
     },
     "execution_count": 4,
     "metadata": {},
     "output_type": "execute_result"
    }
   ],
   "source": [
    "test('sharad',' pardhe')"
   ]
  },
  {
   "cell_type": "code",
   "execution_count": 5,
   "id": "b557c762",
   "metadata": {},
   "outputs": [],
   "source": [
    "class insta:\n",
    "    def share_stories(self):\n",
    "        print(\"This will share my insta story\")\n",
    "        \n",
    "class facebook:\n",
    "    def share_stories(self):\n",
    "        print('This will share my facebook story')"
   ]
  },
  {
   "cell_type": "code",
   "execution_count": 6,
   "id": "92c23bf3",
   "metadata": {},
   "outputs": [],
   "source": [
    "def sharestories(app):\n",
    "    app.share_stories()"
   ]
  },
  {
   "cell_type": "code",
   "execution_count": 7,
   "id": "e8815a00",
   "metadata": {},
   "outputs": [],
   "source": [
    "i = insta()\n",
    "f = facebook()"
   ]
  },
  {
   "cell_type": "code",
   "execution_count": 8,
   "id": "ebe21c44",
   "metadata": {},
   "outputs": [
    {
     "name": "stdout",
     "output_type": "stream",
     "text": [
      "This will share my insta story\n"
     ]
    }
   ],
   "source": [
    "sharestories(i)"
   ]
  },
  {
   "cell_type": "code",
   "execution_count": 9,
   "id": "b84a79eb",
   "metadata": {},
   "outputs": [
    {
     "name": "stdout",
     "output_type": "stream",
     "text": [
      "This will share my insta story\n"
     ]
    }
   ],
   "source": [
    "i.share_stories()"
   ]
  },
  {
   "cell_type": "code",
   "execution_count": 10,
   "id": "6df5f057",
   "metadata": {},
   "outputs": [
    {
     "name": "stdout",
     "output_type": "stream",
     "text": [
      "This will share my facebook story\n"
     ]
    }
   ],
   "source": [
    "sharestories(f)"
   ]
  },
  {
   "cell_type": "code",
   "execution_count": 11,
   "id": "283a7965",
   "metadata": {},
   "outputs": [
    {
     "name": "stdout",
     "output_type": "stream",
     "text": [
      "This will share my facebook story\n"
     ]
    }
   ],
   "source": [
    "f.share_stories()"
   ]
  },
  {
   "cell_type": "code",
   "execution_count": 12,
   "id": "43ea4410",
   "metadata": {},
   "outputs": [],
   "source": [
    "class social_media:\n",
    "    def share_stories(self):\n",
    "        print(\"share a stories\")\n",
    "    def upload_pic(self):\n",
    "        print('This will help you to upload pic on social media')\n",
    "\n",
    "        \n",
    "class facebook(social_media):\n",
    "    def share_stories(self):\n",
    "        print('This is a fun for sharing an story for facebook')\n",
    " \n",
    "\n",
    "class insta(social_media):\n",
    "    def share_stories(self):\n",
    "        print('This will print a story frm insta')       "
   ]
  },
  {
   "cell_type": "code",
   "execution_count": 13,
   "id": "1d5fd2d9",
   "metadata": {},
   "outputs": [],
   "source": [
    "f = facebook()\n",
    "i = insta()"
   ]
  },
  {
   "cell_type": "code",
   "execution_count": 14,
   "id": "e1d1e16d",
   "metadata": {},
   "outputs": [
    {
     "name": "stdout",
     "output_type": "stream",
     "text": [
      "This is a fun for sharing an story for facebook\n"
     ]
    }
   ],
   "source": [
    "f.share_stories()"
   ]
  },
  {
   "cell_type": "code",
   "execution_count": 15,
   "id": "a9b0a4fb",
   "metadata": {},
   "outputs": [
    {
     "name": "stdout",
     "output_type": "stream",
     "text": [
      "This will print a story frm insta\n"
     ]
    }
   ],
   "source": [
    "i.share_stories()"
   ]
  },
  {
   "cell_type": "code",
   "execution_count": 16,
   "id": "0b79d3b0",
   "metadata": {},
   "outputs": [],
   "source": [
    "class test(Exception):\n",
    "    def __init__(self,message):\n",
    "        self.msg = message"
   ]
  },
  {
   "cell_type": "code",
   "execution_count": 17,
   "id": "585afa6c",
   "metadata": {},
   "outputs": [
    {
     "name": "stdout",
     "output_type": "stream",
     "text": [
      "This is my own exception class\n"
     ]
    }
   ],
   "source": [
    "try :\n",
    "    raise(test('This is my own exception class'))\n",
    "except test as t:\n",
    "    print(t)"
   ]
  },
  {
   "cell_type": "code",
   "execution_count": 20,
   "id": "dfb73d40",
   "metadata": {},
   "outputs": [
    {
     "ename": "ZeroDivisionError",
     "evalue": "division by zero",
     "output_type": "error",
     "traceback": [
      "\u001b[1;31m---------------------------------------------------------------------------\u001b[0m",
      "\u001b[1;31mZeroDivisionError\u001b[0m                         Traceback (most recent call last)",
      "Input \u001b[1;32mIn [20]\u001b[0m, in \u001b[0;36m<cell line: 1>\u001b[1;34m()\u001b[0m\n\u001b[0;32m      1\u001b[0m \u001b[38;5;28;01mtry\u001b[39;00m :\n\u001b[1;32m----> 2\u001b[0m     \u001b[38;5;241;43m5\u001b[39;49m\u001b[38;5;241;43m/\u001b[39;49m\u001b[38;5;241;43m0\u001b[39;49m\n\u001b[0;32m      4\u001b[0m \u001b[38;5;28;01mexcept\u001b[39;00m test \u001b[38;5;28;01mas\u001b[39;00m t:\n\u001b[0;32m      5\u001b[0m     \u001b[38;5;28mprint\u001b[39m(t)\n",
      "\u001b[1;31mZeroDivisionError\u001b[0m: division by zero"
     ]
    }
   ],
   "source": [
    "try :\n",
    "    5/0\n",
    "    \n",
    "except test as t:\n",
    "    print(t)"
   ]
  },
  {
   "cell_type": "code",
   "execution_count": 21,
   "id": "953be416",
   "metadata": {},
   "outputs": [
    {
     "ename": "ZeroDivisionError",
     "evalue": "division by zero",
     "output_type": "error",
     "traceback": [
      "\u001b[1;31m---------------------------------------------------------------------------\u001b[0m",
      "\u001b[1;31mZeroDivisionError\u001b[0m                         Traceback (most recent call last)",
      "Input \u001b[1;32mIn [21]\u001b[0m, in \u001b[0;36m<cell line: 1>\u001b[1;34m()\u001b[0m\n\u001b[0;32m      1\u001b[0m \u001b[38;5;28;01mtry\u001b[39;00m :\n\u001b[1;32m----> 2\u001b[0m     \u001b[38;5;241;43m5\u001b[39;49m\u001b[38;5;241;43m/\u001b[39;49m\u001b[38;5;241;43m0\u001b[39;49m\n\u001b[0;32m      3\u001b[0m     \u001b[38;5;28;01mraise\u001b[39;00m(test(\u001b[38;5;124m'\u001b[39m\u001b[38;5;124mThis is my own exception class\u001b[39m\u001b[38;5;124m'\u001b[39m))\n\u001b[0;32m      5\u001b[0m \u001b[38;5;28;01mexcept\u001b[39;00m test \u001b[38;5;28;01mas\u001b[39;00m t:\n",
      "\u001b[1;31mZeroDivisionError\u001b[0m: division by zero"
     ]
    }
   ],
   "source": [
    "try :\n",
    "    5/0\n",
    "    raise(test('This is my own exception class'))\n",
    "\n",
    "except test as t:\n",
    "    print(t)"
   ]
  },
  {
   "cell_type": "code",
   "execution_count": 23,
   "id": "30cd28d7",
   "metadata": {},
   "outputs": [
    {
     "name": "stdout",
     "output_type": "stream",
     "text": [
      "This is my own exception class\n"
     ]
    }
   ],
   "source": [
    "try :\n",
    "    raise(test('This is my own exception class'))\n",
    "    5/0\n",
    "except test as t:\n",
    "    print(t)"
   ]
  },
  {
   "cell_type": "code",
   "execution_count": 24,
   "id": "6566072c",
   "metadata": {},
   "outputs": [],
   "source": [
    "class test(Exception):\n",
    "    def __init__(self,message,myvalue):\n",
    "        self.msg = message\n",
    "        self.myval = myvalue"
   ]
  },
  {
   "cell_type": "code",
   "execution_count": 25,
   "id": "9c12cc19",
   "metadata": {},
   "outputs": [
    {
     "name": "stdout",
     "output_type": "stream",
     "text": [
      "('This is my own exception class', 5)\n"
     ]
    }
   ],
   "source": [
    "try :\n",
    "    raise(test('This is my own exception class',5))\n",
    "except test as t:\n",
    "    print(t)"
   ]
  },
  {
   "cell_type": "code",
   "execution_count": 26,
   "id": "4e926578",
   "metadata": {},
   "outputs": [
    {
     "name": "stdout",
     "output_type": "stream",
     "text": [
      "('This is my own exception class', 'sharad')\n"
     ]
    }
   ],
   "source": [
    "try :\n",
    "    raise(test('This is my own exception class','sharad'))\n",
    "except test as t:\n",
    "    print(t)"
   ]
  },
  {
   "cell_type": "markdown",
   "id": "0fdcf3eb",
   "metadata": {},
   "source": [
    "**Questions**\n",
    "\n",
    "1. Create your own class to achieve multiple, multilevel inheritance.\n",
    "1. Create your own class to represents polymorphism \n",
    "1. Create your own class for achieve encaptulation \n",
    "1. Create your own class to achieve method and overriding."
   ]
  },
  {
   "cell_type": "code",
   "execution_count": 27,
   "id": "023ec8d7",
   "metadata": {},
   "outputs": [],
   "source": [
    "#1 mine\n",
    "class xyz:\n",
    "    def __init__(self,a,b,c):\n",
    "        self.a = a\n",
    "        self.b = b \n",
    "        self.c = c\n",
    "        \n",
    "class xyz1(xyz):\n",
    "    pass\n",
    "\n",
    "class xyz2(xyz):\n",
    "    pass"
   ]
  },
  {
   "cell_type": "code",
   "execution_count": 28,
   "id": "97d19772",
   "metadata": {},
   "outputs": [],
   "source": [
    "#3 mine\n",
    "class test:\n",
    "    def __init__(self,a,b,c):\n",
    "        self._a = a # protected, it can be access by child class\n",
    "        self.__b = b  # __b means private\n",
    "        self.c = c # public\n",
    "        \n",
    "class test1(test):\n",
    "    pass\n",
    "\n",
    "v = test(3,5,6)"
   ]
  },
  {
   "cell_type": "code",
   "execution_count": 32,
   "id": "e5a302bd",
   "metadata": {},
   "outputs": [
    {
     "name": "stdout",
     "output_type": "stream",
     "text": [
      "Batch : First\n",
      "course : FSDS\n"
     ]
    }
   ],
   "source": [
    "#q1 Multiple inherentance \n",
    "\n",
    "# Parents class 1\n",
    "class Batch_number:\n",
    "    batchnumber = '' # called static variable, class variable \n",
    "    def batch(self):\n",
    "        print(self.batchnumber)\n",
    "        \n",
    "# Parents class 2 \n",
    "class course_name:\n",
    "    c_name= ''\n",
    "    def course(self):\n",
    "        print(self.c_name)\n",
    "        \n",
    "# child class\n",
    "class student(Batch_number,course_name):\n",
    "    def duties(self):\n",
    "        print('Batch :',self.batchnumber)\n",
    "        print('course :', self.c_name)\n",
    "        \n",
    "object1 = student()\n",
    "object1.batchnumber = \"First\"\n",
    "object1.c_name = 'FSDS'\n",
    "object1.duties()"
   ]
  },
  {
   "cell_type": "markdown",
   "id": "77c8c980",
   "metadata": {},
   "source": [
    "# Static inheritance "
   ]
  },
  {
   "cell_type": "code",
   "execution_count": 34,
   "id": "06fc2247",
   "metadata": {},
   "outputs": [
    {
     "data": {
      "text/plain": [
       "''"
      ]
     },
     "execution_count": 34,
     "metadata": {},
     "output_type": "execute_result"
    }
   ],
   "source": [
    "Batch_number.batchnumber # static variable can be access through class name "
   ]
  },
  {
   "cell_type": "code",
   "execution_count": 43,
   "id": "6a931e00",
   "metadata": {},
   "outputs": [
    {
     "data": {
      "text/plain": [
       "'Q2'"
      ]
     },
     "execution_count": 43,
     "metadata": {},
     "output_type": "execute_result"
    }
   ],
   "source": [
    "bn = Batch_number()\n",
    "bn.batchnumber # also can be access by object name "
   ]
  },
  {
   "cell_type": "code",
   "execution_count": 36,
   "id": "643ddda3",
   "metadata": {},
   "outputs": [],
   "source": [
    "bn.batchnumber = 'Q1'"
   ]
  },
  {
   "cell_type": "code",
   "execution_count": 37,
   "id": "8ef4ddfa",
   "metadata": {},
   "outputs": [
    {
     "data": {
      "text/plain": [
       "'Q1'"
      ]
     },
     "execution_count": 37,
     "metadata": {},
     "output_type": "execute_result"
    }
   ],
   "source": [
    "bn.batchnumber"
   ]
  },
  {
   "cell_type": "code",
   "execution_count": 38,
   "id": "1e75e722",
   "metadata": {},
   "outputs": [
    {
     "data": {
      "text/plain": [
       "''"
      ]
     },
     "execution_count": 38,
     "metadata": {},
     "output_type": "execute_result"
    }
   ],
   "source": [
    "Batch_number.batchnumber"
   ]
  },
  {
   "cell_type": "code",
   "execution_count": 40,
   "id": "9621078f",
   "metadata": {},
   "outputs": [],
   "source": [
    "Batch_number.batchnumber = 'Q2'"
   ]
  },
  {
   "cell_type": "code",
   "execution_count": 44,
   "id": "483699b9",
   "metadata": {},
   "outputs": [
    {
     "data": {
      "text/plain": [
       "'Q2'"
      ]
     },
     "execution_count": 44,
     "metadata": {},
     "output_type": "execute_result"
    }
   ],
   "source": [
    "Batch_number.batchnumber # Now it will change"
   ]
  },
  {
   "cell_type": "markdown",
   "id": "5a97a6e0",
   "metadata": {},
   "source": [
    "# Static function \n",
    "```@staticmethod``` decorator   \n",
    "decorator  - is specially design  fucntion which going to help  other function or instaces to behave as per  the defination. "
   ]
  },
  {
   "cell_type": "code",
   "execution_count": 45,
   "id": "1c65b30a",
   "metadata": {},
   "outputs": [
    {
     "name": "stdout",
     "output_type": "stream",
     "text": [
      "Batch : First\n",
      "course : FSDS\n"
     ]
    }
   ],
   "source": [
    "# Parents class 1\n",
    "class Batch_number:\n",
    "    batchnumber = '' # called static variable, class variable\n",
    "    @staticmethod  # This is a method, it will consider a class fucntion not instance or object method\n",
    "    def batch(): # self will not required\n",
    "        print(self.batchnumber)\n",
    "        \n",
    "# Parents class 2 \n",
    "class course_name:\n",
    "    c_name= ''\n",
    "    def course(self):\n",
    "        print(self.c_name)\n",
    "        \n",
    "# child class\n",
    "class student(Batch_number,course_name):\n",
    "    def duties(self):\n",
    "        print('Batch :',self.batchnumber)\n",
    "        print('course :', self.c_name)\n",
    "        \n",
    "object1 = student()\n",
    "object1.batchnumber = \"First\"\n",
    "object1.c_name = 'FSDS'\n",
    "object1.duties()"
   ]
  },
  {
   "cell_type": "code",
   "execution_count": 46,
   "id": "cce7ade4",
   "metadata": {},
   "outputs": [],
   "source": [
    "class Batch_number:\n",
    "    batchnumber = '' # called static variable, class variable\n",
    "    # @staticmethod  # This is a method, it will consider a class fucntion not instance or object method\n",
    "    def batch(): \n",
    "        print(self.batchnumber)"
   ]
  },
  {
   "cell_type": "code",
   "execution_count": 47,
   "id": "2f550eed",
   "metadata": {},
   "outputs": [],
   "source": [
    "bn1 = Batch_number()"
   ]
  },
  {
   "cell_type": "code",
   "execution_count": 49,
   "id": "69286c22",
   "metadata": {},
   "outputs": [
    {
     "ename": "TypeError",
     "evalue": "batch() takes 0 positional arguments but 1 was given",
     "output_type": "error",
     "traceback": [
      "\u001b[1;31m---------------------------------------------------------------------------\u001b[0m",
      "\u001b[1;31mTypeError\u001b[0m                                 Traceback (most recent call last)",
      "Input \u001b[1;32mIn [49]\u001b[0m, in \u001b[0;36m<cell line: 1>\u001b[1;34m()\u001b[0m\n\u001b[1;32m----> 1\u001b[0m \u001b[43mbn1\u001b[49m\u001b[38;5;241;43m.\u001b[39;49m\u001b[43mbatch\u001b[49m\u001b[43m(\u001b[49m\u001b[43m)\u001b[49m\n",
      "\u001b[1;31mTypeError\u001b[0m: batch() takes 0 positional arguments but 1 was given"
     ]
    }
   ],
   "source": [
    "bn1.batch() # we have not given self keyword, ie error occur"
   ]
  },
  {
   "cell_type": "code",
   "execution_count": 50,
   "id": "c0a89dad",
   "metadata": {},
   "outputs": [
    {
     "name": "stdout",
     "output_type": "stream",
     "text": [
      "\n"
     ]
    }
   ],
   "source": [
    "class Batch_number:\n",
    "    batchnumber = '' # called static variable, class variable\n",
    "    # @staticmethod  # This is a method, it will consider a class fucntion not instance or object method\n",
    "    def batch(self): \n",
    "        print(self.batchnumber)\n",
    "\n",
    "bn1 = Batch_number()\n",
    "bn1.batch() # no problelm"
   ]
  },
  {
   "cell_type": "code",
   "execution_count": 51,
   "id": "c7ae62c6",
   "metadata": {},
   "outputs": [],
   "source": [
    "class Batch_number:\n",
    "    batchnumber = '' # called static variable, class variable\n",
    "    @staticmethod  # This is a method, it will consider a class fucntion not instance or object method\n",
    "    def batch(): \n",
    "        print(self.batchnumber)"
   ]
  },
  {
   "cell_type": "code",
   "execution_count": 54,
   "id": "ff2a03ad",
   "metadata": {},
   "outputs": [
    {
     "ename": "NameError",
     "evalue": "name 'self' is not defined",
     "output_type": "error",
     "traceback": [
      "\u001b[1;31m---------------------------------------------------------------------------\u001b[0m",
      "\u001b[1;31mNameError\u001b[0m                                 Traceback (most recent call last)",
      "Input \u001b[1;32mIn [54]\u001b[0m, in \u001b[0;36m<cell line: 2>\u001b[1;34m()\u001b[0m\n\u001b[0;32m      1\u001b[0m bn2 \u001b[38;5;241m=\u001b[39m Batch_number()\n\u001b[1;32m----> 2\u001b[0m \u001b[43mbn2\u001b[49m\u001b[38;5;241;43m.\u001b[39;49m\u001b[43mbatch\u001b[49m\u001b[43m(\u001b[49m\u001b[43m)\u001b[49m\n",
      "Input \u001b[1;32mIn [51]\u001b[0m, in \u001b[0;36mBatch_number.batch\u001b[1;34m()\u001b[0m\n\u001b[0;32m      3\u001b[0m \u001b[38;5;129m@staticmethod\u001b[39m  \u001b[38;5;66;03m# This is a method, it will consider a class fucntion not instance or object method\u001b[39;00m\n\u001b[0;32m      4\u001b[0m \u001b[38;5;28;01mdef\u001b[39;00m \u001b[38;5;21mbatch\u001b[39m(): \n\u001b[1;32m----> 5\u001b[0m     \u001b[38;5;28mprint\u001b[39m(\u001b[38;5;28;43mself\u001b[39;49m\u001b[38;5;241m.\u001b[39mbatchnumber)\n",
      "\u001b[1;31mNameError\u001b[0m: name 'self' is not defined"
     ]
    }
   ],
   "source": [
    "bn2 = Batch_number()\n",
    "bn2.batch()"
   ]
  },
  {
   "cell_type": "markdown",
   "id": "7be1b61f",
   "metadata": {},
   "source": [
    "``self`` is not defined error in static functin"
   ]
  },
  {
   "cell_type": "code",
   "execution_count": 57,
   "id": "e9822553",
   "metadata": {},
   "outputs": [],
   "source": [
    "class Batch_number:\n",
    "    batchnumber = '' # called static variable, class variable\n",
    "    @staticmethod  # This is a method, it will consider a class fucntion not instance or object method\n",
    "    def batch(): \n",
    "        print(\"This is static method\")"
   ]
  },
  {
   "cell_type": "code",
   "execution_count": 59,
   "id": "e44b7fb2",
   "metadata": {},
   "outputs": [
    {
     "name": "stdout",
     "output_type": "stream",
     "text": [
      "This is static method\n"
     ]
    }
   ],
   "source": [
    "bn2 = Batch_number()\n",
    "bn2.batch() # still working without self due to staticmethod(decorator)"
   ]
  },
  {
   "cell_type": "code",
   "execution_count": 61,
   "id": "d56fbc77",
   "metadata": {},
   "outputs": [],
   "source": [
    "class Batch_number:\n",
    "    batchnumber = 'sharad' # called static variable, class variable\n",
    "    def __init__(self,a,b,c):\n",
    "        self.a = a\n",
    "        self.b = b\n",
    "        self.c = c  # a,b,c called instance variable\n",
    "        \n",
    "    @staticmethod  # This is a method, it will consider a class fucntion not instance or object method\n",
    "    def batch(): \n",
    "        print(\"This is static method\")\n",
    "        \n",
    "    def batch1(self): # it will call after defining object\n",
    "        print('This is not static method')"
   ]
  },
  {
   "cell_type": "code",
   "execution_count": 62,
   "id": "93c7f2d3",
   "metadata": {},
   "outputs": [
    {
     "data": {
      "text/plain": [
       "'sharad'"
      ]
     },
     "execution_count": 62,
     "metadata": {},
     "output_type": "execute_result"
    }
   ],
   "source": [
    "Batch_number.batchnumber "
   ]
  },
  {
   "cell_type": "code",
   "execution_count": 63,
   "id": "9def15d7",
   "metadata": {},
   "outputs": [
    {
     "ename": "AttributeError",
     "evalue": "type object 'Batch_number' has no attribute 'a'",
     "output_type": "error",
     "traceback": [
      "\u001b[1;31m---------------------------------------------------------------------------\u001b[0m",
      "\u001b[1;31mAttributeError\u001b[0m                            Traceback (most recent call last)",
      "Input \u001b[1;32mIn [63]\u001b[0m, in \u001b[0;36m<cell line: 1>\u001b[1;34m()\u001b[0m\n\u001b[1;32m----> 1\u001b[0m \u001b[43mBatch_number\u001b[49m\u001b[38;5;241;43m.\u001b[39;49m\u001b[43ma\u001b[49m\n",
      "\u001b[1;31mAttributeError\u001b[0m: type object 'Batch_number' has no attribute 'a'"
     ]
    }
   ],
   "source": [
    "Batch_number.a # a is instance variable so error"
   ]
  },
  {
   "cell_type": "code",
   "execution_count": 65,
   "id": "214ecf75",
   "metadata": {},
   "outputs": [
    {
     "data": {
      "text/plain": [
       "1"
      ]
     },
     "execution_count": 65,
     "metadata": {},
     "output_type": "execute_result"
    }
   ],
   "source": [
    "b = Batch_number(1,23,3)\n",
    "b.a # now able to run"
   ]
  },
  {
   "cell_type": "code",
   "execution_count": 66,
   "id": "8b0aa0d8",
   "metadata": {},
   "outputs": [
    {
     "name": "stdout",
     "output_type": "stream",
     "text": [
      "This is static method\n"
     ]
    }
   ],
   "source": [
    "Batch_number.batch()"
   ]
  },
  {
   "cell_type": "code",
   "execution_count": 68,
   "id": "a653a3bc",
   "metadata": {},
   "outputs": [
    {
     "ename": "TypeError",
     "evalue": "batch1() missing 1 required positional argument: 'self'",
     "output_type": "error",
     "traceback": [
      "\u001b[1;31m---------------------------------------------------------------------------\u001b[0m",
      "\u001b[1;31mTypeError\u001b[0m                                 Traceback (most recent call last)",
      "Input \u001b[1;32mIn [68]\u001b[0m, in \u001b[0;36m<cell line: 1>\u001b[1;34m()\u001b[0m\n\u001b[1;32m----> 1\u001b[0m \u001b[43mBatch_number\u001b[49m\u001b[38;5;241;43m.\u001b[39;49m\u001b[43mbatch1\u001b[49m\u001b[43m(\u001b[49m\u001b[43m)\u001b[49m\n",
      "\u001b[1;31mTypeError\u001b[0m: batch1() missing 1 required positional argument: 'self'"
     ]
    }
   ],
   "source": [
    "Batch_number.batch1() # not static function so error"
   ]
  },
  {
   "cell_type": "code",
   "execution_count": 70,
   "id": "f72e9ad9",
   "metadata": {},
   "outputs": [
    {
     "name": "stdout",
     "output_type": "stream",
     "text": [
      "This is not static method\n"
     ]
    }
   ],
   "source": [
    "b = Batch_number(1,2,3)\n",
    "b.batch1()"
   ]
  },
  {
   "cell_type": "code",
   "execution_count": 72,
   "id": "7943f18c",
   "metadata": {},
   "outputs": [
    {
     "name": "stdout",
     "output_type": "stream",
     "text": [
      "This is static method\n"
     ]
    }
   ],
   "source": [
    "b.batch() # can be access from both"
   ]
  },
  {
   "cell_type": "code",
   "execution_count": 73,
   "id": "4242ec1c",
   "metadata": {},
   "outputs": [],
   "source": [
    "class accountdetail:\n",
    "    ac_no = '31342389589'\n",
    "    def __init__(self,amount):\n",
    "        self.amouont = amount\n",
    "        \n",
    "    def show_balance(self,deduction):\n",
    "        self.amount = self.amount - deduction\n",
    "        return self.amouont, ac_no"
   ]
  },
  {
   "cell_type": "code",
   "execution_count": 74,
   "id": "c1050ba1",
   "metadata": {},
   "outputs": [
    {
     "ename": "SyntaxError",
     "evalue": "invalid syntax (650712546.py, line 1)",
     "output_type": "error",
     "traceback": [
      "\u001b[1;36m  Input \u001b[1;32mIn [74]\u001b[1;36m\u001b[0m\n\u001b[1;33m    1.44 level\u001b[0m\n\u001b[1;37m         ^\u001b[0m\n\u001b[1;31mSyntaxError\u001b[0m\u001b[1;31m:\u001b[0m invalid syntax\n"
     ]
    }
   ],
   "source": [
    "1.44 level\n",
    "\n",
    "54 poli"
   ]
  },
  {
   "cell_type": "code",
   "execution_count": 76,
   "id": "b11de4da",
   "metadata": {},
   "outputs": [
    {
     "name": "stdout",
     "output_type": "stream",
     "text": [
      "This is method in grand parent class\n"
     ]
    }
   ],
   "source": [
    "#q1 multilevel \n",
    "class xyz:\n",
    "    def __init__(self,a,b,c):\n",
    "        self.a = a\n",
    "        self.b = b \n",
    "        self.c = c\n",
    "        \n",
    "    def test(self):\n",
    "        print(\"This is method in grand parent class\")\n",
    "        \n",
    "class xyz1(xyz):\n",
    "    def test1(self):\n",
    "        print('method in parent class')\n",
    "        \n",
    "class xyz2(xyz1):\n",
    "    def test2(self):\n",
    "        print('method in child class')\n",
    "        \n",
    "n=xyz2(1,2,4)\n",
    "n.test()"
   ]
  },
  {
   "cell_type": "code",
   "execution_count": 77,
   "id": "0e990fe7",
   "metadata": {},
   "outputs": [
    {
     "name": "stdout",
     "output_type": "stream",
     "text": [
      "method1\n",
      "method2\n"
     ]
    }
   ],
   "source": [
    "# polymorphism \n",
    "class test1:\n",
    "    def method(self):\n",
    "        return 'method1'\n",
    "    \n",
    "class test2:\n",
    "    def method(self):\n",
    "        return 'method2'\n",
    "    \n",
    "def poly(instance):\n",
    "    print(instance.method())\n",
    "    \n",
    "t1 = test1()\n",
    "t2 = test2()\n",
    "\n",
    "poly(t1)\n",
    "poly(t2)"
   ]
  },
  {
   "cell_type": "markdown",
   "id": "461706f3",
   "metadata": {},
   "source": [
    "# Abstraction - \n",
    "Creating a blueprint."
   ]
  },
  {
   "cell_type": "code",
   "execution_count": 78,
   "id": "d1a5b6f1",
   "metadata": {},
   "outputs": [],
   "source": [
    "class abc: \n",
    "    pass # just blueprint of class  but no implitation"
   ]
  },
  {
   "cell_type": "code",
   "execution_count": 85,
   "id": "32bd69e1",
   "metadata": {},
   "outputs": [],
   "source": [
    "class data_project: #list down all function,its blueprint and will be done by team \n",
    "    \n",
    "    def read_file(self): # person 1 going to write this function\n",
    "        pass\n",
    "    \n",
    "    def validate_filename(self): # person 2 going to write this function\n",
    "        pass\n",
    "    \n",
    "    def validate_datatype(self): # person 3 going to write this function\n",
    "        pass\n",
    "    \n",
    "    def validate_db_comma(self): # person 4 going to write this function\n",
    "        pass\n",
    "    \n",
    "    def create_conn(self): # person 5 going to write this function\n",
    "        pass\n",
    "    \n",
    "    def insert_data(self):# person 6 going to write this function\n",
    "        pass\n",
    "    \n",
    "    def delete_data(self): # person 7 going to write this function\n",
    "        pass\n",
    "    \n",
    "    def update_data(self): # person 8 going to write this function\n",
    "        pass\n",
    "    \n",
    "    def perform(self): # person 9 going to write this function\n",
    "        pass\n",
    "    \n",
    "    def perform_eda(self): # person 10 going to write this function\n",
    "        pass"
   ]
  },
  {
   "cell_type": "code",
   "execution_count": 86,
   "id": "75bdbebd",
   "metadata": {},
   "outputs": [],
   "source": [
    "class db_ops(data_project):\n",
    "    pass"
   ]
  },
  {
   "cell_type": "code",
   "execution_count": 87,
   "id": "8bf6f864",
   "metadata": {},
   "outputs": [],
   "source": [
    "from abc import abstractmethod\n",
    "class data_project: #list down all function,its blueprint and will be done by team \n",
    "    \n",
    "    @abstractmethod\n",
    "    def read_file(self): # person 1 going to write this function\n",
    "        pass\n",
    "    \n",
    "    def validate_filename(self): # person 2 going to write this function\n",
    "        pass\n",
    "    \n",
    "    def validate_datatype(self): # person 3 going to write this function\n",
    "        pass\n",
    "    \n",
    "    def validate_db_comma(self): # person 4 going to write this function\n",
    "        pass\n",
    "    \n",
    "    def create_conn(self): # person 5 going to write this function\n",
    "        pass\n",
    "    \n",
    "    def insert_data(self):# person 6 going to write this function\n",
    "        pass\n",
    "    \n",
    "    def delete_data(self): # person 7 going to write this function\n",
    "        pass\n",
    "    \n",
    "    def update_data(self): # person 8 going to write this function\n",
    "        pass\n",
    "    \n",
    "    def perform(self): # person 9 going to write this function\n",
    "        pass\n",
    "    \n",
    "    def perform_eda(self): # person 10 going to write this function\n",
    "        pass"
   ]
  },
  {
   "cell_type": "markdown",
   "id": "e076b861",
   "metadata": {},
   "source": [
    "# Overloading vs Overriding"
   ]
  },
  {
   "cell_type": "code",
   "execution_count": 88,
   "id": "6484c3dd",
   "metadata": {},
   "outputs": [],
   "source": [
    "class test:\n",
    "    def fun(self):\n",
    "        print('This is my sample class')"
   ]
  },
  {
   "cell_type": "code",
   "execution_count": 91,
   "id": "836fd510",
   "metadata": {},
   "outputs": [],
   "source": [
    "t = test()"
   ]
  },
  {
   "cell_type": "code",
   "execution_count": 92,
   "id": "226d84ef",
   "metadata": {},
   "outputs": [
    {
     "name": "stdout",
     "output_type": "stream",
     "text": [
      "<__main__.test object at 0x000001A9C2666160>\n"
     ]
    }
   ],
   "source": [
    "print(t)"
   ]
  },
  {
   "cell_type": "markdown",
   "id": "081b18e6",
   "metadata": {},
   "source": [
    "Output is hexadecimal code "
   ]
  },
  {
   "cell_type": "code",
   "execution_count": 96,
   "id": "8a5fa5c5",
   "metadata": {},
   "outputs": [],
   "source": [
    "class test:\n",
    "    def fun(self):\n",
    "        print('This is my sample class')\n",
    "        \n",
    "    def __str__(self):# inbuilt function, responsible for overloading the message \n",
    "        return str('This is the function called at time of object print')"
   ]
  },
  {
   "cell_type": "code",
   "execution_count": 94,
   "id": "de7ebb88",
   "metadata": {},
   "outputs": [],
   "source": [
    "t = test()"
   ]
  },
  {
   "cell_type": "code",
   "execution_count": 97,
   "id": "de71af40",
   "metadata": {},
   "outputs": [
    {
     "name": "stdout",
     "output_type": "stream",
     "text": [
      "This is the function called at time of object print\n"
     ]
    }
   ],
   "source": [
    "print(t)"
   ]
  },
  {
   "cell_type": "markdown",
   "id": "b0a0557e",
   "metadata": {},
   "source": [
    "Now, output is in str format"
   ]
  },
  {
   "cell_type": "code",
   "execution_count": 98,
   "id": "cb120cb5",
   "metadata": {},
   "outputs": [],
   "source": [
    "# mongo db web\n",
    "# data cassantra web \n",
    "# data stax"
   ]
  }
 ],
 "metadata": {
  "kernelspec": {
   "display_name": "Python 3 (ipykernel)",
   "language": "python",
   "name": "python3"
  },
  "language_info": {
   "codemirror_mode": {
    "name": "ipython",
    "version": 3
   },
   "file_extension": ".py",
   "mimetype": "text/x-python",
   "name": "python",
   "nbconvert_exporter": "python",
   "pygments_lexer": "ipython3",
   "version": "3.9.12"
  }
 },
 "nbformat": 4,
 "nbformat_minor": 5
}
