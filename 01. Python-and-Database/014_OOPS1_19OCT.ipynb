{
 "cells": [
  {
   "cell_type": "markdown",
   "id": "60d2eee8",
   "metadata": {},
   "source": [
    "[Link](https://www.youtube.com/watch?v=CNv0PUji8AA)"
   ]
  },
  {
   "cell_type": "code",
   "execution_count": 1,
   "id": "c6621c38",
   "metadata": {
    "scrolled": true
   },
   "outputs": [
    {
     "name": "stdout",
     "output_type": "stream",
     "text": [
      "1\n",
      "2\n",
      "3\n",
      "4\n",
      "5\n"
     ]
    }
   ],
   "source": [
    "l = [1,2,3,4,5]\n",
    "for i in l:\n",
    "    print(i)"
   ]
  },
  {
   "cell_type": "code",
   "execution_count": 2,
   "id": "27fb8607",
   "metadata": {},
   "outputs": [],
   "source": [
    "# Python supports script as well as oops.\n",
    "# whatever we were doing called scripting\n",
    "# Now time for OOPS"
   ]
  },
  {
   "cell_type": "code",
   "execution_count": 3,
   "id": "0ccc07cc",
   "metadata": {},
   "outputs": [],
   "source": [
    "# class - Real world entity, colletion\n",
    "# car - Which car may be - TATA, MARUTI, SEDAN \n",
    "# BIRD - which bird \n",
    "# animal - \n",
    "# person - human being male or female\n",
    "# vaccine - which vaccine \n",
    "# sports - many sports\n",
    "# we are talking broader view \n",
    "# class then second object\n",
    "# class - blueprint\n",
    "# object - real entity - size,shape \n",
    "# cup is class where as milton cup is object"
   ]
  },
  {
   "cell_type": "code",
   "execution_count": 3,
   "id": "3585e8f1",
   "metadata": {},
   "outputs": [],
   "source": [
    "# write a code reverse a list, all list method code\n",
    "# ans - list is a class\n",
    "# dict,int,str,and tuple all are classes."
   ]
  },
  {
   "cell_type": "code",
   "execution_count": 4,
   "id": "76b2c517",
   "metadata": {},
   "outputs": [
    {
     "data": {
      "text/plain": [
       "'sharad'"
      ]
     },
     "execution_count": 4,
     "metadata": {},
     "output_type": "execute_result"
    }
   ],
   "source": [
    "'sharad' #one type of str\n",
    "# entire approach called OOPS\n",
    "# OOPS is very easy trust me "
   ]
  },
  {
   "cell_type": "code",
   "execution_count": 5,
   "id": "9b293717",
   "metadata": {},
   "outputs": [],
   "source": [
    "class car:\n",
    "    pass # just want to create skelton "
   ]
  },
  {
   "cell_type": "code",
   "execution_count": 6,
   "id": "71516cd8",
   "metadata": {},
   "outputs": [],
   "source": [
    "class car:  # car is not function its class\n",
    "    def __init__(self,brand_name,fueltype,body_type):\n",
    "        # self is pointer, which must inside class function\n",
    "        self.brand_name = brand_name\n",
    "        self.fueltype = fueltype\n",
    "        self.body_type = body_type\n",
    "    # __init__ is constructor which helps to take input or which pass data to class\n",
    "    \n",
    "    def desc_car():\n",
    "        print(self.brand_name,self.fueltype,self.body_type)"
   ]
  },
  {
   "cell_type": "code",
   "execution_count": 7,
   "id": "ed7b25dd",
   "metadata": {},
   "outputs": [
    {
     "ename": "TypeError",
     "evalue": "__init__() missing 3 required positional arguments: 'brand_name', 'fueltype', and 'body_type'",
     "output_type": "error",
     "traceback": [
      "\u001b[1;31m---------------------------------------------------------------------------\u001b[0m",
      "\u001b[1;31mTypeError\u001b[0m                                 Traceback (most recent call last)",
      "Input \u001b[1;32mIn [7]\u001b[0m, in \u001b[0;36m<cell line: 1>\u001b[1;34m()\u001b[0m\n\u001b[1;32m----> 1\u001b[0m innova \u001b[38;5;241m=\u001b[39m \u001b[43mcar\u001b[49m\u001b[43m(\u001b[49m\u001b[43m)\u001b[49m\n",
      "\u001b[1;31mTypeError\u001b[0m: __init__() missing 3 required positional arguments: 'brand_name', 'fueltype', and 'body_type'"
     ]
    }
   ],
   "source": [
    "innova = car()"
   ]
  },
  {
   "cell_type": "code",
   "execution_count": 8,
   "id": "63b3b539",
   "metadata": {},
   "outputs": [],
   "source": [
    "innova = car('Toyota','Petrol','SUV')\n",
    "# innova is class variable "
   ]
  },
  {
   "cell_type": "code",
   "execution_count": 9,
   "id": "7bedbf44",
   "metadata": {},
   "outputs": [
    {
     "ename": "TypeError",
     "evalue": "desc_car() takes 0 positional arguments but 1 was given",
     "output_type": "error",
     "traceback": [
      "\u001b[1;31m---------------------------------------------------------------------------\u001b[0m",
      "\u001b[1;31mTypeError\u001b[0m                                 Traceback (most recent call last)",
      "Input \u001b[1;32mIn [9]\u001b[0m, in \u001b[0;36m<cell line: 1>\u001b[1;34m()\u001b[0m\n\u001b[1;32m----> 1\u001b[0m \u001b[43minnova\u001b[49m\u001b[38;5;241;43m.\u001b[39;49m\u001b[43mdesc_car\u001b[49m\u001b[43m(\u001b[49m\u001b[43m)\u001b[49m\n",
      "\u001b[1;31mTypeError\u001b[0m: desc_car() takes 0 positional arguments but 1 was given"
     ]
    }
   ],
   "source": [
    "innova.desc_car()"
   ]
  },
  {
   "cell_type": "code",
   "execution_count": 12,
   "id": "2bba25bb",
   "metadata": {},
   "outputs": [],
   "source": [
    "class car:  # car is not function its class\n",
    "    def __init__(self,brand_name,fueltype,body_type):\n",
    "        # self is pointer, which must inside class function\n",
    "        self.brand_name = brand_name\n",
    "        self.fueltype = fueltype\n",
    "        self.body_type = body_type\n",
    "    # __init__ is constructor which helps to take input or which pass data to class\n",
    "    \n",
    "    def desc_car(self):\n",
    "        print(self.brand_name,self.fueltype,self.body_type)"
   ]
  },
  {
   "cell_type": "code",
   "execution_count": 13,
   "id": "def74f77",
   "metadata": {},
   "outputs": [],
   "source": [
    "innova = car('Toyota','Petrol','SUV')\n",
    "# innova is class variable  and called object\n",
    "nexon = car('TATA','Petrol','mini SUV')\n",
    "fortuner = car('TOYOTA','Diesel','SUV')\n",
    "# innova, nexon and fortuner all are called object"
   ]
  },
  {
   "cell_type": "code",
   "execution_count": 16,
   "id": "6211e92e",
   "metadata": {},
   "outputs": [
    {
     "name": "stdout",
     "output_type": "stream",
     "text": [
      "Toyota Petrol SUV\n",
      "TATA Petrol mini SUV\n",
      "TOYOTA Diesel SUV\n"
     ]
    }
   ],
   "source": [
    "innova.desc_car()\n",
    "nexon.desc_car()\n",
    "fortuner.desc_car()"
   ]
  },
  {
   "cell_type": "code",
   "execution_count": 17,
   "id": "5f4dbdb3",
   "metadata": {},
   "outputs": [
    {
     "data": {
      "text/plain": [
       "'Toyota'"
      ]
     },
     "execution_count": 17,
     "metadata": {},
     "output_type": "execute_result"
    }
   ],
   "source": [
    "innova.brand_name"
   ]
  },
  {
   "cell_type": "code",
   "execution_count": 18,
   "id": "a7032766",
   "metadata": {
    "scrolled": true
   },
   "outputs": [
    {
     "name": "stdout",
     "output_type": "stream",
     "text": [
      "<class 'int'>\n"
     ]
    }
   ],
   "source": [
    "a = 10 # a is variable of int class so a is object\n",
    "print(type(a))"
   ]
  },
  {
   "cell_type": "markdown",
   "id": "d43703fb",
   "metadata": {},
   "source": [
    "**DATE 20 OCT 2022** \n",
    "\n",
    "[LINK](https://www.youtube.com/watch?v=SqsdVSBRyZ4)"
   ]
  },
  {
   "cell_type": "code",
   "execution_count": 9,
   "id": "55122d4a",
   "metadata": {},
   "outputs": [],
   "source": [
    "# OOPS just a way to do coding nothig else\n",
    "# class is blueprint and object is real time entity"
   ]
  },
  {
   "cell_type": "code",
   "execution_count": 19,
   "id": "33ab905c",
   "metadata": {},
   "outputs": [],
   "source": [
    "class car:\n",
    "    def __init__(self, body_type, engine, fuel_type):\n",
    "        self.body_type = body_type\n",
    "        self.engine = engine\n",
    "        self.fuel_type = fuel_type # = input(),='Petrol' we can assign value here\n",
    "    # init is initilization method or object\n",
    "    def test(self):\n",
    "        print('This is my 1st method in class car')"
   ]
  },
  {
   "cell_type": "code",
   "execution_count": 20,
   "id": "89d5def9",
   "metadata": {},
   "outputs": [
    {
     "ename": "TypeError",
     "evalue": "__init__() missing 3 required positional arguments: 'body_type', 'engine', and 'fuel_type'",
     "output_type": "error",
     "traceback": [
      "\u001b[1;31m---------------------------------------------------------------------------\u001b[0m",
      "\u001b[1;31mTypeError\u001b[0m                                 Traceback (most recent call last)",
      "Input \u001b[1;32mIn [20]\u001b[0m, in \u001b[0;36m<cell line: 1>\u001b[1;34m()\u001b[0m\n\u001b[1;32m----> 1\u001b[0m Estilo \u001b[38;5;241m=\u001b[39m \u001b[43mcar\u001b[49m\u001b[43m(\u001b[49m\u001b[43m)\u001b[49m\n",
      "\u001b[1;31mTypeError\u001b[0m: __init__() missing 3 required positional arguments: 'body_type', 'engine', and 'fuel_type'"
     ]
    }
   ],
   "source": [
    "Estilo = car()"
   ]
  },
  {
   "cell_type": "code",
   "execution_count": 21,
   "id": "97efd3df",
   "metadata": {},
   "outputs": [
    {
     "data": {
      "text/plain": [
       "[1, 2, 3, 4, 5]"
      ]
     },
     "execution_count": 21,
     "metadata": {},
     "output_type": "execute_result"
    }
   ],
   "source": [
    "l"
   ]
  },
  {
   "cell_type": "code",
   "execution_count": 22,
   "id": "07fd5ee8",
   "metadata": {},
   "outputs": [],
   "source": [
    "Estilo = car('Hatchback',\"BS3\",'Petrol')"
   ]
  },
  {
   "cell_type": "code",
   "execution_count": 23,
   "id": "84793c93",
   "metadata": {},
   "outputs": [],
   "source": [
    "Nexon = car('SUV','BS4','Petrol')\n",
    "# Nexon and Estile is class variable "
   ]
  },
  {
   "cell_type": "code",
   "execution_count": 24,
   "id": "42c13427",
   "metadata": {},
   "outputs": [
    {
     "data": {
      "text/plain": [
       "'Hatchback'"
      ]
     },
     "execution_count": 24,
     "metadata": {},
     "output_type": "execute_result"
    }
   ],
   "source": [
    "Estilo.body_type"
   ]
  },
  {
   "cell_type": "code",
   "execution_count": 25,
   "id": "d751c340",
   "metadata": {},
   "outputs": [
    {
     "data": {
      "text/plain": [
       "'Petrol'"
      ]
     },
     "execution_count": 25,
     "metadata": {},
     "output_type": "execute_result"
    }
   ],
   "source": [
    "Estilo.fuel_type"
   ]
  },
  {
   "cell_type": "code",
   "execution_count": 26,
   "id": "44b4cedd",
   "metadata": {},
   "outputs": [
    {
     "data": {
      "text/plain": [
       "'BS4'"
      ]
     },
     "execution_count": 26,
     "metadata": {},
     "output_type": "execute_result"
    }
   ],
   "source": [
    "Nexon.engine"
   ]
  },
  {
   "cell_type": "code",
   "execution_count": 27,
   "id": "653f5043",
   "metadata": {},
   "outputs": [
    {
     "name": "stdout",
     "output_type": "stream",
     "text": [
      "<class 'int'>\n"
     ]
    }
   ],
   "source": [
    "a = 2 # a is a object of class int\n",
    "print(type(a))"
   ]
  },
  {
   "cell_type": "code",
   "execution_count": 28,
   "id": "485e3af1",
   "metadata": {},
   "outputs": [],
   "source": [
    "class car1: \n",
    "    # __init__ is a way to pass a data to the class\n",
    "    def __init__(self, body_type, engine, fuel_type):\n",
    "        self.body_type1 = body_type\n",
    "        self.engine = engine\n",
    "        self.fuel_type = fuel_type # = input(),='Petrol' we can assign value here\n",
    "    # init is initilization method or object\n",
    "    def test(self):\n",
    "        print('This is my 1st method in class car')"
   ]
  },
  {
   "cell_type": "code",
   "execution_count": 29,
   "id": "81894928",
   "metadata": {},
   "outputs": [
    {
     "ename": "AttributeError",
     "evalue": "'car1' object has no attribute 'body_type'",
     "output_type": "error",
     "traceback": [
      "\u001b[1;31m---------------------------------------------------------------------------\u001b[0m",
      "\u001b[1;31mAttributeError\u001b[0m                            Traceback (most recent call last)",
      "Input \u001b[1;32mIn [29]\u001b[0m, in \u001b[0;36m<cell line: 2>\u001b[1;34m()\u001b[0m\n\u001b[0;32m      1\u001b[0m Estilo \u001b[38;5;241m=\u001b[39m car1(\u001b[38;5;124m'\u001b[39m\u001b[38;5;124mHatchback\u001b[39m\u001b[38;5;124m'\u001b[39m,\u001b[38;5;124m\"\u001b[39m\u001b[38;5;124mBS3\u001b[39m\u001b[38;5;124m\"\u001b[39m,\u001b[38;5;124m'\u001b[39m\u001b[38;5;124mPetrol\u001b[39m\u001b[38;5;124m'\u001b[39m)\n\u001b[1;32m----> 2\u001b[0m \u001b[43mEstilo\u001b[49m\u001b[38;5;241;43m.\u001b[39;49m\u001b[43mbody_type\u001b[49m\n",
      "\u001b[1;31mAttributeError\u001b[0m: 'car1' object has no attribute 'body_type'"
     ]
    }
   ],
   "source": [
    "Estilo = car1('Hatchback',\"BS3\",'Petrol')\n",
    "Estilo.body_type"
   ]
  },
  {
   "cell_type": "code",
   "execution_count": 30,
   "id": "5eaa6e52",
   "metadata": {},
   "outputs": [
    {
     "data": {
      "text/plain": [
       "'Hatchback'"
      ]
     },
     "execution_count": 30,
     "metadata": {},
     "output_type": "execute_result"
    }
   ],
   "source": [
    "Estilo.body_type1  # it will call self.body_type not body_type"
   ]
  },
  {
   "cell_type": "code",
   "execution_count": 31,
   "id": "3cca418e",
   "metadata": {},
   "outputs": [],
   "source": [
    "class car2: \n",
    "    # __init__ is a way to pass a data to the class\n",
    "    def __init__(self, body_type, engine, fuel_type):\n",
    "        self.a = body_type\n",
    "        self.b = engine\n",
    "        self.b = fuel_type # = input(),='Petrol' we can assign value here\n",
    "    # init is initilization method or object\n",
    "    def test(self):\n",
    "        print('This is my 1st method in class car')"
   ]
  },
  {
   "cell_type": "code",
   "execution_count": 32,
   "id": "3f17b17a",
   "metadata": {},
   "outputs": [
    {
     "data": {
      "text/plain": [
       "'Petrol'"
      ]
     },
     "execution_count": 32,
     "metadata": {},
     "output_type": "execute_result"
    }
   ],
   "source": [
    "Estilo = car2('Hatchback',\"BS3\",'Petrol')\n",
    "Estilo.b"
   ]
  },
  {
   "cell_type": "code",
   "execution_count": 33,
   "id": "b50cf557",
   "metadata": {},
   "outputs": [],
   "source": [
    "class car3: \n",
    "    # __init__ is a way to pass a data to the class\n",
    "    def __init__(sharad, body_type, engine, fuel_type):\n",
    "        sharad.a = body_type\n",
    "        sharad.b = engine\n",
    "        sharad.b = fuel_type # = input(),='Petrol' we can assign value here\n",
    "    # init is initilization method or object\n",
    "    def test(sharad):\n",
    "        print('This is my 1st method in class car')"
   ]
  },
  {
   "cell_type": "code",
   "execution_count": 34,
   "id": "e96a044a",
   "metadata": {},
   "outputs": [
    {
     "data": {
      "text/plain": [
       "'Petrol'"
      ]
     },
     "execution_count": 34,
     "metadata": {},
     "output_type": "execute_result"
    }
   ],
   "source": [
    "Estilo = car3('Hatchback',\"BS3\",'Petrol')\n",
    "Estilo.b # work without self-/self is not reserved keyword"
   ]
  },
  {
   "cell_type": "code",
   "execution_count": 35,
   "id": "f524b2eb",
   "metadata": {},
   "outputs": [
    {
     "name": "stdout",
     "output_type": "stream",
     "text": [
      "This is my 1st method in class car\n"
     ]
    }
   ],
   "source": [
    "Estilo.test()\n",
    "# Every method in class, self should be there\n",
    "# because self behaving as pointer"
   ]
  },
  {
   "cell_type": "code",
   "execution_count": 36,
   "id": "b7a68f2a",
   "metadata": {},
   "outputs": [],
   "source": [
    "class car3: \n",
    "    # __init__ is a way to pass a data to the class whenever is required\n",
    "    def test(self):\n",
    "        print('this is class without __init__ method')"
   ]
  },
  {
   "cell_type": "code",
   "execution_count": 37,
   "id": "7ae55116",
   "metadata": {},
   "outputs": [],
   "source": [
    "x = car3()"
   ]
  },
  {
   "cell_type": "code",
   "execution_count": 38,
   "id": "5e34294a",
   "metadata": {},
   "outputs": [
    {
     "name": "stdout",
     "output_type": "stream",
     "text": [
      "this is class without __init__ method\n"
     ]
    }
   ],
   "source": [
    "x.test()"
   ]
  },
  {
   "cell_type": "code",
   "execution_count": 39,
   "id": "ef0afd1a",
   "metadata": {},
   "outputs": [],
   "source": [
    "class car4: \n",
    "    # __init__ is a way to pass a data to the class \n",
    "    # whenever is required\n",
    "    def test(self,b,c):\n",
    "        print('this is class without __init__ method')"
   ]
  },
  {
   "cell_type": "code",
   "execution_count": 40,
   "id": "b319cfef",
   "metadata": {},
   "outputs": [
    {
     "name": "stdout",
     "output_type": "stream",
     "text": [
      "this is class without __init__ method\n"
     ]
    }
   ],
   "source": [
    "y = car4()\n",
    "y.test(3,\"sharad\")"
   ]
  },
  {
   "cell_type": "code",
   "execution_count": 41,
   "id": "0e60a239",
   "metadata": {},
   "outputs": [
    {
     "name": "stdout",
     "output_type": "stream",
     "text": [
      "<class '__main__.car4'>\n"
     ]
    }
   ],
   "source": [
    "print(type(y))\n",
    "# variable of class called object"
   ]
  },
  {
   "cell_type": "code",
   "execution_count": 42,
   "id": "1ddad06d",
   "metadata": {},
   "outputs": [],
   "source": [
    "# __main__ is super class of class"
   ]
  },
  {
   "cell_type": "code",
   "execution_count": 43,
   "id": "52354b8f",
   "metadata": {},
   "outputs": [],
   "source": [
    "class list_parser:\n",
    "    \n",
    "    def parser(self,a):\n",
    "        if type(a) == list:\n",
    "            for i in a:\n",
    "                print(i)\n",
    "                \n",
    "    def reverse_list(self,z):\n",
    "        if type(z) == list:\n",
    "            return z[::-1]"
   ]
  },
  {
   "cell_type": "code",
   "execution_count": 44,
   "id": "cd53f7a3",
   "metadata": {},
   "outputs": [
    {
     "name": "stdout",
     "output_type": "stream",
     "text": [
      "1\n",
      "2\n",
      "3\n",
      "45\n",
      "5\n",
      "67\n"
     ]
    }
   ],
   "source": [
    "c = list_parser()\n",
    "lst = [1,2,3,45,5,67]\n",
    "c.parser(lst)"
   ]
  },
  {
   "cell_type": "code",
   "execution_count": 45,
   "id": "5ab7bee5",
   "metadata": {},
   "outputs": [
    {
     "data": {
      "text/plain": [
       "[67, 5, 45, 3, 2, 1]"
      ]
     },
     "execution_count": 45,
     "metadata": {},
     "output_type": "execute_result"
    }
   ],
   "source": [
    "c.reverse_list(lst)"
   ]
  },
  {
   "cell_type": "code",
   "execution_count": 46,
   "id": "303d8886",
   "metadata": {},
   "outputs": [],
   "source": [
    "class list_parser1:\n",
    "    \n",
    "    def __init__(self,l):\n",
    "        self.l = l\n",
    "    \n",
    "    def parser(self):\n",
    "        if type(self.l) == list:\n",
    "            for i in self.l:\n",
    "                print(i)\n",
    "                \n",
    "    def reverse_list(self):\n",
    "        if type(self.l) == list:\n",
    "            return self.l[::-1]"
   ]
  },
  {
   "cell_type": "code",
   "execution_count": 47,
   "id": "0721dda0",
   "metadata": {},
   "outputs": [
    {
     "name": "stdout",
     "output_type": "stream",
     "text": [
      "1\n",
      "2\n",
      "3\n",
      "45\n",
      "5\n",
      "67\n"
     ]
    },
    {
     "data": {
      "text/plain": [
       "[67, 5, 45, 3, 2, 1]"
      ]
     },
     "execution_count": 47,
     "metadata": {},
     "output_type": "execute_result"
    }
   ],
   "source": [
    "b = list_parser1(lst)\n",
    "b.parser()\n",
    "b.reverse_list()"
   ]
  },
  {
   "cell_type": "code",
   "execution_count": 48,
   "id": "010228e8",
   "metadata": {},
   "outputs": [],
   "source": [
    "# Similar all list method have written in list class."
   ]
  },
  {
   "cell_type": "markdown",
   "id": "1903c93f",
   "metadata": {},
   "source": [
    "#### Create a class for dictionary parsing\n",
    "1. write a function to give all the keys\n",
    "1. give all the value\n",
    "1. throw an error in case of input is not in dictionary.\n",
    "1. Parse key values pair out of dict\n",
    "1. insert new key value pair into dict."
   ]
  },
  {
   "cell_type": "code",
   "execution_count": 1,
   "id": "46445cea",
   "metadata": {},
   "outputs": [],
   "source": [
    "class dict_parser:\n",
    "    \n",
    "    def __init__(self,d):\n",
    "        self.d = d\n",
    "    \n",
    "    def keys(self):\n",
    "        if type(self.d)== dict:\n",
    "            return list(self.d.keys())\n",
    "        \n",
    "    def values(self):\n",
    "        if type(self.d)== dict:\n",
    "            return list(self.d.values())\n",
    "        \n",
    "    def types(self):\n",
    "        if type(self.d) != dict:\n",
    "            raise Exception('error!!')\n",
    "            \n",
    "    def pairs(self):\n",
    "        if type(self.d)== dict:\n",
    "            return list(self.d.items())\n",
    "        \n",
    "    def new_pair(self,a,b):\n",
    "        if type(self.d)== dict:\n",
    "            self.d[a] = b\n",
    "            return self.d\n",
    "        \n",
    "    def input_by_User(self):\n",
    "        self.d = eval(input())\n",
    "        print(self.keys())\n",
    "        print(self.values())\n",
    "        print(self.pairs())"
   ]
  },
  {
   "cell_type": "code",
   "execution_count": 2,
   "id": "48e8df37",
   "metadata": {},
   "outputs": [],
   "source": [
    "dictionary = dict_parser({'Name':'Sharad','age':27})"
   ]
  },
  {
   "cell_type": "code",
   "execution_count": 3,
   "id": "866fd91e",
   "metadata": {},
   "outputs": [
    {
     "data": {
      "text/plain": [
       "['Name', 'age']"
      ]
     },
     "execution_count": 3,
     "metadata": {},
     "output_type": "execute_result"
    }
   ],
   "source": [
    "dictionary.keys()"
   ]
  },
  {
   "cell_type": "code",
   "execution_count": 4,
   "id": "11096afe",
   "metadata": {},
   "outputs": [
    {
     "data": {
      "text/plain": [
       "['Sharad', 27]"
      ]
     },
     "execution_count": 4,
     "metadata": {},
     "output_type": "execute_result"
    }
   ],
   "source": [
    "dictionary.values()"
   ]
  },
  {
   "cell_type": "code",
   "execution_count": 5,
   "id": "3da9d6d3",
   "metadata": {},
   "outputs": [
    {
     "data": {
      "text/plain": [
       "[('Name', 'Sharad'), ('age', 27)]"
      ]
     },
     "execution_count": 5,
     "metadata": {},
     "output_type": "execute_result"
    }
   ],
   "source": [
    "dictionary.pairs()"
   ]
  },
  {
   "cell_type": "code",
   "execution_count": 6,
   "id": "e24d9f1b",
   "metadata": {
    "scrolled": true
   },
   "outputs": [
    {
     "data": {
      "text/plain": [
       "{'Name': 'Sharad', 'age': 27, 'Email': 'sharadpardhe08@gmail.com'}"
      ]
     },
     "execution_count": 6,
     "metadata": {},
     "output_type": "execute_result"
    }
   ],
   "source": [
    "dictionary.new_pair('Email','sharadpardhe08@gmail.com')"
   ]
  },
  {
   "cell_type": "code",
   "execution_count": 7,
   "id": "91a8443e",
   "metadata": {
    "scrolled": false
   },
   "outputs": [
    {
     "name": "stdout",
     "output_type": "stream",
     "text": [
      "{'Name': 'Sharad', 'age': 27, 'Email': 'sharadpardhe08@gmail.com'}\n",
      "['Name', 'age', 'Email']\n",
      "['Sharad', 27, 'sharadpardhe08@gmail.com']\n",
      "[('Name', 'Sharad'), ('age', 27), ('Email', 'sharadpardhe08@gmail.com')]\n"
     ]
    }
   ],
   "source": [
    "dictionary.input_by_User()"
   ]
  },
  {
   "cell_type": "code",
   "execution_count": 8,
   "id": "ad30ac2d",
   "metadata": {},
   "outputs": [
    {
     "ename": "Exception",
     "evalue": "error!!",
     "output_type": "error",
     "traceback": [
      "\u001b[1;31m---------------------------------------------------------------------------\u001b[0m",
      "\u001b[1;31mException\u001b[0m                                 Traceback (most recent call last)",
      "Input \u001b[1;32mIn [8]\u001b[0m, in \u001b[0;36m<cell line: 2>\u001b[1;34m()\u001b[0m\n\u001b[0;32m      1\u001b[0m new_object \u001b[38;5;241m=\u001b[39m dict_parser([\u001b[38;5;241m1\u001b[39m,\u001b[38;5;241m3\u001b[39m,\u001b[38;5;241m45\u001b[39m])\n\u001b[1;32m----> 2\u001b[0m \u001b[43mnew_object\u001b[49m\u001b[38;5;241;43m.\u001b[39;49m\u001b[43mtypes\u001b[49m\u001b[43m(\u001b[49m\u001b[43m)\u001b[49m\n",
      "Input \u001b[1;32mIn [1]\u001b[0m, in \u001b[0;36mdict_parser.types\u001b[1;34m(self)\u001b[0m\n\u001b[0;32m     14\u001b[0m \u001b[38;5;28;01mdef\u001b[39;00m \u001b[38;5;21mtypes\u001b[39m(\u001b[38;5;28mself\u001b[39m):\n\u001b[0;32m     15\u001b[0m     \u001b[38;5;28;01mif\u001b[39;00m \u001b[38;5;28mtype\u001b[39m(\u001b[38;5;28mself\u001b[39m\u001b[38;5;241m.\u001b[39md) \u001b[38;5;241m!=\u001b[39m \u001b[38;5;28mdict\u001b[39m:\n\u001b[1;32m---> 16\u001b[0m         \u001b[38;5;28;01mraise\u001b[39;00m \u001b[38;5;167;01mException\u001b[39;00m(\u001b[38;5;124m'\u001b[39m\u001b[38;5;124merror!!\u001b[39m\u001b[38;5;124m'\u001b[39m)\n",
      "\u001b[1;31mException\u001b[0m: error!!"
     ]
    }
   ],
   "source": [
    "new_object = dict_parser([1,3,45])\n",
    "new_object.types()"
   ]
  },
  {
   "cell_type": "markdown",
   "id": "52c7173c",
   "metadata": {},
   "source": [
    "**Reset my notebook**"
   ]
  },
  {
   "cell_type": "code",
   "execution_count": 57,
   "id": "174d8a0c",
   "metadata": {},
   "outputs": [
    {
     "data": {
      "text/plain": [
       "<_io.TextIOWrapper name='mydict.py' mode='w' encoding='cp1252'>"
      ]
     },
     "execution_count": 57,
     "metadata": {},
     "output_type": "execute_result"
    }
   ],
   "source": [
    "open('mydict.py','w')"
   ]
  },
  {
   "cell_type": "markdown",
   "id": "2494feda",
   "metadata": {},
   "source": [
    "write this code in mydict.py file\n",
    "```def keys(self):\n",
    "        if type(self.d)== dict:\n",
    "            return list(self.d.keys())\n",
    "        \n",
    "    def values(self):\n",
    "        if type(self.d)== dict:\n",
    "            return list(self.d.values())\n",
    "        \n",
    "    def types(self):\n",
    "        if type(self.d) != dict:\n",
    "            raise Exception('error!!')\n",
    "            \n",
    "    def pairs(self):\n",
    "        if type(self.d)== dict:\n",
    "            return list(self.d.items())\n",
    "        \n",
    "    def new_pair(self,a,b):\n",
    "        if type(self.d)== dict:\n",
    "            self.d[a] = b\n",
    "            return self.d\n",
    "        \n",
    "    def input_by_User(self):\n",
    "        self.d = eval(input())\n",
    "        print(self.keys())\n",
    "        print(self.values())\n",
    "        print(self.pairs())```"
   ]
  },
  {
   "cell_type": "code",
   "execution_count": 2,
   "id": "91e4ceb7",
   "metadata": {},
   "outputs": [
    {
     "name": "stdout",
     "output_type": "stream",
     "text": [
      " Volume in drive C is Windows SSD\n",
      " Volume Serial Number is FCA4-BF44\n",
      "\n",
      " Directory of C:\\Users\\HP\\1AI iNeuron\n",
      "\n",
      "20-10-2022  05:37 PM    <DIR>          .\n",
      "20-10-2022  05:37 PM    <DIR>          ..\n",
      "20-10-2022  09:14 AM    <DIR>          .ipynb_checkpoints\n",
      "19-10-2022  06:04 PM    <DIR>          __pycache__\n",
      "19-10-2022  06:18 PM             9,912 03_Module and Packages_19oct.ipynb\n",
      "20-10-2022  05:37 PM            28,856 04_OOPS_19OCT.ipynb\n",
      "19-10-2022  04:02 PM             5,902 Assignment_5.ipynb\n",
      "20-10-2022  10:03 AM             9,137 Assignment_6.ipynb\n",
      "18-10-2022  04:44 PM            11,786 Assignmet_4.ipynb\n",
      "17-10-2022  08:04 AM            19,914 CH6,7 ATBSWP .ipynb\n",
      "17-10-2022  09:53 AM             6,599 Chapter_7_INPUT VALIDATION.ipynb\n",
      "19-10-2022  09:15 AM            10,025 Chapter_9 READING AND WRITING FILES.ipynb\n",
      "19-10-2022  09:52 AM            41,660 Exception Handling_15oct.ipynb\n",
      "18-10-2022  11:08 PM             4,596 logging_18oct.ipynb\n",
      "19-10-2022  06:03 PM               204 my_module.py\n",
      "19-10-2022  06:07 PM    <DIR>          my_project\n",
      "20-10-2022  05:38 PM                 0 mydict.py\n",
      "19-10-2022  05:06 PM               932 test.ipynb\n",
      "19-10-2022  05:16 PM               198 test.py\n",
      "19-10-2022  06:02 PM                 0 test2.py\n",
      "              15 File(s)        149,721 bytes\n",
      "               5 Dir(s)  61,550,333,952 bytes free\n"
     ]
    }
   ],
   "source": [
    "ls"
   ]
  },
  {
   "cell_type": "code",
   "execution_count": 5,
   "id": "a0dcd914",
   "metadata": {},
   "outputs": [],
   "source": [
    "import mydict"
   ]
  },
  {
   "cell_type": "code",
   "execution_count": 9,
   "id": "553e05f1",
   "metadata": {},
   "outputs": [],
   "source": [
    "d = mydict.dict_parser({'Name':'Sharad','age':27})"
   ]
  },
  {
   "cell_type": "code",
   "execution_count": 10,
   "id": "5670f51d",
   "metadata": {},
   "outputs": [
    {
     "data": {
      "text/plain": [
       "['Name', 'age']"
      ]
     },
     "execution_count": 10,
     "metadata": {},
     "output_type": "execute_result"
    }
   ],
   "source": [
    "d.keys()"
   ]
  },
  {
   "cell_type": "code",
   "execution_count": 11,
   "id": "fb17eb1e",
   "metadata": {},
   "outputs": [
    {
     "data": {
      "text/plain": [
       "['Sharad', 27]"
      ]
     },
     "execution_count": 11,
     "metadata": {},
     "output_type": "execute_result"
    }
   ],
   "source": [
    "d.values()"
   ]
  },
  {
   "cell_type": "code",
   "execution_count": 12,
   "id": "4bc0bd85",
   "metadata": {},
   "outputs": [
    {
     "data": {
      "text/plain": [
       "[('Name', 'Sharad'), ('age', 27)]"
      ]
     },
     "execution_count": 12,
     "metadata": {},
     "output_type": "execute_result"
    }
   ],
   "source": [
    "d.pairs()"
   ]
  },
  {
   "cell_type": "code",
   "execution_count": 13,
   "id": "cdfc2538",
   "metadata": {},
   "outputs": [],
   "source": [
    "from mydict import dict_parser"
   ]
  },
  {
   "cell_type": "code",
   "execution_count": 14,
   "id": "10e544fe",
   "metadata": {},
   "outputs": [],
   "source": [
    "d1 = dict_parser({'Name':'Sharad','age':27})"
   ]
  },
  {
   "cell_type": "code",
   "execution_count": 16,
   "id": "e9149615",
   "metadata": {},
   "outputs": [
    {
     "data": {
      "text/plain": [
       "['Name', 'age']"
      ]
     },
     "execution_count": 16,
     "metadata": {},
     "output_type": "execute_result"
    }
   ],
   "source": [
    "d1.keys() # goes the same"
   ]
  },
  {
   "cell_type": "code",
   "execution_count": 17,
   "id": "e4ee339b",
   "metadata": {},
   "outputs": [],
   "source": [
    "# i can keep thousand of class and can import like this\n",
    "# from file_name(module) import class_name(dict_parser)"
   ]
  },
  {
   "cell_type": "code",
   "execution_count": 19,
   "id": "2ffd9ca4",
   "metadata": {},
   "outputs": [],
   "source": [
    "import mydict\n",
    "from mydict import dict_parser"
   ]
  },
  {
   "cell_type": "markdown",
   "id": "c566ab79",
   "metadata": {},
   "source": [
    "# 7 nov 2022"
   ]
  },
  {
   "cell_type": "markdown",
   "id": "4580e8ee",
   "metadata": {},
   "source": [
    "**Quetions**\n",
    "1. Create your own pakage for all list fuction.\n",
    "1. Same for tupel.\n",
    "1. Same for dict.\n",
    "1. Same for set.\n",
    "\n",
    "**Guidlines-**      \n",
    ">1.always use exception handling  \n",
    "2.never use print fcn  \n",
    "3.use leggign while writing a code and log every activity performed by code in respective logging file."
   ]
  },
  {
   "cell_type": "code",
   "execution_count": 1,
   "id": "e420f7a0",
   "metadata": {},
   "outputs": [],
   "source": [
    "# for list \n",
    "class new_list(): # defining the class name new_list\n",
    "    def __init__(self,lst): # __init__ method is passing the data to the class and self is a poiter \n",
    "        self.lst= lst \n",
    "        \n",
    "    def new_type(self):\n",
    "        if type(self.lst) != list:\n",
    "            raise Exception (self.lst,',not a list, Error! ,')\n",
    "        return self.lst\n",
    "    \n",
    "    def new_append(self,ne): # ne for new element \n",
    "        if self.new_type(): #1\n",
    "            self.lst.append(ne)\n",
    "        return self.lst  \n",
    "    \n",
    "    def new_clear(self): #2\n",
    "        if self.new_type():\n",
    "            self.lst.clear()\n",
    "        return self.lst\n",
    "    \n",
    "    def new_count(self,a): #3\n",
    "        if self.new_type():\n",
    "            c = self.lst.count(a)\n",
    "        return c \n",
    "    \n",
    "    def new_extend(self,b): #4\n",
    "        if self.new_type():\n",
    "            self.lst.extend(b)\n",
    "        return self.lst\n",
    "    \n",
    "    def new_index(self,c): #5\n",
    "        if self.new_type():\n",
    "            i = self.lst.index(c)\n",
    "        return i\n",
    "    \n",
    "    def new_insert(self,i,e): #6\n",
    "        if self.new_type():\n",
    "            self.lst.insert(i,e)\n",
    "        return self.lst\n",
    "    \n",
    "    def new_pop(self):   #7\n",
    "        if self.new_type():\n",
    "            self.lst.pop()\n",
    "        return self.lst  \n",
    "    \n",
    "    def new_remove(self,re): #8\n",
    "        if self.new_type():\n",
    "            self.lst.remove(re)\n",
    "        return self.lst\n",
    "    \n",
    "    def new_reverse(self): # 9\n",
    "        if self.new_type():\n",
    "            self.lst.reverse()\n",
    "        return self.lst\n",
    "    \n",
    "    def new_sort(self): # 10\n",
    "        if self.new_type():\n",
    "            self.lst.sort()\n",
    "        return self.lst\n",
    "    \n",
    "    def new_max(self): # 11 \n",
    "        if self.new_type():\n",
    "            m = self.lst.max()\n",
    "        return m"
   ]
  },
  {
   "cell_type": "code",
   "execution_count": 2,
   "id": "58b8b41c",
   "metadata": {},
   "outputs": [],
   "source": [
    "lst = ['sharad', 'pardhe', 'IITian']\n",
    "new_lst = new_list(lst)"
   ]
  },
  {
   "cell_type": "code",
   "execution_count": 3,
   "id": "4eb5b51b",
   "metadata": {},
   "outputs": [
    {
     "data": {
      "text/plain": [
       "['IITian', 'pardhe', 'sharad']"
      ]
     },
     "execution_count": 3,
     "metadata": {},
     "output_type": "execute_result"
    }
   ],
   "source": [
    "new_lst.new_reverse()"
   ]
  },
  {
   "cell_type": "code",
   "execution_count": 4,
   "id": "5ab71d20",
   "metadata": {},
   "outputs": [
    {
     "data": {
      "text/plain": [
       "['IITian', 'pardhe', 'sharad']"
      ]
     },
     "execution_count": 4,
     "metadata": {},
     "output_type": "execute_result"
    }
   ],
   "source": [
    "new_lst.new_sort()"
   ]
  },
  {
   "cell_type": "code",
   "execution_count": 5,
   "id": "c5b86e61",
   "metadata": {},
   "outputs": [
    {
     "data": {
      "text/plain": [
       "['pardhe', 'sharad']"
      ]
     },
     "execution_count": 5,
     "metadata": {},
     "output_type": "execute_result"
    }
   ],
   "source": [
    "new_lst.new_remove('IITian')"
   ]
  },
  {
   "cell_type": "code",
   "execution_count": 6,
   "id": "a6f11b07",
   "metadata": {},
   "outputs": [
    {
     "data": {
      "text/plain": [
       "['pardhe']"
      ]
     },
     "execution_count": 6,
     "metadata": {},
     "output_type": "execute_result"
    }
   ],
   "source": [
    "new_lst.new_pop()"
   ]
  },
  {
   "cell_type": "code",
   "execution_count": 7,
   "id": "4639e201",
   "metadata": {},
   "outputs": [
    {
     "data": {
      "text/plain": [
       "['pardhe', 'IITian']"
      ]
     },
     "execution_count": 7,
     "metadata": {},
     "output_type": "execute_result"
    }
   ],
   "source": [
    "new_lst.new_insert(2,'IITian')"
   ]
  },
  {
   "cell_type": "code",
   "execution_count": 9,
   "id": "09fadbb6",
   "metadata": {},
   "outputs": [
    {
     "data": {
      "text/plain": [
       "0"
      ]
     },
     "execution_count": 9,
     "metadata": {},
     "output_type": "execute_result"
    }
   ],
   "source": [
    "new_lst.new_index('pardhe')"
   ]
  },
  {
   "cell_type": "code",
   "execution_count": 10,
   "id": "80b60773",
   "metadata": {},
   "outputs": [
    {
     "data": {
      "text/plain": [
       "['pardhe', 'IITian', 1, 2, 3, 4]"
      ]
     },
     "execution_count": 10,
     "metadata": {},
     "output_type": "execute_result"
    }
   ],
   "source": [
    "new_lst.new_extend((1,2,3,4))"
   ]
  },
  {
   "cell_type": "code",
   "execution_count": 11,
   "id": "ec678ac6",
   "metadata": {},
   "outputs": [
    {
     "data": {
      "text/plain": [
       "0"
      ]
     },
     "execution_count": 11,
     "metadata": {},
     "output_type": "execute_result"
    }
   ],
   "source": [
    "new_lst.new_count('sharad')"
   ]
  },
  {
   "cell_type": "code",
   "execution_count": 12,
   "id": "ca9e2fc1",
   "metadata": {},
   "outputs": [
    {
     "data": {
      "text/plain": [
       "['pardhe', 'IITian', 1, 2, 3, 4]"
      ]
     },
     "execution_count": 12,
     "metadata": {},
     "output_type": "execute_result"
    }
   ],
   "source": [
    "new_lst.new_type()"
   ]
  },
  {
   "cell_type": "code",
   "execution_count": 13,
   "id": "43a5b841",
   "metadata": {},
   "outputs": [
    {
     "data": {
      "text/plain": [
       "['pardhe', 'IITian', 1, 2, 3, 4, 42]"
      ]
     },
     "execution_count": 13,
     "metadata": {},
     "output_type": "execute_result"
    }
   ],
   "source": [
    "new_lst.new_append(42)"
   ]
  },
  {
   "cell_type": "code",
   "execution_count": 14,
   "id": "12cbad59",
   "metadata": {},
   "outputs": [
    {
     "data": {
      "text/plain": [
       "[]"
      ]
     },
     "execution_count": 14,
     "metadata": {},
     "output_type": "execute_result"
    }
   ],
   "source": [
    "new_lst.new_clear()"
   ]
  },
  {
   "cell_type": "code",
   "execution_count": 17,
   "id": "27ad2054",
   "metadata": {},
   "outputs": [],
   "source": [
    "# for tuple\n",
    "\n",
    "class new_tuple():\n",
    "    \n",
    "    def __init__(self,t):\n",
    "        self.t = t \n",
    "        \n",
    "    def new_type(self):\n",
    "        if type(self.t) != tuple:\n",
    "            raise Exception (self.t, \",is not a tuple\")\n",
    "        return self.t    \n",
    "        \n",
    "    def new_index(self,c): #1\n",
    "        if self.new_type():\n",
    "            i = self.t.index(c)\n",
    "        return i\n",
    "    \n",
    "    def new_count(self,a): #2\n",
    "        if self.new_type():\n",
    "            c = self.t.count(a)\n",
    "        return c"
   ]
  },
  {
   "cell_type": "code",
   "execution_count": 18,
   "id": "03f0d2d7",
   "metadata": {},
   "outputs": [],
   "source": [
    "tpl = (3,3,3,5,5,6,2,34,43)\n",
    "o = new_tuple(tpl)"
   ]
  },
  {
   "cell_type": "code",
   "execution_count": 19,
   "id": "cc8caef0",
   "metadata": {},
   "outputs": [
    {
     "data": {
      "text/plain": [
       "3"
      ]
     },
     "execution_count": 19,
     "metadata": {},
     "output_type": "execute_result"
    }
   ],
   "source": [
    "o.new_index(5)"
   ]
  },
  {
   "cell_type": "code",
   "execution_count": 20,
   "id": "ae509ba0",
   "metadata": {},
   "outputs": [
    {
     "data": {
      "text/plain": [
       "3"
      ]
     },
     "execution_count": 20,
     "metadata": {},
     "output_type": "execute_result"
    }
   ],
   "source": [
    "o.new_count(3)"
   ]
  },
  {
   "cell_type": "code",
   "execution_count": 21,
   "id": "3f5bae9a",
   "metadata": {},
   "outputs": [],
   "source": [
    "newt = [34,434]\n",
    "ob = new_tuple(newt)\n"
   ]
  },
  {
   "cell_type": "code",
   "execution_count": 22,
   "id": "f40248ae",
   "metadata": {},
   "outputs": [
    {
     "ename": "Exception",
     "evalue": "([34, 434], ',is not a tuple')",
     "output_type": "error",
     "traceback": [
      "\u001b[1;31m---------------------------------------------------------------------------\u001b[0m",
      "\u001b[1;31mException\u001b[0m                                 Traceback (most recent call last)",
      "Input \u001b[1;32mIn [22]\u001b[0m, in \u001b[0;36m<cell line: 1>\u001b[1;34m()\u001b[0m\n\u001b[1;32m----> 1\u001b[0m \u001b[43mob\u001b[49m\u001b[38;5;241;43m.\u001b[39;49m\u001b[43mnew_type\u001b[49m\u001b[43m(\u001b[49m\u001b[43m)\u001b[49m\n",
      "Input \u001b[1;32mIn [17]\u001b[0m, in \u001b[0;36mnew_tuple.new_type\u001b[1;34m(self)\u001b[0m\n\u001b[0;32m      8\u001b[0m \u001b[38;5;28;01mdef\u001b[39;00m \u001b[38;5;21mnew_type\u001b[39m(\u001b[38;5;28mself\u001b[39m):\n\u001b[0;32m      9\u001b[0m     \u001b[38;5;28;01mif\u001b[39;00m \u001b[38;5;28mtype\u001b[39m(\u001b[38;5;28mself\u001b[39m\u001b[38;5;241m.\u001b[39mt) \u001b[38;5;241m!=\u001b[39m \u001b[38;5;28mtuple\u001b[39m:\n\u001b[1;32m---> 10\u001b[0m         \u001b[38;5;28;01mraise\u001b[39;00m \u001b[38;5;167;01mException\u001b[39;00m (\u001b[38;5;28mself\u001b[39m\u001b[38;5;241m.\u001b[39mt, \u001b[38;5;124m\"\u001b[39m\u001b[38;5;124m,is not a tuple\u001b[39m\u001b[38;5;124m\"\u001b[39m)\n\u001b[0;32m     11\u001b[0m     \u001b[38;5;28;01mreturn\u001b[39;00m \u001b[38;5;28mself\u001b[39m\u001b[38;5;241m.\u001b[39mt\n",
      "\u001b[1;31mException\u001b[0m: ([34, 434], ',is not a tuple')"
     ]
    }
   ],
   "source": [
    "ob.new_type()"
   ]
  },
  {
   "cell_type": "code",
   "execution_count": 47,
   "id": "0defeecc",
   "metadata": {},
   "outputs": [],
   "source": [
    "# for dictionary \n",
    "\n",
    "class dict_new():\n",
    "\n",
    "    def __init__(self,dictionary):\n",
    "        self.d = dictionary\n",
    "        \n",
    "    def type_n(self): # n for new \n",
    "        if type(self.d) != dict:\n",
    "            raise Exception(self.d, 'is not dictionary')\n",
    "        return self.d\n",
    "    \n",
    "    def clear_n(self):\n",
    "        if self.type_n():\n",
    "            self.d.clear()\n",
    "        return self.d\n",
    "    \n",
    "    def get_n(self,k):\n",
    "        if self.type_n():\n",
    "            v = self.d.get(k)\n",
    "        return v\n",
    "    \n",
    "    def items_n(self):\n",
    "        if self.type_n():\n",
    "            i = self.d.items()\n",
    "        return i\n",
    "    \n",
    "    def pop_n(self,k):\n",
    "        if self.type_n():\n",
    "            self.d.pop(k)\n",
    "        return self.d\n",
    "    \n",
    "    def popitem_n(self):\n",
    "        if self.type_n():\n",
    "            self.d.popitem()\n",
    "        return self.d\n",
    "    \n",
    "    def setdefault_n(self,k,v):\n",
    "        if self.type_n():\n",
    "            self.d.setdefault(k,v)\n",
    "        return self.d\n",
    "    \n",
    "    def update_n(self,nd):\n",
    "        if self.type_n():\n",
    "            d = self.d.update(nd)\n",
    "        return d\n",
    "        \n",
    "    \n",
    "    def keys_n(self):\n",
    "        if self.type_n():\n",
    "            return self.d.keys()\n",
    "    \n",
    "    def values_n(self):\n",
    "        if self.type_n():\n",
    "            return self.d.values()"
   ]
  },
  {
   "cell_type": "code",
   "execution_count": 48,
   "id": "04fcfb37",
   "metadata": {},
   "outputs": [
    {
     "ename": "Exception",
     "evalue": "([3, 4], 'is not dictionary')",
     "output_type": "error",
     "traceback": [
      "\u001b[1;31m---------------------------------------------------------------------------\u001b[0m",
      "\u001b[1;31mException\u001b[0m                                 Traceback (most recent call last)",
      "Input \u001b[1;32mIn [48]\u001b[0m, in \u001b[0;36m<cell line: 3>\u001b[1;34m()\u001b[0m\n\u001b[0;32m      1\u001b[0m l \u001b[38;5;241m=\u001b[39m [\u001b[38;5;241m3\u001b[39m,\u001b[38;5;241m4\u001b[39m]\n\u001b[0;32m      2\u001b[0m lo \u001b[38;5;241m=\u001b[39m dict_new(l)\n\u001b[1;32m----> 3\u001b[0m \u001b[43mlo\u001b[49m\u001b[38;5;241;43m.\u001b[39;49m\u001b[43mtype_n\u001b[49m\u001b[43m(\u001b[49m\u001b[43m)\u001b[49m\n",
      "Input \u001b[1;32mIn [47]\u001b[0m, in \u001b[0;36mdict_new.type_n\u001b[1;34m(self)\u001b[0m\n\u001b[0;32m      8\u001b[0m \u001b[38;5;28;01mdef\u001b[39;00m \u001b[38;5;21mtype_n\u001b[39m(\u001b[38;5;28mself\u001b[39m): \u001b[38;5;66;03m# n for new \u001b[39;00m\n\u001b[0;32m      9\u001b[0m     \u001b[38;5;28;01mif\u001b[39;00m \u001b[38;5;28mtype\u001b[39m(\u001b[38;5;28mself\u001b[39m\u001b[38;5;241m.\u001b[39md) \u001b[38;5;241m!=\u001b[39m \u001b[38;5;28mdict\u001b[39m:\n\u001b[1;32m---> 10\u001b[0m         \u001b[38;5;28;01mraise\u001b[39;00m \u001b[38;5;167;01mException\u001b[39;00m(\u001b[38;5;28mself\u001b[39m\u001b[38;5;241m.\u001b[39md, \u001b[38;5;124m'\u001b[39m\u001b[38;5;124mis not dictionary\u001b[39m\u001b[38;5;124m'\u001b[39m)\n\u001b[0;32m     11\u001b[0m     \u001b[38;5;28;01mreturn\u001b[39;00m \u001b[38;5;28mself\u001b[39m\u001b[38;5;241m.\u001b[39md\n",
      "\u001b[1;31mException\u001b[0m: ([3, 4], 'is not dictionary')"
     ]
    }
   ],
   "source": [
    "l = [3,4]\n",
    "lo = dict_new(l)\n",
    "lo.type_n()"
   ]
  },
  {
   "cell_type": "code",
   "execution_count": 49,
   "id": "287e52bd",
   "metadata": {},
   "outputs": [],
   "source": [
    "dic = {'Name':'Sharad','surname':'Pardhe','college':'IIT','age':27,\n",
    "       'email':'sharadpardhe08@gmail.com',\n",
    "      'contact': 8989969327 }\n",
    "do = dict_new(dic)"
   ]
  },
  {
   "cell_type": "code",
   "execution_count": 50,
   "id": "b5bf8cd3",
   "metadata": {},
   "outputs": [
    {
     "data": {
      "text/plain": [
       "'Sharad'"
      ]
     },
     "execution_count": 50,
     "metadata": {},
     "output_type": "execute_result"
    }
   ],
   "source": [
    "do.get_n('Name')"
   ]
  },
  {
   "cell_type": "code",
   "execution_count": 51,
   "id": "c2b50a3a",
   "metadata": {},
   "outputs": [
    {
     "data": {
      "text/plain": [
       "dict_items([('Name', 'Sharad'), ('surname', 'Pardhe'), ('college', 'IIT'), ('age', 27), ('email', 'sharadpardhe08@gmail.com'), ('contact', 8989969327)])"
      ]
     },
     "execution_count": 51,
     "metadata": {},
     "output_type": "execute_result"
    }
   ],
   "source": [
    "do.items_n()"
   ]
  },
  {
   "cell_type": "code",
   "execution_count": 52,
   "id": "b1b48233",
   "metadata": {},
   "outputs": [
    {
     "data": {
      "text/plain": [
       "dict_keys(['Name', 'surname', 'college', 'age', 'email', 'contact'])"
      ]
     },
     "execution_count": 52,
     "metadata": {},
     "output_type": "execute_result"
    }
   ],
   "source": [
    "do.keys_n()"
   ]
  },
  {
   "cell_type": "code",
   "execution_count": 53,
   "id": "aaf3d7c8",
   "metadata": {},
   "outputs": [
    {
     "data": {
      "text/plain": [
       "dict_values(['Sharad', 'Pardhe', 'IIT', 27, 'sharadpardhe08@gmail.com', 8989969327])"
      ]
     },
     "execution_count": 53,
     "metadata": {},
     "output_type": "execute_result"
    }
   ],
   "source": [
    "do.values_n()"
   ]
  },
  {
   "cell_type": "code",
   "execution_count": 55,
   "id": "a76f230f",
   "metadata": {},
   "outputs": [],
   "source": [
    "do.update_n({'city':'Mandi'})"
   ]
  },
  {
   "cell_type": "code",
   "execution_count": 44,
   "id": "38f79635",
   "metadata": {},
   "outputs": [
    {
     "data": {
      "text/plain": [
       "{'Name': 'Sharad',\n",
       " 'surname': 'Pardhe',\n",
       " 'college': 'IIT',\n",
       " 'age': 27,\n",
       " 'email': 'sharadpardhe08@gmail.com',\n",
       " 'contact': 8989969327,\n",
       " 'city': 'Mandi',\n",
       " 'degree': 2022}"
      ]
     },
     "execution_count": 44,
     "metadata": {},
     "output_type": "execute_result"
    }
   ],
   "source": [
    "do.setdefault_n('degree',2022)"
   ]
  },
  {
   "cell_type": "code",
   "execution_count": 33,
   "id": "17d7d80c",
   "metadata": {},
   "outputs": [
    {
     "data": {
      "text/plain": [
       "{'Name': 'Sharad',\n",
       " 'surname': 'Pardhe',\n",
       " 'college': 'IIT',\n",
       " 'age': 27,\n",
       " 'email': 'sharadpardhe08@gmail.com'}"
      ]
     },
     "execution_count": 33,
     "metadata": {},
     "output_type": "execute_result"
    }
   ],
   "source": [
    "do.popitem_n()"
   ]
  },
  {
   "cell_type": "code",
   "execution_count": 20,
   "id": "88d3b0c2",
   "metadata": {},
   "outputs": [],
   "source": [
    "# for set\n",
    "\n",
    "class set_new():\n",
    "    \n",
    "    def __init__(self,s):\n",
    "        self.s = s\n",
    "        \n",
    "    def type_n(self):\n",
    "        if type(self.s) != set:\n",
    "            raise Exception(self.s, 'is not set')\n",
    "        return self.s\n",
    "    \n",
    "    def add_n(self,b):\n",
    "        if self.type_n():\n",
    "            self.s.add(b)\n",
    "        return self.s\n",
    "    \n",
    "    def union_n(self,c):\n",
    "        if self.type_n():\n",
    "            self.s = self.s.union(c)\n",
    "        return self.s"
   ]
  },
  {
   "cell_type": "code",
   "execution_count": 21,
   "id": "40f6ee07",
   "metadata": {},
   "outputs": [],
   "source": [
    "s = {1,2,4,5,6,7}\n",
    "s1 = {1,3,4,5,9,5}\n",
    "obj = set_new(s)"
   ]
  },
  {
   "cell_type": "code",
   "execution_count": 22,
   "id": "e9ae7398",
   "metadata": {},
   "outputs": [
    {
     "data": {
      "text/plain": [
       "{1, 2, 4, 5, 6, 7, 'sharad'}"
      ]
     },
     "execution_count": 22,
     "metadata": {},
     "output_type": "execute_result"
    }
   ],
   "source": [
    "obj.add_n('sharad')"
   ]
  },
  {
   "cell_type": "code",
   "execution_count": 23,
   "id": "794f4086",
   "metadata": {},
   "outputs": [
    {
     "data": {
      "text/plain": [
       "{1, 2, 3, 4, 5, 6, 7, 9, 'sharad'}"
      ]
     },
     "execution_count": 23,
     "metadata": {},
     "output_type": "execute_result"
    }
   ],
   "source": [
    "obj.union_n(s1)"
   ]
  }
 ],
 "metadata": {
  "kernelspec": {
   "display_name": "Python 3 (ipykernel)",
   "language": "python",
   "name": "python3"
  },
  "language_info": {
   "codemirror_mode": {
    "name": "ipython",
    "version": 3
   },
   "file_extension": ".py",
   "mimetype": "text/x-python",
   "name": "python",
   "nbconvert_exporter": "python",
   "pygments_lexer": "ipython3",
   "version": "3.9.12"
  }
 },
 "nbformat": 4,
 "nbformat_minor": 5
}
