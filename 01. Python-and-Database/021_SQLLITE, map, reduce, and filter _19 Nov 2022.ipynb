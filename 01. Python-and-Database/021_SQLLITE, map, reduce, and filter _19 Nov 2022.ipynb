{
 "cells": [
  {
   "cell_type": "markdown",
   "id": "bda0b4e2",
   "metadata": {},
   "source": [
    "# SQL LITE\n",
    "[Lecture link](https://www.youtube.com/watch?v=ys_qe_SuwOY)    \n",
    "##### Saturday, 19 November 2022"
   ]
  },
  {
   "cell_type": "code",
   "execution_count": 1,
   "id": "9ef8a554",
   "metadata": {},
   "outputs": [],
   "source": [
    "# Mobile app\n",
    "# everywhere need to store the data\n",
    "# sql lite is in-memeory(RAM) database,ALSO IN HARD DISK\n",
    "# In mobile devices, by defaul available SQL LITE\n",
    "# .db FILE WILL BE CREATED\n",
    "# local storage, not on server\n",
    "# storage data in mobile\n",
    "# WHEN store structure data in-memory then sql lite comes in picture"
   ]
  },
  {
   "cell_type": "code",
   "execution_count": 2,
   "id": "2c340996",
   "metadata": {},
   "outputs": [],
   "source": [
    "import sqlite3"
   ]
  },
  {
   "cell_type": "code",
   "execution_count": 3,
   "id": "dac3dcbf",
   "metadata": {},
   "outputs": [],
   "source": [
    "db = sqlite3.connect('ineuron.db') # filename ='ineuron.db',it will store data in structure manner"
   ]
  },
  {
   "cell_type": "code",
   "execution_count": 4,
   "id": "33ea6250",
   "metadata": {
    "scrolled": true
   },
   "outputs": [
    {
     "name": "stdout",
     "output_type": "stream",
     "text": [
      " Volume in drive C is Windows SSD\n",
      " Volume Serial Number is FCA4-BF44\n",
      "\n",
      " Directory of C:\\Users\\HP\\1AI iNeuron\n",
      "\n",
      "20-11-2022  11:03 AM    <DIR>          .\n",
      "20-11-2022  11:03 AM    <DIR>          ..\n",
      "20-11-2022  09:15 AM    <DIR>          .ipynb_checkpoints\n",
      "19-11-2022  05:18 PM           100,055 019_Introduction_to_MongoDB_17 Nov 2022.ipynb\n",
      "19-11-2022  10:36 PM            32,843 021_SQLLITE_19 Nov 2022.ipynb\n",
      "18-11-2022  03:21 PM    <DIR>          2. Working with Databases & Python\n",
      "19-11-2022  09:47 AM            11,443 Assignment_016.ipynb\n",
      "20-11-2022  10:51 AM            11,408 Assignment_017.ipynb\n",
      "20-11-2022  11:03 AM                 0 ineuron.db\n",
      "19-11-2022  10:05 PM            12,288 joindb.db\n",
      "19-11-2022  10:11 PM            12,824 joindb.db-journal\n",
      "20-11-2022  09:32 AM                 0 untitled.txt\n",
      "               8 File(s)        180,861 bytes\n",
      "               4 Dir(s)  57,346,658,304 bytes free\n"
     ]
    }
   ],
   "source": [
    "ls"
   ]
  },
  {
   "cell_type": "code",
   "execution_count": 5,
   "id": "bc9affc2",
   "metadata": {},
   "outputs": [],
   "source": [
    "c = db.cursor() # c is a cursor variable,called pointer"
   ]
  },
  {
   "cell_type": "code",
   "execution_count": 6,
   "id": "f1d45f57",
   "metadata": {},
   "outputs": [
    {
     "data": {
      "text/plain": [
       "<sqlite3.Cursor at 0x23201302a40>"
      ]
     },
     "execution_count": 6,
     "metadata": {},
     "output_type": "execute_result"
    }
   ],
   "source": [
    "c.execute('create table FSDS(name text, batch int, marks real)')"
   ]
  },
  {
   "cell_type": "code",
   "execution_count": 7,
   "id": "056a6841",
   "metadata": {},
   "outputs": [
    {
     "name": "stdout",
     "output_type": "stream",
     "text": [
      " Volume in drive C is Windows SSD\n",
      " Volume Serial Number is FCA4-BF44\n",
      "\n",
      " Directory of C:\\Users\\HP\\1AI iNeuron\n",
      "\n",
      "20-11-2022  11:03 AM    <DIR>          .\n",
      "20-11-2022  11:03 AM    <DIR>          ..\n",
      "20-11-2022  09:15 AM    <DIR>          .ipynb_checkpoints\n",
      "19-11-2022  05:18 PM           100,055 019_Introduction_to_MongoDB_17 Nov 2022.ipynb\n",
      "19-11-2022  10:36 PM            32,843 021_SQLLITE_19 Nov 2022.ipynb\n",
      "18-11-2022  03:21 PM    <DIR>          2. Working with Databases & Python\n",
      "19-11-2022  09:47 AM            11,443 Assignment_016.ipynb\n",
      "20-11-2022  10:51 AM            11,408 Assignment_017.ipynb\n",
      "20-11-2022  11:03 AM             8,192 ineuron.db\n",
      "19-11-2022  10:05 PM            12,288 joindb.db\n",
      "19-11-2022  10:11 PM            12,824 joindb.db-journal\n",
      "20-11-2022  09:32 AM                 0 untitled.txt\n",
      "               8 File(s)        189,053 bytes\n",
      "               4 Dir(s)  57,346,637,824 bytes free\n"
     ]
    }
   ],
   "source": [
    "ls"
   ]
  },
  {
   "cell_type": "markdown",
   "id": "0573790e",
   "metadata": {},
   "source": [
    "increase in size"
   ]
  },
  {
   "cell_type": "code",
   "execution_count": 8,
   "id": "41a9278f",
   "metadata": {},
   "outputs": [
    {
     "data": {
      "text/plain": [
       "<sqlite3.Cursor at 0x23201302a40>"
      ]
     },
     "execution_count": 8,
     "metadata": {},
     "output_type": "execute_result"
    }
   ],
   "source": [
    "c.execute('insert into FSDS values(\"sharad\",2.0,450.5)')"
   ]
  },
  {
   "cell_type": "code",
   "execution_count": 9,
   "id": "e309e771",
   "metadata": {},
   "outputs": [
    {
     "name": "stdout",
     "output_type": "stream",
     "text": [
      " Volume in drive C is Windows SSD\n",
      " Volume Serial Number is FCA4-BF44\n",
      "\n",
      " Directory of C:\\Users\\HP\\1AI iNeuron\n",
      "\n",
      "20-11-2022  11:03 AM    <DIR>          .\n",
      "20-11-2022  11:03 AM    <DIR>          ..\n",
      "20-11-2022  09:15 AM    <DIR>          .ipynb_checkpoints\n",
      "19-11-2022  05:18 PM           100,055 019_Introduction_to_MongoDB_17 Nov 2022.ipynb\n",
      "19-11-2022  10:36 PM            32,843 021_SQLLITE_19 Nov 2022.ipynb\n",
      "18-11-2022  03:21 PM    <DIR>          2. Working with Databases & Python\n",
      "19-11-2022  09:47 AM            11,443 Assignment_016.ipynb\n",
      "20-11-2022  10:51 AM            11,408 Assignment_017.ipynb\n",
      "20-11-2022  11:03 AM             8,192 ineuron.db\n",
      "20-11-2022  11:03 AM                 0 ineuron.db-journal\n",
      "19-11-2022  10:05 PM            12,288 joindb.db\n",
      "19-11-2022  10:11 PM            12,824 joindb.db-journal\n",
      "20-11-2022  09:32 AM                 0 untitled.txt\n",
      "               9 File(s)        189,053 bytes\n",
      "               4 Dir(s)  57,346,564,096 bytes free\n"
     ]
    }
   ],
   "source": [
    "ls"
   ]
  },
  {
   "cell_type": "markdown",
   "id": "744f1125",
   "metadata": {},
   "source": [
    "create new datafile = ```ineuron.db-journal```"
   ]
  },
  {
   "cell_type": "code",
   "execution_count": 10,
   "id": "194ad94a",
   "metadata": {},
   "outputs": [
    {
     "data": {
      "text/plain": [
       "<sqlite3.Cursor at 0x23201302a40>"
      ]
     },
     "execution_count": 10,
     "metadata": {},
     "output_type": "execute_result"
    }
   ],
   "source": [
    "c.execute('insert into FSDS values(\"sharad\",2.0,450.5)')\n",
    "c.execute('insert into FSDS values(\"sharad\",2.0,450.5)')\n",
    "c.execute('insert into FSDS values(\"sharad\",2.0,450.5)')\n",
    "c.execute('insert into FSDS values(\"sharad\",2.0,450.5)')\n",
    "c.execute('insert into FSDS values(\"sharad\",2.0,450.5)')\n",
    "c.execute('insert into FSDS values(\"sharad\",2.0,450.5)')"
   ]
  },
  {
   "cell_type": "code",
   "execution_count": 11,
   "id": "18cdbae3",
   "metadata": {},
   "outputs": [
    {
     "name": "stdout",
     "output_type": "stream",
     "text": [
      " Volume in drive C is Windows SSD\n",
      " Volume Serial Number is FCA4-BF44\n",
      "\n",
      " Directory of C:\\Users\\HP\\1AI iNeuron\n",
      "\n",
      "20-11-2022  11:03 AM    <DIR>          .\n",
      "20-11-2022  11:03 AM    <DIR>          ..\n",
      "20-11-2022  09:15 AM    <DIR>          .ipynb_checkpoints\n",
      "19-11-2022  05:18 PM           100,055 019_Introduction_to_MongoDB_17 Nov 2022.ipynb\n",
      "19-11-2022  10:36 PM            32,843 021_SQLLITE_19 Nov 2022.ipynb\n",
      "18-11-2022  03:21 PM    <DIR>          2. Working with Databases & Python\n",
      "19-11-2022  09:47 AM            11,443 Assignment_016.ipynb\n",
      "20-11-2022  10:51 AM            11,408 Assignment_017.ipynb\n",
      "20-11-2022  11:03 AM             8,192 ineuron.db\n",
      "20-11-2022  11:03 AM                 0 ineuron.db-journal\n",
      "19-11-2022  10:05 PM            12,288 joindb.db\n",
      "19-11-2022  10:11 PM            12,824 joindb.db-journal\n",
      "20-11-2022  09:32 AM                 0 untitled.txt\n",
      "               9 File(s)        189,053 bytes\n",
      "               4 Dir(s)  57,346,564,096 bytes free\n"
     ]
    }
   ],
   "source": [
    "ls"
   ]
  },
  {
   "cell_type": "markdown",
   "id": "beb23809",
   "metadata": {},
   "source": [
    "```ineuron.db``` size increases "
   ]
  },
  {
   "cell_type": "code",
   "execution_count": 12,
   "id": "75d69a9e",
   "metadata": {},
   "outputs": [
    {
     "name": "stdout",
     "output_type": "stream",
     "text": [
      "('sharad', 2, 450.5)\n",
      "('sharad', 2, 450.5)\n",
      "('sharad', 2, 450.5)\n",
      "('sharad', 2, 450.5)\n",
      "('sharad', 2, 450.5)\n",
      "('sharad', 2, 450.5)\n",
      "('sharad', 2, 450.5)\n"
     ]
    }
   ],
   "source": [
    "DATA = c.execute('select * from FSDS')\n",
    "for i in DATA:\n",
    "    print(i)"
   ]
  },
  {
   "cell_type": "code",
   "execution_count": 13,
   "id": "b1d475f8",
   "metadata": {},
   "outputs": [],
   "source": [
    "db.commit() # for permanent storege"
   ]
  },
  {
   "cell_type": "code",
   "execution_count": 14,
   "id": "5b756a2b",
   "metadata": {},
   "outputs": [],
   "source": [
    "db.close() # it will close the data "
   ]
  },
  {
   "cell_type": "code",
   "execution_count": 15,
   "id": "455e4198",
   "metadata": {},
   "outputs": [
    {
     "ename": "ProgrammingError",
     "evalue": "Cannot operate on a closed database.",
     "output_type": "error",
     "traceback": [
      "\u001b[1;31m---------------------------------------------------------------------------\u001b[0m",
      "\u001b[1;31mProgrammingError\u001b[0m                          Traceback (most recent call last)",
      "Input \u001b[1;32mIn [15]\u001b[0m, in \u001b[0;36m<cell line: 1>\u001b[1;34m()\u001b[0m\n\u001b[1;32m----> 1\u001b[0m DATA \u001b[38;5;241m=\u001b[39m \u001b[43mc\u001b[49m\u001b[38;5;241;43m.\u001b[39;49m\u001b[43mexecute\u001b[49m\u001b[43m(\u001b[49m\u001b[38;5;124;43m'\u001b[39;49m\u001b[38;5;124;43mselect * from FSDS\u001b[39;49m\u001b[38;5;124;43m'\u001b[39;49m\u001b[43m)\u001b[49m\n\u001b[0;32m      2\u001b[0m \u001b[38;5;28;01mfor\u001b[39;00m i \u001b[38;5;129;01min\u001b[39;00m DATA:\n\u001b[0;32m      3\u001b[0m     \u001b[38;5;28mprint\u001b[39m(i)\n",
      "\u001b[1;31mProgrammingError\u001b[0m: Cannot operate on a closed database."
     ]
    }
   ],
   "source": [
    "DATA = c.execute('select * from FSDS')\n",
    "for i in DATA:\n",
    "    print(i)"
   ]
  },
  {
   "cell_type": "markdown",
   "id": "dc02aef4",
   "metadata": {},
   "source": [
    "closed the db. so, error"
   ]
  },
  {
   "cell_type": "code",
   "execution_count": 16,
   "id": "468b7cde",
   "metadata": {},
   "outputs": [
    {
     "name": "stdout",
     "output_type": "stream",
     "text": [
      " Volume in drive C is Windows SSD\n",
      " Volume Serial Number is FCA4-BF44\n",
      "\n",
      " Directory of C:\\Users\\HP\\1AI iNeuron\n",
      "\n",
      "20-11-2022  11:03 AM    <DIR>          .\n",
      "20-11-2022  11:03 AM    <DIR>          ..\n",
      "20-11-2022  09:15 AM    <DIR>          .ipynb_checkpoints\n",
      "19-11-2022  05:18 PM           100,055 019_Introduction_to_MongoDB_17 Nov 2022.ipynb\n",
      "19-11-2022  10:36 PM            32,843 021_SQLLITE_19 Nov 2022.ipynb\n",
      "18-11-2022  03:21 PM    <DIR>          2. Working with Databases & Python\n",
      "19-11-2022  09:47 AM            11,443 Assignment_016.ipynb\n",
      "20-11-2022  10:51 AM            11,408 Assignment_017.ipynb\n",
      "20-11-2022  11:03 AM             8,192 ineuron.db\n",
      "19-11-2022  10:05 PM            12,288 joindb.db\n",
      "19-11-2022  10:11 PM            12,824 joindb.db-journal\n",
      "20-11-2022  09:32 AM                 0 untitled.txt\n",
      "               8 File(s)        189,053 bytes\n",
      "               4 Dir(s)  57,335,377,920 bytes free\n"
     ]
    }
   ],
   "source": [
    "ls"
   ]
  },
  {
   "cell_type": "markdown",
   "id": "fe0d6f1b",
   "metadata": {},
   "source": [
    "```ineuron.db-journal``` file gone. because we have closed."
   ]
  },
  {
   "cell_type": "code",
   "execution_count": 17,
   "id": "4cd0925d",
   "metadata": {},
   "outputs": [],
   "source": [
    "# again connection established\n",
    "db = sqlite3.connect('ineuron.db')"
   ]
  },
  {
   "cell_type": "code",
   "execution_count": 18,
   "id": "f18553fd",
   "metadata": {},
   "outputs": [
    {
     "name": "stdout",
     "output_type": "stream",
     "text": [
      "('sharad', 2, 450.5)\n",
      "('sharad', 2, 450.5)\n",
      "('sharad', 2, 450.5)\n",
      "('sharad', 2, 450.5)\n",
      "('sharad', 2, 450.5)\n",
      "('sharad', 2, 450.5)\n",
      "('sharad', 2, 450.5)\n"
     ]
    }
   ],
   "source": [
    "c = db.cursor()\n",
    "DATA = c.execute('select * from FSDS')\n",
    "for i in DATA:\n",
    "    print(i)"
   ]
  },
  {
   "cell_type": "code",
   "execution_count": 19,
   "id": "fba95a5a",
   "metadata": {},
   "outputs": [
    {
     "name": "stdout",
     "output_type": "stream",
     "text": [
      "('sharad', 2, 450.5)\n",
      "('sharad', 2, 450.5)\n",
      "('sharad', 2, 450.5)\n",
      "('sharad', 2, 450.5)\n",
      "('sharad', 2, 450.5)\n",
      "('sharad', 2, 450.5)\n",
      "('sharad', 2, 450.5)\n"
     ]
    }
   ],
   "source": [
    "q = 'select * from FSDS where marks > 450'\n",
    "data = c.execute(q)\n",
    "for i in data:\n",
    "    print(i)"
   ]
  },
  {
   "cell_type": "code",
   "execution_count": 20,
   "id": "2eaa0354",
   "metadata": {},
   "outputs": [
    {
     "name": "stdout",
     "output_type": "stream",
     "text": [
      "('sharad', 2, 450.5)\n",
      "('sharad', 2, 450.5)\n",
      "('sharad', 2, 450.5)\n",
      "('sharad', 2, 450.5)\n",
      "('sharad', 2, 450.5)\n",
      "('sharad', 2, 450.5)\n",
      "('sharad', 2, 450.5)\n"
     ]
    }
   ],
   "source": [
    "q = \"select * from fsds where name = 'sharad'\"\n",
    "data1 = c.execute(q)\n",
    "for i in data1:\n",
    "    print(i)"
   ]
  },
  {
   "cell_type": "code",
   "execution_count": 21,
   "id": "39b5518c",
   "metadata": {},
   "outputs": [
    {
     "name": "stdout",
     "output_type": "stream",
     "text": [
      "('sharad', 450.5)\n",
      "('sharad', 450.5)\n",
      "('sharad', 450.5)\n",
      "('sharad', 450.5)\n",
      "('sharad', 450.5)\n",
      "('sharad', 450.5)\n",
      "('sharad', 450.5)\n"
     ]
    }
   ],
   "source": [
    "q = \"select name,marks from fsds\"\n",
    "data2 = c.execute(q)\n",
    "for i in data2:\n",
    "    print(i)"
   ]
  },
  {
   "cell_type": "code",
   "execution_count": 22,
   "id": "8ccf7d1f",
   "metadata": {},
   "outputs": [
    {
     "name": "stdout",
     "output_type": "stream",
     "text": [
      "('sharad', 450.5)\n",
      "('sharad', 450.5)\n",
      "('sharad', 450.5)\n",
      "('sharad', 450.5)\n",
      "('sharad', 450.5)\n",
      "('sharad', 450.5)\n",
      "('sharad', 450.5)\n"
     ]
    }
   ],
   "source": [
    "q = \"select name,marks from fsds order by marks DESC\"\n",
    "data2 = c.execute(q)\n",
    "for i in data2:\n",
    "    print(i)"
   ]
  },
  {
   "cell_type": "markdown",
   "id": "608fb004",
   "metadata": {},
   "source": [
    "#### SAME COMMAND AS SQL "
   ]
  },
  {
   "cell_type": "code",
   "execution_count": 23,
   "id": "9993c90f",
   "metadata": {},
   "outputs": [],
   "source": [
    "db.close()"
   ]
  },
  {
   "cell_type": "markdown",
   "id": "935e5be4",
   "metadata": {},
   "source": [
    "## New file "
   ]
  },
  {
   "cell_type": "code",
   "execution_count": 24,
   "id": "162b8cb2",
   "metadata": {},
   "outputs": [],
   "source": [
    "db = sqlite3.connect('person.db')\n",
    "c = db.cursor()"
   ]
  },
  {
   "cell_type": "code",
   "execution_count": 25,
   "id": "327cfc88",
   "metadata": {},
   "outputs": [
    {
     "data": {
      "text/plain": [
       "<sqlite3.Cursor at 0x23202dd5180>"
      ]
     },
     "execution_count": 25,
     "metadata": {},
     "output_type": "execute_result"
    }
   ],
   "source": [
    "c.execute('create table person_table(name txt,mail_id txt, age int, salary real)')"
   ]
  },
  {
   "cell_type": "code",
   "execution_count": 26,
   "id": "4d4ab485",
   "metadata": {},
   "outputs": [
    {
     "data": {
      "text/plain": [
       "<sqlite3.Cursor at 0x23202dd5180>"
      ]
     },
     "execution_count": 26,
     "metadata": {},
     "output_type": "execute_result"
    }
   ],
   "source": [
    "c.execute(\"insert into person_table values('sharad','sharad@gmail.com',27, 3000000000)\")"
   ]
  },
  {
   "cell_type": "code",
   "execution_count": 27,
   "id": "fe557340",
   "metadata": {},
   "outputs": [
    {
     "name": "stdout",
     "output_type": "stream",
     "text": [
      " Volume in drive C is Windows SSD\n",
      " Volume Serial Number is FCA4-BF44\n",
      "\n",
      " Directory of C:\\Users\\HP\\1AI iNeuron\n",
      "\n",
      "20-11-2022  11:04 AM    <DIR>          .\n",
      "20-11-2022  11:04 AM    <DIR>          ..\n",
      "20-11-2022  09:15 AM    <DIR>          .ipynb_checkpoints\n",
      "19-11-2022  05:18 PM           100,055 019_Introduction_to_MongoDB_17 Nov 2022.ipynb\n",
      "19-11-2022  10:36 PM            32,843 021_SQLLITE_19 Nov 2022.ipynb\n",
      "18-11-2022  03:21 PM    <DIR>          2. Working with Databases & Python\n",
      "19-11-2022  09:47 AM            11,443 Assignment_016.ipynb\n",
      "20-11-2022  10:51 AM            11,408 Assignment_017.ipynb\n",
      "20-11-2022  11:03 AM             8,192 ineuron.db\n",
      "19-11-2022  10:05 PM            12,288 joindb.db\n",
      "19-11-2022  10:11 PM            12,824 joindb.db-journal\n",
      "20-11-2022  11:04 AM             8,192 person.db\n",
      "20-11-2022  11:04 AM                 0 person.db-journal\n",
      "20-11-2022  09:32 AM                 0 untitled.txt\n",
      "              10 File(s)        197,245 bytes\n",
      "               4 Dir(s)  57,335,353,344 bytes free\n"
     ]
    }
   ],
   "source": [
    "ls"
   ]
  },
  {
   "cell_type": "code",
   "execution_count": 28,
   "id": "de6cb10f",
   "metadata": {},
   "outputs": [
    {
     "data": {
      "text/plain": [
       "<sqlite3.Cursor at 0x23202dd5180>"
      ]
     },
     "execution_count": 28,
     "metadata": {},
     "output_type": "execute_result"
    }
   ],
   "source": [
    "c.execute(\"insert into person_table values('sudh','sudh@gmail.com',37, 2000000000)\")\n",
    "c.execute(\"insert into person_table values('krish','krish@gmail.com',32, 2500000000)\")\n",
    "c.execute(\"insert into person_table values('sunny','sunny@gmail.com',29, 2700000000)\")"
   ]
  },
  {
   "cell_type": "code",
   "execution_count": 29,
   "id": "2e87da6c",
   "metadata": {},
   "outputs": [
    {
     "name": "stdout",
     "output_type": "stream",
     "text": [
      " Volume in drive C is Windows SSD\n",
      " Volume Serial Number is FCA4-BF44\n",
      "\n",
      " Directory of C:\\Users\\HP\\1AI iNeuron\n",
      "\n",
      "20-11-2022  11:04 AM    <DIR>          .\n",
      "20-11-2022  11:04 AM    <DIR>          ..\n",
      "20-11-2022  09:15 AM    <DIR>          .ipynb_checkpoints\n",
      "19-11-2022  05:18 PM           100,055 019_Introduction_to_MongoDB_17 Nov 2022.ipynb\n",
      "19-11-2022  10:36 PM            32,843 021_SQLLITE_19 Nov 2022.ipynb\n",
      "18-11-2022  03:21 PM    <DIR>          2. Working with Databases & Python\n",
      "19-11-2022  09:47 AM            11,443 Assignment_016.ipynb\n",
      "20-11-2022  10:51 AM            11,408 Assignment_017.ipynb\n",
      "20-11-2022  11:03 AM             8,192 ineuron.db\n",
      "19-11-2022  10:05 PM            12,288 joindb.db\n",
      "19-11-2022  10:11 PM            12,824 joindb.db-journal\n",
      "20-11-2022  11:04 AM             8,192 person.db\n",
      "20-11-2022  11:04 AM                 0 person.db-journal\n",
      "20-11-2022  09:32 AM                 0 untitled.txt\n",
      "              10 File(s)        197,245 bytes\n",
      "               4 Dir(s)  57,335,353,344 bytes free\n"
     ]
    }
   ],
   "source": [
    "ls"
   ]
  },
  {
   "cell_type": "code",
   "execution_count": 30,
   "id": "485782d0",
   "metadata": {},
   "outputs": [
    {
     "name": "stdout",
     "output_type": "stream",
     "text": [
      "('sharad', 'sharad@gmail.com', 27, 3000000000.0)\n",
      "('sudh', 'sudh@gmail.com', 37, 2000000000.0)\n",
      "('krish', 'krish@gmail.com', 32, 2500000000.0)\n",
      "('sunny', 'sunny@gmail.com', 29, 2700000000.0)\n"
     ]
    }
   ],
   "source": [
    "q = 'select * from person_table'\n",
    "data = c.execute(q)\n",
    "for i in data:\n",
    "    print(i)"
   ]
  },
  {
   "cell_type": "code",
   "execution_count": 31,
   "id": "ccb5601a",
   "metadata": {},
   "outputs": [],
   "source": [
    "db.commit()"
   ]
  },
  {
   "cell_type": "code",
   "execution_count": 32,
   "id": "b45004ba",
   "metadata": {},
   "outputs": [],
   "source": [
    "db.close()"
   ]
  },
  {
   "cell_type": "code",
   "execution_count": 33,
   "id": "16555d87",
   "metadata": {},
   "outputs": [],
   "source": [
    "db = sqlite3.connect('ineuron.db')\n",
    "c = db.cursor()"
   ]
  },
  {
   "cell_type": "code",
   "execution_count": 34,
   "id": "9ecffd72",
   "metadata": {},
   "outputs": [
    {
     "data": {
      "text/plain": [
       "<sqlite3.Cursor at 0x23202dd5ab0>"
      ]
     },
     "execution_count": 34,
     "metadata": {},
     "output_type": "execute_result"
    }
   ],
   "source": [
    "c.execute('drop table FSDS')"
   ]
  },
  {
   "cell_type": "code",
   "execution_count": 35,
   "id": "77dc1af1",
   "metadata": {},
   "outputs": [
    {
     "ename": "OperationalError",
     "evalue": "no such table: fsds",
     "output_type": "error",
     "traceback": [
      "\u001b[1;31m---------------------------------------------------------------------------\u001b[0m",
      "\u001b[1;31mOperationalError\u001b[0m                          Traceback (most recent call last)",
      "Input \u001b[1;32mIn [35]\u001b[0m, in \u001b[0;36m<cell line: 1>\u001b[1;34m()\u001b[0m\n\u001b[1;32m----> 1\u001b[0m \u001b[43mc\u001b[49m\u001b[38;5;241;43m.\u001b[39;49m\u001b[43mexecute\u001b[49m\u001b[43m(\u001b[49m\u001b[38;5;124;43m'\u001b[39;49m\u001b[38;5;124;43mselect * from fsds\u001b[39;49m\u001b[38;5;124;43m'\u001b[39;49m\u001b[43m)\u001b[49m\n",
      "\u001b[1;31mOperationalError\u001b[0m: no such table: fsds"
     ]
    }
   ],
   "source": [
    "c.execute('select * from fsds')"
   ]
  },
  {
   "cell_type": "code",
   "execution_count": 36,
   "id": "1ef62f17",
   "metadata": {},
   "outputs": [
    {
     "name": "stdout",
     "output_type": "stream",
     "text": [
      " Volume in drive C is Windows SSD\n",
      " Volume Serial Number is FCA4-BF44\n",
      "\n",
      " Directory of C:\\Users\\HP\\1AI iNeuron\n",
      "\n",
      "20-11-2022  11:04 AM    <DIR>          .\n",
      "20-11-2022  11:04 AM    <DIR>          ..\n",
      "20-11-2022  09:15 AM    <DIR>          .ipynb_checkpoints\n",
      "19-11-2022  05:18 PM           100,055 019_Introduction_to_MongoDB_17 Nov 2022.ipynb\n",
      "19-11-2022  10:36 PM            32,843 021_SQLLITE_19 Nov 2022.ipynb\n",
      "18-11-2022  03:21 PM    <DIR>          2. Working with Databases & Python\n",
      "19-11-2022  09:47 AM            11,443 Assignment_016.ipynb\n",
      "20-11-2022  10:51 AM            11,408 Assignment_017.ipynb\n",
      "20-11-2022  11:04 AM             8,192 ineuron.db\n",
      "19-11-2022  10:05 PM            12,288 joindb.db\n",
      "19-11-2022  10:11 PM            12,824 joindb.db-journal\n",
      "20-11-2022  11:04 AM             8,192 person.db\n",
      "20-11-2022  09:32 AM                 0 untitled.txt\n",
      "               9 File(s)        197,245 bytes\n",
      "               4 Dir(s)  57,335,324,672 bytes free\n"
     ]
    }
   ],
   "source": [
    "ls"
   ]
  },
  {
   "cell_type": "code",
   "execution_count": 37,
   "id": "35b37186",
   "metadata": {},
   "outputs": [],
   "source": [
    "db.close()"
   ]
  },
  {
   "cell_type": "code",
   "execution_count": 38,
   "id": "be207bd5",
   "metadata": {},
   "outputs": [],
   "source": [
    "db = sqlite3.connect('person.db')\n",
    "c = db.cursor()"
   ]
  },
  {
   "cell_type": "code",
   "execution_count": 39,
   "id": "b6960b79",
   "metadata": {},
   "outputs": [
    {
     "name": "stdout",
     "output_type": "stream",
     "text": [
      "('sharad', 'sharad@gmail.com', 27, 3000000000.0)\n",
      "('sudh', 'sudh@gmail.com', 37, 2000000000.0)\n"
     ]
    }
   ],
   "source": [
    "q = 'select * from person_table limit 2'\n",
    "data = c.execute(q)\n",
    "for i in data:\n",
    "    print(i)"
   ]
  },
  {
   "cell_type": "code",
   "execution_count": 40,
   "id": "efbb9a5c",
   "metadata": {},
   "outputs": [],
   "source": [
    "db.close()"
   ]
  },
  {
   "cell_type": "code",
   "execution_count": 41,
   "id": "b66df61a",
   "metadata": {},
   "outputs": [],
   "source": [
    "# New database \n",
    "db = sqlite3.connect('joindb.db')\n",
    "c = db.cursor()"
   ]
  },
  {
   "cell_type": "code",
   "execution_count": 45,
   "id": "dfb6400a",
   "metadata": {},
   "outputs": [
    {
     "data": {
      "text/plain": [
       "<sqlite3.Cursor at 0x23202e5b110>"
      ]
     },
     "execution_count": 45,
     "metadata": {},
     "output_type": "execute_result"
    }
   ],
   "source": [
    "c.execute('create table student(student_id int, student_name text, student_mail text, marks int)')"
   ]
  },
  {
   "cell_type": "code",
   "execution_count": 46,
   "id": "ca0dcfe6",
   "metadata": {},
   "outputs": [
    {
     "data": {
      "text/plain": [
       "<sqlite3.Cursor at 0x23202e5b110>"
      ]
     },
     "execution_count": 46,
     "metadata": {},
     "output_type": "execute_result"
    }
   ],
   "source": [
    "c.execute('create table address(student_id int, pincode int, location text, nerby text, phone_no int)')"
   ]
  },
  {
   "cell_type": "code",
   "execution_count": 47,
   "id": "53501ecb",
   "metadata": {},
   "outputs": [
    {
     "data": {
      "text/plain": [
       "<sqlite3.Cursor at 0x23202e5b110>"
      ]
     },
     "execution_count": 47,
     "metadata": {},
     "output_type": "execute_result"
    }
   ],
   "source": [
    "c.execute(\"insert into student values(20071,'sharad','sharad@gmail.com',234)\")\n",
    "c.execute(\"insert into student values(20072,'sharad','sharad@gmail.com',234)\")\n",
    "c.execute(\"insert into student values(20073,'sharad','sharad@gmail.com',234)\")\n",
    "c.execute(\"insert into student values(20074,'sharad','sharad@gmail.com',234)\")\n",
    "c.execute(\"insert into student values(20075,'sharad','sharad@gmail.com',234)\")\n",
    "c.execute(\"insert into student values(20076,'sharad','sharad@gmail.com',234)\")\n",
    "c.execute(\"insert into student values(20077,'sharad','sharad@gmail.com',234)\")\n",
    "c.execute(\"insert into student values(20078,'sharad','sharad@gmail.com',234)\")\n",
    "c.execute(\"insert into student values(20081,'sharad','sharad@gmail.com',234)\")\n",
    "c.execute(\"insert into student values(20082,'sharad','sharad@gmail.com',234)\")"
   ]
  },
  {
   "cell_type": "code",
   "execution_count": 48,
   "id": "cd2f8c43",
   "metadata": {},
   "outputs": [
    {
     "data": {
      "text/plain": [
       "<sqlite3.Cursor at 0x23202e5b110>"
      ]
     },
     "execution_count": 48,
     "metadata": {},
     "output_type": "execute_result"
    }
   ],
   "source": [
    "c.execute(\"insert into address values(20071, 460001, 'Mandi','Bank',07141261211)\")"
   ]
  },
  {
   "cell_type": "code",
   "execution_count": 49,
   "id": "948420e9",
   "metadata": {},
   "outputs": [
    {
     "data": {
      "text/plain": [
       "<sqlite3.Cursor at 0x23202e5b110>"
      ]
     },
     "execution_count": 49,
     "metadata": {},
     "output_type": "execute_result"
    }
   ],
   "source": [
    "c.execute(\"insert into address values(20072, 460001, 'Mandi','Bank',07141261211)\")\n",
    "c.execute(\"insert into address values(20073, 460001, 'Mandi','Bank',07141261211)\")\n",
    "c.execute(\"insert into address values(20074, 460001, 'Mandi','Bank',07141261211)\")\n",
    "c.execute(\"insert into address values(20075, 460001, 'Mandi','Bank',07141261211)\")\n",
    "c.execute(\"insert into address values(20076, 460001, 'Mandi','Bank',07141261211)\")\n",
    "c.execute(\"insert into address values(20077, 460001, 'Mandi','Bank',07141261211)\")\n",
    "c.execute(\"insert into address values(20078, 460001, 'Mandi','Bank',07141261211)\")\n",
    "c.execute(\"insert into address values(20079, 460001, 'Mandi','Bank',07141261211)\")\n",
    "c.execute(\"insert into address values(20080, 460001, 'Mandi','Bank',07141261211)\")"
   ]
  },
  {
   "cell_type": "code",
   "execution_count": 50,
   "id": "6cfcf8e7",
   "metadata": {},
   "outputs": [
    {
     "name": "stdout",
     "output_type": "stream",
     "text": [
      "(20071, 460001, 'Mandi', 'Bank', 7141261211)\n",
      "(20072, 460001, 'Mandi', 'Bank', 7141261211)\n",
      "(20073, 460001, 'Mandi', 'Bank', 7141261211)\n",
      "(20074, 460001, 'Mandi', 'Bank', 7141261211)\n",
      "(20075, 460001, 'Mandi', 'Bank', 7141261211)\n",
      "(20076, 460001, 'Mandi', 'Bank', 7141261211)\n",
      "(20077, 460001, 'Mandi', 'Bank', 7141261211)\n",
      "(20078, 460001, 'Mandi', 'Bank', 7141261211)\n",
      "(20079, 460001, 'Mandi', 'Bank', 7141261211)\n",
      "(20080, 460001, 'Mandi', 'Bank', 7141261211)\n"
     ]
    }
   ],
   "source": [
    "for i in c.execute('select * from address'):\n",
    "    print(i)"
   ]
  },
  {
   "cell_type": "code",
   "execution_count": 51,
   "id": "f70b6d0c",
   "metadata": {},
   "outputs": [
    {
     "name": "stdout",
     "output_type": "stream",
     "text": [
      "(20071, 'sharad', 'sharad@gmail.com', 234)\n",
      "(20072, 'sharad', 'sharad@gmail.com', 234)\n",
      "(20073, 'sharad', 'sharad@gmail.com', 234)\n",
      "(20074, 'sharad', 'sharad@gmail.com', 234)\n",
      "(20075, 'sharad', 'sharad@gmail.com', 234)\n",
      "(20076, 'sharad', 'sharad@gmail.com', 234)\n",
      "(20077, 'sharad', 'sharad@gmail.com', 234)\n",
      "(20078, 'sharad', 'sharad@gmail.com', 234)\n",
      "(20081, 'sharad', 'sharad@gmail.com', 234)\n",
      "(20082, 'sharad', 'sharad@gmail.com', 234)\n"
     ]
    }
   ],
   "source": [
    "for i in c.execute('select * from student'):\n",
    "    print(i)"
   ]
  },
  {
   "cell_type": "code",
   "execution_count": 52,
   "id": "8fb96b25",
   "metadata": {},
   "outputs": [
    {
     "name": "stdout",
     "output_type": "stream",
     "text": [
      "(20071, 'sharad', 'sharad@gmail.com', 234, 20071, 460001, 'Mandi', 'Bank', 7141261211)\n",
      "(20072, 'sharad', 'sharad@gmail.com', 234, 20072, 460001, 'Mandi', 'Bank', 7141261211)\n",
      "(20073, 'sharad', 'sharad@gmail.com', 234, 20073, 460001, 'Mandi', 'Bank', 7141261211)\n",
      "(20074, 'sharad', 'sharad@gmail.com', 234, 20074, 460001, 'Mandi', 'Bank', 7141261211)\n",
      "(20075, 'sharad', 'sharad@gmail.com', 234, 20075, 460001, 'Mandi', 'Bank', 7141261211)\n",
      "(20076, 'sharad', 'sharad@gmail.com', 234, 20076, 460001, 'Mandi', 'Bank', 7141261211)\n",
      "(20077, 'sharad', 'sharad@gmail.com', 234, 20077, 460001, 'Mandi', 'Bank', 7141261211)\n",
      "(20078, 'sharad', 'sharad@gmail.com', 234, 20078, 460001, 'Mandi', 'Bank', 7141261211)\n",
      "(20081, 'sharad', 'sharad@gmail.com', 234, None, None, None, None, None)\n",
      "(20082, 'sharad', 'sharad@gmail.com', 234, None, None, None, None, None)\n"
     ]
    }
   ],
   "source": [
    "q = \"select * from student s left join address a on s.student_id=a.student_id\"\n",
    "data = c.execute(q)\n",
    "for i in data:\n",
    "    print(i)"
   ]
  },
  {
   "cell_type": "code",
   "execution_count": 53,
   "id": "bcad8d8d",
   "metadata": {},
   "outputs": [
    {
     "name": "stdout",
     "output_type": "stream",
     "text": [
      "(20071, 'sharad', 'sharad@gmail.com', 234, 20071, 460001, 'Mandi', 'Bank', 7141261211)\n",
      "(20072, 'sharad', 'sharad@gmail.com', 234, 20072, 460001, 'Mandi', 'Bank', 7141261211)\n",
      "(20073, 'sharad', 'sharad@gmail.com', 234, 20073, 460001, 'Mandi', 'Bank', 7141261211)\n",
      "(20074, 'sharad', 'sharad@gmail.com', 234, 20074, 460001, 'Mandi', 'Bank', 7141261211)\n",
      "(20075, 'sharad', 'sharad@gmail.com', 234, 20075, 460001, 'Mandi', 'Bank', 7141261211)\n",
      "(20076, 'sharad', 'sharad@gmail.com', 234, 20076, 460001, 'Mandi', 'Bank', 7141261211)\n",
      "(20077, 'sharad', 'sharad@gmail.com', 234, 20077, 460001, 'Mandi', 'Bank', 7141261211)\n",
      "(20078, 'sharad', 'sharad@gmail.com', 234, 20078, 460001, 'Mandi', 'Bank', 7141261211)\n"
     ]
    }
   ],
   "source": [
    "q = \"select * from student s left join address a on s.student_id=a.student_id where a.student_id is not null\"\n",
    "data = c.execute(q)\n",
    "for i in data:\n",
    "    print(i)"
   ]
  },
  {
   "cell_type": "code",
   "execution_count": 54,
   "id": "4308f65b",
   "metadata": {},
   "outputs": [
    {
     "ename": "OperationalError",
     "evalue": "RIGHT and FULL OUTER JOINs are not currently supported",
     "output_type": "error",
     "traceback": [
      "\u001b[1;31m---------------------------------------------------------------------------\u001b[0m",
      "\u001b[1;31mOperationalError\u001b[0m                          Traceback (most recent call last)",
      "Input \u001b[1;32mIn [54]\u001b[0m, in \u001b[0;36m<cell line: 2>\u001b[1;34m()\u001b[0m\n\u001b[0;32m      1\u001b[0m q \u001b[38;5;241m=\u001b[39m \u001b[38;5;124m\"\u001b[39m\u001b[38;5;124mselect * from student s right join address a on s.student_id=a.student_id where a.student_id is not null\u001b[39m\u001b[38;5;124m\"\u001b[39m\n\u001b[1;32m----> 2\u001b[0m data \u001b[38;5;241m=\u001b[39m \u001b[43mc\u001b[49m\u001b[38;5;241;43m.\u001b[39;49m\u001b[43mexecute\u001b[49m\u001b[43m(\u001b[49m\u001b[43mq\u001b[49m\u001b[43m)\u001b[49m\n\u001b[0;32m      3\u001b[0m \u001b[38;5;28;01mfor\u001b[39;00m i \u001b[38;5;129;01min\u001b[39;00m data:\n\u001b[0;32m      4\u001b[0m     \u001b[38;5;28mprint\u001b[39m(i)\n",
      "\u001b[1;31mOperationalError\u001b[0m: RIGHT and FULL OUTER JOINs are not currently supported"
     ]
    }
   ],
   "source": [
    "q = \"select * from student s right join address a on s.student_id=a.student_id where a.student_id is not null\"\n",
    "data = c.execute(q)\n",
    "for i in data:\n",
    "    print(i)"
   ]
  },
  {
   "cell_type": "markdown",
   "id": "76612be4",
   "metadata": {},
   "source": [
    "No right in sqllite, interchage the table in left"
   ]
  },
  {
   "cell_type": "code",
   "execution_count": 55,
   "id": "6a8eda17",
   "metadata": {},
   "outputs": [
    {
     "name": "stdout",
     "output_type": "stream",
     "text": [
      "(20071, 460001, 'Mandi', 'Bank', 7141261211, 20071, 'sharad', 'sharad@gmail.com', 234)\n",
      "(20072, 460001, 'Mandi', 'Bank', 7141261211, 20072, 'sharad', 'sharad@gmail.com', 234)\n",
      "(20073, 460001, 'Mandi', 'Bank', 7141261211, 20073, 'sharad', 'sharad@gmail.com', 234)\n",
      "(20074, 460001, 'Mandi', 'Bank', 7141261211, 20074, 'sharad', 'sharad@gmail.com', 234)\n",
      "(20075, 460001, 'Mandi', 'Bank', 7141261211, 20075, 'sharad', 'sharad@gmail.com', 234)\n",
      "(20076, 460001, 'Mandi', 'Bank', 7141261211, 20076, 'sharad', 'sharad@gmail.com', 234)\n",
      "(20077, 460001, 'Mandi', 'Bank', 7141261211, 20077, 'sharad', 'sharad@gmail.com', 234)\n",
      "(20078, 460001, 'Mandi', 'Bank', 7141261211, 20078, 'sharad', 'sharad@gmail.com', 234)\n",
      "(20079, 460001, 'Mandi', 'Bank', 7141261211, None, None, None, None)\n",
      "(20080, 460001, 'Mandi', 'Bank', 7141261211, None, None, None, None)\n"
     ]
    }
   ],
   "source": [
    "q = \"select * from address a left join student s on s.student_id=a.student_id where a.student_id is not null\"\n",
    "data = c.execute(q)\n",
    "for i in data:\n",
    "    print(i)"
   ]
  },
  {
   "cell_type": "code",
   "execution_count": 56,
   "id": "00bd834c",
   "metadata": {},
   "outputs": [
    {
     "name": "stdout",
     "output_type": "stream",
     "text": [
      "(20071, 460001, 'Mandi', 'Bank', 7141261211, 20071, 'sharad', 'sharad@gmail.com', 234)\n",
      "(20072, 460001, 'Mandi', 'Bank', 7141261211, 20072, 'sharad', 'sharad@gmail.com', 234)\n",
      "(20073, 460001, 'Mandi', 'Bank', 7141261211, 20073, 'sharad', 'sharad@gmail.com', 234)\n",
      "(20074, 460001, 'Mandi', 'Bank', 7141261211, 20074, 'sharad', 'sharad@gmail.com', 234)\n",
      "(20075, 460001, 'Mandi', 'Bank', 7141261211, 20075, 'sharad', 'sharad@gmail.com', 234)\n",
      "(20076, 460001, 'Mandi', 'Bank', 7141261211, 20076, 'sharad', 'sharad@gmail.com', 234)\n",
      "(20077, 460001, 'Mandi', 'Bank', 7141261211, 20077, 'sharad', 'sharad@gmail.com', 234)\n",
      "(20078, 460001, 'Mandi', 'Bank', 7141261211, 20078, 'sharad', 'sharad@gmail.com', 234)\n"
     ]
    }
   ],
   "source": [
    "q = \"select * from address a left join student s on s.student_id=a.student_id where s.student_id is not null\"\n",
    "data = c.execute(q)\n",
    "for i in data:\n",
    "    print(i)"
   ]
  },
  {
   "cell_type": "code",
   "execution_count": 57,
   "id": "304a0277",
   "metadata": {},
   "outputs": [
    {
     "name": "stdout",
     "output_type": "stream",
     "text": [
      "(20071, 'sharad', 'sharad@gmail.com', 234)\n",
      "(20072, 'sharad', 'sharad@gmail.com', 234)\n",
      "(20073, 'sharad', 'sharad@gmail.com', 234)\n",
      "(20074, 'sharad', 'sharad@gmail.com', 234)\n",
      "(20075, 'sharad', 'sharad@gmail.com', 234)\n",
      "(20076, 'sharad', 'sharad@gmail.com', 234)\n",
      "(20077, 'sharad', 'sharad@gmail.com', 234)\n",
      "(20078, 'sharad', 'sharad@gmail.com', 234)\n",
      "(20081, 'sharad', 'sharad@gmail.com', 234)\n",
      "(20082, 'sharad', 'sharad@gmail.com', 234)\n"
     ]
    }
   ],
   "source": [
    "for i in c.execute('select * from student'):\n",
    "    print(i)"
   ]
  },
  {
   "cell_type": "code",
   "execution_count": 58,
   "id": "182d6b6b",
   "metadata": {},
   "outputs": [
    {
     "data": {
      "text/plain": [
       "<sqlite3.Cursor at 0x23202e5b110>"
      ]
     },
     "execution_count": 58,
     "metadata": {},
     "output_type": "execute_result"
    }
   ],
   "source": [
    "q = 'delete from student where student_id > 20076'\n",
    "c.execute(q)"
   ]
  },
  {
   "cell_type": "code",
   "execution_count": 59,
   "id": "71a8614c",
   "metadata": {},
   "outputs": [
    {
     "name": "stdout",
     "output_type": "stream",
     "text": [
      "(20071, 'sharad', 'sharad@gmail.com', 234)\n",
      "(20072, 'sharad', 'sharad@gmail.com', 234)\n",
      "(20073, 'sharad', 'sharad@gmail.com', 234)\n",
      "(20074, 'sharad', 'sharad@gmail.com', 234)\n",
      "(20075, 'sharad', 'sharad@gmail.com', 234)\n",
      "(20076, 'sharad', 'sharad@gmail.com', 234)\n"
     ]
    }
   ],
   "source": [
    "for i in c.execute('select * from student'):\n",
    "    print(i)"
   ]
  },
  {
   "cell_type": "code",
   "execution_count": 60,
   "id": "4af98875",
   "metadata": {},
   "outputs": [
    {
     "data": {
      "text/plain": [
       "[(20071, 'sharad', 'sharad@gmail.com', 234),\n",
       " (20072, 'sharad', 'sharad@gmail.com', 234),\n",
       " (20073, 'sharad', 'sharad@gmail.com', 234),\n",
       " (20074, 'sharad', 'sharad@gmail.com', 234),\n",
       " (20075, 'sharad', 'sharad@gmail.com', 234),\n",
       " (20076, 'sharad', 'sharad@gmail.com', 234)]"
      ]
     },
     "execution_count": 60,
     "metadata": {},
     "output_type": "execute_result"
    }
   ],
   "source": [
    "data = c.execute('select * from student')\n",
    "data.fetchall()\n",
    "# list of tuple will be output"
   ]
  },
  {
   "cell_type": "code",
   "execution_count": 62,
   "id": "bb001b69",
   "metadata": {},
   "outputs": [
    {
     "data": {
      "text/plain": [
       "<sqlite3.Cursor at 0x23202e5b110>"
      ]
     },
     "execution_count": 62,
     "metadata": {},
     "output_type": "execute_result"
    }
   ],
   "source": [
    "q = 'update student set student_id = 2000 where student_id = 20071'\n",
    "c.execute(q)"
   ]
  },
  {
   "cell_type": "code",
   "execution_count": 63,
   "id": "b26eb44c",
   "metadata": {},
   "outputs": [
    {
     "data": {
      "text/plain": [
       "[(2000, 'sharad', 'sharad@gmail.com', 234),\n",
       " (20072, 'sharad', 'sharad@gmail.com', 234),\n",
       " (20073, 'sharad', 'sharad@gmail.com', 234),\n",
       " (20074, 'sharad', 'sharad@gmail.com', 234),\n",
       " (20075, 'sharad', 'sharad@gmail.com', 234),\n",
       " (20076, 'sharad', 'sharad@gmail.com', 234)]"
      ]
     },
     "execution_count": 63,
     "metadata": {},
     "output_type": "execute_result"
    }
   ],
   "source": [
    "data = c.execute('select * from student')\n",
    "data.fetchall() # list of tuple will be output"
   ]
  },
  {
   "cell_type": "code",
   "execution_count": 65,
   "id": "015f5ef1",
   "metadata": {},
   "outputs": [],
   "source": [
    "db.close()"
   ]
  },
  {
   "cell_type": "markdown",
   "id": "39acc5ac",
   "metadata": {},
   "source": [
    "# map, reduce, and filter  function in python"
   ]
  },
  {
   "cell_type": "code",
   "execution_count": 66,
   "id": "ad78d0b5",
   "metadata": {},
   "outputs": [
    {
     "data": {
      "text/plain": [
       "[6, 7, 8, 9, 10]"
      ]
     },
     "execution_count": 66,
     "metadata": {},
     "output_type": "execute_result"
    }
   ],
   "source": [
    "l = [1,2,3,4,5]\n",
    "l1 = []\n",
    "for i in l:\n",
    "    l1.append(i+5)\n",
    "l1"
   ]
  },
  {
   "cell_type": "code",
   "execution_count": 67,
   "id": "9b0dc27a",
   "metadata": {},
   "outputs": [
    {
     "data": {
      "text/plain": [
       "[6, 7, 8, 9, 10]"
      ]
     },
     "execution_count": 67,
     "metadata": {},
     "output_type": "execute_result"
    }
   ],
   "source": [
    "l1 = [i+5 for i in l]\n",
    "l1"
   ]
  },
  {
   "cell_type": "code",
   "execution_count": 69,
   "id": "74863776",
   "metadata": {},
   "outputs": [
    {
     "data": {
      "text/plain": [
       "[1, 4, 9, 16, 25]"
      ]
     },
     "execution_count": 69,
     "metadata": {},
     "output_type": "execute_result"
    }
   ],
   "source": [
    "l = [1,2,3,4,5]\n",
    "l1 = []\n",
    "for i in l:\n",
    "    l1.append(i**2)\n",
    "l1"
   ]
  },
  {
   "cell_type": "code",
   "execution_count": 89,
   "id": "6ab4f990",
   "metadata": {},
   "outputs": [
    {
     "data": {
      "text/plain": [
       "<map at 0x23203252550>"
      ]
     },
     "execution_count": 89,
     "metadata": {},
     "output_type": "execute_result"
    }
   ],
   "source": [
    "map(lambda x:x+5,l)"
   ]
  },
  {
   "cell_type": "code",
   "execution_count": 72,
   "id": "26043cf9",
   "metadata": {},
   "outputs": [
    {
     "data": {
      "text/plain": [
       "[6, 7, 8, 9, 10]"
      ]
     },
     "execution_count": 72,
     "metadata": {},
     "output_type": "execute_result"
    }
   ],
   "source": [
    "list(map(lambda x:x+5,l))"
   ]
  },
  {
   "cell_type": "code",
   "execution_count": 73,
   "id": "c693260d",
   "metadata": {},
   "outputs": [],
   "source": [
    "def add_5(a):\n",
    "    return a+5"
   ]
  },
  {
   "cell_type": "code",
   "execution_count": 74,
   "id": "7f6d4e01",
   "metadata": {},
   "outputs": [
    {
     "data": {
      "text/plain": [
       "[6, 7, 8, 9, 10]"
      ]
     },
     "execution_count": 74,
     "metadata": {},
     "output_type": "execute_result"
    }
   ],
   "source": [
    "list(map(add_5,l))"
   ]
  },
  {
   "cell_type": "code",
   "execution_count": 75,
   "id": "f796d911",
   "metadata": {},
   "outputs": [],
   "source": [
    "def operation(a):\n",
    "    return a*10+71"
   ]
  },
  {
   "cell_type": "code",
   "execution_count": 76,
   "id": "6d04b185",
   "metadata": {},
   "outputs": [
    {
     "data": {
      "text/plain": [
       "[81, 91, 101, 111, 121]"
      ]
     },
     "execution_count": 76,
     "metadata": {},
     "output_type": "execute_result"
    }
   ],
   "source": [
    "list(map(operation,l))"
   ]
  },
  {
   "cell_type": "code",
   "execution_count": 77,
   "id": "c48aaffd",
   "metadata": {},
   "outputs": [
    {
     "data": {
      "text/plain": [
       "[234, 342, 2344]"
      ]
     },
     "execution_count": 77,
     "metadata": {},
     "output_type": "execute_result"
    }
   ],
   "source": [
    "l1 = ['234','342','2344']\n",
    "list(map(lambda i:int(i),l1))"
   ]
  },
  {
   "cell_type": "code",
   "execution_count": 79,
   "id": "c0f9c7a9",
   "metadata": {},
   "outputs": [
    {
     "data": {
      "text/plain": [
       "[234, 342, 2344]"
      ]
     },
     "execution_count": 79,
     "metadata": {},
     "output_type": "execute_result"
    }
   ],
   "source": [
    "def inti(a):\n",
    "    return int(a)\n",
    "list(map(inti,l1))"
   ]
  },
  {
   "cell_type": "markdown",
   "id": "76e9d818",
   "metadata": {},
   "source": [
    "# filter"
   ]
  },
  {
   "cell_type": "code",
   "execution_count": 83,
   "id": "fe252f56",
   "metadata": {},
   "outputs": [
    {
     "data": {
      "text/plain": [
       "[5, 7, 7, 845, 3, 13, 4563, 653]"
      ]
     },
     "execution_count": 83,
     "metadata": {},
     "output_type": "execute_result"
    }
   ],
   "source": [
    "l = [4,5,6,7,7,845,6,3,14,13,42,4563,653]\n",
    "list(filter(lambda x:x%2==1,l)) # odd number filter "
   ]
  },
  {
   "cell_type": "code",
   "execution_count": 85,
   "id": "94238dd7",
   "metadata": {},
   "outputs": [],
   "source": [
    "def odd_one(a):\n",
    "    if a%2 == 1:\n",
    "        return a "
   ]
  },
  {
   "cell_type": "code",
   "execution_count": 88,
   "id": "c9ce1341",
   "metadata": {},
   "outputs": [
    {
     "data": {
      "text/plain": [
       "<filter at 0x23203252d90>"
      ]
     },
     "execution_count": 88,
     "metadata": {},
     "output_type": "execute_result"
    }
   ],
   "source": [
    "filter(odd_one,l)"
   ]
  },
  {
   "cell_type": "code",
   "execution_count": 86,
   "id": "f0317546",
   "metadata": {},
   "outputs": [
    {
     "data": {
      "text/plain": [
       "[5, 7, 7, 845, 3, 13, 4563, 653]"
      ]
     },
     "execution_count": 86,
     "metadata": {},
     "output_type": "execute_result"
    }
   ],
   "source": [
    "list(filter(odd_one,l))"
   ]
  },
  {
   "cell_type": "code",
   "execution_count": 87,
   "id": "c7775dc5",
   "metadata": {},
   "outputs": [
    {
     "data": {
      "text/plain": [
       "[4, 6, 6, 14, 42]"
      ]
     },
     "execution_count": 87,
     "metadata": {},
     "output_type": "execute_result"
    }
   ],
   "source": [
    "list(filter(lambda x:x%2==0,l)) # even "
   ]
  },
  {
   "cell_type": "code",
   "execution_count": 91,
   "id": "2433ff83",
   "metadata": {},
   "outputs": [
    {
     "data": {
      "text/plain": [
       "[4, 5, 6, 7, 7, 845, 6, 3, 14, 13, 42, 4563, 653]"
      ]
     },
     "execution_count": 91,
     "metadata": {},
     "output_type": "execute_result"
    }
   ],
   "source": [
    "list(filter(lambda x:x*10,l)) \n",
    "# x*10 == True so return all"
   ]
  },
  {
   "cell_type": "markdown",
   "id": "d314a95b",
   "metadata": {},
   "source": [
    "# reduce"
   ]
  },
  {
   "cell_type": "code",
   "execution_count": 93,
   "id": "2d424052",
   "metadata": {},
   "outputs": [],
   "source": [
    "from functools import reduce"
   ]
  },
  {
   "cell_type": "code",
   "execution_count": 96,
   "id": "17ab2dc8",
   "metadata": {},
   "outputs": [
    {
     "data": {
      "text/plain": [
       "84"
      ]
     },
     "execution_count": 96,
     "metadata": {},
     "output_type": "execute_result"
    }
   ],
   "source": [
    "l = [1,2,3,4,5,6,7,8,43,2,3]\n",
    "sum(l) # for sum"
   ]
  },
  {
   "cell_type": "code",
   "execution_count": 100,
   "id": "e3436e76",
   "metadata": {},
   "outputs": [],
   "source": [
    "def fcn(a,b):\n",
    "    return a+b\n",
    "reduce(fcn,l)"
   ]
  },
  {
   "cell_type": "code",
   "execution_count": 102,
   "id": "b5cae97e",
   "metadata": {},
   "outputs": [
    {
     "data": {
      "text/plain": [
       "10402560"
      ]
     },
     "execution_count": 102,
     "metadata": {},
     "output_type": "execute_result"
    }
   ],
   "source": [
    "def fcn(a,b):\n",
    "    return a*b\n",
    "reduce(fcn,l) # multi of all "
   ]
  },
  {
   "cell_type": "code",
   "execution_count": 103,
   "id": "55842a94",
   "metadata": {},
   "outputs": [
    {
     "data": {
      "text/plain": [
       "9.613018333948566e-08"
      ]
     },
     "execution_count": 103,
     "metadata": {},
     "output_type": "execute_result"
    }
   ],
   "source": [
    "def fcn(a,b):\n",
    "    return a/b\n",
    "reduce(fcn,l)"
   ]
  },
  {
   "cell_type": "code",
   "execution_count": 104,
   "id": "3cdaadf0",
   "metadata": {},
   "outputs": [
    {
     "data": {
      "text/plain": [
       "-82"
      ]
     },
     "execution_count": 104,
     "metadata": {},
     "output_type": "execute_result"
    }
   ],
   "source": [
    "def fcn(a,b):\n",
    "    return a-b\n",
    "reduce(fcn,l)"
   ]
  },
  {
   "cell_type": "code",
   "execution_count": 105,
   "id": "9665d4c6",
   "metadata": {},
   "outputs": [
    {
     "ename": "TypeError",
     "evalue": "fcn() missing 1 required positional argument: 'c'",
     "output_type": "error",
     "traceback": [
      "\u001b[1;31m---------------------------------------------------------------------------\u001b[0m",
      "\u001b[1;31mTypeError\u001b[0m                                 Traceback (most recent call last)",
      "Input \u001b[1;32mIn [105]\u001b[0m, in \u001b[0;36m<cell line: 3>\u001b[1;34m()\u001b[0m\n\u001b[0;32m      1\u001b[0m \u001b[38;5;28;01mdef\u001b[39;00m \u001b[38;5;21mfcn\u001b[39m(a,b,c):\n\u001b[0;32m      2\u001b[0m     \u001b[38;5;28;01mreturn\u001b[39;00m a\u001b[38;5;241m+\u001b[39mb\u001b[38;5;241m+\u001b[39mc\n\u001b[1;32m----> 3\u001b[0m \u001b[43mreduce\u001b[49m\u001b[43m(\u001b[49m\u001b[43mfcn\u001b[49m\u001b[43m,\u001b[49m\u001b[43ml\u001b[49m\u001b[43m)\u001b[49m\n",
      "\u001b[1;31mTypeError\u001b[0m: fcn() missing 1 required positional argument: 'c'"
     ]
    }
   ],
   "source": [
    "def fcn(a,b,c):\n",
    "    return a+b+c\n",
    "reduce(fcn,l)"
   ]
  },
  {
   "cell_type": "code",
   "execution_count": 106,
   "id": "935bccfb",
   "metadata": {},
   "outputs": [
    {
     "data": {
      "text/plain": [
       "1"
      ]
     },
     "execution_count": 106,
     "metadata": {},
     "output_type": "execute_result"
    }
   ],
   "source": [
    "l=[1]\n",
    "def fcn(a,b):\n",
    "    return a+b\n",
    "reduce(fcn,l)"
   ]
  },
  {
   "cell_type": "code",
   "execution_count": 108,
   "id": "a8d8771a",
   "metadata": {},
   "outputs": [
    {
     "data": {
      "text/plain": [
       "84"
      ]
     },
     "execution_count": 108,
     "metadata": {},
     "output_type": "execute_result"
    }
   ],
   "source": [
    "l = [1,2,3,4,5,6,7,8,43,2,3]\n",
    "reduce(lambda i,j:i+j , l)"
   ]
  },
  {
   "cell_type": "code",
   "execution_count": 109,
   "id": "8eb6e5f6",
   "metadata": {},
   "outputs": [
    {
     "data": {
      "text/plain": [
       "10402560"
      ]
     },
     "execution_count": 109,
     "metadata": {},
     "output_type": "execute_result"
    }
   ],
   "source": [
    "reduce(lambda i,j:i*j , l)"
   ]
  },
  {
   "cell_type": "markdown",
   "id": "72d87a94",
   "metadata": {},
   "source": [
    "# zip()"
   ]
  },
  {
   "cell_type": "code",
   "execution_count": 110,
   "id": "0ff3c9a7",
   "metadata": {},
   "outputs": [
    {
     "data": {
      "text/plain": [
       "[(1, 7), (2, 8), (3, 9), (4, 10), (5, 11), (6, 12)]"
      ]
     },
     "execution_count": 110,
     "metadata": {},
     "output_type": "execute_result"
    }
   ],
   "source": [
    "l = [1,2,3,4,5,6,]\n",
    "l1 = [7,8,9,10,11,12]\n",
    "list(zip(l,l1))"
   ]
  },
  {
   "cell_type": "code",
   "execution_count": 111,
   "id": "7954ca1b",
   "metadata": {},
   "outputs": [
    {
     "data": {
      "text/plain": [
       "{1: 7, 2: 8, 3: 9, 4: 10, 5: 11, 6: 12}"
      ]
     },
     "execution_count": 111,
     "metadata": {},
     "output_type": "execute_result"
    }
   ],
   "source": [
    "dict(zip(l,l1))"
   ]
  },
  {
   "cell_type": "code",
   "execution_count": 112,
   "id": "93e5dbef",
   "metadata": {},
   "outputs": [
    {
     "data": {
      "text/plain": [
       "[(1, 'one', 7),\n",
       " (2, 'two', 8),\n",
       " (3, 'three', 9),\n",
       " (4, 'four', 10),\n",
       " (5, 'five', 11),\n",
       " (6, 'six', 12)]"
      ]
     },
     "execution_count": 112,
     "metadata": {},
     "output_type": "execute_result"
    }
   ],
   "source": [
    "l = [1,2,3,4,5,6,]\n",
    "l1 = [7,8,9,10,11,12]\n",
    "l2 = ['one','two','three','four','five','six']\n",
    "list(zip(l,l2,l1))"
   ]
  },
  {
   "cell_type": "code",
   "execution_count": 113,
   "id": "e32978c0",
   "metadata": {},
   "outputs": [
    {
     "data": {
      "text/plain": [
       "[(1, 'one', 7), (2, 'two', 8), (3, 'three', 9), (4, 'four', 10)]"
      ]
     },
     "execution_count": 113,
     "metadata": {},
     "output_type": "execute_result"
    }
   ],
   "source": [
    "l = [1,2,3,4]\n",
    "l1 = [7,8,9,10,11,12]\n",
    "l2 = ['one','two','three','four','five','six']\n",
    "list(zip(l,l2,l1))"
   ]
  },
  {
   "cell_type": "code",
   "execution_count": 114,
   "id": "e40a1555",
   "metadata": {},
   "outputs": [
    {
     "data": {
      "text/plain": [
       "[(1, 'one', 7), (2, 'two', 8), (3, 'three', 9)]"
      ]
     },
     "execution_count": 114,
     "metadata": {},
     "output_type": "execute_result"
    }
   ],
   "source": [
    "l = [1,2,3,4]\n",
    "l1 = [7,8,9]\n",
    "l2 = ['one','two','three','four','five','six']\n",
    "list(zip(l,l2,l1))"
   ]
  },
  {
   "cell_type": "code",
   "execution_count": 115,
   "id": "a144d46a",
   "metadata": {},
   "outputs": [
    {
     "data": {
      "text/plain": [
       "[(1, 'one', 7), (2, 'two', 8)]"
      ]
     },
     "execution_count": 115,
     "metadata": {},
     "output_type": "execute_result"
    }
   ],
   "source": [
    "l = [1,2,3,4]\n",
    "l1 = [7,8,9]\n",
    "l2 = ['one','two']\n",
    "list(zip(l,l2,l1))"
   ]
  },
  {
   "cell_type": "markdown",
   "id": "c184d760",
   "metadata": {},
   "source": [
    "# Tasks \n",
    "[DOWNLOAD THE DATA FROM HERE IN TXT FORMAT](https://archive.ics.uci.edu/ml/datasets/Bag+of+Words)  BOTTOM 5 FILE FROM DATA FOLDER \n",
    "1. Try to find out a count of each and every word in a respective file. return a list of tuple with word and its respective count.     \n",
    "sample eg [('sharad', 8)]\n",
    "1. try to perform reduce operation to get count of all the word starting with same alphabet?    \n",
    "sample eg [('a', 8),('b',10)]\n",
    "1. Try to filter out all the data without puncuation.    \n",
    "sample (292.-12.,sdfj = sdfj )\n",
    "1. create a tuple set of all the records available in all the 5 file and then store it in sqlite DB.     \n",
    "SAMPLE -  ('SDF',FS,34,42,3)   \n",
    "Hint - use join   "
   ]
  }
 ],
 "metadata": {
  "kernelspec": {
   "display_name": "Python 3 (ipykernel)",
   "language": "python",
   "name": "python3"
  },
  "language_info": {
   "codemirror_mode": {
    "name": "ipython",
    "version": 3
   },
   "file_extension": ".py",
   "mimetype": "text/x-python",
   "name": "python",
   "nbconvert_exporter": "python",
   "pygments_lexer": "ipython3",
   "version": "3.9.12"
  }
 },
 "nbformat": 4,
 "nbformat_minor": 5
}
