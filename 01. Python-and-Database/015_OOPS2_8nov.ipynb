{
 "cells": [
  {
   "cell_type": "markdown",
   "id": "4596560c",
   "metadata": {},
   "source": [
    "**Date 08 nov 2022**   \n",
    "[Lecture link](https://www.youtube.com/watch?v=gZyIH2eC03M)\n"
   ]
  },
  {
   "cell_type": "code",
   "execution_count": 1,
   "id": "9bb3f30e",
   "metadata": {},
   "outputs": [],
   "source": [
    "# inheritance \n",
    "# properties from our parents\n",
    "# same concept in class and object\n",
    "# use again and again then inherent the some properties\n",
    "# very easy "
   ]
  },
  {
   "cell_type": "code",
   "execution_count": 2,
   "id": "90b915f1",
   "metadata": {},
   "outputs": [],
   "source": [
    "class xyz:\n",
    "    def __init__(self,a,b,c):\n",
    "        self.a = a\n",
    "        self.b = b\n",
    "        self.c = c\n",
    "        \n",
    "    def test(self):\n",
    "        print('This is my 1st test method in xyz class')\n",
    "        \n",
    "    def test1(self):\n",
    "        print('This is my 2st test method in xyz class')\n",
    "        \n",
    "    def test2(self):\n",
    "        print('This is my 3st test method in xyz class')"
   ]
  },
  {
   "cell_type": "code",
   "execution_count": 3,
   "id": "2b228dbf",
   "metadata": {},
   "outputs": [
    {
     "name": "stdout",
     "output_type": "stream",
     "text": [
      "This is my 2st test method in xyz class\n"
     ]
    }
   ],
   "source": [
    "p = xyz(1,2,3) # p is var of class xyz\n",
    "p.test1()"
   ]
  },
  {
   "cell_type": "code",
   "execution_count": 4,
   "id": "f41d36fc",
   "metadata": {},
   "outputs": [],
   "source": [
    "class xyz1():\n",
    "    pass"
   ]
  },
  {
   "cell_type": "code",
   "execution_count": 5,
   "id": "649b100e",
   "metadata": {},
   "outputs": [],
   "source": [
    "q = xyz1()"
   ]
  },
  {
   "cell_type": "code",
   "execution_count": 6,
   "id": "248d2fa3",
   "metadata": {},
   "outputs": [],
   "source": [
    "class xyz1(xyz): # this is called inheritance. \n",
    "    pass         # here class xyz will act as method of xyz1"
   ]
  },
  {
   "cell_type": "code",
   "execution_count": 7,
   "id": "57ef8d56",
   "metadata": {},
   "outputs": [
    {
     "ename": "TypeError",
     "evalue": "__init__() missing 3 required positional arguments: 'a', 'b', and 'c'",
     "output_type": "error",
     "traceback": [
      "\u001b[1;31m---------------------------------------------------------------------------\u001b[0m",
      "\u001b[1;31mTypeError\u001b[0m                                 Traceback (most recent call last)",
      "Input \u001b[1;32mIn [7]\u001b[0m, in \u001b[0;36m<cell line: 1>\u001b[1;34m()\u001b[0m\n\u001b[1;32m----> 1\u001b[0m q \u001b[38;5;241m=\u001b[39m \u001b[43mxyz1\u001b[49m\u001b[43m(\u001b[49m\u001b[43m)\u001b[49m\n",
      "\u001b[1;31mTypeError\u001b[0m: __init__() missing 3 required positional arguments: 'a', 'b', and 'c'"
     ]
    }
   ],
   "source": [
    "q = xyz1()"
   ]
  },
  {
   "cell_type": "code",
   "execution_count": 8,
   "id": "4c8d64ad",
   "metadata": {},
   "outputs": [],
   "source": [
    "q = xyz1(1,3,4)"
   ]
  },
  {
   "cell_type": "code",
   "execution_count": 9,
   "id": "1ca3a930",
   "metadata": {},
   "outputs": [
    {
     "name": "stdout",
     "output_type": "stream",
     "text": [
      "This is my 2st test method in xyz class\n"
     ]
    }
   ],
   "source": [
    "q.test1()"
   ]
  },
  {
   "cell_type": "code",
   "execution_count": 10,
   "id": "64c79e19",
   "metadata": {},
   "outputs": [],
   "source": [
    "class xyz1(xyz):\n",
    "    def test(self):\n",
    "        print('THis is test method in xyz1')"
   ]
  },
  {
   "cell_type": "code",
   "execution_count": 11,
   "id": "0f847d91",
   "metadata": {},
   "outputs": [
    {
     "name": "stdout",
     "output_type": "stream",
     "text": [
      "THis is test method in xyz1\n"
     ]
    }
   ],
   "source": [
    "g = xyz1(3,4,4)\n",
    "g.test()  # if you want to change method in new class you can "
   ]
  },
  {
   "cell_type": "code",
   "execution_count": 12,
   "id": "f628fa0c",
   "metadata": {},
   "outputs": [],
   "source": [
    "class xyz():\n",
    "    def __init__(self,a,b,c):\n",
    "        self.a = a \n",
    "        self.b = b\n",
    "        self.c = c\n",
    "        \n",
    "    def test(self):\n",
    "        print('This is a method of xyz')\n",
    "\n",
    "        \n",
    "        \n",
    "class xyz1():\n",
    "    def __init__(self,p,q,r):\n",
    "        self.p = p\n",
    "        self.q = q\n",
    "        self.r = r   \n",
    "    def test1(self):\n",
    "        print('This is a method from class xyz1')\n",
    "\n",
    "        \n",
    "        \n",
    "class child(xyz,xyz1):\n",
    "    pass"
   ]
  },
  {
   "cell_type": "code",
   "execution_count": 13,
   "id": "50dbbc91",
   "metadata": {},
   "outputs": [
    {
     "ename": "TypeError",
     "evalue": "__init__() missing 3 required positional arguments: 'a', 'b', and 'c'",
     "output_type": "error",
     "traceback": [
      "\u001b[1;31m---------------------------------------------------------------------------\u001b[0m",
      "\u001b[1;31mTypeError\u001b[0m                                 Traceback (most recent call last)",
      "Input \u001b[1;32mIn [13]\u001b[0m, in \u001b[0;36m<cell line: 1>\u001b[1;34m()\u001b[0m\n\u001b[1;32m----> 1\u001b[0m n \u001b[38;5;241m=\u001b[39m \u001b[43mchild\u001b[49m\u001b[43m(\u001b[49m\u001b[43m)\u001b[49m\n",
      "\u001b[1;31mTypeError\u001b[0m: __init__() missing 3 required positional arguments: 'a', 'b', and 'c'"
     ]
    }
   ],
   "source": [
    "n = child()"
   ]
  },
  {
   "cell_type": "code",
   "execution_count": 14,
   "id": "1700e912",
   "metadata": {},
   "outputs": [],
   "source": [
    "n = child(2,2,3)"
   ]
  },
  {
   "cell_type": "code",
   "execution_count": 15,
   "id": "16478f3d",
   "metadata": {},
   "outputs": [],
   "source": [
    "# n. and press tab - only a,b,c and test and test1 will be there"
   ]
  },
  {
   "cell_type": "code",
   "execution_count": 16,
   "id": "f3e508f5",
   "metadata": {},
   "outputs": [],
   "source": [
    "class xyz():\n",
    "    def __init__(self,a,b,c):\n",
    "        self.a = a \n",
    "        self.b = b\n",
    "        self.c = c  \n",
    "    def test(self):\n",
    "        print('This is a method of xyz')\n",
    "\n",
    "        \n",
    "        \n",
    "class xyz1():\n",
    "    def __init__(self,p,q,r):\n",
    "        self.p = p\n",
    "        self.q = q\n",
    "        self.r = r  \n",
    "    def test1(self):\n",
    "        print('This is a method from class xyz1')\n",
    "        \n",
    "class child(xyz1,xyz): # changes\n",
    "    pass"
   ]
  },
  {
   "cell_type": "code",
   "execution_count": 17,
   "id": "3652355e",
   "metadata": {},
   "outputs": [
    {
     "ename": "TypeError",
     "evalue": "__init__() missing 3 required positional arguments: 'p', 'q', and 'r'",
     "output_type": "error",
     "traceback": [
      "\u001b[1;31m---------------------------------------------------------------------------\u001b[0m",
      "\u001b[1;31mTypeError\u001b[0m                                 Traceback (most recent call last)",
      "Input \u001b[1;32mIn [17]\u001b[0m, in \u001b[0;36m<cell line: 1>\u001b[1;34m()\u001b[0m\n\u001b[1;32m----> 1\u001b[0m m \u001b[38;5;241m=\u001b[39m \u001b[43mchild\u001b[49m\u001b[43m(\u001b[49m\u001b[43m)\u001b[49m\n",
      "\u001b[1;31mTypeError\u001b[0m: __init__() missing 3 required positional arguments: 'p', 'q', and 'r'"
     ]
    }
   ],
   "source": [
    "m = child()"
   ]
  },
  {
   "cell_type": "code",
   "execution_count": 18,
   "id": "b566f758",
   "metadata": {},
   "outputs": [],
   "source": [
    "m = child(1,32,45)"
   ]
  },
  {
   "cell_type": "code",
   "execution_count": 19,
   "id": "7752d263",
   "metadata": {},
   "outputs": [],
   "source": [
    "# m. and press tab - only p,q,r and test and test1 will be there"
   ]
  },
  {
   "cell_type": "markdown",
   "id": "675be62c",
   "metadata": {},
   "source": [
    "**_we have to inherit abc and pqr to our child_**"
   ]
  },
  {
   "cell_type": "code",
   "execution_count": 20,
   "id": "32fd3cbc",
   "metadata": {},
   "outputs": [],
   "source": [
    "class xyz():\n",
    "    def __init__(self,a,b,c):\n",
    "        self.a = a \n",
    "        self.b = b\n",
    "        self.c = c   \n",
    "    def test(self):\n",
    "        print('This is a method of xyz')\n",
    "\n",
    "        \n",
    "        \n",
    "class xyz1():\n",
    "    def __init__(self,p,q,r):\n",
    "        self.p = p\n",
    "        self.q = q\n",
    "        self.r = r   \n",
    "    def test1(self):\n",
    "        print('This is a method from class xyz1')\n",
    "        \n",
    "        \n",
    "class child(xyz1,xyz): # changes\n",
    "    def __init__(self,*args):\n",
    "        xyz.__init__(self,*args)\n",
    "        xyz1.__init__(self,*args)   "
   ]
  },
  {
   "cell_type": "code",
   "execution_count": 21,
   "id": "9055be4d",
   "metadata": {},
   "outputs": [
    {
     "ename": "TypeError",
     "evalue": "__init__() missing 3 required positional arguments: 'a', 'b', and 'c'",
     "output_type": "error",
     "traceback": [
      "\u001b[1;31m---------------------------------------------------------------------------\u001b[0m",
      "\u001b[1;31mTypeError\u001b[0m                                 Traceback (most recent call last)",
      "Input \u001b[1;32mIn [21]\u001b[0m, in \u001b[0;36m<cell line: 1>\u001b[1;34m()\u001b[0m\n\u001b[1;32m----> 1\u001b[0m n \u001b[38;5;241m=\u001b[39m \u001b[43mchild\u001b[49m\u001b[43m(\u001b[49m\u001b[43m)\u001b[49m\n",
      "Input \u001b[1;32mIn [20]\u001b[0m, in \u001b[0;36mchild.__init__\u001b[1;34m(self, *args)\u001b[0m\n\u001b[0;32m     21\u001b[0m \u001b[38;5;28;01mdef\u001b[39;00m \u001b[38;5;21m__init__\u001b[39m(\u001b[38;5;28mself\u001b[39m,\u001b[38;5;241m*\u001b[39margs):\n\u001b[1;32m---> 22\u001b[0m     \u001b[43mxyz\u001b[49m\u001b[38;5;241;43m.\u001b[39;49m\u001b[38;5;21;43m__init__\u001b[39;49m\u001b[43m(\u001b[49m\u001b[38;5;28;43mself\u001b[39;49m\u001b[43m,\u001b[49m\u001b[38;5;241;43m*\u001b[39;49m\u001b[43margs\u001b[49m\u001b[43m)\u001b[49m\n\u001b[0;32m     23\u001b[0m     xyz1\u001b[38;5;241m.\u001b[39m\u001b[38;5;21m__init__\u001b[39m(\u001b[38;5;28mself\u001b[39m,\u001b[38;5;241m*\u001b[39margs)\n",
      "\u001b[1;31mTypeError\u001b[0m: __init__() missing 3 required positional arguments: 'a', 'b', and 'c'"
     ]
    }
   ],
   "source": [
    "n = child()"
   ]
  },
  {
   "cell_type": "code",
   "execution_count": 22,
   "id": "1f455404",
   "metadata": {},
   "outputs": [],
   "source": [
    "n = child(3,5,6)"
   ]
  },
  {
   "cell_type": "code",
   "execution_count": 23,
   "id": "590e9314",
   "metadata": {},
   "outputs": [
    {
     "data": {
      "text/plain": [
       "(3, 3)"
      ]
     },
     "execution_count": 23,
     "metadata": {},
     "output_type": "execute_result"
    }
   ],
   "source": [
    "# n. now all included \n",
    "n.a , n.p"
   ]
  },
  {
   "cell_type": "code",
   "execution_count": 24,
   "id": "aeeb4a35",
   "metadata": {},
   "outputs": [],
   "source": [
    "class xyz():\n",
    "    def __init__(self,a,b,c):\n",
    "        self.a = a \n",
    "        self.b = b\n",
    "        self.c = c  \n",
    "    def test(self):\n",
    "        print('This is a method of xyz')\n",
    "\n",
    "        \n",
    "        \n",
    "class xyz1():\n",
    "    def __init__(self,p,q,r):\n",
    "        self.p = p\n",
    "        self.q = q\n",
    "        self.r = r   \n",
    "    def test1(self):\n",
    "        print('This is a method from class xyz1')\n",
    "\n",
    "        \n",
    "        \n",
    "class child(xyz1,xyz): # changes\n",
    "    def __init__(self,*args,**kwargs):\n",
    "        xyz.__init__(self,*args)\n",
    "        xyz1.__init__(self,**kwargs)\n",
    "        "
   ]
  },
  {
   "cell_type": "code",
   "execution_count": 25,
   "id": "822d1d45",
   "metadata": {},
   "outputs": [
    {
     "ename": "TypeError",
     "evalue": "__init__() missing 3 required positional arguments: 'a', 'b', and 'c'",
     "output_type": "error",
     "traceback": [
      "\u001b[1;31m---------------------------------------------------------------------------\u001b[0m",
      "\u001b[1;31mTypeError\u001b[0m                                 Traceback (most recent call last)",
      "Input \u001b[1;32mIn [25]\u001b[0m, in \u001b[0;36m<cell line: 1>\u001b[1;34m()\u001b[0m\n\u001b[1;32m----> 1\u001b[0m n \u001b[38;5;241m=\u001b[39m \u001b[43mchild\u001b[49m\u001b[43m(\u001b[49m\u001b[43m)\u001b[49m\n",
      "Input \u001b[1;32mIn [24]\u001b[0m, in \u001b[0;36mchild.__init__\u001b[1;34m(self, *args, **kwargs)\u001b[0m\n\u001b[0;32m     22\u001b[0m \u001b[38;5;28;01mdef\u001b[39;00m \u001b[38;5;21m__init__\u001b[39m(\u001b[38;5;28mself\u001b[39m,\u001b[38;5;241m*\u001b[39margs,\u001b[38;5;241m*\u001b[39m\u001b[38;5;241m*\u001b[39mkwargs):\n\u001b[1;32m---> 23\u001b[0m     \u001b[43mxyz\u001b[49m\u001b[38;5;241;43m.\u001b[39;49m\u001b[38;5;21;43m__init__\u001b[39;49m\u001b[43m(\u001b[49m\u001b[38;5;28;43mself\u001b[39;49m\u001b[43m,\u001b[49m\u001b[38;5;241;43m*\u001b[39;49m\u001b[43margs\u001b[49m\u001b[43m)\u001b[49m\n\u001b[0;32m     24\u001b[0m     xyz1\u001b[38;5;241m.\u001b[39m\u001b[38;5;21m__init__\u001b[39m(\u001b[38;5;28mself\u001b[39m,\u001b[38;5;241m*\u001b[39m\u001b[38;5;241m*\u001b[39mkwargs)\n",
      "\u001b[1;31mTypeError\u001b[0m: __init__() missing 3 required positional arguments: 'a', 'b', and 'c'"
     ]
    }
   ],
   "source": [
    "n = child()"
   ]
  },
  {
   "cell_type": "code",
   "execution_count": 26,
   "id": "cb0ab46b",
   "metadata": {},
   "outputs": [],
   "source": [
    "n = child(1,2,3,p=4,q=7,r=9)"
   ]
  },
  {
   "cell_type": "code",
   "execution_count": 27,
   "id": "4c3a0d72",
   "metadata": {},
   "outputs": [
    {
     "data": {
      "text/plain": [
       "4"
      ]
     },
     "execution_count": 27,
     "metadata": {},
     "output_type": "execute_result"
    }
   ],
   "source": [
    "n.p # not overwrite the value of a on p"
   ]
  },
  {
   "cell_type": "code",
   "execution_count": 28,
   "id": "4d1dc921",
   "metadata": {},
   "outputs": [],
   "source": [
    "# Multiple inherentence also multilabel inherentence\n",
    "class xyz: # grand parents\n",
    "    def __init__(self,a,b,c):\n",
    "        self.a = a \n",
    "        self.b = b\n",
    "        self.c = c  \n",
    "    def test(self):\n",
    "        print('This is a method of xyz')\n",
    "\n",
    "            \n",
    "class xyz1(xyz):  # parents\n",
    "    def test1(self):\n",
    "        print('This is a method from class xyz1')\n",
    "\n",
    "class xyz2(xyz1): # child\n",
    "    def test2(self):\n",
    "        print('This is a method from class 2')"
   ]
  },
  {
   "cell_type": "code",
   "execution_count": 29,
   "id": "3a4df2cd",
   "metadata": {},
   "outputs": [
    {
     "ename": "TypeError",
     "evalue": "__init__() missing 3 required positional arguments: 'a', 'b', and 'c'",
     "output_type": "error",
     "traceback": [
      "\u001b[1;31m---------------------------------------------------------------------------\u001b[0m",
      "\u001b[1;31mTypeError\u001b[0m                                 Traceback (most recent call last)",
      "Input \u001b[1;32mIn [29]\u001b[0m, in \u001b[0;36m<cell line: 1>\u001b[1;34m()\u001b[0m\n\u001b[1;32m----> 1\u001b[0m v \u001b[38;5;241m=\u001b[39m \u001b[43mxyz2\u001b[49m\u001b[43m(\u001b[49m\u001b[43m)\u001b[49m\n",
      "\u001b[1;31mTypeError\u001b[0m: __init__() missing 3 required positional arguments: 'a', 'b', and 'c'"
     ]
    }
   ],
   "source": [
    "v = xyz2()"
   ]
  },
  {
   "cell_type": "code",
   "execution_count": 30,
   "id": "a45a96b0",
   "metadata": {},
   "outputs": [],
   "source": [
    "v = xyz2(1,2,3)"
   ]
  },
  {
   "cell_type": "code",
   "execution_count": 31,
   "id": "b4b2e162",
   "metadata": {},
   "outputs": [],
   "source": [
    "# v.a all included a,b,c and test,test1, test2"
   ]
  },
  {
   "cell_type": "markdown",
   "id": "0693638a",
   "metadata": {},
   "source": [
    "# Date 9 nov 2022\n",
    "\n",
    "incapsulation"
   ]
  },
  {
   "cell_type": "markdown",
   "id": "054236fd",
   "metadata": {},
   "source": [
    "**q1** = create a file class for reading data from a respective file with a method name read and write. \n",
    "\n",
    "\n",
    "**q2** = try to inherit read and write method from parents class to child class to perform read and write operation."
   ]
  },
  {
   "cell_type": "code",
   "execution_count": 33,
   "id": "1c5c2f96",
   "metadata": {},
   "outputs": [],
   "source": [
    "# solution\n",
    "class file:\n",
    "    def __init__(self,filename,filetype):\n",
    "        self.filename = filename\n",
    "        self.filetype = filetype\n",
    "        \n",
    "    def read(self):\n",
    "        f = open(self.filename,'r')\n",
    "        print(f.read())\n",
    "        f.close\n",
    "        \n",
    "    def write(self):\n",
    "        f = open(self.filename,'w')\n",
    "        f.write('This is my class in write method')\n",
    "        \n",
    "class file_child(file):\n",
    "    pass\n",
    "\n",
    "test1 = file('testingclass','.txt')\n",
    "test2 = file_child('testingchild','txt')"
   ]
  },
  {
   "cell_type": "code",
   "execution_count": 34,
   "id": "fce2fd3b",
   "metadata": {},
   "outputs": [],
   "source": [
    "# public, private and protected in  java\n",
    "# in python notation "
   ]
  },
  {
   "cell_type": "code",
   "execution_count": 40,
   "id": "45d8f66d",
   "metadata": {},
   "outputs": [],
   "source": [
    "class test:\n",
    "    def __init__(self,a,b,c):\n",
    "        self.a = a\n",
    "        self.b = b\n",
    "        self.c = c\n",
    "\n",
    "class test1(test):\n",
    "    pass\n",
    "\n",
    "u = test(3,4,5)"
   ]
  },
  {
   "cell_type": "code",
   "execution_count": 41,
   "id": "23f64656",
   "metadata": {},
   "outputs": [
    {
     "data": {
      "text/plain": [
       "3"
      ]
     },
     "execution_count": 41,
     "metadata": {},
     "output_type": "execute_result"
    }
   ],
   "source": [
    "u.a"
   ]
  },
  {
   "cell_type": "code",
   "execution_count": 42,
   "id": "8e9a75fd",
   "metadata": {},
   "outputs": [],
   "source": [
    "v = test1(6,7,8)"
   ]
  },
  {
   "cell_type": "code",
   "execution_count": 43,
   "id": "709c6482",
   "metadata": {},
   "outputs": [
    {
     "data": {
      "text/plain": [
       "6"
      ]
     },
     "execution_count": 43,
     "metadata": {},
     "output_type": "execute_result"
    }
   ],
   "source": [
    "v.a"
   ]
  },
  {
   "cell_type": "code",
   "execution_count": 44,
   "id": "e07d6416",
   "metadata": {},
   "outputs": [],
   "source": [
    "# we are able to change a,b,c so it is public "
   ]
  },
  {
   "cell_type": "code",
   "execution_count": 45,
   "id": "0ff8e3cc",
   "metadata": {},
   "outputs": [],
   "source": [
    "class test:\n",
    "    def __init__(self):\n",
    "        self.a = 4\n",
    "\n",
    "class test1(test):\n",
    "    pass"
   ]
  },
  {
   "cell_type": "code",
   "execution_count": 46,
   "id": "a14fd209",
   "metadata": {},
   "outputs": [
    {
     "data": {
      "text/plain": [
       "4"
      ]
     },
     "execution_count": 46,
     "metadata": {},
     "output_type": "execute_result"
    }
   ],
   "source": [
    "u = test()\n",
    "u.a"
   ]
  },
  {
   "cell_type": "code",
   "execution_count": 47,
   "id": "c447f18f",
   "metadata": {},
   "outputs": [
    {
     "data": {
      "text/plain": [
       "4"
      ]
     },
     "execution_count": 47,
     "metadata": {},
     "output_type": "execute_result"
    }
   ],
   "source": [
    "v = test1()\n",
    "v.a"
   ]
  },
  {
   "cell_type": "code",
   "execution_count": 48,
   "id": "c03ea7aa",
   "metadata": {},
   "outputs": [
    {
     "ename": "NameError",
     "evalue": "name 'self' is not defined",
     "output_type": "error",
     "traceback": [
      "\u001b[1;31m---------------------------------------------------------------------------\u001b[0m",
      "\u001b[1;31mNameError\u001b[0m                                 Traceback (most recent call last)",
      "Input \u001b[1;32mIn [48]\u001b[0m, in \u001b[0;36m<cell line: 5>\u001b[1;34m()\u001b[0m\n\u001b[0;32m      2\u001b[0m     \u001b[38;5;28;01mdef\u001b[39;00m \u001b[38;5;21m__init__\u001b[39m(\u001b[38;5;28mself\u001b[39m):\n\u001b[0;32m      3\u001b[0m         \u001b[38;5;28mself\u001b[39m\u001b[38;5;241m.\u001b[39ma \u001b[38;5;241m=\u001b[39m \u001b[38;5;241m4\u001b[39m\n\u001b[1;32m----> 5\u001b[0m \u001b[38;5;28;01mclass\u001b[39;00m \u001b[38;5;21;01mtest1\u001b[39;00m(test):\n\u001b[0;32m      6\u001b[0m     \u001b[38;5;28mself\u001b[39m\u001b[38;5;241m.\u001b[39ma \u001b[38;5;241m=\u001b[39m \u001b[38;5;241m7\u001b[39m\n",
      "Input \u001b[1;32mIn [48]\u001b[0m, in \u001b[0;36mtest1\u001b[1;34m()\u001b[0m\n\u001b[0;32m      5\u001b[0m \u001b[38;5;28;01mclass\u001b[39;00m \u001b[38;5;21;01mtest1\u001b[39;00m(test):\n\u001b[1;32m----> 6\u001b[0m     \u001b[38;5;28;43mself\u001b[39;49m\u001b[38;5;241m.\u001b[39ma \u001b[38;5;241m=\u001b[39m \u001b[38;5;241m7\u001b[39m\n",
      "\u001b[1;31mNameError\u001b[0m: name 'self' is not defined"
     ]
    }
   ],
   "source": [
    "class test:\n",
    "    def __init__(self):\n",
    "        self.a = 4\n",
    "\n",
    "class test1(test):\n",
    "    self.a = 7"
   ]
  },
  {
   "cell_type": "code",
   "execution_count": 50,
   "id": "148bf473",
   "metadata": {},
   "outputs": [],
   "source": [
    "class test:\n",
    "    def __init__(self):\n",
    "        self.a = 4\n",
    "\n",
    "class test1(test):\n",
    "    def __init__(self):\n",
    "        self.a = 7"
   ]
  },
  {
   "cell_type": "code",
   "execution_count": 53,
   "id": "77bf1dc2",
   "metadata": {},
   "outputs": [
    {
     "data": {
      "text/plain": [
       "4"
      ]
     },
     "execution_count": 53,
     "metadata": {},
     "output_type": "execute_result"
    }
   ],
   "source": [
    "u = test()\n",
    "u.a"
   ]
  },
  {
   "cell_type": "code",
   "execution_count": 54,
   "id": "c88d0d04",
   "metadata": {},
   "outputs": [
    {
     "data": {
      "text/plain": [
       "7"
      ]
     },
     "execution_count": 54,
     "metadata": {},
     "output_type": "execute_result"
    }
   ],
   "source": [
    "v = test1()\n",
    "v.a"
   ]
  },
  {
   "cell_type": "code",
   "execution_count": 55,
   "id": "a428af25",
   "metadata": {},
   "outputs": [],
   "source": [
    "class test:\n",
    "    def __init__(self):\n",
    "        self.a = 4\n",
    "\n",
    "class test1(test):\n",
    "    def __init__(self):\n",
    "        test.__init__(self)\n",
    "        self.a = 7\n",
    "        # self.a = 7"
   ]
  },
  {
   "cell_type": "code",
   "execution_count": 56,
   "id": "4fa143e0",
   "metadata": {},
   "outputs": [
    {
     "data": {
      "text/plain": [
       "4"
      ]
     },
     "execution_count": 56,
     "metadata": {},
     "output_type": "execute_result"
    }
   ],
   "source": [
    "u = test()\n",
    "u.a"
   ]
  },
  {
   "cell_type": "code",
   "execution_count": 57,
   "id": "d7002bd2",
   "metadata": {},
   "outputs": [
    {
     "data": {
      "text/plain": [
       "7"
      ]
     },
     "execution_count": 57,
     "metadata": {},
     "output_type": "execute_result"
    }
   ],
   "source": [
    "v = test1()\n",
    "v.a"
   ]
  },
  {
   "cell_type": "code",
   "execution_count": 58,
   "id": "0bd7f8b8",
   "metadata": {},
   "outputs": [],
   "source": [
    "class test:\n",
    "    def __init__(self):\n",
    "        self._a = 4 # _a act as protected variable\n",
    "\n",
    "class test1(test):\n",
    "    def __init__(self):\n",
    "        self.a = 7"
   ]
  },
  {
   "cell_type": "code",
   "execution_count": 59,
   "id": "13cbc1a5",
   "metadata": {},
   "outputs": [
    {
     "ename": "AttributeError",
     "evalue": "'test' object has no attribute 'a'",
     "output_type": "error",
     "traceback": [
      "\u001b[1;31m---------------------------------------------------------------------------\u001b[0m",
      "\u001b[1;31mAttributeError\u001b[0m                            Traceback (most recent call last)",
      "Input \u001b[1;32mIn [59]\u001b[0m, in \u001b[0;36m<cell line: 2>\u001b[1;34m()\u001b[0m\n\u001b[0;32m      1\u001b[0m u \u001b[38;5;241m=\u001b[39m test()\n\u001b[1;32m----> 2\u001b[0m \u001b[43mu\u001b[49m\u001b[38;5;241;43m.\u001b[39;49m\u001b[43ma\u001b[49m\n",
      "\u001b[1;31mAttributeError\u001b[0m: 'test' object has no attribute 'a'"
     ]
    }
   ],
   "source": [
    "u = test()\n",
    "u.a"
   ]
  },
  {
   "cell_type": "code",
   "execution_count": 60,
   "id": "5e455cbf",
   "metadata": {},
   "outputs": [
    {
     "data": {
      "text/plain": [
       "7"
      ]
     },
     "execution_count": 60,
     "metadata": {},
     "output_type": "execute_result"
    }
   ],
   "source": [
    "v = test1()\n",
    "v.a"
   ]
  },
  {
   "cell_type": "code",
   "execution_count": 61,
   "id": "8625eb5e",
   "metadata": {},
   "outputs": [],
   "source": [
    "class test:\n",
    "    def __init__(self):\n",
    "        self._a = 4 # _a act as protected variable\n",
    "\n",
    "class test1(test):\n",
    "    def __init__(self):\n",
    "        self._a = 7"
   ]
  },
  {
   "cell_type": "code",
   "execution_count": 62,
   "id": "5b0d83f2",
   "metadata": {},
   "outputs": [
    {
     "data": {
      "text/plain": [
       "4"
      ]
     },
     "execution_count": 62,
     "metadata": {},
     "output_type": "execute_result"
    }
   ],
   "source": [
    "u = test()\n",
    "u._a"
   ]
  },
  {
   "cell_type": "code",
   "execution_count": 63,
   "id": "da0a7333",
   "metadata": {},
   "outputs": [
    {
     "data": {
      "text/plain": [
       "7"
      ]
     },
     "execution_count": 63,
     "metadata": {},
     "output_type": "execute_result"
    }
   ],
   "source": [
    "v = test1()\n",
    "v._a"
   ]
  },
  {
   "cell_type": "code",
   "execution_count": 64,
   "id": "6b1e7046",
   "metadata": {},
   "outputs": [],
   "source": [
    "class test:\n",
    "    def __init__(self):\n",
    "        self.__a = 4 \n",
    "        \n",
    "class test1(test):\n",
    "    def __init__(self):\n",
    "        self.__a = 7"
   ]
  },
  {
   "cell_type": "code",
   "execution_count": 65,
   "id": "57ddaa4b",
   "metadata": {},
   "outputs": [
    {
     "ename": "AttributeError",
     "evalue": "'test' object has no attribute '__a'",
     "output_type": "error",
     "traceback": [
      "\u001b[1;31m---------------------------------------------------------------------------\u001b[0m",
      "\u001b[1;31mAttributeError\u001b[0m                            Traceback (most recent call last)",
      "Input \u001b[1;32mIn [65]\u001b[0m, in \u001b[0;36m<cell line: 2>\u001b[1;34m()\u001b[0m\n\u001b[0;32m      1\u001b[0m u \u001b[38;5;241m=\u001b[39m test()\n\u001b[1;32m----> 2\u001b[0m \u001b[43mu\u001b[49m\u001b[38;5;241;43m.\u001b[39;49m\u001b[43m__a\u001b[49m\n",
      "\u001b[1;31mAttributeError\u001b[0m: 'test' object has no attribute '__a'"
     ]
    }
   ],
   "source": [
    "u = test()\n",
    "u.__a"
   ]
  },
  {
   "cell_type": "code",
   "execution_count": 66,
   "id": "47493394",
   "metadata": {},
   "outputs": [
    {
     "ename": "AttributeError",
     "evalue": "'test1' object has no attribute '__a'",
     "output_type": "error",
     "traceback": [
      "\u001b[1;31m---------------------------------------------------------------------------\u001b[0m",
      "\u001b[1;31mAttributeError\u001b[0m                            Traceback (most recent call last)",
      "Input \u001b[1;32mIn [66]\u001b[0m, in \u001b[0;36m<cell line: 2>\u001b[1;34m()\u001b[0m\n\u001b[0;32m      1\u001b[0m v\u001b[38;5;241m=\u001b[39m test1()\n\u001b[1;32m----> 2\u001b[0m \u001b[43mv\u001b[49m\u001b[38;5;241;43m.\u001b[39;49m\u001b[43m__a\u001b[49m\n",
      "\u001b[1;31mAttributeError\u001b[0m: 'test1' object has no attribute '__a'"
     ]
    }
   ],
   "source": [
    "v= test1()\n",
    "v.__a"
   ]
  },
  {
   "cell_type": "code",
   "execution_count": 67,
   "id": "38e2c894",
   "metadata": {},
   "outputs": [],
   "source": [
    "class test:\n",
    "    def __init__(self,a,b,c):\n",
    "        self.a = a\n",
    "        self.b = b\n",
    "        self.c = c\n",
    "        \n",
    "v = test(3,5,6)"
   ]
  },
  {
   "cell_type": "code",
   "execution_count": 68,
   "id": "f8892dad",
   "metadata": {},
   "outputs": [
    {
     "data": {
      "text/plain": [
       "3"
      ]
     },
     "execution_count": 68,
     "metadata": {},
     "output_type": "execute_result"
    }
   ],
   "source": [
    "v.a"
   ]
  },
  {
   "cell_type": "code",
   "execution_count": 77,
   "id": "12e8ebce",
   "metadata": {},
   "outputs": [],
   "source": [
    "class test:\n",
    "    def __init__(self,a,b,c):\n",
    "        self._a = a # protected\n",
    "        self.__b = b  # __b means private\n",
    "        self.c = c # public\n",
    "        \n",
    "        \n",
    "v = test(3,5,6)"
   ]
  },
  {
   "cell_type": "code",
   "execution_count": 71,
   "id": "c7232408",
   "metadata": {},
   "outputs": [
    {
     "data": {
      "text/plain": [
       "3"
      ]
     },
     "execution_count": 71,
     "metadata": {},
     "output_type": "execute_result"
    }
   ],
   "source": [
    "v._a"
   ]
  },
  {
   "cell_type": "code",
   "execution_count": 72,
   "id": "2f402692",
   "metadata": {},
   "outputs": [
    {
     "ename": "AttributeError",
     "evalue": "'test' object has no attribute '__b'",
     "output_type": "error",
     "traceback": [
      "\u001b[1;31m---------------------------------------------------------------------------\u001b[0m",
      "\u001b[1;31mAttributeError\u001b[0m                            Traceback (most recent call last)",
      "Input \u001b[1;32mIn [72]\u001b[0m, in \u001b[0;36m<cell line: 1>\u001b[1;34m()\u001b[0m\n\u001b[1;32m----> 1\u001b[0m \u001b[43mv\u001b[49m\u001b[38;5;241;43m.\u001b[39;49m\u001b[43m__b\u001b[49m\n",
      "\u001b[1;31mAttributeError\u001b[0m: 'test' object has no attribute '__b'"
     ]
    }
   ],
   "source": [
    "v.__b"
   ]
  },
  {
   "cell_type": "code",
   "execution_count": 78,
   "id": "002de642",
   "metadata": {},
   "outputs": [
    {
     "data": {
      "text/plain": [
       "5"
      ]
     },
     "execution_count": 78,
     "metadata": {},
     "output_type": "execute_result"
    }
   ],
   "source": [
    "v._test__b # 2:13:12 / 5:51:30"
   ]
  },
  {
   "cell_type": "code",
   "execution_count": 79,
   "id": "891cd481",
   "metadata": {},
   "outputs": [],
   "source": [
    "class test:\n",
    "    def __init__(self,a,b,c):\n",
    "        self._a = a # protected, it can be access by child class\n",
    "        self.__b = b  # __b means private\n",
    "        self.c = c # public\n",
    "        \n",
    "class test1(test):\n",
    "    pass\n",
    "\n",
    "v = test(3,5,6)"
   ]
  },
  {
   "cell_type": "code",
   "execution_count": 80,
   "id": "48ed027a",
   "metadata": {},
   "outputs": [
    {
     "data": {
      "text/plain": [
       "3"
      ]
     },
     "execution_count": 80,
     "metadata": {},
     "output_type": "execute_result"
    }
   ],
   "source": [
    "v._a"
   ]
  },
  {
   "cell_type": "code",
   "execution_count": 81,
   "id": "57384b0f",
   "metadata": {},
   "outputs": [
    {
     "data": {
      "text/plain": [
       "5"
      ]
     },
     "execution_count": 81,
     "metadata": {},
     "output_type": "execute_result"
    }
   ],
   "source": [
    "v._test__b"
   ]
  },
  {
   "cell_type": "code",
   "execution_count": 83,
   "id": "1a5b120c",
   "metadata": {},
   "outputs": [],
   "source": [
    "u = test1(3,4,5)"
   ]
  },
  {
   "cell_type": "code",
   "execution_count": 84,
   "id": "fbbbcffa",
   "metadata": {},
   "outputs": [
    {
     "data": {
      "text/plain": [
       "5"
      ]
     },
     "execution_count": 84,
     "metadata": {},
     "output_type": "execute_result"
    }
   ],
   "source": [
    "u.c"
   ]
  },
  {
   "cell_type": "code",
   "execution_count": 86,
   "id": "ec455c5f",
   "metadata": {},
   "outputs": [
    {
     "ename": "AttributeError",
     "evalue": "'test1' object has no attribute 'a'",
     "output_type": "error",
     "traceback": [
      "\u001b[1;31m---------------------------------------------------------------------------\u001b[0m",
      "\u001b[1;31mAttributeError\u001b[0m                            Traceback (most recent call last)",
      "Input \u001b[1;32mIn [86]\u001b[0m, in \u001b[0;36m<cell line: 1>\u001b[1;34m()\u001b[0m\n\u001b[1;32m----> 1\u001b[0m \u001b[43mu\u001b[49m\u001b[38;5;241;43m.\u001b[39;49m\u001b[43ma\u001b[49m\n",
      "\u001b[1;31mAttributeError\u001b[0m: 'test1' object has no attribute 'a'"
     ]
    }
   ],
   "source": [
    "u.a"
   ]
  },
  {
   "cell_type": "code",
   "execution_count": 87,
   "id": "5fbaa7ea",
   "metadata": {},
   "outputs": [
    {
     "data": {
      "text/plain": [
       "3"
      ]
     },
     "execution_count": 87,
     "metadata": {},
     "output_type": "execute_result"
    }
   ],
   "source": [
    "u._a"
   ]
  },
  {
   "cell_type": "code",
   "execution_count": 88,
   "id": "f24fdba7",
   "metadata": {},
   "outputs": [
    {
     "ename": "AttributeError",
     "evalue": "'test1' object has no attribute '__b'",
     "output_type": "error",
     "traceback": [
      "\u001b[1;31m---------------------------------------------------------------------------\u001b[0m",
      "\u001b[1;31mAttributeError\u001b[0m                            Traceback (most recent call last)",
      "Input \u001b[1;32mIn [88]\u001b[0m, in \u001b[0;36m<cell line: 1>\u001b[1;34m()\u001b[0m\n\u001b[1;32m----> 1\u001b[0m \u001b[43mu\u001b[49m\u001b[38;5;241;43m.\u001b[39;49m\u001b[43m__b\u001b[49m\n",
      "\u001b[1;31mAttributeError\u001b[0m: 'test1' object has no attribute '__b'"
     ]
    }
   ],
   "source": [
    "u.__b"
   ]
  },
  {
   "cell_type": "code",
   "execution_count": 90,
   "id": "2431bf81",
   "metadata": {
    "scrolled": true
   },
   "outputs": [
    {
     "ename": "AttributeError",
     "evalue": "'test1' object has no attribute '_test1__b'",
     "output_type": "error",
     "traceback": [
      "\u001b[1;31m---------------------------------------------------------------------------\u001b[0m",
      "\u001b[1;31mAttributeError\u001b[0m                            Traceback (most recent call last)",
      "Input \u001b[1;32mIn [90]\u001b[0m, in \u001b[0;36m<cell line: 1>\u001b[1;34m()\u001b[0m\n\u001b[1;32m----> 1\u001b[0m \u001b[43mu\u001b[49m\u001b[38;5;241;43m.\u001b[39;49m\u001b[43m_test1__b\u001b[49m\n",
      "\u001b[1;31mAttributeError\u001b[0m: 'test1' object has no attribute '_test1__b'"
     ]
    }
   ],
   "source": [
    "u._test1__b"
   ]
  },
  {
   "cell_type": "code",
   "execution_count": 91,
   "id": "b6799a05",
   "metadata": {},
   "outputs": [
    {
     "data": {
      "text/plain": [
       "4"
      ]
     },
     "execution_count": 91,
     "metadata": {},
     "output_type": "execute_result"
    }
   ],
   "source": [
    "u._test__b"
   ]
  },
  {
   "cell_type": "code",
   "execution_count": 93,
   "id": "15dc8f0b",
   "metadata": {},
   "outputs": [],
   "source": [
    "# this concept called incapsulation - public,private and protected "
   ]
  },
  {
   "cell_type": "code",
   "execution_count": 106,
   "id": "5ddb8880",
   "metadata": {},
   "outputs": [],
   "source": [
    "class bonuscalculator:\n",
    "    def __init__(self,empid,empidrating):\n",
    "        self.empid = empid\n",
    "        self.emprating = empidrating\n",
    "        self.__bonus_for_rating_A = '70%'\n",
    "        self.__bonus_for_rating_B = '60%'\n",
    "        self.__bonus_for_rating_C = '40%'\n",
    "        \n",
    "    def bonuscalculator(self):\n",
    "        if self.emprating == 'A':\n",
    "            bonus = self.__bonus_for_rating_A\n",
    "            return bonus\n",
    "        elif self.emprating == 'B':\n",
    "            bonus = self.__bonus_for_rating_B\n",
    "            return bonus\n",
    "        else:\n",
    "            bonus = self.__bonus_for_rating_C\n",
    "            return bonus"
   ]
  },
  {
   "cell_type": "code",
   "execution_count": 107,
   "id": "9722a627",
   "metadata": {},
   "outputs": [],
   "source": [
    "emp1 = bonuscalculator(101,'A')\n",
    "emp2 = bonuscalculator(102,'B')\n",
    "emp3 = bonuscalculator(103,'C')"
   ]
  },
  {
   "cell_type": "code",
   "execution_count": 108,
   "id": "d149e2fb",
   "metadata": {},
   "outputs": [
    {
     "data": {
      "text/plain": [
       "'70%'"
      ]
     },
     "execution_count": 108,
     "metadata": {},
     "output_type": "execute_result"
    }
   ],
   "source": [
    "emp1.bonuscalculator()"
   ]
  },
  {
   "cell_type": "code",
   "execution_count": 109,
   "id": "46c63414",
   "metadata": {},
   "outputs": [
    {
     "data": {
      "text/plain": [
       "'60%'"
      ]
     },
     "execution_count": 109,
     "metadata": {},
     "output_type": "execute_result"
    }
   ],
   "source": [
    "emp2.bonuscalculator()"
   ]
  },
  {
   "cell_type": "code",
   "execution_count": 110,
   "id": "68c3f210",
   "metadata": {},
   "outputs": [
    {
     "data": {
      "text/plain": [
       "'40%'"
      ]
     },
     "execution_count": 110,
     "metadata": {},
     "output_type": "execute_result"
    }
   ],
   "source": [
    "emp3.bonuscalculator()"
   ]
  },
  {
   "cell_type": "code",
   "execution_count": 111,
   "id": "eeb8286b",
   "metadata": {},
   "outputs": [
    {
     "data": {
      "text/plain": [
       "101"
      ]
     },
     "execution_count": 111,
     "metadata": {},
     "output_type": "execute_result"
    }
   ],
   "source": [
    "emp1.empid"
   ]
  },
  {
   "cell_type": "code",
   "execution_count": 117,
   "id": "1afb2ba3",
   "metadata": {},
   "outputs": [],
   "source": [
    "emp1.emprating = 'B' # change emp1 rating to 'B'"
   ]
  },
  {
   "cell_type": "code",
   "execution_count": 113,
   "id": "2f179aaf",
   "metadata": {},
   "outputs": [
    {
     "data": {
      "text/plain": [
       "'60%'"
      ]
     },
     "execution_count": 113,
     "metadata": {},
     "output_type": "execute_result"
    }
   ],
   "source": [
    "emp1.bonuscalculator()"
   ]
  },
  {
   "cell_type": "code",
   "execution_count": 114,
   "id": "e0408ed8",
   "metadata": {},
   "outputs": [],
   "source": [
    "emp1.____bonus_for_rating_B = '90%' #able to executed"
   ]
  },
  {
   "cell_type": "code",
   "execution_count": 116,
   "id": "57c392ad",
   "metadata": {},
   "outputs": [
    {
     "data": {
      "text/plain": [
       "'60%'"
      ]
     },
     "execution_count": 116,
     "metadata": {},
     "output_type": "execute_result"
    }
   ],
   "source": [
    "emp1.bonuscalculator() # but did not reflect on the code"
   ]
  },
  {
   "cell_type": "code",
   "execution_count": 118,
   "id": "039c5a46",
   "metadata": {},
   "outputs": [
    {
     "data": {
      "text/plain": [
       "'B'"
      ]
     },
     "execution_count": 118,
     "metadata": {},
     "output_type": "execute_result"
    }
   ],
   "source": [
    "emp2.emprating"
   ]
  },
  {
   "cell_type": "code",
   "execution_count": 119,
   "id": "0c786555",
   "metadata": {},
   "outputs": [
    {
     "data": {
      "text/plain": [
       "'60%'"
      ]
     },
     "execution_count": 119,
     "metadata": {},
     "output_type": "execute_result"
    }
   ],
   "source": [
    "emp2.bonuscalculator()"
   ]
  },
  {
   "cell_type": "code",
   "execution_count": 120,
   "id": "9e0033ca",
   "metadata": {},
   "outputs": [],
   "source": [
    "emp2.____bonus_for_rating_B = '100%'"
   ]
  },
  {
   "cell_type": "code",
   "execution_count": 121,
   "id": "3131cba3",
   "metadata": {},
   "outputs": [
    {
     "data": {
      "text/plain": [
       "'60%'"
      ]
     },
     "execution_count": 121,
     "metadata": {},
     "output_type": "execute_result"
    }
   ],
   "source": [
    "emp2.bonuscalculator()"
   ]
  },
  {
   "cell_type": "code",
   "execution_count": 122,
   "id": "a41eb160",
   "metadata": {},
   "outputs": [],
   "source": [
    "emp2.empid = 202"
   ]
  },
  {
   "cell_type": "code",
   "execution_count": 123,
   "id": "03a1ee91",
   "metadata": {},
   "outputs": [
    {
     "data": {
      "text/plain": [
       "202"
      ]
     },
     "execution_count": 123,
     "metadata": {},
     "output_type": "execute_result"
    }
   ],
   "source": [
    "emp2.empid"
   ]
  },
  {
   "cell_type": "code",
   "execution_count": 124,
   "id": "e44764b8",
   "metadata": {},
   "outputs": [],
   "source": [
    "emp2.____bonus_for_rating_B = 'dklfjls'"
   ]
  },
  {
   "cell_type": "code",
   "execution_count": 128,
   "id": "a0e4aafd",
   "metadata": {},
   "outputs": [
    {
     "data": {
      "text/plain": [
       "'60%'"
      ]
     },
     "execution_count": 128,
     "metadata": {},
     "output_type": "execute_result"
    }
   ],
   "source": [
    "emp2._bonuscalculator__bonus_for_rating_B "
   ]
  },
  {
   "cell_type": "code",
   "execution_count": 129,
   "id": "25ef14ec",
   "metadata": {},
   "outputs": [],
   "source": [
    "emp2._bonuscalculator__bonus_for_rating_B = \"8457\""
   ]
  },
  {
   "cell_type": "code",
   "execution_count": 130,
   "id": "e945a4db",
   "metadata": {},
   "outputs": [
    {
     "data": {
      "text/plain": [
       "'8457'"
      ]
     },
     "execution_count": 130,
     "metadata": {},
     "output_type": "execute_result"
    }
   ],
   "source": [
    "emp2._bonuscalculator__bonus_for_rating_B"
   ]
  },
  {
   "cell_type": "code",
   "execution_count": 131,
   "id": "38b1b98c",
   "metadata": {},
   "outputs": [
    {
     "data": {
      "text/plain": [
       "'8457'"
      ]
     },
     "execution_count": 131,
     "metadata": {},
     "output_type": "execute_result"
    }
   ],
   "source": [
    "emp2.bonuscalculator()"
   ]
  },
  {
   "cell_type": "code",
   "execution_count": 135,
   "id": "6b6e66db",
   "metadata": {},
   "outputs": [],
   "source": [
    "class bonuscalculator:\n",
    "    def __init__(self,empid,empidrating):\n",
    "        self.empid = empid\n",
    "        self.emprating = empidrating\n",
    "        self._emp_mail = 'sharad@gmail.com'\n",
    "        self.__bonus_for_rating_A = '70%'\n",
    "        self.__bonus_for_rating_B = '60%'\n",
    "        self.__bonus_for_rating_C = '40%'\n",
    "        \n",
    "    def bonuscalculator(self):\n",
    "        if self.emprating == 'A':\n",
    "            bonus = self.__bonus_for_rating_A\n",
    "            return bonus\n",
    "        elif self.emprating == 'B':\n",
    "            bonus = self.__bonus_for_rating_B\n",
    "            return bonus\n",
    "        else:\n",
    "            bonus = self.__bonus_for_rating_C\n",
    "            return bonus"
   ]
  },
  {
   "cell_type": "code",
   "execution_count": 136,
   "id": "a3efb8a4",
   "metadata": {},
   "outputs": [],
   "source": [
    "emp1 = bonuscalculator(101,'A')\n",
    "emp2 = bonuscalculator(102,'B')\n",
    "emp3 = bonuscalculator(103,'C')"
   ]
  },
  {
   "cell_type": "code",
   "execution_count": 138,
   "id": "1082de5d",
   "metadata": {},
   "outputs": [
    {
     "data": {
      "text/plain": [
       "'sharad@gmail.com'"
      ]
     },
     "execution_count": 138,
     "metadata": {},
     "output_type": "execute_result"
    }
   ],
   "source": [
    "emp1._emp_mail"
   ]
  },
  {
   "cell_type": "code",
   "execution_count": 139,
   "id": "ca2a56e3",
   "metadata": {},
   "outputs": [],
   "source": [
    "emp1._emp_mail = 'sharadpardhe08@gmail.com' "
   ]
  },
  {
   "cell_type": "markdown",
   "id": "ca71a482",
   "metadata": {},
   "source": [
    "# [further reading](https://www.geeksforgeeks.org/private-methods-in-python/#:~:text=In%20Python%2C%20there%20is%20no,the%20double%20underscore%20%E2%80%9C__%E2%80%9D.)"
   ]
  }
 ],
 "metadata": {
  "kernelspec": {
   "display_name": "Python 3 (ipykernel)",
   "language": "python",
   "name": "python3"
  },
  "language_info": {
   "codemirror_mode": {
    "name": "ipython",
    "version": 3
   },
   "file_extension": ".py",
   "mimetype": "text/x-python",
   "name": "python",
   "nbconvert_exporter": "python",
   "pygments_lexer": "ipython3",
   "version": "3.9.12"
  }
 },
 "nbformat": 4,
 "nbformat_minor": 5
}
