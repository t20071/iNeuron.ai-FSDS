{
 "cells": [
  {
   "cell_type": "markdown",
   "id": "03733c15",
   "metadata": {},
   "source": [
    "# Assignment_23\n",
    "**Monday, 28 November 2022**               \n",
    "[sharadpardhe08@gmail.com](link)"
   ]
  },
  {
   "cell_type": "markdown",
   "id": "7297d47a",
   "metadata": {},
   "source": [
    "**1. What is the result of the code, and why?**\n",
    "``` JSON \n",
    "def func(a, b=6, c=8):\n",
    "    print(a, b, c)\n",
    "func(1, 2)\n",
    "```\n",
    ">**Answer-** While defining the function  ```func(a, b=6, c=8) ```, the value of ```b``` and ```c``` is already assign  ```6 ``` and  ```8 ``` respectively. if value of  ```b ``` and  ```c ``` will not be provided then it will automaticaly take  ```b = 6 ``` and c  ```c = 8 ```.                                  And while calling the function  ```fun(1,2) ``` then it wil assign  ```a = 1 ``` and value  ```b ``` will change to  ```2 ``` and value of  ```c ```  will be automatic assign to  ```8 ```. "
   ]
  },
  {
   "cell_type": "code",
   "execution_count": 1,
   "id": "ead2083e",
   "metadata": {},
   "outputs": [
    {
     "name": "stdout",
     "output_type": "stream",
     "text": [
      "1 2 8\n"
     ]
    }
   ],
   "source": [
    "def func(a, b=6, c=8):\n",
    "    print(a, b, c)\n",
    "func(1, 2)"
   ]
  },
  {
   "cell_type": "markdown",
   "id": "aaa76cf2",
   "metadata": {},
   "source": [
    "**2. What is the result of this code, and why?**\n",
    "\n",
    "``` JSON \n",
    "def func(a, b, c=5):\n",
    "    print(a, b, c)\n",
    "func(1, c=3, b=2)\n",
    "```\n",
    "> **Answer-** In this code, while calling the function ```func(1, c=3, b=2)```, ```1``` will be assign to ```a``` and ```c``` value will be changed from ```5``` to ```3``` and ```2``` will be assing to ```b```. "
   ]
  },
  {
   "cell_type": "code",
   "execution_count": 2,
   "id": "23f2e94d",
   "metadata": {},
   "outputs": [
    {
     "name": "stdout",
     "output_type": "stream",
     "text": [
      "1 2 3\n"
     ]
    }
   ],
   "source": [
    "def func(a, b, c=5):\n",
    "    print(a, b, c)\n",
    "func(1, c=3, b=2)"
   ]
  },
  {
   "cell_type": "markdown",
   "id": "fc917eaf",
   "metadata": {},
   "source": [
    "**3. How about this code: what is its result, and why?**\n",
    "    \n",
    "```JSON \n",
    "def func(a, *pargs):\n",
    "    print(a, pargs)\n",
    "func(1, 2, 3)\n",
    "```\n",
    "> **Answer-** In this code, ```*pargs``` keyword letS you pass number of argument in the function. While calling the function  ```func(1, 2, 3)```, ```1``` will be assigned to ```a``` and remaining argument will assign to ```pargs```."
   ]
  },
  {
   "cell_type": "code",
   "execution_count": 3,
   "id": "f6274576",
   "metadata": {},
   "outputs": [
    {
     "name": "stdout",
     "output_type": "stream",
     "text": [
      "1 (2, 3)\n"
     ]
    }
   ],
   "source": [
    "def func(a, *pargs):\n",
    "    print(a, pargs)\n",
    "func(1, 2, 3)"
   ]
  },
  {
   "cell_type": "code",
   "execution_count": 4,
   "id": "369477a4",
   "metadata": {},
   "outputs": [
    {
     "name": "stdout",
     "output_type": "stream",
     "text": [
      "1 (2, 3, 1, 2, 4, 54, 6, 67, 78, 89, 4, 32, 54, 67, 8, 4, 6, 78, 8)\n"
     ]
    }
   ],
   "source": [
    "func(1, 2, 3,1,2,4,54,6,67,78,89,4,32,54,67,8,4,6,78,8)"
   ]
  },
  {
   "cell_type": "markdown",
   "id": "1d898f23",
   "metadata": {},
   "source": [
    "**4. What does this code print, and why?**\n",
    "```JSON\n",
    "def func(a, **kargs):\n",
    "    print(a, kargs)\n",
    "func(a=1, c=3, b=2)\n",
    "```\n",
    "> **Answer-**  In this code, By passing ```**kwargs``` as an argument to the ```func```, it means that it accepts keyword arguments.Here ```c``` and ```b``` is key and ```3``` and ```2``` is thier respective value.In simple words, what we assign is value, and to whom we assign is key. "
   ]
  },
  {
   "cell_type": "code",
   "execution_count": 5,
   "id": "699a70c9",
   "metadata": {},
   "outputs": [
    {
     "name": "stdout",
     "output_type": "stream",
     "text": [
      "1 {'c': 3, 'b': 2}\n"
     ]
    }
   ],
   "source": [
    "def func(a, **kargs):\n",
    "    print(a, kargs)\n",
    "func(a=1, c=3, b=2)"
   ]
  },
  {
   "cell_type": "markdown",
   "id": "c026cf2f",
   "metadata": {},
   "source": [
    "**5. What gets printed by this, and explain?**\n",
    "``` JSON\n",
    "def func(a, b, c=8, d=5):\n",
    "    print(a, b, c, d)\n",
    "func(1, *(5, 6))\n",
    "```\n",
    "> **Answer-** Here, while calling the function ```func(1, *(5, 6))```, ```5``` assign to ```b``` and ```6``` assign to ```c``` and ```d``` will take default value ```5```.  And ```a==1```."
   ]
  },
  {
   "cell_type": "code",
   "execution_count": 6,
   "id": "83c7d10e",
   "metadata": {},
   "outputs": [
    {
     "name": "stdout",
     "output_type": "stream",
     "text": [
      "1 5 6 5\n"
     ]
    }
   ],
   "source": [
    "def func(a, b, c=8, d=5):\n",
    "    print(a, b, c, d)\n",
    "func(1, *(5, 6))"
   ]
  },
  {
   "cell_type": "code",
   "execution_count": 7,
   "id": "2474e3c3",
   "metadata": {},
   "outputs": [
    {
     "name": "stdout",
     "output_type": "stream",
     "text": [
      "1 5 6 9\n"
     ]
    }
   ],
   "source": [
    "func(1, *(5, 6),9)"
   ]
  },
  {
   "cell_type": "markdown",
   "id": "7c18a6fd",
   "metadata": {},
   "source": [
    "**6. what is the result of this, and explain?**\n",
    "\n",
    "``` JSON\n",
    "def func(a, b, c): \n",
    "    a = 2; b[0] = 'x'; c['a'] = 'y'\n",
    "    l=1; m=[1]; n={'a':0}\n",
    "func(l, m, n)\n",
    "l, m, n\n",
    "```\n",
    "\n",
    "STEP 1. func(a, b, c) is defined.         \n",
    "STEP 2. Value will be assigned to l,m,n.          \n",
    " >l=1; m=[1]; n={'a':0}.\n",
    " \n",
    " STEP 3. func(l, m, n) will be called.            \n",
    " STEP 4. Then  value of variable will be changed to a = 1, b = [1] and c = {'a':0}.           \n",
    " STEP 5. Againg inside the function value of variable will be changed to a = 2, b = ['x] and c = {'a':'y'}.                          \n",
    " STEP 6. Then  value of variable will be changed to l = 2, m = ['x] and n = {'a':'y'}.           "
   ]
  },
  {
   "cell_type": "code",
   "execution_count": 8,
   "id": "73304133",
   "metadata": {},
   "outputs": [
    {
     "data": {
      "text/plain": [
       "(1, ['x'], {'a': 'y'})"
      ]
     },
     "execution_count": 8,
     "metadata": {},
     "output_type": "execute_result"
    }
   ],
   "source": [
    "def func(a, b, c): \n",
    "    a = 2; b[0] = 'x'; c['a'] = 'y'\n",
    "l=1; m=[1]; n={'a':0}\n",
    "func(l, m, n)\n",
    "l, m, n"
   ]
  }
 ],
 "metadata": {
  "kernelspec": {
   "display_name": "Python 3 (ipykernel)",
   "language": "python",
   "name": "python3"
  },
  "language_info": {
   "codemirror_mode": {
    "name": "ipython",
    "version": 3
   },
   "file_extension": ".py",
   "mimetype": "text/x-python",
   "name": "python",
   "nbconvert_exporter": "python",
   "pygments_lexer": "ipython3",
   "version": "3.9.12"
  }
 },
 "nbformat": 4,
 "nbformat_minor": 5
}
