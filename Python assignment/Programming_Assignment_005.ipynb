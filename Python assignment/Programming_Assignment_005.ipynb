{
 "cells": [
  {
   "cell_type": "markdown",
   "id": "955466a4",
   "metadata": {},
   "source": [
    "# Programming_Assignment_005\n",
    "[sharadpardhe08@gmail.com](link)            \n",
    "**Sunday, 12 December 2022**"
   ]
  },
  {
   "cell_type": "markdown",
   "id": "64998371",
   "metadata": {},
   "source": [
    "**1. Write a Python Program to Find LCM?             \n",
    "Answer-**"
   ]
  },
  {
   "cell_type": "code",
   "execution_count": 1,
   "id": "fb498818",
   "metadata": {},
   "outputs": [
    {
     "name": "stdout",
     "output_type": "stream",
     "text": [
      "Enter number of elements: 3\n",
      "Enter the 0 element: 12\n",
      "Enter the 1 element: 24\n",
      "Enter the 2 element: 48\n",
      "LCM of [12, 24, 48] is equal to 48\n"
     ]
    }
   ],
   "source": [
    "# 1st solution\n",
    "# creating a list of number using input function\n",
    "n = int(input('Enter number of elements: '))\n",
    "l_ele = []\n",
    "for i in range(n):\n",
    "    ele = int(input(f'Enter the {i} element: '))\n",
    "    l_ele.append(ele)\n",
    "\n",
    "# find the LCM of the element in the list\n",
    "import math\n",
    "a = l_ele[0]\n",
    "for i in range(1, len(l_ele)):\n",
    "    lcm = math.lcm(a,l_ele[i])\n",
    "print(f'LCM of {l_ele} is equal to {lcm}')"
   ]
  },
  {
   "cell_type": "code",
   "execution_count": 2,
   "id": "09f20236",
   "metadata": {},
   "outputs": [
    {
     "data": {
      "text/plain": [
       "'LCM of two number 12 and 24 is equal to 24'"
      ]
     },
     "execution_count": 2,
     "metadata": {},
     "output_type": "execute_result"
    }
   ],
   "source": [
    "# 2nd solution = valid only for 2 numbers\n",
    "def cal_lcm(a,b):\n",
    "    \n",
    "    # check the greater number among the two number \n",
    "    if a > b:\n",
    "        greater = a\n",
    "    else:\n",
    "        greater = b\n",
    "        \n",
    "    while True:\n",
    "        if (greater%a == 0) and (greater % b == 0):\n",
    "            lcm = greater \n",
    "            break \n",
    "        greater += 1\n",
    "        \n",
    "    return (f'LCM of two number {a} and {b} is equal to {lcm}')\n",
    "\n",
    "cal_lcm(12,24)"
   ]
  },
  {
   "cell_type": "markdown",
   "id": "8794afa7",
   "metadata": {},
   "source": [
    "**2.\tWrite a Python Program to Find HCF?             \n",
    "Answer-**"
   ]
  },
  {
   "cell_type": "code",
   "execution_count": 3,
   "id": "65476abb",
   "metadata": {},
   "outputs": [
    {
     "name": "stdout",
     "output_type": "stream",
     "text": [
      "HCF of [12, 24, 48] is equal to 12\n"
     ]
    }
   ],
   "source": [
    "# 1st solutions\n",
    "a = l_ele[0]\n",
    "for i in range(1, len(l_ele)):\n",
    "    hcf = math.gcd(a,l_ele[i])\n",
    "print(f'HCF of {l_ele} is equal to {hcf}')"
   ]
  },
  {
   "cell_type": "code",
   "execution_count": 4,
   "id": "75ac5f60",
   "metadata": {},
   "outputs": [
    {
     "data": {
      "text/plain": [
       "'HCF of two number 12 and 24 is equal to 12'"
      ]
     },
     "execution_count": 4,
     "metadata": {},
     "output_type": "execute_result"
    }
   ],
   "source": [
    "# 2nd solution  - valid for two number \n",
    "def cal_hcf(a,b):\n",
    "    \n",
    "    # check the smaller number \n",
    "    if a>b:\n",
    "        smaller = b\n",
    "    else:\n",
    "        smaller = a\n",
    "    \n",
    "    for i in range(1,a+1):\n",
    "        if (a%i == 0) and (b%i == 0):\n",
    "            hcf = i\n",
    "    return (f'HCF of two number {a} and {b} is equal to {hcf}')\n",
    "\n",
    "cal_hcf(12,24)"
   ]
  },
  {
   "cell_type": "markdown",
   "id": "f1b3bad6",
   "metadata": {},
   "source": [
    "**3.\tWrite a Python Program to Convert Decimal to Binary, Octal and Hexadecimal?          \n",
    "Answer-**    \n",
    "> #### Decimal to Binary "
   ]
  },
  {
   "cell_type": "code",
   "execution_count": 5,
   "id": "ebe9f405",
   "metadata": {},
   "outputs": [
    {
     "data": {
      "text/plain": [
       "'0b100010'"
      ]
     },
     "execution_count": 5,
     "metadata": {},
     "output_type": "execute_result"
    }
   ],
   "source": [
    "# using function\n",
    "bin(34)"
   ]
  },
  {
   "cell_type": "code",
   "execution_count": 6,
   "id": "5bfd9907",
   "metadata": {},
   "outputs": [
    {
     "name": "stdout",
     "output_type": "stream",
     "text": [
      "Enter the number: 34\n",
      "The binary of dicimal number 34 is: 100010\n"
     ]
    }
   ],
   "source": [
    "# 1st solution\n",
    "num = int(input('Enter the number: '))\n",
    "temp = num\n",
    "s = ''\n",
    "while True:\n",
    "    i = temp% 2\n",
    "    temp = temp//2\n",
    "    s = s+str(i)\n",
    "    if temp == 0:\n",
    "        break\n",
    "binary = int(s[::-1])\n",
    "print(f'The binary of dicimal number {num} is: {binary}')"
   ]
  },
  {
   "cell_type": "code",
   "execution_count": 7,
   "id": "9e122f6b",
   "metadata": {},
   "outputs": [
    {
     "name": "stdout",
     "output_type": "stream",
     "text": [
      "100010"
     ]
    }
   ],
   "source": [
    "# 2nd solution\n",
    "def DecimalToBinary(num):\n",
    "     \n",
    "    if num > 1:\n",
    "        DecimalToBinary(num // 2)\n",
    "    print(num % 2, end = '')\n",
    "\n",
    "DecimalToBinary(34)"
   ]
  },
  {
   "cell_type": "markdown",
   "id": "7bbc12ff",
   "metadata": {},
   "source": [
    "> #### Decimal to octal"
   ]
  },
  {
   "cell_type": "code",
   "execution_count": 8,
   "id": "c83a6029",
   "metadata": {},
   "outputs": [
    {
     "data": {
      "text/plain": [
       "'0o236'"
      ]
     },
     "execution_count": 8,
     "metadata": {},
     "output_type": "execute_result"
    }
   ],
   "source": [
    "# using function\n",
    "oct(158)"
   ]
  },
  {
   "cell_type": "code",
   "execution_count": 9,
   "id": "7e056a01",
   "metadata": {},
   "outputs": [
    {
     "name": "stdout",
     "output_type": "stream",
     "text": [
      "Enter the number: 158\n",
      "The octal of dicimal number 158 is: 236\n"
     ]
    }
   ],
   "source": [
    "# 1st solution\n",
    "num = int(input('Enter the number: '))\n",
    "temp = num\n",
    "s = ''\n",
    "while True:\n",
    "    i = temp% 8\n",
    "    temp = temp//8\n",
    "    s = s+str(i)\n",
    "    if temp == 0:\n",
    "        break\n",
    "octal = int(s[::-1])\n",
    "print(f'The octal of dicimal number {num} is: {octal}')"
   ]
  },
  {
   "cell_type": "markdown",
   "id": "e9da1943",
   "metadata": {},
   "source": [
    "> #### Decimal to Hexadecimal"
   ]
  },
  {
   "cell_type": "code",
   "execution_count": 10,
   "id": "98abf7ae",
   "metadata": {},
   "outputs": [
    {
     "data": {
      "text/plain": [
       "'0xfe'"
      ]
     },
     "execution_count": 10,
     "metadata": {},
     "output_type": "execute_result"
    }
   ],
   "source": [
    "# using function\n",
    "hex(254)"
   ]
  },
  {
   "cell_type": "code",
   "execution_count": 11,
   "id": "7fe3db07",
   "metadata": {},
   "outputs": [
    {
     "name": "stdout",
     "output_type": "stream",
     "text": [
      "Enter the number: 254\n",
      "The Hexadecimal of dicimal number 254 is: fe\n"
     ]
    }
   ],
   "source": [
    "# 1st solution\n",
    "\n",
    "num = int(input('Enter the number: '))\n",
    "temp = num\n",
    "s = ''\n",
    "\n",
    "while True:\n",
    "    \n",
    "    i = temp% 16\n",
    "    \n",
    "    if i == 10:\n",
    "        i = 'a'\n",
    "    elif i == 11:\n",
    "        i = 'b'\n",
    "    elif i == 12:\n",
    "        i = 'c'\n",
    "    elif i == 13:\n",
    "        i = 'd'\n",
    "    elif i == 14:\n",
    "        i = 'e'\n",
    "    elif i == 15:\n",
    "        i = 'f'\n",
    "    else:\n",
    "        i = i\n",
    "        \n",
    "    temp = temp//16\n",
    "    s = s+str(i)\n",
    "    \n",
    "    if temp == 0:\n",
    "        break\n",
    "        \n",
    "hexd = s[::-1]\n",
    "print(f'The Hexadecimal of dicimal number {num} is: {hexd}')"
   ]
  },
  {
   "cell_type": "markdown",
   "id": "d29b0145",
   "metadata": {},
   "source": [
    "**4.\tWrite a Python Program To Find ASCII value of a character?         \n",
    "Answer-**\n",
    "![IMAGE](https://upload.wikimedia.org/wikipedia/commons/1/1b/ASCII-Table-wide.svg)"
   ]
  },
  {
   "cell_type": "code",
   "execution_count": 12,
   "id": "63acba16",
   "metadata": {},
   "outputs": [
    {
     "name": "stdout",
     "output_type": "stream",
     "text": [
      "Enter the character: P\n",
      "The ASCII value of character P is 80\n"
     ]
    }
   ],
   "source": [
    "char = input('Enter the character: ')\n",
    "print(f'The ASCII value of character {char} is {ord(char)}')\n",
    "# ord() take only string argument"
   ]
  },
  {
   "cell_type": "code",
   "execution_count": 13,
   "id": "971f544f",
   "metadata": {},
   "outputs": [
    {
     "name": "stdout",
     "output_type": "stream",
     "text": [
      "Enter the decimal value: 80\n",
      "The char of ASCII Value 80 is P\n"
     ]
    }
   ],
   "source": [
    "value = int(input('Enter the decimal value: '))\n",
    "print(f'The char of ASCII Value {value} is {chr(value)}')\n",
    "# char() only take only int as argument"
   ]
  },
  {
   "cell_type": "markdown",
   "id": "e7941727",
   "metadata": {},
   "source": [
    "**5.\tWrite a Python Program to Make a Simple Calculator with 4 basic mathematical operations?         \n",
    "Answer-**"
   ]
  },
  {
   "cell_type": "code",
   "execution_count": 16,
   "id": "dee6819e",
   "metadata": {},
   "outputs": [
    {
     "name": "stdout",
     "output_type": "stream",
     "text": [
      "Select the operation\n",
      "1.add\n",
      "2.substraction\n",
      "3.multiplicatioin\n",
      "4.divide\n",
      "Select the operation, enter only 1,2,3 or 4: 3\n",
      "Enter the first number: 3\n",
      "Enter the second number: 5\n",
      "3.0 X 5.0 is equal to  15.0\n",
      "whant to continue answer only in yes or no: no\n"
     ]
    }
   ],
   "source": [
    "# making simple calculatot \n",
    "\n",
    "def add(a,b):\n",
    "    return a+b\n",
    "\n",
    "def sub(a,b):\n",
    "    return a-b\n",
    "\n",
    "def mult(a,b):\n",
    "    return a*b\n",
    "\n",
    "def div(a,b):\n",
    "    return a/b\n",
    "\n",
    "print('Select the operation')\n",
    "print('1.add')\n",
    "print('2.substraction')\n",
    "print('3.multiplicatioin')\n",
    "print('4.divide')\n",
    "\n",
    "while True:\n",
    "    choose = int(input('Select the operation, enter only 1,2,3 or 4: '))\n",
    "    num1 = float(input('Enter the first number: '))\n",
    "    num2 = float(input('Enter the second number: '))\n",
    "    \n",
    "    if choose == 1:\n",
    "        print(f'{num1} + {num2} is equal to  {add(num1,num2)}')\n",
    "    elif choose == 2:\n",
    "        print(f'{num1} - {num2} is equal to  {sub(num1,num2)}')\n",
    "    elif choose == 3:\n",
    "        print(f'{num1} X {num2} is equal to  {mult(num1,num2)}')\n",
    "    elif choose == 4:\n",
    "        print(f'{num1} / {num2} is equal to  {div(num1,num2)}')\n",
    "        \n",
    "    \n",
    "    nextt = input('whant to continue answer only in yes or no: ')\n",
    "    if nextt == 'no':\n",
    "        break"
   ]
  }
 ],
 "metadata": {
  "kernelspec": {
   "display_name": "Python 3 (ipykernel)",
   "language": "python",
   "name": "python3"
  },
  "language_info": {
   "codemirror_mode": {
    "name": "ipython",
    "version": 3
   },
   "file_extension": ".py",
   "mimetype": "text/x-python",
   "name": "python",
   "nbconvert_exporter": "python",
   "pygments_lexer": "ipython3",
   "version": "3.9.12"
  }
 },
 "nbformat": 4,
 "nbformat_minor": 5
}
