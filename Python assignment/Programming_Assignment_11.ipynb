{
 "cells": [
  {
   "cell_type": "markdown",
   "id": "0ed956cc",
   "metadata": {},
   "source": [
    "# Programming Assignment_11\n",
    "**Saturday, 24 December 2022**                 \n",
    "[sharadpardhe08@gmail.com](link)"
   ]
  },
  {
   "cell_type": "markdown",
   "id": "fce3f0a3",
   "metadata": {},
   "source": [
    "**1. Write a Python program to find words which are greater than given length k?**\n",
    "\n",
    "**Answer-**"
   ]
  },
  {
   "cell_type": "code",
   "execution_count": 1,
   "id": "e2f1a1a3",
   "metadata": {},
   "outputs": [
    {
     "name": "stdout",
     "output_type": "stream",
     "text": [
      "Sharad\n",
      "lived\n",
      "India\n",
      "graduation\n"
     ]
    }
   ],
   "source": [
    "mystr = 'My name is Sharad and I lived in India and I have done my post graduation in MES'\n",
    "\n",
    "def k_word(mystr,k):\n",
    "    '''Python program to find words which are greater than given length k'''\n",
    "    str_list = mystr.split(' ')\n",
    "    for i in str_list:\n",
    "        if len(i) > k:\n",
    "            print(i)\n",
    "    \n",
    "# calling the function     \n",
    "k_word(mystr,4)"
   ]
  },
  {
   "cell_type": "markdown",
   "id": "4984cf32",
   "metadata": {},
   "source": [
    "**2. Write a Python program for removing i-th character from a string?**\n",
    "\n",
    "**Answer-**           \n",
    "[source](https://www.geeksforgeeks.org/python-program-for-removing-i-th-character-from-a-string/)"
   ]
  },
  {
   "cell_type": "code",
   "execution_count": 2,
   "id": "11f5f435",
   "metadata": {},
   "outputs": [
    {
     "name": "stdout",
     "output_type": "stream",
     "text": [
      "'m' will be removed from '5th' location\n",
      "My nae is Sharad and I lived in India and I have done my post graduation in MES\n"
     ]
    }
   ],
   "source": [
    "mystr = 'My name is Sharad and I lived in India and I have done my post graduation in MES'\n",
    "\n",
    "def remove_ith(string,i):\n",
    "    '''Python program for removing i-th character from a string'''\n",
    "    \n",
    "    for j in range(len(string)):\n",
    "        if j == i:\n",
    "            print(f\"'{string[i]}' will be removed from '{i}th' location\")\n",
    "            string = string.replace(string[i],'',1)\n",
    "    return string\n",
    "    \n",
    "print(remove_ith(mystr,5))"
   ]
  },
  {
   "cell_type": "markdown",
   "id": "04580ee9",
   "metadata": {},
   "source": [
    "**3. Write a Python program to split and join a string?**\n",
    "\n",
    "**Answer-**\n",
    "[source](https://stackoverflow.com/a/32877590)"
   ]
  },
  {
   "cell_type": "code",
   "execution_count": 3,
   "id": "0f0ff62e",
   "metadata": {},
   "outputs": [
    {
     "name": "stdout",
     "output_type": "stream",
     "text": [
      "['My', 'name', 'is', 'Sharad', 'and', 'I', 'lived', 'in', 'India', 'and', 'I', 'have', 'done', 'my', 'post', 'graduation', 'in', 'MES']\n"
     ]
    }
   ],
   "source": [
    "# split program\n",
    "mystr = 'My name is Sharad and I lived in India and I have done my post graduation in MES'\n",
    "a_list = []\n",
    "temp = ''\n",
    "for i in mystr:\n",
    "    if i == ' ':\n",
    "        a_list.append(temp)\n",
    "        temp = ''\n",
    "    else:\n",
    "        temp+= i\n",
    "        \n",
    "# below code for storing the last element in the a_list\n",
    "if temp:\n",
    "    a_list.append(temp)\n",
    "    \n",
    "print(a_list)"
   ]
  },
  {
   "cell_type": "code",
   "execution_count": 4,
   "id": "4cb50e92",
   "metadata": {},
   "outputs": [
    {
     "data": {
      "text/plain": [
       "'My name is Sharad and I lived in India and I have done my post graduation in MES'"
      ]
     },
     "execution_count": 4,
     "metadata": {},
     "output_type": "execute_result"
    }
   ],
   "source": [
    "# join programme\n",
    "str_list = ['My', 'name', 'is', 'Sharad', 'and', 'I', 'lived', 'in', 'India', 'and', 'I', 'have', 'done', 'my', 'post', 'graduation', 'in', 'MES']\n",
    "mystr = ''\n",
    "for i in str_list:\n",
    "    mystr = mystr + ' ' + i \n",
    "    \n",
    "mystr=mystr.strip()\n",
    "mystr"
   ]
  },
  {
   "cell_type": "markdown",
   "id": "a1b371b9",
   "metadata": {},
   "source": [
    "**4. Write a Python to check if a given string is binary string or not?**\n",
    "\n",
    "**Answer-**"
   ]
  },
  {
   "cell_type": "code",
   "execution_count": 5,
   "id": "bd7f48a6",
   "metadata": {},
   "outputs": [
    {
     "data": {
      "text/plain": [
       "'Yes! 101001 is a binary'"
      ]
     },
     "execution_count": 5,
     "metadata": {},
     "output_type": "execute_result"
    }
   ],
   "source": [
    "def check_bin(string):\n",
    "    '''Python programme to check if a given string is binary string or not'''\n",
    "    set_str = set(string)\n",
    "    set_bin = {'0','1'}\n",
    "    \n",
    "    if set_str == set_bin or set_str == 1 or set_str == 0:\n",
    "        result = f'Yes! {string} is a binary'\n",
    "        \n",
    "    else:\n",
    "        result = f'NO! {string} is not a binary'\n",
    "        \n",
    "    return result\n",
    "\n",
    "# calling the function\n",
    "check_bin('101001')"
   ]
  },
  {
   "cell_type": "markdown",
   "id": "b68d9082",
   "metadata": {},
   "source": [
    "**5. Write a Python program to find uncommon words from two Strings?**\n",
    "\n",
    "**Answer-**\n",
    "[source](https://teamtreehouse.com/community/getword01)"
   ]
  },
  {
   "cell_type": "code",
   "execution_count": 6,
   "id": "3cfa9077",
   "metadata": {},
   "outputs": [
    {
     "name": "stdout",
     "output_type": "stream",
     "text": [
      "['My', 'name', 'is', 'Sharad', 'lived', 'India', 'have', 'done', 'my', 'post', 'graduation', 'MES']\n"
     ]
    }
   ],
   "source": [
    "def uncommon_word(str1,str2):\n",
    "    '''Python program to find uncommon words from two Strings'''\n",
    "    \n",
    "    word_count = {} # create a dict which will store the occurance of word\n",
    "\n",
    "    for word in str1.split():\n",
    "        word_count[word] = word_count.get(word,0) + 1\n",
    "        \n",
    "    for word in str2.split():\n",
    "        word_count[word] = word_count.get(word,0) + 1\n",
    "        \n",
    "    return [w for w in word_count if word_count.get(w)== 1]\n",
    "\n",
    "string1 = 'My name is Sharad and I lived in India'\n",
    "string2 = 'and I have done my post graduation in MES'\n",
    "\n",
    "print(uncommon_word(string1,string2))"
   ]
  },
  {
   "cell_type": "code",
   "execution_count": 7,
   "id": "54e6fdcf",
   "metadata": {},
   "outputs": [
    {
     "data": {
      "text/plain": [
       "'sharad'"
      ]
     },
     "execution_count": 7,
     "metadata": {},
     "output_type": "execute_result"
    }
   ],
   "source": [
    "dict1 = {'name':'sharad','college':'oriental'}\n",
    "dict1.get('name')"
   ]
  },
  {
   "cell_type": "code",
   "execution_count": 8,
   "id": "2169e4f8",
   "metadata": {},
   "outputs": [],
   "source": [
    "dict1.get('ok')"
   ]
  },
  {
   "cell_type": "code",
   "execution_count": 9,
   "id": "618ab94d",
   "metadata": {},
   "outputs": [
    {
     "data": {
      "text/plain": [
       "0"
      ]
     },
     "execution_count": 9,
     "metadata": {},
     "output_type": "execute_result"
    }
   ],
   "source": [
    "dict1.get('ok',0)"
   ]
  },
  {
   "cell_type": "code",
   "execution_count": 10,
   "id": "438f2853",
   "metadata": {},
   "outputs": [
    {
     "data": {
      "text/plain": [
       "1"
      ]
     },
     "execution_count": 10,
     "metadata": {},
     "output_type": "execute_result"
    }
   ],
   "source": [
    "dict1.get('ok',0)+1"
   ]
  },
  {
   "cell_type": "markdown",
   "id": "4dcac724",
   "metadata": {},
   "source": [
    "**6. Write a Python to find all duplicate characters in string?**\n",
    "\n",
    "**Answer-**"
   ]
  },
  {
   "cell_type": "code",
   "execution_count": 11,
   "id": "8cef5dd8",
   "metadata": {},
   "outputs": [
    {
     "name": "stdout",
     "output_type": "stream",
     "text": [
      "Duplicate character which occurance is more than 2 in string are: \n",
      "\n",
      "and\n",
      "I\n",
      "in\n"
     ]
    }
   ],
   "source": [
    "mystr = 'My name is Sharad and I lived in India and I have done my post graduation in MES'\n",
    "\n",
    "new_dict = {}\n",
    "for i in mystr.split():\n",
    "    new_dict[i] = new_dict.get(i,0)+1\n",
    "new_list = [word for word in new_dict if new_dict[word]>=2]\n",
    "\n",
    "print('Duplicate character which occurance is more than 2 in string are: \\n')\n",
    "for i in new_list:\n",
    "    print(i)"
   ]
  },
  {
   "cell_type": "markdown",
   "id": "54b04460",
   "metadata": {},
   "source": [
    "**7. Write a Python Program to check if a string contains any special character?**\n",
    "\n",
    "**Answer-**"
   ]
  },
  {
   "cell_type": "code",
   "execution_count": 12,
   "id": "219efd42",
   "metadata": {},
   "outputs": [
    {
     "data": {
      "text/plain": [
       "'Yes! special character is in string'"
      ]
     },
     "execution_count": 12,
     "metadata": {},
     "output_type": "execute_result"
    }
   ],
   "source": [
    "mystr = 'My name is Sharad & I lived in India & I have += done my post graduation in - MES(MES)'\n",
    "special_char = '''!@#$%^&*()_-+={}[]|\\;'\":/?><,.~`'''\n",
    "for i in mystr:\n",
    "    if i in special_char:\n",
    "        res = 'Yes! special character is in string'\n",
    "    else:\n",
    "        res = 'No! special character is not in string'\n",
    "        \n",
    "res"
   ]
  }
 ],
 "metadata": {
  "kernelspec": {
   "display_name": "Python 3 (ipykernel)",
   "language": "python",
   "name": "python3"
  },
  "language_info": {
   "codemirror_mode": {
    "name": "ipython",
    "version": 3
   },
   "file_extension": ".py",
   "mimetype": "text/x-python",
   "name": "python",
   "nbconvert_exporter": "python",
   "pygments_lexer": "ipython3",
   "version": "3.9.12"
  }
 },
 "nbformat": 4,
 "nbformat_minor": 5
}
