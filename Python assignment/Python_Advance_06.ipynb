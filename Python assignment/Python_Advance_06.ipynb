{
 "cells": [
  {
   "cell_type": "markdown",
   "id": "948265cc",
   "metadata": {},
   "source": [
    "# Python_Advance_06\n",
    "**Friday, 8 December, 2023**"
   ]
  },
  {
   "cell_type": "markdown",
   "id": "b8841d27",
   "metadata": {},
   "source": [
    "##### Q1. Describe three applications for exception processing."
   ]
  },
  {
   "cell_type": "code",
   "execution_count": 3,
   "id": "e6e94efa",
   "metadata": {},
   "outputs": [
    {
     "name": "stdout",
     "output_type": "stream",
     "text": [
      "Enter a number: t\n",
      "Invalid input. Please enter a valid number: \n",
      "The specified file does not exists\n",
      "Error: Division by zero\n"
     ]
    }
   ],
   "source": [
    "# Application 1 - Input validation\n",
    "try:\n",
    "    user_input = int(input('Enter a number: '))\n",
    "except ValueError:\n",
    "    print(\"Invalid input. Please enter a valid number: \")\n",
    "    \n",
    "\n",
    "# Application 2 - File handling\n",
    "try:\n",
    "    with open('randomname.txt','r') as file:\n",
    "        content = file.read()\n",
    "except FileNotFoundError:\n",
    "    print('The specified file does not exists')\n",
    "    \n",
    "    \n",
    "# Application 3: Division by zero \n",
    "try:\n",
    "    result = 10/0\n",
    "except ZeroDivisionError:\n",
    "    print('Error: Division by zero')"
   ]
  },
  {
   "cell_type": "markdown",
   "id": "c5e2a448",
   "metadata": {},
   "source": [
    "#### Q2. What happens if you don't do something extra to treat an exception?\n",
    "> This will raise a ZeroDivisionError and halt the program"
   ]
  },
  {
   "cell_type": "code",
   "execution_count": 4,
   "id": "fc01f8a2",
   "metadata": {},
   "outputs": [
    {
     "ename": "ZeroDivisionError",
     "evalue": "division by zero",
     "output_type": "error",
     "traceback": [
      "\u001b[1;31m---------------------------------------------------------------------------\u001b[0m",
      "\u001b[1;31mZeroDivisionError\u001b[0m                         Traceback (most recent call last)",
      "Cell \u001b[1;32mIn[4], line 2\u001b[0m\n\u001b[0;32m      1\u001b[0m \u001b[38;5;66;03m# Without handling the exception\u001b[39;00m\n\u001b[1;32m----> 2\u001b[0m result \u001b[38;5;241m=\u001b[39m \u001b[38;5;241m10\u001b[39m \u001b[38;5;241m/\u001b[39m \u001b[38;5;241m0\u001b[39m  \n\u001b[0;32m      3\u001b[0m \u001b[38;5;28mprint\u001b[39m(\u001b[38;5;124m\"\u001b[39m\u001b[38;5;124mThis line will not be executed.\u001b[39m\u001b[38;5;124m\"\u001b[39m)\n",
      "\u001b[1;31mZeroDivisionError\u001b[0m: division by zero"
     ]
    }
   ],
   "source": [
    "# Without handling the exception\n",
    "result = 10 / 0  \n",
    "print(\"This line will not be executed.\")"
   ]
  },
  {
   "cell_type": "markdown",
   "id": "74fb8396",
   "metadata": {},
   "source": [
    "#### Q3. What are your options for recovering from an exception in your script?\n",
    "\n",
    ">If an exception is thrown in the script, we can recover from it by using a **try-except block**. The try block contains the code that may raise an exception, and the except block contains the code that will be executed if an exception is raised. The except block can handle the exception and allow the program to continue running. "
   ]
  },
  {
   "cell_type": "markdown",
   "id": "24ef0711",
   "metadata": {},
   "source": [
    "``` json\n",
    "try:\n",
    "    # code that may raise an exception \n",
    "except ExceptionType:\n",
    "    # code to handle the exception\n",
    "else:\n",
    "    # code to execute if no exception is raised\n",
    "finally:\n",
    "    # code to execute regardless of whether an exception is raised\n",
    "```"
   ]
  },
  {
   "cell_type": "markdown",
   "id": "b412b79c",
   "metadata": {},
   "source": [
    "#### Q4. Describe two methods for triggering exceptions in your script.\n",
    "\n",
    "``` json\n",
    "Using the raise keyword: we can manually raise an exception by using the raise keyword followed by the type of exception you want to raise. For example, we can raise a ValueError exception with the message “Invalid value” like this: raise ValueError(\"Invalid value\")\n",
    "```"
   ]
  },
  {
   "cell_type": "code",
   "execution_count": 11,
   "id": "4445dcf6",
   "metadata": {},
   "outputs": [
    {
     "name": "stdout",
     "output_type": "stream",
     "text": [
      "Caught an exception: This is a custom exception.\n"
     ]
    },
    {
     "ename": "ValueError",
     "evalue": "Number must be non-negative.",
     "output_type": "error",
     "traceback": [
      "\u001b[1;31m---------------------------------------------------------------------------\u001b[0m",
      "\u001b[1;31mValueError\u001b[0m                                Traceback (most recent call last)",
      "Cell \u001b[1;32mIn[11], line 13\u001b[0m\n\u001b[0;32m     11\u001b[0m number \u001b[38;5;241m=\u001b[39m \u001b[38;5;241m-\u001b[39m\u001b[38;5;241m1\u001b[39m\n\u001b[0;32m     12\u001b[0m \u001b[38;5;28;01mif\u001b[39;00m number \u001b[38;5;241m<\u001b[39m \u001b[38;5;241m0\u001b[39m:\n\u001b[1;32m---> 13\u001b[0m     \u001b[38;5;28;01mraise\u001b[39;00m \u001b[38;5;167;01mValueError\u001b[39;00m(\u001b[38;5;124m\"\u001b[39m\u001b[38;5;124mNumber must be non-negative.\u001b[39m\u001b[38;5;124m\"\u001b[39m)\n",
      "\u001b[1;31mValueError\u001b[0m: Number must be non-negative."
     ]
    }
   ],
   "source": [
    "# Method 1: Using the raise keyword\n",
    "def custom_exception_example():\n",
    "    raise ValueError(\"This is a custom exception.\")\n",
    "\n",
    "try:\n",
    "    custom_exception_example()\n",
    "except ValueError as e:\n",
    "    print(f\"Caught an exception: {e}\")\n",
    "\n",
    "# Method 2: Triggering an exception based on a condition\n",
    "number = -1\n",
    "if number < 0:\n",
    "    raise ValueError(\"Number must be non-negative.\")\n"
   ]
  },
  {
   "cell_type": "markdown",
   "id": "d5612257",
   "metadata": {},
   "source": [
    "**Q5. Identify two methods for specifying actions to be executed at termination time, regardless of whether or not an exception exists.**"
   ]
  },
  {
   "cell_type": "code",
   "execution_count": null,
   "id": "1d4fb981",
   "metadata": {},
   "outputs": [],
   "source": [
    "# Method 1: Using a finally block\n",
    "try:\n",
    "    file = open(\"example.txt\", \"r\")\n",
    "    content = file.read()\n",
    "except FileNotFoundError:\n",
    "    print(\"File not found.\")\n",
    "finally:\n",
    "    if 'file' in locals():\n",
    "        file.close()\n",
    "\n",
    "# Method 2: Using an atexit module for global actions\n",
    "import atexit\n",
    "\n",
    "def exit_handler():\n",
    "    print(\"Script is terminating.\")\n",
    "\n",
    "atexit.register(exit_handler)\n"
   ]
  }
 ],
 "metadata": {
  "kernelspec": {
   "display_name": "Python 3 (ipykernel)",
   "language": "python",
   "name": "python3"
  },
  "language_info": {
   "codemirror_mode": {
    "name": "ipython",
    "version": 3
   },
   "file_extension": ".py",
   "mimetype": "text/x-python",
   "name": "python",
   "nbconvert_exporter": "python",
   "pygments_lexer": "ipython3",
   "version": "3.11.5"
  }
 },
 "nbformat": 4,
 "nbformat_minor": 5
}
