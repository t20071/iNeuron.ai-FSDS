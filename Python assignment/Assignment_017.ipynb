{
 "cells": [
  {
   "cell_type": "markdown",
   "id": "80d67ff8",
   "metadata": {},
   "source": [
    "# Assignment_17        \n",
    "##### sharadpardhe08@gmail.com\n",
    "#### Sunday, 20 November 2022\n",
    "\n",
    "# -----------------------------------------------------------------------------------------------------------------"
   ]
  },
  {
   "cell_type": "markdown",
   "id": "d7f84553",
   "metadata": {},
   "source": [
    "**1. Assign the value 7 to the variable guess_me. Then, write the conditional tests (if, else, and elif) to print the string 'too low' if guess_me is less than 7, 'too high' if greater than 7, and 'just right' if equal to 7.**\n",
    "\n",
    "**Answer-**\n"
   ]
  },
  {
   "cell_type": "code",
   "execution_count": 1,
   "id": "64a4f21d",
   "metadata": {},
   "outputs": [
    {
     "name": "stdout",
     "output_type": "stream",
     "text": [
      "just right\n"
     ]
    }
   ],
   "source": [
    "guess_me = 7\n",
    "if guess_me < 7:\n",
    "    print('too slow')\n",
    "elif guess_me > 7:\n",
    "    print('too high')\n",
    "else:\n",
    "    print('just right')"
   ]
  },
  {
   "cell_type": "markdown",
   "id": "2f985727",
   "metadata": {},
   "source": [
    "**2. Assign the value 7 to the variable guess_me and the value 1 to the variable start. Write a while loop that compares start with guess_me. Print too low if start is less than guess me. If start equals guess_me, print 'found it!' and exit the loop. If start is greater than guess_me, print 'oops' and exit the loop. Increment start at the end of the loop.**\n",
    "\n",
    "**Answer-**"
   ]
  },
  {
   "cell_type": "code",
   "execution_count": 2,
   "id": "c326edac",
   "metadata": {},
   "outputs": [
    {
     "name": "stdout",
     "output_type": "stream",
     "text": [
      "too low\n",
      "too low\n",
      "too low\n",
      "too low\n",
      "too low\n",
      "too low\n",
      "found it !\n"
     ]
    }
   ],
   "source": [
    "guess_me =7\n",
    "start = 1\n",
    "\n",
    "while True:\n",
    "    if start < guess_me:\n",
    "        print('too low')\n",
    "    elif start == guess_me:\n",
    "        print('found it !')\n",
    "        break\n",
    "    else:\n",
    "        print('oops')\n",
    "        break\n",
    "    start += 1"
   ]
  },
  {
   "cell_type": "markdown",
   "id": "634d4d4b",
   "metadata": {},
   "source": [
    "**3. Print the following values of the list [3, 2, 1, 0] using a for loop.**\n",
    "\n",
    "**Answer-**"
   ]
  },
  {
   "cell_type": "code",
   "execution_count": 3,
   "id": "e1012a35",
   "metadata": {},
   "outputs": [
    {
     "name": "stdout",
     "output_type": "stream",
     "text": [
      "3\n",
      "2\n",
      "1\n",
      "0\n"
     ]
    }
   ],
   "source": [
    "l = [3, 2, 1, 0]\n",
    "for i in l:\n",
    "    print(i)"
   ]
  },
  {
   "cell_type": "markdown",
   "id": "fdd762ff",
   "metadata": {},
   "source": [
    "**4. Use a list comprehension to make a list of the even numbers in range(10)**\n",
    "\n",
    "**Answer-**"
   ]
  },
  {
   "cell_type": "code",
   "execution_count": 4,
   "id": "33ceb9a5",
   "metadata": {},
   "outputs": [
    {
     "data": {
      "text/plain": [
       "[0, 2, 4, 6, 8]"
      ]
     },
     "execution_count": 4,
     "metadata": {},
     "output_type": "execute_result"
    }
   ],
   "source": [
    "even_list = [i for i in range(10) if i%2 ==0]\n",
    "even_list"
   ]
  },
  {
   "cell_type": "markdown",
   "id": "aab81d14",
   "metadata": {},
   "source": [
    "**5. Use a dictionary comprehension to create the dictionary squares. Use range(10) to return the keys, and use the square of each key as its value.**\n",
    "\n",
    "**Answer-**"
   ]
  },
  {
   "cell_type": "code",
   "execution_count": 5,
   "id": "7f6041eb",
   "metadata": {},
   "outputs": [
    {
     "name": "stdout",
     "output_type": "stream",
     "text": [
      "{0: 0, 1: 1, 2: 4, 3: 9, 4: 16, 5: 25, 6: 36, 7: 49, 8: 64, 9: 81}\n"
     ]
    }
   ],
   "source": [
    "dict1 = {i:j**2 for i,j in enumerate(range(10))}\n",
    "print(dict1)"
   ]
  },
  {
   "cell_type": "markdown",
   "id": "54e3c5d9",
   "metadata": {},
   "source": [
    "**6. Construct the set odd from the odd numbers in the range using a set comprehension (10).**\n",
    "\n",
    "**Answer** "
   ]
  },
  {
   "cell_type": "code",
   "execution_count": 6,
   "id": "2db9d01f",
   "metadata": {},
   "outputs": [
    {
     "data": {
      "text/plain": [
       "{1, 3, 5, 7, 9}"
      ]
     },
     "execution_count": 6,
     "metadata": {},
     "output_type": "execute_result"
    }
   ],
   "source": [
    "odd_num = {i for i in range(10) if i%2 !=0}\n",
    "odd_num"
   ]
  },
  {
   "cell_type": "markdown",
   "id": "169905da",
   "metadata": {},
   "source": [
    "**7. Use a generator comprehension to return the string 'Got ' and a number for the numbers in range(10). Iterate through this by using a for loop.**\n",
    "\n",
    "**Answer-** "
   ]
  },
  {
   "cell_type": "code",
   "execution_count": 7,
   "id": "12eb02b0",
   "metadata": {},
   "outputs": [
    {
     "data": {
      "text/plain": [
       "<generator object <genexpr> at 0x00000242F1D47CF0>"
      ]
     },
     "execution_count": 7,
     "metadata": {},
     "output_type": "execute_result"
    }
   ],
   "source": [
    "string_gen = ('Got ' + str(i) for i in range(10))\n",
    "string_gen"
   ]
  },
  {
   "cell_type": "code",
   "execution_count": 8,
   "id": "5f6ea819",
   "metadata": {},
   "outputs": [
    {
     "name": "stdout",
     "output_type": "stream",
     "text": [
      "Got 0\n",
      "Got 1\n",
      "Got 2\n",
      "Got 3\n",
      "Got 4\n",
      "Got 5\n",
      "Got 6\n",
      "Got 7\n",
      "Got 8\n",
      "Got 9\n"
     ]
    }
   ],
   "source": [
    "for string in string_gen:\n",
    "    print(string)"
   ]
  },
  {
   "cell_type": "markdown",
   "id": "18320847",
   "metadata": {},
   "source": [
    "**8. Define a function called good that returns the list ['Harry', 'Ron', 'Hermione'].**\n",
    "\n",
    "**Answer-**"
   ]
  },
  {
   "cell_type": "code",
   "execution_count": 9,
   "id": "6bf535b8",
   "metadata": {},
   "outputs": [
    {
     "data": {
      "text/plain": [
       "['Harry', 'Ron', 'Hermione']"
      ]
     },
     "execution_count": 9,
     "metadata": {},
     "output_type": "execute_result"
    }
   ],
   "source": [
    "def good(lst):\n",
    "    return lst\n",
    "\n",
    "l = ['Harry', 'Ron', 'Hermione']\n",
    "\n",
    "good(l)"
   ]
  },
  {
   "cell_type": "markdown",
   "id": "6818f7c2",
   "metadata": {},
   "source": [
    "**9. Define a generator function called get_odds that returns the odd numbers from range(10). Use a for loop to find and print the third value returned.**\n",
    "\n",
    "**Answer**"
   ]
  },
  {
   "cell_type": "code",
   "execution_count": 10,
   "id": "c136e3c4",
   "metadata": {},
   "outputs": [
    {
     "data": {
      "text/plain": [
       "<generator object get_odds at 0x00000242F2D470B0>"
      ]
     },
     "execution_count": 10,
     "metadata": {},
     "output_type": "execute_result"
    }
   ],
   "source": [
    "def get_odds():\n",
    "    for i in range(10):\n",
    "        if i%2 == 1:\n",
    "            yield i \n",
    "get_odds()"
   ]
  },
  {
   "cell_type": "code",
   "execution_count": 11,
   "id": "cc7c66f9",
   "metadata": {},
   "outputs": [
    {
     "name": "stdout",
     "output_type": "stream",
     "text": [
      "The third value is 5\n"
     ]
    }
   ],
   "source": [
    "count = 1\n",
    "for i in get_odds():\n",
    "    if count == 3 :\n",
    "        print('The third value is', i)\n",
    "        break\n",
    "    count +=1"
   ]
  },
  {
   "cell_type": "markdown",
   "id": "7f11913e",
   "metadata": {},
   "source": [
    "**10. Define an exception called OopsException. Raise this exception to see what happens. Then write the code to catch this exception and print 'Caught an oops'.**\n",
    "\n",
    "**Answer**"
   ]
  },
  {
   "cell_type": "code",
   "execution_count": 12,
   "id": "47512005",
   "metadata": {},
   "outputs": [
    {
     "ename": "OopsException",
     "evalue": "-3",
     "output_type": "error",
     "traceback": [
      "\u001b[1;31m---------------------------------------------------------------------------\u001b[0m",
      "\u001b[1;31mOopsException\u001b[0m                             Traceback (most recent call last)",
      "Input \u001b[1;32mIn [12]\u001b[0m, in \u001b[0;36m<cell line: 8>\u001b[1;34m()\u001b[0m\n\u001b[0;32m      5\u001b[0m     \u001b[38;5;28;01mif\u001b[39;00m i \u001b[38;5;241m<\u001b[39m\u001b[38;5;241m0\u001b[39m:\n\u001b[0;32m      6\u001b[0m         \u001b[38;5;28;01mraise\u001b[39;00m OopsException(i)\n\u001b[1;32m----> 8\u001b[0m \u001b[43mnum\u001b[49m\u001b[43m(\u001b[49m\u001b[38;5;241;43m-\u001b[39;49m\u001b[38;5;241;43m3\u001b[39;49m\u001b[43m)\u001b[49m\n",
      "Input \u001b[1;32mIn [12]\u001b[0m, in \u001b[0;36mnum\u001b[1;34m(i)\u001b[0m\n\u001b[0;32m      4\u001b[0m \u001b[38;5;28;01mdef\u001b[39;00m \u001b[38;5;21mnum\u001b[39m(i):\n\u001b[0;32m      5\u001b[0m     \u001b[38;5;28;01mif\u001b[39;00m i \u001b[38;5;241m<\u001b[39m\u001b[38;5;241m0\u001b[39m:\n\u001b[1;32m----> 6\u001b[0m         \u001b[38;5;28;01mraise\u001b[39;00m OopsException(i)\n",
      "\u001b[1;31mOopsException\u001b[0m: -3"
     ]
    }
   ],
   "source": [
    "class OopsException(Exception):\n",
    "    pass\n",
    "\n",
    "def num(i):\n",
    "    if i <0:\n",
    "        raise OopsException(i)\n",
    "\n",
    "num(-3)    "
   ]
  },
  {
   "cell_type": "code",
   "execution_count": 13,
   "id": "3a46fb0f",
   "metadata": {},
   "outputs": [
    {
     "name": "stdout",
     "output_type": "stream",
     "text": [
      "Caught an oops\n"
     ]
    }
   ],
   "source": [
    "try:\n",
    "    num(-5)\n",
    "except OopsException as err:\n",
    "        print('Caught an oops')"
   ]
  },
  {
   "cell_type": "markdown",
   "id": "71abff96",
   "metadata": {},
   "source": [
    "**11. Use zip() to make a dictionary called movies that pairs these lists: titles = ['Creature of Habit', 'Crewel Fate'] and plots = ['A nun turns into a monster', 'A haunted yarn shop'].**\n",
    "\n",
    "**Answer-**"
   ]
  },
  {
   "cell_type": "code",
   "execution_count": 14,
   "id": "688c09b2",
   "metadata": {},
   "outputs": [
    {
     "data": {
      "text/plain": [
       "{'Creature of Habit': 'A nun turns into a monster',\n",
       " 'Crewel Fate': 'A haunted yarn shop'}"
      ]
     },
     "execution_count": 14,
     "metadata": {},
     "output_type": "execute_result"
    }
   ],
   "source": [
    "titles = ['Creature of Habit', 'Crewel Fate']\n",
    "plots = ['A nun turns into a monster', 'A haunted yarn shop']\n",
    "movies  = dict(zip(titles,plots))\n",
    "movies "
   ]
  }
 ],
 "metadata": {
  "kernelspec": {
   "display_name": "Python 3 (ipykernel)",
   "language": "python",
   "name": "python3"
  },
  "language_info": {
   "codemirror_mode": {
    "name": "ipython",
    "version": 3
   },
   "file_extension": ".py",
   "mimetype": "text/x-python",
   "name": "python",
   "nbconvert_exporter": "python",
   "pygments_lexer": "ipython3",
   "version": "3.9.12"
  }
 },
 "nbformat": 4,
 "nbformat_minor": 5
}
