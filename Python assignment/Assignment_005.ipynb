{
 "cells": [
  {
   "cell_type": "markdown",
   "id": "fcd551b5",
   "metadata": {},
   "source": [
    "# Assignment_5 \n",
    ">Date _**19 oct 2022**_\n",
    "\n",
    "**1. What does an empty dictionary's code look like?**\n",
    "\n",
    "**Answer-**\n",
    "\n",
    "\n"
   ]
  },
  {
   "cell_type": "code",
   "execution_count": 1,
   "id": "8da3ed7b",
   "metadata": {},
   "outputs": [
    {
     "name": "stdout",
     "output_type": "stream",
     "text": [
      "type of variable dictionary <class 'dict'>\n"
     ]
    }
   ],
   "source": [
    "dictionary = {}\n",
    "print('type of variable dictionary',type(dictionary))"
   ]
  },
  {
   "cell_type": "markdown",
   "id": "02b33aed",
   "metadata": {},
   "source": [
    "**2. What is the value of a dictionary value with the key 'foo' and the value 42?**\n",
    "\n",
    "**Answer-**"
   ]
  },
  {
   "cell_type": "code",
   "execution_count": 2,
   "id": "5472c434",
   "metadata": {},
   "outputs": [
    {
     "name": "stdout",
     "output_type": "stream",
     "text": [
      "{'foo': 42}\n"
     ]
    }
   ],
   "source": [
    "d = {'foo': 42}\n",
    "print(d)"
   ]
  },
  {
   "cell_type": "markdown",
   "id": "11842fe5",
   "metadata": {},
   "source": [
    "**3. What is the most significant distinction between a dictionary and a list?**\n",
    "\n",
    "**Answer-**\n",
    "\n",
    "> The item in list are stored in ordered manner whereas in dictionary, items are stored in unordered way. The major differnce is that items in dictionary accessed by \"key\" and in list, items are accessed by thier indexes position."
   ]
  },
  {
   "cell_type": "markdown",
   "id": "0d18ad19",
   "metadata": {},
   "source": [
    "**4. What happens if you try to access spam['foo'] if spam is {'bar': 100}?**\n",
    "\n",
    "**Answer-**\n",
    "> It will through KeyError."
   ]
  },
  {
   "cell_type": "code",
   "execution_count": 3,
   "id": "c40429a7",
   "metadata": {},
   "outputs": [
    {
     "ename": "KeyError",
     "evalue": "'foo'",
     "output_type": "error",
     "traceback": [
      "\u001b[1;31m---------------------------------------------------------------------------\u001b[0m",
      "\u001b[1;31mKeyError\u001b[0m                                  Traceback (most recent call last)",
      "Input \u001b[1;32mIn [3]\u001b[0m, in \u001b[0;36m<cell line: 2>\u001b[1;34m()\u001b[0m\n\u001b[0;32m      1\u001b[0m spam \u001b[38;5;241m=\u001b[39m {\u001b[38;5;124m'\u001b[39m\u001b[38;5;124mbar\u001b[39m\u001b[38;5;124m'\u001b[39m:\u001b[38;5;241m100\u001b[39m}\n\u001b[1;32m----> 2\u001b[0m \u001b[43mspam\u001b[49m\u001b[43m \u001b[49m\u001b[43m[\u001b[49m\u001b[38;5;124;43m'\u001b[39;49m\u001b[38;5;124;43mfoo\u001b[39;49m\u001b[38;5;124;43m'\u001b[39;49m\u001b[43m]\u001b[49m\n",
      "\u001b[1;31mKeyError\u001b[0m: 'foo'"
     ]
    }
   ],
   "source": [
    "spam = {'bar':100}\n",
    "spam ['foo']"
   ]
  },
  {
   "cell_type": "markdown",
   "id": "eb2667a4",
   "metadata": {},
   "source": [
    "**5. If a dictionary is stored in spam, what is the difference between the expressions 'cat' in spam and 'cat' in spam.keys()?**\n",
    "\n",
    "**Answer-**\n",
    "\n",
    "If 'cat' is \"key\" in spam variable then there will not be any differance in both result."
   ]
  },
  {
   "cell_type": "code",
   "execution_count": 4,
   "id": "0083b158",
   "metadata": {},
   "outputs": [
    {
     "name": "stdout",
     "output_type": "stream",
     "text": [
      "True\n",
      "True\n"
     ]
    }
   ],
   "source": [
    "spam = {'cat':34,'dog':345, 'pair':4}\n",
    "print('cat' in spam)\n",
    "print('cat' in spam.keys())"
   ]
  },
  {
   "cell_type": "markdown",
   "id": "8cbf7082",
   "metadata": {},
   "source": [
    "**6. If a dictionary is stored in spam, what is the difference between the expressions 'cat' in spam and 'cat' in spam.values()?**\n",
    "\n",
    "**Answer-**\n",
    "\n",
    "If 'cat' is 'key' in spam variable then expression ```'cat in spam``` will check if 'cat' in spam.key() and expression ```'cat' in spam.values()``` is checking wether there is any value contain in spam variable."
   ]
  },
  {
   "cell_type": "code",
   "execution_count": 5,
   "id": "0defa94f",
   "metadata": {},
   "outputs": [
    {
     "name": "stdout",
     "output_type": "stream",
     "text": [
      "True\n",
      "False\n"
     ]
    }
   ],
   "source": [
    "spam = {'cat':34,'dog':345, 'pair':4}\n",
    "print('cat' in spam)\n",
    "print('cat' in spam.values())"
   ]
  },
  {
   "cell_type": "markdown",
   "id": "cd3e31b8",
   "metadata": {},
   "source": [
    "**7. What is a shortcut for the following code?  \n",
    "if 'color' not in spam:  \n",
    "    \n",
    "    spam['color'] = 'black'**  \n",
    "    \n",
    "**Answer-**"
   ]
  },
  {
   "cell_type": "code",
   "execution_count": 6,
   "id": "e7c0b1ab",
   "metadata": {},
   "outputs": [
    {
     "name": "stdout",
     "output_type": "stream",
     "text": [
      "{'cat': 34, 'dog': 345, 'pair': 4, 'color': 'black'}\n"
     ]
    }
   ],
   "source": [
    "spam.setdefault('color','black')\n",
    "print(spam)"
   ]
  },
  {
   "cell_type": "markdown",
   "id": "2fd65443",
   "metadata": {},
   "source": [
    "**8. How do you \"pretty print\" dictionary values using which module and function?**\n",
    "\n",
    "**Answer-**\n",
    "\n",
    "```import pprint\n",
    "pprint.pprint()```"
   ]
  }
 ],
 "metadata": {
  "kernelspec": {
   "display_name": "Python 3 (ipykernel)",
   "language": "python",
   "name": "python3"
  },
  "language_info": {
   "codemirror_mode": {
    "name": "ipython",
    "version": 3
   },
   "file_extension": ".py",
   "mimetype": "text/x-python",
   "name": "python",
   "nbconvert_exporter": "python",
   "pygments_lexer": "ipython3",
   "version": "3.9.12"
  }
 },
 "nbformat": 4,
 "nbformat_minor": 5
}
