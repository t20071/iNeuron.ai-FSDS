{
 "cells": [
  {
   "cell_type": "markdown",
   "metadata": {},
   "source": [
    "# Python_Advance_12\n",
    "**Monday, 27 May, 2024**\n"
   ]
  },
  {
   "cell_type": "markdown",
   "metadata": {},
   "source": [
    "\n",
    "**Q1. Does assigning a value to a string's indexed character violate Python's string immutability?**\n",
    "- Yes, because strings in Python are immutable, which means you cannot change them after they are created. Assigning a value to an indexed character would try to change the string, which is not allowed.\n",
    "\n",
    "**Q2. Does using the += operator to concatenate strings violate Python's string immutability? Why or why not?**\n",
    "- No, using the += operator does not violate immutability. This is because the += operator creates a new string by combining the original strings, rather than changing the original string itself.\n",
    "\n",
    "**Q3. In Python, how many different ways are there to index a character?**\n",
    "- There are two ways to index a character in a string: using positive indices (starting from 0) and using negative indices (starting from -1).\n",
    "\n",
    "**Q4. What is the relationship between indexing and slicing?**\n",
    "- Indexing retrieves a single character from a string at a specific position. \n",
    "- Slicing retrieves a substring from a string, defined by a range of positions.\n",
    "\n",
    "**Q5. What is an indexed character's exact data type? What is the data form of a slicing-generated substring?**\n",
    "- An indexed character is of type `str` (string) in Python. A substring created by slicing is also of type `str`.\n",
    "\n",
    "**Q6. What is the relationship between string and character \"types\" in Python?**\n",
    "- In Python, both individual characters and entire strings are of the same type, `str`. A character is simply a string of length 1.\n",
    "\n",
    "**Q7. Identify at least two operators and one method that allow you to combine one or more smaller strings to create a larger string.**\n",
    "- Operators: `+` (concatenation) and `+=` (concatenation and assignment). \n",
    "- Method: `join()`.\n",
    "\n",
    "**Q8. What is the benefit of first checking the target string with `in` or `not in` before using the `index` method to find a substring?**\n",
    "- Using `in` or `not in` can help you avoid errors. If the substring is not found, the `index` method will raise a `ValueError`. Checking first ensures that the substring exists before trying to find its position.\n",
    "\n",
    "**Q9. Which operators and built-in string methods produce simple Boolean (true/false) results?**\n",
    "- Operators: `in`, `not in`.\n",
    "- Methods: `startswith()`, `endswith()`, `isalpha()`, `isdigit()`, `islower()`, `isupper()`, `isspace()`, and `istitle()`."
   ]
  }
 ],
 "metadata": {
  "kernelspec": {
   "display_name": "Python 3 (ipykernel)",
   "language": "python",
   "name": "python3"
  },
  "language_info": {
   "codemirror_mode": {
    "name": "ipython",
    "version": 3
   },
   "file_extension": ".py",
   "mimetype": "text/x-python",
   "name": "python",
   "nbconvert_exporter": "python",
   "pygments_lexer": "ipython3",
   "version": "3.11.5"
  }
 },
 "nbformat": 4,
 "nbformat_minor": 2
}
