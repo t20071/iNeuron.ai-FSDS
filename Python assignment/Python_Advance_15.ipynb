{
 "cells": [
  {
   "cell_type": "markdown",
   "metadata": {},
   "source": [
    "# Python_Advance_15\n",
    "**Friday, 31 May, 2024**"
   ]
  },
  {
   "cell_type": "markdown",
   "metadata": {},
   "source": [
    "**1. What are the new features added in Python 3.8 version?**\n",
    "\n",
    "**Answer** \n",
    "\n",
    "- **Walrus Operator (:=):** Allows assignment expressions inside an expression.\n",
    "\n",
    "```JSON \n",
    "if (n := len(my_list)) > 10:\n",
    "    print(f\"List is too long ({n} elements, expected <= 10)\")\n",
    "```\n",
    "\n",
    "- **Positional-Only Parameters:** A way to specify that some function arguments must be specified positionally.\n",
    "\n",
    "```JSON \n",
    "def f(a, b, /, c, d, *, e, f):\n",
    "    print(a, b, c, d, e, f)\n",
    "```\n",
    "\n",
    "- **f-string Enhancements:** Support for = to print expressions\n",
    "```JSON \n",
    "x = 10\n",
    "print(f\"{x=}\")  # Prints: x=10\n",
    "```\n",
    "\n",
    "- **math.prod:** Function to calculate the product of elements in an iterable\n",
    "```JSON\n",
    "import math\n",
    "result = math.prod([1, 2, 3, 4])  # result is 24\n",
    "```\n",
    "- **TypedDict:** A way to specify types for dictionary keys and values.\n",
    "```JSON\n",
    "from typing import TypedDict\n",
    "class Point2D(TypedDict):\n",
    "    x: int\n",
    "    y: int\n",
    "```\n",
    "\n",
    "- **final decorator:** To prevent method overriding\n",
    "``` json\n",
    "from typing import final\n",
    "\n",
    "class Base:\n",
    "    @final\n",
    "    def method(self):\n",
    "        pass\n",
    "```\n",
    "\n",
    "Source \n",
    "1. https://docs.python.org/3/whatsnew/3.8.html\n",
    "2. https://realpython.com/python38-new-features/"
   ]
  },
  {
   "cell_type": "markdown",
   "metadata": {},
   "source": [
    "**2. What is monkey patching in Python?**\n",
    "\n",
    "- Monkey patching is the practice of modifying or extending code at runtime. This can involve changing or adding methods to existing classes or modules."
   ]
  },
  {
   "cell_type": "code",
   "execution_count": 1,
   "metadata": {},
   "outputs": [
    {
     "name": "stdout",
     "output_type": "stream",
     "text": [
      "Patched method\n"
     ]
    }
   ],
   "source": [
    "class MyClass:\n",
    "    def original_method(self):\n",
    "        print(\"Original method\")\n",
    "\n",
    "def patched_method(self):\n",
    "    print(\"Patched method\")\n",
    "\n",
    "# Apply the patch\n",
    "MyClass.original_method = patched_method\n",
    "\n",
    "obj = MyClass()\n",
    "obj.original_method()  "
   ]
  },
  {
   "cell_type": "markdown",
   "metadata": {},
   "source": [
    "**3. What is the difference between a shallow copy and deep copy?**"
   ]
  },
  {
   "cell_type": "markdown",
   "metadata": {},
   "source": [
    "- **Shallow Copy:** Creates a new object, but inserts references into it to the objects found in the original."
   ]
  },
  {
   "cell_type": "code",
   "execution_count": 3,
   "metadata": {},
   "outputs": [
    {
     "name": "stdout",
     "output_type": "stream",
     "text": [
      "[1, ['a', 3], 4]\n"
     ]
    }
   ],
   "source": [
    "import copy\n",
    "\n",
    "original = [1, [2, 3], 4]\n",
    "shallow = copy.copy(original)\n",
    "shallow[1][0] = 'a'\n",
    "print(original) "
   ]
  },
  {
   "cell_type": "markdown",
   "metadata": {},
   "source": [
    "- **Deep Copy:** Creates a new object and recursively copies all objects found in the original."
   ]
  },
  {
   "cell_type": "code",
   "execution_count": 8,
   "metadata": {},
   "outputs": [
    {
     "name": "stdout",
     "output_type": "stream",
     "text": [
      "[1, [2, 3], 4]\n"
     ]
    },
    {
     "data": {
      "text/plain": [
       "[1, ['a', 3], 4]"
      ]
     },
     "execution_count": 8,
     "metadata": {},
     "output_type": "execute_result"
    }
   ],
   "source": [
    "import copy\n",
    "\n",
    "original = [1, [2, 3], 4]\n",
    "deep = copy.deepcopy(original)\n",
    "deep[1][0] = 'a'\n",
    "print(original) \n",
    "deep"
   ]
  },
  {
   "cell_type": "markdown",
   "metadata": {},
   "source": [
    "**4. What is the maximum possible length of an identifier?**"
   ]
  },
  {
   "cell_type": "markdown",
   "metadata": {},
   "source": [
    "Identifiers are the names we give to variables, functions, classes, and other entities in our code.In Python, an identifier is limited to a maximum length of **79** characters."
   ]
  },
  {
   "cell_type": "markdown",
   "metadata": {},
   "source": [
    "**5. What is generator comprehension?**"
   ]
  },
  {
   "cell_type": "markdown",
   "metadata": {},
   "source": [
    "Generator comprehensions are a concise way to create generators. They look similar to list comprehensions but use parentheses instead of square brackets."
   ]
  },
  {
   "cell_type": "code",
   "execution_count": 7,
   "metadata": {},
   "outputs": [
    {
     "name": "stdout",
     "output_type": "stream",
     "text": [
      "[0, 1, 4, 9, 16, 25, 36, 49, 64, 81]\n",
      "[0, 1, 4, 9, 16, 25, 36, 49, 64, 81]\n"
     ]
    }
   ],
   "source": [
    "# List comprehension\n",
    "list_comp = [x * x for x in range(10)]\n",
    "\n",
    "# Generator comprehension\n",
    "gen_comp = (x * x for x in range(10))\n",
    "\n",
    "print(list(list_comp))  \n",
    "print(list(gen_comp))   "
   ]
  }
 ],
 "metadata": {
  "kernelspec": {
   "display_name": "Python 3 (ipykernel)",
   "language": "python",
   "name": "python3"
  },
  "language_info": {
   "codemirror_mode": {
    "name": "ipython",
    "version": 3
   },
   "file_extension": ".py",
   "mimetype": "text/x-python",
   "name": "python",
   "nbconvert_exporter": "python",
   "pygments_lexer": "ipython3",
   "version": "3.11.5"
  }
 },
 "nbformat": 4,
 "nbformat_minor": 2
}
