{
 "cells": [
  {
   "cell_type": "markdown",
   "id": "e2e2732b",
   "metadata": {},
   "source": [
    "# Programming Assignment_1\n",
    "[sharadpardhe08@gmail.com](link)     \n",
    "**Thursday, 1 December 2022**"
   ]
  },
  {
   "cell_type": "markdown",
   "id": "5d803d0a",
   "metadata": {},
   "source": [
    "**1.\tWrite a Python program to print \"Hello Python\"?**\n",
    "\n",
    "**Answer-**"
   ]
  },
  {
   "cell_type": "code",
   "execution_count": 1,
   "id": "35bfe7c5",
   "metadata": {},
   "outputs": [
    {
     "name": "stdout",
     "output_type": "stream",
     "text": [
      "Hello Python\n"
     ]
    }
   ],
   "source": [
    "print('Hello Python')"
   ]
  },
  {
   "cell_type": "markdown",
   "id": "0d7a59c1",
   "metadata": {},
   "source": [
    "**2.\tWrite a Python program to do arithmetical operations addition and division.?**\n",
    "\n",
    "**Answer-**"
   ]
  },
  {
   "cell_type": "code",
   "execution_count": 2,
   "id": "0b93b4cd",
   "metadata": {},
   "outputs": [
    {
     "name": "stdout",
     "output_type": "stream",
     "text": [
      "30 \n",
      "\n",
      "2.0\n"
     ]
    }
   ],
   "source": [
    "a = 10 \n",
    "b = 20\n",
    "add = a+b\n",
    "div = b/a\n",
    "print(add,'\\n')\n",
    "print(div)"
   ]
  },
  {
   "cell_type": "markdown",
   "id": "20ede11e",
   "metadata": {},
   "source": [
    "**3.\tWrite a Python program to find the area of a triangle?**\n",
    "\n",
    "**Answer-**"
   ]
  },
  {
   "cell_type": "code",
   "execution_count": 3,
   "id": "71b86d08",
   "metadata": {},
   "outputs": [
    {
     "name": "stdout",
     "output_type": "stream",
     "text": [
      "Area of triangle is: 15.0\n"
     ]
    }
   ],
   "source": [
    "base = 10\n",
    "height = 3\n",
    "area_of_triangle = (1/2)*base*height\n",
    "print('Area of triangle is:',area_of_triangle)"
   ]
  },
  {
   "cell_type": "markdown",
   "id": "c91328f1",
   "metadata": {},
   "source": [
    "**4.\tWrite a Python program to swap two variables?**\n",
    "\n",
    "**Answer-**"
   ]
  },
  {
   "cell_type": "code",
   "execution_count": 4,
   "id": "639ef271",
   "metadata": {},
   "outputs": [
    {
     "name": "stdout",
     "output_type": "stream",
     "text": [
      "var1 after swaping: 20071 \n",
      "\n",
      "var2 after swaping: sharad\n"
     ]
    }
   ],
   "source": [
    "var1 = 'sharad'\n",
    "var2 = 20071\n",
    "var1,var2 = var2,var1\n",
    "print('var1 after swaping:',var1,'\\n')\n",
    "print('var2 after swaping:',var2)"
   ]
  },
  {
   "cell_type": "markdown",
   "id": "e6f9b41f",
   "metadata": {},
   "source": [
    "**5.\tWrite a Python program to generate a random number?**\n",
    "\n",
    "**Answer-**"
   ]
  },
  {
   "cell_type": "code",
   "execution_count": 5,
   "id": "0e6d3e48",
   "metadata": {},
   "outputs": [
    {
     "data": {
      "text/plain": [
       "0.09538958922273777"
      ]
     },
     "execution_count": 5,
     "metadata": {},
     "output_type": "execute_result"
    }
   ],
   "source": [
    "import random \n",
    "a = random.random()\n",
    "a"
   ]
  }
 ],
 "metadata": {
  "kernelspec": {
   "display_name": "Python 3 (ipykernel)",
   "language": "python",
   "name": "python3"
  },
  "language_info": {
   "codemirror_mode": {
    "name": "ipython",
    "version": 3
   },
   "file_extension": ".py",
   "mimetype": "text/x-python",
   "name": "python",
   "nbconvert_exporter": "python",
   "pygments_lexer": "ipython3",
   "version": "3.9.12"
  }
 },
 "nbformat": 4,
 "nbformat_minor": 5
}
