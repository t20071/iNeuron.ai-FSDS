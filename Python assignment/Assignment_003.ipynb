{
 "cells": [
  {
   "cell_type": "markdown",
   "id": "1bfcb039",
   "metadata": {},
   "source": [
    "# Assignment_3\n",
    "\n",
    "**1. Why are functions advantageous to have in your programs?**\n",
    "\n",
    "**Answer-**\n",
    "\n",
    "Advantages of function- Avoid rewrite the same block of code again and again.\n",
    "\n",
    "\n",
    "**2. When does the code in a function run: when it's specified or when it's called?**\n",
    "\n",
    "**Answer-** When fuction call then it runs.\n",
    "\n",
    "**Example** "
   ]
  },
  {
   "cell_type": "code",
   "execution_count": 1,
   "id": "d2a11f2f",
   "metadata": {},
   "outputs": [
    {
     "data": {
      "text/plain": [
       "3"
      ]
     },
     "execution_count": 1,
     "metadata": {},
     "output_type": "execute_result"
    }
   ],
   "source": [
    "def fcn(a,b): # here we are defining the fucntion\n",
    "    return a+b\n",
    "fcn(1,2)  # here function will be called"
   ]
  },
  {
   "cell_type": "markdown",
   "id": "456c50be",
   "metadata": {},
   "source": [
    "**3. What statement creates a function?**\n",
    "\n",
    "**Answer-** ```def``` keyword will create function.\n",
    "\n",
    "**Example** "
   ]
  },
  {
   "cell_type": "code",
   "execution_count": 2,
   "id": "e07b4313",
   "metadata": {},
   "outputs": [],
   "source": [
    "def fcn(a,b,c):\n",
    "    pass\n",
    "# def is keyword \n",
    "# fcn is the function name\n",
    "# a,b,c is the argument of the fuction."
   ]
  },
  {
   "cell_type": "markdown",
   "id": "b307ce9f",
   "metadata": {},
   "source": [
    "**4. What is the difference between a function and a function call?**\n",
    "\n",
    "**Answer-**\n",
    "\n",
    "**Function-** is a block of code in which, it takes some input and return desired output\n",
    "\n",
    "**Function call-** is a block of code which give control to the fuction.\n",
    "\n",
    "**Example** "
   ]
  },
  {
   "cell_type": "code",
   "execution_count": 3,
   "id": "3bd8f191",
   "metadata": {},
   "outputs": [
    {
     "data": {
      "text/plain": [
       "3"
      ]
     },
     "execution_count": 3,
     "metadata": {},
     "output_type": "execute_result"
    }
   ],
   "source": [
    "def fcn(a,b): # here we are defining the fucntion\n",
    "    return a+b\n",
    "fcn(1,2)  # here function will be called"
   ]
  },
  {
   "cell_type": "markdown",
   "id": "af87a2e7",
   "metadata": {},
   "source": [
    "**5. How many global scopes are there in a Python program? How many local scopes?**\n",
    "\n",
    "**Answer-** Variables that define inside the function called local scope whereas scope which defined outside of the function called global scope."
   ]
  },
  {
   "cell_type": "code",
   "execution_count": 4,
   "id": "30457a01",
   "metadata": {},
   "outputs": [
    {
     "data": {
      "text/plain": [
       "23"
      ]
     },
     "execution_count": 4,
     "metadata": {},
     "output_type": "execute_result"
    }
   ],
   "source": [
    "a = 10 # global scope\n",
    "def add(a,b):\n",
    "    b = 22   # local scope\n",
    "    return a+b\n",
    "add(1,2)"
   ]
  },
  {
   "cell_type": "markdown",
   "id": "fe060b80",
   "metadata": {},
   "source": [
    "**6. What happens to variables in a local scope when the function call returns?**\n",
    "\n",
    "**Answer-** "
   ]
  },
  {
   "cell_type": "code",
   "execution_count": 5,
   "id": "c9cd4594",
   "metadata": {},
   "outputs": [
    {
     "data": {
      "text/plain": [
       "23"
      ]
     },
     "execution_count": 5,
     "metadata": {},
     "output_type": "execute_result"
    }
   ],
   "source": [
    "a = 10 # global scope\n",
    "def add(a,b):\n",
    "    b = 22   # local scope\n",
    "    return a+b\n",
    "add(a= 1,b = 2)"
   ]
  },
  {
   "cell_type": "markdown",
   "id": "6d033459",
   "metadata": {},
   "source": [
    "In this code block, while calling the function we are defining the a = 1 and b = 2 but when function takes control then b value will be change to 22 insted 2."
   ]
  },
  {
   "cell_type": "markdown",
   "id": "287d3c86",
   "metadata": {},
   "source": [
    "**7. What is the concept of a return value? Is it possible to have a return value in an expression?**\n",
    "\n",
    "**Answer-**\n",
    "\n",
    "* ```return``` is a value. A function return the value when fuction complete its task. A return value can be any type of data mainly int,str,list. it mainly depends on function code.\n",
    "\n",
    "* If ```return``` keyword is not going use while defining the function then no error will be thrown but fuction will give None value and data type will be NoneType.\n",
    "\n",
    "eg. "
   ]
  },
  {
   "cell_type": "code",
   "execution_count": 6,
   "id": "05226678",
   "metadata": {},
   "outputs": [
    {
     "name": "stdout",
     "output_type": "stream",
     "text": [
      "None\n",
      "<class 'NoneType'>\n"
     ]
    }
   ],
   "source": [
    "def add_one(x):\n",
    "    \n",
    "    # No return statement at all\n",
    "    result = x + 1\n",
    "\n",
    "value = add_one(5)\n",
    "print(value)\n",
    "print(type(value))"
   ]
  },
  {
   "cell_type": "markdown",
   "id": "31763154",
   "metadata": {},
   "source": [
    "**8. If a function does not have a return statement, what is the return value of a call to that function?**\n",
    "\n",
    "**Answer-** It will return _None_ value\n",
    "\n",
    "\n",
    "**9. How do you make a function variable refer to the global variable?**\n",
    "\n",
    "**Answer-**  by using ```global``` keyword \n",
    "\n",
    "**Example**"
   ]
  },
  {
   "cell_type": "code",
   "execution_count": 7,
   "id": "2572be40",
   "metadata": {},
   "outputs": [
    {
     "name": "stdout",
     "output_type": "stream",
     "text": [
      "IITian\n",
      "Sharad is an IITian\n"
     ]
    }
   ],
   "source": [
    "a = \"Sharad\"   # This is global variable \n",
    "\n",
    "def myfunc():\n",
    "    global a\n",
    "    a = \"IITian\"  # This local variable but by using \"global\" keyword 'a' will be converted to global scope.\n",
    "    return a\n",
    "\n",
    "print(myfunc())\n",
    "\n",
    "print(\"Sharad is an \" + a) # change a value from 'sharad' to 'IITian'"
   ]
  },
  {
   "cell_type": "markdown",
   "id": "fed36f25",
   "metadata": {},
   "source": [
    "**10. What is the data type of None?**\n",
    "\n",
    "**Answer-** NoneType"
   ]
  },
  {
   "cell_type": "code",
   "execution_count": 8,
   "id": "5d3280f0",
   "metadata": {},
   "outputs": [
    {
     "data": {
      "text/plain": [
       "NoneType"
      ]
     },
     "execution_count": 8,
     "metadata": {},
     "output_type": "execute_result"
    }
   ],
   "source": [
    "type(None)"
   ]
  },
  {
   "cell_type": "markdown",
   "id": "db413126",
   "metadata": {},
   "source": [
    "**11. What does the sentence import are all your  pets named Eric do?**\n",
    "\n",
    "**Answer-** Not able to understand the question.\n",
    "\n",
    "But I tried\n"
   ]
  },
  {
   "cell_type": "code",
   "execution_count": 9,
   "id": "ecd251e9",
   "metadata": {},
   "outputs": [
    {
     "name": "stdout",
     "output_type": "stream",
     "text": [
      "Name of your pet? Eric\n"
     ]
    }
   ],
   "source": [
    "Name = input(\"Name of your pet? \")"
   ]
  },
  {
   "cell_type": "markdown",
   "id": "ebc899ef",
   "metadata": {},
   "source": [
    "**12. If you had a bacon () feature in a spam module, what would you call it after importing spam?**\n",
    "\n",
    "**Answer-**  ```from spam import bacon```\n",
    "\n",
    "**13. What can you do to save a programme from crashing if it encounters an error?**  \n",
    "**Answer-** can use ```try``` and ```except``` block\n",
    "\n",
    "**14. What is the purpose of the try clause? What is the purpose of the except clause?**  \n",
    "**Answer-**  \n",
    "**try** block lets you test the block of code.  \n",
    "**except** block handle the error."
   ]
  }
 ],
 "metadata": {
  "kernelspec": {
   "display_name": "Python 3 (ipykernel)",
   "language": "python",
   "name": "python3"
  },
  "language_info": {
   "codemirror_mode": {
    "name": "ipython",
    "version": 3
   },
   "file_extension": ".py",
   "mimetype": "text/x-python",
   "name": "python",
   "nbconvert_exporter": "python",
   "pygments_lexer": "ipython3",
   "version": "3.9.12"
  }
 },
 "nbformat": 4,
 "nbformat_minor": 5
}
