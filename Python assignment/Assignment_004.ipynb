{
 "cells": [
  {
   "cell_type": "markdown",
   "id": "7b589cb4",
   "metadata": {},
   "source": [
    "# Assignment_4  \n",
    "**Que 1. What exactly is []?**\n",
    "\n",
    "**Answer-** This is empty list, which does not contain any value or item.\n",
    "\n",
    "**Que 2. In a list of values stored in a variable called spam, how would you assign the value 'hello' as the third value? (Assume [2, 4, 6, 8, 10] are in spam.)**    \n",
    "**Answer-** "
   ]
  },
  {
   "cell_type": "code",
   "execution_count": 1,
   "id": "7993c103",
   "metadata": {},
   "outputs": [
    {
     "name": "stdout",
     "output_type": "stream",
     "text": [
      "[2, 4, 6, 'hello', 8, 10]\n"
     ]
    }
   ],
   "source": [
    "spam = [2, 4, 6, 8, 10]\n",
    "spam.insert(3,'hello') # storing \"hello\" at index 3\n",
    "print(spam) # print statement"
   ]
  },
  {
   "cell_type": "markdown",
   "id": "0784188f",
   "metadata": {},
   "source": [
    "### Note -  Let's pretend the spam includes the list ['a', 'b', 'c', 'd'] for the next three queries.  "
   ]
  },
  {
   "cell_type": "code",
   "execution_count": 2,
   "id": "37461979",
   "metadata": {},
   "outputs": [],
   "source": [
    "spam = ['a', 'b', 'c', 'd'] # defining the spam"
   ]
  },
  {
   "cell_type": "markdown",
   "id": "75ad3cf3",
   "metadata": {},
   "source": [
    "**Que 3. What is the value of spam[int(int('3' * 2) / 11)]?**  \n",
    "\n",
    "**Answer-**  "
   ]
  },
  {
   "cell_type": "code",
   "execution_count": 3,
   "id": "4a27cf5d",
   "metadata": {},
   "outputs": [
    {
     "data": {
      "text/plain": [
       "'d'"
      ]
     },
     "execution_count": 3,
     "metadata": {},
     "output_type": "execute_result"
    }
   ],
   "source": [
    "spam[int(int('3'*2)/11)]"
   ]
  },
  {
   "cell_type": "markdown",
   "id": "e1358ec8",
   "metadata": {},
   "source": [
    "**Que 4. What is the value of spam[-1]?**\n",
    "\n",
    "**Answer-** 'd'"
   ]
  },
  {
   "cell_type": "code",
   "execution_count": 4,
   "id": "95c0c0f4",
   "metadata": {},
   "outputs": [
    {
     "data": {
      "text/plain": [
       "'d'"
      ]
     },
     "execution_count": 4,
     "metadata": {},
     "output_type": "execute_result"
    }
   ],
   "source": [
    "spam[-1]"
   ]
  },
  {
   "cell_type": "markdown",
   "id": "6578d395",
   "metadata": {},
   "source": [
    "**5. What is the value of spam[:2]?**\n",
    "\n",
    "**Answer-** ['a', 'b']\n",
    "\n"
   ]
  },
  {
   "cell_type": "code",
   "execution_count": 5,
   "id": "cf745fb2",
   "metadata": {},
   "outputs": [
    {
     "data": {
      "text/plain": [
       "['a', 'b']"
      ]
     },
     "execution_count": 5,
     "metadata": {},
     "output_type": "execute_result"
    }
   ],
   "source": [
    "spam[:2]"
   ]
  },
  {
   "cell_type": "markdown",
   "id": "71d817d6",
   "metadata": {},
   "source": [
    "### Note - Let's pretend bacon has the list [3.14, 'cat,' 11, 'cat,' True] for the next three questions."
   ]
  },
  {
   "cell_type": "code",
   "execution_count": 6,
   "id": "26c8525d",
   "metadata": {},
   "outputs": [],
   "source": [
    "bacon = [3.14, 'cat', 11, 'cat', True]  # defining the variable bacon"
   ]
  },
  {
   "cell_type": "markdown",
   "id": "365f4e05",
   "metadata": {},
   "source": [
    "**6. What is the value of bacon.index('cat')?**\n",
    "\n",
    "**Answer-** 1"
   ]
  },
  {
   "cell_type": "code",
   "execution_count": 7,
   "id": "f2361438",
   "metadata": {},
   "outputs": [
    {
     "data": {
      "text/plain": [
       "1"
      ]
     },
     "execution_count": 7,
     "metadata": {},
     "output_type": "execute_result"
    }
   ],
   "source": [
    "bacon.index('cat')"
   ]
  },
  {
   "cell_type": "markdown",
   "id": "b2fa6063",
   "metadata": {},
   "source": [
    "**7. How does bacon.append(99) change the look of the list value in bacon?**\n",
    "\n",
    "**Answer-**"
   ]
  },
  {
   "cell_type": "code",
   "execution_count": 8,
   "id": "69eba397",
   "metadata": {},
   "outputs": [
    {
     "data": {
      "text/plain": [
       "[3.14, 'cat', 11, 'cat', True, 99]"
      ]
     },
     "execution_count": 8,
     "metadata": {},
     "output_type": "execute_result"
    }
   ],
   "source": [
    "bacon.append(99)\n",
    "bacon"
   ]
  },
  {
   "cell_type": "markdown",
   "id": "7a7c80f4",
   "metadata": {},
   "source": [
    "**8. How does bacon.remove('cat') change the look of the list in bacon?**"
   ]
  },
  {
   "cell_type": "code",
   "execution_count": 9,
   "id": "356969bc",
   "metadata": {},
   "outputs": [
    {
     "data": {
      "text/plain": [
       "[3.14, 11, 'cat', True, 99]"
      ]
     },
     "execution_count": 9,
     "metadata": {},
     "output_type": "execute_result"
    }
   ],
   "source": [
    "bacon.remove('cat')\n",
    "bacon"
   ]
  },
  {
   "cell_type": "markdown",
   "id": "5349caa1",
   "metadata": {},
   "source": [
    "**9. What are the list concatenation and list replication operators?**\n",
    "\n",
    "**Answer-**"
   ]
  },
  {
   "cell_type": "code",
   "execution_count": 10,
   "id": "df817570",
   "metadata": {},
   "outputs": [
    {
     "name": "stdout",
     "output_type": "stream",
     "text": [
      "[1, 2, 3, 4, 5, 6, 7, 8]\n",
      "[1, 2, 3, 4, 1, 2, 3, 4, 1, 2, 3, 4, 1, 2, 3, 4]\n"
     ]
    }
   ],
   "source": [
    "# List concatenation and replication\n",
    "a = [1,2,3,4]\n",
    "b = [5,6,7,8]\n",
    "c = a +b # list concatenation\n",
    "print(c)\n",
    "d = a*4 # list replication\n",
    "print(d)"
   ]
  },
  {
   "cell_type": "markdown",
   "id": "cd0f416f",
   "metadata": {},
   "source": [
    "**10. What is difference between the list methods append() and insert()?**\n",
    "\n",
    "**Answer-**\n",
    ">In ```append()``` method, item will be added at the last index but in  ```insert()``` method, item can be added at specific index of list."
   ]
  },
  {
   "cell_type": "code",
   "execution_count": 11,
   "id": "85cc0d05",
   "metadata": {},
   "outputs": [
    {
     "name": "stdout",
     "output_type": "stream",
     "text": [
      "append method result ['Sharad', 'ok', 2022, 43]\n",
      "insert method result ['Sharad', 'yes', 'ok', 2022, 43]\n"
     ]
    }
   ],
   "source": [
    "lst = ['Sharad','ok',2022]\n",
    "lst.append(43)\n",
    "print(\"append method result\",lst) # here 43 will be added at the last index \n",
    "lst.insert(1,\"yes\")\n",
    "print(\"insert method result\",lst)  # 'yes' will be added at index 1. as we specified"
   ]
  },
  {
   "cell_type": "markdown",
   "id": "4fa3be1b",
   "metadata": {},
   "source": [
    "**11. What are the two methods for removing items from a list?**\n",
    "\n",
    "**Answer-** ```pop()``` and ```remove()``` are two method through which items can be removed from the list.\n",
    "\n",
    "```pop()``` will remove index value means ```pop(3)``` will remove the value at index 3 whereas ```remove()``` will remove the 1st matching item means ```remove('a')``` will remove **a** from the list item."
   ]
  },
  {
   "cell_type": "code",
   "execution_count": 12,
   "id": "40ad042f",
   "metadata": {},
   "outputs": [
    {
     "name": "stdout",
     "output_type": "stream",
     "text": [
      "pop method result ['a', 'b', 'c', 3, 'a']\n",
      "remove method result ['b', 'c', 3, 'a']\n"
     ]
    }
   ],
   "source": [
    "lst = ['a' ,'b', 'c', 'd',3,'a']\n",
    "lst.pop(3)\n",
    "print('pop method result',lst) # it will remove d from the list, which is at index 3\n",
    "lst.remove('a')\n",
    "print('remove method result',lst) # it will remove the 1st matching item 'a' from the list  "
   ]
  },
  {
   "cell_type": "markdown",
   "id": "3075bd92",
   "metadata": {},
   "source": [
    "**12. Describe how list values and string values are identical.**\n",
    "\n",
    "**Answer-**\n",
    "\n",
    "1. Both are iterable.\n",
    "1. Both can be 'concatenat' and 'replicate' by '+' and '*' opetator simultaneously.\n",
    "1. Both are mutable."
   ]
  },
  {
   "cell_type": "markdown",
   "id": "97d84551",
   "metadata": {},
   "source": [
    "**13. What's the difference between tuples and lists?**\n",
    "\n",
    "**Answer-**\n",
    "1. tuple are immutable whereas lists are mutable.\n",
    "1. tuple is faster than the list because of static in nature and list are dynamic in nature.\n",
    "1. tuple are denoted by () whereas list are doneted by [].\n",
    "1. list consumes more memory as compare to tuple.\n",
    "[link](https://www.geeksforgeeks.org/python-difference-between-list-and-tuple/#:~:text=The%20list%20is%20dynamic%2C%20whereas,tuples%20are%20denoted%20as%20parenthesis.)"
   ]
  },
  {
   "cell_type": "markdown",
   "id": "9f29edd8",
   "metadata": {},
   "source": [
    "**14. How do you type a tuple value that only contains the integer 42?**\n",
    "\n",
    "**Answer-**"
   ]
  },
  {
   "cell_type": "code",
   "execution_count": 13,
   "id": "f24fd2c9",
   "metadata": {},
   "outputs": [
    {
     "data": {
      "text/plain": [
       "tuple"
      ]
     },
     "execution_count": 13,
     "metadata": {},
     "output_type": "execute_result"
    }
   ],
   "source": [
    "a = (42,)\n",
    "type(a)"
   ]
  },
  {
   "cell_type": "markdown",
   "id": "780fbc9f",
   "metadata": {},
   "source": [
    "**15. How do you get a list value's tuple form? How do you get a tuple value's list form?**\n",
    "\n",
    "**Answer-**"
   ]
  },
  {
   "cell_type": "code",
   "execution_count": 14,
   "id": "e3395c08",
   "metadata": {},
   "outputs": [
    {
     "name": "stdout",
     "output_type": "stream",
     "text": [
      "[1, 3, 'sharad'] <class 'list'>\n",
      "('yes', 2022, 'october') <class 'tuple'>\n"
     ]
    }
   ],
   "source": [
    "tpl = (1,3,'sharad')\n",
    "lst = ['yes', 2022, 'october']\n",
    "print(list(tpl),type(list(tpl)))  # list() function will convert tuple into list\n",
    "print(tuple(lst),type(tuple(lst))) # tuple() function will convert list int tuple"
   ]
  },
  {
   "cell_type": "markdown",
   "id": "bbe200ce",
   "metadata": {},
   "source": [
    "**16. Variables that \"contain\" list values are not necessarily lists themselves. Instead, what do they contain?**\n",
    "\n",
    "**Answer-** Reference [link](https://www.google.com/url?sa=t&rct=j&q=&esrc=s&source=web&cd=&cad=rja&uact=8&ved=2ahUKEwjW6d_8zen6AhUzS2wGHWj6B8kQFnoECA4QAw&url=https%3A%2F%2Fautomatetheboringstuff.com%2Fchapter4%2F%23%3A~%3Atext%3DVariables%2520will%2520contain%2520references%2520to%2Cthe%2520string%2520or%2520integer%2520value.&usg=AOvVaw1RIqCmK13WWA4f5TS1JB1L)"
   ]
  },
  {
   "cell_type": "markdown",
   "id": "7ccdb0fd",
   "metadata": {},
   "source": [
    "**17. How do you distinguish between copy.copy() and copy.deepcopy()?**\n",
    "\n",
    "**Answer-**\n",
    "\n",
    "In the case of copy.copy(), a reference of an object is copied into another object. It means that any changes made to a copy of an object do reflect in the original object. In python, this is implemented using the “copy()” function. \n",
    "\n",
    "In the case of copy.deepcopy(), a copy of the object is copied into another object. It means that any changes made to a copy of the object do not reflect in the original object. "
   ]
  }
 ],
 "metadata": {
  "kernelspec": {
   "display_name": "Python 3 (ipykernel)",
   "language": "python",
   "name": "python3"
  },
  "language_info": {
   "codemirror_mode": {
    "name": "ipython",
    "version": 3
   },
   "file_extension": ".py",
   "mimetype": "text/x-python",
   "name": "python",
   "nbconvert_exporter": "python",
   "pygments_lexer": "ipython3",
   "version": "3.9.12"
  }
 },
 "nbformat": 4,
 "nbformat_minor": 5
}
