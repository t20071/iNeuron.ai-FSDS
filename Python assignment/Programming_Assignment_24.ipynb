{
 "cells": [
  {
   "cell_type": "markdown",
   "id": "24003572",
   "metadata": {},
   "source": [
    "# Programming_Assignment_24\n",
    "**Friday, 31 March 2023**"
   ]
  },
  {
   "cell_type": "markdown",
   "id": "a74a86db",
   "metadata": {},
   "source": [
    "**Question 1             \n",
    "Create a function that takes an integer and returns a list from 1 to the given number, where:**\n",
    "1.\tIf the number can be divided evenly by 4, amplify it by 10 (i.e. return 10 times the number).                \n",
    "2.\tIf the number cannot be divided evenly by 4, simply return the number.                \n",
    "\n",
    "**Examples**                               \n",
    "amplify(4) ➞ [1, 2, 3, 40]               \n",
    "amplify(3) ➞ [1, 2, 3]                  \n",
    "amplify(25) ➞ [1, 2, 3, 40, 5, 6, 7, 80, 9, 10, 11, 120, 13, 14, 15, 160, 17, 18, 19, 200, 21, 22, 23, 240, 25]\n",
    "\n",
    "**Notes**                    \n",
    "•\tThe given integer will always be equal to or greater than 1.            \n",
    "•\tInclude the number (see example above).                   \n",
    "•\tTo perform this problem with its intended purpose, try doing it with list comprehensions. If that's too difficult, just solve the challenge any way you can.\n",
    "\n"
   ]
  },
  {
   "cell_type": "code",
   "execution_count": 4,
   "id": "b7246c0c",
   "metadata": {},
   "outputs": [
    {
     "name": "stdout",
     "output_type": "stream",
     "text": [
      "[1, 2, 3, 40, 5, 6, 7, 80, 9, 10, 11, 120, 13, 14, 15, 160, 17, 18, 19, 200, 21, 22, 23, 240, 25]\n"
     ]
    }
   ],
   "source": [
    "# define the function \n",
    "def amplify(num):\n",
    "    return [i*10 if i%4 == 0 else i for i in range(1,num+1)]\n",
    "\n",
    "print(amplify(25))"
   ]
  },
  {
   "cell_type": "markdown",
   "id": "7bc9643b",
   "metadata": {},
   "source": [
    "**Question 2              \n",
    "Create a function that takes a list of numbers and return the number that's unique.**\n",
    "\n",
    "**Examples**         \n",
    "unique([3, 3, 3, 7, 3, 3]) ➞ 7        \n",
    "unique([0, 0, 0.77, 0, 0]) ➞ 0.77           \n",
    "unique([0, 1, 1, 1, 1, 1, 1, 1]) ➞ 0      \n",
    "\n",
    "**Notes**           \n",
    "Test cases will always have exactly one unique number while all others are the same."
   ]
  },
  {
   "cell_type": "code",
   "execution_count": 6,
   "id": "94951e01",
   "metadata": {},
   "outputs": [
    {
     "data": {
      "text/plain": [
       "0"
      ]
     },
     "execution_count": 6,
     "metadata": {},
     "output_type": "execute_result"
    }
   ],
   "source": [
    "# define the function\n",
    "def unique(lst):\n",
    "    # Create a dictionary to store the frequency of each number\n",
    "    freq = {}\n",
    "    for num in lst:\n",
    "        freq[num] = freq.get(num, 0) + 1\n",
    "    \n",
    "    # Find the number with a frequency of 1\n",
    "    for key, value in freq.items():\n",
    "        if value == 1:\n",
    "            return key\n",
    "        \n",
    "# call function\n",
    "unique([0, 1, 1, 1, 1, 1, 1, 1])"
   ]
  },
  {
   "cell_type": "markdown",
   "id": "a607f11d",
   "metadata": {},
   "source": [
    "**Question 3**\n",
    "\n",
    "**Your task is to create a Circle constructor that creates a circle with a radius provided by an argument. The circles constructed must have two getters getArea() (PIr^2) and getPerimeter() (2PI*r) which give both respective areas and perimeter (circumference).For help with this class, I have provided you with a Rectangle constructor which you can use as a base example.**\n",
    "\n",
    "**Examples**            \n",
    "circy = Circle(11)         \n",
    "circy.getArea()               \n",
    "**Should return 380.132711084365**           \n",
    "\n",
    "circy = Circle(4.44)                \n",
    "circy.getPerimeter()             \n",
    "**Should return 27.897342763877365**             \n",
    "\n",
    "**Notes**                                \n",
    "Round results up to the nearest integer."
   ]
  },
  {
   "cell_type": "code",
   "execution_count": 11,
   "id": "0ffa065c",
   "metadata": {},
   "outputs": [],
   "source": [
    "#define the class\n",
    "class Circle:\n",
    "    \n",
    "    def __init__(self,radius):\n",
    "        self.radius = radius\n",
    "        \n",
    "    def getArea(self):\n",
    "        return ((22/7)*(self.radius**2))\n",
    "    \n",
    "    def getPerimeter(self):\n",
    "        return (2*(22/7)*(self.radius))"
   ]
  },
  {
   "cell_type": "code",
   "execution_count": 12,
   "id": "47a195ab",
   "metadata": {},
   "outputs": [
    {
     "data": {
      "text/plain": [
       "380.2857142857143"
      ]
     },
     "execution_count": 12,
     "metadata": {},
     "output_type": "execute_result"
    }
   ],
   "source": [
    "circy = Circle(11) # create a object called circy \n",
    "circy.getArea()"
   ]
  },
  {
   "cell_type": "code",
   "execution_count": 13,
   "id": "5f7791c1",
   "metadata": {},
   "outputs": [
    {
     "data": {
      "text/plain": [
       "27.90857142857143"
      ]
     },
     "execution_count": 13,
     "metadata": {},
     "output_type": "execute_result"
    }
   ],
   "source": [
    "circy = Circle(4.44)\n",
    "circy.getPerimeter()"
   ]
  },
  {
   "cell_type": "markdown",
   "id": "8f7d75c8",
   "metadata": {},
   "source": [
    "**Question 4                \n",
    "Create a function that takes a list of strings and return a list, sorted from shortest to longest.**\n",
    "\n",
    "**Examples**            \n",
    "sort_by_length([\"Google\", \"Apple\", \"Microsoft\"])➞ [\"Apple\", \"Google\", \"Microsoft\"]          \n",
    "sort_by_length([\"Leonardo\", \"Michelangelo\", \"Raphael\", \"Donatello\"])➞ [\"Raphael\", \"Leonardo\", \"Donatello\", \"Michelangelo\"]     \n",
    "sort_by_length([\"Turing\", \"Einstein\", \"Jung\"])➞ [\"Jung\", \"Turing\", \"Einstein\"]\n",
    "\n",
    "**Notes**            \n",
    "All test cases contain lists with strings of different lengths, so you won't have to deal with multiple strings of the same length.\n"
   ]
  },
  {
   "cell_type": "code",
   "execution_count": 16,
   "id": "70bb7fdc",
   "metadata": {},
   "outputs": [],
   "source": [
    "# define the function \n",
    "def sort_by_length(lst):\n",
    "    lst_2 = sorted(lst,key=len)\n",
    "    return lst_2"
   ]
  },
  {
   "cell_type": "code",
   "execution_count": 18,
   "id": "0f172886",
   "metadata": {},
   "outputs": [
    {
     "data": {
      "text/plain": [
       "['Raphael', 'Leonardo', 'Donatello', 'Michelangelo']"
      ]
     },
     "execution_count": 18,
     "metadata": {},
     "output_type": "execute_result"
    }
   ],
   "source": [
    "# check the function\n",
    "sort_by_length([\"Leonardo\", \"Michelangelo\", \"Raphael\", \"Donatello\"])"
   ]
  },
  {
   "cell_type": "markdown",
   "id": "10a66013",
   "metadata": {},
   "source": [
    "**Question 5      \n",
    "Create a function that validates whether three given integers form a Pythagorean triplet. The sum of the squares of the two smallest integers must equal the square of the largest number to be validated.**\n",
    "\n",
    "\n",
    "**Examples**              \n",
    "is_triplet(3, 4, 5) ➞ True           \n",
    "3² + 4² = 25        \n",
    "5² = 25          \n",
    "\n",
    "is_triplet(13, 5, 12) ➞ True         \n",
    "5² + 12² = 169        \n",
    "13² = 169         \n",
    "\n",
    "is_triplet(1, 2, 3) ➞ False       \n",
    "1² + 2² = 5        \n",
    "3² = 9        \n",
    "\n",
    "**Notes**            \n",
    "Numbers may not be given in a sorted order.\n"
   ]
  },
  {
   "cell_type": "code",
   "execution_count": 24,
   "id": "ec2d776c",
   "metadata": {},
   "outputs": [],
   "source": [
    "# define the funcitn \n",
    "def is_triplet(a, b, c):\n",
    "    nums = [a, b, c]\n",
    "    nums.sort()\n",
    "    return nums[0]**2 + nums[1]**2 == nums[2]**2"
   ]
  },
  {
   "cell_type": "code",
   "execution_count": 25,
   "id": "324a106b",
   "metadata": {},
   "outputs": [
    {
     "data": {
      "text/plain": [
       "True"
      ]
     },
     "execution_count": 25,
     "metadata": {},
     "output_type": "execute_result"
    }
   ],
   "source": [
    "is_triplet(3, 4, 5)"
   ]
  },
  {
   "cell_type": "code",
   "execution_count": 26,
   "id": "3560095c",
   "metadata": {},
   "outputs": [
    {
     "data": {
      "text/plain": [
       "False"
      ]
     },
     "execution_count": 26,
     "metadata": {},
     "output_type": "execute_result"
    }
   ],
   "source": [
    "is_triplet(1, 2, 3)"
   ]
  },
  {
   "cell_type": "code",
   "execution_count": 27,
   "id": "66c71f6c",
   "metadata": {},
   "outputs": [
    {
     "data": {
      "text/plain": [
       "True"
      ]
     },
     "execution_count": 27,
     "metadata": {},
     "output_type": "execute_result"
    }
   ],
   "source": [
    "is_triplet(13, 5, 12)"
   ]
  }
 ],
 "metadata": {
  "kernelspec": {
   "display_name": "Python 3 (ipykernel)",
   "language": "python",
   "name": "python3"
  },
  "language_info": {
   "codemirror_mode": {
    "name": "ipython",
    "version": 3
   },
   "file_extension": ".py",
   "mimetype": "text/x-python",
   "name": "python",
   "nbconvert_exporter": "python",
   "pygments_lexer": "ipython3",
   "version": "3.9.12"
  }
 },
 "nbformat": 4,
 "nbformat_minor": 5
}
