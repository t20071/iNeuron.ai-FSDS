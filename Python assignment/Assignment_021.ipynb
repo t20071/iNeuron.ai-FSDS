{
 "cells": [
  {
   "cell_type": "markdown",
   "id": "e2558d3d",
   "metadata": {},
   "source": [
    "# Assignment_21\n",
    "**Saturday, 26 November 2022**    \n",
    "[sharadpardhe08@gmail.com](link)"
   ]
  },
  {
   "cell_type": "markdown",
   "id": "98e01976",
   "metadata": {},
   "source": [
    "> **1. Add the current date to the text file today.txt as a string.**               \n",
    ">**Answer-**"
   ]
  },
  {
   "cell_type": "code",
   "execution_count": 1,
   "id": "6a1b6df6",
   "metadata": {},
   "outputs": [
    {
     "name": "stdout",
     "output_type": "stream",
     "text": [
      "Saturday, 26 November 2022 11:03 am\n"
     ]
    }
   ],
   "source": [
    "# method 1\n",
    "\n",
    "with open('today.txt',mode = 'w') as file:\n",
    "    file.write('Saturday, 26 November 2022 11:03 am')\n",
    "with open('today.txt',mode = 'r') as file:\n",
    "    print(file.read())"
   ]
  },
  {
   "cell_type": "code",
   "execution_count": 2,
   "id": "f15d0eb4",
   "metadata": {},
   "outputs": [
    {
     "name": "stdout",
     "output_type": "stream",
     "text": [
      "Saturday, 26 November 2022 11:03 am\n"
     ]
    }
   ],
   "source": [
    "# method 2\n",
    "\n",
    "file = open('today.txt',mode = 'w')\n",
    "file.write('Saturday, 26 November 2022 11:03 am')\n",
    "file = open('today.txt',mode = 'r')\n",
    "print(file.read())\n",
    "file.close()"
   ]
  },
  {
   "cell_type": "markdown",
   "id": "d5985472",
   "metadata": {},
   "source": [
    "> **2. Read the text file today.txt into the string today_string**           \n",
    "> **Answer-**"
   ]
  },
  {
   "cell_type": "code",
   "execution_count": 3,
   "id": "6f78ae9e",
   "metadata": {},
   "outputs": [
    {
     "data": {
      "text/plain": [
       "'Saturday, 26 November 2022 11:03 am'"
      ]
     },
     "execution_count": 3,
     "metadata": {},
     "output_type": "execute_result"
    }
   ],
   "source": [
    "# Method 1\n",
    "\n",
    "with open('today.txt',mode = 'r') as file:\n",
    "    today_string = file.read()\n",
    "today_string "
   ]
  },
  {
   "cell_type": "code",
   "execution_count": 4,
   "id": "39d3f2a9",
   "metadata": {},
   "outputs": [
    {
     "data": {
      "text/plain": [
       "'Saturday, 26 November 2022 11:03 am'"
      ]
     },
     "execution_count": 4,
     "metadata": {},
     "output_type": "execute_result"
    }
   ],
   "source": [
    "# Method 2\n",
    "\n",
    "file = open('today.txt',mode = 'r')\n",
    "today_string = file.read()\n",
    "today_string"
   ]
  },
  {
   "cell_type": "code",
   "execution_count": 5,
   "id": "3d64da36",
   "metadata": {},
   "outputs": [],
   "source": [
    "file.close()"
   ]
  },
  {
   "cell_type": "markdown",
   "id": "ad5e4e60",
   "metadata": {},
   "source": [
    "> **3. Parse the date from today_string.**    \n",
    "> **Answer-**   \n",
    "[source](https://www.geeksforgeeks.org/python-convert-string-to-datetime-and-vice-versa/)"
   ]
  },
  {
   "cell_type": "code",
   "execution_count": 6,
   "id": "c863d5aa",
   "metadata": {},
   "outputs": [
    {
     "name": "stdout",
     "output_type": "stream",
     "text": [
      "2022-11-26 11:03:00\n",
      "<class 'datetime.datetime'>\n"
     ]
    }
   ],
   "source": [
    "from dateutil import parser\n",
    "DT = parser.parse(today_string)\n",
    "print(DT)\n",
    "print(type(DT))"
   ]
  },
  {
   "cell_type": "markdown",
   "id": "47ee9b88",
   "metadata": {},
   "source": [
    "> **4. List the files in your current directory**        \n",
    "> **Answer-**"
   ]
  },
  {
   "cell_type": "code",
   "execution_count": 7,
   "id": "fdcb5743",
   "metadata": {},
   "outputs": [
    {
     "name": "stdout",
     "output_type": "stream",
     "text": [
      " Volume in drive C is Windows SSD\n",
      " Volume Serial Number is FCA4-BF44\n",
      "\n",
      " Directory of C:\\Users\\HP\\1AI iNeuron\n",
      "\n",
      "26-11-2022  01:07 PM    <DIR>          .\n",
      "26-11-2022  01:07 PM    <DIR>          ..\n",
      "26-11-2022  11:16 AM    <DIR>          .ipynb_checkpoints\n",
      "25-11-2022  09:47 PM             8,931 02_revision.ipynb\n",
      "25-11-2022  02:58 PM           635,986 024_Pandas_Part2_EDA.ipynb\n",
      "25-11-2022  09:00 PM            84,707 025_Pandas Data Analysis Part 1_25_Nov_2022.ipynb\n",
      "25-11-2022  03:15 PM    <DIR>          3. Working with Pandas & Numpy\n",
      "26-11-2022  01:07 PM             8,860 Assignment_21.ipynb\n",
      "25-11-2022  02:30 PM    <DIR>          Assignment-main\n",
      "25-11-2022  09:43 AM    <DIR>          Classes-main\n",
      "24-11-2022  10:44 PM            32,787 json_res.csv\n",
      "25-11-2022  09:10 AM    <DIR>          new\n",
      "26-11-2022  01:08 PM                35 today.txt\n",
      "26-11-2022  10:43 AM                26 today1.txt\n",
      "26-11-2022  11:05 AM             6,623 Untitled.ipynb\n",
      "26-11-2022  10:34 AM                 0 untitled.txt\n",
      "26-11-2022  11:28 AM            13,643 Untitled1.ipynb\n",
      "              10 File(s)        791,598 bytes\n",
      "               7 Dir(s)  58,705,756,160 bytes free\n"
     ]
    }
   ],
   "source": [
    "ls"
   ]
  },
  {
   "cell_type": "markdown",
   "id": "6087ff55",
   "metadata": {},
   "source": [
    "> **5. Create a list of all of the files in your parent directory (minimum five files should be available).**    \n",
    "> **Answer-**    \n",
    "[source](https://www.geeksforgeeks.org/listing-directories-files-python/)"
   ]
  },
  {
   "cell_type": "code",
   "execution_count": 8,
   "id": "d82784de",
   "metadata": {},
   "outputs": [
    {
     "data": {
      "text/plain": [
       "['.ipynb_checkpoints',\n",
       " '024_Pandas_Part2_EDA.ipynb',\n",
       " '025_Pandas Data Analysis Part 1_25_Nov_2022.ipynb',\n",
       " '02_revision.ipynb',\n",
       " '3. Working with Pandas & Numpy',\n",
       " 'Assignment-main',\n",
       " 'Assignment_21.ipynb',\n",
       " 'Classes-main',\n",
       " 'json_res.csv',\n",
       " 'new',\n",
       " 'today.txt',\n",
       " 'today1.txt',\n",
       " 'Untitled.ipynb',\n",
       " 'untitled.txt',\n",
       " 'Untitled1.ipynb']"
      ]
     },
     "execution_count": 8,
     "metadata": {},
     "output_type": "execute_result"
    }
   ],
   "source": [
    "import os\n",
    "os.listdir()"
   ]
  },
  {
   "cell_type": "markdown",
   "id": "719dee70",
   "metadata": {},
   "source": [
    "> **6. Use multiprocessing to create three separate processes. Make each one wait a random number of seconds between one and five, print the current time, and then exit.**    \n",
    "> **Answer-**"
   ]
  },
  {
   "cell_type": "markdown",
   "id": "5a514650",
   "metadata": {},
   "source": [
    "> **7. Create a date object of your day of birth.**    \n",
    "> **Answer-**"
   ]
  },
  {
   "cell_type": "code",
   "execution_count": 9,
   "id": "88009fc0",
   "metadata": {},
   "outputs": [
    {
     "data": {
      "text/plain": [
       "datetime.date(1932, 10, 8)"
      ]
     },
     "execution_count": 9,
     "metadata": {},
     "output_type": "execute_result"
    }
   ],
   "source": [
    "import datetime\n",
    "from datetime import date\n",
    "Birth_day = date(1932,10,8)\n",
    "Birth_day"
   ]
  },
  {
   "cell_type": "markdown",
   "id": "34221e62",
   "metadata": {},
   "source": [
    "> **8. What day of the week was your day of birth?**     \n",
    "> **Answer-**"
   ]
  },
  {
   "cell_type": "code",
   "execution_count": 10,
   "id": "b7bc9bbe",
   "metadata": {},
   "outputs": [
    {
     "data": {
      "text/plain": [
       "5"
      ]
     },
     "execution_count": 10,
     "metadata": {},
     "output_type": "execute_result"
    }
   ],
   "source": [
    "Birth_day.weekday()"
   ]
  },
  {
   "cell_type": "markdown",
   "id": "dff4c694",
   "metadata": {},
   "source": [
    "> **9. When will you be (or when were you) 10,000 days old?**    \n",
    "> **Answer-**"
   ]
  },
  {
   "cell_type": "code",
   "execution_count": 11,
   "id": "e222f1d1",
   "metadata": {},
   "outputs": [
    {
     "data": {
      "text/plain": [
       "datetime.date(1960, 2, 24)"
      ]
     },
     "execution_count": 11,
     "metadata": {},
     "output_type": "execute_result"
    }
   ],
   "source": [
    "from datetime import timedelta\n",
    "Date_after_10000_days=Birth_day+timedelta(days=10000)\n",
    "Date_after_10000_days"
   ]
  }
 ],
 "metadata": {
  "kernelspec": {
   "display_name": "Python 3 (ipykernel)",
   "language": "python",
   "name": "python3"
  },
  "language_info": {
   "codemirror_mode": {
    "name": "ipython",
    "version": 3
   },
   "file_extension": ".py",
   "mimetype": "text/x-python",
   "name": "python",
   "nbconvert_exporter": "python",
   "pygments_lexer": "ipython3",
   "version": "3.9.12"
  }
 },
 "nbformat": 4,
 "nbformat_minor": 5
}
