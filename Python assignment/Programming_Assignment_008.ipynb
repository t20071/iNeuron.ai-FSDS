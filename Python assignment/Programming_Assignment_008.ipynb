{
 "cells": [
  {
   "cell_type": "markdown",
   "id": "116be034",
   "metadata": {},
   "source": [
    "# Programming_Assignment_008\n",
    "**Sunday, 18 December 2022**       \n",
    "[sharadpardhe08@gmail.com](link)"
   ]
  },
  {
   "cell_type": "markdown",
   "id": "6a843c21",
   "metadata": {},
   "source": [
    "**1. Write a Python Program to Add Two Matrices?                \n",
    "Answer-**"
   ]
  },
  {
   "cell_type": "code",
   "execution_count": 1,
   "id": "df87bd4d",
   "metadata": {},
   "outputs": [
    {
     "data": {
      "text/plain": [
       "[8, 10, 12, 14, 16, 18]"
      ]
     },
     "execution_count": 1,
     "metadata": {},
     "output_type": "execute_result"
    }
   ],
   "source": [
    "# solution for 1d array \n",
    "arr1 = [1,2,3,4,5,6]\n",
    "arr2 = [7,8,9,10,11,12]\n",
    "arr_zip = list(zip(arr1,arr2))\n",
    "arr_sum = []\n",
    "for i,j in arr_zip:\n",
    "    arr_sum.append(i+j)\n",
    "arr_sum"
   ]
  },
  {
   "cell_type": "code",
   "execution_count": 2,
   "id": "322064ac",
   "metadata": {},
   "outputs": [
    {
     "name": "stdout",
     "output_type": "stream",
     "text": [
      "[[4, 8, 13], [16, 38, 70], [29, 33, 62]] \n",
      "\n",
      "[4, 8, 13]\n",
      "[16, 38, 70]\n",
      "[29, 33, 62]\n"
     ]
    }
   ],
   "source": [
    "# solution for 2d array \n",
    "A = [[1,2,4],\n",
    "    [4,23,52],\n",
    "    [8,9,35]]\n",
    "\n",
    "B = [[3,6,9],\n",
    "    [12,15,18],\n",
    "    [21,24,27]]\n",
    "\n",
    "result = [[0,0,0],\n",
    "         [0,0,0],\n",
    "         [0,0,0]]\n",
    "\n",
    "for i in range(len(result)): # loop over row\n",
    "    for j in range(len(result[0])): #loop over column\n",
    "        result[i][j] = A[i][j] + B[i][j]\n",
    "        \n",
    "print(result,'\\n')\n",
    "for i in result:\n",
    "    print(i)"
   ]
  },
  {
   "cell_type": "code",
   "execution_count": 3,
   "id": "e0b7c58b",
   "metadata": {},
   "outputs": [
    {
     "data": {
      "text/plain": [
       "array([[ 4,  8, 13],\n",
       "       [16, 38, 70],\n",
       "       [29, 33, 62]])"
      ]
     },
     "execution_count": 3,
     "metadata": {},
     "output_type": "execute_result"
    }
   ],
   "source": [
    "# by numpy \n",
    "import numpy as np\n",
    "arr1 = np.array(A)  # converting A in numpy array\n",
    "arr2 = np.array(B)  # converting B in numpy array\n",
    "arr1 + arr2         # sum of two array"
   ]
  },
  {
   "cell_type": "markdown",
   "id": "ee397a2d",
   "metadata": {},
   "source": [
    "**2. Write a Python Program to Multiply Two Matrices?                   \n",
    "Answer-**"
   ]
  },
  {
   "cell_type": "code",
   "execution_count": 4,
   "id": "4d1a4177",
   "metadata": {},
   "outputs": [
    {
     "data": {
      "text/plain": [
       "array([[ 111,  132,  153],\n",
       "       [1380, 1617, 1854],\n",
       "       [ 867, 1023, 1179]])"
      ]
     },
     "execution_count": 4,
     "metadata": {},
     "output_type": "execute_result"
    }
   ],
   "source": [
    "# using numpy\n",
    "arr1@arr2"
   ]
  },
  {
   "cell_type": "code",
   "execution_count": 5,
   "id": "3d7fa475",
   "metadata": {},
   "outputs": [
    {
     "name": "stdout",
     "output_type": "stream",
     "text": [
      "[111, 132, 153]\n",
      "[1380, 1617, 1854]\n",
      "[867, 1023, 1179]\n"
     ]
    }
   ],
   "source": [
    "# using programme\n",
    "X = [[1,2,4],\n",
    "    [4,23,52],\n",
    "    [8,9,35]]\n",
    "\n",
    "Y = [[3,6,9],\n",
    "    [12,15,18],\n",
    "    [21,24,27]]\n",
    "\n",
    "result = [[0,0,0],\n",
    "         [0,0,0],\n",
    "         [0,0,0]]\n",
    "\n",
    "for i in range(len(X)): # iterate through row of X\n",
    "    for j in range(len(Y[0])): # iterate through column of Y\n",
    "        for k in range(len(Y)): # iterate through row of Y\n",
    "            result[i][j] = result[i][j] + (X[i][k] * Y[k][j])\n",
    "     \n",
    "\n",
    "for r in result:\n",
    "    print(r)\n"
   ]
  },
  {
   "cell_type": "markdown",
   "id": "ea98ac5b",
   "metadata": {},
   "source": [
    "**3. Write a Python Program to Transpose a Matrix?              \n",
    "Answer-**\n",
    "> using numpy"
   ]
  },
  {
   "cell_type": "code",
   "execution_count": 6,
   "id": "981ac200",
   "metadata": {},
   "outputs": [
    {
     "data": {
      "text/plain": [
       "array([[ 1,  2,  4],\n",
       "       [ 4, 23, 52],\n",
       "       [ 8,  9, 35]])"
      ]
     },
     "execution_count": 6,
     "metadata": {},
     "output_type": "execute_result"
    }
   ],
   "source": [
    "arr1"
   ]
  },
  {
   "cell_type": "code",
   "execution_count": 7,
   "id": "72b5e628",
   "metadata": {},
   "outputs": [
    {
     "data": {
      "text/plain": [
       "array([[ 1,  4,  8],\n",
       "       [ 2, 23,  9],\n",
       "       [ 4, 52, 35]])"
      ]
     },
     "execution_count": 7,
     "metadata": {},
     "output_type": "execute_result"
    }
   ],
   "source": [
    "arr1.T"
   ]
  },
  {
   "cell_type": "markdown",
   "id": "2a9e4623",
   "metadata": {},
   "source": [
    "> using programme"
   ]
  },
  {
   "cell_type": "code",
   "execution_count": 8,
   "id": "39b1f795",
   "metadata": {},
   "outputs": [
    {
     "name": "stdout",
     "output_type": "stream",
     "text": [
      "[1, 4, 8]\n",
      "[2, 23, 9]\n",
      "[4, 52, 35]\n"
     ]
    }
   ],
   "source": [
    "X = [[1,2,4],\n",
    "    [4,23,52],\n",
    "    [8,9,35]]\n",
    "\n",
    "result = [[0,0,0],\n",
    "         [0,0,0],\n",
    "         [0,0,0]]\n",
    "\n",
    "for i in range(len(X)): # iterate through row\n",
    "    for j in range(len(X[0])): # iterate through column\n",
    "        result[i][j] = X[j][i]\n",
    "for r in result:\n",
    "    print(r)"
   ]
  },
  {
   "cell_type": "markdown",
   "id": "613a517d",
   "metadata": {},
   "source": [
    "**4. Write a Python Program to Sort Words in Alphabetic Order?              \n",
    "Answer-**"
   ]
  },
  {
   "cell_type": "code",
   "execution_count": 9,
   "id": "aee72e8e",
   "metadata": {},
   "outputs": [
    {
     "name": "stdout",
     "output_type": "stream",
     "text": [
      "words are in alphabatic order: \n",
      "\n",
      "am\n",
      "and\n",
      "from\n",
      "i\n",
      "india\n",
      "is\n",
      "my\n",
      "name\n",
      "sharad\n"
     ]
    }
   ],
   "source": [
    "my_string = 'My name is sharad and I am from India' # input('Enter string: ') \n",
    "word_list = [word.lower() for word in my_string.split()]\n",
    "word_list.sort()\n",
    "print('words are in alphabatic order: \\n',)\n",
    "for word in word_list:\n",
    "    print(word)"
   ]
  },
  {
   "cell_type": "markdown",
   "id": "5b480d4b",
   "metadata": {},
   "source": [
    "**5. Write a Python Program to Remove Punctuation From a String?              \n",
    "Answer-**"
   ]
  },
  {
   "cell_type": "code",
   "execution_count": 10,
   "id": "e00414d1",
   "metadata": {},
   "outputs": [
    {
     "data": {
      "text/plain": [
       "' Hello My name is sharad  I am from India BHARAT  '"
      ]
     },
     "execution_count": 10,
     "metadata": {},
     "output_type": "execute_result"
    }
   ],
   "source": [
    "punctuations = '''!()-[]{};:'\"\\,<>./?@#$%^&*_~'''\n",
    "my_string = ''' Hello!, My name is sharad, & I am from India (~BHARAT) --- []<>''' # input('Enter string: ')\n",
    "\n",
    "string_no_punc = ''\n",
    "\n",
    "for i in my_string:\n",
    "    if i not in punctuations:\n",
    "        string_no_punc += i\n",
    "        \n",
    "string_no_punc"
   ]
  }
 ],
 "metadata": {
  "kernelspec": {
   "display_name": "Python 3 (ipykernel)",
   "language": "python",
   "name": "python3"
  },
  "language_info": {
   "codemirror_mode": {
    "name": "ipython",
    "version": 3
   },
   "file_extension": ".py",
   "mimetype": "text/x-python",
   "name": "python",
   "nbconvert_exporter": "python",
   "pygments_lexer": "ipython3",
   "version": "3.9.12"
  }
 },
 "nbformat": 4,
 "nbformat_minor": 5
}
