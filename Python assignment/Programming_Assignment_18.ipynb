{
 "cells": [
  {
   "cell_type": "markdown",
   "id": "d637c046",
   "metadata": {},
   "source": [
    "# Programming_Assignment_18\n",
    "**Saturday, 21 January 2023**"
   ]
  },
  {
   "cell_type": "markdown",
   "id": "ca70eebb",
   "metadata": {},
   "source": [
    "**Question 1\n",
    "Create a function that takes a list of non-negative integers and strings and return a new list without the strings.**\n",
    ">**Examples**       \n",
    "filter_list([1, 2, \"a\", \"b\"]) ➞ [1, 2]     \n",
    "filter_list([1, \"a\", \"b\", 0, 15]) ➞ [1, 0, 15]     \n",
    "filter_list([1, 2, \"aasf\", \"1\", \"123\", 123]) ➞ [1, 2, 123]\n"
   ]
  },
  {
   "cell_type": "code",
   "execution_count": 2,
   "id": "c93d3b44",
   "metadata": {},
   "outputs": [
    {
     "data": {
      "text/plain": [
       "[1, 2, 123]"
      ]
     },
     "execution_count": 2,
     "metadata": {},
     "output_type": "execute_result"
    }
   ],
   "source": [
    "# def the function \n",
    "def filter_list(lst):\n",
    "    \n",
    "    # define the blank list\n",
    "    int_lst = []\n",
    "    \n",
    "    # iterate over given lst\n",
    "    for ele in lst:\n",
    "        if type(ele) == int:\n",
    "            int_lst.append(ele)\n",
    "        else:\n",
    "            pass\n",
    "    return int_lst\n",
    "\n",
    "# calling the function\n",
    "filter_list([1, 2, \"aasf\", \"1\", \"123\", 123])"
   ]
  },
  {
   "cell_type": "markdown",
   "id": "097d0fa0",
   "metadata": {},
   "source": [
    "**Question 2\n",
    "The \"Reverser\" takes a string as input and returns that string in reverse order, with the opposite case.**\n",
    ">**Examples**       \n",
    "reverse(\"Hello World\") ➞ \"DLROw OLLEh\"     \n",
    "reverse(\"ReVeRsE\") ➞ \"eSrEvEr\"    \n",
    "reverse(\"Radar\") ➞ \"RADAr\""
   ]
  },
  {
   "cell_type": "code",
   "execution_count": 8,
   "id": "a082aeaf",
   "metadata": {},
   "outputs": [
    {
     "data": {
      "text/plain": [
       "'DLROw OLLEh'"
      ]
     },
     "execution_count": 8,
     "metadata": {},
     "output_type": "execute_result"
    }
   ],
   "source": [
    "def reverse(string):\n",
    "    \n",
    "    # defining the blank string \n",
    "    new_string = ''\n",
    "    \n",
    "    # iterate over each word\n",
    "    for i in string:\n",
    "        if i.islower():\n",
    "            new_string += i.upper()\n",
    "        else:\n",
    "            new_string += i.lower()\n",
    "    return new_string[::-1]\n",
    " \n",
    "reverse(\"Hello World\")"
   ]
  },
  {
   "cell_type": "markdown",
   "id": "7b209b3d",
   "metadata": {},
   "source": [
    "**Question 3\n",
    "You can assign variables from lists like this:**       \n",
    ">lst = [1, 2, 3, 4, 5, 6]    \n",
    "first = lst[0]     \n",
    "middle = lst[1:-1]   \n",
    "last = lst[-1]     \n",
    "\n",
    ">print(first) ➞ outputs 1      \n",
    "print(middle) ➞ outputs [2, 3, 4, 5]      \n",
    "print(last) ➞ outputs 6        \n",
    "With Python 3, you can assign variables from lists in a much more succinct way.            \n",
    "Create variables first, middle and last from the given list using destructuring assignment (check the Resources tab for some examples), where:\n",
    "first  ➞ 1\n",
    "\n",
    ">middle ➞ [2, 3, 4, 5]       \n",
    "last ➞ 6      \n",
    "**Your task is to unpack the list writeyourcodehere into three variables, being first, middle, and last, with middle being everything in between the first and last element. Then print all three variables.**"
   ]
  },
  {
   "cell_type": "code",
   "execution_count": 19,
   "id": "d93b4147",
   "metadata": {},
   "outputs": [
    {
     "name": "stdout",
     "output_type": "stream",
     "text": [
      "first: 1 \n",
      "middle : [2, 3, 4, 5] \n",
      "last: 6\n"
     ]
    }
   ],
   "source": [
    "def fcn(lst):\n",
    "    first = lst[0]\n",
    "    middle = lst[1:-1]\n",
    "    last = lst[-1]\n",
    "    print(f'first: {first} \\nmiddle : {middle} \\nlast: {last}')\n",
    "    \n",
    "fcn([1, 2, 3, 4, 5, 6])"
   ]
  },
  {
   "cell_type": "markdown",
   "id": "b1f83a9b",
   "metadata": {},
   "source": [
    "**Question 4\n",
    "Write a function that calculates the factorial of a number recursively.**\n",
    ">**Examples**              \n",
    "factorial(5) ➞ 120      \n",
    "factorial(3) ➞ 6       \n",
    "factorial(1) ➞ 1           \n",
    "factorial(0) ➞ 1 "
   ]
  },
  {
   "cell_type": "code",
   "execution_count": 20,
   "id": "b95b00a5",
   "metadata": {},
   "outputs": [
    {
     "data": {
      "text/plain": [
       "120"
      ]
     },
     "execution_count": 20,
     "metadata": {},
     "output_type": "execute_result"
    }
   ],
   "source": [
    "def fact(n):\n",
    "    if n == 0 or n==1 :\n",
    "        return 1\n",
    "    else:\n",
    "        return n*fact(n-1)\n",
    "    \n",
    "fact(5)"
   ]
  },
  {
   "cell_type": "markdown",
   "id": "6f5397da",
   "metadata": {},
   "source": [
    "**Question 5\n",
    "Write a function that moves all elements of one type to the end of the list.**\n",
    "> **Examples**       \n",
    "move_to_end([1, 3, 2, 4, 4, 1], 1) ➞ [3, 2, 4, 4, 1, 1]       \n",
    "Move all the 1s to the end of the array.       \n",
    "move_to_end([7, 8, 9, 1, 2, 3, 4], 9) ➞ [7, 8, 1, 2, 3, 4, 9]       \n",
    "move_to_end([\"a\", \"a\", \"a\", \"b\"], \"a\") ➞ [\"b\", \"a\", \"a\", \"a\"]      \n",
    "\n"
   ]
  },
  {
   "cell_type": "code",
   "execution_count": 28,
   "id": "ad000157",
   "metadata": {},
   "outputs": [
    {
     "data": {
      "text/plain": [
       "[7, 8, 1, 2, 3, 4, 9]"
      ]
     },
     "execution_count": 28,
     "metadata": {},
     "output_type": "execute_result"
    }
   ],
   "source": [
    "def move_to_end(lst,num):\n",
    "    \n",
    "    \n",
    "    if num in lst:\n",
    "        lst.remove(num)\n",
    "        lst.append(num)\n",
    "    return lst\n",
    "\n",
    "move_to_end([7, 8, 9, 1, 2, 3, 4], 9)"
   ]
  }
 ],
 "metadata": {
  "kernelspec": {
   "display_name": "Python 3 (ipykernel)",
   "language": "python",
   "name": "python3"
  },
  "language_info": {
   "codemirror_mode": {
    "name": "ipython",
    "version": 3
   },
   "file_extension": ".py",
   "mimetype": "text/x-python",
   "name": "python",
   "nbconvert_exporter": "python",
   "pygments_lexer": "ipython3",
   "version": "3.9.12"
  }
 },
 "nbformat": 4,
 "nbformat_minor": 5
}
