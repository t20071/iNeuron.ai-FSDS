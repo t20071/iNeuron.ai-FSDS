{
 "cells": [
  {
   "cell_type": "markdown",
   "id": "a8fc2a7c",
   "metadata": {},
   "source": [
    "# Programming Assignment_4\n",
    "[sharadpardhe08@gmail.com](link)            \n",
    "**Saturday, 10 December 2022**"
   ]
  },
  {
   "cell_type": "markdown",
   "id": "7d46ddec",
   "metadata": {},
   "source": [
    "**1.\tWrite a Python Program to Find the Factorial of a Number?**             \n",
    "**Answer-**"
   ]
  },
  {
   "cell_type": "code",
   "execution_count": 2,
   "id": "d610ab14",
   "metadata": {},
   "outputs": [
    {
     "name": "stdout",
     "output_type": "stream",
     "text": [
      "Enter a number: 5\n",
      "Factorial of 5 is equal to 120\n"
     ]
    }
   ],
   "source": [
    "# finding the factorial of given number\n",
    "\n",
    "num = int(input('Enter a number: ')) # lets find the factorial of num\n",
    "\n",
    "factorial = 1\n",
    "\n",
    "# lets check wether number is -ve \n",
    "if num < 0:\n",
    "    print(f'{num} is negative and factorial of -ve is not defined')\n",
    "    \n",
    "# lets check weather number is equal to 0\n",
    "elif num == 0:\n",
    "    print(f'{num} factorial is equal to 1')\n",
    "    \n",
    "# weather number is greater than or equal to 1\n",
    "elif num >=1:\n",
    "    for i in range(1,num+1):\n",
    "        factorial = factorial * i\n",
    "        \n",
    "    print(f'Factorial of {num} is equal to {factorial}')"
   ]
  },
  {
   "cell_type": "markdown",
   "id": "daf39827",
   "metadata": {},
   "source": [
    "**2.\tWrite a Python Program to Display the multiplication Table?**       \n",
    "**Answer-**"
   ]
  },
  {
   "cell_type": "code",
   "execution_count": 9,
   "id": "18eb1d49",
   "metadata": {},
   "outputs": [
    {
     "name": "stdout",
     "output_type": "stream",
     "text": [
      "Enter a number: 12\n",
      "12 X 1 = 12\n",
      "12 X 2 = 24\n",
      "12 X 3 = 36\n",
      "12 X 4 = 48\n",
      "12 X 5 = 60\n",
      "12 X 6 = 72\n",
      "12 X 7 = 84\n",
      "12 X 8 = 96\n",
      "12 X 9 = 108\n",
      "12 X 10 = 120\n"
     ]
    }
   ],
   "source": [
    "num = int(input('Enter a number: '))\n",
    "for i in range(1,11):\n",
    "    table = num*i\n",
    "    print(f'{num} X {i} = {table}')"
   ]
  },
  {
   "cell_type": "markdown",
   "id": "9ad0c9be",
   "metadata": {},
   "source": [
    "**3.\tWrite a Python Program to Print the Fibonacci sequence?**         \n",
    "**Answer-**\n",
    "![image](https://www.mathsisfun.com/numbers/images/fibonacci-spiral.svg)"
   ]
  },
  {
   "cell_type": "code",
   "execution_count": 4,
   "id": "89d51199",
   "metadata": {},
   "outputs": [
    {
     "name": "stdout",
     "output_type": "stream",
     "text": [
      "Enter number of terms: 10\n",
      "1\n",
      "1\n",
      "2\n",
      "3\n",
      "5\n",
      "8\n",
      "13\n",
      "21\n",
      "34\n",
      "55\n"
     ]
    }
   ],
   "source": [
    "term = int(input('Enter number of terms: '))\n",
    "i1 = 1\n",
    "i2 = 1\n",
    "count = 0\n",
    "\n",
    "# check wether number of series is -ve\n",
    "if term <=0 :\n",
    "    print('Please provide valid term in positive number')\n",
    "\n",
    "# check wether number of term is equal to 1\n",
    "elif term == 1:\n",
    "    print(i1)\n",
    "    \n",
    "else:\n",
    "    while count<term:\n",
    "        print(i1)\n",
    "        i = i1 + i2\n",
    "        # now update the value\n",
    "        i1 = i2\n",
    "        i2 = i\n",
    "        count += 1"
   ]
  },
  {
   "cell_type": "markdown",
   "id": "eab8bde6",
   "metadata": {},
   "source": [
    "**4.\tWrite a Python Program to Check Armstrong Number?**                   \n",
    "**Answer-**\n",
    "![Armstrong Number](https://scaler.com/topics/images/what-are-armstrong-number-in-python.webp)"
   ]
  },
  {
   "cell_type": "code",
   "execution_count": 15,
   "id": "ec952e33",
   "metadata": {},
   "outputs": [
    {
     "name": "stdout",
     "output_type": "stream",
     "text": [
      "Enter a number: 153\n",
      "153 is an Armstrong Number\n"
     ]
    }
   ],
   "source": [
    "# first method\n",
    "num = int(input('Enter a number: '))\n",
    "\n",
    "# take a temperory number equal to num\n",
    "temp = num\n",
    "\n",
    "# define a variable called sum\n",
    "sum = 0\n",
    "\n",
    "while temp>0:\n",
    "    digit = temp%10 # it will give right most digit\n",
    "    sum = sum + digit**3  \n",
    "    temp = temp//10  # it will remove the right most digit from the given number \n",
    "    \n",
    "if sum == num:\n",
    "    print(f'{num} is an Armstrong Number')\n",
    "else:\n",
    "    print(f'{num} is not an Armstrong Number')"
   ]
  },
  {
   "cell_type": "code",
   "execution_count": 16,
   "id": "5b68d0af",
   "metadata": {},
   "outputs": [
    {
     "name": "stdout",
     "output_type": "stream",
     "text": [
      "Enter a number: 153\n",
      "153 is a Armstrong Number\n"
     ]
    }
   ],
   "source": [
    "# second method  - this will only restric for the 3 digit number \n",
    "num = input('Enter a number: ')\n",
    "i1 = int(num[0])\n",
    "i2 = int(num[1])\n",
    "i3 = int(num[2])\n",
    "if (i1**3 + i2**3 + i3**3) == int(num):\n",
    "    print(f'{num} is a Armstrong Number')\n",
    "else:\n",
    "    print(f'{num} is not a Armstrong Number')"
   ]
  },
  {
   "cell_type": "markdown",
   "id": "41c81cca",
   "metadata": {},
   "source": [
    "**5.\tWrite a Python Program to Find Armstrong Number in an Interval?**                \n",
    "**Answer-**"
   ]
  },
  {
   "cell_type": "code",
   "execution_count": 1,
   "id": "af57abcc",
   "metadata": {},
   "outputs": [
    {
     "name": "stdout",
     "output_type": "stream",
     "text": [
      "Enter a number till, you want to find Armstrong number: 50000\n",
      "1\n",
      "2\n",
      "3\n",
      "4\n",
      "5\n",
      "6\n",
      "7\n",
      "8\n",
      "9\n",
      "153\n",
      "370\n",
      "371\n",
      "407\n",
      "1634\n",
      "8208\n",
      "9474\n"
     ]
    }
   ],
   "source": [
    "num = int(input('Enter a number till, you want to find Armstrong number: '))\n",
    "\n",
    "for i in range(1,num+1):\n",
    "    temp = i\n",
    "    sum =0\n",
    "    order = len(str(i))\n",
    "    \n",
    "    while temp >0:\n",
    "        digit = temp%10\n",
    "        sum = sum + digit**order\n",
    "        temp = temp//10 \n",
    "        \n",
    "    if sum == i:\n",
    "        print(i)"
   ]
  },
  {
   "cell_type": "markdown",
   "id": "a338c87d",
   "metadata": {},
   "source": [
    "**6.\tWrite a Python Program to Find the Sum of Natural Numbers?**                  \n",
    "**Answer-**"
   ]
  },
  {
   "cell_type": "code",
   "execution_count": 7,
   "id": "36a1d9a9",
   "metadata": {},
   "outputs": [
    {
     "name": "stdout",
     "output_type": "stream",
     "text": [
      "Enter number till you want to find the sum of natural number: 6\n",
      "21\n"
     ]
    }
   ],
   "source": [
    "num = int(input('Enter number till you want to find the sum of natural number: '))\n",
    "\n",
    "# check wether number is natural number or not\n",
    "if num<1:\n",
    "    print(f'{num} is not a Natural number')\n",
    "else:\n",
    "    sum =0\n",
    "    for i in range(1,num+1):\n",
    "        sum = sum+i\n",
    "    print(sum)"
   ]
  }
 ],
 "metadata": {
  "kernelspec": {
   "display_name": "Python 3 (ipykernel)",
   "language": "python",
   "name": "python3"
  },
  "language_info": {
   "codemirror_mode": {
    "name": "ipython",
    "version": 3
   },
   "file_extension": ".py",
   "mimetype": "text/x-python",
   "name": "python",
   "nbconvert_exporter": "python",
   "pygments_lexer": "ipython3",
   "version": "3.9.12"
  }
 },
 "nbformat": 4,
 "nbformat_minor": 5
}
