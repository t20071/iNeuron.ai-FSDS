{
 "cells": [
  {
   "cell_type": "markdown",
   "id": "6a7e6e34",
   "metadata": {},
   "source": [
    "# Programming_Assignment_17\n",
    "**Saturday, 21 January 2023**"
   ]
  },
  {
   "cell_type": "markdown",
   "id": "17c65ff0",
   "metadata": {},
   "source": [
    "**Question1. Create a function that takes three arguments a, b, c and returns the sum of the numbers that are evenly divided by c from the range a, b inclusive.**\n",
    "> **Examples**      \n",
    "evenly_divisible(1, 10, 20) ➞ 0         \n",
    "No number between 1 and 10 can be evenly divided by 20. \n",
    "\n",
    ">evenly_divisible(1, 10, 2) ➞ 30         \n",
    "2 + 4 + 6 + 8 + 10 = 30  \n",
    "\n",
    ">evenly_divisible(1, 10, 3) ➞ 18           \n",
    "3 + 6 + 9 = 18          "
   ]
  },
  {
   "cell_type": "code",
   "execution_count": 4,
   "id": "31f3e182",
   "metadata": {},
   "outputs": [
    {
     "data": {
      "text/plain": [
       "18"
      ]
     },
     "execution_count": 4,
     "metadata": {},
     "output_type": "execute_result"
    }
   ],
   "source": [
    "# defining the function \n",
    "def evenly_divisible(a,b,c):\n",
    "    \n",
    "    # define the variable sum\n",
    "    sum = 0\n",
    "    \n",
    "    # iterate each number in the range from (a to b)\n",
    "    for i in range(a,b+1):\n",
    "        if i%c == 0:\n",
    "            sum += i\n",
    "    return sum\n",
    "\n",
    "# calling the function \n",
    "evenly_divisible(1, 10, 3)"
   ]
  },
  {
   "cell_type": "markdown",
   "id": "da70344d",
   "metadata": {},
   "source": [
    "**Question2. Create a function that returns True if a given inequality expression is correct and False otherwise.**\n",
    ">**Examples**   \n",
    "correct_signs(\"3 < 7 < 11\") ➞ True          \n",
    "correct_signs(\"13 > 44 > 33 > 1\") ➞ False         \n",
    "correct_signs(\"1 < 2 < 6 < 9 > 3\") ➞ True"
   ]
  },
  {
   "cell_type": "code",
   "execution_count": 7,
   "id": "c191071c",
   "metadata": {},
   "outputs": [
    {
     "name": "stdout",
     "output_type": "stream",
     "text": [
      "True\n",
      "False\n",
      "True\n"
     ]
    }
   ],
   "source": [
    "# define the function\n",
    "def correct_signs(expression):\n",
    "    return eval(expression)\n",
    "\n",
    "print(correct_signs(\"3 < 7 < 11\"))\n",
    "print(correct_signs(\"13 > 44 > 33 > 1\"))\n",
    "print(correct_signs(\"1 < 2 < 6 < 9 > 3\") )"
   ]
  },
  {
   "cell_type": "markdown",
   "id": "93792f00",
   "metadata": {},
   "source": [
    "**Question3. Create a function that replaces all the vowels in a string with a specified character.**\n",
    ">**Examples**           \n",
    "replace_vowels(\"the aardvark\", \"#\") ➞ \"th# ##rdv#rk\"            \n",
    "replace_vowels(\"minnie mouse\", \"?\") ➞ \"m?nn?? m??s?\"               \n",
    "replace_vowels(\"shakespeare\", \"*\") ➞ \"sh*k*sp**r*\""
   ]
  },
  {
   "cell_type": "code",
   "execution_count": 29,
   "id": "6de27c41",
   "metadata": {},
   "outputs": [
    {
     "name": "stdout",
     "output_type": "stream",
     "text": [
      "Enter the word: shakespeare\n",
      "Enter the replication symbol: &\n"
     ]
    },
    {
     "data": {
      "text/plain": [
       "'sh&k&sp&&r&'"
      ]
     },
     "execution_count": 29,
     "metadata": {},
     "output_type": "execute_result"
    }
   ],
   "source": [
    "# definig the function\n",
    "def replace_vowels(word,rep):\n",
    "    \n",
    "    # defining list of vowels\n",
    "    vowels = ['a','e','i','o','u']\n",
    "    \n",
    "    # iterate to check vowels in word\n",
    "    for i in vowels:\n",
    "        # conver the word in lowercase\n",
    "        word = word.lower()\n",
    "        \n",
    "        # replacing the vowels with the specific characters 'rep'\n",
    "        word = word.replace(i,rep)\n",
    "    return word\n",
    "\n",
    "word = input('Enter the word: ')\n",
    "rep = input('Enter the replication symbol: ')\n",
    "\n",
    "# calling the function\n",
    "replace_vowels(word,rep)"
   ]
  },
  {
   "cell_type": "markdown",
   "id": "8b08a1f6",
   "metadata": {},
   "source": [
    "**Question4. Write a function that calculates the factorial of a number recursively.**        \n",
    ">**Examples**            \n",
    "factorial(5) ➞ 120       \n",
    "factorial(3) ➞ 6           \n",
    "factorial(1) ➞ 1            \n",
    "factorial(0) ➞ 1"
   ]
  },
  {
   "cell_type": "code",
   "execution_count": 17,
   "id": "79f75fd7",
   "metadata": {},
   "outputs": [
    {
     "data": {
      "text/plain": [
       "120"
      ]
     },
     "execution_count": 17,
     "metadata": {},
     "output_type": "execute_result"
    }
   ],
   "source": [
    "# defining the function \n",
    "def factorial(n):\n",
    "    if n == 0 or n==1:\n",
    "        return 1 \n",
    "    else:\n",
    "        return n*factorial(n-1)\n",
    "    \n",
    "factorial(5)"
   ]
  },
  {
   "cell_type": "markdown",
   "id": "7999d004",
   "metadata": {},
   "source": [
    "**Question 5\n",
    "Hamming distance is the number of characters that differ between two strings.**          \n",
    "> To illustrate:          \n",
    "String1: \"abcbba\"            \n",
    "String2: \"abcbda\"        \n",
    "Hamming Distance: 1- \"b\" vs. \"d\" is the only difference.    \n",
    "\n",
    "> **Create a function that computes the hamming distance between two strings.**         \n",
    "**Examples**\n",
    "hamming_distance(\"abcde\", \"bcdef\") ➞ 5                 \n",
    "hamming_distance(\"abcde\", \"abcde\") ➞ 0      \n",
    "hamming_distance(\"strong\", \"strung\") ➞ 1     \n",
    "\n"
   ]
  },
  {
   "cell_type": "code",
   "execution_count": 39,
   "id": "2943c23b",
   "metadata": {},
   "outputs": [
    {
     "data": {
      "text/plain": [
       "5"
      ]
     },
     "execution_count": 39,
     "metadata": {},
     "output_type": "execute_result"
    }
   ],
   "source": [
    "# defining the function \n",
    "def hamming_distance(string1,string2):\n",
    "    \n",
    "    count = []\n",
    "    for i in range(len(string1)):\n",
    "        if string1[i] == string2[i]:\n",
    "            count.append(0)\n",
    "        else:\n",
    "            count.append(1)\n",
    "    return sum(count)\n",
    "\n",
    "# calling the function\n",
    "hamming_distance(\"abcde\", \"bcdef\")"
   ]
  }
 ],
 "metadata": {
  "kernelspec": {
   "display_name": "Python 3 (ipykernel)",
   "language": "python",
   "name": "python3"
  },
  "language_info": {
   "codemirror_mode": {
    "name": "ipython",
    "version": 3
   },
   "file_extension": ".py",
   "mimetype": "text/x-python",
   "name": "python",
   "nbconvert_exporter": "python",
   "pygments_lexer": "ipython3",
   "version": "3.9.12"
  }
 },
 "nbformat": 4,
 "nbformat_minor": 5
}
