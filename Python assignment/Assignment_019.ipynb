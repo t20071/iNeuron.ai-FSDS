{
 "cells": [
  {
   "cell_type": "markdown",
   "id": "d825b23c",
   "metadata": {},
   "source": [
    "# Assignment_019\n",
    "**Thursday, 24 November 2022**     \n",
    "[sharadpardhe08@gmail.com](link)"
   ]
  },
  {
   "cell_type": "markdown",
   "id": "9cbedb15",
   "metadata": {},
   "source": [
    "**1. Make a class called Thing with no contents and print it. Then, create an object called example from this class and also print it. Are the printed values the same or different?**\n",
    "\n",
    "**Answer-** Different "
   ]
  },
  {
   "cell_type": "code",
   "execution_count": 1,
   "id": "abb98cbf",
   "metadata": {},
   "outputs": [
    {
     "name": "stdout",
     "output_type": "stream",
     "text": [
      "Value of class print:- <class '__main__.thing'>\n",
      "Value of object print:- <__main__.thing object at 0x00000243EAF04FA0>\n"
     ]
    }
   ],
   "source": [
    "class thing():\n",
    "    pass\n",
    "\n",
    "# creatin an object called 'example' from class 'thing'\n",
    "example = thing()\n",
    "\n",
    "print('Value of class print:-', thing)\n",
    "print('Value of object print:-',example)"
   ]
  },
  {
   "cell_type": "markdown",
   "id": "06abb7df",
   "metadata": {},
   "source": [
    "**2. Make a new class called Thing2 and assign the value 'abc' to a class attribute called letters. Print letters.**\n",
    "\n",
    "**Answer-**"
   ]
  },
  {
   "cell_type": "code",
   "execution_count": 2,
   "id": "070d28f0",
   "metadata": {},
   "outputs": [
    {
     "name": "stdout",
     "output_type": "stream",
     "text": [
      "abc\n"
     ]
    },
    {
     "data": {
      "text/plain": [
       "'abc'"
      ]
     },
     "execution_count": 2,
     "metadata": {},
     "output_type": "execute_result"
    }
   ],
   "source": [
    "class thing2():\n",
    "    letters = 'abc'  # class attributes\n",
    "    \n",
    "print(thing2.letters)\n",
    "thing2.letters"
   ]
  },
  {
   "cell_type": "markdown",
   "id": "c3a0024b",
   "metadata": {},
   "source": [
    "Note - Class attributes are the variables defined directly in the class that are shared by all objects of the class. Instance attributes are attributes or properties attached to an instance of a class."
   ]
  },
  {
   "cell_type": "markdown",
   "id": "45f719c2",
   "metadata": {},
   "source": [
    "**3. Make yet another class called Thing3. This time, assign the value 'xyz' to an instance (object) attribute called letters. Print letters. Do you need to make an object from the class to do this?**\n",
    "\n",
    "**Answer -**\n",
    "Not neccesary"
   ]
  },
  {
   "cell_type": "code",
   "execution_count": 3,
   "id": "d74cc494",
   "metadata": {},
   "outputs": [
    {
     "name": "stdout",
     "output_type": "stream",
     "text": [
      "xyz\n"
     ]
    }
   ],
   "source": [
    "class Thing3():\n",
    "    def __init__(self,name):\n",
    "        self.name = name\n",
    "    # instance attribute \n",
    "    def letters(self):\n",
    "        print(self.name)\n",
    "        \n",
    " # without creation of object \n",
    "Thing3('xyz').letters()       "
   ]
  },
  {
   "cell_type": "code",
   "execution_count": 4,
   "id": "34228ce4",
   "metadata": {},
   "outputs": [
    {
     "name": "stdout",
     "output_type": "stream",
     "text": [
      "xyz\n"
     ]
    }
   ],
   "source": [
    "# with creation of object \n",
    "object1 =Thing3('xyz')\n",
    "object1.letters()"
   ]
  },
  {
   "cell_type": "markdown",
   "id": "5f24fb80",
   "metadata": {},
   "source": [
    "[Class Attributes vs Instance Attributes in Python](https://www.tutorialsteacher.com/articles/class-attributes-vs-instance-attributes-in-python)"
   ]
  },
  {
   "cell_type": "markdown",
   "id": "a8915c17",
   "metadata": {},
   "source": [
    "**4. Create an Element class with the instance attributes name, symbol, and number. Create a class object with the values 'Hydrogen,' 'H,' and 1.**\n",
    "\n",
    "**Answer-**"
   ]
  },
  {
   "cell_type": "code",
   "execution_count": 5,
   "id": "63eea989",
   "metadata": {},
   "outputs": [
    {
     "name": "stdout",
     "output_type": "stream",
     "text": [
      "Name:Hydrogen, symbol:H, number:1\n"
     ]
    }
   ],
   "source": [
    "class Element():\n",
    "    \n",
    "    def __init__(self,name,symbol,number):\n",
    "        self.name = name\n",
    "        self.symbol = symbol\n",
    "        self.number = number\n",
    "        \n",
    "    def print_all(self):\n",
    "        print(f'Name:{self.name}, symbol:{self.symbol}, number:{self.number}')\n",
    "        \n",
    "Hydrogen = Element('Hydrogen','H',1)\n",
    "Hydrogen.print_all()"
   ]
  },
  {
   "cell_type": "markdown",
   "id": "80f67876",
   "metadata": {},
   "source": [
    "**5. Make a dictionary with these keys and values: 'name': 'Hydrogen', 'symbol': 'H', 'number': 1. Then, create an object called hydrogen from class Element using this dictionary.**\n",
    "\n",
    "**Answer-**"
   ]
  },
  {
   "cell_type": "code",
   "execution_count": 6,
   "id": "91a971e6",
   "metadata": {},
   "outputs": [
    {
     "name": "stdout",
     "output_type": "stream",
     "text": [
      "Name:Hydrogen, symbol:H, number:1\n"
     ]
    }
   ],
   "source": [
    "dict1 = { 'name': 'Hydrogen', 'symbol': 'H', 'number': 1}\n",
    "Hydrogen = Element(**dict1)\n",
    "Hydrogen.print_all()"
   ]
  },
  {
   "cell_type": "markdown",
   "id": "dc1a84e4",
   "metadata": {},
   "source": [
    "**6. For the Element class, define a method called dump() that prints the values of the object’s attributes (name, symbol, and number). Create the hydrogen object from this new definition and use dump() to print its attributes.**\n",
    "\n",
    "**Answer-**"
   ]
  },
  {
   "cell_type": "code",
   "execution_count": 7,
   "id": "c79ffb53",
   "metadata": {},
   "outputs": [
    {
     "name": "stdout",
     "output_type": "stream",
     "text": [
      "Name:Hydrogen, symbol:H, number:1\n"
     ]
    }
   ],
   "source": [
    "class Element():\n",
    "    \n",
    "    def __init__(self,name,symbol,number):\n",
    "        self.name = name\n",
    "        self.symbol = symbol\n",
    "        self.number = number\n",
    "        \n",
    "    def dump(self):\n",
    "        print(f'Name:{self.name}, symbol:{self.symbol}, number:{self.number}')\n",
    "        \n",
    "hydrogen = Element('Hydrogen','H',1)\n",
    "hydrogen.dump()"
   ]
  },
  {
   "cell_type": "markdown",
   "id": "ba9db83e",
   "metadata": {},
   "source": [
    "**7. Call print(hydrogen). In the definition of Element, change the name of method dump to __str__, create a new hydrogen object, and call print(hydrogen) again.**\n",
    "\n",
    "**Answer-**"
   ]
  },
  {
   "cell_type": "code",
   "execution_count": 8,
   "id": "271cf1ed",
   "metadata": {},
   "outputs": [
    {
     "name": "stdout",
     "output_type": "stream",
     "text": [
      "<__main__.Element object at 0x00000243EAF04DF0>\n"
     ]
    }
   ],
   "source": [
    "print(hydrogen)"
   ]
  },
  {
   "cell_type": "code",
   "execution_count": 9,
   "id": "cf64e0ae",
   "metadata": {},
   "outputs": [
    {
     "name": "stdout",
     "output_type": "stream",
     "text": [
      "Name:Hydrogen, symbol:H, number:1\n"
     ]
    }
   ],
   "source": [
    "class Element():\n",
    "    \n",
    "    def __init__(self,name,symbol,number):\n",
    "        self.name = name\n",
    "        self.symbol = symbol\n",
    "        self.number = number\n",
    "        \n",
    "    def __str__(self):\n",
    "        return (f'Name:{self.name}, symbol:{self.symbol}, number:{self.number}')\n",
    "        \n",
    "hydrogen = Element('Hydrogen','H',1)\n",
    "print(hydrogen)"
   ]
  },
  {
   "cell_type": "markdown",
   "id": "73b695af",
   "metadata": {},
   "source": [
    "**8. Modify Element to make the attributes name, symbol, and number private. Define a getter property for each to return its value.**\n",
    "\n",
    "**Answer-**"
   ]
  },
  {
   "cell_type": "code",
   "execution_count": 10,
   "id": "dc16475e",
   "metadata": {},
   "outputs": [],
   "source": [
    "class Element():\n",
    "    \n",
    "    def __init__(self,name,symbol,number):\n",
    "        self.__name = name\n",
    "        self.__symbol = symbol\n",
    "        self.__number = number\n",
    "        \n",
    "    @property\n",
    "    def name(self):\n",
    "        return (self.__name)\n",
    "    @property\n",
    "    def symbol(self):\n",
    "        return (self.__symbol)\n",
    "    @property\n",
    "    def number(self):\n",
    "        return (self.__number)"
   ]
  },
  {
   "cell_type": "code",
   "execution_count": 11,
   "id": "8d3c4669",
   "metadata": {},
   "outputs": [],
   "source": [
    "Oxygen = Element('Oxygen','O','16')"
   ]
  },
  {
   "cell_type": "code",
   "execution_count": 12,
   "id": "31651317",
   "metadata": {},
   "outputs": [
    {
     "data": {
      "text/plain": [
       "'Oxygen'"
      ]
     },
     "execution_count": 12,
     "metadata": {},
     "output_type": "execute_result"
    }
   ],
   "source": [
    "Oxygen.name"
   ]
  },
  {
   "cell_type": "code",
   "execution_count": 13,
   "id": "1a0577f9",
   "metadata": {},
   "outputs": [
    {
     "data": {
      "text/plain": [
       "'O'"
      ]
     },
     "execution_count": 13,
     "metadata": {},
     "output_type": "execute_result"
    }
   ],
   "source": [
    "Oxygen.symbol"
   ]
  },
  {
   "cell_type": "code",
   "execution_count": 14,
   "id": "3c540931",
   "metadata": {},
   "outputs": [
    {
     "data": {
      "text/plain": [
       "'16'"
      ]
     },
     "execution_count": 14,
     "metadata": {},
     "output_type": "execute_result"
    }
   ],
   "source": [
    "Oxygen.number"
   ]
  },
  {
   "cell_type": "markdown",
   "id": "4d370f83",
   "metadata": {},
   "source": [
    "**9. Define three classes: Bear, Rabbit, and Octothorpe. For each, define only one method: eats(). This should return 'berries' (Bear), 'clover' (Rabbit), or 'campers' (Octothorpe). Create one object from each and print what it eats.**\n",
    "\n",
    "**Answer-**"
   ]
  },
  {
   "cell_type": "code",
   "execution_count": 15,
   "id": "d64fe8ae",
   "metadata": {},
   "outputs": [],
   "source": [
    "class Bear():\n",
    "    def eats():\n",
    "        return ('berries')\n",
    "    \n",
    "class Rabbit():\n",
    "    def eats():\n",
    "        return ('clover')\n",
    "    \n",
    "class Octothorpe():\n",
    "    def eats():\n",
    "        return ('campers')"
   ]
  },
  {
   "cell_type": "code",
   "execution_count": 16,
   "id": "711574d6",
   "metadata": {},
   "outputs": [
    {
     "data": {
      "text/plain": [
       "'berries'"
      ]
     },
     "execution_count": 16,
     "metadata": {},
     "output_type": "execute_result"
    }
   ],
   "source": [
    "Animal1 = Bear\n",
    "Animal1.eats()"
   ]
  },
  {
   "cell_type": "code",
   "execution_count": 17,
   "id": "0ea1f39a",
   "metadata": {},
   "outputs": [
    {
     "data": {
      "text/plain": [
       "'clover'"
      ]
     },
     "execution_count": 17,
     "metadata": {},
     "output_type": "execute_result"
    }
   ],
   "source": [
    "Animal2 = Rabbit\n",
    "Animal2.eats()"
   ]
  },
  {
   "cell_type": "code",
   "execution_count": 18,
   "id": "044c77e8",
   "metadata": {},
   "outputs": [
    {
     "data": {
      "text/plain": [
       "'campers'"
      ]
     },
     "execution_count": 18,
     "metadata": {},
     "output_type": "execute_result"
    }
   ],
   "source": [
    "Animal3 = Octothorpe\n",
    "Animal3.eats()"
   ]
  },
  {
   "cell_type": "markdown",
   "id": "ae604e1a",
   "metadata": {},
   "source": [
    "**10. Define these classes: Laser, Claw, and SmartPhone. Each has only one method: does(). This returns 'disintegrate' (Laser), 'crush' (Claw), or 'ring' (SmartPhone). Then, define the class Robot that has one instance (object) of each of these. Define a does() method for the Robot that prints what its component objects do.**\n",
    "\n",
    "**Answer-**"
   ]
  },
  {
   "cell_type": "code",
   "execution_count": 19,
   "id": "27fdd627",
   "metadata": {},
   "outputs": [],
   "source": [
    "class Laser:\n",
    "    def does(self):\n",
    "        return ('disintegrate')\n",
    "    \n",
    "class Claw:\n",
    "    def does(self):\n",
    "        return ('crush')\n",
    "    \n",
    "class SmartPhone:\n",
    "    def does(self):\n",
    "        return ('ring')\n",
    "    \n",
    "    \n",
    "class Robot:\n",
    "    def __init__(self):\n",
    "        self.laser = Laser()\n",
    "        self.claw = Claw()\n",
    "        self.smartphone = SmartPhone()\n",
    "    def does(self):\n",
    "        return (f'Laser:{self.laser.does()}, Claw:{self.claw.does()}, Smartphone:{self.smartphone.does()}')"
   ]
  },
  {
   "cell_type": "code",
   "execution_count": 20,
   "id": "558b6b5d",
   "metadata": {},
   "outputs": [
    {
     "name": "stdout",
     "output_type": "stream",
     "text": [
      "Laser:disintegrate, Claw:crush, Smartphone:ring\n"
     ]
    }
   ],
   "source": [
    "r = Robot()\n",
    "print(r.does())"
   ]
  }
 ],
 "metadata": {
  "kernelspec": {
   "display_name": "Python 3 (ipykernel)",
   "language": "python",
   "name": "python3"
  },
  "language_info": {
   "codemirror_mode": {
    "name": "ipython",
    "version": 3
   },
   "file_extension": ".py",
   "mimetype": "text/x-python",
   "name": "python",
   "nbconvert_exporter": "python",
   "pygments_lexer": "ipython3",
   "version": "3.9.12"
  }
 },
 "nbformat": 4,
 "nbformat_minor": 5
}
