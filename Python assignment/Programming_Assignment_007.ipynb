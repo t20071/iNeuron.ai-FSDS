{
 "cells": [
  {
   "cell_type": "markdown",
   "id": "cc32fc9d",
   "metadata": {},
   "source": [
    "# Programming_Assignment_007\n",
    "[sharadpardhe08@gmail.com](link)"
   ]
  },
  {
   "cell_type": "markdown",
   "id": "8240842c",
   "metadata": {},
   "source": [
    "**1.\tWrite a Python Program to find sum of array?              \n",
    "Answer-**\n",
    "> 1st method"
   ]
  },
  {
   "cell_type": "code",
   "execution_count": 1,
   "id": "ee1be1ad",
   "metadata": {},
   "outputs": [
    {
     "data": {
      "text/plain": [
       "21"
      ]
     },
     "execution_count": 1,
     "metadata": {},
     "output_type": "execute_result"
    }
   ],
   "source": [
    "# using loop\n",
    "l = [1,2,3,4,5,6]\n",
    "sum = 0\n",
    "for i in l:\n",
    "    sum = sum + i\n",
    "sum"
   ]
  },
  {
   "cell_type": "markdown",
   "id": "b9fc3ea3",
   "metadata": {},
   "source": [
    "> using numpy"
   ]
  },
  {
   "cell_type": "code",
   "execution_count": 2,
   "id": "1afe4ca8",
   "metadata": {},
   "outputs": [
    {
     "data": {
      "text/plain": [
       "21"
      ]
     },
     "execution_count": 2,
     "metadata": {},
     "output_type": "execute_result"
    }
   ],
   "source": [
    "import numpy as np\n",
    "l = [1,2,3,4,5,6]\n",
    "np.sum(l) #summation of all element"
   ]
  },
  {
   "cell_type": "code",
   "execution_count": 3,
   "id": "cd333746",
   "metadata": {},
   "outputs": [
    {
     "data": {
      "text/plain": [
       "array([[  1,   2,   4,   5],\n",
       "       [  2,   3,   4,   5],\n",
       "       [  1,   2,   3, 100]])"
      ]
     },
     "execution_count": 3,
     "metadata": {},
     "output_type": "execute_result"
    }
   ],
   "source": [
    "import numpy as np\n",
    "arr = np.array([[1,2,4,5],[2,3,4,5],[1,2,3,100]])\n",
    "arr"
   ]
  },
  {
   "cell_type": "code",
   "execution_count": 4,
   "id": "c31b9e01",
   "metadata": {},
   "outputs": [
    {
     "data": {
      "text/plain": [
       "array([ 12,  14, 106])"
      ]
     },
     "execution_count": 4,
     "metadata": {},
     "output_type": "execute_result"
    }
   ],
   "source": [
    "np.sum(arr,axis = 1) # column wise summation"
   ]
  },
  {
   "cell_type": "code",
   "execution_count": 5,
   "id": "0ec81be0",
   "metadata": {},
   "outputs": [
    {
     "data": {
      "text/plain": [
       "array([  4,   7,  11, 110])"
      ]
     },
     "execution_count": 5,
     "metadata": {},
     "output_type": "execute_result"
    }
   ],
   "source": [
    "np.sum(arr,axis = 0) # row wise summation"
   ]
  },
  {
   "cell_type": "markdown",
   "id": "a336ce25",
   "metadata": {},
   "source": [
    "**2.\tWrite a Python Program to find largest element in an array?                  \n",
    "Answer-**\n",
    "> first method"
   ]
  },
  {
   "cell_type": "code",
   "execution_count": 6,
   "id": "5b1a9220",
   "metadata": {},
   "outputs": [
    {
     "data": {
      "text/plain": [
       "433"
      ]
     },
     "execution_count": 6,
     "metadata": {},
     "output_type": "execute_result"
    }
   ],
   "source": [
    "l = [2,2,433,5,235,35,23]\n",
    "max = l[0]\n",
    "for i in range(1,len(l)):\n",
    "    if l[i] > max:\n",
    "        max = l[i]\n",
    "max"
   ]
  },
  {
   "cell_type": "markdown",
   "id": "5bdac264",
   "metadata": {},
   "source": [
    "> using numpy"
   ]
  },
  {
   "cell_type": "code",
   "execution_count": 7,
   "id": "f8480670",
   "metadata": {},
   "outputs": [
    {
     "data": {
      "text/plain": [
       "433"
      ]
     },
     "execution_count": 7,
     "metadata": {},
     "output_type": "execute_result"
    }
   ],
   "source": [
    "np.max(l)"
   ]
  },
  {
   "cell_type": "markdown",
   "id": "d1e2a535",
   "metadata": {},
   "source": [
    "**3.\tWrite a Python Program for array rotation?            \n",
    "Answer-**"
   ]
  },
  {
   "cell_type": "code",
   "execution_count": 8,
   "id": "9ae5df0a",
   "metadata": {},
   "outputs": [
    {
     "name": "stdout",
     "output_type": "stream",
     "text": [
      "Rotation by how many place: 4\n",
      "Array after rotation: [235, 35, 23, 2, 2, 433, 5]\n"
     ]
    }
   ],
   "source": [
    "rotation = int(input('Rotation by how many place: '))\n",
    "arr = [2,2,433,5,235,35,23]\n",
    "temp = []\n",
    "i = 0 \n",
    "\n",
    "while i < rotation:\n",
    "    temp.append(arr[i])\n",
    "    i = i+1\n",
    "    \n",
    "i = 0\n",
    "while rotation < len(arr):\n",
    "    arr[i] = arr[rotation]\n",
    "    i = i+1\n",
    "    rotation = rotation + 1\n",
    "    \n",
    "arr = arr[:i] + temp\n",
    "print(f'Array after rotation: {arr}' )"
   ]
  },
  {
   "cell_type": "markdown",
   "id": "62a29b26",
   "metadata": {},
   "source": [
    "**4.\tWrite a Python Program to Split the array and add the first part to the end?            \n",
    "Answer-**"
   ]
  },
  {
   "cell_type": "code",
   "execution_count": 9,
   "id": "d08d0306",
   "metadata": {},
   "outputs": [
    {
     "name": "stdout",
     "output_type": "stream",
     "text": [
      "original arry: [2, 2, 433, 5, 235, 35, 23]\n",
      "part_1 [2, 2, 433, 5]\n",
      "part_2 [235, 35, 23]\n",
      "New array after split [235, 35, 23, 2, 2, 433, 5]\n"
     ]
    }
   ],
   "source": [
    "arr = [2,2,433,5,235,35,23]\n",
    "print(f'original arry: {arr}')\n",
    "\n",
    "part = ((len(arr))//2)\n",
    "\n",
    "part_1 = arr[:part+1]\n",
    "print(f'part_1 {part_1}')\n",
    "\n",
    "part_2 = arr[part+1:]\n",
    "print(f'part_2 {part_2}')\n",
    "\n",
    "new_arr = part_2 + part_1\n",
    "print(f'New array after split {new_arr}')"
   ]
  },
  {
   "cell_type": "markdown",
   "id": "c8b8324d",
   "metadata": {},
   "source": [
    "**5.\tWrite a Python Program to check if given array is Monotonic?              \n",
    "Answer-**          \n",
    "An array is monotonic if it is either monotone increasing or monotone decreasing. An array A is monotone increasing if for all i <= j, A[i] <= A[j]. "
   ]
  },
  {
   "cell_type": "code",
   "execution_count": 10,
   "id": "52297f50",
   "metadata": {},
   "outputs": [
    {
     "name": "stdout",
     "output_type": "stream",
     "text": [
      "True\n"
     ]
    }
   ],
   "source": [
    "def check_monotonic(arr):\n",
    "    x, y = [], []\n",
    "    x.extend(arr)\n",
    "    y.extend(arr)\n",
    "    x.sort()\n",
    "    y.sort(reverse=True)\n",
    "    if(x == arr or y == arr):\n",
    "        return True\n",
    "    return False\n",
    " \n",
    "arr = [10, 8, 6, 5,4,3,2]\n",
    "print(check_monotonic(arr))"
   ]
  }
 ],
 "metadata": {
  "kernelspec": {
   "display_name": "Python 3 (ipykernel)",
   "language": "python",
   "name": "python3"
  },
  "language_info": {
   "codemirror_mode": {
    "name": "ipython",
    "version": 3
   },
   "file_extension": ".py",
   "mimetype": "text/x-python",
   "name": "python",
   "nbconvert_exporter": "python",
   "pygments_lexer": "ipython3",
   "version": "3.9.12"
  }
 },
 "nbformat": 4,
 "nbformat_minor": 5
}
