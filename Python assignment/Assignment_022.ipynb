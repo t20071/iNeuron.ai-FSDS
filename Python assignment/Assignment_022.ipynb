{
 "cells": [
  {
   "cell_type": "markdown",
   "id": "62483a75",
   "metadata": {},
   "source": [
    "# Assignment_022\n",
    "**Saturday, 26 November 2022**     \n",
    "[sharadpardhe08@gmail.com](link)"
   ]
  },
  {
   "cell_type": "markdown",
   "id": "93583669",
   "metadata": {},
   "source": [
    "> **1. What is the result of the code, and explain?**\n",
    "``` JSON\n",
    "X = 'iNeuron'\n",
    "def func():\n",
    "        print(X)\n",
    "func()\n",
    "```\n",
    "> **Answer-**"
   ]
  },
  {
   "cell_type": "code",
   "execution_count": 1,
   "id": "7a278d89",
   "metadata": {},
   "outputs": [
    {
     "name": "stdout",
     "output_type": "stream",
     "text": [
      "iNeuron\n"
     ]
    }
   ],
   "source": [
    "X = 'iNeuron'   # defining the variable 'X'\n",
    "def func():     # defing the function 'func()'\n",
    "    print(X)\n",
    "func()          # calling the function"
   ]
  },
  {
   "cell_type": "markdown",
   "id": "11098902",
   "metadata": {},
   "source": [
    ">**2. What is the result of the code, and explain?**\n",
    "\n",
    "``` JSON\n",
    "X = 'iNeuron'\n",
    "def func():\n",
    "    X = 'NI!'\n",
    "func()\n",
    "print(X)\n",
    "```\n",
    "\n",
    "> **Answer-**   iNeuron"
   ]
  },
  {
   "cell_type": "code",
   "execution_count": 2,
   "id": "bbb6687f",
   "metadata": {},
   "outputs": [
    {
     "name": "stdout",
     "output_type": "stream",
     "text": [
      "iNeuron\n"
     ]
    }
   ],
   "source": [
    "X = 'iNeuron'  # global scope  variable 'X'\n",
    "def func():    # defing the function 'func()'\n",
    "    X = 'NI!'  # local scope  variable 'X'\n",
    "\n",
    "func()         # calling the function and it will store the local scope  variable 'X'\n",
    "\n",
    "print(X)  # it will call  global scope  variable 'X'"
   ]
  },
  {
   "cell_type": "markdown",
   "id": "721588d2",
   "metadata": {},
   "source": [
    ">**3. What does this code print, and why?**\n",
    "\n",
    "``` JSON\n",
    "X = 'iNeuron'\n",
    "def func():\n",
    "    X = 'NI'\n",
    "    print(X)\n",
    "\n",
    "func()\n",
    "print(X)\n",
    "```\n",
    "> **Answer-**     \n",
    "NI    \n",
    "iNeuron"
   ]
  },
  {
   "cell_type": "code",
   "execution_count": 3,
   "id": "2bd19def",
   "metadata": {},
   "outputs": [
    {
     "name": "stdout",
     "output_type": "stream",
     "text": [
      "NI\n",
      "iNeuron\n"
     ]
    }
   ],
   "source": [
    "X = 'iNeuron'\n",
    "def func():\n",
    "    X = 'NI'\n",
    "    print(X)\n",
    "\n",
    "func()\n",
    "print(X)"
   ]
  },
  {
   "cell_type": "markdown",
   "id": "1e3d18ed",
   "metadata": {},
   "source": [
    "when calling the function ```func()``` , it will print the local scope variable ```X= 'NI'``` because it define inside the fucntion ```func()```. \n",
    "\n",
    "and when passing the ```X``` inside the ```print``` function, it will print the global scope variable ```X= 'iNeuron'```."
   ]
  },
  {
   "cell_type": "markdown",
   "id": "6ab67b3b",
   "metadata": {},
   "source": [
    "> **4. What output does this code produce? Why?**\n",
    "\n",
    "``` JSON\n",
    "X = 'iNeuron'\n",
    "def func():\n",
    "    global X\n",
    "    X = 'NI'\n",
    "\n",
    "func()\n",
    "print(X)\n",
    "```\n",
    "> **Answer-**    \n",
    "The output will be ```NI``` because ```global``` keyword will convert local scope variable to global scope variable."
   ]
  },
  {
   "cell_type": "code",
   "execution_count": 4,
   "id": "d7a36306",
   "metadata": {},
   "outputs": [
    {
     "name": "stdout",
     "output_type": "stream",
     "text": [
      "NI\n"
     ]
    }
   ],
   "source": [
    "X = 'iNeuron'\n",
    "def func():\n",
    "    global X\n",
    "    X = 'NI'\n",
    "\n",
    "func()\n",
    "print(X)"
   ]
  },
  {
   "cell_type": "markdown",
   "id": "9978baad",
   "metadata": {},
   "source": [
    "> **5. What about this code—what’s the output, and why?**\n",
    "\n",
    "``` JSON \n",
    "X = 'iNeuron'\n",
    "def func():\n",
    "    X = 'NI'\n",
    "    def nested():\n",
    "        print(X)\n",
    "\n",
    "nested()\n",
    "func()\n",
    "X\n",
    "```\n",
    "> **Answer-** \n",
    "NameError - because function ```nested()``` is defined in local scope and will not be able to call it.\n"
   ]
  },
  {
   "cell_type": "code",
   "execution_count": 5,
   "id": "560590db",
   "metadata": {},
   "outputs": [
    {
     "ename": "NameError",
     "evalue": "name 'nested' is not defined",
     "output_type": "error",
     "traceback": [
      "\u001b[1;31m---------------------------------------------------------------------------\u001b[0m",
      "\u001b[1;31mNameError\u001b[0m                                 Traceback (most recent call last)",
      "Input \u001b[1;32mIn [5]\u001b[0m, in \u001b[0;36m<cell line: 7>\u001b[1;34m()\u001b[0m\n\u001b[0;32m      4\u001b[0m     \u001b[38;5;28;01mdef\u001b[39;00m \u001b[38;5;21mnested\u001b[39m():\n\u001b[0;32m      5\u001b[0m         \u001b[38;5;28mprint\u001b[39m(X)\n\u001b[1;32m----> 7\u001b[0m \u001b[43mnested\u001b[49m()\n\u001b[0;32m      8\u001b[0m func()\n\u001b[0;32m      9\u001b[0m X\n",
      "\u001b[1;31mNameError\u001b[0m: name 'nested' is not defined"
     ]
    }
   ],
   "source": [
    "X = 'iNeuron'\n",
    "def func():\n",
    "    X = 'NI'\n",
    "    def nested():\n",
    "        print(X)\n",
    "\n",
    "nested()\n",
    "func()\n",
    "X"
   ]
  },
  {
   "cell_type": "markdown",
   "id": "3401a037",
   "metadata": {},
   "source": [
    "> **6. How about this code: what is its output in Python 3, and explain?**\n",
    "\n",
    "``` JSON\n",
    "def func():\n",
    "    X = 'NI'\n",
    "\n",
    "    def nested():\n",
    "        nonlocal X\n",
    "        X = 'Spam'\n",
    "\n",
    "nested()\n",
    "print(X)\n",
    "func()\n",
    "```\n",
    "> **Answer-** \n",
    "NameError - because function ```nested()``` is defined in local scope and will not be able to call it.\n"
   ]
  },
  {
   "cell_type": "code",
   "execution_count": 2,
   "id": "a26f57d6",
   "metadata": {},
   "outputs": [
    {
     "ename": "NameError",
     "evalue": "name 'nested' is not defined",
     "output_type": "error",
     "traceback": [
      "\u001b[1;31m---------------------------------------------------------------------------\u001b[0m",
      "\u001b[1;31mNameError\u001b[0m                                 Traceback (most recent call last)",
      "Input \u001b[1;32mIn [2]\u001b[0m, in \u001b[0;36m<cell line: 6>\u001b[1;34m()\u001b[0m\n\u001b[0;32m      4\u001b[0m         \u001b[38;5;28;01mnonlocal\u001b[39;00m X\n\u001b[0;32m      5\u001b[0m         X \u001b[38;5;241m=\u001b[39m \u001b[38;5;124m'\u001b[39m\u001b[38;5;124mSpam\u001b[39m\u001b[38;5;124m'\u001b[39m\n\u001b[1;32m----> 6\u001b[0m \u001b[43mnested\u001b[49m()\n\u001b[0;32m      7\u001b[0m \u001b[38;5;28mprint\u001b[39m(X)\n\u001b[0;32m      8\u001b[0m func()\n",
      "\u001b[1;31mNameError\u001b[0m: name 'nested' is not defined"
     ]
    }
   ],
   "source": [
    "def func():\n",
    "    X = 'NI'\n",
    "    def nested():\n",
    "        nonlocal X\n",
    "        X = 'Spam'\n",
    "nested()\n",
    "print(X)\n",
    "func()"
   ]
  }
 ],
 "metadata": {
  "kernelspec": {
   "display_name": "Python 3 (ipykernel)",
   "language": "python",
   "name": "python3"
  },
  "language_info": {
   "codemirror_mode": {
    "name": "ipython",
    "version": 3
   },
   "file_extension": ".py",
   "mimetype": "text/x-python",
   "name": "python",
   "nbconvert_exporter": "python",
   "pygments_lexer": "ipython3",
   "version": "3.9.12"
  }
 },
 "nbformat": 4,
 "nbformat_minor": 5
}
