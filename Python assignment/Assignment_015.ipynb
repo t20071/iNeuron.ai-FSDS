{
 "cells": [
  {
   "cell_type": "markdown",
   "id": "c05dd8c3",
   "metadata": {},
   "source": [
    "# Assignment_015   \n",
    " \n",
    " **Friday, 18 November 2022**   \n",
    " [sharadpardhe08@gmail.com](link)"
   ]
  },
  {
   "cell_type": "markdown",
   "id": "16c4a10a",
   "metadata": {},
   "source": [
    "**1.How many seconds are in an hour? Use the interactive interpreter as a calculator and multiply the number of seconds in a minute (60) by the number of minutes in an hour (also 60).**        \n",
    "**Answer -**  "
   ]
  },
  {
   "cell_type": "code",
   "execution_count": 1,
   "id": "a93ee8c7",
   "metadata": {},
   "outputs": [
    {
     "name": "stdout",
     "output_type": "stream",
     "text": [
      "Number of second in an hour is -  3600\n"
     ]
    }
   ],
   "source": [
    "seconds_per_minute = 60\n",
    "minutes_per_hour = 60\n",
    "seconds_per_hour1 = (seconds_per_minute)*(minutes_per_hour)\n",
    "print('Number of second in an hour is - ',seconds_per_hour1)"
   ]
  },
  {
   "cell_type": "markdown",
   "id": "2908f3aa",
   "metadata": {},
   "source": [
    "**2. Assign the result from the previous task (seconds in an hour) to a variable called seconds_per_hour.**       \n",
    "**Answer-** "
   ]
  },
  {
   "cell_type": "code",
   "execution_count": 2,
   "id": "20473986",
   "metadata": {},
   "outputs": [],
   "source": [
    "seconds_per_hour = seconds_per_hour1"
   ]
  },
  {
   "cell_type": "code",
   "execution_count": 3,
   "id": "dd5b911f",
   "metadata": {},
   "outputs": [
    {
     "data": {
      "text/plain": [
       "True"
      ]
     },
     "execution_count": 3,
     "metadata": {},
     "output_type": "execute_result"
    }
   ],
   "source": [
    "id(seconds_per_hour) == id(seconds_per_hour1)"
   ]
  },
  {
   "cell_type": "markdown",
   "id": "0efa6c8a",
   "metadata": {},
   "source": [
    "**3. How many seconds do you think there are in a day? Make use of the variables seconds per hour and minutes per hour.**   \n",
    "**Answer**"
   ]
  },
  {
   "cell_type": "code",
   "execution_count": 4,
   "id": "3bcdabbb",
   "metadata": {},
   "outputs": [
    {
     "name": "stdout",
     "output_type": "stream",
     "text": [
      "Seconds in a day is - 86400\n"
     ]
    }
   ],
   "source": [
    "seconds_per_minute = 60\n",
    "minutes_per_hour = 60\n",
    "hours_per_day = 24\n",
    "seconds_per_day = (seconds_per_minute)*(minutes_per_hour)*(hours_per_day)\n",
    "print(\"Seconds in a day is -\",seconds_per_day)"
   ]
  },
  {
   "cell_type": "markdown",
   "id": "00ed1aad",
   "metadata": {},
   "source": [
    "**4. Calculate seconds per day again, but this time save the result in a variable called seconds_per_day?**       \n",
    "**Answer**"
   ]
  },
  {
   "cell_type": "code",
   "execution_count": 5,
   "id": "cd2742b2",
   "metadata": {},
   "outputs": [
    {
     "data": {
      "text/plain": [
       "86400"
      ]
     },
     "execution_count": 5,
     "metadata": {},
     "output_type": "execute_result"
    }
   ],
   "source": [
    "seconds_per_day = (seconds_per_minute)*(minutes_per_hour)*(hours_per_day)\n",
    "seconds_per_day"
   ]
  },
  {
   "cell_type": "markdown",
   "id": "52692ee0",
   "metadata": {},
   "source": [
    "**5. Divide seconds_per_day by seconds_per_hour. Use floating-point (/) division.**          \n",
    "**Answer**"
   ]
  },
  {
   "cell_type": "code",
   "execution_count": 6,
   "id": "9efeec51",
   "metadata": {},
   "outputs": [
    {
     "data": {
      "text/plain": [
       "24.0"
      ]
     },
     "execution_count": 6,
     "metadata": {},
     "output_type": "execute_result"
    }
   ],
   "source": [
    "seconds_per_day / seconds_per_hour"
   ]
  },
  {
   "cell_type": "markdown",
   "id": "932b9c36",
   "metadata": {},
   "source": [
    "**6. Divide seconds_per_day by seconds_per_hour, using integer (//) division. Did this number agree with the floating-point value from the previous question, aside from the final .0?**    \n",
    "**Answer**   \n",
    " yes"
   ]
  },
  {
   "cell_type": "code",
   "execution_count": 7,
   "id": "b939a463",
   "metadata": {},
   "outputs": [
    {
     "data": {
      "text/plain": [
       "24"
      ]
     },
     "execution_count": 7,
     "metadata": {},
     "output_type": "execute_result"
    }
   ],
   "source": [
    "seconds_per_day // seconds_per_hour"
   ]
  },
  {
   "cell_type": "markdown",
   "id": "2ff44082",
   "metadata": {},
   "source": [
    "**7. Write a generator, genPrimes, that returns the sequence of prime numbers on successive calls to its next() method: 2, 3, 5, 7, 11, ...**\n"
   ]
  },
  {
   "cell_type": "code",
   "execution_count": 8,
   "id": "55e698a6",
   "metadata": {},
   "outputs": [
    {
     "name": "stdout",
     "output_type": "stream",
     "text": [
      "11  is a prime number\n",
      "None\n",
      "4  is not a prime number\n",
      "None\n"
     ]
    }
   ],
   "source": [
    "def genPrimes(num):\n",
    "    if num >1:\n",
    "        for i in range(2,num-1):\n",
    "            if num%i ==0:\n",
    "                print(num, ' is not a prime number')\n",
    "                break\n",
    "        else:\n",
    "            print(num, ' is a prime number')\n",
    "    else:\n",
    "        print(num, ' is not a prime number')\n",
    "        \n",
    "print(genPrimes(11))\n",
    "print(genPrimes(4))"
   ]
  }
 ],
 "metadata": {
  "kernelspec": {
   "display_name": "Python 3 (ipykernel)",
   "language": "python",
   "name": "python3"
  },
  "language_info": {
   "codemirror_mode": {
    "name": "ipython",
    "version": 3
   },
   "file_extension": ".py",
   "mimetype": "text/x-python",
   "name": "python",
   "nbconvert_exporter": "python",
   "pygments_lexer": "ipython3",
   "version": "3.9.12"
  }
 },
 "nbformat": 4,
 "nbformat_minor": 5
}
