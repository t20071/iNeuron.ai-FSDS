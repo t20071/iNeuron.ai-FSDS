{
 "cells": [
  {
   "cell_type": "markdown",
   "id": "9b54433f",
   "metadata": {},
   "source": [
    "# Programming Assignment_10\n",
    "**Friday, 23 December 2022**               \n",
    "[sharadpardhe08@gmail.com](link)"
   ]
  },
  {
   "cell_type": "markdown",
   "id": "e620a023",
   "metadata": {},
   "source": [
    "**1. Write a Python program to find sum of elements in list?**\n",
    "\n",
    "**Answer-**"
   ]
  },
  {
   "cell_type": "code",
   "execution_count": 1,
   "id": "caca39d0",
   "metadata": {},
   "outputs": [
    {
     "name": "stdout",
     "output_type": "stream",
     "text": [
      "21\n"
     ]
    }
   ],
   "source": [
    "# 1st method\n",
    "l = [1,2,3,4,5,6]\n",
    "summ = 0\n",
    "for i in l:\n",
    "    summ += i\n",
    "print(summ)"
   ]
  },
  {
   "cell_type": "code",
   "execution_count": 2,
   "id": "03dde003",
   "metadata": {},
   "outputs": [
    {
     "data": {
      "text/plain": [
       "21"
      ]
     },
     "execution_count": 2,
     "metadata": {},
     "output_type": "execute_result"
    }
   ],
   "source": [
    "# 2nd method \n",
    "from functools import reduce\n",
    "reduce(lambda i,j:i+j,l)"
   ]
  },
  {
   "cell_type": "markdown",
   "id": "03d75335",
   "metadata": {},
   "source": [
    "**2. Write a Python program to Multiply all numbers in the list?**         \n",
    "\n",
    "**Answer-**"
   ]
  },
  {
   "cell_type": "code",
   "execution_count": 3,
   "id": "cdc5018a",
   "metadata": {},
   "outputs": [
    {
     "name": "stdout",
     "output_type": "stream",
     "text": [
      "720\n"
     ]
    }
   ],
   "source": [
    "# 1st method\n",
    "l = [1,2,3,4,5,6]\n",
    "mult = 1\n",
    "for i in l:\n",
    "    mult = mult*i\n",
    "print(mult)"
   ]
  },
  {
   "cell_type": "code",
   "execution_count": 4,
   "id": "549f85fa",
   "metadata": {},
   "outputs": [
    {
     "data": {
      "text/plain": [
       "720"
      ]
     },
     "execution_count": 4,
     "metadata": {},
     "output_type": "execute_result"
    }
   ],
   "source": [
    "# 2nd method\n",
    "from functools import reduce\n",
    "reduce(lambda i,j:i*j,l)"
   ]
  },
  {
   "cell_type": "markdown",
   "id": "b799d9a9",
   "metadata": {},
   "source": [
    "**3. Write a Python program to find smallest number in a list?**\n",
    "\n",
    "**Answer-**"
   ]
  },
  {
   "cell_type": "code",
   "execution_count": 5,
   "id": "0a7e00e3",
   "metadata": {},
   "outputs": [
    {
     "name": "stdout",
     "output_type": "stream",
     "text": [
      "0\n"
     ]
    }
   ],
   "source": [
    "# 1st method\n",
    "l = [3,2,7,4,8,0]\n",
    "l_small = l[0]\n",
    "for i in l:\n",
    "    if l_small > i:\n",
    "        l_small = i\n",
    "print(l_small)"
   ]
  },
  {
   "cell_type": "markdown",
   "id": "e0012d44",
   "metadata": {},
   "source": [
    "**4. Write a Python program to find largest number in a list?**\n",
    "\n",
    "**Answer-**"
   ]
  },
  {
   "cell_type": "code",
   "execution_count": 6,
   "id": "0ed6b1db",
   "metadata": {},
   "outputs": [
    {
     "name": "stdout",
     "output_type": "stream",
     "text": [
      "100\n"
     ]
    }
   ],
   "source": [
    "l = [3,2,7,4,8,100]\n",
    "l_large = l[0]\n",
    "for i in l:\n",
    "    if l_large < i:\n",
    "        l_large = i\n",
    "print(l_large)"
   ]
  },
  {
   "cell_type": "markdown",
   "id": "bc1c6871",
   "metadata": {},
   "source": [
    "**5. Write a Python program to find second largest number in a list?**\n",
    "\n",
    "**Answer-**"
   ]
  },
  {
   "cell_type": "code",
   "execution_count": 7,
   "id": "a8a61116",
   "metadata": {},
   "outputs": [
    {
     "name": "stdout",
     "output_type": "stream",
     "text": [
      "The sec max element is:  55\n"
     ]
    }
   ],
   "source": [
    "l = [3,2,55,4,8,100]\n",
    "mx = max(l[0],l[1])\n",
    "sec_large = min(l[0],l[1])\n",
    "\n",
    "for i in range(2,len(l)):\n",
    "    if l[i] > mx:\n",
    "        sec_large = mx\n",
    "        mx = l[i]\n",
    "    elif l[i] > sec_large and l[i] != mx:\n",
    "        sec_large = l[i]\n",
    "    elif mx == sec_large and l[i] != sec_large:\n",
    "        sec_large = l[i]\n",
    "        \n",
    "print('The sec max element is: ', sec_large)"
   ]
  },
  {
   "cell_type": "markdown",
   "id": "ee1ff48c",
   "metadata": {},
   "source": [
    "**6. Write a Python program to find N largest elements from a list?**\n",
    "\n",
    "**Answer-**"
   ]
  },
  {
   "cell_type": "code",
   "execution_count": 8,
   "id": "ebcb68ea",
   "metadata": {},
   "outputs": [
    {
     "name": "stdout",
     "output_type": "stream",
     "text": [
      "[100, 55]\n"
     ]
    }
   ],
   "source": [
    "def N_large(lst,N):\n",
    "    \n",
    "    N_lst = []\n",
    "    \n",
    "    for i in range(N):\n",
    "        mx = lst[0]\n",
    "        \n",
    "        for j in range(1,len(lst)):\n",
    "            if mx < lst[j]:\n",
    "                mx = lst[j]\n",
    "                \n",
    "        lst.remove(mx)\n",
    "        N_lst.append(mx)\n",
    "        \n",
    "    print(N_lst)\n",
    "    \n",
    "l = [3,2,55,4,8,100]\n",
    "n = 2\n",
    "N_large(lst = l,N= n)"
   ]
  },
  {
   "cell_type": "markdown",
   "id": "264a852b",
   "metadata": {},
   "source": [
    "**7. Write a Python program to print even numbers in a list?**\n",
    "\n",
    "**Answer-**"
   ]
  },
  {
   "cell_type": "code",
   "execution_count": 9,
   "id": "4760ad7c",
   "metadata": {},
   "outputs": [
    {
     "data": {
      "text/plain": [
       "[0, 2, 4, 6, 8, 10, 12, 14, 16, 18, 20]"
      ]
     },
     "execution_count": 9,
     "metadata": {},
     "output_type": "execute_result"
    }
   ],
   "source": [
    "l = list(range(20+1))\n",
    "l_even = []\n",
    "for i in l:\n",
    "    if i%2 == 0:\n",
    "        l_even.append(i)\n",
    "l_even"
   ]
  },
  {
   "cell_type": "markdown",
   "id": "845d5305",
   "metadata": {},
   "source": [
    "**8. Write a Python program to print odd numbers in a List?**\n",
    "\n",
    "**Answer-**"
   ]
  },
  {
   "cell_type": "code",
   "execution_count": 10,
   "id": "768f6fa1",
   "metadata": {},
   "outputs": [
    {
     "data": {
      "text/plain": [
       "[1, 3, 5, 7, 9, 11, 13, 15, 17, 19]"
      ]
     },
     "execution_count": 10,
     "metadata": {},
     "output_type": "execute_result"
    }
   ],
   "source": [
    "l = list(range(20+1))\n",
    "l_odd = []\n",
    "for i in l:\n",
    "    if i%2 != 0:\n",
    "        l_odd.append(i)\n",
    "l_odd"
   ]
  },
  {
   "cell_type": "markdown",
   "id": "2ef821f3",
   "metadata": {},
   "source": [
    "**9. Write a Python program to Remove empty List from List?**\n",
    "\n",
    "**Answer-**"
   ]
  },
  {
   "cell_type": "code",
   "execution_count": 11,
   "id": "4f72e9c9",
   "metadata": {},
   "outputs": [
    {
     "name": "stdout",
     "output_type": "stream",
     "text": [
      "list before removing the empty list:  [1, 2, 3, 4, [], [3, 4, 5, 6], [], 3, 56, 754, []]\n",
      "list after removing the empty list:   [1, 2, 3, 4, [3, 4, 5, 6], 3, 56, 754]\n"
     ]
    }
   ],
   "source": [
    "l = [1,2,3,4,[],[3,4,5,6],[],3,56,754,[]]\n",
    "print('list before removing the empty list: ', l)\n",
    "new_lst = [ele for ele in l if ele != []]\n",
    "print('list after removing the empty list:  ', new_lst)"
   ]
  },
  {
   "cell_type": "markdown",
   "id": "282641e2",
   "metadata": {},
   "source": [
    "**10. Write a Python program to Cloning or Copying a list?**\n",
    "\n",
    "**Answer-**"
   ]
  },
  {
   "cell_type": "code",
   "execution_count": 12,
   "id": "a6dc062a",
   "metadata": {},
   "outputs": [
    {
     "data": {
      "text/plain": [
       "[3, 2, 55, 4, 8, 100]"
      ]
     },
     "execution_count": 12,
     "metadata": {},
     "output_type": "execute_result"
    }
   ],
   "source": [
    "l = [3,2,55,4,8,100]\n",
    "import copy \n",
    "new_lst = copy.copy(l)\n",
    "new_lst"
   ]
  },
  {
   "cell_type": "markdown",
   "id": "29039a84",
   "metadata": {},
   "source": [
    "**11. Write a Python program to Count occurrences of an element in a list?**\n",
    "\n",
    "**Answer-**"
   ]
  },
  {
   "cell_type": "code",
   "execution_count": 13,
   "id": "4943856a",
   "metadata": {},
   "outputs": [
    {
     "data": {
      "text/plain": [
       "3      4\n",
       "2      4\n",
       "100    3\n",
       "55     2\n",
       "4      2\n",
       "8      2\n",
       "555    1\n",
       "dtype: int64"
      ]
     },
     "execution_count": 13,
     "metadata": {},
     "output_type": "execute_result"
    }
   ],
   "source": [
    "import pandas as pd \n",
    "l = [3,2,3,55,3,2,4,100,2,2,100,55,4,8,3,8,100,555]\n",
    "new = pd.Series(l).value_counts()\n",
    "new"
   ]
  }
 ],
 "metadata": {
  "kernelspec": {
   "display_name": "Python 3 (ipykernel)",
   "language": "python",
   "name": "python3"
  },
  "language_info": {
   "codemirror_mode": {
    "name": "ipython",
    "version": 3
   },
   "file_extension": ".py",
   "mimetype": "text/x-python",
   "name": "python",
   "nbconvert_exporter": "python",
   "pygments_lexer": "ipython3",
   "version": "3.9.12"
  }
 },
 "nbformat": 4,
 "nbformat_minor": 5
}
