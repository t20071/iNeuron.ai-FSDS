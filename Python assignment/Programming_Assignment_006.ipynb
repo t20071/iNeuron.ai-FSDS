{
 "cells": [
  {
   "cell_type": "markdown",
   "id": "f76bf7cc",
   "metadata": {},
   "source": [
    "# Programming_Assingnment_006\n",
    "**Thursday, 15 December 2022**            \n",
    "[sharadpardhe08@gmail.com](link)  "
   ]
  },
  {
   "cell_type": "markdown",
   "id": "aa269f0c",
   "metadata": {},
   "source": [
    "**1.\tWrite a Python Program to Display Fibonacci Sequence Using Recursion?         \n",
    "Answer-**         \n",
    "[source- khan academy](https://www.youtube.com/watch?v=zg-ddPbzcKM)"
   ]
  },
  {
   "cell_type": "code",
   "execution_count": 1,
   "id": "71931f07",
   "metadata": {},
   "outputs": [
    {
     "name": "stdout",
     "output_type": "stream",
     "text": [
      "Enter number of terms you want to generate:10\n",
      "fibonacci sequence: \n",
      "0\n",
      "1\n",
      "1\n",
      "2\n",
      "3\n",
      "5\n",
      "8\n",
      "13\n",
      "21\n",
      "34\n"
     ]
    }
   ],
   "source": [
    "def fib(n):\n",
    "    '''fib function used to print the fabonacci sequence of given n terms'''\n",
    "    if n == 0 or n == 1:    # base case \n",
    "        return n\n",
    "    else:\n",
    "        return fib(n-1) + fib(n-2)  # recursive case\n",
    "    \n",
    "n = int(input('Enter number of terms you want to generate:')) \n",
    "print('fibonacci sequence: ')\n",
    "for i in range(n):\n",
    "    print(fib(i))"
   ]
  },
  {
   "cell_type": "markdown",
   "id": "e6b48457",
   "metadata": {},
   "source": [
    "**2.\tWrite a Python Program to Find Factorial of Number Using Recursion?            \n",
    "Answer-**              \n",
    "[source](https://www.youtube.com/watch?v=F3yi5jmU-s4)"
   ]
  },
  {
   "cell_type": "code",
   "execution_count": 2,
   "id": "8ff23478",
   "metadata": {},
   "outputs": [
    {
     "name": "stdout",
     "output_type": "stream",
     "text": [
      "Enter the number: 5\n",
      "The factorial of 5 is 120\n"
     ]
    }
   ],
   "source": [
    "def fac(n):\n",
    "    '''This function is used to find the factorial of given number n '''\n",
    "    if n < 2:\n",
    "        return n\n",
    "    else:\n",
    "        return n*fac(n-1)\n",
    "    \n",
    "n = int(input('Enter the number: '))\n",
    "res = fac(n) #calling the function\n",
    "print(f'The factorial of {n} is {res}')"
   ]
  },
  {
   "cell_type": "markdown",
   "id": "e14a3acd",
   "metadata": {},
   "source": [
    "**3.\tWrite a Python Program to calculate your Body Mass Index?           \n",
    "Answer-**\n"
   ]
  },
  {
   "cell_type": "code",
   "execution_count": 3,
   "id": "e5258130",
   "metadata": {},
   "outputs": [
    {
     "name": "stdout",
     "output_type": "stream",
     "text": [
      "Enter weight in kg: 65\n",
      "Enter height in meter: 1.67\n",
      "BMI of a person whose weight and height are 65.0 1.67 respectively : 23.306680053067517\n"
     ]
    }
   ],
   "source": [
    "def BMI(weight,height):\n",
    "    '''BMI function is used to calculate the Body mass index of a person'''\n",
    "    return weight/(height**2)\n",
    "weight = float(input('Enter weight in kg: '))\n",
    "height = float(input('Enter height in meter: '))\n",
    "res = BMI(weight,height)\n",
    "print(f'BMI of a person whose weight and height are {weight} {height} respectively : {res}')"
   ]
  },
  {
   "cell_type": "markdown",
   "id": "8e8fd2c9",
   "metadata": {},
   "source": [
    "**4.\tWrite a Python Program to calculate the natural logarithm of any number?            \n",
    "Answer-**"
   ]
  },
  {
   "cell_type": "code",
   "execution_count": 13,
   "id": "41d635d4",
   "metadata": {},
   "outputs": [
    {
     "name": "stdout",
     "output_type": "stream",
     "text": [
      "Enter a number: 10\n",
      "Natuaral log of 10.0 is: 2.302585092994046\n"
     ]
    }
   ],
   "source": [
    "import math\n",
    "def logn(num):\n",
    "    '''This function evaluate the natural log of given number n and base of natural log is e = 2.718281828459045'''\n",
    "    if num <= 0:\n",
    "        return f'log is not defined for given number {num}'\n",
    "    elif num == 1:\n",
    "        return 0\n",
    "    else:\n",
    "        return math.log(num)\n",
    "    \n",
    "num = float(input('Enter a number: '))\n",
    "res = logn(num)\n",
    "print(f'Natuaral log of {num} is: {res}') "
   ]
  },
  {
   "cell_type": "markdown",
   "id": "9d6b4941",
   "metadata": {},
   "source": [
    "**5.\tWrite a Python Program for cube sum of first n natural numbers?          \n",
    "Answer-**           \n",
    "natural numbers - {1,2,3,4,...........}"
   ]
  },
  {
   "cell_type": "code",
   "execution_count": 5,
   "id": "4439818b",
   "metadata": {},
   "outputs": [
    {
     "name": "stdout",
     "output_type": "stream",
     "text": [
      "Enter the number of terms: 10\n",
      "The cube sum of 1st 10 natural number is: 3025\n"
     ]
    }
   ],
   "source": [
    "def N_cube(n):\n",
    "    '''Return the cube sum of first n natural numbers'''\n",
    "    sum = 0\n",
    "    for i in range(1,n+1):\n",
    "        sum = sum + i**3\n",
    "    return sum\n",
    "\n",
    "num = int(input('Enter the number of terms: '))\n",
    "res = N_cube(num)\n",
    "print(f'The cube sum of 1st {num} natural number is: {res}')"
   ]
  }
 ],
 "metadata": {
  "kernelspec": {
   "display_name": "Python 3 (ipykernel)",
   "language": "python",
   "name": "python3"
  },
  "language_info": {
   "codemirror_mode": {
    "name": "ipython",
    "version": 3
   },
   "file_extension": ".py",
   "mimetype": "text/x-python",
   "name": "python",
   "nbconvert_exporter": "python",
   "pygments_lexer": "ipython3",
   "version": "3.9.12"
  }
 },
 "nbformat": 4,
 "nbformat_minor": 5
}
