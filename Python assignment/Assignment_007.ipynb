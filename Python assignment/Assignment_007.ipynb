{
 "cells": [
  {
   "cell_type": "markdown",
   "id": "e0adda9c",
   "metadata": {},
   "source": [
    "# Assignment_7\n",
    "**Date Tuesday, 8 November 2022**"
   ]
  },
  {
   "cell_type": "markdown",
   "id": "1131d4c2",
   "metadata": {},
   "source": [
    "**1. What is the name of the feature responsible for generating Regex objects?**  \n",
    "\n",
    "**Answer-**"
   ]
  },
  {
   "cell_type": "code",
   "execution_count": 1,
   "id": "f1553d96",
   "metadata": {},
   "outputs": [
    {
     "data": {
      "text/plain": [
       "re.compile(r'\\d\\d\\d-\\d\\d\\d-\\d\\d\\d\\d', re.UNICODE)"
      ]
     },
     "execution_count": 1,
     "metadata": {},
     "output_type": "execute_result"
    }
   ],
   "source": [
    "import re # it will import the regular expressin library\n",
    "re.compile(r'\\d\\d\\d-\\d\\d\\d-\\d\\d\\d\\d') # it will create the regex object \n",
    "# r - is raw string \n",
    "# '\\d\\d\\d-\\d\\d\\d-\\d\\d\\d\\d' - This is the pattern "
   ]
  },
  {
   "cell_type": "markdown",
   "id": "e948b538",
   "metadata": {},
   "source": [
    "**2. Why do raw strings often appear in Regex objects?**\n",
    "\n",
    "**Answer-**  \n",
    "Raw string used in regex object so that backslash ```\\``` will not escape."
   ]
  },
  {
   "cell_type": "markdown",
   "id": "279cb398",
   "metadata": {},
   "source": [
    "**3. What is the return value of the search() method?**\n",
    "\n",
    "**Answer-**\n",
    "\n",
    "The search() method will return the first match object."
   ]
  },
  {
   "cell_type": "markdown",
   "id": "22f88e70",
   "metadata": {},
   "source": [
    "**4. From a Match item, how do you get the actual strings that match the pattern?**\n",
    "\n",
    "**Answer-**\n",
    "\n",
    "The group() method will return the matched object."
   ]
  },
  {
   "cell_type": "code",
   "execution_count": 2,
   "id": "445f17dd",
   "metadata": {},
   "outputs": [
    {
     "name": "stdout",
     "output_type": "stream",
     "text": [
      "415\n",
      "555-4242\n",
      "415-555-4242\n"
     ]
    }
   ],
   "source": [
    "import re\n",
    "pattern = re.compile(r'(\\d\\d\\d)-(\\d\\d\\d-\\d\\d\\d\\d)')\n",
    "a = pattern.search('Call me at 415-555-4242 tomorrow.')\n",
    "print(a.group(1))\n",
    "print(a.group(2))\n",
    "print(a.group(0))"
   ]
  },
  {
   "cell_type": "markdown",
   "id": "a20821e4",
   "metadata": {},
   "source": [
    "**5. In the regex which created from the r'(\\d\\d\\d)-(\\d\\d\\d-\\d\\d\\d\\d)', what does group zero cover? Group 2? Group 1?**\n",
    "\n",
    "**Answer-**\n",
    "\n",
    "group(0) cover entire match.   \n",
    "group(1) cover the first set of parenthesis.    \n",
    "group(2) cover the second set of parenthesis."
   ]
  },
  {
   "cell_type": "code",
   "execution_count": 3,
   "id": "93fafca3",
   "metadata": {},
   "outputs": [
    {
     "name": "stdout",
     "output_type": "stream",
     "text": [
      "Result of group(0)- (415) 555-4242 \n",
      "\n",
      "Result of group(1)- (415) \n",
      "\n",
      "Result of group(2)- 555-4242 \n",
      "\n"
     ]
    }
   ],
   "source": [
    "pattern = re.compile(r'(\\(\\d\\d\\d\\)) (\\d\\d\\d-\\d\\d\\d\\d)')\n",
    "match= pattern.search('Call me at (415) 555-4242 tomorrow.')\n",
    "print('Result of group(0)-', match.group(0), '\\n')\n",
    "print('Result of group(1)-', match.group(1), '\\n')\n",
    "print('Result of group(2)-', match.group(2), '\\n')"
   ]
  },
  {
   "cell_type": "markdown",
   "id": "406fe4e3",
   "metadata": {},
   "source": [
    "**6. In standard expression syntax, parentheses and intervals have specific meanings. How \n",
    "can you tell a regex that you want it to fit real parentheses and periods?**\n",
    "\n",
    "**Answer-**\n",
    "\n",
    "Periods and parenthesis can be escape by backslash characters: "
   ]
  },
  {
   "cell_type": "code",
   "execution_count": 4,
   "id": "99eefd38",
   "metadata": {},
   "outputs": [],
   "source": [
    "# \\., \\(, and \\)."
   ]
  },
  {
   "cell_type": "markdown",
   "id": "29392d04",
   "metadata": {},
   "source": [
    "**7. The findall() method returns a string list or a list of string tuples. What causes it to return one of the two options?**\n",
    "\n",
    "**Answer-**  \n",
    "\n",
    "If regex has no group than list of string return and if regex has group than a list of tuples of strings is returned."
   ]
  },
  {
   "cell_type": "code",
   "execution_count": 5,
   "id": "5a647de9",
   "metadata": {},
   "outputs": [
    {
     "name": "stdout",
     "output_type": "stream",
     "text": [
      "No group in regex- ['o', 'o', 'o', 'e', 'a', 'a', 'o', 'o', 'A', 'O', 'O'] \n",
      "\n",
      "Group in regex- [('(415)', '555-4242'), ('(415)', '555-4242')]\n"
     ]
    }
   ],
   "source": [
    "# in this patten there is no group\n",
    "pattern = re.compile(r'[aAeEoOiIuU]')\n",
    "match_string = 'RoboCop eats baby food. BABY FOOD.'\n",
    "match = pattern.findall(match_string)\n",
    "print('No group in regex-', match, '\\n')\n",
    "\n",
    "# in this pattern there is group \n",
    "pattern = re.compile(r'(\\(\\d\\d\\d\\)) (\\d\\d\\d-\\d\\d\\d\\d)')\n",
    "match= pattern.findall('Call me at (415) 555-4242 tomorrow. (415) 555-4242 is my office number.')\n",
    "print('Group in regex-', match)"
   ]
  },
  {
   "cell_type": "markdown",
   "id": "f2e5fb70",
   "metadata": {},
   "source": [
    "**8. In standard expressions, what does the | character mean?**\n",
    "\n",
    "**Answer-**  \n",
    "The ```|``` character is called a pipe.  \n",
    "It matches the either or between two character."
   ]
  },
  {
   "cell_type": "code",
   "execution_count": 6,
   "id": "70f2295d",
   "metadata": {},
   "outputs": [
    {
     "name": "stdout",
     "output_type": "stream",
     "text": [
      "match_1 - IIT \n",
      "\n",
      "match_2 - NIT \n",
      "\n",
      "match - ['IIT', 'NIT']\n"
     ]
    }
   ],
   "source": [
    "pattern = re.compile(r'IIT|NIT')\n",
    "match_1 = pattern.search('IIT and NIT')\n",
    "match_2 = pattern.search('NIT and IIT')\n",
    "print('match_1 -', match_1.group(),'\\n')\n",
    "print('match_2 -',match_2.group(),'\\n')\n",
    "match = pattern.findall('IIT and NIT')\n",
    "print('match -', match)"
   ]
  },
  {
   "cell_type": "markdown",
   "id": "d00b82e0",
   "metadata": {},
   "source": [
    "**9. In regular expressions, what does the ```?``` character stand for?**\n",
    "\n",
    "**Answer-**\n",
    "\n",
    "The ```?``` character is optional character. If object exist, then it matchs otherwise leave."
   ]
  },
  {
   "cell_type": "code",
   "execution_count": 7,
   "id": "512a1565",
   "metadata": {},
   "outputs": [
    {
     "name": "stdout",
     "output_type": "stream",
     "text": [
      "Match_1 result- Superwoman \n",
      "\n",
      "Match_2 result- Superman\n"
     ]
    }
   ],
   "source": [
    "pattern = re.compile(r'Super(wo)?man')\n",
    "Match_1 = pattern.search('The adventure of Superwoman')\n",
    "Match_2 = pattern.search('The adventure of Superman')\n",
    "print('Match_1 result-',Match_1.group(),'\\n')\n",
    "print('Match_2 result-',Match_2.group())"
   ]
  },
  {
   "cell_type": "markdown",
   "id": "7b091968",
   "metadata": {},
   "source": [
    "**10.In regular expressions, what is the difference between the + and * characters?**\n",
    "\n",
    "**Answer-**  \n",
    "\n",
    "```*``` characrers matches the zero or more.   \n",
    "```+``` characrers matches the one or more.   "
   ]
  },
  {
   "cell_type": "code",
   "execution_count": 8,
   "id": "ac04fc92",
   "metadata": {},
   "outputs": [
    {
     "name": "stdout",
     "output_type": "stream",
     "text": [
      "Match_1 result- Superwoman \n",
      "\n",
      "Match_2 result- Superman \n",
      "\n",
      "Match_3 result- Superwowowoman\n"
     ]
    }
   ],
   "source": [
    "# * example\n",
    "pattern = re.compile(r'Super(wo)*man')\n",
    "Match_1 = pattern.search('The adventure of Superwoman')\n",
    "Match_2 = pattern.search('The adventure of Superman')\n",
    "Match_3 = pattern.search('The adventure of Superwowowoman')\n",
    "print('Match_1 result-',Match_1.group(),'\\n')\n",
    "print('Match_2 result-',Match_2.group(),'\\n')\n",
    "print('Match_3 result-',Match_3.group())"
   ]
  },
  {
   "cell_type": "code",
   "execution_count": 9,
   "id": "d85b026e",
   "metadata": {},
   "outputs": [
    {
     "data": {
      "text/plain": [
       "['12 drummers',\n",
       " '11 pipers',\n",
       " '10 lords',\n",
       " '9 ladies',\n",
       " '8 maids',\n",
       " '7 swans',\n",
       " '6 geese',\n",
       " '5 rings',\n",
       " '4 birds',\n",
       " '3 hens',\n",
       " '2 doves',\n",
       " '1 partridge']"
      ]
     },
     "execution_count": 9,
     "metadata": {},
     "output_type": "execute_result"
    }
   ],
   "source": [
    "# + example\n",
    "pattern = re.compile(r'\\d+\\s\\w+') \n",
    "string = '12 drummers, 11 pipers, 10 lords, 9 ladies, 8 maids, 7 swans, 6 geese, 5 rings, 4 birds, 3 hens, 2 doves, 1 partridge'\n",
    "pattern.findall(string)"
   ]
  },
  {
   "cell_type": "markdown",
   "id": "b66231e7",
   "metadata": {},
   "source": [
    "**11. What is the difference between {4} and {4,5} in regular expression?**\n",
    "\n",
    "**Answer-**\n",
    "\n",
    "```{4}``` exactly match the 4 instance of preceding group.   \n",
    "```{4,5}``` match the 4 to 5 instance of preceding group. "
   ]
  },
  {
   "cell_type": "code",
   "execution_count": 10,
   "id": "f75ebbdf",
   "metadata": {},
   "outputs": [
    {
     "name": "stdout",
     "output_type": "stream",
     "text": [
      "Phone number found:  [('415', '555-4242'), ('415', '555-4242')]\n"
     ]
    }
   ],
   "source": [
    "import re \n",
    "pattern = re.compile(r'(\\d{3})-(\\d{3}-\\d{4,5})')\n",
    "message = 'Call me at 415-555-4242 tomorrow. 415-555-4242 is my office number.'\n",
    "phoneNum = pattern.findall(message)\n",
    "print('Phone number found: ',phoneNum)"
   ]
  },
  {
   "cell_type": "markdown",
   "id": "f3bcf101",
   "metadata": {},
   "source": [
    "**12. What do you mean by the \\d, \\w, and \\s shorthand character classes signify in regular expressions?**\n",
    "\n",
    "**Answer-**\n",
    "\n",
    "```\\d``` Any numeric digit from 0 to 9.       \n",
    "```\\w``` Any letter, numeric digit, or the underscore character.    \n",
    "```\\s``` Any space, tab, or newline character.    "
   ]
  },
  {
   "cell_type": "markdown",
   "id": "64988d7d",
   "metadata": {},
   "source": [
    "**13. What do means by \\D, \\W, and \\S shorthand character classes signify in regular expressions?**\n",
    "\n",
    "**Answer-**\n",
    "\n",
    "```\\D``` Any character that is not a numeric digit from 0 to 9. \\D is equivalent to [^0-9].    \n",
    "```\\W``` Any character that is not a letter, numeric digit, or the underscore character.  \n",
    "```\\S``` Any character that is not a space, tab, or newline. [link](https://realpython.com/regex-python/) "
   ]
  },
  {
   "cell_type": "markdown",
   "id": "defc860a",
   "metadata": {},
   "source": [
    "**14. What is the difference between ```.*``` and ```.*?``` ?**\n",
    "\n",
    "```.*``` It will try to match all the text as much as possible.   \n",
    "```.*?``` To match any and all text in a non-greedy fashion."
   ]
  },
  {
   "cell_type": "code",
   "execution_count": 11,
   "id": "07109d44",
   "metadata": {},
   "outputs": [
    {
     "name": "stdout",
     "output_type": "stream",
     "text": [
      "Non greedy Result - <To serve man> \n",
      "\n",
      "greedy Result - <To serve man> for dinner.>\n"
     ]
    }
   ],
   "source": [
    "pattern1 = re.compile(r'<.*?>')\n",
    "match1 = pattern1.search('<To serve man> for dinner.>')\n",
    "print('Non greedy Result -',match1.group(), '\\n')\n",
    "\n",
    "\n",
    "pattern2 = re.compile(r'<.*>')\n",
    "match2= pattern2.search('<To serve man> for dinner.>')\n",
    "print('greedy Result -', match2.group())"
   ]
  },
  {
   "cell_type": "markdown",
   "id": "ef304dc1",
   "metadata": {},
   "source": [
    "**15. What is the syntax for matching both numbers and lowercase letters with a character class?**\n",
    "\n",
    "**Answer-**\n",
    "\n",
    "Either [0-9a-z] or [a-z0-9]"
   ]
  },
  {
   "cell_type": "code",
   "execution_count": 12,
   "id": "da7b4904",
   "metadata": {},
   "outputs": [
    {
     "name": "stdout",
     "output_type": "stream",
     "text": [
      "['o', 'b', 'o', 'o', 'p', 'e', 'a', 't', 's', 'b', 'a', 'b', 'y', 'f', 'o', 'o', 'd', '8', '9', '8', '9', '8']\n"
     ]
    }
   ],
   "source": [
    "pattern = re.compile(r'[0-9a-z]')\n",
    "match_string = 'RoboCop eats baby food. 89898 BABY FOOD.'\n",
    "match = pattern.findall(match_string)\n",
    "print(match)"
   ]
  },
  {
   "cell_type": "markdown",
   "id": "fb340dff",
   "metadata": {},
   "source": [
    "**16. How to make a regular expression case-insensitive?**\n",
    "\n",
    "**Answer-**  \n",
    "\n",
    "```re.I or re.IGNORECASE``` will make regular expression case-insensitive."
   ]
  },
  {
   "cell_type": "code",
   "execution_count": 13,
   "id": "ede584c9",
   "metadata": {},
   "outputs": [
    {
     "data": {
      "text/plain": [
       "['SHaRAD']"
      ]
     },
     "execution_count": 13,
     "metadata": {},
     "output_type": "execute_result"
    }
   ],
   "source": [
    "pattern = re.compile(r'sharad', re.I)\n",
    "match = pattern.findall('My name is SHaRAD')\n",
    "match"
   ]
  },
  {
   "cell_type": "markdown",
   "id": "62b14b29",
   "metadata": {},
   "source": [
    "**17. What does the ```.``` character normally match? What does it match if ```re.DOTALL``` is passed as 2nd argument in ```re.compile()```?**\n",
    "\n",
    "**Answer-**  \n",
    "\n",
    "The . character normally matches any character except the newline character.   \n",
    "If re.DOTALL is passed as the second argument to re.compile(), then the dot will also match newline characters."
   ]
  },
  {
   "cell_type": "code",
   "execution_count": 14,
   "id": "1763571c",
   "metadata": {},
   "outputs": [
    {
     "name": "stdout",
     "output_type": "stream",
     "text": [
      "['k', 'j', 'g', 'k', ' ', 'j', 'd', 'f', 'g', 'o', 'e', 'd', 'r', ' ', 'r', 'h', 'g', 'o', 'e', 'u', 'i', ' ', 'r', 'o', 'g', ' ', 'e', 'r', 'j', 'i', 'u', 'g', ' ', '\\n', 'h', 'f', 'h', 'h', 'u', 'e', 'r', 'h', 'u', 'h', ' ', 'r', 'g', ' ', 'e', 'r', 'y', ' ', ' ', 't']\n"
     ]
    }
   ],
   "source": [
    "pattern = re.compile(r'.', re.DOTALL)\n",
    "match = pattern.findall(\"kjgk jdfgoedr rhgoeui rog erjiug \\nhfhhuerhuh rg ery  t\")\n",
    "print(match)"
   ]
  },
  {
   "cell_type": "markdown",
   "id": "73dd82b4",
   "metadata": {},
   "source": [
    "**18. If ```numRegex = re.compile(r'\\d+')```, what will ```numRegex.sub('X', '11 drummers, 10 pipers, five rings, 4 hen')``` return?**\n",
    "\n",
    "**Answer-** "
   ]
  },
  {
   "cell_type": "code",
   "execution_count": 15,
   "id": "5f670f80",
   "metadata": {},
   "outputs": [
    {
     "data": {
      "text/plain": [
       "'X drummers, X pipers, five rings, X hen'"
      ]
     },
     "execution_count": 15,
     "metadata": {},
     "output_type": "execute_result"
    }
   ],
   "source": [
    "numRegex = re.compile(r'\\d+')\n",
    "numRegex.sub('X', '11 drummers, 10 pipers, five rings, 4 hen')"
   ]
  },
  {
   "cell_type": "markdown",
   "id": "73cf2ae4",
   "metadata": {},
   "source": [
    "**19. What does passing re.VERBOSE as the 2nd argument to re.compile() allow to do?**\n",
    "\n",
    "**Answer-** \n",
    "\n",
    "The re.VERBOSE argument allows you to add whitespace and comments to the string passed to re.compile()."
   ]
  },
  {
   "cell_type": "code",
   "execution_count": 16,
   "id": "d838c0ae",
   "metadata": {},
   "outputs": [],
   "source": [
    "phoneRegex = re.compile(r'''(\n",
    "    (\\d{3}|\\(\\d{3}\\))?                # area code\n",
    "    (\\s|-|\\.)?                        # separator\n",
    "    (\\d{3})                           # first 3 digits\n",
    "    (\\s|-|\\.)                         # separator\n",
    "    (\\d{4})                           # last 4 digits\n",
    "    (\\s*(ext|x|ext.)\\s*(\\d{2,5}))?    # extension\n",
    "    )''', re.VERBOSE)"
   ]
  },
  {
   "cell_type": "markdown",
   "id": "392143f2",
   "metadata": {},
   "source": [
    "**20. How would you write a regex that match a number with comma for every three digits? It must match the given following:**\n",
    "* '42'\n",
    "* '1,234'\n",
    "'6,368,745'  \n",
    "\n",
    "But not the following:\n",
    "* '12,34,567' (which has only two digits between the commas)\n",
    "* '1234' (which lacks commas)"
   ]
  },
  {
   "cell_type": "code",
   "execution_count": 17,
   "id": "a5f3dbe5",
   "metadata": {},
   "outputs": [],
   "source": [
    "pattern = re.compile(r'^\\d{1,3}(,\\d{3})*$')"
   ]
  },
  {
   "cell_type": "markdown",
   "id": "dd2cbc4f",
   "metadata": {},
   "source": [
    "**21. How would you write a regex that matches the full name of someone whose last name is Watanabe? You can assume that the first name that comes before it will always be one word that begins with a capital letter. The regex must match the following:** \n",
    "* 'Haruto Watanabe'\n",
    "* 'Alice Watanabe'\n",
    "* 'RoboCop Watanabe'  \n",
    "\n",
    "but not the following:\n",
    "* 'haruto Watanabe' (where the first name is not capitalized)\n",
    "* 'Mr. Watanabe' (where the preceding word has a nonletter character)\n",
    "* 'Watanabe' (which has no first name)\n",
    "* 'Haruto watanabe' (where Watanabe is not capitalized)"
   ]
  },
  {
   "cell_type": "code",
   "execution_count": 18,
   "id": "0b7f5b7c",
   "metadata": {},
   "outputs": [
    {
     "data": {
      "text/plain": [
       "re.compile(r'[A-Z][a-z]*\\sNakamoto', re.UNICODE)"
      ]
     },
     "execution_count": 18,
     "metadata": {},
     "output_type": "execute_result"
    }
   ],
   "source": [
    "re.compile(r'[A-Z][a-z]*\\sNakamoto')"
   ]
  },
  {
   "cell_type": "markdown",
   "id": "d896bc09",
   "metadata": {},
   "source": [
    "**22. How would you write a regex that matches a sentence where the first word is either Alice, Bob, or Carol; the second word is either eats, pets, or throws; the third word is apples, cats, or baseballs; and the sentence ends with a period? This regex should be case-insensitive. It must match the following:**\n",
    "* 'Alice eats apples.'\n",
    "* 'Bob pets cats.'\n",
    "* 'Carol throws baseballs.'\n",
    "* 'Alice throws Apples.'\n",
    "* 'BOB EATS CATS.'\n",
    "\n",
    "but not the following:\n",
    "* 'RoboCop eats apples.'\n",
    "* 'ALICE THROWS FOOTBALLS.'\n",
    "* 'Carol eats 7 cats.'\n"
   ]
  },
  {
   "cell_type": "code",
   "execution_count": 19,
   "id": "ef0919e0",
   "metadata": {},
   "outputs": [
    {
     "data": {
      "text/plain": [
       "re.compile(r'(Alice|Bob|Carol)\\s(eats|pets|throws)\\s(apples|cats|baseballs)\\.',\n",
       "           re.IGNORECASE|re.UNICODE)"
      ]
     },
     "execution_count": 19,
     "metadata": {},
     "output_type": "execute_result"
    }
   ],
   "source": [
    "re.compile(r'(Alice|Bob|Carol)\\s(eats|pets|throws)\\s(apples|cats|baseballs)\\.', re.IGNORECASE)"
   ]
  }
 ],
 "metadata": {
  "kernelspec": {
   "display_name": "Python 3 (ipykernel)",
   "language": "python",
   "name": "python3"
  },
  "language_info": {
   "codemirror_mode": {
    "name": "ipython",
    "version": 3
   },
   "file_extension": ".py",
   "mimetype": "text/x-python",
   "name": "python",
   "nbconvert_exporter": "python",
   "pygments_lexer": "ipython3",
   "version": "3.9.12"
  }
 },
 "nbformat": 4,
 "nbformat_minor": 5
}
