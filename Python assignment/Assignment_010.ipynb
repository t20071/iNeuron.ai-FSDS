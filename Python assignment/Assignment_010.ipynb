{
 "cells": [
  {
   "cell_type": "markdown",
   "id": "2cffab44",
   "metadata": {},
   "source": [
    "# Assignment_10  \n",
    "**Date 12 Nov 2022**"
   ]
  },
  {
   "cell_type": "markdown",
   "id": "a2a8e6e4",
   "metadata": {},
   "source": [
    "**1. How do you distinguish between shutil.copy() and shutil.copytree()?**\n",
    "\n",
    "**_Answer_**   \n",
    " \n",
    "```shutil.copy()```  It will copy  the single file.  \n",
    "```shutil.copytree()``` It will copy the entire folder."
   ]
  },
  {
   "cell_type": "markdown",
   "id": "19734662",
   "metadata": {},
   "source": [
    "**2. What function is used to rename files??**\n",
    "\n",
    "**_Answer_**   \n",
    "```shutil.move()``` function will use to rename as will as move the file."
   ]
  },
  {
   "cell_type": "markdown",
   "id": "71cc7f23",
   "metadata": {},
   "source": [
    "**3. What is the difference between the delete functions in the send2trash and shutil modules?**\n",
    "\n",
    "**_Answer_**   \n",
    "```send2trash()``` function will move the folder or the file to the trash or Recycle bin.  \n",
    "```shutil()``` function will permanently delete the folder or file."
   ]
  },
  {
   "cell_type": "markdown",
   "id": "d96a07fd",
   "metadata": {},
   "source": [
    "**4. ZipFile objects have a close() method just like File objects’ close() method. What ZipFile method is equivalent to File objects’ open() method?**\n",
    "\n",
    "**_Answer_**\n",
    "\n",
    "The ```zipfile.ZipFile()``` function is equivalent to the ```open()``` function; the first argument is the filename, and the second argument is the mode to open the ZIP file in (read, write, or append)."
   ]
  },
  {
   "cell_type": "markdown",
   "id": "c37fe287",
   "metadata": {},
   "source": [
    "**5. Create a programme that searches a folder tree for files with a certain file extension (such as .pdf or .jpg). Copy these files from whatever location they are in to a new folder.**\n",
    "\n",
    "**_Answer_** \n"
   ]
  },
  {
   "cell_type": "code",
   "execution_count": 3,
   "id": "08de1065",
   "metadata": {},
   "outputs": [
    {
     "name": "stdout",
     "output_type": "stream",
     "text": [
      "absolute filepath of the directoryC:\\Users\\HP\\1AI iNeuron\n",
      "extension txt\n",
      "destinationC:\\Users\\HP\\1AI iNeuron\\new\n",
      "copying finished txt copied from 1AI iNeuron to new\n"
     ]
    }
   ],
   "source": [
    "import os, shutil\n",
    "\n",
    "\n",
    "folder = input('absolute filepath of the directory')\n",
    "\n",
    "ext = input(\"extension \")\n",
    "\n",
    "destination = input(\"destination\")\n",
    "\n",
    "for folders, subfolders, filenames in os.walk(folder):  # os.walk(), walk through the directory tree\n",
    "\n",
    "        for filename in filenames:\n",
    "\n",
    "            if filename.endswith('{}'.format(ext)):\n",
    "                shutil.copy(os.path.join(folders, filename), destination)\n",
    "\n",
    "print('copying finished', ext,'copied from', os.path.basename(folder), 'to',os.path.basename(destination))"
   ]
  }
 ],
 "metadata": {
  "kernelspec": {
   "display_name": "Python 3 (ipykernel)",
   "language": "python",
   "name": "python3"
  },
  "language_info": {
   "codemirror_mode": {
    "name": "ipython",
    "version": 3
   },
   "file_extension": ".py",
   "mimetype": "text/x-python",
   "name": "python",
   "nbconvert_exporter": "python",
   "pygments_lexer": "ipython3",
   "version": "3.9.12"
  }
 },
 "nbformat": 4,
 "nbformat_minor": 5
}
