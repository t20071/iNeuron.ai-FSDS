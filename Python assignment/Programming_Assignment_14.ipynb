{
 "cells": [
  {
   "cell_type": "markdown",
   "id": "ed037c21",
   "metadata": {},
   "source": [
    "# Programming Assignment_14\n",
    "**Wednesday, 28 December 2022**          \n",
    "[sharadpardhe08@gmail.com](link)"
   ]
  },
  {
   "cell_type": "markdown",
   "id": "d51d2248",
   "metadata": {},
   "source": [
    "**Question 1:Define a class with a generator which can iterate the numbers, which are divisible by 7, between a given range 0 and n.**\n",
    "\n",
    "**Answer-**"
   ]
  },
  {
   "cell_type": "code",
   "execution_count": 23,
   "id": "8d7dfac3",
   "metadata": {},
   "outputs": [
    {
     "name": "stdout",
     "output_type": "stream",
     "text": [
      "<generator object Generator.divseven at 0x0000023C29D06F20> \n",
      "\n",
      "7,14,21,28,35,42,49,56,63,70,"
     ]
    }
   ],
   "source": [
    "class Generator():\n",
    "    '''class with a generator which can iterate the numbers, which are divisible by 7, between a given range 0 and n'''\n",
    "    \n",
    "    # define init method \n",
    "    def __init__(self,n):\n",
    "        self.n = n\n",
    "    \n",
    "    # define divseven method \n",
    "    def divseven(self): \n",
    "        for i in range(1,self.n+1):\n",
    "            if i%7 == 0:\n",
    "                yield i\n",
    "                \n",
    "object_7 =Generator(70)\n",
    "\n",
    "print(object_7.divseven(),\"\\n\")   # show the generator\n",
    "\n",
    "for i in object_7.divseven(): # iterate over each and every element \n",
    "    print(i,end = ',')"
   ]
  },
  {
   "cell_type": "markdown",
   "id": "395a32b0",
   "metadata": {},
   "source": [
    "**Question 2: Write a program to compute the frequency of the words from the input. The output should output after sorting the key alphanumerically.**\n",
    "\n",
    "> Suppose the following input is supplied to the program:     \n",
    "```New to Python or choosing between Python 2 and Python 3? Read Python 2 or Python 3.```               \n",
    "\n",
    "> Then, the output should be:\n",
    "``` json\n",
    "2:2    \n",
    "3.:1     \n",
    "3?:1    \n",
    "New:1  \n",
    "Python:5     \n",
    "Read:1      \n",
    "and:1        \n",
    "between:1      \n",
    "choosing:1       \n",
    "or:2       \n",
    "to:1          \n",
    "```"
   ]
  },
  {
   "cell_type": "code",
   "execution_count": 31,
   "id": "1dccbc3d",
   "metadata": {},
   "outputs": [
    {
     "name": "stdout",
     "output_type": "stream",
     "text": [
      "Enter the words: New to Python or choosing between Python 2 and Python 3? Read Python 2 or Python 3.\n"
     ]
    },
    {
     "data": {
      "text/plain": [
       "[('2', 2),\n",
       " ('3.', 1),\n",
       " ('3?', 1),\n",
       " ('New', 1),\n",
       " ('Python', 5),\n",
       " ('Read', 1),\n",
       " ('and', 1),\n",
       " ('between', 1),\n",
       " ('choosing', 1),\n",
       " ('or', 2),\n",
       " ('to', 1)]"
      ]
     },
     "execution_count": 31,
     "metadata": {},
     "output_type": "execute_result"
    }
   ],
   "source": [
    "# input the word \n",
    "words_list  = input('Enter the words: ').split(' ')\n",
    "\n",
    "# define a empty dict for storing the frequncy of the words\n",
    "dict_count = {}\n",
    "\n",
    "# iterate over every element in the list\n",
    "for i in words_list:\n",
    "    dict_count[i] = dict_count.get(i,0) + 1\n",
    "    \n",
    "# from collections import OrderedDict\n",
    "# new_dict = OrderedDict(sorted(dict_count.items()))\n",
    "# new_dict\n",
    "# for sorting the dict alphanumberic above code can be run\n",
    "\n",
    "sorted(dict_count.items())"
   ]
  },
  {
   "cell_type": "markdown",
   "id": "5db26412",
   "metadata": {},
   "source": [
    "**Question 3:Define a class Person and its two child classes: Male and Female. All classes have a method \"getGender\" which can print \"Male\" for Male class and \"Female\" for Female class.**\n",
    "\n",
    "**Answer-**\n"
   ]
  },
  {
   "cell_type": "code",
   "execution_count": 42,
   "id": "aa364d79",
   "metadata": {},
   "outputs": [],
   "source": [
    "# Defining the Parent class Person\n",
    "class Person(): \n",
    "    def getGender(self):\n",
    "        print('choose the gender')\n",
    "\n",
    "# child class 1 'Male'\n",
    "class Male(Person):\n",
    "    def getGender(self):\n",
    "        print('Male')\n",
    "\n",
    "# child class 2 'Female'\n",
    "class Female(Person):\n",
    "    def getGender(self):\n",
    "        print('Female')"
   ]
  },
  {
   "cell_type": "code",
   "execution_count": 43,
   "id": "c7afdd11",
   "metadata": {},
   "outputs": [
    {
     "name": "stdout",
     "output_type": "stream",
     "text": [
      "Male\n"
     ]
    }
   ],
   "source": [
    "M_object = Male()\n",
    "M_object.getGender()"
   ]
  },
  {
   "cell_type": "code",
   "execution_count": 44,
   "id": "e7ce3963",
   "metadata": {},
   "outputs": [
    {
     "name": "stdout",
     "output_type": "stream",
     "text": [
      "Female\n"
     ]
    }
   ],
   "source": [
    "F_object = Female()\n",
    "F_object.getGender()"
   ]
  },
  {
   "cell_type": "markdown",
   "id": "2fc60995",
   "metadata": {},
   "source": [
    "**Question 4:\n",
    "Please write a program to generate all sentences where subject is in [\"I\", \"You\"] and verb is in [\"Play\", \"Love\"] and the object is in [\"Hockey\",\"Football\"].**\n",
    "\n",
    "**Answer-**"
   ]
  },
  {
   "cell_type": "code",
   "execution_count": 54,
   "id": "4e5fdd33",
   "metadata": {},
   "outputs": [
    {
     "name": "stdout",
     "output_type": "stream",
     "text": [
      "All the sentences form sub,verb and obj are: \n",
      "\n",
      "1. I Play Hockey.\n",
      "\n",
      "2. I Play Football.\n",
      "\n",
      "3. I Love Hockey.\n",
      "\n",
      "4. I Love Football.\n",
      "\n",
      "5. You Play Hockey.\n",
      "\n",
      "6. You Play Football.\n",
      "\n",
      "7. You Love Hockey.\n",
      "\n",
      "8. You Love Football.\n",
      "\n"
     ]
    }
   ],
   "source": [
    "sub = [\"I\", \"You\"] \n",
    "verb = [\"Play\", \"Love\"]\n",
    "obj = [\"Hockey\",\"Football\"]\n",
    "\n",
    "print('All the sentences form sub,verb and obj are: \\n')\n",
    "count = 0\n",
    "for s in sub:\n",
    "    for v in verb:\n",
    "        for o in obj:\n",
    "            count +=1\n",
    "            print(f'{count}. {s} {v} {o}.\\n')"
   ]
  },
  {
   "cell_type": "markdown",
   "id": "bd1da634",
   "metadata": {},
   "source": [
    "**Question 5:\n",
    "Please write a program to compress and decompress the string \"hello world!hello world!hello world!hello world!\".**\n",
    "\n",
    "**Answer-**"
   ]
  },
  {
   "cell_type": "code",
   "execution_count": 60,
   "id": "0576f412",
   "metadata": {},
   "outputs": [
    {
     "name": "stdout",
     "output_type": "stream",
     "text": [
      "b'\\x1f\\x8b\\x08\\x00\\xea\\xd8\\xabc\\x02\\xff\\xcbH\\xcd\\xc9\\xc9W(\\xcf/\\xcaIQ\\xcc \\x82\\r\\x00\\xd3\\xe6\\xcf\\xae0\\x00\\x00\\x00' \n",
      "\n",
      "b'hello world!hello world!hello world!hello world!'\n"
     ]
    }
   ],
   "source": [
    "# import gzip and decompress\n",
    "import gzip\n",
    "s = b\"hello world!hello world!hello world!hello world!\"\n",
    "s = gzip.compress(s)\n",
    "print(s,'\\n')\n",
    "\n",
    "# using gzip.decompress(s) method\n",
    "t = gzip.decompress(s)\n",
    "print(t)"
   ]
  },
  {
   "cell_type": "code",
   "execution_count": 63,
   "id": "be5f79d7",
   "metadata": {},
   "outputs": [
    {
     "data": {
      "text/plain": [
       "68"
      ]
     },
     "execution_count": 63,
     "metadata": {},
     "output_type": "execute_result"
    }
   ],
   "source": [
    "import sys \n",
    "sys.getsizeof(s) "
   ]
  },
  {
   "cell_type": "code",
   "execution_count": 64,
   "id": "59cd510d",
   "metadata": {},
   "outputs": [
    {
     "data": {
      "text/plain": [
       "81"
      ]
     },
     "execution_count": 64,
     "metadata": {},
     "output_type": "execute_result"
    }
   ],
   "source": [
    "import sys \n",
    "sys.getsizeof(t) "
   ]
  },
  {
   "cell_type": "markdown",
   "id": "22421654",
   "metadata": {},
   "source": [
    "**Question 6:         \n",
    "Write a binary search function which searches an item in a sorted list. The function should return the index of element to be searched in the list.**\n",
    "\n",
    "**Answer-**"
   ]
  }
 ],
 "metadata": {
  "kernelspec": {
   "display_name": "Python 3 (ipykernel)",
   "language": "python",
   "name": "python3"
  },
  "language_info": {
   "codemirror_mode": {
    "name": "ipython",
    "version": 3
   },
   "file_extension": ".py",
   "mimetype": "text/x-python",
   "name": "python",
   "nbconvert_exporter": "python",
   "pygments_lexer": "ipython3",
   "version": "3.9.12"
  }
 },
 "nbformat": 4,
 "nbformat_minor": 5
}
