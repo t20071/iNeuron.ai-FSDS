{
 "cells": [
  {
   "cell_type": "markdown",
   "id": "626f8d4a",
   "metadata": {},
   "source": [
    "# Python_Advance_05\n",
    "**Thursday, 7 December, 2023**"
   ]
  },
  {
   "cell_type": "markdown",
   "id": "b445f159",
   "metadata": {},
   "source": [
    "**Q1. What is the meaning of multiple inheritance?**\n",
    "\n",
    "> Multiple inheritance refers to a programming language feature where a class can inherit attributes and methods from more than one parent class. In Python, a class can inherit from multiple classes by listing them in the class definition."
   ]
  },
  {
   "cell_type": "code",
   "execution_count": 1,
   "id": "996896d5",
   "metadata": {},
   "outputs": [
    {
     "name": "stdout",
     "output_type": "stream",
     "text": [
      "Method from Parents1\n",
      "Method from Parents2\n"
     ]
    }
   ],
   "source": [
    "class Parent1:\n",
    "    def method1(self):\n",
    "        print('Method from Parents1')\n",
    "        \n",
    "class Parent2:\n",
    "    def method2(self):\n",
    "        print('Method from Parents2')\n",
    "        \n",
    "class Child(Parent1,Parent2):\n",
    "    pass\n",
    "\n",
    "\n",
    "# create an instance of the child class\n",
    "child_instance = Child()\n",
    "\n",
    "\n",
    "# Accessing methods from both parent classes\n",
    "child_instance.method1()\n",
    "child_instance.method2()"
   ]
  },
  {
   "cell_type": "markdown",
   "id": "1aeae8ec",
   "metadata": {},
   "source": [
    "**Q2. What is the concept of delegation?**\n",
    "\n",
    "> Delegation is a design pattern where an object passes a task to another object to perform the task on its behalf. In Python, this is often achieved through composition or by creating an instance of another class within the current class"
   ]
  },
  {
   "cell_type": "code",
   "execution_count": 2,
   "id": "ea5eade7",
   "metadata": {},
   "outputs": [
    {
     "name": "stdout",
     "output_type": "stream",
     "text": [
      "Worker is working\n"
     ]
    }
   ],
   "source": [
    "class Worker:\n",
    "    def work(self):\n",
    "        print(\"Worker is working\")\n",
    "        \n",
    "class Manager:\n",
    "    def __init__(self,worker):\n",
    "        self.worker = worker\n",
    "    def delegate_work(self):\n",
    "        self.worker.work()\n",
    "        \n",
    "        \n",
    "# Creating instance \n",
    "worker_instance = Worker()\n",
    "manager_instance = Manager(worker_instance)\n",
    "\n",
    "# Delegating work from manager to worker\n",
    "manager_instance.delegate_work()"
   ]
  },
  {
   "cell_type": "markdown",
   "id": "02d9cdd8",
   "metadata": {},
   "source": [
    "**Q3. What is the concept of composition?**\n",
    "\n",
    "> Composition is a design principle where a class contains an object of another class, rather than inheriting from it. It allows for a more flexible and modular design."
   ]
  },
  {
   "cell_type": "code",
   "execution_count": 3,
   "id": "d8ba578a",
   "metadata": {},
   "outputs": [
    {
     "name": "stdout",
     "output_type": "stream",
     "text": [
      "Car is starting\n",
      "Engine started\n"
     ]
    }
   ],
   "source": [
    "class Engine:\n",
    "    def start(self):\n",
    "        print(\"Engine started\")\n",
    "\n",
    "class Car:\n",
    "    def __init__(self):\n",
    "        self.engine = Engine()\n",
    "\n",
    "    def start(self):\n",
    "        print(\"Car is starting\")\n",
    "        self.engine.start()\n",
    "\n",
    "# Creating an instance of Car class\n",
    "car_instance = Car()\n",
    "\n",
    "# Starting the car (delegating to the Engine)\n",
    "car_instance.start()"
   ]
  },
  {
   "cell_type": "markdown",
   "id": "ce6a84d1",
   "metadata": {},
   "source": [
    "**Q4. What are bound methods and how do we use them?**\n",
    "\n",
    "> A bound method is a method that is bound to an instance of a class. It includes the instance as its first parameter, typically named self. In Python, when you access a method of an instance, it becomes a bound method."
   ]
  },
  {
   "cell_type": "code",
   "execution_count": 4,
   "id": "0a927008",
   "metadata": {},
   "outputs": [
    {
     "name": "stdout",
     "output_type": "stream",
     "text": [
      "Hello from MyClass\n"
     ]
    }
   ],
   "source": [
    "class MyClass:\n",
    "    def my_method(self):\n",
    "        print(\"Hello from MyClass\")\n",
    "\n",
    "# Creating an instance of MyClass\n",
    "obj = MyClass()\n",
    "\n",
    "# Accessing the bound method\n",
    "obj.my_method()"
   ]
  },
  {
   "cell_type": "markdown",
   "id": "eeb85ec7",
   "metadata": {},
   "source": [
    "**Q5. What is the purpose of pseudo private attributes?**\n",
    "```json\n",
    "Pseudo private attributes in Python are intended to be private within a class, but they are not truly private. They are achieved by prefixing the attribute name with a double underscore __. This makes it more difficult for external code to accidentally override the attribute, providing a level of name-mangling.\n",
    "```"
   ]
  },
  {
   "cell_type": "code",
   "execution_count": 5,
   "id": "2ae5a82e",
   "metadata": {},
   "outputs": [
    {
     "name": "stdout",
     "output_type": "stream",
     "text": [
      "42\n"
     ]
    },
    {
     "ename": "AttributeError",
     "evalue": "'MyClass' object has no attribute '__pseudo_private'",
     "output_type": "error",
     "traceback": [
      "\u001b[1;31m---------------------------------------------------------------------------\u001b[0m",
      "\u001b[1;31mAttributeError\u001b[0m                            Traceback (most recent call last)",
      "Cell \u001b[1;32mIn[5], line 15\u001b[0m\n\u001b[0;32m     12\u001b[0m \u001b[38;5;28mprint\u001b[39m(obj\u001b[38;5;241m.\u001b[39mget_pseudo_private())  \u001b[38;5;66;03m# Output: 42\u001b[39;00m\n\u001b[0;32m     14\u001b[0m \u001b[38;5;66;03m# Attempting to access directly \u001b[39;00m\n\u001b[1;32m---> 15\u001b[0m \u001b[38;5;28mprint\u001b[39m(obj\u001b[38;5;241m.\u001b[39m__pseudo_private)\n",
      "\u001b[1;31mAttributeError\u001b[0m: 'MyClass' object has no attribute '__pseudo_private'"
     ]
    }
   ],
   "source": [
    "class MyClass:\n",
    "    def __init__(self):\n",
    "        self.__pseudo_private = 42\n",
    "\n",
    "    def get_pseudo_private(self):\n",
    "        return self.__pseudo_private\n",
    "\n",
    "# Creating an instance of MyClass\n",
    "obj = MyClass()\n",
    "\n",
    "# Accessing the pseudo private attribute\n",
    "print(obj.get_pseudo_private())  # Output: 42\n",
    "\n",
    "# Attempting to access directly \n",
    "print(obj.__pseudo_private)  \n"
   ]
  }
 ],
 "metadata": {
  "kernelspec": {
   "display_name": "Python 3 (ipykernel)",
   "language": "python",
   "name": "python3"
  },
  "language_info": {
   "codemirror_mode": {
    "name": "ipython",
    "version": 3
   },
   "file_extension": ".py",
   "mimetype": "text/x-python",
   "name": "python",
   "nbconvert_exporter": "python",
   "pygments_lexer": "ipython3",
   "version": "3.11.5"
  }
 },
 "nbformat": 4,
 "nbformat_minor": 5
}
