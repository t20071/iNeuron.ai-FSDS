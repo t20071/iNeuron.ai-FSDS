{
 "cells": [
  {
   "cell_type": "markdown",
   "id": "e7f93ec1",
   "metadata": {},
   "source": [
    "# Assignment_9\n",
    "\n",
    "**_Date 10 Nov 2022_**"
   ]
  },
  {
   "cell_type": "markdown",
   "id": "2a62e387",
   "metadata": {},
   "source": [
    "**1. To what does a relative path refer?**\n",
    "\n",
    "**_Answer_**\n",
    "\n",
    "Current working directories "
   ]
  },
  {
   "cell_type": "markdown",
   "id": "d5380694",
   "metadata": {},
   "source": [
    "**2. What does an absolute path start with your operating system?**\n",
    "\n",
    "**_Answer_**\n",
    "\n",
    "Absolute path starts from root folder. like ```/ or C:\\.```"
   ]
  },
  {
   "cell_type": "markdown",
   "id": "4dda657e",
   "metadata": {},
   "source": [
    "**3. What do the functions os.getcwd() and os.chdir() do?**\n",
    "\n",
    "**_Answer_**\n",
    "\n",
    "```os.getcwd()``` It will return the Current working dir.   \n",
    "```os.chdir()``` It will change the present working dir."
   ]
  },
  {
   "cell_type": "code",
   "execution_count": 1,
   "id": "3599da1c",
   "metadata": {},
   "outputs": [
    {
     "data": {
      "text/plain": [
       "'C:\\\\Users\\\\HP\\\\1AI iNeuron'"
      ]
     },
     "execution_count": 1,
     "metadata": {},
     "output_type": "execute_result"
    }
   ],
   "source": [
    "import os \n",
    "os.chdir(r'C:\\Users\\HP\\1AI iNeuron')\n",
    "os.getcwd()"
   ]
  },
  {
   "cell_type": "markdown",
   "id": "3f52d028",
   "metadata": {},
   "source": [
    "**4. What are the . and .. folders?**\n",
    "\n",
    "**_Answer_** \n",
    "\n",
    "```. folder``` It shows current folder.    \n",
    "```.. folder``` It shows parent folder."
   ]
  },
  {
   "cell_type": "markdown",
   "id": "0c220844",
   "metadata": {},
   "source": [
    "**5. In C:\\bacon\\eggs\\spam.txt, which part is the dir name, and which part is the base name?**\n",
    "\n",
    "**_Answer_** \n",
    "\n",
    "```C:\\bacon\\eggs``` dir name     \n",
    "```spam.txt``` base name"
   ]
  },
  {
   "cell_type": "markdown",
   "id": "251c3267",
   "metadata": {},
   "source": [
    "**6. What are the three “mode” arguments that can be passed to the open() function?**\n",
    "\n",
    "**_Answer_** \n",
    "\n",
    "```r``` - Read mode    \n",
    "```w``` - Write mode   \n",
    "```a``` - Append mode   "
   ]
  },
  {
   "cell_type": "markdown",
   "id": "75fb968f",
   "metadata": {},
   "source": [
    "**7. What happens if an existing file is opened in write mode?**\n",
    "\n",
    "**_Answer_**\n",
    "\n",
    "Existing file will be erased and overwritten. "
   ]
  },
  {
   "cell_type": "markdown",
   "id": "802e4bbc",
   "metadata": {},
   "source": [
    "**8. How do you tell the difference between read() and readlines()?**\n",
    "\n",
    "**_Answer_**\n",
    "\n",
    "```read()```     - It will return file's entire contents in single str value.       \n",
    "```readline()``` - It will return list of str. where every list content every line in file."
   ]
  },
  {
   "cell_type": "markdown",
   "id": "f864d6fd",
   "metadata": {},
   "source": [
    "**9. What data structure does a shelf value resemble?**\n",
    "\n",
    "**_Answer_**   \n",
    "\n",
    "dictionary, it has key and value pair."
   ]
  }
 ],
 "metadata": {
  "kernelspec": {
   "display_name": "Python 3 (ipykernel)",
   "language": "python",
   "name": "python3"
  },
  "language_info": {
   "codemirror_mode": {
    "name": "ipython",
    "version": 3
   },
   "file_extension": ".py",
   "mimetype": "text/x-python",
   "name": "python",
   "nbconvert_exporter": "python",
   "pygments_lexer": "ipython3",
   "version": "3.9.12"
  }
 },
 "nbformat": 4,
 "nbformat_minor": 5
}
