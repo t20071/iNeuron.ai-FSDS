{
 "cells": [
  {
   "cell_type": "markdown",
   "id": "94871812",
   "metadata": {},
   "source": [
    "## Advance_Python_01      \n",
    "> **Date - Monday, 20 November, 2023**"
   ]
  },
  {
   "cell_type": "markdown",
   "id": "4c83611e",
   "metadata": {},
   "source": [
    "**Q1. What is the purpose of Python's OOP?**\n",
    "\n",
    "> **A1.**  The purpose of Python's Object-Oriented Programming (OOP) is to organize and structure code in a way that promotes modularity, reusability, and maintainability. OOP in Python involves creating classes and objects, where classes define blueprints for objects, and objects are instances of these classes. OOP provides concepts such as encapsulation, inheritance, and polymorphism to facilitate better code organization and design.\n",
    "\n",
    "**Q2. Where does an inheritance search look for an attribute?**\n",
    "\n",
    "> **A2.** Inheritance search in Python looks for an attribute in the following order:   \n",
    "* The instance object itself.   \n",
    "* The class of the instance.      \n",
    "* If the class is derived from other classes (has a superclass or superclasses), it looks in the superclasses in the order they are defined.      \n",
    "\n",
    "**Q3. How do you distinguish between a class object and an instance object?** \n",
    "\n",
    "> **A3.** A class object is a blueprint for creating instances. It defines the properties and behaviors that the instances will have. An instance object, on the other hand, is a specific occurrence of a class, created from the class blueprint. In simple terms, a class is like a cookie cutter, and instances are the cookies produced using that cutter.\n",
    "\n",
    "**Q4. What makes the first argument in a class’s method function special?**\n",
    "\n",
    "> **A4.** The first argument in a class's method function is typically named self, and it refers to the instance of the class. It is a convention in Python to use self as the first parameter, though you could technically use any name. The self parameter allows methods to access and modify the attributes of the instance. It is not a keyword; it is just a naming convention.\n",
    "\n",
    "**Q5. What is the purpose of the init method?**\n",
    "\n",
    ">**A5.** The __init__ method in a class is a special method used for initializing the attributes of an object when it is created. It is called automatically when an instance of the class is created. This method is commonly used to set initial values for the object's attributes.\n",
    "\n",
    "**Q6.What is the process for creating a class instance?**\n",
    "> **A6.** To create a class instance in Python, you call the class as if it were a function, passing any required arguments to the __init__ method. For example"
   ]
  },
  {
   "cell_type": "code",
   "execution_count": null,
   "id": "cc4113c8",
   "metadata": {},
   "outputs": [],
   "source": [
    "class MyClass:\n",
    "    def __init__(self, parameter1, parameter2):\n",
    "        # initialization code\n",
    "\n",
    "# Creating an instance of MyClass\n",
    "my_instance = MyClass(arg1_value, arg2_value)"
   ]
  },
  {
   "cell_type": "markdown",
   "id": "0854bfab",
   "metadata": {},
   "source": [
    "**Q7. What is the process for creating a class?**\n",
    "\n",
    "> **A7.** To create a class in Python, you use the class keyword, followed by the class name and a colon. Inside the class, you define attributes and methods. Here's a simple example:"
   ]
  },
  {
   "cell_type": "code",
   "execution_count": null,
   "id": "b6c3c2b5",
   "metadata": {},
   "outputs": [],
   "source": [
    "class MyClass:\n",
    "    def __init__(self, parameter):\n",
    "        self.attribute = parameter\n",
    "\n",
    "    def my_method(self):\n",
    "        # method code"
   ]
  },
  {
   "cell_type": "markdown",
   "id": "94f3d5e0",
   "metadata": {},
   "source": [
    "**Q8. How would you define the superclasses of a class?**\n",
    "\n",
    "> **A8.** The superclasses of a class refer to the classes from which it inherits. In Python, you can define a class that inherits from one or more other classes. The class from which another class inherits is called a superclass. The super() function is often used to refer to the superclass and access its methods. Superclasses are specified in the parentheses after the class name in the class definition. For example:"
   ]
  },
  {
   "cell_type": "code",
   "execution_count": null,
   "id": "d840397b",
   "metadata": {},
   "outputs": [],
   "source": [
    "class MyBaseClass:\n",
    "    # superclass code\n",
    "\n",
    "class MyDerivedClass(MyBaseClass):\n",
    "    # subclass code\n"
   ]
  },
  {
   "cell_type": "markdown",
   "id": "db69e6ff",
   "metadata": {},
   "source": [
    "In this example, MyDerivedClass is a subclass of MyBaseClass, and MyBaseClass is a superclass of MyDerivedClass"
   ]
  }
 ],
 "metadata": {
  "kernelspec": {
   "display_name": "Python 3 (ipykernel)",
   "language": "python",
   "name": "python3"
  },
  "language_info": {
   "codemirror_mode": {
    "name": "ipython",
    "version": 3
   },
   "file_extension": ".py",
   "mimetype": "text/x-python",
   "name": "python",
   "nbconvert_exporter": "python",
   "pygments_lexer": "ipython3",
   "version": "3.11.5"
  }
 },
 "nbformat": 4,
 "nbformat_minor": 5
}
