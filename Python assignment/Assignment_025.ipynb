{
 "cells": [
  {
   "cell_type": "markdown",
   "id": "40a4a0a1",
   "metadata": {},
   "source": [
    "# Assingment_025\n",
    "**Wednesday, 30 November 2022**              \n",
    "[sharadpardhe08@gmail.com](link)"
   ]
  },
  {
   "cell_type": "markdown",
   "id": "cbac7e6b",
   "metadata": {},
   "source": [
    "### 1. What is the difference between enclosing a list comprehension in square brackets and parentheses?                      \n",
    "#### Answer         \n",
    "list comprehension in square brackets - This will give a list          \n",
    "list comprehension in parentheses - This will turn our list comprehension into a generator expression.             \n",
    "[Source](https://www.pythonmorsels.com/how-write-generator-expression/)"
   ]
  },
  {
   "cell_type": "code",
   "execution_count": 1,
   "id": "410f02f3",
   "metadata": {},
   "outputs": [
    {
     "data": {
      "text/plain": [
       "[0, 2, 4, 6, 8]"
      ]
     },
     "execution_count": 1,
     "metadata": {},
     "output_type": "execute_result"
    }
   ],
   "source": [
    "l = list(range(10))\n",
    "l1 = [i for i in l if i%2 == 0]\n",
    "l1"
   ]
  },
  {
   "cell_type": "code",
   "execution_count": 2,
   "id": "7b064dba",
   "metadata": {},
   "outputs": [
    {
     "data": {
      "text/plain": [
       "<generator object <genexpr> at 0x00000214FEEDAB30>"
      ]
     },
     "execution_count": 2,
     "metadata": {},
     "output_type": "execute_result"
    }
   ],
   "source": [
    "l2 = (i for i in l if i%2 == 0)\n",
    "l2"
   ]
  },
  {
   "cell_type": "code",
   "execution_count": 3,
   "id": "95da7043",
   "metadata": {},
   "outputs": [
    {
     "name": "stdout",
     "output_type": "stream",
     "text": [
      "0\n",
      "2\n",
      "4\n",
      "6\n",
      "8\n"
     ]
    }
   ],
   "source": [
    "print(next(l2))\n",
    "print(next(l2))\n",
    "print(next(l2))\n",
    "print(next(l2))\n",
    "print(next(l2))"
   ]
  },
  {
   "cell_type": "markdown",
   "id": "ccfb5823",
   "metadata": {},
   "source": [
    "```<generator object <genexpr> at 0x000002225C3D9C10>``` This is a generator object, which is a iterable and value can be obtain after loop over it."
   ]
  },
  {
   "cell_type": "code",
   "execution_count": 4,
   "id": "f6b4bfec",
   "metadata": {},
   "outputs": [],
   "source": [
    "for i in l2:\n",
    "    print(i)"
   ]
  },
  {
   "cell_type": "markdown",
   "id": "a0dc21c1",
   "metadata": {},
   "source": [
    "### 2) What is the relationship between generators and iterators?             \n",
    "#### Answer \n",
    "[source](https://www.codingninjas.com/codestudio/library/iterators-and-generators-in-python)"
   ]
  },
  {
   "cell_type": "code",
   "execution_count": 5,
   "id": "17720584",
   "metadata": {},
   "outputs": [
    {
     "name": "stdout",
     "output_type": "stream",
     "text": [
      "1\n",
      "2\n",
      "3\n",
      "4\n"
     ]
    }
   ],
   "source": [
    "# iterator\n",
    "lst = [1,2,3,4]  # list is iterable \n",
    "for i in lst:\n",
    "    print(i)"
   ]
  },
  {
   "cell_type": "code",
   "execution_count": 6,
   "id": "12701b72",
   "metadata": {},
   "outputs": [
    {
     "data": {
      "text/plain": [
       "list_iterator"
      ]
     },
     "execution_count": 6,
     "metadata": {},
     "output_type": "execute_result"
    }
   ],
   "source": [
    "# Now convert lst into iterator\n",
    "a = iter(lst)  # a in iterator\n",
    "type(a)"
   ]
  },
  {
   "cell_type": "code",
   "execution_count": 7,
   "id": "3b5bccac",
   "metadata": {},
   "outputs": [
    {
     "data": {
      "text/plain": [
       "generator"
      ]
     },
     "execution_count": 7,
     "metadata": {},
     "output_type": "execute_result"
    }
   ],
   "source": [
    " # generator\n",
    "def square(n):\n",
    "    for i in range(n):\n",
    "        yield i**2 \n",
    "b = square(4)\n",
    "type(b)"
   ]
  },
  {
   "cell_type": "code",
   "execution_count": 8,
   "id": "2b50b168",
   "metadata": {},
   "outputs": [
    {
     "name": "stdout",
     "output_type": "stream",
     "text": [
      "0\n",
      "1\n",
      "4\n",
      "9\n"
     ]
    }
   ],
   "source": [
    "for i in b:\n",
    "    print(i)"
   ]
  },
  {
   "cell_type": "markdown",
   "id": "e29d9921",
   "metadata": {},
   "source": [
    "#### Differance\n",
    "1. To create iterator we use iter() function  and to generator we use function along with yield keyword;\n",
    "1. Generator uses the yield keyword. It saves the local variable. \n",
    "1. Generator in python helps us to write fast and compact code.\n",
    "1. Iterators in python are less memory efficient but the Generators in Python are more memory efficient.\n",
    "1. Every iterator is not a generator but Every generator is an iterator."
   ]
  },
  {
   "cell_type": "markdown",
   "id": "73c69ae8",
   "metadata": {},
   "source": [
    "### 3) What are the signs that a function is a generator function?\n",
    "#### Answer -\n",
    "If a function contains at least one yield statement (it may contain other yield or return statements), it becomes a generator function. Both yield and return will return some value from a function."
   ]
  },
  {
   "cell_type": "markdown",
   "id": "7ae5d366",
   "metadata": {},
   "source": [
    "### 4) What is the purpose of a yield statement?\n",
    "#### Answer - \n",
    "The yield statement returns a generator object to the one who calls the function which contains yield, instead of simply returning a value."
   ]
  },
  {
   "cell_type": "markdown",
   "id": "96168ee1",
   "metadata": {},
   "source": [
    "### 5) What is the relationship between map calls and list comprehensions? Make a comparison and contrast between the two.\n",
    "#### Answer - "
   ]
  },
  {
   "cell_type": "code",
   "execution_count": 9,
   "id": "3b582940",
   "metadata": {},
   "outputs": [
    {
     "data": {
      "text/plain": [
       "<map at 0x214fff50d90>"
      ]
     },
     "execution_count": 9,
     "metadata": {},
     "output_type": "execute_result"
    }
   ],
   "source": [
    "l = [1,2,4,5,6,7]\n",
    "x = map(lambda x:x**2,l)\n",
    "x"
   ]
  },
  {
   "cell_type": "markdown",
   "id": "f79cedeb",
   "metadata": {},
   "source": [
    "map calls will give generator "
   ]
  },
  {
   "cell_type": "code",
   "execution_count": 10,
   "id": "f6cd1c0d",
   "metadata": {},
   "outputs": [
    {
     "data": {
      "text/plain": [
       "[1, 4, 16, 25, 36, 49]"
      ]
     },
     "execution_count": 10,
     "metadata": {},
     "output_type": "execute_result"
    }
   ],
   "source": [
    "l1 = [x**2 for x in l]\n",
    "l1"
   ]
  }
 ],
 "metadata": {
  "kernelspec": {
   "display_name": "Python 3 (ipykernel)",
   "language": "python",
   "name": "python3"
  },
  "language_info": {
   "codemirror_mode": {
    "name": "ipython",
    "version": 3
   },
   "file_extension": ".py",
   "mimetype": "text/x-python",
   "name": "python",
   "nbconvert_exporter": "python",
   "pygments_lexer": "ipython3",
   "version": "3.9.12"
  }
 },
 "nbformat": 4,
 "nbformat_minor": 5
}
