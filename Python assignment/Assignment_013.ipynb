{
 "cells": [
  {
   "cell_type": "markdown",
   "id": "22235677",
   "metadata": {},
   "source": [
    "# Assignment_013\n",
    "\n",
    "**Date Thursday, 17 November 2022**"
   ]
  },
  {
   "cell_type": "markdown",
   "id": "2d1642c5",
   "metadata": {},
   "source": [
    "**1. What advantages do Excel spreadsheets have over CSV spreadsheets?**\n",
    "\n",
    "**Answer**\n",
    "\n",
    "Advantage of Excel spreadsheets over CSV spreadsheets: \n",
    "\n",
    "1. In Excel, spreadsheets have data type of value other than string\n",
    "1. In Excel, spreadsheets cell have font,sizes and color setting.\n",
    "1. Cell also can have varying width and height."
   ]
  },
  {
   "cell_type": "markdown",
   "id": "7f09b7ff",
   "metadata": {},
   "source": [
    "**2.What do you pass to csv.reader() and csv.writer() to create reader and writer objects?**\n",
    "\n",
    "**Answer**\n",
    "\n",
    "Pass the ```file``` object, which we get from the a call to ```open()```.\n"
   ]
  },
  {
   "cell_type": "markdown",
   "id": "4d21138d",
   "metadata": {},
   "source": [
    "**3. What modes do File objects for reader and writer objects need to be opened in?**\n",
    "\n",
    "**Answer**\n",
    "\n",
    "read-binary ```('rb')``` for read mode.      \n",
    "write-binary ```('wb')``` for write mode.\n"
   ]
  },
  {
   "cell_type": "markdown",
   "id": "68f28aca",
   "metadata": {},
   "source": [
    "**4. What method takes a list argument and writes it to a CSV file?**\n",
    "\n",
    "**Answer**   \n",
    "\n",
    "```writerow()``` method.\n"
   ]
  },
  {
   "cell_type": "markdown",
   "id": "1660dda5",
   "metadata": {},
   "source": [
    "**5. What do the keyword arguments delimiter and line terminator do?**\n",
    "\n",
    "```delimiter``` arguments change the string used in seperate cell in a row.    \n",
    "```lineterminator``` argument change the string to seperate rows. \n"
   ]
  },
  {
   "cell_type": "markdown",
   "id": "2b1f6854",
   "metadata": {},
   "source": [
    "**6. What function takes a string of JSON data and returns a Python data structure?**\n",
    "\n",
    "**Answer**  \n",
    "\n",
    "```json.loads()```\n"
   ]
  },
  {
   "cell_type": "markdown",
   "id": "d82e4e32",
   "metadata": {},
   "source": [
    "**7. What function takes a Python data structure and returns a string of JSON data?**\n",
    "\n",
    "**Answer**   \n",
    "\n",
    "```json.dumps()```\n"
   ]
  }
 ],
 "metadata": {
  "kernelspec": {
   "display_name": "Python 3 (ipykernel)",
   "language": "python",
   "name": "python3"
  },
  "language_info": {
   "codemirror_mode": {
    "name": "ipython",
    "version": 3
   },
   "file_extension": ".py",
   "mimetype": "text/x-python",
   "name": "python",
   "nbconvert_exporter": "python",
   "pygments_lexer": "ipython3",
   "version": "3.9.12"
  }
 },
 "nbformat": 4,
 "nbformat_minor": 5
}
