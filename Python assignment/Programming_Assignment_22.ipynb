{
 "cells": [
  {
   "cell_type": "markdown",
   "id": "b84e0f50",
   "metadata": {},
   "source": [
    "# Programming_Assignment_22\n",
    "**Tuesday, 28 March 2023**"
   ]
  },
  {
   "cell_type": "markdown",
   "id": "28de0dd8",
   "metadata": {},
   "source": [
    "**Question 1           \n",
    "Create a function that takes three parameters where:**             \n",
    "•\tx is the start of the range (inclusive).         \n",
    "•\ty is the end of the range (inclusive).         \n",
    "•\tn is the divisor to be checked against.                 \n",
    "Return an ordered list with numbers in the range that are divisible by the third parameter n. Return an empty list if there are no numbers that are divisible by n.\n",
    "\n",
    "> **Examples**                \n",
    "list_operation(1, 10, 3) ➞ [3, 6, 9]           \n",
    "list_operation(7, 9, 2) ➞ [8]                 \n",
    "list_operation(15, 20, 7) ➞ []"
   ]
  },
  {
   "cell_type": "code",
   "execution_count": 2,
   "id": "fa9de2fc",
   "metadata": {},
   "outputs": [
    {
     "data": {
      "text/plain": [
       "[3, 6, 9]"
      ]
     },
     "execution_count": 2,
     "metadata": {},
     "output_type": "execute_result"
    }
   ],
   "source": [
    "# define the function \n",
    "def list_operation(x,y,n):\n",
    "    lst = []\n",
    "    for i in range(x,y):\n",
    "        if i%n == 0:\n",
    "            lst.append(i)\n",
    "    return lst\n",
    "\n",
    "# calling the function\n",
    "list_operation(1, 10, 3)"
   ]
  },
  {
   "cell_type": "code",
   "execution_count": 3,
   "id": "5c2326a8",
   "metadata": {},
   "outputs": [
    {
     "data": {
      "text/plain": [
       "[8]"
      ]
     },
     "execution_count": 3,
     "metadata": {},
     "output_type": "execute_result"
    }
   ],
   "source": [
    "list_operation(7, 9, 2)"
   ]
  },
  {
   "cell_type": "code",
   "execution_count": 4,
   "id": "c6df32e4",
   "metadata": {},
   "outputs": [
    {
     "data": {
      "text/plain": [
       "[]"
      ]
     },
     "execution_count": 4,
     "metadata": {},
     "output_type": "execute_result"
    }
   ],
   "source": [
    "list_operation(15, 20, 7)"
   ]
  },
  {
   "cell_type": "markdown",
   "id": "7a5da6dc",
   "metadata": {},
   "source": [
    "**Question 2               \n",
    "Create a function that takes in two lists and returns True if the second list follows the first list by one element, and False otherwise. In other words, determine if the second list is the first list shifted to the right by 1.**\n",
    "> **Examples**          \n",
    "simon_says([1, 2], [5, 1]) ➞ True       \n",
    "simon_says([1, 2], [5, 5]) ➞ False            \n",
    "simon_says([1, 2, 3, 4, 5], [0, 1, 2, 3, 4]) ➞ True                \n",
    "simon_says([1, 2, 3, 4, 5], [5, 5, 1, 2, 3]) ➞ False \n",
    "\n",
    "**Notes**              \n",
    "•\tBoth input lists will be of the same length, and will have a minimum length of 2.               \n",
    "•\tThe values of the 0-indexed element in the second list and the n-1th indexed element in the first list do not matter.\n"
   ]
  },
  {
   "cell_type": "code",
   "execution_count": 9,
   "id": "690d6e46",
   "metadata": {},
   "outputs": [
    {
     "data": {
      "text/plain": [
       "True"
      ]
     },
     "execution_count": 9,
     "metadata": {},
     "output_type": "execute_result"
    }
   ],
   "source": [
    "# define the function \n",
    "def simon_says(list1, list2):\n",
    "    if list1[:-1] == list2[1:]:\n",
    "        return True\n",
    "    else:\n",
    "        return False\n",
    "\n",
    "# check the function \n",
    "simon_says([1, 2, 3, 4, 5], [0, 1, 2, 3, 4])"
   ]
  },
  {
   "cell_type": "code",
   "execution_count": 17,
   "id": "52949c78",
   "metadata": {},
   "outputs": [
    {
     "data": {
      "text/plain": [
       "False"
      ]
     },
     "execution_count": 17,
     "metadata": {},
     "output_type": "execute_result"
    }
   ],
   "source": [
    "simon_says([1, 2, 3, 4, 5], [5, 5, 1, 2, 3]) "
   ]
  },
  {
   "cell_type": "markdown",
   "id": "7974c2a5",
   "metadata": {},
   "source": [
    "**Question 3              \n",
    "A group of friends have decided to start a secret society. The name will be the first letter of each of their names, sorted in alphabetical order.**           \n",
    "**Create a function that takes in a list of names and returns the name of the secret society.**\n",
    "\n",
    "> **Examples**               \n",
    "society_name([\"Adam\", \"Sarah\", \"Malcolm\"]) ➞ \"AMS\"                 \n",
    "society_name([\"Harry\", \"Newt\", \"Luna\", \"Cho\"]) ➞ \"CHLN\"                       \n",
    "society_name([\"Phoebe\", \"Chandler\", \"Rachel\", \"Ross\", \"Monica\", \"Joey\"])"
   ]
  },
  {
   "cell_type": "code",
   "execution_count": 35,
   "id": "15f8cd6f",
   "metadata": {},
   "outputs": [
    {
     "data": {
      "text/plain": [
       "'AMS'"
      ]
     },
     "execution_count": 35,
     "metadata": {},
     "output_type": "execute_result"
    }
   ],
   "source": [
    "# define the function \n",
    "def society_name(lst):\n",
    "    name_lst = []\n",
    "    for i in lst:\n",
    "        name_lst.append(i[0])\n",
    "    name_lst = sorted(name_lst)\n",
    "    name = ''\n",
    "    for i in name_lst:\n",
    "        name = name+i\n",
    "    return name\n",
    "        \n",
    "society_name([\"Adam\", \"Sarah\", \"Malcolm\"])"
   ]
  },
  {
   "cell_type": "code",
   "execution_count": 36,
   "id": "31d1383e",
   "metadata": {},
   "outputs": [
    {
     "data": {
      "text/plain": [
       "'CHLN'"
      ]
     },
     "execution_count": 36,
     "metadata": {},
     "output_type": "execute_result"
    }
   ],
   "source": [
    "society_name([\"Harry\", \"Newt\", \"Luna\", \"Cho\"])"
   ]
  },
  {
   "cell_type": "code",
   "execution_count": 37,
   "id": "2491ec27",
   "metadata": {},
   "outputs": [
    {
     "data": {
      "text/plain": [
       "'CJMPRR'"
      ]
     },
     "execution_count": 37,
     "metadata": {},
     "output_type": "execute_result"
    }
   ],
   "source": [
    "society_name([\"Phoebe\", \"Chandler\", \"Rachel\", \"Ross\", \"Monica\", \"Joey\"])"
   ]
  },
  {
   "cell_type": "markdown",
   "id": "5379e144",
   "metadata": {},
   "source": [
    "**Question 4            \n",
    "An isogram is a word that has no duplicate letters. Create a function that takes a string and returns either True or False depending on whether or not it's an \"isogram\".**\n",
    "\n",
    "> **Examples**                \n",
    "is_isogram(\"Algorism\") ➞ True                \n",
    "is_isogram(\"PasSword\") ➞ False\n",
    "\n",
    "**Not case sensitive.**           \n",
    "is_isogram(\"Consecutive\") ➞ False                 \n",
    "**Notes**                  \n",
    "•\tIgnore letter case (should not be case sensitive).                  \n",
    "•\tAll test cases contain valid one word strings.\n"
   ]
  },
  {
   "cell_type": "code",
   "execution_count": 54,
   "id": "628deea0",
   "metadata": {},
   "outputs": [
    {
     "data": {
      "text/plain": [
       "True"
      ]
     },
     "execution_count": 54,
     "metadata": {},
     "output_type": "execute_result"
    }
   ],
   "source": [
    "# define the function \n",
    "def is_isogram(txt):\n",
    "    txt = txt.lower()\n",
    "    for char in txt:\n",
    "        if txt.count(char) > 1:\n",
    "            return False\n",
    "    return True\n",
    "\n",
    "# check the function \n",
    "is_isogram(\"Algorism\")"
   ]
  },
  {
   "cell_type": "code",
   "execution_count": 53,
   "id": "01aa7bd6",
   "metadata": {},
   "outputs": [
    {
     "data": {
      "text/plain": [
       "False"
      ]
     },
     "execution_count": 53,
     "metadata": {},
     "output_type": "execute_result"
    }
   ],
   "source": [
    "is_isogram(\"PasSword\")"
   ]
  },
  {
   "cell_type": "markdown",
   "id": "e4150ba2",
   "metadata": {},
   "source": [
    "**Question 5                 \n",
    "Create a function that takes a string and returns True or False, depending on whether the\n",
    "characters are in order or not.**\n",
    "> **Examples**            \n",
    "is_in_order(&quot;abc&quot;) ➞ True        \n",
    "is_in_order(&quot;edabit&quot;) ➞ False         \n",
    "is_in_order(&quot;123&quot;) ➞ True           \n",
    "is_in_order(&quot;xyzz&quot;) ➞ True        \n",
    "\n",
    "**Notes**           \n",
    "You don't have to handle empty strings."
   ]
  },
  {
   "cell_type": "code",
   "execution_count": 56,
   "id": "54892531",
   "metadata": {},
   "outputs": [
    {
     "data": {
      "text/plain": [
       "True"
      ]
     },
     "execution_count": 56,
     "metadata": {},
     "output_type": "execute_result"
    }
   ],
   "source": [
    "# define the function \n",
    "def is_in_order(word):\n",
    "    lst = []\n",
    "    for i in word:\n",
    "        lst.append(i)\n",
    "    if lst == sorted(lst):\n",
    "        return True\n",
    "    else:\n",
    "        return False\n",
    "    \n",
    "    \n",
    "is_in_order(\"abc\")"
   ]
  },
  {
   "cell_type": "code",
   "execution_count": 57,
   "id": "0bcf8d39",
   "metadata": {},
   "outputs": [
    {
     "data": {
      "text/plain": [
       "False"
      ]
     },
     "execution_count": 57,
     "metadata": {},
     "output_type": "execute_result"
    }
   ],
   "source": [
    "is_in_order(\"edabit\")"
   ]
  },
  {
   "cell_type": "code",
   "execution_count": 58,
   "id": "4b6845bf",
   "metadata": {},
   "outputs": [
    {
     "data": {
      "text/plain": [
       "True"
      ]
     },
     "execution_count": 58,
     "metadata": {},
     "output_type": "execute_result"
    }
   ],
   "source": [
    "is_in_order(\"xyzz\")"
   ]
  }
 ],
 "metadata": {
  "kernelspec": {
   "display_name": "Python 3 (ipykernel)",
   "language": "python",
   "name": "python3"
  },
  "language_info": {
   "codemirror_mode": {
    "name": "ipython",
    "version": 3
   },
   "file_extension": ".py",
   "mimetype": "text/x-python",
   "name": "python",
   "nbconvert_exporter": "python",
   "pygments_lexer": "ipython3",
   "version": "3.9.12"
  }
 },
 "nbformat": 4,
 "nbformat_minor": 5
}
