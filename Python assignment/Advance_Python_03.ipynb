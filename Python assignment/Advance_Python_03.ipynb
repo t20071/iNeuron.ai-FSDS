{
 "cells": [
  {
   "cell_type": "markdown",
   "id": "40e94a76",
   "metadata": {},
   "source": [
    "## Advance_Python_03"
   ]
  },
  {
   "cell_type": "markdown",
   "id": "6864c7a2",
   "metadata": {},
   "source": [
    "**1. What is the concept of an abstract superclass?**\n",
    "\n",
    "> An abstract superclass is a class that cannot be instantiated on its own and is meant to be subclassed by other classes. It often contains abstract methods (methods without a body) that must be implemented by its subclasses."
   ]
  },
  {
   "cell_type": "code",
   "execution_count": 2,
   "id": "bc406887",
   "metadata": {},
   "outputs": [
    {
     "name": "stdout",
     "output_type": "stream",
     "text": [
      "Implemented abstract_method in ConcreteClass\n"
     ]
    }
   ],
   "source": [
    "from abc import ABC, abstractmethod\n",
    "\n",
    "class AbstractSuperclass(ABC):\n",
    "    @abstractmethod\n",
    "    def abstract_method(self):\n",
    "        pass\n",
    "\n",
    "class ConcreteClass(AbstractSuperclass):\n",
    "    def abstract_method(self):\n",
    "        print(\"Implemented abstract_method in ConcreteClass\")\n",
    "\n",
    "# Usage\n",
    "obj = ConcreteClass()\n",
    "obj.abstract_method()\n"
   ]
  },
  {
   "cell_type": "markdown",
   "id": "8eb45104",
   "metadata": {},
   "source": [
    "**2. What happens when a class statement's top level contains a basic assignment statement?**\n",
    "\n",
    "> If a class statement's top level contains a basic assignment statement, it creates a class variable shared among all instances of the class"
   ]
  },
  {
   "cell_type": "code",
   "execution_count": 3,
   "id": "5919a2c0",
   "metadata": {},
   "outputs": [
    {
     "name": "stdout",
     "output_type": "stream",
     "text": [
      "10\n",
      "10\n"
     ]
    }
   ],
   "source": [
    "class MyClass:\n",
    "    class_variable = 10\n",
    "\n",
    "obj1 = MyClass()\n",
    "obj2 = MyClass()\n",
    "\n",
    "print(obj1.class_variable)  \n",
    "print(obj2.class_variable)  \n"
   ]
  },
  {
   "cell_type": "markdown",
   "id": "18de75cf",
   "metadata": {},
   "source": [
    "**3. Why does a class need to manually call a superclass's init method?**\n",
    "\n",
    "``` json\n",
    "When a subclass has its own __init__ method, it needs to explicitly call the __init__ method of its superclass using super().__init__() to ensure that the initialization code in the superclass is executed.\n",
    "\n",
    "```"
   ]
  },
  {
   "cell_type": "code",
   "execution_count": 4,
   "id": "17423cee",
   "metadata": {},
   "outputs": [
    {
     "name": "stdout",
     "output_type": "stream",
     "text": [
      "5\n",
      "10\n"
     ]
    }
   ],
   "source": [
    "class Superclass:\n",
    "    def __init__(self):\n",
    "        self.super_variable = 5\n",
    "\n",
    "class Subclass(Superclass):\n",
    "    def __init__(self):\n",
    "        super().__init__()  # Call the superclass's __init__ method\n",
    "        self.sub_variable = 10\n",
    "\n",
    "# Usage\n",
    "obj = Subclass()\n",
    "print(obj.super_variable)  \n",
    "print(obj.sub_variable)    \n"
   ]
  },
  {
   "cell_type": "markdown",
   "id": "ad41a588",
   "metadata": {},
   "source": [
    "**4. How can you augment, instead of completely replacing, an inherited method?**\n",
    "\n",
    "> We can augment an inherited method by calling the superclass's method using ```super()``` and then adding additional functionality."
   ]
  },
  {
   "cell_type": "code",
   "execution_count": 5,
   "id": "78eb9000",
   "metadata": {},
   "outputs": [
    {
     "name": "stdout",
     "output_type": "stream",
     "text": [
      "Inherited method in ParentClass\n",
      "Additional functionality in ChildClass\n"
     ]
    }
   ],
   "source": [
    "class ParentClass:\n",
    "    def inherited_method(self):\n",
    "        print(\"Inherited method in ParentClass\")\n",
    "\n",
    "class ChildClass(ParentClass):\n",
    "    def inherited_method(self):\n",
    "        super().inherited_method()  # Call the inherited method from the superclass\n",
    "        print(\"Additional functionality in ChildClass\")\n",
    "\n",
    "# Usage\n",
    "obj = ChildClass()\n",
    "obj.inherited_method()\n"
   ]
  },
  {
   "cell_type": "markdown",
   "id": "e5b19f26",
   "metadata": {},
   "source": [
    "**5. How is the local scope of a class different from that of a function?**\n",
    "\n",
    "> The local scope of a class is where class-level variables are defined, and it persists throughout the lifetime of the class. The local scope of a function is created when the function is called and is destroyed when the function exits"
   ]
  },
  {
   "cell_type": "code",
   "execution_count": 6,
   "id": "9d9b2a59",
   "metadata": {},
   "outputs": [
    {
     "name": "stdout",
     "output_type": "stream",
     "text": [
      "10\n",
      "5\n",
      "10\n"
     ]
    }
   ],
   "source": [
    "class MyClass:\n",
    "    class_variable = 10  # Class-level variable\n",
    "\n",
    "    def class_method(self):\n",
    "        local_variable = 5  # Local variable within a method\n",
    "        print(self.class_variable)\n",
    "        print(local_variable)\n",
    "\n",
    "# Usage\n",
    "obj = MyClass()\n",
    "obj.class_method()\n",
    "print(obj.class_variable)  # Accessing class-level variable outside the method\n",
    "# print(obj.local_variable)  # This would result in an error as local_variable is not accessible outside the method\n"
   ]
  },
  {
   "cell_type": "code",
   "execution_count": null,
   "id": "836cc148",
   "metadata": {},
   "outputs": [],
   "source": []
  }
 ],
 "metadata": {
  "kernelspec": {
   "display_name": "Python 3 (ipykernel)",
   "language": "python",
   "name": "python3"
  },
  "language_info": {
   "codemirror_mode": {
    "name": "ipython",
    "version": 3
   },
   "file_extension": ".py",
   "mimetype": "text/x-python",
   "name": "python",
   "nbconvert_exporter": "python",
   "pygments_lexer": "ipython3",
   "version": "3.11.5"
  }
 },
 "nbformat": 4,
 "nbformat_minor": 5
}
