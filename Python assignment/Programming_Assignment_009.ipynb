{
 "cells": [
  {
   "cell_type": "markdown",
   "id": "5ff88b79",
   "metadata": {},
   "source": [
    "# Programming_Assignment_009\n",
    "**Wednesday, 21 December 2022**                \n",
    "[sharadpardhe08@gmail.com]()"
   ]
  },
  {
   "cell_type": "markdown",
   "id": "da46edbb",
   "metadata": {},
   "source": [
    "**1.\tWrite a Python program to check if the given number is a Disarium Number?**\n",
    "\n",
    "**Answer-**\n",
    "> A number is called Disarium if sum of its digits powered with their respective positions is equal to the number itself."
   ]
  },
  {
   "cell_type": "code",
   "execution_count": 8,
   "id": "600c17c1",
   "metadata": {},
   "outputs": [
    {
     "name": "stdout",
     "output_type": "stream",
     "text": [
      "Enter Number: 175\n",
      "Yes! 175 is a Disarium Number.\n"
     ]
    }
   ],
   "source": [
    "num = int(input('Enter Number: '))\n",
    "sum = 0\n",
    "temp = num\n",
    "unit = len(str(num))\n",
    "\n",
    "while temp>0:\n",
    "    i = temp%10\n",
    "    temp = temp//10\n",
    "    sum = sum + i**unit\n",
    "    unit = unit - 1\n",
    "    \n",
    "if sum == num:\n",
    "    print(f'Yes! {num} is a Disarium Number.')\n",
    "else:\n",
    "    print(f'No! {num} is not a Disarium Number.')"
   ]
  },
  {
   "cell_type": "markdown",
   "id": "57563e0c",
   "metadata": {},
   "source": [
    "**2.\tWrite a Python program to print all disarium numbers between 1 to 100?**\n",
    "\n",
    "**Answer-**"
   ]
  },
  {
   "cell_type": "code",
   "execution_count": 19,
   "id": "21fc6ca2",
   "metadata": {},
   "outputs": [
    {
     "name": "stdout",
     "output_type": "stream",
     "text": [
      "All disarium number between 1 and 100: \n",
      "\n",
      "1\n",
      "2\n",
      "3\n",
      "4\n",
      "5\n",
      "6\n",
      "7\n",
      "8\n",
      "9\n",
      "89\n"
     ]
    }
   ],
   "source": [
    "# Defining the lower and upper limit\n",
    "lower = 1 \n",
    "upper = 100\n",
    "\n",
    "print(f'All disarium number between {lower} and {upper}: \\n')\n",
    "\n",
    "# Iterate between lower and upper limit \n",
    "for num in range(lower,upper+1):\n",
    "    sum = 0 \n",
    "    temp = num\n",
    "    unit = len(str(num)) # number of digit in num\n",
    "    \n",
    "    while temp>0:\n",
    "        i = temp%10\n",
    "        temp =  temp//10\n",
    "        sum = sum + i**unit\n",
    "        unit = unit - 1\n",
    "\n",
    "    if num == sum:\n",
    "        print(num)\n",
    "        \n",
    "        \n",
    "        \n",
    "        \n",
    "    "
   ]
  },
  {
   "cell_type": "markdown",
   "id": "e9bb3cab",
   "metadata": {},
   "source": [
    "**3.\tWrite a Python program to check if the given number is Happy Number?**\n",
    "\n",
    "**Answer-**\n",
    "> In number theory, a happy number is a number which eventually reaches 1 when replaced by the sum of the square of each digit. For instance, 13 is a happy number because \n",
    "``` json\n",
    " 1**2+3**2 = 10, and \n",
    " 1**2+0**2 = 1\n",
    " ```\n",
    " [https://youtu.be/vvkhpGeTkXk](https://youtu.be/vvkhpGeTkXk)"
   ]
  },
  {
   "cell_type": "code",
   "execution_count": 41,
   "id": "6fe3f8fa",
   "metadata": {},
   "outputs": [
    {
     "name": "stdout",
     "output_type": "stream",
     "text": [
      "Enter Number: 68\n",
      "100\n",
      "1\n",
      "68 is a happy number\n"
     ]
    }
   ],
   "source": [
    "num = int(input('Enter Number: '))\n",
    "temp = num\n",
    "\n",
    "while temp >= 10:\n",
    "    sum = 0\n",
    "    \n",
    "    while temp>0:\n",
    "        digit = temp%10\n",
    "        temp = temp//10\n",
    "        sum = sum + digit**2\n",
    "    print(sum)\n",
    "    temp = sum\n",
    "    \n",
    "if sum == 1:\n",
    "    print(f'{num} is a happy number')\n",
    "else:\n",
    "    print(f'{num} not is a happy number')\n",
    "    "
   ]
  },
  {
   "cell_type": "markdown",
   "id": "4e58a405",
   "metadata": {},
   "source": [
    "**4.\tWrite a Python program to print all happy numbers between 1 and 100?**             \n",
    "\n",
    "**Answer-**"
   ]
  },
  {
   "cell_type": "code",
   "execution_count": 45,
   "id": "a5f822ad",
   "metadata": {},
   "outputs": [
    {
     "name": "stdout",
     "output_type": "stream",
     "text": [
      "All Happy number between 1 and 100: \n",
      "\n",
      "10\n",
      "13\n",
      "19\n",
      "23\n",
      "28\n",
      "31\n",
      "32\n",
      "44\n",
      "49\n",
      "68\n",
      "70\n",
      "79\n",
      "82\n",
      "86\n",
      "91\n",
      "94\n",
      "97\n",
      "100\n"
     ]
    }
   ],
   "source": [
    "# Defining the lower and upper limit\n",
    "lower = 1\n",
    "upper = 100\n",
    "\n",
    "print(f'All Happy number between {lower} and {upper}: \\n')\n",
    "\n",
    "if lower < 10:\n",
    "    lower = 10 \n",
    "\n",
    "# Iterate between lower and upper limit \n",
    "for num in range(lower,upper+1):\n",
    "    temp = num\n",
    "    \n",
    "    while temp >= 10:\n",
    "        sum = 0\n",
    "        \n",
    "        while temp>0:\n",
    "            digit = temp%10\n",
    "            temp = temp//10\n",
    "            sum = sum + digit**2\n",
    "            \n",
    "        temp = sum\n",
    "        \n",
    "    if sum == 1:\n",
    "        print(num)"
   ]
  },
  {
   "cell_type": "markdown",
   "id": "90732241",
   "metadata": {},
   "source": [
    "**5.\tWrite a Python program to determine whether the given number is a Harshad Number?**\n",
    "\n",
    "**Answer-**\n",
    "> A number is said to be the Harshad number if it is divisible by the sum of its digit. For example, if number is 156, then sum of its digit will be 1 + 5 + 6 = 12. Since 156 is divisible by 12. So, 156 is a Harshad number."
   ]
  },
  {
   "cell_type": "code",
   "execution_count": 48,
   "id": "5f4ba7c4",
   "metadata": {},
   "outputs": [
    {
     "name": "stdout",
     "output_type": "stream",
     "text": [
      "Enter Number: 156\n",
      "Yes! 156 is a Harshad number\n"
     ]
    }
   ],
   "source": [
    "num = int(input('Enter Number: '))\n",
    "temp = num \n",
    "sum = 0\n",
    "\n",
    "while temp>0:\n",
    "    digit = temp%10\n",
    "    temp = temp//10\n",
    "    sum = sum + digit\n",
    "    \n",
    "    \n",
    "if num%sum == 0:\n",
    "    print('Yes!', num, 'is a Harshad number')\n",
    "else:\n",
    "    print('No!',num, 'is not a Harshad number')"
   ]
  },
  {
   "cell_type": "markdown",
   "id": "5948d775",
   "metadata": {},
   "source": [
    "**6.\tWrite a Python program to print all pronic numbers between 1 and 100?**\n",
    "\n",
    "**Answer-**\n",
    "> A pronic number is a number that is the product of two consecutive integers, that is, a number of the form {\\displaystyle n.} The study of these numbers dates back to Aristotle.\n",
    "![](https://www.w3resource.com/w3r_images/c-numbers-image-exercise-20.svg)"
   ]
  },
  {
   "cell_type": "code",
   "execution_count": 58,
   "id": "094b4176",
   "metadata": {},
   "outputs": [
    {
     "name": "stdout",
     "output_type": "stream",
     "text": [
      "All Pronic number between 1 and 1000: \n",
      "\n",
      "2\n",
      "6\n",
      "12\n",
      "20\n",
      "30\n",
      "42\n",
      "56\n",
      "72\n",
      "90\n",
      "110\n",
      "132\n",
      "156\n",
      "182\n",
      "210\n",
      "240\n",
      "272\n",
      "306\n",
      "342\n",
      "380\n",
      "420\n",
      "462\n",
      "506\n",
      "552\n",
      "600\n",
      "650\n",
      "702\n",
      "756\n",
      "812\n",
      "870\n",
      "930\n",
      "992\n"
     ]
    }
   ],
   "source": [
    "# Defining the lower and upper limit\n",
    "lower = 1\n",
    "upper = 1000\n",
    "\n",
    "print(f'All Pronic number between {lower} and {upper}: \\n')\n",
    "\n",
    "for num in range(lower,upper):\n",
    "    for i in range(num):\n",
    "        if i * (i+1) == num:\n",
    "            print(num)"
   ]
  }
 ],
 "metadata": {
  "kernelspec": {
   "display_name": "Python 3 (ipykernel)",
   "language": "python",
   "name": "python3"
  },
  "language_info": {
   "codemirror_mode": {
    "name": "ipython",
    "version": 3
   },
   "file_extension": ".py",
   "mimetype": "text/x-python",
   "name": "python",
   "nbconvert_exporter": "python",
   "pygments_lexer": "ipython3",
   "version": "3.9.12"
  }
 },
 "nbformat": 4,
 "nbformat_minor": 5
}
