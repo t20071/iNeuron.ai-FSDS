{
 "cells": [
  {
   "cell_type": "markdown",
   "id": "bf9580ac",
   "metadata": {},
   "source": [
    "# Python_Advance_09"
   ]
  },
  {
   "cell_type": "markdown",
   "id": "62ed3892",
   "metadata": {},
   "source": [
    "**Q1. In Python 3.X, what are the names and functions of string object types?**\n",
    "\n",
    "**Answer**. \n",
    "\n",
    "**In Python 3.X, the primary string object types are:**\n",
    "\n",
    "**str:** This is the Unicode text string type. It represents sequences of Unicode characters and is the default string type in Python 3.\n",
    "\n",
    "**bytes:** This type represents sequences of bytes and is used for handling binary data. It is immutable, similar to str.\n",
    "\n",
    "**bytearray:** This is a mutable sequence of bytes, unlike bytes and str. It allows modifications after creation"
   ]
  },
  {
   "cell_type": "code",
   "execution_count": 2,
   "id": "6325f1ba",
   "metadata": {},
   "outputs": [
    {
     "name": "stdout",
     "output_type": "stream",
     "text": [
      "Hello, World!\n",
      "This is a raw string\\nNew line won't be escaped.\n",
      "b'Byte string example'\n",
      "Unicode string example: shard\n"
     ]
    }
   ],
   "source": [
    "# Examples of string object types in Python 3.X\n",
    "\n",
    "# Regular string\n",
    "regular_string = \"Hello, World!\"\n",
    "\n",
    "# Raw string\n",
    "raw_string = r\"This is a raw string\\nNew line won't be escaped.\"\n",
    "\n",
    "# Byte string\n",
    "byte_string = b\"Byte string example\"\n",
    "\n",
    "# Unicode string\n",
    "unicode_string = \"Unicode string example: shard\"\n",
    "\n",
    "print(regular_string)\n",
    "print(raw_string)\n",
    "print(byte_string)\n",
    "print(unicode_string)\n"
   ]
  },
  {
   "cell_type": "markdown",
   "id": "22991b25",
   "metadata": {},
   "source": [
    "**Q2. String forms in Python 3.X and their variations in terms of operations:**"
   ]
  },
  {
   "cell_type": "code",
   "execution_count": 4,
   "id": "3e60870e",
   "metadata": {},
   "outputs": [
    {
     "name": "stdout",
     "output_type": "stream",
     "text": [
      "Hello World\n",
      "HelloHelloHello\n",
      "Hello\n"
     ]
    }
   ],
   "source": [
    "# String operations in Python 3.X\n",
    "\n",
    "string1 = \"Hello\"\n",
    "string2 = \"World\"\n",
    "\n",
    "# Concatenation\n",
    "concatenated_string = string1 + \" \" + string2\n",
    "\n",
    "# Repetition\n",
    "repeated_string = string1 * 3\n",
    "\n",
    "# Slicing\n",
    "sliced_string = concatenated_string[0:5]\n",
    "\n",
    "print(concatenated_string)\n",
    "print(repeated_string)\n",
    "print(sliced_string)\n",
    "\n"
   ]
  },
  {
   "cell_type": "markdown",
   "id": "d86a43d6",
   "metadata": {},
   "source": [
    "**Q3. Putting non-ASCII Unicode characters in a string:**\n",
    "\n",
    "> Non-ASCII Unicode characters can be included in a string using Unicode escape sequences or by directly including the characters if the source file encoding supports them. For example:"
   ]
  },
  {
   "cell_type": "code",
   "execution_count": 5,
   "id": "42f492fc",
   "metadata": {},
   "outputs": [],
   "source": [
    "unicode_str = \"This is a string with non-ASCII character: \\u03A9\"  # Omega symbol"
   ]
  },
  {
   "cell_type": "code",
   "execution_count": 6,
   "id": "794c0c69",
   "metadata": {},
   "outputs": [
    {
     "name": "stdout",
     "output_type": "stream",
     "text": [
      "This is a Unicode string: ñ\n"
     ]
    }
   ],
   "source": [
    "# Using Unicode characters in a string in Python 3.X\n",
    "\n",
    "unicode_char = \"ñ\"\n",
    "unicode_string = f\"This is a Unicode string: {unicode_char}\"\n",
    "\n",
    "print(unicode_string)\n"
   ]
  },
  {
   "cell_type": "markdown",
   "id": "ba73f5f5",
   "metadata": {},
   "source": [
    "**Q4. In Python 3.X, what are the key differences between text-mode and binary-mode files?**\n",
    "\n",
    "**Answer**\n",
    "\n",
    "**Text mode ('t'):** Reads and writes strings. It performs encoding/decoding, translating between platform-specific newline characters and \\n.\n",
    "\n",
    "**Binary mode ('b'):** Reads and writes raw bytes. No encoding/decoding is performed, and the data is treated as-is."
   ]
  },
  {
   "cell_type": "code",
   "execution_count": 8,
   "id": "b1fcc9c7",
   "metadata": {},
   "outputs": [],
   "source": [
    "# Opening files in text-mode and binary-mode in Python 3.X\n",
    "\n",
    "# Text-mode file\n",
    "with open(\"text_file.txt\", \"w\") as text_file:\n",
    "    text_file.write(\"This is a text file.\")\n",
    "\n",
    "# Binary-mode file\n",
    "with open(\"binary_file.bin\", \"wb\") as binary_file:\n",
    "    binary_file.write(b\"Binary data goes here.\")\n"
   ]
  },
  {
   "cell_type": "markdown",
   "id": "c962506f",
   "metadata": {},
   "source": [
    "**Q5. Interpreting a Unicode text file with a different encoding:**"
   ]
  },
  {
   "cell_type": "markdown",
   "id": "0faef238",
   "metadata": {},
   "source": [
    "> We can specify the desired encoding when opening the file using the encoding parameter of the open() function:\n",
    "\n",
    "**Reading a Unicode text file with a specific encoding in Python 3.X**"
   ]
  },
  {
   "cell_type": "markdown",
   "id": "ccaf7784",
   "metadata": {},
   "source": [
    "``` json\n",
    "file_path = \"text_file.txt\"\n",
    "desired_encoding = \"utf-16\"\n",
    "\n",
    "with open(file_path, \"r\", encoding=desired_encoding) as unicode_file:\n",
    "    content = unicode_file.read()\n",
    "\n",
    "print(content)\n",
    "```"
   ]
  },
  {
   "cell_type": "markdown",
   "id": "63686c26",
   "metadata": {},
   "source": [
    "**Q6. What is the best way to make a Unicode text file in a particular encoding format?**\n",
    "\n",
    "> When writing to a file, you can specify the encoding using the encoding parameter:"
   ]
  },
  {
   "cell_type": "code",
   "execution_count": 14,
   "id": "92154891",
   "metadata": {},
   "outputs": [],
   "source": [
    "with open('file.txt', 'w', encoding='utf-16') as file:\n",
    "    file.write(\"This is Unicode text.\")\n"
   ]
  },
  {
   "cell_type": "markdown",
   "id": "3d4e8785",
   "metadata": {},
   "source": [
    "**Q7. Qualifying ASCII text as a form of Unicode text:**"
   ]
  },
  {
   "cell_type": "markdown",
   "id": "a1b23e14",
   "metadata": {},
   "source": [
    "ASCII text is a subset of Unicode text. Since ASCII uses a 7-bit encoding, any ASCII text is also valid Unicode text because Unicode characters can be represented in 7 or 8 bits"
   ]
  },
  {
   "cell_type": "code",
   "execution_count": 15,
   "id": "6b5576b2",
   "metadata": {},
   "outputs": [
    {
     "name": "stdout",
     "output_type": "stream",
     "text": [
      "This is ASCII text.\n"
     ]
    }
   ],
   "source": [
    "# ASCII text as a form of Unicode text in Python 3.X\n",
    "\n",
    "ascii_text = \"This is ASCII text.\"\n",
    "\n",
    "# ASCII text is also valid Unicode text\n",
    "unicode_text = ascii_text\n",
    "\n",
    "print(unicode_text)"
   ]
  },
  {
   "cell_type": "markdown",
   "id": "2affcdc8",
   "metadata": {},
   "source": [
    "**Q8. How much of an effect does the change in string types in Python 3.X have on your code?**\n",
    "\n",
    "> The change in string types in Python 3.X, particularly the introduction of Unicode as the default string type, has implications for handling text and encoding. \n",
    "\n",
    "> Here's a general example:\n"
   ]
  },
  {
   "cell_type": "code",
   "execution_count": 16,
   "id": "113bd1e6",
   "metadata": {},
   "outputs": [
    {
     "name": "stdout",
     "output_type": "stream",
     "text": [
      "Hello, World!\n"
     ]
    }
   ],
   "source": [
    "# Python 2.X code\n",
    "# Assuming string is ASCII by default\n",
    "string2_x = \"Hello, World!\"\n",
    "\n",
    "# Python 3.X code\n",
    "# Unicode is the default string type\n",
    "string3_x = \"Hello, World!\"\n",
    "\n",
    "# Code may need adjustments for encoding and decoding operations\n",
    "encoded_bytes = string3_x.encode('utf-8')\n",
    "decoded_string = encoded_bytes.decode('utf-8')\n",
    "\n",
    "print(decoded_string)\n"
   ]
  }
 ],
 "metadata": {
  "kernelspec": {
   "display_name": "Python 3 (ipykernel)",
   "language": "python",
   "name": "python3"
  },
  "language_info": {
   "codemirror_mode": {
    "name": "ipython",
    "version": 3
   },
   "file_extension": ".py",
   "mimetype": "text/x-python",
   "name": "python",
   "nbconvert_exporter": "python",
   "pygments_lexer": "ipython3",
   "version": "3.11.5"
  }
 },
 "nbformat": 4,
 "nbformat_minor": 5
}
