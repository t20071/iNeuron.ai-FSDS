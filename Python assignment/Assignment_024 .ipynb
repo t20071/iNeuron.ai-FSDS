{
 "cells": [
  {
   "cell_type": "markdown",
   "id": "7a6ce950",
   "metadata": {},
   "source": [
    "# Assignment_024 \n",
    "**Tuesday, 29 November 2022**                \n",
    "[sharadpardhe08@gmail.com](link)"
   ]
  },
  {
   "cell_type": "markdown",
   "id": "b02f8f09",
   "metadata": {},
   "source": [
    "**1. What is the relationship between def statements and lambda expressions ?          \n",
    "Answer-**               \n",
    "1. Both lambda and def produce same type of function but Their syntactical differance is that lambda is ```expression``` and def is ```statement``` for producing a function.\n",
    "1. The ```def``` defined functions do not return anything if not explicitly returned whereas the ```lambda``` function does return an object."
   ]
  },
  {
   "cell_type": "code",
   "execution_count": 1,
   "id": "5ffb5015",
   "metadata": {},
   "outputs": [
    {
     "data": {
      "text/plain": [
       "27"
      ]
     },
     "execution_count": 1,
     "metadata": {},
     "output_type": "execute_result"
    }
   ],
   "source": [
    "# using def \n",
    "def cube1(x):\n",
    "    return x**3\n",
    "cube1(3)"
   ]
  },
  {
   "cell_type": "code",
   "execution_count": 2,
   "id": "cc39d4a7",
   "metadata": {},
   "outputs": [
    {
     "data": {
      "text/plain": [
       "27"
      ]
     },
     "execution_count": 2,
     "metadata": {},
     "output_type": "execute_result"
    }
   ],
   "source": [
    "# using lambda\n",
    "cube2 = lambda x:x**3\n",
    "cube2(3)"
   ]
  },
  {
   "cell_type": "markdown",
   "id": "9da47a21",
   "metadata": {},
   "source": [
    "**2. What is the benefit of lambda?         \n",
    "Answer-**           \n",
    "1. A lambda expression defines a function; the advantage over the def statement is you don't need to write a name for it.\n",
    "1. sort lambda expression is easy to read.\n",
    "1. In map and filter, less line of code required."
   ]
  },
  {
   "cell_type": "markdown",
   "id": "31d86e3a",
   "metadata": {},
   "source": [
    "**3. Compare and contrast map, filter, and reduce.             \n",
    "Answer-**"
   ]
  },
  {
   "cell_type": "code",
   "execution_count": 3,
   "id": "1272600d",
   "metadata": {},
   "outputs": [
    {
     "data": {
      "text/plain": [
       "[6, 7, 8, 9, 10]"
      ]
     },
     "execution_count": 3,
     "metadata": {},
     "output_type": "execute_result"
    }
   ],
   "source": [
    "# map \n",
    "l = [1,2,3,4,5]\n",
    "list(map(lambda x:x+5,l))"
   ]
  },
  {
   "cell_type": "code",
   "execution_count": 4,
   "id": "7508ff95",
   "metadata": {},
   "outputs": [
    {
     "data": {
      "text/plain": [
       "[5, 7, 7, 845, 3, 13, 4563, 653]"
      ]
     },
     "execution_count": 4,
     "metadata": {},
     "output_type": "execute_result"
    }
   ],
   "source": [
    "# filter \n",
    "l = [4,5,6,7,7,845,6,3,14,13,42,4563,653]\n",
    "list(filter(lambda x:x%2==1,l)) # odd number filter "
   ]
  },
  {
   "cell_type": "code",
   "execution_count": 5,
   "id": "0070f153",
   "metadata": {},
   "outputs": [
    {
     "data": {
      "text/plain": [
       "84"
      ]
     },
     "execution_count": 5,
     "metadata": {},
     "output_type": "execute_result"
    }
   ],
   "source": [
    "# reduce \n",
    "from functools import reduce\n",
    "l = [1,2,3,4,5,6,7,8,43,2,3]\n",
    "reduce(lambda i,j:i+j , l)  # sum of all the element in list "
   ]
  },
  {
   "cell_type": "code",
   "execution_count": 6,
   "id": "32244021",
   "metadata": {},
   "outputs": [
    {
     "data": {
      "text/plain": [
       "10402560"
      ]
     },
     "execution_count": 6,
     "metadata": {},
     "output_type": "execute_result"
    }
   ],
   "source": [
    "reduce(lambda i,j:i*j , l) # product of all the element in list "
   ]
  },
  {
   "cell_type": "markdown",
   "id": "dce2b813",
   "metadata": {},
   "source": [
    "**4. What are function annotations, and how are they used?               \n",
    "Answer-**           \n",
    "Function annotation are document standard which gives  the information how to use the code.               \n",
    "This are optional."
   ]
  },
  {
   "cell_type": "code",
   "execution_count": 7,
   "id": "2a0310ce",
   "metadata": {},
   "outputs": [],
   "source": [
    "def multiply_by_10(number:int) -> int: \n",
    "        \"\"\"This function return number multiplied by 10 \"\"\"\n",
    "        return number*10"
   ]
  },
  {
   "cell_type": "markdown",
   "id": "021be8d5",
   "metadata": {},
   "source": [
    "##### int is annotation which define input and return value should be integer"
   ]
  },
  {
   "cell_type": "code",
   "execution_count": 8,
   "id": "09f8d27e",
   "metadata": {},
   "outputs": [
    {
     "data": {
      "text/plain": [
       "40"
      ]
     },
     "execution_count": 8,
     "metadata": {},
     "output_type": "execute_result"
    }
   ],
   "source": [
    "multiply_by_10(4)"
   ]
  },
  {
   "cell_type": "markdown",
   "id": "82635a3b",
   "metadata": {},
   "source": [
    "**5. What are recursive functions, and how are they used?            \n",
    "Answer-**       \n",
    "Recurcing is the process of determining something in terms of itself.             \n",
    "example - Russian Doll.        \n",
    "\n",
    "The code runs till ceratin condition meet.       \n",
    "\n",
    "Advantages of recursion           \n",
    "1. The code is clean and elegant in a recursive function.\n",
    "1. A composite task can be broken down in simple sub task."
   ]
  },
  {
   "cell_type": "code",
   "execution_count": 9,
   "id": "2dcc4bfa",
   "metadata": {},
   "outputs": [],
   "source": [
    "def factorial(n):\n",
    "    if n == 1:\n",
    "        return n \n",
    "    else:\n",
    "        return n * factorial(n-1)"
   ]
  },
  {
   "cell_type": "code",
   "execution_count": 10,
   "id": "0394b846",
   "metadata": {},
   "outputs": [
    {
     "data": {
      "text/plain": [
       "5040"
      ]
     },
     "execution_count": 10,
     "metadata": {},
     "output_type": "execute_result"
    }
   ],
   "source": [
    "factorial(7)"
   ]
  },
  {
   "cell_type": "code",
   "execution_count": 11,
   "id": "de290e6a",
   "metadata": {},
   "outputs": [
    {
     "data": {
      "text/plain": [
       "3000"
      ]
     },
     "execution_count": 11,
     "metadata": {},
     "output_type": "execute_result"
    }
   ],
   "source": [
    "import sys\n",
    "sys.getrecursionlimit() # it will give recursin limit"
   ]
  },
  {
   "cell_type": "markdown",
   "id": "e968b6c9",
   "metadata": {},
   "source": [
    "**6. What are some general design guidelines for coding functions?                 \n",
    "Answer-**\n",
    "1. Function annotation. \n",
    "``` json\n",
    "def multiply_by_10(number:int) -> int: \n",
    "        \"\"\"This function return number multiplied by 10 \"\"\"\n",
    "        return number*10\n",
    "```\n",
    "1. Use docstrings while defining the function.\n",
    "```JSON\n",
    "def exam():\n",
    "    \"\"\"This is single line docstring\"\"\"\n",
    "\n",
    "    \"\"\"This is\n",
    "    a\n",
    "    multiline comment\"\"\"\n",
    " ```\n",
    "1. Function naming convention. \n",
    "1. Use Python’s default UTF-8 or ASCII encodings and not any fancy encodings, if it is meant for international environment.\n",
    "1. Use spaces around operators and after commas, but not directly inside bracketing constructs:     \n",
    "```a = f(1, 2) + g(3, 4)```"
   ]
  },
  {
   "cell_type": "markdown",
   "id": "42e97791",
   "metadata": {},
   "source": [
    "**7. Name three or more ways that functions can communicate results to a caller.         \n",
    "Answer-**\n"
   ]
  },
  {
   "cell_type": "code",
   "execution_count": 12,
   "id": "f3324db2",
   "metadata": {},
   "outputs": [],
   "source": [
    "def multiply_by_10(number:int) -> int: \n",
    "        \"\"\"This function return number multiplied by 10 \"\"\"\n",
    "        return number*10"
   ]
  },
  {
   "cell_type": "code",
   "execution_count": 13,
   "id": "b3a012b8",
   "metadata": {},
   "outputs": [
    {
     "data": {
      "text/plain": [
       "340"
      ]
     },
     "execution_count": 13,
     "metadata": {},
     "output_type": "execute_result"
    }
   ],
   "source": [
    "multiply_by_10(34) # calling the function"
   ]
  }
 ],
 "metadata": {
  "kernelspec": {
   "display_name": "Python 3 (ipykernel)",
   "language": "python",
   "name": "python3"
  },
  "language_info": {
   "codemirror_mode": {
    "name": "ipython",
    "version": 3
   },
   "file_extension": ".py",
   "mimetype": "text/x-python",
   "name": "python",
   "nbconvert_exporter": "python",
   "pygments_lexer": "ipython3",
   "version": "3.9.12"
  }
 },
 "nbformat": 4,
 "nbformat_minor": 5
}
