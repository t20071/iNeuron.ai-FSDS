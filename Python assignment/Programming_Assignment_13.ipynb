{
 "cells": [
  {
   "cell_type": "markdown",
   "id": "cfdb718a",
   "metadata": {},
   "source": [
    "# Programming Assignment_13\n",
    "**Tuesday, 27 December 2022**             \n",
    "[sharadpardhe08@gmail.com](link)"
   ]
  },
  {
   "cell_type": "markdown",
   "id": "942e8a64",
   "metadata": {},
   "source": [
    "### **Question 1: Write a program that calculates and prints the value according to the given formula:**\n",
    "\n",
    "> Q = ```Square root of [(2 * C * D)/H]```       \n",
    "Following are the fixed values of C and H:         \n",
    "```C``` is 50. ```H``` is 30.         \n",
    "```D``` is the variable whose values should be input to your program in a comma-separated sequence.      \n",
    "\n",
    "**Example**\n",
    "\n",
    ">Let us assume the following comma separated input sequence is given to the program:      \n",
    "100,150,180       \n",
    "The output of the program should be:         \n",
    "18,22,24"
   ]
  },
  {
   "cell_type": "code",
   "execution_count": 3,
   "id": "3039b541",
   "metadata": {},
   "outputs": [
    {
     "name": "stdout",
     "output_type": "stream",
     "text": [
      "The results of Q are: [18.257418583505537, 25.81988897471611, 10.0]\n"
     ]
    }
   ],
   "source": [
    "# Importing neccesary module \n",
    "import math \n",
    "\n",
    "# given\n",
    "C = 50 \n",
    "H = 30\n",
    "\n",
    "# assume value of \n",
    "D = [100,200,30]\n",
    "\n",
    "# define empty list for storring element\n",
    "res = []\n",
    "\n",
    "for i in D:\n",
    "    Q = math.sqrt((2 * C * i)/H)\n",
    "    res.append(Q)\n",
    "\n",
    "print('The results of Q are:', res)"
   ]
  },
  {
   "cell_type": "markdown",
   "id": "2f4a8b54",
   "metadata": {},
   "source": [
    "### **Question 2:Write a program which takes 2 digits, X,Y as input and generates a 2-dimensional array. The element value in the i-th row and j-th column of the array should be i*j.**\n",
    "\n",
    "> **Note:** i=0,1......, X-1;            \n",
    "j=0,1,.......,Y-1.\n",
    "\n",
    "**Example**\n",
    "\n",
    "> Suppose the following inputs are given to the program: ```3,5```       \n",
    "Then, the output of the program should be:       \n",
    "[[0, 0, 0, 0, 0],      \n",
    "[0, 1, 2, 3, 4],       \n",
    "[0, 2, 4, 6, 8]]         \n"
   ]
  },
  {
   "cell_type": "code",
   "execution_count": 9,
   "id": "469f9e05",
   "metadata": {},
   "outputs": [
    {
     "name": "stdout",
     "output_type": "stream",
     "text": [
      "[[ 0  0  0  0  0]\n",
      " [ 0  1  2  3  4]\n",
      " [ 0  2  4  6  8]\n",
      " [ 0  3  6  9 12]]\n"
     ]
    }
   ],
   "source": [
    "import numpy as np \n",
    "def matrix_creation(X,Y):\n",
    "    '''program which takes 2 digits, X,Y as input and generates a 2-dimensional array. The element value in the i-th row and j-th column of the array should be i*j.'''\n",
    "    \n",
    "    mat  = np.zeros((X,Y))\n",
    "    \n",
    "    for i in range(len(mat)): # iterate through each row\n",
    "        for j in range(len(mat[0])): # iterate through each column \n",
    "            mat[i][j] = int(i*j)     # storing the ele in mat\n",
    "    \n",
    "    new_mat = mat.astype(int)   # converting float to int \n",
    "    \n",
    "    return new_mat\n",
    "                    \n",
    "print(matrix_creation(4,5))"
   ]
  },
  {
   "cell_type": "markdown",
   "id": "a9da91e1",
   "metadata": {},
   "source": [
    "### Question 3: Write a program that accepts a comma separated sequence of words as input and prints the words in a comma-separated sequence after sorting them alphabetically.\n",
    "\n",
    ">Suppose the following input is supplied to the program:  ```without,hello,bag,world```          \n",
    "Then, the output should be: ```bag,hello,without,world```"
   ]
  },
  {
   "cell_type": "code",
   "execution_count": 15,
   "id": "5b8c7f43",
   "metadata": {},
   "outputs": [
    {
     "name": "stdout",
     "output_type": "stream",
     "text": [
      "Please enter comma separated sequence of words: without,hello,bag,world\n"
     ]
    },
    {
     "data": {
      "text/plain": [
       "'bag,hello,without,world'"
      ]
     },
     "execution_count": 15,
     "metadata": {},
     "output_type": "execute_result"
    }
   ],
   "source": [
    "words = input('Please enter comma separated sequence of words: ')\n",
    "lst_word = words.split(',')\n",
    "sort_list = sorted(lst_word)\n",
    "(',').join(sort_list)"
   ]
  },
  {
   "cell_type": "markdown",
   "id": "2b57bd3d",
   "metadata": {},
   "source": [
    "### Question 4: Write a program that accepts a sequence of whitespace separated words as input and prints the words after removing all duplicate words and sorting them alphanumerically.\n",
    "\n",
    "> Suppose the following input is supplied to the program:```hello world and practice makes perfect and hello world again```    \n",
    "Then, the output should be:```again and hello makes perfect practice world```\n"
   ]
  },
  {
   "cell_type": "code",
   "execution_count": 17,
   "id": "b74490a6",
   "metadata": {},
   "outputs": [
    {
     "name": "stdout",
     "output_type": "stream",
     "text": [
      "Please enter whitespace separated sequence of words: hello world and practice makes perfect and hello world again\n"
     ]
    },
    {
     "data": {
      "text/plain": [
       "'again and hello makes perfect practice world'"
      ]
     },
     "execution_count": 17,
     "metadata": {},
     "output_type": "execute_result"
    }
   ],
   "source": [
    "words = input('Please enter whitespace separated sequence of words: ')\n",
    "lst_word = words.split(' ')\n",
    "word_set = set(lst_word)\n",
    "sort_list = sorted(word_set)\n",
    "(' ').join(sort_list)"
   ]
  },
  {
   "cell_type": "markdown",
   "id": "f177dde0",
   "metadata": {},
   "source": [
    "### Question 5: Write a program that accepts a sentence and calculate the number of letters and digits.\n",
    "\n",
    "> Suppose the following input is supplied to the program: ```hello world! 123```  \n",
    "\n",
    ">Then, the output should be:        \n",
    "LETTERS 10      \n",
    "DIGITS 3     "
   ]
  },
  {
   "cell_type": "code",
   "execution_count": 4,
   "id": "00e79ed3",
   "metadata": {},
   "outputs": [
    {
     "name": "stdout",
     "output_type": "stream",
     "text": [
      "Enter the sentence: hello world! 123\n",
      "Letters - 10\n",
      "Digits - 3\n"
     ]
    }
   ],
   "source": [
    "sentence = input('Enter the sentence: ')\n",
    "\n",
    "Letters = ''\n",
    "Digits = ''\n",
    "\n",
    "for i in sentence:\n",
    "    if i.isdigit():\n",
    "        Digits += i\n",
    "    elif i.isalpha():\n",
    "        Letters += i\n",
    "        \n",
    "print(f'Letters - {len(Letters)}\\nDigits - {len(Digits)}')"
   ]
  },
  {
   "cell_type": "markdown",
   "id": "559aa916",
   "metadata": {},
   "source": [
    "### Question 6: A website requires the users to input username and password to register. Write a program to check the validity of password input by users.\n",
    "\n",
    "> Following are the criteria for checking the password:       \n",
    "> 1. At least 1 letter between [a-z]\n",
    "> 1. At least 1 number between [0-9]\n",
    "> 1. At least 1 letter between [A-Z]\n",
    "> 1. At least 1 character from [$#@]   \n",
    "> 1. Minimum length of transaction password: 6\n",
    "> 1. Maximum length of transaction password: 12\n",
    "\n",
    "Your program should accept a sequence of comma separated passwords and will check them according to the above criteria. Passwords that match the criteria are to be printed, each separated by a comma.\n",
    "\n",
    "**Example**\n",
    "\n",
    "> If the following passwords are given as input to the program:```ABd1234@1,a F1#,2w3E*,2We3345```      \n",
    "Then, the output of the program should be:```ABd1234@1```\n"
   ]
  },
  {
   "cell_type": "code",
   "execution_count": 11,
   "id": "46e75fc5",
   "metadata": {},
   "outputs": [
    {
     "name": "stdout",
     "output_type": "stream",
     "text": [
      "Enter the password: ABd1234@1,a F1#,2w3E*,2We3345\n",
      "The valid password is : ['ABd1234@1']\n"
     ]
    }
   ],
   "source": [
    "import re \n",
    "\n",
    "password = input('Enter the password: ').split(',')\n",
    "valid = []\n",
    "\n",
    "for i in password:\n",
    "    \n",
    "    if len(i) < 6 or len(i)>12:\n",
    "        continue\n",
    "    elif not re.search(r'[a-z]',i):\n",
    "        continue\n",
    "    elif not re.search(r'[A-Z]',i):\n",
    "        continue\n",
    "    elif not re.search(r'[0-9]',i):\n",
    "        continue\n",
    "    elif not re.search(r'[$#@]',i):\n",
    "        continue\n",
    "    else:\n",
    "        valid.append(i)\n",
    "        \n",
    "print('The valid password is :', str(valid))"
   ]
  }
 ],
 "metadata": {
  "kernelspec": {
   "display_name": "Python 3 (ipykernel)",
   "language": "python",
   "name": "python3"
  },
  "language_info": {
   "codemirror_mode": {
    "name": "ipython",
    "version": 3
   },
   "file_extension": ".py",
   "mimetype": "text/x-python",
   "name": "python",
   "nbconvert_exporter": "python",
   "pygments_lexer": "ipython3",
   "version": "3.9.12"
  }
 },
 "nbformat": 4,
 "nbformat_minor": 5
}
