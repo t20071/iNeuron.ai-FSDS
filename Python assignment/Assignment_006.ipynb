{
 "cells": [
  {
   "cell_type": "markdown",
   "id": "19498164",
   "metadata": {},
   "source": [
    "# Assignment_6\n",
    "> **_Date 20 oct 2022_**\n",
    "\n",
    "**1. What are escape characters, and how do you use them?**\n",
    "\n",
    "**Answer-** \n",
    "\n",
    "Escape characters used to escape a single characterss or symbol in string. Backslash ```\\``` is a escape character in python.\n",
    "\n",
    "**Example**"
   ]
  },
  {
   "cell_type": "code",
   "execution_count": 1,
   "id": "8abc6c40",
   "metadata": {},
   "outputs": [
    {
     "name": "stdout",
     "output_type": "stream",
     "text": [
      "My name is 'Sharad' \n",
      "\n",
      "My name is \"Sharad\"\n",
      "\n",
      "My name is 'Sharad' and \n",
      "I live in INDIA.\n",
      "\n",
      "My name is 'Sharad' and \tI live in INDIA.\n",
      "\n"
     ]
    }
   ],
   "source": [
    "print(\"My name is \\'Sharad\\' \\n\")  # \\ is escaping the single quatation character.\n",
    "print('My name is \\\"Sharad\\\"\\n')\n",
    "print(\"My name is \\'Sharad\\' and \\nI live in INDIA.\\n\")  # \\n is new line character.\n",
    "print(\"My name is \\'Sharad\\' and \\tI live in INDIA.\\n\")  # \\t is tab character which give four spaces."
   ]
  },
  {
   "cell_type": "markdown",
   "id": "052bdd55",
   "metadata": {},
   "source": [
    "**2. What do the escape characters n and t stand for?**\n",
    "\n",
    "**Answer-**\n",
    "\n",
    "* \\n..... New line character.\n",
    "* \\t..... Horizontal tab character."
   ]
  },
  {
   "cell_type": "code",
   "execution_count": 2,
   "id": "94dddfb2",
   "metadata": {},
   "outputs": [
    {
     "name": "stdout",
     "output_type": "stream",
     "text": [
      "My name is 'Sharad' and \n",
      "I live in INDIA.\n",
      "\n",
      "My name is 'Sharad' and \tI live in INDIA.\n",
      "\n"
     ]
    }
   ],
   "source": [
    "print(\"My name is \\'Sharad\\' and \\nI live in INDIA.\\n\")  # \\n is new line character.\n",
    "print(\"My name is \\'Sharad\\' and \\tI live in INDIA.\\n\")  # \\t is tab character which give four spaces."
   ]
  },
  {
   "cell_type": "markdown",
   "id": "e5da2806",
   "metadata": {},
   "source": [
    "**3. What is the way to include backslash characters in a string?**\n",
    "\n",
    "**Answer**\n",
    "> Ways to include backslash characters in a string."
   ]
  },
  {
   "cell_type": "code",
   "execution_count": 3,
   "id": "3eabffb4",
   "metadata": {},
   "outputs": [
    {
     "name": "stdout",
     "output_type": "stream",
     "text": [
      "My name is 'Sharad'\n",
      "\n",
      "My name is \"Sharad\"\n",
      "\n",
      "My name is 'Sharad' and \n",
      "I live in INDIA.\n",
      "\n",
      "My name is 'Sharad' and \tI live in INDIA.\n",
      "\n"
     ]
    }
   ],
   "source": [
    "print(\"My name is \\'Sharad\\'\\n\")  # \\ is escaping the single quatation character.\n",
    "print('My name is \\\"Sharad\\\"\\n')\n",
    "print(\"My name is \\'Sharad\\' and \\nI live in INDIA.\\n\")  # \\n is new line character.\n",
    "print(\"My name is \\'Sharad\\' and \\tI live in INDIA.\\n\")  # \\t is tab character which give four spaces."
   ]
  },
  {
   "cell_type": "markdown",
   "id": "7e7c7706",
   "metadata": {},
   "source": [
    "**4. The string \"Howl's Moving Castle\" is a correct value. Why isn't the single quote character in the word Howl's not escaped a problem?**\n",
    "\n",
    "**Answer-**\n",
    "Single quatation```''``` is not giving an error because we have used double quatation ```\"\"``` at begining and at the start of the string. "
   ]
  },
  {
   "cell_type": "code",
   "execution_count": 4,
   "id": "c8378279",
   "metadata": {},
   "outputs": [
    {
     "name": "stdout",
     "output_type": "stream",
     "text": [
      "Howl's Moving Castle\n"
     ]
    }
   ],
   "source": [
    "print(\"Howl's Moving Castle\")"
   ]
  },
  {
   "cell_type": "markdown",
   "id": "7ea12b0a",
   "metadata": {},
   "source": [
    "**5. How do you write a string of newlines if you don't want to use the n character?**\n",
    "\n",
    "**Answer-**\n",
    "\n",
    "Use multiline character"
   ]
  },
  {
   "cell_type": "code",
   "execution_count": 5,
   "id": "7480b3da",
   "metadata": {},
   "outputs": [
    {
     "name": "stdout",
     "output_type": "stream",
     "text": [
      "My name is \"Sharad\"\n",
      "and I live in INDIA\n"
     ]
    }
   ],
   "source": [
    "print('''My name is \"Sharad\"\n",
    "and I live in INDIA''')"
   ]
  },
  {
   "cell_type": "markdown",
   "id": "3100909f",
   "metadata": {},
   "source": [
    "**6. What are the values of the given expressions?**  \n",
    "```'Hello, world!'[1]  \n",
    "'Hello, world!'[0:5]  \n",
    "'Hello, world!'[:5]  \n",
    "'Hello, world!'[3:]```\n",
    "\n",
    "**Answer-**"
   ]
  },
  {
   "cell_type": "code",
   "execution_count": 6,
   "id": "05c6fa66",
   "metadata": {},
   "outputs": [
    {
     "name": "stdout",
     "output_type": "stream",
     "text": [
      "e\n",
      "Hello\n",
      "Hello\n",
      "lo, world!\n"
     ]
    }
   ],
   "source": [
    "print('Hello, world!'[1])  \n",
    "print('Hello, world!'[0:5])  \n",
    "print('Hello, world!'[:5])  \n",
    "print('Hello, world!'[3:])"
   ]
  },
  {
   "cell_type": "markdown",
   "id": "4f064a60",
   "metadata": {},
   "source": [
    "**7. What are the values of the following expressions?**\n",
    "```'Hello'.upper()\n",
    "'Hello'.upper().isupper()\n",
    "'Hello'.upper().lower()```\n",
    "\n",
    "**Answer-**"
   ]
  },
  {
   "cell_type": "code",
   "execution_count": 7,
   "id": "7d66d40c",
   "metadata": {},
   "outputs": [
    {
     "name": "stdout",
     "output_type": "stream",
     "text": [
      "HELLO\n",
      "True\n",
      "hello\n"
     ]
    }
   ],
   "source": [
    "print('Hello'.upper())\n",
    "print('Hello'.upper().isupper())\n",
    "print('Hello'.upper().lower())"
   ]
  },
  {
   "cell_type": "markdown",
   "id": "5873e4d2",
   "metadata": {},
   "source": [
    "**8. What are the values of the following expressions?**\n",
    "```'Remember, remember, the fifth of July.'.split()\n",
    "'-'.join('There can only one.'.split())```\n",
    "\n",
    "**Answer-**"
   ]
  },
  {
   "cell_type": "code",
   "execution_count": 8,
   "id": "ac06c895",
   "metadata": {},
   "outputs": [
    {
     "name": "stdout",
     "output_type": "stream",
     "text": [
      "['Remember,', 'remember,', 'the', 'fifth', 'of', 'July.'] \n",
      "\n",
      "There-can-only-one.\n"
     ]
    }
   ],
   "source": [
    "print('Remember, remember, the fifth of July.'.split(),'\\n')\n",
    "print('-'.join('There can only one.'.split()))"
   ]
  },
  {
   "cell_type": "markdown",
   "id": "3166e353",
   "metadata": {},
   "source": [
    "**9. What are the methods for right-justifying, left-justifying, and centering a string?**\n",
    "\n",
    "**Answer-**"
   ]
  },
  {
   "cell_type": "code",
   "execution_count": 9,
   "id": "5c8ca8c0",
   "metadata": {},
   "outputs": [
    {
     "name": "stdout",
     "output_type": "stream",
     "text": [
      "This is original string\n",
      "My name is \"Sharad\" \n",
      "\n",
      "This is right justifying\n",
      "---------------------My name is \"Sharad\" \n",
      "\n",
      "This is center align\n",
      "----------My name is \"Sharad\"----------- \n",
      "\n",
      "This is left justifying\n",
      "My name is \"Sharad\"--------------------- \n",
      "\n"
     ]
    }
   ],
   "source": [
    "Name = 'My name is \\\"Sharad\"'\n",
    "print('This is original string')\n",
    "print(Name,\"\\n\")\n",
    "print('This is right justifying')\n",
    "print(Name.rjust(40,'-'),\"\\n\")\n",
    "print('This is center align')\n",
    "print(Name.center(40,'-'),\"\\n\")\n",
    "print('This is left justifying')\n",
    "print(Name.ljust(40,'-'),\"\\n\")"
   ]
  },
  {
   "cell_type": "markdown",
   "id": "8eccbed4",
   "metadata": {},
   "source": [
    "**10. What is the best way to remove whitespace characters from the start or end?**\n",
    "\n",
    "**Answer-**\n",
    "\n",
    "```College.strip()\n",
    "College.rstrip()\n",
    "College.lstrip()```"
   ]
  },
  {
   "cell_type": "code",
   "execution_count": 10,
   "id": "7119c51d",
   "metadata": {},
   "outputs": [
    {
     "data": {
      "text/plain": [
       "'India Institute Of Technology'"
      ]
     },
     "execution_count": 10,
     "metadata": {},
     "output_type": "execute_result"
    }
   ],
   "source": [
    "College = '   India Institute Of Technology    '\n",
    "College.strip()"
   ]
  }
 ],
 "metadata": {
  "kernelspec": {
   "display_name": "Python 3 (ipykernel)",
   "language": "python",
   "name": "python3"
  },
  "language_info": {
   "codemirror_mode": {
    "name": "ipython",
    "version": 3
   },
   "file_extension": ".py",
   "mimetype": "text/x-python",
   "name": "python",
   "nbconvert_exporter": "python",
   "pygments_lexer": "ipython3",
   "version": "3.9.12"
  }
 },
 "nbformat": 4,
 "nbformat_minor": 5
}
