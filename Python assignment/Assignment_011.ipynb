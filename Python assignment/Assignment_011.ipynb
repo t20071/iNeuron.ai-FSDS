{
 "cells": [
  {
   "cell_type": "markdown",
   "id": "1bc61a5b",
   "metadata": {},
   "source": [
    "# Assignment_11    \n",
    "\n",
    "**Date 14-15 November 2022**"
   ]
  },
  {
   "cell_type": "markdown",
   "id": "1ba4ab3b",
   "metadata": {},
   "source": [
    "**1. Create an assert statement that throws an AssertionError if the variable spam is a negative integer.**\n",
    "\n",
    "**_Answer_**\n"
   ]
  },
  {
   "cell_type": "code",
   "execution_count": 1,
   "id": "3fb4e36b",
   "metadata": {},
   "outputs": [
    {
     "ename": "AssertionError",
     "evalue": "Error - spam is negative number",
     "output_type": "error",
     "traceback": [
      "\u001b[1;31m---------------------------------------------------------------------------\u001b[0m",
      "\u001b[1;31mAssertionError\u001b[0m                            Traceback (most recent call last)",
      "Input \u001b[1;32mIn [1]\u001b[0m, in \u001b[0;36m<cell line: 2>\u001b[1;34m()\u001b[0m\n\u001b[0;32m      1\u001b[0m spam \u001b[38;5;241m=\u001b[39m \u001b[38;5;241m-\u001b[39m\u001b[38;5;241m9\u001b[39m\n\u001b[1;32m----> 2\u001b[0m \u001b[38;5;28;01massert\u001b[39;00m spam \u001b[38;5;241m>\u001b[39m \u001b[38;5;241m0\u001b[39m , \u001b[38;5;124m'\u001b[39m\u001b[38;5;124mError - spam is negative number\u001b[39m\u001b[38;5;124m'\u001b[39m\n",
      "\u001b[1;31mAssertionError\u001b[0m: Error - spam is negative number"
     ]
    }
   ],
   "source": [
    "spam = -9\n",
    "assert spam > 0 , 'Error - spam is negative number'"
   ]
  },
  {
   "cell_type": "markdown",
   "id": "3d1ec7ce",
   "metadata": {},
   "source": [
    "**2. Write an assert statement that triggers an AssertionError if the variables eggs and bacon contain strings that are the same as each other, even if their cases are different (that is, 'hello' and 'hello' are considered the same, and 'goodbye' and 'GOODbye' are also considered the same).**\n",
    "\n",
    "**_Answer_**"
   ]
  },
  {
   "cell_type": "code",
   "execution_count": 2,
   "id": "bbf85144",
   "metadata": {},
   "outputs": [
    {
     "ename": "AssertionError",
     "evalue": "eggs and bacon are same",
     "output_type": "error",
     "traceback": [
      "\u001b[1;31m---------------------------------------------------------------------------\u001b[0m",
      "\u001b[1;31mAssertionError\u001b[0m                            Traceback (most recent call last)",
      "Input \u001b[1;32mIn [2]\u001b[0m, in \u001b[0;36m<cell line: 3>\u001b[1;34m()\u001b[0m\n\u001b[0;32m      1\u001b[0m eggs \u001b[38;5;241m=\u001b[39m \u001b[38;5;124m'\u001b[39m\u001b[38;5;124msharad\u001b[39m\u001b[38;5;124m'\u001b[39m\n\u001b[0;32m      2\u001b[0m bacon \u001b[38;5;241m=\u001b[39m \u001b[38;5;124m'\u001b[39m\u001b[38;5;124msHaraD\u001b[39m\u001b[38;5;124m'\u001b[39m\n\u001b[1;32m----> 3\u001b[0m \u001b[38;5;28;01massert\u001b[39;00m eggs\u001b[38;5;241m.\u001b[39mlower() \u001b[38;5;241m!=\u001b[39m bacon\u001b[38;5;241m.\u001b[39mlower(), (\u001b[38;5;124m'\u001b[39m\u001b[38;5;124meggs and bacon are same\u001b[39m\u001b[38;5;124m'\u001b[39m)\n",
      "\u001b[1;31mAssertionError\u001b[0m: eggs and bacon are same"
     ]
    }
   ],
   "source": [
    "eggs = 'sharad'\n",
    "bacon = 'sHaraD'\n",
    "assert eggs.lower() != bacon.lower(), ('eggs and bacon are same')"
   ]
  },
  {
   "cell_type": "markdown",
   "id": "11b7f4c6",
   "metadata": {},
   "source": [
    "**3. Create an assert statement that throws an AssertionError every time.**\n",
    "\n",
    "**_Answer_**   "
   ]
  },
  {
   "cell_type": "code",
   "execution_count": 3,
   "id": "6af047b0",
   "metadata": {},
   "outputs": [
    {
     "ename": "AssertionError",
     "evalue": "It will through all time",
     "output_type": "error",
     "traceback": [
      "\u001b[1;31m---------------------------------------------------------------------------\u001b[0m",
      "\u001b[1;31mAssertionError\u001b[0m                            Traceback (most recent call last)",
      "Input \u001b[1;32mIn [3]\u001b[0m, in \u001b[0;36m<cell line: 1>\u001b[1;34m()\u001b[0m\n\u001b[1;32m----> 1\u001b[0m \u001b[38;5;28;01massert\u001b[39;00m \u001b[38;5;28;01mFalse\u001b[39;00m, \u001b[38;5;124m'\u001b[39m\u001b[38;5;124mIt will through all time\u001b[39m\u001b[38;5;124m'\u001b[39m\n",
      "\u001b[1;31mAssertionError\u001b[0m: It will through all time"
     ]
    }
   ],
   "source": [
    "assert False, 'It will through all time'"
   ]
  },
  {
   "cell_type": "markdown",
   "id": "e104a906",
   "metadata": {},
   "source": [
    "**4. What are the two lines that must be present in your software in order to call logging.debug()?**\n",
    "\n",
    "**_Answer_**   "
   ]
  },
  {
   "cell_type": "code",
   "execution_count": 4,
   "id": "05883888",
   "metadata": {},
   "outputs": [],
   "source": [
    "import logging\n",
    "logging.basicConfig(level = logging.DEBUG,format = '%(asctime)s -%(levelname)s- %(message)s')"
   ]
  },
  {
   "cell_type": "markdown",
   "id": "faedebb0",
   "metadata": {},
   "source": [
    "**5. What are the two lines that your program must have in order to have logging.debug() send a logging message to a file named programLog.txt?**\n",
    "\n",
    "**_Answer_**"
   ]
  },
  {
   "cell_type": "code",
   "execution_count": 5,
   "id": "8e25d82c",
   "metadata": {},
   "outputs": [],
   "source": [
    "import logging\n",
    "logging.basicConfig(filename = 'programLog.txt', level = logging.DEBUG,format = '%(asctime)s -%(levelname)s- %(message)s')"
   ]
  },
  {
   "cell_type": "markdown",
   "id": "8ff23165",
   "metadata": {},
   "source": [
    "**6. What are the five levels of logging?**\n",
    "\n",
    "**_Anwer_**"
   ]
  },
  {
   "cell_type": "markdown",
   "id": "be3325f5",
   "metadata": {},
   "source": [
    "1. debug\n",
    "1. info\n",
    "1. warning\n",
    "1. error\n",
    "1. critical"
   ]
  },
  {
   "cell_type": "markdown",
   "id": "58d93812",
   "metadata": {},
   "source": [
    "**7. What line of code would you add to your software to disable all logging messages?**\n",
    "\n",
    "**_Answer_**\n"
   ]
  },
  {
   "cell_type": "code",
   "execution_count": null,
   "id": "05bb7765",
   "metadata": {},
   "outputs": [],
   "source": [
    "logging.disable(logging.CRITICAL)"
   ]
  },
  {
   "cell_type": "markdown",
   "id": "5d873846",
   "metadata": {},
   "source": [
    "**8.Why is using logging messages better than using print() to display the same message?**\n",
    "\n",
    "**_Answer_**"
   ]
  },
  {
   "cell_type": "markdown",
   "id": "708d321e",
   "metadata": {},
   "source": [
    "logging allow you to display log message according to the level we want in seperate a file."
   ]
  },
  {
   "cell_type": "markdown",
   "id": "11a5788f",
   "metadata": {},
   "source": [
    "**9. What are the differences between the Step Over, Step In, and Step Out buttons in the debugger?**\n",
    "\n",
    "**_Answer_**"
   ]
  },
  {
   "cell_type": "markdown",
   "id": "dbfaab16",
   "metadata": {},
   "source": [
    "**Step In -** Move the debugger into a function call.   \n",
    "**Step over -**  Quickly execute the function call without stepping into it.   \n",
    "**Step Out -** quickly execute the rest of the code until it steps out of the function it currently is in."
   ]
  },
  {
   "cell_type": "markdown",
   "id": "f59349ee",
   "metadata": {},
   "source": [
    "**10.After you click Continue, when will the debugger stop ?**\n",
    "\n",
    "**_Answer_**    \n",
    "End of the program or a line with a breakpoint."
   ]
  },
  {
   "cell_type": "markdown",
   "id": "3fea2d28",
   "metadata": {},
   "source": [
    "**11. What is the concept of a breakpoint?**\n",
    "\n",
    "**_Answer_**   \n",
    "It will causes the debugger to pause when the program execution reaches the line."
   ]
  }
 ],
 "metadata": {
  "kernelspec": {
   "display_name": "Python 3 (ipykernel)",
   "language": "python",
   "name": "python3"
  },
  "language_info": {
   "codemirror_mode": {
    "name": "ipython",
    "version": 3
   },
   "file_extension": ".py",
   "mimetype": "text/x-python",
   "name": "python",
   "nbconvert_exporter": "python",
   "pygments_lexer": "ipython3",
   "version": "3.9.12"
  }
 },
 "nbformat": 4,
 "nbformat_minor": 5
}
