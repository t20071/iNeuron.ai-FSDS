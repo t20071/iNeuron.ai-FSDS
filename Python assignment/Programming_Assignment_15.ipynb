{
 "cells": [
  {
   "cell_type": "markdown",
   "id": "6a3eefab",
   "metadata": {},
   "source": [
    "# Programming_Assignment_15\n",
    "**Tuesday, 17 January 2023**         \n",
    "[sharadpardhe08@gmail.com](link)"
   ]
  },
  {
   "cell_type": "markdown",
   "id": "68ffedf3",
   "metadata": {},
   "source": [
    "**Question 1: Please write a program using generator to print the numbers which can be divisible by 5 and 7 between 0 and n in comma separated form while n is input by console.**\n",
    "> Example:\n",
    "If the following n is given as input to the program:100           \n",
    "Then, the output of the program should be:\n",
    "0,35,70"
   ]
  },
  {
   "cell_type": "code",
   "execution_count": 14,
   "id": "804d2bce",
   "metadata": {},
   "outputs": [
    {
     "name": "stdout",
     "output_type": "stream",
     "text": [
      "Enter a number: 200\n",
      "<generator object dev_5_7 at 0x000001C55C092890>\n",
      "0,35,70,105,140,175\n"
     ]
    }
   ],
   "source": [
    "def dev_5_7(n):\n",
    "    '''A program using generator to print the numbers which can be divisible by 5 and 7 between 0 and n '''\n",
    "    \n",
    "    # iterate over 0 to n+1\n",
    "    for i in range(0,n+1):\n",
    "        \n",
    "        # condition for number, div by 5 and 7\n",
    "        if i%5==0 and i%7==0:\n",
    "            yield i\n",
    "\n",
    "n = int(input('Enter a number: '))\n",
    "res = dev_5_7(n)\n",
    "print(res)\n",
    "\n",
    "lst =[]\n",
    "for i in res:\n",
    "    lst.append(str(i))\n",
    "\n",
    "print(','.join(lst))"
   ]
  },
  {
   "cell_type": "markdown",
   "id": "5925ed7a",
   "metadata": {},
   "source": [
    "**Question 2:\n",
    "Please write a program using generator to print the even numbers between 0 and n in comma separated form while n is input by console.**\n",
    "> Example:\n",
    "If the following n is given as input to the program: 10          \n",
    "Then, the output of the program should be:\n",
    "0,2,4,6,8,10\n"
   ]
  },
  {
   "cell_type": "code",
   "execution_count": 16,
   "id": "00eeefc6",
   "metadata": {},
   "outputs": [
    {
     "name": "stdout",
     "output_type": "stream",
     "text": [
      "Enter a number till you want to find even number: 25\n",
      "<generator object gen_even at 0x000001C55C092C80>\n",
      "0,2,4,6,8,10,12,14,16,18,20,22,24\n"
     ]
    }
   ],
   "source": [
    "def gen_even(n):\n",
    "    '''A program using generator to print the even numbers between 0 and n'''\n",
    "    \n",
    "    # iterate over 0 to n+1\n",
    "    for i in range(n+1):\n",
    "        \n",
    "        # condition for even number\n",
    "        if i%2 == 0:\n",
    "            yield i\n",
    "\n",
    "n = int(input('Enter a number till you want to find even number: '))\n",
    "res = gen_even(n)\n",
    "print(res)\n",
    "\n",
    "lst =[]\n",
    "for i in res:\n",
    "    lst.append(str(i))\n",
    "\n",
    "print(','.join(lst))"
   ]
  },
  {
   "cell_type": "markdown",
   "id": "0ca7ebea",
   "metadata": {},
   "source": [
    "**Question 3:     \n",
    "The Fibonacci Sequence is computed based on the following formula:         \n",
    "f(n)=0 if n=0   \n",
    "f(n)=1 if n=1        \n",
    "f(n)=f(n-1)+f(n-2) if n>1           \n",
    "Please write a program using list comprehension to print the Fibonacci Sequence in comma separated form with a given n input by console.**\n",
    "> Example:\n",
    "If the following n is given as input to the program:7         \n",
    "Then, the output of the program should be:\n",
    "0,1,1,2,3,5,8,13"
   ]
  },
  {
   "cell_type": "code",
   "execution_count": 30,
   "id": "6e48e95c",
   "metadata": {},
   "outputs": [
    {
     "name": "stdout",
     "output_type": "stream",
     "text": [
      "Enter number of fibonacci seriese you want: 7\n"
     ]
    },
    {
     "data": {
      "text/plain": [
       "<generator object Gen_fibonacci at 0x000001C55C5A2890>"
      ]
     },
     "execution_count": 30,
     "metadata": {},
     "output_type": "execute_result"
    }
   ],
   "source": [
    "def Gen_fibonacci(n):\n",
    "    \n",
    "    n1 = 0\n",
    "    n2 = 1\n",
    "    for i in range(n):\n",
    "        yield n1\n",
    "        n1,n2 = n2,n1+n2\n",
    "n = int(input('Enter number of fibonacci seriese you want: '))       \n",
    "res = Gen_fibonacci(n)\n",
    "res"
   ]
  },
  {
   "cell_type": "code",
   "execution_count": 31,
   "id": "55977710",
   "metadata": {},
   "outputs": [
    {
     "name": "stdout",
     "output_type": "stream",
     "text": [
      "0,1,1,2,3,5,8\n"
     ]
    }
   ],
   "source": [
    "lst =[]\n",
    "for i in res:\n",
    "    lst.append(str(i))\n",
    "\n",
    "print(','.join(lst))"
   ]
  },
  {
   "cell_type": "markdown",
   "id": "42a1df6e",
   "metadata": {},
   "source": [
    "**Question 4:\n",
    "Assuming that we have some email addresses in the \"username@companyname.com\" format, please write program to print the user name of a given email address. Both user names and company names are composed of letters only.**\n",
    "> Example:\n",
    "If the following email address is given as input to the program:\n",
    "john@google.com         \n",
    "Then, the output of the program should be:\n",
    "john          \n"
   ]
  },
  {
   "cell_type": "code",
   "execution_count": 34,
   "id": "ed6f6fad",
   "metadata": {},
   "outputs": [
    {
     "data": {
      "text/plain": [
       "'john'"
      ]
     },
     "execution_count": 34,
     "metadata": {},
     "output_type": "execute_result"
    }
   ],
   "source": [
    "email = 'john@google.com'\n",
    "lst = email.split('@')\n",
    "lst[0]"
   ]
  },
  {
   "cell_type": "code",
   "execution_count": 44,
   "id": "49935823",
   "metadata": {},
   "outputs": [
    {
     "name": "stdout",
     "output_type": "stream",
     "text": [
      "raw_input: john@google.com\n",
      "john\n"
     ]
    }
   ],
   "source": [
    "import re\n",
    "emailAddress = input('raw_input: ')\n",
    "pattern = \"(\\w+)@(\\w+)\\.(com)\"\n",
    "match = re.match(pat2,emailAddress)\n",
    "print(match.group(1))"
   ]
  },
  {
   "cell_type": "markdown",
   "id": "5cb76278",
   "metadata": {},
   "source": [
    "**Question 5:\n",
    "Define a class named Shape and its subclass Square. The Square class has an init function which takes a length as argument. Both classes have a area function which can print the area of the shape where Shape's area is 0 by default.**\n"
   ]
  },
  {
   "cell_type": "code",
   "execution_count": 49,
   "id": "c29bc0da",
   "metadata": {},
   "outputs": [],
   "source": [
    "class Shape:\n",
    "    def __init__(self,lenght):\n",
    "        self.lenght = lenght\n",
    "        \n",
    "    def area(self):\n",
    "        return self.lenght**2\n",
    "    \n",
    "class Square(Shape):\n",
    "    def __init__(self,lenght):\n",
    "        self.lenght = lenght\n",
    "        \n",
    "    def area(self):\n",
    "        return self.lenght**2\n",
    "    "
   ]
  },
  {
   "cell_type": "code",
   "execution_count": 50,
   "id": "1f8ed77d",
   "metadata": {},
   "outputs": [],
   "source": [
    "ob = Square(10)"
   ]
  },
  {
   "cell_type": "code",
   "execution_count": 53,
   "id": "27dcd078",
   "metadata": {},
   "outputs": [
    {
     "data": {
      "text/plain": [
       "100"
      ]
     },
     "execution_count": 53,
     "metadata": {},
     "output_type": "execute_result"
    }
   ],
   "source": [
    "ob.area()"
   ]
  }
 ],
 "metadata": {
  "kernelspec": {
   "display_name": "Python 3 (ipykernel)",
   "language": "python",
   "name": "python3"
  },
  "language_info": {
   "codemirror_mode": {
    "name": "ipython",
    "version": 3
   },
   "file_extension": ".py",
   "mimetype": "text/x-python",
   "name": "python",
   "nbconvert_exporter": "python",
   "pygments_lexer": "ipython3",
   "version": "3.9.12"
  }
 },
 "nbformat": 4,
 "nbformat_minor": 5
}
