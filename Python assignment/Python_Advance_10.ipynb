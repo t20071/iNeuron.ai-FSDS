{
 "cells": [
  {
   "cell_type": "markdown",
   "metadata": {},
   "source": [
    "# Python_Advance_10 \n",
    "**Wednesday, 13 December 2023**\n"
   ]
  },
  {
   "cell_type": "markdown",
   "metadata": {},
   "source": [
    "**Q1. What is the difference between __getattr__ and __getattribute__?**\n",
    "\n",
    "> In Python, __getattr__ and __getattribute__ are both methods used for attribute access, but there is a key difference.\n",
    "\n",
    "1. **\\__getattribute\\__** is called for every attribute access, whether the attribute exists or not.\n",
    "2. **\\__getattr\\__** is only called when the requested attribute is not found via the usual methods."
   ]
  },
  {
   "cell_type": "code",
   "execution_count": 1,
   "metadata": {},
   "outputs": [
    {
     "name": "stdout",
     "output_type": "stream",
     "text": [
      "__getattribute__ called for existing_attribute\n",
      "__getattr__ called for existing_attribute\n",
      "42\n",
      "__getattribute__ called for non_existing_attribute\n",
      "__getattr__ called for non_existing_attribute\n",
      "42\n"
     ]
    }
   ],
   "source": [
    "class Example:\n",
    "    def __getattribute__(self, name):\n",
    "        print(f'__getattribute__ called for {name}')\n",
    "        # This could raise an AttributeError if the attribute doesn't exist.\n",
    "        return object.__getattribute__(self, name)\n",
    "\n",
    "    def __getattr__(self, name):\n",
    "        print(f'__getattr__ called for {name}')\n",
    "        # This is called only if the attribute doesn't exist.\n",
    "        return 42\n",
    "\n",
    "# Example usage\n",
    "obj = Example()\n",
    "print(obj.existing_attribute)  # Calls __getattribute__\n",
    "print(obj.non_existing_attribute)  # Calls __getattribute__ and then __getattr__\n"
   ]
  },
  {
   "cell_type": "markdown",
   "metadata": {},
   "source": [
    "**Q2. What is the difference between properties and descriptors?**\n",
    "\n",
    "> In Python, properties and descriptors are both ways to customize attribute access, but they have different use cases.\n",
    "\n",
    "**Properties** are a simple way to define read-only or read-write attributes with custom getter and setter methods."
   ]
  },
  {
   "cell_type": "code",
   "execution_count": 2,
   "metadata": {},
   "outputs": [
    {
     "name": "stdout",
     "output_type": "stream",
     "text": [
      "Getting value\n",
      "0\n",
      "Setting value\n"
     ]
    }
   ],
   "source": [
    "class Example:\n",
    "    def __init__(self):\n",
    "        self._value = 0\n",
    "\n",
    "    @property\n",
    "    def value(self):\n",
    "        print(\"Getting value\")\n",
    "        return self._value\n",
    "\n",
    "    @value.setter\n",
    "    def value(self, new_value):\n",
    "        print(\"Setting value\")\n",
    "        self._value = new_value\n",
    "\n",
    "# Example usage\n",
    "obj = Example()\n",
    "print(obj.value)    # Calls the getter method\n",
    "obj.value = 42      # Calls the setter method\n"
   ]
  },
  {
   "cell_type": "markdown",
   "metadata": {},
   "source": [
    "**Descriptors** are a more general mechanism for customizing attribute access. They allow you to define \\__get\\__, \\__set\\__, and \\__delete\\__ methods"
   ]
  },
  {
   "cell_type": "code",
   "execution_count": 3,
   "metadata": {},
   "outputs": [
    {
     "name": "stdout",
     "output_type": "stream",
     "text": [
      "Getting value\n",
      "0\n",
      "Setting value\n"
     ]
    }
   ],
   "source": [
    "class Descriptor:\n",
    "    def __get__(self, instance, owner):\n",
    "        print(\"Getting value\")\n",
    "        return instance._value\n",
    "\n",
    "    def __set__(self, instance, value):\n",
    "        print(\"Setting value\")\n",
    "        instance._value = value\n",
    "\n",
    "class Example:\n",
    "    def __init__(self):\n",
    "        self._value = 0\n",
    "\n",
    "    value = Descriptor()\n",
    "\n",
    "# Example usage\n",
    "obj = Example()\n",
    "print(obj.value)    # Calls the __get__ method\n",
    "obj.value = 42      # Calls the __set__ method\n"
   ]
  },
  {
   "cell_type": "markdown",
   "metadata": {},
   "source": [
    "**Q3. What are the key differences in functionality between __getattr__ and __getattribute__, as well as properties and descriptors?**\n",
    "\n",
    "\\__getattribute\\__ is called for every attribute access, while \\__getattr__\\ is only called when the attribute is not found via the usual methods.\n",
    "\n",
    "**Properties** provide a simple way to define getter and setter methods for attributes, while descriptors offer a more general mechanism for customizing attribute access with \\__get\\__, \\__set\\__, and \\__delete\\__ methods.\n",
    "\n",
    "In summary, \\__getattribute\\__ and \\__getattr\\__ are related methods for attribute access, while properties and descriptors are mechanisms to customize attribute access with different levels of flexibility and control."
   ]
  }
 ],
 "metadata": {
  "kernelspec": {
   "display_name": "Python 3 (ipykernel)",
   "language": "python",
   "name": "python3"
  },
  "language_info": {
   "codemirror_mode": {
    "name": "ipython",
    "version": 3
   },
   "file_extension": ".py",
   "mimetype": "text/x-python",
   "name": "python",
   "nbconvert_exporter": "python",
   "pygments_lexer": "ipython3",
   "version": "3.11.5"
  }
 },
 "nbformat": 4,
 "nbformat_minor": 2
}
