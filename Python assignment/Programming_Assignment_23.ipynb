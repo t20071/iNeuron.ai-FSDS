{
 "cells": [
  {
   "cell_type": "markdown",
   "id": "ff8aca2b",
   "metadata": {},
   "source": [
    "# Programming Assignment_23\n",
    "**Wednesday, 29 March 2023**"
   ]
  },
  {
   "cell_type": "markdown",
   "id": "5471b087",
   "metadata": {},
   "source": [
    "**Question 1            \n",
    "Create a function that takes a number as an argument and returns True or False depending on whether the number is symmetrical or not. A number is symmetrical when it is the same as its reverse.**      \n",
    "\n",
    "**Examples**              \n",
    ">is_symmetrical(7227) ➞ True        \n",
    "is_symmetrical(12567) ➞ False          \n",
    "is_symmetrical(44444444) ➞ True           \n",
    "is_symmetrical(9939) ➞ False              \n",
    "is_symmetrical(1112111) ➞ True"
   ]
  },
  {
   "cell_type": "code",
   "execution_count": 1,
   "id": "c73c4e27",
   "metadata": {},
   "outputs": [],
   "source": [
    "# define the function\n",
    "def is_symmetrical(i):\n",
    "    '''Function that takes a number as an argument and returns True or False depending on \n",
    "    whether the number is symmetrical or not'''\n",
    "    i = str(i)\n",
    "    if i == i[::-1]:\n",
    "        return True\n",
    "    else:\n",
    "        return False "
   ]
  },
  {
   "cell_type": "code",
   "execution_count": 2,
   "id": "7caf995a",
   "metadata": {},
   "outputs": [
    {
     "data": {
      "text/plain": [
       "True"
      ]
     },
     "execution_count": 2,
     "metadata": {},
     "output_type": "execute_result"
    }
   ],
   "source": [
    "is_symmetrical(7227)"
   ]
  },
  {
   "cell_type": "code",
   "execution_count": 3,
   "id": "3e405f41",
   "metadata": {},
   "outputs": [
    {
     "data": {
      "text/plain": [
       "False"
      ]
     },
     "execution_count": 3,
     "metadata": {},
     "output_type": "execute_result"
    }
   ],
   "source": [
    "is_symmetrical(9939)"
   ]
  },
  {
   "cell_type": "markdown",
   "id": "1f01f0bb",
   "metadata": {},
   "source": [
    "**Question 2              \n",
    "Given a string of numbers separated by a comma and space, return the product of the numbers.**\n",
    "\n",
    "**Examples**                 \n",
    ">multiply_nums(\"2, 3\") ➞ 6          \n",
    "multiply_nums(\"1, 2, 3, 4\") ➞ 24            \n",
    "multiply_nums(\"54, 75, 453, 0\") ➞ 0              \n",
    "multiply_nums(\"10, -2\") ➞ -20"
   ]
  },
  {
   "cell_type": "code",
   "execution_count": 4,
   "id": "0310e66d",
   "metadata": {},
   "outputs": [],
   "source": [
    "# define the function \n",
    "def multiply_nums(string):\n",
    "    product = 1\n",
    "    num_list = string.split(', ')\n",
    "    for i in num_list:\n",
    "        product = product*int(i)\n",
    "    return product\n",
    "            "
   ]
  },
  {
   "cell_type": "code",
   "execution_count": 5,
   "id": "7edaab40",
   "metadata": {},
   "outputs": [
    {
     "data": {
      "text/plain": [
       "0"
      ]
     },
     "execution_count": 5,
     "metadata": {},
     "output_type": "execute_result"
    }
   ],
   "source": [
    "multiply_nums(\"54, 75, 453, 0\")"
   ]
  },
  {
   "cell_type": "code",
   "execution_count": 6,
   "id": "e383ef5e",
   "metadata": {},
   "outputs": [
    {
     "data": {
      "text/plain": [
       "24"
      ]
     },
     "execution_count": 6,
     "metadata": {},
     "output_type": "execute_result"
    }
   ],
   "source": [
    "multiply_nums(\"1, 2, 3, 4\")"
   ]
  },
  {
   "cell_type": "code",
   "execution_count": 7,
   "id": "bb24fb98",
   "metadata": {},
   "outputs": [
    {
     "data": {
      "text/plain": [
       "-20"
      ]
     },
     "execution_count": 7,
     "metadata": {},
     "output_type": "execute_result"
    }
   ],
   "source": [
    "multiply_nums(\"10, -2\")"
   ]
  },
  {
   "cell_type": "markdown",
   "id": "54b23c2a",
   "metadata": {},
   "source": [
    "**Question 3       \n",
    "Create a function that squares every digit of a number.**\n",
    "\n",
    "**Examples**        \n",
    ">square_digits(9119) ➞ 811181      \n",
    "square_digits(2483) ➞ 416649        \n",
    "square_digits(3212) ➞ 9414\n",
    "\n",
    "**Notes**            \n",
    "> The function receives an integer and must return an integer.\n"
   ]
  },
  {
   "cell_type": "code",
   "execution_count": 8,
   "id": "22372093",
   "metadata": {},
   "outputs": [],
   "source": [
    "# define the function\n",
    "def square_digits(d):\n",
    "    d_str = str(d)\n",
    "    e_str = ''\n",
    "    for i in d_str:\n",
    "        e_str += str((int(i))**2)\n",
    "    return int(e_str)\n",
    "    "
   ]
  },
  {
   "cell_type": "code",
   "execution_count": 9,
   "id": "486bd1f2",
   "metadata": {},
   "outputs": [
    {
     "data": {
      "text/plain": [
       "811181"
      ]
     },
     "execution_count": 9,
     "metadata": {},
     "output_type": "execute_result"
    }
   ],
   "source": [
    "square_digits(9119)"
   ]
  },
  {
   "cell_type": "code",
   "execution_count": 10,
   "id": "585a9b59",
   "metadata": {},
   "outputs": [
    {
     "data": {
      "text/plain": [
       "416649"
      ]
     },
     "execution_count": 10,
     "metadata": {},
     "output_type": "execute_result"
    }
   ],
   "source": [
    "square_digits(2483)"
   ]
  },
  {
   "cell_type": "code",
   "execution_count": 11,
   "id": "77cf022a",
   "metadata": {},
   "outputs": [
    {
     "data": {
      "text/plain": [
       "9414"
      ]
     },
     "execution_count": 11,
     "metadata": {},
     "output_type": "execute_result"
    }
   ],
   "source": [
    "square_digits(3212)"
   ]
  },
  {
   "cell_type": "markdown",
   "id": "efa2d4db",
   "metadata": {},
   "source": [
    "**Question 4         \n",
    "Create a function that sorts a list and removes all duplicate items from it.**\n",
    "\n",
    "**Examples**               \n",
    "> setify([1, 3, 3, 5, 5]) ➞ [1, 3, 5]             \n",
    "setify([4, 4, 4, 4]) ➞ [4]          \n",
    "setify([5, 7, 8, 9, 10, 15]) ➞ [5, 7, 8, 9, 10, 15]                \n",
    "setify([3, 3, 3, 2, 1]) ➞ [1, 2, 3]"
   ]
  },
  {
   "cell_type": "code",
   "execution_count": 12,
   "id": "426f19c8",
   "metadata": {},
   "outputs": [],
   "source": [
    "# define the function \n",
    "def setify(lst):\n",
    "    return sorted(list(set(lst)))\n",
    "    "
   ]
  },
  {
   "cell_type": "code",
   "execution_count": 13,
   "id": "bae5c72a",
   "metadata": {},
   "outputs": [
    {
     "data": {
      "text/plain": [
       "[1, 3, 5]"
      ]
     },
     "execution_count": 13,
     "metadata": {},
     "output_type": "execute_result"
    }
   ],
   "source": [
    "setify([1, 3, 3, 5, 5])"
   ]
  },
  {
   "cell_type": "code",
   "execution_count": 14,
   "id": "aadfc4a5",
   "metadata": {},
   "outputs": [
    {
     "data": {
      "text/plain": [
       "[4]"
      ]
     },
     "execution_count": 14,
     "metadata": {},
     "output_type": "execute_result"
    }
   ],
   "source": [
    "setify([4, 4, 4, 4])"
   ]
  },
  {
   "cell_type": "code",
   "execution_count": 15,
   "id": "5f042820",
   "metadata": {},
   "outputs": [
    {
     "data": {
      "text/plain": [
       "[5, 7, 8, 9, 10, 15]"
      ]
     },
     "execution_count": 15,
     "metadata": {},
     "output_type": "execute_result"
    }
   ],
   "source": [
    "setify([5, 7, 8, 9, 10, 15])"
   ]
  },
  {
   "cell_type": "markdown",
   "id": "e8fbe196",
   "metadata": {},
   "source": [
    "**Question 5                  \n",
    "Create a function that returns the mean of all digits.**\n",
    "\n",
    "**Examples**\n",
    "> mean(42) ➞ 3         \n",
    "mean(12345) ➞ 3            \n",
    "mean(666) ➞ 6        \n",
    "\n",
    "**Notes**                     \n",
    "•\tThe mean of all digits is the sum of digits / how many digits there are (e.g. mean of digits in 512 is (5+1+2)/3(number of digits) = 8/3=2).                        \n",
    "•\tThe mean will always be an integer.\n"
   ]
  },
  {
   "cell_type": "code",
   "execution_count": 16,
   "id": "baa6faa8",
   "metadata": {},
   "outputs": [],
   "source": [
    "# define the function \n",
    "def mean(num):\n",
    "    digits = [int(d) for d in str(num)]\n",
    "    return sum(digits) // len(digits)"
   ]
  },
  {
   "cell_type": "code",
   "execution_count": 17,
   "id": "0cfd2253",
   "metadata": {},
   "outputs": [
    {
     "data": {
      "text/plain": [
       "3"
      ]
     },
     "execution_count": 17,
     "metadata": {},
     "output_type": "execute_result"
    }
   ],
   "source": [
    "mean(42)"
   ]
  },
  {
   "cell_type": "code",
   "execution_count": 18,
   "id": "37351604",
   "metadata": {},
   "outputs": [
    {
     "data": {
      "text/plain": [
       "3"
      ]
     },
     "execution_count": 18,
     "metadata": {},
     "output_type": "execute_result"
    }
   ],
   "source": [
    "mean(12345)"
   ]
  },
  {
   "cell_type": "code",
   "execution_count": 19,
   "id": "b879b4bd",
   "metadata": {},
   "outputs": [
    {
     "data": {
      "text/plain": [
       "3"
      ]
     },
     "execution_count": 19,
     "metadata": {},
     "output_type": "execute_result"
    }
   ],
   "source": [
    "mean(12345)"
   ]
  }
 ],
 "metadata": {
  "kernelspec": {
   "display_name": "Python 3 (ipykernel)",
   "language": "python",
   "name": "python3"
  },
  "language_info": {
   "codemirror_mode": {
    "name": "ipython",
    "version": 3
   },
   "file_extension": ".py",
   "mimetype": "text/x-python",
   "name": "python",
   "nbconvert_exporter": "python",
   "pygments_lexer": "ipython3",
   "version": "3.9.12"
  }
 },
 "nbformat": 4,
 "nbformat_minor": 5
}
