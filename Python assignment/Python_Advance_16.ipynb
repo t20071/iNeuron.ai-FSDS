{
 "cells": [
  {
   "cell_type": "markdown",
   "metadata": {},
   "source": [
    "# Python_Advance_16\n",
    "**Friday, 31 May, 2024**"
   ]
  },
  {
   "cell_type": "markdown",
   "metadata": {},
   "source": [
    "**Q1. What is the benefit of regular expressions?**\n",
    "\n",
    "> Regular expressions (regex) help  find patterns the  in text and useful for searching, replacing, and validating data."
   ]
  },
  {
   "cell_type": "markdown",
   "metadata": {},
   "source": [
    "**Q2. Describe the difference between the effects of \"(ab)c+\" and \"a(bc)+.\" Which of these, if any, is the unqualified pattern \"abc+\"?**\n",
    "\n",
    "> **``(ab)c+``:**  This matches \"ab\" followed by one or more \"c\"s (e.g., \"abcc\").       \n",
    " **``a(bc)+:``** This matches \"a\" followed by one or more occurrences of \"bc\" (e.g., \"abcbc\").          \n",
    " **``abc+:``**  This is not identical to either but is closer to \"(ab)c+\" because it matches \"abc\" followed by one or more \"c\"s."
   ]
  },
  {
   "cell_type": "markdown",
   "metadata": {},
   "source": [
    "**Q3. How much do you need to use the following sentence while using regular expressions?**\n",
    "\n",
    "> The line  ```import re``` is essential for working with regular expressions in Python.          \n",
    "whenever we work on regular expression, we need to use ```impor re```"
   ]
  },
  {
   "cell_type": "markdown",
   "metadata": {},
   "source": [
    "**Q4. Which characters have special significance in square brackets when expressing a range, and under what circumstances?**"
   ]
  },
  {
   "cell_type": "markdown",
   "metadata": {},
   "source": [
    "> **Hyphen (-):** Used to specify a range of characters (e.g., [a-z]).      \n",
    "> **Caret (^):** When used at the start inside square brackets, it negates the set (e.g., [^a-z] matches any character not between \"a\" and \"z\")."
   ]
  },
  {
   "cell_type": "code",
   "execution_count": 1,
   "metadata": {},
   "outputs": [
    {
     "name": "stdout",
     "output_type": "stream",
     "text": [
      "Matches for [a-z]: ['h', 'e', 'l', 'l', 'o']\n",
      "Matches for [^a-z]: ['1', '2', '3']\n"
     ]
    }
   ],
   "source": [
    "import re\n",
    "\n",
    "# Example using hyphen (-) to specify a range\n",
    "pattern_range = re.compile(r'[a-z]')\n",
    "test_string_range = 'hello123'\n",
    "matches_range = pattern_range.findall(test_string_range)\n",
    "print(f\"Matches for [a-z]: {matches_range}\")  \n",
    "\n",
    "# Example using caret (^) at the start to negate the set\n",
    "pattern_negate = re.compile(r'[^a-z]')\n",
    "test_string_negate = 'hello123'\n",
    "matches_negate = pattern_negate.findall(test_string_negate)\n",
    "print(f\"Matches for [^a-z]: {matches_negate}\")  "
   ]
  },
  {
   "cell_type": "markdown",
   "metadata": {},
   "source": [
    "**Q5. How does compiling a regular-expression object benefit you?**\n",
    "\n",
    "> Compiling a regex object with ```re.compile``` makes it more efficient for repeated use. It pre-compiles the pattern which speeds up the matching process."
   ]
  },
  {
   "cell_type": "markdown",
   "metadata": {},
   "source": [
    "**Q6. What are some examples of how to use the match object returned by re.match and re.search?**"
   ]
  },
  {
   "cell_type": "code",
   "execution_count": 4,
   "metadata": {},
   "outputs": [
    {
     "name": "stdout",
     "output_type": "stream",
     "text": [
      "123\n",
      "123\n"
     ]
    }
   ],
   "source": [
    "import re\n",
    "\n",
    "# Example with re.match\n",
    "pattern = re.compile(r'\\d+')\n",
    "match = pattern.match('123abc')\n",
    "if match:\n",
    "    print(match.group()) \n",
    "\n",
    "# Example with re.search\n",
    "search = pattern.search('abc123')\n",
    "if search:\n",
    "    print(search.group()) "
   ]
  },
  {
   "cell_type": "markdown",
   "metadata": {},
   "source": [
    "**Q7. What is the difference between using a vertical bar (|) as an alteration and using square brackets as a character set?**\n",
    "\n",
    "> **Vertical bar (|):** Used to match either of the expressions (e.g., a|b matches \"a\" or \"b\").         \n",
    "> **Square brackets ([ ]):** Used to match any one character from the set (e.g., [ab] matches either \"a\" or \"b\")."
   ]
  },
  {
   "cell_type": "markdown",
   "metadata": {},
   "source": [
    "**Q8. In regular-expression search patterns, why is it necessary to use the raw-string indicator (r)? In replacement strings?**\n",
    "\n",
    "> \n",
    "**Raw-string indicator (r):** \n",
    "\n",
    "Prevents Python from interpreting backslashes as escape characters. This is important because regex often uses backslashes."
   ]
  },
  {
   "cell_type": "code",
   "execution_count": 7,
   "metadata": {},
   "outputs": [
    {
     "name": "stdout",
     "output_type": "stream",
     "text": [
      "C:\\new\\sharad\n",
      "C:\\new\\sharad\n"
     ]
    }
   ],
   "source": [
    "# Without raw string\n",
    "print(\"C:\\\\new\\\\sharad\")\n",
    "\n",
    "# With raw string\n",
    "print(r\"C:\\new\\sharad\")"
   ]
  }
 ],
 "metadata": {
  "kernelspec": {
   "display_name": "Python 3 (ipykernel)",
   "language": "python",
   "name": "python3"
  },
  "language_info": {
   "codemirror_mode": {
    "name": "ipython",
    "version": 3
   },
   "file_extension": ".py",
   "mimetype": "text/x-python",
   "name": "python",
   "nbconvert_exporter": "python",
   "pygments_lexer": "ipython3",
   "version": "3.11.5"
  }
 },
 "nbformat": 4,
 "nbformat_minor": 2
}
