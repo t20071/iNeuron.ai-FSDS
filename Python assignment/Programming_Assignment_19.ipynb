{
 "cells": [
  {
   "cell_type": "markdown",
   "id": "afd76cc1",
   "metadata": {},
   "source": [
    "# Programming assignment_19\n",
    "**Saturday, 25 March 2023**"
   ]
  },
  {
   "cell_type": "markdown",
   "id": "68819d83",
   "metadata": {},
   "source": [
    "**Question 1        \n",
    "Create a function that takes a string and returns a string in which each character is repeated once.**\n",
    "> **Examples**    \n",
    "double_char(\"String\") ➞ \"SSttrriinngg\"         \n",
    "double_char(\"Hello World!\") ➞ \"HHeelllloo  WWoorrlldd!!\"          \n",
    "double_char(\"1234!_ \") ➞ \"11223344!!__  \""
   ]
  },
  {
   "cell_type": "code",
   "execution_count": 6,
   "id": "7b80aaa0",
   "metadata": {},
   "outputs": [
    {
     "data": {
      "text/plain": [
       "'HHeelllloo  WWoorrlldd!!'"
      ]
     },
     "execution_count": 6,
     "metadata": {},
     "output_type": "execute_result"
    }
   ],
   "source": [
    "# define the function\n",
    "def double_char(word):\n",
    "    new = ''\n",
    "    for i in word:\n",
    "        new = new+i+i\n",
    "    return new\n",
    "# call the funtion\n",
    "double_char(\"Hello World!\")"
   ]
  },
  {
   "cell_type": "code",
   "execution_count": 7,
   "id": "38808119",
   "metadata": {},
   "outputs": [
    {
     "data": {
      "text/plain": [
       "False"
      ]
     },
     "execution_count": 7,
     "metadata": {},
     "output_type": "execute_result"
    }
   ],
   "source": [
    "not True"
   ]
  },
  {
   "cell_type": "markdown",
   "id": "672630c9",
   "metadata": {},
   "source": [
    "**Question 2      \n",
    "Create a function that reverses a boolean value and returns the string \"boolean expected\" if another variable type is given.**\n",
    "> **Examples**          \n",
    "reverse(True) ➞ False           \n",
    "reverse(False) ➞ True      \n",
    "reverse(0) ➞ \"boolean expected\"        \n",
    "reverse(None) ➞ \"boolean expected\""
   ]
  },
  {
   "cell_type": "code",
   "execution_count": 15,
   "id": "90b3f95d",
   "metadata": {},
   "outputs": [
    {
     "data": {
      "text/plain": [
       "False"
      ]
     },
     "execution_count": 15,
     "metadata": {},
     "output_type": "execute_result"
    }
   ],
   "source": [
    "# define the function \n",
    "def reverse(i):\n",
    "    if type(i) == bool:\n",
    "        return not i\n",
    "    else:\n",
    "        return 'boolean expected'\n",
    "    \n",
    "# check the function\n",
    "reverse(True)"
   ]
  },
  {
   "cell_type": "code",
   "execution_count": 16,
   "id": "ee7aedcd",
   "metadata": {},
   "outputs": [
    {
     "data": {
      "text/plain": [
       "'boolean expected'"
      ]
     },
     "execution_count": 16,
     "metadata": {},
     "output_type": "execute_result"
    }
   ],
   "source": [
    "reverse(None)"
   ]
  },
  {
   "cell_type": "markdown",
   "id": "80946e19",
   "metadata": {},
   "source": [
    "**Question 3         \n",
    "Create a function that returns the thickness (in meters) of a piece of paper after folding it n number of times. The paper starts off with a thickness of 0.5mm.**\n",
    "> **Examples**              \n",
    "num_layers(1) ➞ \"0.001m\"     \n",
    "Paper folded once is 1mm (equal to 0.001m)       \n",
    "\n",
    ">num_layers(4) ➞ \"0.008m\"        \n",
    "Paper folded 4 times is 8mm (equal to 0.008m)\n",
    "\n",
    ">num_layers(21) ➞ \"1048.576m\"        \n",
    "Paper folded 21 times is 1048576mm (equal to 1048.576m)"
   ]
  },
  {
   "cell_type": "code",
   "execution_count": 21,
   "id": "35cdacfa",
   "metadata": {},
   "outputs": [
    {
     "data": {
      "text/plain": [
       "'Paper folded 21 times is 1048576.0mm (equal to 1048.576m)'"
      ]
     },
     "execution_count": 21,
     "metadata": {},
     "output_type": "execute_result"
    }
   ],
   "source": [
    "# define the funtion\n",
    "def num_layers(n): # n, number of time paper fold\n",
    "    t1 = 0.5        # t, thickness of the paper\n",
    "    fold = 2**n        \n",
    "    t2 = fold*t1    # thickness after the n fold\n",
    "    return f'Paper folded {n} times is {t2}mm (equal to {t2/1000}m)'\n",
    "\n",
    "# check the function\n",
    "num_layers(21)"
   ]
  },
  {
   "cell_type": "markdown",
   "id": "4ab0b45a",
   "metadata": {},
   "source": [
    "**Question 4            \n",
    "Create a function that takes a single string as argument and returns an ordered list containing the indices of all capital letters in the string.**\n",
    "> **Examples**              \n",
    "index_of_caps(\"eDaBiT\") ➞ [1, 3, 5]             \n",
    "index_of_caps(\"eQuINoX\") ➞ [1, 3, 4, 6]         \n",
    "index_of_caps(\"determine\") ➞ []           \n",
    "index_of_caps(\"STRIKE\") ➞ [0, 1, 2, 3, 4, 5]         \n",
    "index_of_caps(\"sUn\") ➞ [1]            \n"
   ]
  },
  {
   "cell_type": "code",
   "execution_count": 29,
   "id": "5741beaf",
   "metadata": {},
   "outputs": [
    {
     "data": {
      "text/plain": [
       "[1, 3, 5]"
      ]
     },
     "execution_count": 29,
     "metadata": {},
     "output_type": "execute_result"
    }
   ],
   "source": [
    "# define the function \n",
    "def index_of_caps(word):\n",
    "    lst_caps = []\n",
    "    for l in word:\n",
    "        if l.isupper():\n",
    "            lst_caps.append(word.index(l))\n",
    "    return lst_caps\n",
    "\n",
    "# calling the function\n",
    "index_of_caps(\"eDaBiT\")"
   ]
  },
  {
   "cell_type": "code",
   "execution_count": 30,
   "id": "d3f92e0e",
   "metadata": {},
   "outputs": [
    {
     "data": {
      "text/plain": [
       "[]"
      ]
     },
     "execution_count": 30,
     "metadata": {},
     "output_type": "execute_result"
    }
   ],
   "source": [
    "index_of_caps(\"determine\") "
   ]
  },
  {
   "cell_type": "markdown",
   "id": "5744d462",
   "metadata": {},
   "source": [
    "**Question 5  \n",
    "Using list comprehensions, create a function that finds all even numbers from 1 to the given number.\n",
    "> **Examples**        \n",
    "find_even_nums(8) ➞ [2, 4, 6, 8]        \n",
    "find_even_nums(4) ➞ [2, 4]      \n",
    "find_even_nums(2) ➞ [2]        "
   ]
  },
  {
   "cell_type": "code",
   "execution_count": 37,
   "id": "e1cfa512",
   "metadata": {},
   "outputs": [
    {
     "data": {
      "text/plain": [
       "[2, 4, 6, 8]"
      ]
     },
     "execution_count": 37,
     "metadata": {},
     "output_type": "execute_result"
    }
   ],
   "source": [
    "# define the function\n",
    "def find_even_nums(i):\n",
    "    return [i for i in range(1,i+1) if i%2==0 ]\n",
    "\n",
    "find_even_nums(8)"
   ]
  },
  {
   "cell_type": "code",
   "execution_count": 38,
   "id": "28b42768",
   "metadata": {},
   "outputs": [
    {
     "data": {
      "text/plain": [
       "[2]"
      ]
     },
     "execution_count": 38,
     "metadata": {},
     "output_type": "execute_result"
    }
   ],
   "source": [
    "find_even_nums(2) "
   ]
  },
  {
   "cell_type": "code",
   "execution_count": null,
   "id": "794e203b",
   "metadata": {},
   "outputs": [],
   "source": []
  }
 ],
 "metadata": {
  "kernelspec": {
   "display_name": "Python 3 (ipykernel)",
   "language": "python",
   "name": "python3"
  },
  "language_info": {
   "codemirror_mode": {
    "name": "ipython",
    "version": 3
   },
   "file_extension": ".py",
   "mimetype": "text/x-python",
   "name": "python",
   "nbconvert_exporter": "python",
   "pygments_lexer": "ipython3",
   "version": "3.9.12"
  }
 },
 "nbformat": 4,
 "nbformat_minor": 5
}
