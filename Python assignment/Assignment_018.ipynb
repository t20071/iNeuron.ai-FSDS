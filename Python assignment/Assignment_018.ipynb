{
 "cells": [
  {
   "cell_type": "markdown",
   "id": "bf32bcdb",
   "metadata": {},
   "source": [
    "# Assignment 18\n",
    "[sharadpardhe08@gmail.com](link)   \n",
    "**Monday, 21 November 2022**"
   ]
  },
  {
   "cell_type": "markdown",
   "id": "db3fa712",
   "metadata": {},
   "source": [
    "**1. Create a zoo.py file first. Define the hours() function, which prints the string 'Open 9-5 daily'. Then, use the interactive interpreter to import the zoo module and call its hours() function.**\n",
    "\n",
    "**Answer**   \n",
    "**step 1.** Create zoo.py file using notepad++.    \n",
    "**step 2.** Define fuction hour() in zoo.py file.\n",
    "``` JSON\n",
    "def hour():\n",
    "\tprint('Open 9-5 daily')\n",
    "```"
   ]
  },
  {
   "cell_type": "code",
   "execution_count": 1,
   "id": "da35262f",
   "metadata": {},
   "outputs": [
    {
     "name": "stdout",
     "output_type": "stream",
     "text": [
      "Open 9-5 daily\n"
     ]
    }
   ],
   "source": [
    "import zoo \n",
    "zoo.hour()"
   ]
  },
  {
   "cell_type": "markdown",
   "id": "9bc02db4",
   "metadata": {},
   "source": [
    "**2. In the interactive interpreter, import the zoo module as menagerie and call its hours() function.**\n",
    "\n",
    "**Answer**   "
   ]
  },
  {
   "cell_type": "code",
   "execution_count": 2,
   "id": "16e76703",
   "metadata": {},
   "outputs": [
    {
     "name": "stdout",
     "output_type": "stream",
     "text": [
      "Open 9-5 daily\n"
     ]
    }
   ],
   "source": [
    "import zoo as menagerie\n",
    "menagerie.hour()"
   ]
  },
  {
   "cell_type": "markdown",
   "id": "a4e2fb74",
   "metadata": {},
   "source": [
    "**3. Using the interpreter, explicitly import and call the hours() function from zoo.**\n",
    "\n",
    "**Answer** "
   ]
  },
  {
   "cell_type": "code",
   "execution_count": 3,
   "id": "9f49456a",
   "metadata": {},
   "outputs": [
    {
     "name": "stdout",
     "output_type": "stream",
     "text": [
      "Open 9-5 daily\n"
     ]
    }
   ],
   "source": [
    "from zoo import hour\n",
    "hour()"
   ]
  },
  {
   "cell_type": "markdown",
   "id": "c0cf86e6",
   "metadata": {},
   "source": [
    "**4. Import the hours() function as info and call it.**\n",
    "\n",
    "**Answer** "
   ]
  },
  {
   "cell_type": "code",
   "execution_count": 4,
   "id": "49bdbd30",
   "metadata": {},
   "outputs": [
    {
     "name": "stdout",
     "output_type": "stream",
     "text": [
      "Open 9-5 daily\n"
     ]
    }
   ],
   "source": [
    "from zoo import hour as info \n",
    "info()"
   ]
  },
  {
   "cell_type": "markdown",
   "id": "7e763b40",
   "metadata": {},
   "source": [
    "**5. Create a plain dictionary with the key-value pairs 'a': 1, 'b': 2, and 'c': 3, and print it out.**\n",
    "\n",
    "**Answer** "
   ]
  },
  {
   "cell_type": "code",
   "execution_count": 5,
   "id": "3fa834ea",
   "metadata": {},
   "outputs": [
    {
     "name": "stdout",
     "output_type": "stream",
     "text": [
      "{'a': 1, 'b': 2, 'c': 3}\n"
     ]
    }
   ],
   "source": [
    "alphNum = {'a': 1, 'b': 2, 'c': 3}\n",
    "print(alphNum)"
   ]
  },
  {
   "cell_type": "markdown",
   "id": "1e849e75",
   "metadata": {},
   "source": [
    "**6.Make an OrderedDict called fancy from the same pairs listed in 5 and print it. Did it print in the same order as plain?**\n",
    "\n",
    "**Answer** "
   ]
  },
  {
   "cell_type": "code",
   "execution_count": 6,
   "id": "a3bd0f9f",
   "metadata": {},
   "outputs": [
    {
     "data": {
      "text/plain": [
       "OrderedDict([('a', 1), ('b', 2), ('c', 3)])"
      ]
     },
     "execution_count": 6,
     "metadata": {},
     "output_type": "execute_result"
    }
   ],
   "source": [
    "from collections import OrderedDict\n",
    "new_dict = OrderedDict(alphNum)\n",
    "new_dict"
   ]
  },
  {
   "cell_type": "markdown",
   "id": "28107c96",
   "metadata": {},
   "source": [
    "**7. Make a default dictionary called dict_of_lists and pass it the argument list. Make the list dict_of_lists['a'] and append the value 'something for a' to it in one assignment. Print dict_of_lists['a'].**\n",
    "\n",
    "**Answer** "
   ]
  },
  {
   "cell_type": "code",
   "execution_count": 7,
   "id": "441db91f",
   "metadata": {},
   "outputs": [
    {
     "data": {
      "text/plain": [
       "['something for a']"
      ]
     },
     "execution_count": 7,
     "metadata": {},
     "output_type": "execute_result"
    }
   ],
   "source": [
    "from collections import defaultdict\n",
    "dict_of_lists = defaultdict(list)\n",
    "dict_of_lists['a'].append('something for a')\n",
    "dict_of_lists['a']"
   ]
  }
 ],
 "metadata": {
  "kernelspec": {
   "display_name": "Python 3 (ipykernel)",
   "language": "python",
   "name": "python3"
  },
  "language_info": {
   "codemirror_mode": {
    "name": "ipython",
    "version": 3
   },
   "file_extension": ".py",
   "mimetype": "text/x-python",
   "name": "python",
   "nbconvert_exporter": "python",
   "pygments_lexer": "ipython3",
   "version": "3.9.12"
  }
 },
 "nbformat": 4,
 "nbformat_minor": 5
}
