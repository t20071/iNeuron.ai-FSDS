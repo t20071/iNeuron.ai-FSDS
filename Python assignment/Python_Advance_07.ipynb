{
 "cells": [
  {
   "cell_type": "markdown",
   "id": "c378d512",
   "metadata": {},
   "source": [
    "# Python_Advance_07\n",
    "\n",
    "**Saturday, 9 December, 2023**"
   ]
  },
  {
   "cell_type": "markdown",
   "id": "226e9b90",
   "metadata": {},
   "source": [
    "**Q1. What is the purpose of the try statement?**\n",
    "\n",
    "The try statement is used to handle exceptions in Python. It allows you to write a block of code that might raise an exception, and then specify how to handle that exception."
   ]
  },
  {
   "cell_type": "code",
   "execution_count": 1,
   "id": "a0ac19a6",
   "metadata": {},
   "outputs": [
    {
     "name": "stdout",
     "output_type": "stream",
     "text": [
      "Cannot divide by zero!\n"
     ]
    }
   ],
   "source": [
    "try:\n",
    "    # Code that might raise an exception\n",
    "    result = 10 / 0\n",
    "except ZeroDivisionError:\n",
    "    # Handle the specific exception\n",
    "    print(\"Cannot divide by zero!\")"
   ]
  },
  {
   "cell_type": "markdown",
   "id": "0e5a3bfb",
   "metadata": {},
   "source": [
    "**Q2. What are the two most popular try statement variations?**\n",
    "\n",
    "The two most popular variations of the try statement are:\n",
    "\n",
    "> 1. **try-except:** Catches and handles a specific exception"
   ]
  },
  {
   "cell_type": "code",
   "execution_count": 2,
   "id": "150e2f10",
   "metadata": {},
   "outputs": [
    {
     "name": "stdout",
     "output_type": "stream",
     "text": [
      "Cannot divide by zero!\n"
     ]
    }
   ],
   "source": [
    "try:\n",
    "    # Code that might raise an exception\n",
    "    result = 10 / 0\n",
    "except ZeroDivisionError:\n",
    "    # Handle the specific exception\n",
    "    print(\"Cannot divide by zero!\")\n"
   ]
  },
  {
   "cell_type": "markdown",
   "id": "591a56e2",
   "metadata": {},
   "source": [
    "> 2. **try-finally:** Ensures that a block of code is always executed, whether an exception is raised or not"
   ]
  },
  {
   "cell_type": "code",
   "execution_count": 3,
   "id": "3a87d4b2",
   "metadata": {},
   "outputs": [
    {
     "name": "stdout",
     "output_type": "stream",
     "text": [
      "This block always executes.\n"
     ]
    }
   ],
   "source": [
    "try:\n",
    "    # Code that might raise an exception\n",
    "    result = 10 / 2\n",
    "finally:\n",
    "    # Code that always runs, even if there is an exception\n",
    "    print(\"This block always executes.\")"
   ]
  },
  {
   "cell_type": "markdown",
   "id": "e174f804",
   "metadata": {},
   "source": [
    "**Q3. What is the purpose of the raise statement?**\n",
    "\n",
    "> The raise statement is used to explicitly raise an exception. It can be used to signal that an error or exceptional condition has occurred."
   ]
  },
  {
   "cell_type": "code",
   "execution_count": 4,
   "id": "7497b393",
   "metadata": {},
   "outputs": [
    {
     "name": "stdout",
     "output_type": "stream",
     "text": [
      "Caught an exception: Input must be a non-negative number\n"
     ]
    }
   ],
   "source": [
    "def example_function(value):\n",
    "    if value < 0:\n",
    "        raise ValueError(\"Input must be a non-negative number\")\n",
    "    return value\n",
    "\n",
    "try:\n",
    "    result = example_function(-5)\n",
    "except ValueError as e:\n",
    "    print(f\"Caught an exception: {e}\")\n"
   ]
  },
  {
   "cell_type": "markdown",
   "id": "b1b22e0d",
   "metadata": {},
   "source": [
    "**Q4. What does the assert statement do, and what other statement is it like?**\n",
    "\n",
    "> The **assert** statement is used for debugging purposes. It checks if a given expression is True, and if not, it raises an **AssertionError** exception with an optional error message."
   ]
  },
  {
   "cell_type": "code",
   "execution_count": 6,
   "id": "7532d6a1",
   "metadata": {},
   "outputs": [],
   "source": [
    "x = 10\n",
    "assert x > 0, \"x should be positive\""
   ]
  },
  {
   "cell_type": "markdown",
   "id": "46c27fa0",
   "metadata": {},
   "source": [
    "**Q5. What is the purpose of the with/as argument, and what other statement is it like?**\n",
    "\n",
    "> The with/as statement is used for resource management, specifically for working with external resources like files or network connections. It ensures that the resource is properly acquired and released."
   ]
  },
  {
   "cell_type": "markdown",
   "id": "c6bb027f",
   "metadata": {},
   "source": [
    "``` json\n",
    "with open(\"example.txt\", \"r\") as file:\n",
    "    content = file.read()\n",
    "    # Code to work with the file content\n",
    "\n",
    "```\n",
    "**The file is automatically closed outside the \"with\" block**"
   ]
  }
 ],
 "metadata": {
  "kernelspec": {
   "display_name": "Python 3 (ipykernel)",
   "language": "python",
   "name": "python3"
  },
  "language_info": {
   "codemirror_mode": {
    "name": "ipython",
    "version": 3
   },
   "file_extension": ".py",
   "mimetype": "text/x-python",
   "name": "python",
   "nbconvert_exporter": "python",
   "pygments_lexer": "ipython3",
   "version": "3.11.5"
  }
 },
 "nbformat": 4,
 "nbformat_minor": 5
}
