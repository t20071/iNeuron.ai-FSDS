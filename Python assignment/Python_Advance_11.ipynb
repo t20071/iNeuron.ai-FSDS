{
 "cells": [
  {
   "cell_type": "markdown",
   "metadata": {},
   "source": [
    "# Python_Advance_11 \n",
    "**Saturday, 25 May, 2024**\n"
   ]
  },
  {
   "cell_type": "markdown",
   "metadata": {},
   "source": [
    "**Q1. What is the concept of a metaclass?**\n",
    "\n",
    "> A metaclass is like a blueprint for a class. Just as a class defines how objects (instances) of that class behave, a metaclass defines how classes behave. In other words, a metaclass is a class for classes."
   ]
  },
  {
   "cell_type": "markdown",
   "metadata": {},
   "source": [
    "**Q2. What is the best way to declare a class's metaclass?**\n",
    "\n",
    "> The best way to declare a class's metaclass is by using the metaclass keyword in the class definition. \n",
    "\n",
    "**For example:** "
   ]
  },
  {
   "cell_type": "code",
   "execution_count": 1,
   "metadata": {},
   "outputs": [],
   "source": [
    "class MyMeta(type):\n",
    "    pass\n",
    "\n",
    "class MyClass(metaclass=MyMeta):\n",
    "    pass\n",
    "\n",
    "## MyClass uses MyMeta as its metaclass."
   ]
  },
  {
   "cell_type": "markdown",
   "metadata": {},
   "source": [
    "**Q3. How do class decorators overlap with metaclasses for handling classes?**\n",
    "\n",
    "> Class decorators and metaclasses both allow you to modify or enhance classes. A class decorator is a function that takes a class and returns a new class, potentially modifying it. A metaclass can also modify a class, but it does so when the class is created. Both can be used to add methods or attributes to a class, but metaclasses provide more control over the class creation process."
   ]
  },
  {
   "cell_type": "markdown",
   "metadata": {},
   "source": [
    "**Que 4 - How do class decorators overlap with metaclasses for handling instances?** \n",
    "> Class decorators do not directly handle instances. They only modify the class itself. However, changes made to the class by a decorator can affect how instances behave (since the instances are created based on the class).\n",
    "\n",
    "> Metaclasses, on the other hand, can affect instances indirectly by modifying the class. For example, a metaclass can add methods to a class that then influence how instances of that class behave. So, while decorators modify the class in a straightforward way, metaclasses provide a more powerful and flexible way to change both the class and, consequently, its instances."
   ]
  }
 ],
 "metadata": {
  "kernelspec": {
   "display_name": "Python 3 (ipykernel)",
   "language": "python",
   "name": "python3"
  },
  "language_info": {
   "codemirror_mode": {
    "name": "ipython",
    "version": 3
   },
   "file_extension": ".py",
   "mimetype": "text/x-python",
   "name": "python",
   "nbconvert_exporter": "python",
   "pygments_lexer": "ipython3",
   "version": "3.11.5"
  }
 },
 "nbformat": 4,
 "nbformat_minor": 2
}
