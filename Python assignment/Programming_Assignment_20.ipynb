{
 "cells": [
  {
   "cell_type": "markdown",
   "id": "f6088163",
   "metadata": {},
   "source": [
    "# Programming Assignment_20\n",
    "**Sunday, 26 March 2023**\n",
    "\n",
    "**Question 1       \n",
    "Create a function that takes a list of strings and integers, and filters out the list so that it returns a list of integers only.**\n",
    ">**Examples**              \n",
    "filter_list([1, 2, 3, \"a\", \"b\", 4]) ➞ [1, 2, 3, 4]            \n",
    "filter_list([\"A\", 0, \"Edabit\", 1729, \"Python\", \"1729\"]) ➞ [0, 1729]            \n",
    "filter_list([\"Nothing\", \"here\"]) ➞ []     \n"
   ]
  },
  {
   "cell_type": "code",
   "execution_count": 3,
   "id": "560786b2",
   "metadata": {},
   "outputs": [
    {
     "data": {
      "text/plain": [
       "[0, 1729]"
      ]
     },
     "execution_count": 3,
     "metadata": {},
     "output_type": "execute_result"
    }
   ],
   "source": [
    "# define the function \n",
    "def filter_list(lst):\n",
    "    int_lst = []\n",
    "    for i in lst:\n",
    "        if type(i) == int:\n",
    "            int_lst.append(i)\n",
    "    return int_lst\n",
    "\n",
    "filter_list([\"A\", 0, \"Edabit\", 1729, \"Python\", \"1729\"])"
   ]
  },
  {
   "cell_type": "code",
   "execution_count": 2,
   "id": "c9d788a3",
   "metadata": {},
   "outputs": [
    {
     "data": {
      "text/plain": [
       "[1, 2, 3, 4]"
      ]
     },
     "execution_count": 2,
     "metadata": {},
     "output_type": "execute_result"
    }
   ],
   "source": [
    "filter_list([1, 2, 3, \"a\", \"b\", 4])"
   ]
  },
  {
   "cell_type": "code",
   "execution_count": 4,
   "id": "79ebc1cb",
   "metadata": {},
   "outputs": [
    {
     "data": {
      "text/plain": [
       "[]"
      ]
     },
     "execution_count": 4,
     "metadata": {},
     "output_type": "execute_result"
    }
   ],
   "source": [
    "filter_list([\"Nothing\", \"here\"])"
   ]
  },
  {
   "cell_type": "markdown",
   "id": "91d1f855",
   "metadata": {},
   "source": [
    "**Question 2              \n",
    "Given a list of numbers, create a function which returns the list but with each element's index in the list added to itself. This means you add 0 to the number at index 0, add 1 to the number at index 1, etc.**\n",
    "> **Examples**        \n",
    "add_indexes([0, 0, 0, 0, 0]) ➞ [0, 1, 2, 3, 4]      \n",
    "add_indexes([1, 2, 3, 4, 5]) ➞ [1, 3, 5, 7, 9]       \n",
    "add_indexes([5, 4, 3, 2, 1]) ➞ [5, 5, 5, 5, 5]"
   ]
  },
  {
   "cell_type": "code",
   "execution_count": 12,
   "id": "57a53a11",
   "metadata": {},
   "outputs": [
    {
     "data": {
      "text/plain": [
       "[1, 3, 5, 7, 9]"
      ]
     },
     "execution_count": 12,
     "metadata": {},
     "output_type": "execute_result"
    }
   ],
   "source": [
    "# define the function\n",
    "def add_indexes(lst):\n",
    "    add_lst = []\n",
    "    for i in lst:\n",
    "        add_lst.append( i + lst.index(i))\n",
    "    return add_lst\n",
    "\n",
    "#call the function\n",
    "add_indexes([1, 2, 3, 4, 5])"
   ]
  },
  {
   "cell_type": "code",
   "execution_count": 11,
   "id": "2e4bc04e",
   "metadata": {},
   "outputs": [
    {
     "data": {
      "text/plain": [
       "[5, 5, 5, 5, 5]"
      ]
     },
     "execution_count": 11,
     "metadata": {},
     "output_type": "execute_result"
    }
   ],
   "source": [
    "add_indexes([5, 4, 3, 2, 1])"
   ]
  },
  {
   "cell_type": "markdown",
   "id": "0a2b5cb9",
   "metadata": {},
   "source": [
    "**Question 3       \n",
    "Create a function that takes the height and radius of a cone as arguments and returns the volume of the cone rounded to the nearest hundredth. See the resources tab for the formula.**\n",
    " \n",
    "> **Examples**        \n",
    "cone_volume(3, 2) ➞ 12.57     \n",
    "cone_volume(15, 6) ➞ 565.49         \n",
    "cone_volume(18, 0) ➞ 0"
   ]
  },
  {
   "cell_type": "code",
   "execution_count": 18,
   "id": "bb56c0ba",
   "metadata": {},
   "outputs": [
    {
     "data": {
      "text/plain": [
       "12.57142857142857"
      ]
     },
     "execution_count": 18,
     "metadata": {},
     "output_type": "execute_result"
    }
   ],
   "source": [
    "# define the function \n",
    "def cone_volume(height,radius):\n",
    "    return (1/3)*(22/7)*(radius**2)*height\n",
    "\n",
    "cone_volume(3, 2)"
   ]
  },
  {
   "cell_type": "code",
   "execution_count": 19,
   "id": "524f0d71",
   "metadata": {},
   "outputs": [
    {
     "data": {
      "text/plain": [
       "0.0"
      ]
     },
     "execution_count": 19,
     "metadata": {},
     "output_type": "execute_result"
    }
   ],
   "source": [
    "cone_volume(18, 0)"
   ]
  },
  {
   "cell_type": "code",
   "execution_count": 20,
   "id": "95605828",
   "metadata": {},
   "outputs": [
    {
     "data": {
      "text/plain": [
       "565.7142857142857"
      ]
     },
     "execution_count": 20,
     "metadata": {},
     "output_type": "execute_result"
    }
   ],
   "source": [
    "cone_volume(15, 6)"
   ]
  },
  {
   "cell_type": "markdown",
   "id": "7ecbd094",
   "metadata": {},
   "source": [
    "**Question 4          \n",
    "This Triangular Number Sequence is generated from a pattern of dots that form a triangle. The first 5 numbers of the sequence, or dots, are:                  \n",
    "1, 3, 6, 10, 15                \n",
    "This means that the first triangle has just one dot, the second one has three dots, the third one has 6 dots and so on.                               \n",
    "Write a function that gives the number of dots with its corresponding triangle number of the sequence.**        \n",
    "> **Examples**       \n",
    "triangle(1) ➞ 1           \n",
    "triangle(6) ➞ 21              \n",
    "triangle(215) ➞ 23220"
   ]
  },
  {
   "cell_type": "code",
   "execution_count": 21,
   "id": "00796174",
   "metadata": {},
   "outputs": [],
   "source": [
    "# define the function \n",
    "def triangle(n):\n",
    "    return (n * (n + 1)) // 2"
   ]
  },
  {
   "cell_type": "code",
   "execution_count": 22,
   "id": "f3069934",
   "metadata": {},
   "outputs": [
    {
     "data": {
      "text/plain": [
       "23220"
      ]
     },
     "execution_count": 22,
     "metadata": {},
     "output_type": "execute_result"
    }
   ],
   "source": [
    "triangle(215)"
   ]
  },
  {
   "cell_type": "markdown",
   "id": "2b106cc3",
   "metadata": {},
   "source": [
    "**Question 5        \n",
    "Create a function that takes a list of numbers between 1 and 10 (excluding one number) and returns the missing number.**         \n",
    "> **Examples**       \n",
    "missing_num([1, 2, 3, 4, 6, 7, 8, 9, 10]) ➞ 5             \n",
    "missing_num([7, 2, 3, 6, 5, 9, 1, 4, 8]) ➞ 10              \n",
    "missing_num([10, 5, 1, 2, 4, 6, 8, 3, 9]) ➞ 7\n"
   ]
  },
  {
   "cell_type": "code",
   "execution_count": 23,
   "id": "eca871e1",
   "metadata": {},
   "outputs": [
    {
     "data": {
      "text/plain": [
       "7"
      ]
     },
     "execution_count": 23,
     "metadata": {},
     "output_type": "execute_result"
    }
   ],
   "source": [
    "def missing_num(lst):\n",
    "    full_lst = list(range(1, 11))\n",
    "    return sum(full_lst) - sum(lst)\n",
    "\n",
    "\n",
    "missing_num([10, 5, 1, 2, 4, 6, 8, 3, 9])"
   ]
  }
 ],
 "metadata": {
  "kernelspec": {
   "display_name": "Python 3 (ipykernel)",
   "language": "python",
   "name": "python3"
  },
  "language_info": {
   "codemirror_mode": {
    "name": "ipython",
    "version": 3
   },
   "file_extension": ".py",
   "mimetype": "text/x-python",
   "name": "python",
   "nbconvert_exporter": "python",
   "pygments_lexer": "ipython3",
   "version": "3.9.12"
  }
 },
 "nbformat": 4,
 "nbformat_minor": 5
}
