{
 "cells": [
  {
   "cell_type": "markdown",
   "id": "45d2369f",
   "metadata": {},
   "source": [
    "# Assignment_012\n",
    "\n",
    "**Date- Wednesday, 16 November 2022**"
   ]
  },
  {
   "cell_type": "markdown",
   "id": "53703139",
   "metadata": {},
   "source": [
    "**1. In what modes should the PdfFileReader() and PdfFileWriter() File objects will be opened?**\n",
    "\n",
    "**_Answer_**\n",
    "\n",
    "```PdfFileReader()```  In Read-binary (```'rb'```) mode.      \n",
    "\n",
    "```PdfFileWriter()```  In Write-binary (```'wb'```) mode."
   ]
  },
  {
   "cell_type": "markdown",
   "id": "c9d82242",
   "metadata": {},
   "source": [
    "**2. From a PdfFileReader object, how do you get a Page object for page 5?**\n",
    "\n",
    "**_Answer_**\n",
    "\n",
    "By using```.getPage(5)```"
   ]
  },
  {
   "cell_type": "code",
   "execution_count": 1,
   "id": "fb216009",
   "metadata": {},
   "outputs": [
    {
     "name": "stdout",
     "output_type": "stream",
     "text": [
      "Requirement already satisfied: PyPDF2==1.26.0 in c:\\users\\hp\\appdata\\roaming\\python\\python39\\site-packages (1.26.0)\n"
     ]
    },
    {
     "data": {
      "text/plain": [
       "'Keywords\\nCREATE, ALTER:\\n'"
      ]
     },
     "execution_count": 1,
     "metadata": {},
     "output_type": "execute_result"
    }
   ],
   "source": [
    "! pip install --user PyPDF2==1.26.0\n",
    "import PyPDF2\n",
    "f = open('SQL+Keywords.pdf','rb')\n",
    "Reader = PyPDF2.PdfFileReader(f)\n",
    "pages = Reader.getPage(5)\n",
    "pages.extractText()"
   ]
  },
  {
   "cell_type": "markdown",
   "id": "811cf86c",
   "metadata": {},
   "source": [
    "**3. What PdfFileReader variable stores the number of pages in the PDF document?**\n",
    "\n",
    "**_Answer_**\n",
    "\n",
    "```numPages```"
   ]
  },
  {
   "cell_type": "code",
   "execution_count": 2,
   "id": "e448ab69",
   "metadata": {},
   "outputs": [
    {
     "data": {
      "text/plain": [
       "12"
      ]
     },
     "execution_count": 2,
     "metadata": {},
     "output_type": "execute_result"
    }
   ],
   "source": [
    "import PyPDF2\n",
    "f = open('SQL+Keywords.pdf','rb')\n",
    "Reader = PyPDF2.PdfFileReader(f)\n",
    "Reader.numPages"
   ]
  },
  {
   "cell_type": "markdown",
   "id": "41b233e8",
   "metadata": {},
   "source": [
    "**4. If a PdfFileReader object’s PDF is encrypted with the password swordfish, what must you do before you can obtain Page objects from it?**\n",
    "\n",
    "**_Answer_**  \n",
    "\n",
    "Run ```decrypt('swordfish')```"
   ]
  },
  {
   "cell_type": "markdown",
   "id": "683315a6",
   "metadata": {},
   "source": [
    "**5. What methods do you use to rotate a page?**\n",
    "\n",
    "**_Answer_**    \n",
    "\n",
    "```rotateClockwise(input = angle)``` and ```rotateCounterClockwise(input = angle)``` methods."
   ]
  },
  {
   "cell_type": "markdown",
   "id": "fb6c18cd",
   "metadata": {},
   "source": [
    "**6. What is the difference between a Run object and a Paragraph object?**\n",
    "\n",
    "**_Answer_**  \n",
    "\n",
    "```Paragraph``` begins on a new line and contains multiple runs.                       \n",
    "```Run``` are  groups of characters in a line of a paragraph."
   ]
  },
  {
   "cell_type": "markdown",
   "id": "8e88c86f",
   "metadata": {},
   "source": [
    "**7. How do you obtain a list of Paragraph objects for a Document object that’s stored in a variable named doc?**\n",
    "\n",
    "**_Answer_**     \n",
    "\n",
    "Use ```doc.paragraphs```."
   ]
  },
  {
   "cell_type": "markdown",
   "id": "da0c6978",
   "metadata": {},
   "source": [
    "**8. What type of object has bold, underline, italic, strike, and outline variables?**\n",
    "\n",
    "**_Answer_**   \n",
    "\n",
    "```Run``` object."
   ]
  },
  {
   "cell_type": "markdown",
   "id": "8ec2c517",
   "metadata": {},
   "source": [
    "**9. What is the difference between False, True, and None for the bold variable?**\n",
    "\n",
    "**_Answer_**\n",
    "\n",
    "```True``` always makes the Run object bolded.           \n",
    "```False``` makes it always not bolded.               \n",
    "```None``` will make the Run object just use the style’s bold setting.             "
   ]
  },
  {
   "cell_type": "markdown",
   "id": "2a7be437",
   "metadata": {},
   "source": [
    "**10. How do you create a Document object for a new Word document?**\n",
    "\n",
    "**_Answer_**\n",
    "\n",
    "call ```docx.Document()```"
   ]
  },
  {
   "cell_type": "markdown",
   "id": "5e3449e9",
   "metadata": {},
   "source": [
    "**11. How do you add a paragraph with the text 'Hello, there!' to a Document object stored in a variable named doc?**\n",
    "\n",
    "**_Answer_**  \n",
    "\n",
    "```doc.add_paragraph('Hello there!')```"
   ]
  },
  {
   "cell_type": "markdown",
   "id": "980ec3e2",
   "metadata": {},
   "source": [
    "**12. What integers represent the levels of headings available in Word documents?**\n",
    "\n",
    "**_Answer_**\n",
    "\n",
    "Integers 0, 1, 2, 3, and 4."
   ]
  }
 ],
 "metadata": {
  "kernelspec": {
   "display_name": "Python 3 (ipykernel)",
   "language": "python",
   "name": "python3"
  },
  "language_info": {
   "codemirror_mode": {
    "name": "ipython",
    "version": 3
   },
   "file_extension": ".py",
   "mimetype": "text/x-python",
   "name": "python",
   "nbconvert_exporter": "python",
   "pygments_lexer": "ipython3",
   "version": "3.9.12"
  }
 },
 "nbformat": 4,
 "nbformat_minor": 5
}
