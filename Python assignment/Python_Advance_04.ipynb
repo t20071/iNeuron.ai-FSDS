{
 "cells": [
  {
   "cell_type": "markdown",
   "id": "8cef9f9d",
   "metadata": {},
   "source": [
    "# Python_Advance_04"
   ]
  },
  {
   "cell_type": "markdown",
   "id": "b6e63bbb",
   "metadata": {},
   "source": [
    "**Q1. Which two operator overloading methods can you use in your classes to support iteration?**"
   ]
  },
  {
   "cell_type": "markdown",
   "id": "440d7c48",
   "metadata": {},
   "source": [
    "Operator overloading is a feature that allow developers to redefine the behavior of the mathematical and comparison operator for custom data types.This means that we can use the standard mathematical operators(+,-,*,/) and comparison opeartor (<,>,==) in our own classes just as we would for built in data type like int,float and str."
   ]
  },
  {
   "cell_type": "code",
   "execution_count": 4,
   "id": "c2ed5d7f",
   "metadata": {},
   "outputs": [
    {
     "name": "stdout",
     "output_type": "stream",
     "text": [
      "3i + 5j + 6k\n",
      "1i + 2j + 3k\n",
      "4i + 7j + 9k\n",
      "<class '__main__.Vector'>\n"
     ]
    }
   ],
   "source": [
    "class Vector:\n",
    "    def __init__(self,i,j,k):\n",
    "        self.i = i\n",
    "        self.j = j\n",
    "        self.k = k\n",
    "        \n",
    "    def __str__(self):\n",
    "        return f\"{self.i}i + {self.j}j + {self.k}k\"\n",
    "    \n",
    "    def __add__(self,x):\n",
    "        return Vector(self.i+x.i, self.j+x.j, self.k+x.k)\n",
    "    \n",
    "    \n",
    "v1 = Vector(3,5,6)\n",
    "print(v1)\n",
    "    \n",
    "v2 = Vector(1,2,3)\n",
    "print(v2)\n",
    "    \n",
    "print(v1+v2)\n",
    "print(type(v1+v2))"
   ]
  },
  {
   "cell_type": "markdown",
   "id": "241e43b6",
   "metadata": {},
   "source": [
    "**Q2. In what contexts do the two operator overloading methods manage printing?**\n",
    "```json \n",
    "__str__: Used for the str() function and print() function when a string representation is needed.\n",
    "__repr__: Provides a detailed, unambiguous string representation for developers, used by the repr() function.\n",
    "```"
   ]
  },
  {
   "cell_type": "code",
   "execution_count": 5,
   "id": "80c41299",
   "metadata": {},
   "outputs": [
    {
     "name": "stdout",
     "output_type": "stream",
     "text": [
      "PrintableClass(value=42)\n",
      "PrintableClass(42)\n"
     ]
    }
   ],
   "source": [
    "class PrintableClass:\n",
    "    def __init__(self, value):\n",
    "        self.value = value\n",
    "\n",
    "    def __str__(self):\n",
    "        return f\"PrintableClass(value={self.value})\"\n",
    "\n",
    "    def __repr__(self):\n",
    "        return f\"PrintableClass({self.value})\"\n",
    "\n",
    "# Usage:\n",
    "obj = PrintableClass(42)\n",
    "print(obj)  # Calls __str__\n",
    "print(repr(obj))  # Calls __repr__\n"
   ]
  },
  {
   "cell_type": "markdown",
   "id": "c3bae089",
   "metadata": {},
   "source": [
    "**Q3. In a class, how do you intercept slice operations?**\n",
    "``` json\n",
    "To intercept slice operations in a class, we need to override the __getitem__ and __setitem__ methods. These methods are called when we try to access or set an item in a sequence.\n",
    "```"
   ]
  },
  {
   "cell_type": "code",
   "execution_count": 6,
   "id": "3d82d7f0",
   "metadata": {},
   "outputs": [],
   "source": [
    "class ReversedList(list):\n",
    "    def __getitem__(self, i):\n",
    "        return self[::-1][i]\n",
    "\n",
    "    def __setitem__(self, i, value):\n",
    "        self[::-1][i] = value"
   ]
  },
  {
   "cell_type": "markdown",
   "id": "63b78b72",
   "metadata": {},
   "source": [
    "**Q4. In a class, how do you capture in-place addition?**"
   ]
  },
  {
   "cell_type": "code",
   "execution_count": 7,
   "id": "f50035c5",
   "metadata": {},
   "outputs": [
    {
     "name": "stdout",
     "output_type": "stream",
     "text": [
      "15\n"
     ]
    }
   ],
   "source": [
    "class InPlaceAdditionClass:\n",
    "    def __init__(self, value):\n",
    "        self.value = value\n",
    "\n",
    "    def __iadd__(self, other):\n",
    "        self.value += other\n",
    "        return self\n",
    "\n",
    "# Usage:\n",
    "obj = InPlaceAdditionClass(10)\n",
    "obj += 5\n",
    "print(obj.value)\n"
   ]
  },
  {
   "cell_type": "markdown",
   "id": "75d5636f",
   "metadata": {},
   "source": [
    "**Q5. When is it appropriate to use operator overloading?**\n",
    "\n",
    "> Operator overloading is appropriate when we want to define custom behavior for built-in operators in our class. It is commonly used in scenarios such as implementing mathematical operations for user-defined objects, making custom containers iterable, and providing meaningful string representations for objects. Use it when we want to enhance the readability and usability of our code by allowing objects of our class to be used in a natural and intuitive way."
   ]
  }
 ],
 "metadata": {
  "kernelspec": {
   "display_name": "Python 3 (ipykernel)",
   "language": "python",
   "name": "python3"
  },
  "language_info": {
   "codemirror_mode": {
    "name": "ipython",
    "version": 3
   },
   "file_extension": ".py",
   "mimetype": "text/x-python",
   "name": "python",
   "nbconvert_exporter": "python",
   "pygments_lexer": "ipython3",
   "version": "3.11.5"
  }
 },
 "nbformat": 4,
 "nbformat_minor": 5
}
