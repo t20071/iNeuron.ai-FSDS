{
 "cells": [
  {
   "cell_type": "markdown",
   "id": "e2977890",
   "metadata": {},
   "source": [
    "# Programming_Assignment_16\n",
    "**Thursday, 19 January 2023**           \n",
    "[sharadpardhe08@gmail.com](link)"
   ]
  },
  {
   "cell_type": "markdown",
   "id": "3c574dea",
   "metadata": {},
   "source": [
    "**Question1. Write a function that stutters a word as if someone is struggling to read it. The first two letters are repeated twice with an ellipsis ... and space after each, and then the word is pronounced with a question mark ?.**     \n",
    "> Examples\n",
    "stutter(\"incredible\") ➞ \"in... in... incredible?\"           \n",
    "stutter(\"enthusiastic\") ➞ \"en... en... enthusiastic?\"             \n",
    "stutter(\"outstanding\") ➞ \"ou... ou... outstanding?\""
   ]
  },
  {
   "cell_type": "code",
   "execution_count": 2,
   "id": "79ef343a",
   "metadata": {},
   "outputs": [
    {
     "name": "stdout",
     "output_type": "stream",
     "text": [
      "Enter a word: enthusiastic\n"
     ]
    },
    {
     "data": {
      "text/plain": [
       "'en....en....enthusiastic?'"
      ]
     },
     "execution_count": 2,
     "metadata": {},
     "output_type": "execute_result"
    }
   ],
   "source": [
    "# defining the word\n",
    "def stutter(word):\n",
    "    '''A function that stutters a word as if someone is struggling to read it'''\n",
    "    return f'{word[0:2]}....{word[0:2]}....{word}?'\n",
    "\n",
    "word = input('Enter a word: ')\n",
    "\n",
    "# calling the function\n",
    "stutter(word)"
   ]
  },
  {
   "cell_type": "markdown",
   "id": "85aae279",
   "metadata": {},
   "source": [
    "**Question 2.Create a function that takes an angle in radians and returns the corresponding angle in degrees rounded to one decimal place.**\n",
    "> Examples\n",
    "radians_to_degrees(1) ➞ 57.3       \n",
    "radians_to_degrees(20) ➞ 1145.9        \n",
    "radians_to_degrees(50) ➞ 2864.8"
   ]
  },
  {
   "cell_type": "code",
   "execution_count": 6,
   "id": "222bd3dd",
   "metadata": {},
   "outputs": [
    {
     "name": "stdout",
     "output_type": "stream",
     "text": [
      "Enter angle value in radian: 20\n"
     ]
    },
    {
     "data": {
      "text/plain": [
       "'20.0 radian is equal to 1145.9155902616465 degree'"
      ]
     },
     "execution_count": 6,
     "metadata": {},
     "output_type": "execute_result"
    }
   ],
   "source": [
    "# import required module\n",
    "import math\n",
    "\n",
    "# defining the function\n",
    "def rad_degree(angle):\n",
    "    degree = angle*(180/math.pi)\n",
    "    return f'{angle} radian is equal to {degree} degree'\n",
    "\n",
    "angle = float(input('Enter angle value in radian: '))\n",
    "rad_degree(angle)"
   ]
  },
  {
   "cell_type": "markdown",
   "id": "2904bc6f",
   "metadata": {},
   "source": [
    "**Question 3. In this challenge, establish if a given integer num is a Curzon number. If 1 plus 2 elevated to num is exactly divisible by 1 plus 2 multiplied by num, then num is a Curzon number.\n",
    "Given a non-negative integer num, implement a function that returns True if num is a Curzon number, or False otherwise.**\n",
    "> Examples        \n",
    "is_curzon(5) ➞ True          \n",
    "2 ** 5 + 1 = 33          \n",
    "2 * 5 + 1 = 11         \n",
    "33 is a multiple of 11      \n",
    "\n",
    "> is_curzon(10) ➞ False    \n",
    "2 ** 10 + 1 = 1025       \n",
    "2 * 10 + 1 = 21      \n",
    "1025 is not a multiple of 21      \n",
    "\n",
    "> is_curzon(14) ➞ True   \n",
    "2 ** 14 + 1 = 16385      \n",
    "2 * 14 + 1 = 29       \n",
    "16385 is a multiple of 29      "
   ]
  },
  {
   "cell_type": "code",
   "execution_count": 10,
   "id": "e197889b",
   "metadata": {},
   "outputs": [
    {
     "name": "stdout",
     "output_type": "stream",
     "text": [
      "Enter a number: 14\n"
     ]
    },
    {
     "data": {
      "text/plain": [
       "True"
      ]
     },
     "execution_count": 10,
     "metadata": {},
     "output_type": "execute_result"
    }
   ],
   "source": [
    "# define the function \n",
    "def is_curzon(num):\n",
    "    '''A programme to check the curzon number'''\n",
    "    \n",
    "    a = 2**num + 1\n",
    "    b = 2*num + 1\n",
    "    flag = None\n",
    "    \n",
    "    if a%b == 0:\n",
    "        flag= True\n",
    "    else:\n",
    "        flag = False\n",
    "    return flag\n",
    "\n",
    "num = int(input('Enter a number: '))     \n",
    "is_curzon(num)"
   ]
  },
  {
   "cell_type": "markdown",
   "id": "5f970069",
   "metadata": {},
   "source": [
    "**Question 4.Given the side length x find the area of a hexagon?**    \n",
    "\n",
    "\n",
    "<img src=\"https://www.wikihow.com/images/thumb/c/c4/Calculate-the-Area-of-a-Hexagon-Step-1-Version-5.jpg/v4-460px-Calculate-the-Area-of-a-Hexagon-Step-1-Version-5.jpg.webp\" alt=\"Alternative text\" />\n",
    "\n",
    "> Examples\n",
    "area_of_hexagon(1) ➞ 2.6          \n",
    "area_of_hexagon(2) ➞ 10.4         \n",
    "area_of_hexagon(3) ➞ 23.4"
   ]
  },
  {
   "cell_type": "code",
   "execution_count": 13,
   "id": "dd7003f3",
   "metadata": {},
   "outputs": [
    {
     "name": "stdout",
     "output_type": "stream",
     "text": [
      "Enter the length of side: 3\n"
     ]
    },
    {
     "data": {
      "text/plain": [
       "23.382685902179844"
      ]
     },
     "execution_count": 13,
     "metadata": {},
     "output_type": "execute_result"
    }
   ],
   "source": [
    "import math\n",
    "def area_of_hexagon(side):\n",
    "    '''A python programme to find the hexagon area'''\n",
    "    area = (3*math.sqrt(3)* (side**2))/2\n",
    "    return area\n",
    "\n",
    "side = float(input('Enter the length of side: '))\n",
    "area_of_hexagon(side)"
   ]
  },
  {
   "cell_type": "markdown",
   "id": "06aefede",
   "metadata": {},
   "source": [
    "**Question 5. Create a function that returns a base-2 (binary) representation of a base-10 (decimal) string number. To convert is simple: ((2) means base-2 and (10) means base-10) 010101001(2) = 1 + 8 + 32 + 128.\n",
    "Going from right to left, the value of the most right bit is 1, now from that every bit to the left will be x2 the value, value of an 8 bit binary numbers are (256, 128, 64, 32, 16, 8, 4, 2, 1).**     \n",
    "> Examples        \n",
    "binary(1) ➞ \"1\"      \n",
    "1*1 = 1       \n",
    "binary(5) ➞ \"101\"        \n",
    "1*1 + 1*4 = 5        \n",
    "binary(10) ➞ \"1010\"              \n",
    "1*2 + 1*8 = 10\n",
    "\n",
    "[https://www.wikihow.com/Convert-from-Binary-to-Decimal](https://www.wikihow.com/Convert-from-Binary-to-Decimal)"
   ]
  },
  {
   "cell_type": "code",
   "execution_count": 28,
   "id": "23547018",
   "metadata": {},
   "outputs": [
    {
     "name": "stdout",
     "output_type": "stream",
     "text": [
      "Enter a number: 10\n"
     ]
    },
    {
     "data": {
      "text/plain": [
       "1010"
      ]
     },
     "execution_count": 28,
     "metadata": {},
     "output_type": "execute_result"
    }
   ],
   "source": [
    "def binary(num):\n",
    "    '''A python programme to find the binary of a given number'''\n",
    "    string = ''\n",
    "    while num > 0:\n",
    "        rem = num%2\n",
    "        num = num//2\n",
    "        string += str(rem)\n",
    "    return int(string[::-1])\n",
    "\n",
    "num = int(input('Enter a number: '))\n",
    "binary(num)"
   ]
  }
 ],
 "metadata": {
  "kernelspec": {
   "display_name": "Python 3 (ipykernel)",
   "language": "python",
   "name": "python3"
  },
  "language_info": {
   "codemirror_mode": {
    "name": "ipython",
    "version": 3
   },
   "file_extension": ".py",
   "mimetype": "text/x-python",
   "name": "python",
   "nbconvert_exporter": "python",
   "pygments_lexer": "ipython3",
   "version": "3.9.12"
  }
 },
 "nbformat": 4,
 "nbformat_minor": 5
}
