{
 "cells": [
  {
   "cell_type": "markdown",
   "id": "bef764da",
   "metadata": {},
   "source": [
    "# Programming_Assignment_21\n",
    "**Monday, 27 March 2023**"
   ]
  },
  {
   "cell_type": "markdown",
   "id": "8580a6f8",
   "metadata": {},
   "source": [
    "**Question 1                             \n",
    "Write a function that takes a list and a number as arguments. Add the number to the end of the list, then remove the first element of the list. The function should then return the updated list.**\n",
    ">**Examples**      \n",
    "next_in_line([5, 6, 7, 8, 9], 1) ➞ [6, 7, 8, 9, 1]           \n",
    "next_in_line([7, 6, 3, 23, 17], 10) ➞ [6, 3, 23, 17, 10]              \n",
    "next_in_line([1, 10, 20, 42 ], 6) ➞ [10, 20, 42, 6]                       \n",
    "next_in_line([], 6) ➞ \"No list has been selected\""
   ]
  },
  {
   "cell_type": "code",
   "execution_count": 1,
   "id": "89e5b2e7",
   "metadata": {},
   "outputs": [
    {
     "data": {
      "text/plain": [
       "[6, 7, 8, 9, 1]"
      ]
     },
     "execution_count": 1,
     "metadata": {},
     "output_type": "execute_result"
    }
   ],
   "source": [
    "# define the function\n",
    "def next_in_line(lst,i):\n",
    "    if lst == []:\n",
    "        return \"No list has been selected\"\n",
    "    else:\n",
    "        lst.pop(0)\n",
    "        lst.append(i)\n",
    "        return lst\n",
    "\n",
    "next_in_line([5, 6, 7, 8, 9], 1)"
   ]
  },
  {
   "cell_type": "code",
   "execution_count": 2,
   "id": "577797ce",
   "metadata": {},
   "outputs": [
    {
     "data": {
      "text/plain": [
       "'No list has been selected'"
      ]
     },
     "execution_count": 2,
     "metadata": {},
     "output_type": "execute_result"
    }
   ],
   "source": [
    "next_in_line([], 6)"
   ]
  },
  {
   "cell_type": "markdown",
   "id": "30d0ef3f",
   "metadata": {},
   "source": [
    "**Question 2            \n",
    "Create the function that takes a list of dictionaries and returns the sum of people's budgets.**\n",
    "> **Examples**            \n",
    "get_budgets([\n",
    "  { \"name\": \"John\", \"age\": 21, \"budget\": 23000 },\n",
    "  { \"name\": \"Steve\",  \"age\": 32, \"budget\": 40000 },\n",
    "  { \"name\": \"Martin\",  \"age\": 16, \"budget\": 2700 }\n",
    "]) ➞ 65700\n",
    "\n",
    "> get_budgets([\n",
    "  { \"name\": \"John\",  \"age\": 21, \"budget\": 29000 },\n",
    "  { \"name\": \"Steve\",  \"age\": 32, \"budget\": 32000 },\n",
    "  { \"name\": \"Martin\",  \"age\": 16, \"budget\": 1600 }\n",
    "]) ➞ 62600\n"
   ]
  },
  {
   "cell_type": "code",
   "execution_count": 3,
   "id": "a9f59a47",
   "metadata": {},
   "outputs": [
    {
     "data": {
      "text/plain": [
       "65700"
      ]
     },
     "execution_count": 3,
     "metadata": {},
     "output_type": "execute_result"
    }
   ],
   "source": [
    "# defining the function \n",
    "def get_budgets(lst):\n",
    "    budget = []\n",
    "    for d in lst:\n",
    "        budget.append(d.get('budget'))\n",
    "    return sum(budget)\n",
    "        \n",
    "# calling the function   \n",
    "get_budgets([\n",
    "  { \"name\": \"John\", \"age\": 21, \"budget\": 23000 },\n",
    "  { \"name\": \"Steve\",  \"age\": 32, \"budget\": 40000 },\n",
    "  { \"name\": \"Martin\",  \"age\": 16, \"budget\": 2700 }\n",
    "]) \n"
   ]
  },
  {
   "cell_type": "code",
   "execution_count": 4,
   "id": "6b39e8a4",
   "metadata": {},
   "outputs": [
    {
     "data": {
      "text/plain": [
       "62600"
      ]
     },
     "execution_count": 4,
     "metadata": {},
     "output_type": "execute_result"
    }
   ],
   "source": [
    "# checking the function\n",
    "get_budgets([\n",
    "  { \"name\": \"John\",  \"age\": 21, \"budget\": 29000 },\n",
    "  { \"name\": \"Steve\",  \"age\": 32, \"budget\": 32000 },\n",
    "  { \"name\": \"Martin\",  \"age\": 16, \"budget\": 1600 }\n",
    "]) "
   ]
  },
  {
   "cell_type": "markdown",
   "id": "ba396848",
   "metadata": {},
   "source": [
    "**Question 3           \n",
    "Create a function that takes a string and returns a string with its letters in alphabetical order.**\n",
    "> **Examples** \n",
    "\n",
    "> alphabet_soup(\"hello\") ➞ \"ehllo\"           \n",
    "alphabet_soup(\"edabit\") ➞ \"abdeit\"             \n",
    "alphabet_soup(\"hacker\") ➞ \"acehkr\"            \n",
    "alphabet_soup(\"geek\") ➞ \"eegk\"              \n",
    "alphabet_soup(\"javascript\") ➞ \"aacijprstv\"\n"
   ]
  },
  {
   "cell_type": "code",
   "execution_count": 5,
   "id": "00a67830",
   "metadata": {},
   "outputs": [
    {
     "data": {
      "text/plain": [
       "'aacijprstv'"
      ]
     },
     "execution_count": 5,
     "metadata": {},
     "output_type": "execute_result"
    }
   ],
   "source": [
    "# defining the function\n",
    "def alphabet_soup(word):\n",
    "    l_word = []       # create a empty list \n",
    "    for i in word:\n",
    "        l_word.append(i)  # add each alpha in list \n",
    "    l_word = sorted(l_word) # sort the list \n",
    "    a_word = ''  # create a empty string \n",
    "    for w in l_word:\n",
    "        a_word = a_word + w   \n",
    "    return a_word\n",
    "\n",
    "# calling the function \n",
    "alphabet_soup(\"javascript\")"
   ]
  },
  {
   "cell_type": "code",
   "execution_count": 6,
   "id": "8cad6b38",
   "metadata": {},
   "outputs": [
    {
     "data": {
      "text/plain": [
       "'ehllo'"
      ]
     },
     "execution_count": 6,
     "metadata": {},
     "output_type": "execute_result"
    }
   ],
   "source": [
    "# checking the function\n",
    "alphabet_soup(\"hello\")"
   ]
  },
  {
   "cell_type": "markdown",
   "id": "508dc6dc",
   "metadata": {},
   "source": [
    "**Question 4           \n",
    "Suppose that you invest $10,000 for 10 years at an interest rate of 6/% compounded monthly. What will be the value of your investment at the end of the 10 year period?**\n",
    "\n",
    "**Create a function that accepts the principal p, the term in years t, the interest rate r, and the number of compounding periods per year n. The function returns the value at the end of term rounded to the nearest cent.**\n",
    "\n",
    ">**For the example above:**\n",
    "compound_interest(10000, 10, 0.06, 12) ➞ 18193.97 \n",
    "\n",
    "> Note that the interest rate is given as a decimal and n=12 because with monthly compounding there are 12 periods per year. Compounding can also be done annually, quarterly, weekly, or daily.       \n",
    "> **Examples**              \n",
    "compound_interest(100, 1, 0.05, 1) ➞ 105.0       \n",
    "compound_interest(3500, 15, 0.1, 4) ➞ 15399.26          \n",
    "compound_interest(100000, 20, 0.15, 365) ➞ 2007316.26\n"
   ]
  },
  {
   "cell_type": "code",
   "execution_count": 7,
   "id": "4e0c3a13",
   "metadata": {},
   "outputs": [],
   "source": [
    "# define the function\n",
    "def compound_interest(p,d,r,n):\n",
    "    '''function that accepts the principal p, the term in years t, the interest rate r, and the \n",
    "    number of compounding periods per year n. The function returns the value at the end of term \n",
    "    rounded to the nearest cent'''\n",
    "    return round((p*((1+((r/n)))**(d*n))),2)"
   ]
  },
  {
   "cell_type": "code",
   "execution_count": 8,
   "id": "4afe505e",
   "metadata": {},
   "outputs": [
    {
     "data": {
      "text/plain": [
       "105.0"
      ]
     },
     "execution_count": 8,
     "metadata": {},
     "output_type": "execute_result"
    }
   ],
   "source": [
    "compound_interest(100, 1, 0.05, 1)"
   ]
  },
  {
   "cell_type": "code",
   "execution_count": 9,
   "id": "d95d2cad",
   "metadata": {},
   "outputs": [
    {
     "data": {
      "text/plain": [
       "15399.26"
      ]
     },
     "execution_count": 9,
     "metadata": {},
     "output_type": "execute_result"
    }
   ],
   "source": [
    "compound_interest(3500, 15, 0.1, 4)"
   ]
  },
  {
   "cell_type": "code",
   "execution_count": 10,
   "id": "8e0e8000",
   "metadata": {},
   "outputs": [
    {
     "data": {
      "text/plain": [
       "2007316.26"
      ]
     },
     "execution_count": 10,
     "metadata": {},
     "output_type": "execute_result"
    }
   ],
   "source": [
    "compound_interest(100000, 20, 0.15, 365)"
   ]
  },
  {
   "cell_type": "markdown",
   "id": "2e579e23",
   "metadata": {},
   "source": [
    "**Question 5          \n",
    "Write a function that takes a list of elements and returns only the integers.**\n",
    "\n",
    "> **Examples**          \n",
    "return_only_integer([9, 2, \"space\", \"car\", \"lion\", 16]) ➞ [9, 2, 16]                \n",
    "return_only_integer([\"hello\", 81, \"basketball\", 123, \"fox\"]) ➞ [81, 123]                  \n",
    "return_only_integer([10, \"121\", 56, 20, \"car\", 3, \"lion\"]) ➞ [10, 56, 20, 3]              \n",
    "return_only_integer([\"String\",  True,  3.3,  1]) ➞ [1]\n"
   ]
  },
  {
   "cell_type": "code",
   "execution_count": 11,
   "id": "6de67817",
   "metadata": {},
   "outputs": [],
   "source": [
    "# define the function \n",
    "def return_only_integer(lst):\n",
    "    '''A function that takes a list of elements and returns only the integers'''\n",
    "    i_lst = []\n",
    "    for i in lst:\n",
    "        if type(i) == int:\n",
    "            i_lst.append(i)\n",
    "    return i_lst"
   ]
  },
  {
   "cell_type": "code",
   "execution_count": 12,
   "id": "7f15d3c1",
   "metadata": {},
   "outputs": [
    {
     "data": {
      "text/plain": [
       "[9, 2, 16]"
      ]
     },
     "execution_count": 12,
     "metadata": {},
     "output_type": "execute_result"
    }
   ],
   "source": [
    "return_only_integer([9, 2, \"space\", \"car\", \"lion\", 16])"
   ]
  },
  {
   "cell_type": "code",
   "execution_count": 13,
   "id": "c32f4f00",
   "metadata": {},
   "outputs": [
    {
     "data": {
      "text/plain": [
       "[81, 123]"
      ]
     },
     "execution_count": 13,
     "metadata": {},
     "output_type": "execute_result"
    }
   ],
   "source": [
    "return_only_integer([\"hello\", 81, \"basketball\", 123, \"fox\"])"
   ]
  },
  {
   "cell_type": "code",
   "execution_count": 14,
   "id": "d06289a5",
   "metadata": {},
   "outputs": [
    {
     "data": {
      "text/plain": [
       "[10, 56, 20, 3]"
      ]
     },
     "execution_count": 14,
     "metadata": {},
     "output_type": "execute_result"
    }
   ],
   "source": [
    "return_only_integer([10, \"121\", 56, 20, \"car\", 3, \"lion\"])"
   ]
  },
  {
   "cell_type": "code",
   "execution_count": 15,
   "id": "63a938b9",
   "metadata": {},
   "outputs": [
    {
     "data": {
      "text/plain": [
       "[1]"
      ]
     },
     "execution_count": 15,
     "metadata": {},
     "output_type": "execute_result"
    }
   ],
   "source": [
    "return_only_integer([\"String\", True, 3.3, 1])"
   ]
  }
 ],
 "metadata": {
  "kernelspec": {
   "display_name": "Python 3 (ipykernel)",
   "language": "python",
   "name": "python3"
  },
  "language_info": {
   "codemirror_mode": {
    "name": "ipython",
    "version": 3
   },
   "file_extension": ".py",
   "mimetype": "text/x-python",
   "name": "python",
   "nbconvert_exporter": "python",
   "pygments_lexer": "ipython3",
   "version": "3.9.12"
  }
 },
 "nbformat": 4,
 "nbformat_minor": 5
}
