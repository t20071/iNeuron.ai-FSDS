{
 "cells": [
  {
   "cell_type": "markdown",
   "id": "f58c80c1",
   "metadata": {},
   "source": [
    "# Python_Advance_02\n",
    "**Monday, 4 December, 2023**"
   ]
  },
  {
   "cell_type": "markdown",
   "id": "0b2608a9",
   "metadata": {},
   "source": [
    "**Q1. What is the relationship between classes and modules?**\n",
    "\n",
    "**Answer.**\n",
    ">In Python, a module is a file containing Python definitions and statements. A class is a code template for creating objects. Classes are often defined in modules. You can use classes defined in a module by importing that module."
   ]
  },
  {
   "cell_type": "code",
   "execution_count": null,
   "id": "f20b6f90",
   "metadata": {},
   "outputs": [],
   "source": [
    "# Example Module (example_module.py)\n",
    "class MyClass:\n",
    "    def __init__(self, x):\n",
    "        self.x = x\n",
    "\n",
    "# Example Usage in Another Module\n",
    "from example_module import MyClass\n",
    "\n",
    "obj = MyClass(10)\n",
    "print(obj.x)\n"
   ]
  },
  {
   "cell_type": "markdown",
   "id": "57968549",
   "metadata": {},
   "source": [
    "**Q2. How do you make instances and classes?**\n",
    "\n",
    "**Answer**. \n",
    ">We create instances of a class by calling the class as if it were a function. \n",
    "\n",
    "Here's an example:"
   ]
  },
  {
   "cell_type": "code",
   "execution_count": 2,
   "id": "580f31c7",
   "metadata": {},
   "outputs": [
    {
     "name": "stdout",
     "output_type": "stream",
     "text": [
      "5\n"
     ]
    }
   ],
   "source": [
    "# Class definition\n",
    "class MyClass:\n",
    "    def __init__(self, x):\n",
    "        self.x = x\n",
    "\n",
    "# Creating an instance\n",
    "obj = MyClass(5)\n",
    "print(obj.x)"
   ]
  },
  {
   "cell_type": "markdown",
   "id": "33db754c",
   "metadata": {},
   "source": [
    "**Q3. Where and how should class attributes be created?**\n",
    "\n",
    "**Answer**. \n",
    "> Class attributes are created within the class block outside of any methods. They are shared among all instances of the class."
   ]
  },
  {
   "cell_type": "code",
   "execution_count": 3,
   "id": "2832e8ca",
   "metadata": {},
   "outputs": [
    {
     "name": "stdout",
     "output_type": "stream",
     "text": [
      "0\n"
     ]
    }
   ],
   "source": [
    "class MyClass:\n",
    "    class_attribute = 0\n",
    "\n",
    "    def __init__(self, x):\n",
    "        self.x = x\n",
    "\n",
    "# Accessing class attribute\n",
    "print(MyClass.class_attribute)\n"
   ]
  },
  {
   "cell_type": "markdown",
   "id": "49417d62",
   "metadata": {},
   "source": [
    "**Q4. Where and how are instance attributes created?**\n",
    "\n",
    "**Answer** \n",
    "> Instance attributes are created within the __init__ method of the class."
   ]
  },
  {
   "cell_type": "code",
   "execution_count": 4,
   "id": "f49742dc",
   "metadata": {},
   "outputs": [
    {
     "name": "stdout",
     "output_type": "stream",
     "text": [
      "5\n"
     ]
    }
   ],
   "source": [
    "class MyClass:\n",
    "    def __init__(self, x):\n",
    "        self.x = x\n",
    "\n",
    "# Creating an instance with an instance attribute\n",
    "obj = MyClass(5)\n",
    "print(obj.x)\n"
   ]
  },
  {
   "cell_type": "markdown",
   "id": "ab6c7fd6",
   "metadata": {},
   "source": [
    "**Q5. What does the term \"self\" in a Python class mean?**\n",
    "\n",
    "**Answer** \n",
    "> self refers to the instance of the class. It is a convention in Python to name this parameter as self. It is the first parameter in every method of a class and represents the instance on which the method is called."
   ]
  },
  {
   "cell_type": "code",
   "execution_count": 5,
   "id": "c3916200",
   "metadata": {},
   "outputs": [
    {
     "name": "stdout",
     "output_type": "stream",
     "text": [
      "5\n"
     ]
    }
   ],
   "source": [
    "class MyClass:\n",
    "    def __init__(self, x):\n",
    "        self.x = x\n",
    "\n",
    "    def print_x(self):\n",
    "        print(self.x)\n",
    "\n",
    "obj = MyClass(5)\n",
    "obj.print_x()\n"
   ]
  },
  {
   "cell_type": "markdown",
   "id": "5c4025a8",
   "metadata": {},
   "source": [
    "**Q6. How does a Python class handle operator overloading?**\n",
    "\n",
    "**Answer**\n",
    "> Python allows the overloading of operators by defining special methods in a class. For example, to overload the + operator:"
   ]
  },
  {
   "cell_type": "code",
   "execution_count": 6,
   "id": "650154b0",
   "metadata": {},
   "outputs": [
    {
     "name": "stdout",
     "output_type": "stream",
     "text": [
      "15\n"
     ]
    }
   ],
   "source": [
    "class MyClass:\n",
    "    def __init__(self, x):\n",
    "        self.x = x\n",
    "\n",
    "    def __add__(self, other):\n",
    "        return MyClass(self.x + other.x)\n",
    "\n",
    "# Overloading the + operator\n",
    "obj1 = MyClass(5)\n",
    "obj2 = MyClass(10)\n",
    "result = obj1 + obj2\n",
    "print(result.x)\n"
   ]
  },
  {
   "cell_type": "markdown",
   "id": "5e49abe9",
   "metadata": {},
   "source": [
    "**Q7. When do you consider allowing operator overloading of your classes?**\n",
    "\n",
    "**Answer**\n",
    "> Operator overloading is considered when it makes the code more readable or aligns with the expected behavior of the operators for instances of the class.\n",
    "\n",
    "**Q8. What is the most popular form of operator overloading?**\n",
    "\n",
    "**Answer** \n",
    ">The most popular form of operator overloading is probably the __add__ method, which allows overloading the + operator. Other commonly used methods include __sub__, __mul__, etc., for other arithmetic operations.\n",
    "\n",
    "**Q9. What are the two most important concepts to grasp in order to comprehend Python OOP code?**\n",
    "\n",
    "**Answer** \n",
    ">The two most important concepts in Python OOP code are:   \n",
    "**Classes and Instances:** Understanding how to define classes, create instances, and work with attributes and methods.     \n",
    "**Inheritance and Polymorphism:** Knowing how to create subclasses, override methods, and use polymorphism to write code that works with objects of multiple classes interchangeably.\n"
   ]
  },
  {
   "cell_type": "code",
   "execution_count": null,
   "id": "c1fb20d0",
   "metadata": {},
   "outputs": [],
   "source": []
  }
 ],
 "metadata": {
  "kernelspec": {
   "display_name": "Python 3 (ipykernel)",
   "language": "python",
   "name": "python3"
  },
  "language_info": {
   "codemirror_mode": {
    "name": "ipython",
    "version": 3
   },
   "file_extension": ".py",
   "mimetype": "text/x-python",
   "name": "python",
   "nbconvert_exporter": "python",
   "pygments_lexer": "ipython3",
   "version": "3.11.5"
  }
 },
 "nbformat": 4,
 "nbformat_minor": 5
}
