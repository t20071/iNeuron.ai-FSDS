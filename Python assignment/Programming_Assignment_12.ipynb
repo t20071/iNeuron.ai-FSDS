{
 "cells": [
  {
   "cell_type": "markdown",
   "id": "f34170ed",
   "metadata": {},
   "source": [
    "# Programming Assignment_12\n",
    "**Monday, 26 December 2022**               \n",
    "[sharadpardhe08@gmail.com](link)"
   ]
  },
  {
   "cell_type": "markdown",
   "id": "ee73ef71",
   "metadata": {},
   "source": [
    "**1. Write a Python program to Extract Unique values dictionary values?**\n",
    "\n",
    "**Answer-**"
   ]
  },
  {
   "cell_type": "code",
   "execution_count": 1,
   "id": "17b81262",
   "metadata": {},
   "outputs": [
    {
     "name": "stdout",
     "output_type": "stream",
     "text": [
      "The unique values in {'a': [1, 2, 3, 7, 4, 77, 100], 'b': [1, 2, 3, 5, 8, 9, 200], 'c': [2, 4, 6, 7, 8, 300]} is: \n",
      " {1, 2, 3, 4, 100, 5, 7, 8, 9, 200, 6, 300, 77}\n"
     ]
    }
   ],
   "source": [
    "# create new dictionary \n",
    "dict1 = {'a':[1,2,3,7,4,77,100],\n",
    "        'b': [1,2,3,5,8,9,200],\n",
    "        'c': [2,4,6,7,8,300]}\n",
    "# define empty list which will store the ele of dict1.values()\n",
    "new_list = []\n",
    "\n",
    "# iterate over every ele form dict values - \n",
    "for lst in dict1.values():\n",
    "    for ele in lst:\n",
    "        new_list.append(ele)\n",
    "        \n",
    "# use set for storing the unique value\n",
    "set_ = set(new_list)\n",
    "print(f'The unique values in {dict1} is: \\n {set_}')"
   ]
  },
  {
   "cell_type": "markdown",
   "id": "fc6ed972",
   "metadata": {},
   "source": [
    "**2. Write a Python program to find the sum of all items in a dictionary?**\n",
    "\n",
    "**Answer-**"
   ]
  },
  {
   "cell_type": "code",
   "execution_count": 2,
   "id": "1eb062df",
   "metadata": {},
   "outputs": [
    {
     "name": "stdout",
     "output_type": "stream",
     "text": [
      "The sum of all ele in dict value: 749\n"
     ]
    }
   ],
   "source": [
    "dict1 = {'a':[1,2,3,7,4,77,100],\n",
    "        'b': [1,2,3,5,8,9,200],\n",
    "        'c': [2,4,6,7,8,300]}\n",
    "new_list = []\n",
    "for lst in dict1.values():\n",
    "    for ele in lst:\n",
    "        new_list.append(ele)\n",
    "        \n",
    "print(f'The sum of all ele in dict value: {sum(new_list)}')"
   ]
  },
  {
   "cell_type": "markdown",
   "id": "2ff0bb44",
   "metadata": {},
   "source": [
    "**3. Write a Python program to Merging two Dictionaries?**\n",
    "\n",
    "**Answer-**"
   ]
  },
  {
   "cell_type": "code",
   "execution_count": 3,
   "id": "85771ba6",
   "metadata": {},
   "outputs": [
    {
     "data": {
      "text/plain": [
       "{'a': [1, 2, 3, 7, 4, 77, 100],\n",
       " 'b': [1, 2, 3, 5, 8, 9, 200],\n",
       " 'c': [2, 4, 6, 7, 8, 300],\n",
       " 'd': ['yes', 1, 2, 3, 45],\n",
       " 'e': ['sharad']}"
      ]
     },
     "execution_count": 3,
     "metadata": {},
     "output_type": "execute_result"
    }
   ],
   "source": [
    "dict1 = {'a':[1,2,3,7,4,77,100],\n",
    "        'b': [1,2,3,5,8,9,200],\n",
    "        'c': [2,4,6,7,8,300]}\n",
    "\n",
    "dict2 = {'d':['yes',1,2,3,45],\n",
    "        'e': ['sharad']}\n",
    "              \n",
    "# use update method to merge\n",
    "dict1.update(dict2)\n",
    "dict1"
   ]
  },
  {
   "cell_type": "markdown",
   "id": "bdd4d3c8",
   "metadata": {},
   "source": [
    "**4. Write a Python program to convert key-values list to flat dictionary?**\n",
    "\n",
    "**Answer-**"
   ]
  },
  {
   "cell_type": "code",
   "execution_count": 4,
   "id": "eab447fd",
   "metadata": {},
   "outputs": [
    {
     "name": "stdout",
     "output_type": "stream",
     "text": [
      "The flat dict: {'A': 1, 'B': 2, 'C': 3}\n"
     ]
    }
   ],
   "source": [
    "dict1 = {'alphabate': ['A','B','C'],\n",
    "        'number': [1,2,3]}\n",
    "\n",
    "value_list = list(dict1.values()) # store the dict values in list\n",
    "\n",
    "list_1 = value_list[0] # first dict value\n",
    "list_2 = value_list[1] # second dict value\n",
    "\n",
    "new_dict = dict(zip(list_1,list_2)) # use zip() function to create dict\n",
    "\n",
    "print('The flat dict:',new_dict)"
   ]
  },
  {
   "cell_type": "markdown",
   "id": "1e2e61fe",
   "metadata": {},
   "source": [
    "**5. Write a Python program to insertion at the beginning in OrderedDict?**\n",
    "\n",
    "**Answer-**               \n",
    "[Source](https://www.geeksforgeeks.org/python-insertion-at-the-beginning-in-ordereddict/)"
   ]
  },
  {
   "cell_type": "code",
   "execution_count": 5,
   "id": "07658189",
   "metadata": {},
   "outputs": [
    {
     "name": "stdout",
     "output_type": "stream",
     "text": [
      "OrderedDict([('C', '3'), ('D', '4'), ('A', '1'), ('B', '2')])\n"
     ]
    }
   ],
   "source": [
    "from collections import OrderedDict\n",
    "\n",
    "ini_dict1 = OrderedDict([('A', '1'), ('B', '2')])\n",
    "ini_dict2 = OrderedDict([(\"C\", '3'), (\"D\", '4')])\n",
    "\n",
    "New_dict = OrderedDict(list(ini_dict2.items()) + list(ini_dict1.items()))\n",
    "print(New_dict)"
   ]
  },
  {
   "cell_type": "markdown",
   "id": "44f6a835",
   "metadata": {},
   "source": [
    "**6. Write a Python program to check order of character in string using OrderedDict()?**\n",
    "\n",
    "**Answer-**"
   ]
  },
  {
   "cell_type": "code",
   "execution_count": null,
   "id": "5bf5f59a",
   "metadata": {},
   "outputs": [],
   "source": []
  },
  {
   "cell_type": "markdown",
   "id": "796a6ba7",
   "metadata": {},
   "source": [
    "**7. Write a Python program to sort Python Dictionaries by Key or Value?**\n",
    "\n",
    "**Answer-**"
   ]
  },
  {
   "cell_type": "code",
   "execution_count": 6,
   "id": "d704a91e",
   "metadata": {},
   "outputs": [
    {
     "name": "stdout",
     "output_type": "stream",
     "text": [
      "Dictionay sorted by key:\n"
     ]
    },
    {
     "data": {
      "text/plain": [
       "{'a': [1, 2, 3, 7, 4, 77, 100],\n",
       " 'b': [1, 2, 3, 5, 8, 9, 200],\n",
       " 'c': [2, 4, 6, 7, 8, 300],\n",
       " 'd': ['yes', 1, 2, 3, 45],\n",
       " 'e': ['sharad']}"
      ]
     },
     "execution_count": 6,
     "metadata": {},
     "output_type": "execute_result"
    }
   ],
   "source": [
    "# sort dict by key - \n",
    "\n",
    "dict1 = {'b': [1, 2, 3, 5, 8, 9, 200],\n",
    "         'e': ['sharad'],\n",
    "         'c': [2, 4, 6, 7, 8, 300],\n",
    "         'a': [1, 2, 3, 7, 4, 77, 100],\n",
    "         'd': ['yes', 1, 2, 3, 45]}\n",
    "dict2 ={}\n",
    "\n",
    "# create sorted list of key in dict1\n",
    "key_list = list(dict1.keys()) \n",
    "key_list = sorted(key_list)\n",
    "\n",
    "# iterate over sorted kye list \n",
    "for i in key_list:\n",
    "    dict2[i] = dict1.get(i)\n",
    "    \n",
    "print('Dictionay sorted by key:') \n",
    "dict2"
   ]
  }
 ],
 "metadata": {
  "kernelspec": {
   "display_name": "Python 3 (ipykernel)",
   "language": "python",
   "name": "python3"
  },
  "language_info": {
   "codemirror_mode": {
    "name": "ipython",
    "version": 3
   },
   "file_extension": ".py",
   "mimetype": "text/x-python",
   "name": "python",
   "nbconvert_exporter": "python",
   "pygments_lexer": "ipython3",
   "version": "3.9.12"
  }
 },
 "nbformat": 4,
 "nbformat_minor": 5
}
