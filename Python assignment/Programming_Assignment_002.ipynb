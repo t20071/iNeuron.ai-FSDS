{
 "cells": [
  {
   "cell_type": "markdown",
   "id": "7a0ab9d6",
   "metadata": {},
   "source": [
    "# Programming_Assignment_002\n",
    "[sharadpardhe08@gmail.com](link)        \n",
    "**Thursday, 1 December 2022**"
   ]
  },
  {
   "cell_type": "markdown",
   "id": "3bc4caad",
   "metadata": {},
   "source": [
    "**1. Write a Python program to convert kilometers to miles?**            \n",
    "**Answer-**                  \n",
    ">We know         \n",
    "> 1 mile = 1.609 km        \n"
   ]
  },
  {
   "cell_type": "code",
   "execution_count": 1,
   "id": "c251475c",
   "metadata": {},
   "outputs": [
    {
     "name": "stdout",
     "output_type": "stream",
     "text": [
      "Enter Distance in km: 1\n",
      "1 km is equal to 0.6215040397762586 miles\n"
     ]
    }
   ],
   "source": [
    "km = int(input('Enter Distance in km: '))\n",
    "miles = (1/ 1.609) * km\n",
    "print(f'{km} km is equal to {miles} miles')"
   ]
  },
  {
   "cell_type": "markdown",
   "id": "d4016a20",
   "metadata": {},
   "source": [
    "**2.Write a Python program to convert Celsius to Fahrenheit?**            \n",
    "**Answer-**\n",
    "> Formula for conversion of celsius to Fahrenheit          \n",
    "> f = ((9/5)*C) + 32"
   ]
  },
  {
   "cell_type": "code",
   "execution_count": 2,
   "id": "e61bb21b",
   "metadata": {},
   "outputs": [
    {
     "name": "stdout",
     "output_type": "stream",
     "text": [
      "Enter Temperatare in degree celsius: 0\n",
      "0 degree C is equal equal to 32.0 degree F\n"
     ]
    }
   ],
   "source": [
    "C = int(input('Enter Temperatare in degree celsius: '))\n",
    "f = ((9/5)*C) + 32\n",
    "print(f'{C} degree C is equal equal to {f} degree F')"
   ]
  },
  {
   "cell_type": "markdown",
   "id": "5d607599",
   "metadata": {},
   "source": [
    "**3.Write a Python program to display calendar?**      \n",
    "**Answer-**\n"
   ]
  },
  {
   "cell_type": "code",
   "execution_count": 6,
   "id": "1ab2443e",
   "metadata": {},
   "outputs": [
    {
     "name": "stdout",
     "output_type": "stream",
     "text": [
      "Enter year: 2022\n",
      "Enter month: 12\n",
      "\n",
      "\n",
      "   December 2022\n",
      "Mo Tu We Th Fr Sa Su\n",
      "          1  2  3  4\n",
      " 5  6  7  8  9 10 11\n",
      "12 13 14 15 16 17 18\n",
      "19 20 21 22 23 24 25\n",
      "26 27 28 29 30 31\n",
      "\n"
     ]
    }
   ],
   "source": [
    "# import calendar module \n",
    "import calendar\n",
    "y = int(input('Enter year: '))\n",
    "m = int(input('Enter month: '))\n",
    "print('\\n')\n",
    "print(calendar.month(y,m))"
   ]
  },
  {
   "cell_type": "markdown",
   "id": "4b884060",
   "metadata": {},
   "source": [
    "**4.Write a Python program to solve quadratic equation?**        \n",
    "**Answer-**          \n",
    ">ax2 + bx + c = 0, where         \n",
    "a, b and c are real numbers and           \n",
    "a ≠ 0"
   ]
  },
  {
   "cell_type": "code",
   "execution_count": 5,
   "id": "d00ebd5c",
   "metadata": {},
   "outputs": [
    {
     "name": "stdout",
     "output_type": "stream",
     "text": [
      "Enter a: 1\n",
      "Enter b: 0\n",
      "Enter c: -4\n",
      "solution of quadratic equation is 2.0 and -2.0\n"
     ]
    }
   ],
   "source": [
    "a = int(input('Enter a: '))\n",
    "b = int(input('Enter b: '))\n",
    "c = int(input('Enter c: '))\n",
    "\n",
    "# where D \n",
    "D = (b**2) - (4*a*c)\n",
    "\n",
    "S1 = (-b + ((D)**(1/2)))/(2*a)\n",
    "S2 = (-b - ((D)**(1/2)))/(2*a)\n",
    "\n",
    "\n",
    "print(f'solution of quadratic equation is {S1} and {S2}')"
   ]
  },
  {
   "cell_type": "markdown",
   "id": "1f154d88",
   "metadata": {},
   "source": [
    "**5.Write a Python program to swap two variables without temp variable?**          \n",
    "**Answer-**"
   ]
  },
  {
   "cell_type": "code",
   "execution_count": 7,
   "id": "6a344cb1",
   "metadata": {},
   "outputs": [
    {
     "name": "stdout",
     "output_type": "stream",
     "text": [
      "x = 100\n",
      "y = 34\n"
     ]
    }
   ],
   "source": [
    "x = 34\n",
    "y = 100\n",
    "\n",
    "x, y = y, x\n",
    "print(\"x =\", x)\n",
    "print(\"y =\", y)"
   ]
  }
 ],
 "metadata": {
  "kernelspec": {
   "display_name": "Python 3 (ipykernel)",
   "language": "python",
   "name": "python3"
  },
  "language_info": {
   "codemirror_mode": {
    "name": "ipython",
    "version": 3
   },
   "file_extension": ".py",
   "mimetype": "text/x-python",
   "name": "python",
   "nbconvert_exporter": "python",
   "pygments_lexer": "ipython3",
   "version": "3.9.12"
  }
 },
 "nbformat": 4,
 "nbformat_minor": 5
}
