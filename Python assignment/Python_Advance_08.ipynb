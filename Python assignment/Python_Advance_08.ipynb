{
 "cells": [
  {
   "cell_type": "markdown",
   "id": "6f19bc1d",
   "metadata": {},
   "source": [
    "# Python_Advance_08\n",
    "\n",
    "**Monday, 11 December, 2023**"
   ]
  },
  {
   "cell_type": "markdown",
   "id": "3c9bbbbe",
   "metadata": {},
   "source": [
    "**Q1. What are the two latest user-defined exception constraints in Python 3.X?**\n",
    "\n",
    "The two latest user-defined exception constraints in Python 3.X are:\n",
    "\n",
    "**1. SyntaxError:** This exception is raised when there is a syntax error in the Python code."
   ]
  },
  {
   "cell_type": "code",
   "execution_count": 9,
   "id": "48c71de6",
   "metadata": {},
   "outputs": [
    {
     "ename": "SyntaxError",
     "evalue": "invalid syntax. Perhaps you forgot a comma? (3049892672.py, line 6)",
     "output_type": "error",
     "traceback": [
      "\u001b[1;36m  Cell \u001b[1;32mIn[9], line 6\u001b[1;36m\u001b[0m\n\u001b[1;33m    'jim': 24\u001b[0m\n\u001b[1;37m           ^\u001b[0m\n\u001b[1;31mSyntaxError\u001b[0m\u001b[1;31m:\u001b[0m invalid syntax. Perhaps you forgot a comma?\n"
     ]
    }
   ],
   "source": [
    "# example \n",
    "try:\n",
    "    # Some code with a syntax error\n",
    "    ages = {\n",
    "    'pam': 24,\n",
    "    'jim': 24\n",
    "    'michael': 43}\n",
    "    print(f'Michael is {ages[\"michael\"]} years old.')\n",
    "\n",
    "except SyntaxError as se:\n",
    "    print(f\"Caught a SyntaxError: {se}\")"
   ]
  },
  {
   "cell_type": "markdown",
   "id": "6865ad20",
   "metadata": {},
   "source": [
    "**2. IndentationError:** This exception is raised when there is an incorrect indentation in the code."
   ]
  },
  {
   "cell_type": "code",
   "execution_count": 10,
   "id": "5b62f320",
   "metadata": {},
   "outputs": [
    {
     "ename": "IndentationError",
     "evalue": "unexpected indent (582325376.py, line 5)",
     "output_type": "error",
     "traceback": [
      "\u001b[1;36m  Cell \u001b[1;32mIn[10], line 5\u001b[1;36m\u001b[0m\n\u001b[1;33m    y = 20\u001b[0m\n\u001b[1;37m    ^\u001b[0m\n\u001b[1;31mIndentationError\u001b[0m\u001b[1;31m:\u001b[0m unexpected indent\n"
     ]
    }
   ],
   "source": [
    "# Example\n",
    "try:\n",
    "    # Incorrect indentation\n",
    "    x = 10\n",
    "      y = 20\n",
    "except IndentationError as ie:\n",
    "    print(f\"Caught an IndentationError: {ie}\")\n"
   ]
  },
  {
   "cell_type": "markdown",
   "id": "e600d121",
   "metadata": {},
   "source": [
    "**Q2. How are class-based exceptions that have been raised matched to handlers?**\n",
    "\n",
    "> In this example, if CustomError is raised, the first except block will be executed. If a more general Exception is raised, the second except block will be executed."
   ]
  },
  {
   "cell_type": "code",
   "execution_count": 13,
   "id": "9aede260",
   "metadata": {},
   "outputs": [
    {
     "name": "stdout",
     "output_type": "stream",
     "text": [
      "Caught a generic exception: division by zero\n"
     ]
    }
   ],
   "source": [
    "class CustomError(Exception):\n",
    "    pass\n",
    "\n",
    "try:\n",
    "    x = 10/0\n",
    "    raise CustomError(\"This is a custom error.\")\n",
    "except CustomError as ce:\n",
    "    print(f\"Caught an exception: {ce}\")\n",
    "except Exception as e:\n",
    "    print(f\"Caught a generic exception: {e}\")\n"
   ]
  },
  {
   "cell_type": "markdown",
   "id": "9d530c78",
   "metadata": {},
   "source": [
    "**Q3. Describe two methods for attaching context information to exception artifacts.**\n",
    "\n",
    "**1. Using exception arguments:** \n",
    "we can provide additional context information when raising an exception using the from keyword"
   ]
  },
  {
   "cell_type": "code",
   "execution_count": 16,
   "id": "c649284e",
   "metadata": {},
   "outputs": [
    {
     "name": "stdout",
     "output_type": "stream",
     "text": [
      "Caught an exception: invalid literal for int() with base 10: 'sharad'\n"
     ]
    }
   ],
   "source": [
    "try:\n",
    "    a = 'sharad'\n",
    "    b = int(a)\n",
    "    raise ValueError(\"Something went wrong\") \n",
    "except ValueError as ve:\n",
    "    print(f\"Caught an exception: {ve}\")"
   ]
  },
  {
   "cell_type": "markdown",
   "id": "3b22ac90",
   "metadata": {},
   "source": [
    "**Using exception's __context__ attribute:**\n",
    "we can explicitly set the context of an exception using the __context__ attribute."
   ]
  },
  {
   "cell_type": "code",
   "execution_count": 17,
   "id": "23164b9c",
   "metadata": {},
   "outputs": [
    {
     "name": "stdout",
     "output_type": "stream",
     "text": [
      "Caught an exception: Outer exception\n"
     ]
    }
   ],
   "source": [
    "try:\n",
    "    try:\n",
    "        raise ValueError(\"Inner exception\")\n",
    "    except ValueError as ve:\n",
    "        raise RuntimeError(\"Outer exception\") from ve\n",
    "except RuntimeError as re:\n",
    "    print(f\"Caught an exception: {re}\")\n"
   ]
  },
  {
   "cell_type": "markdown",
   "id": "63546103",
   "metadata": {},
   "source": [
    "**Q4. Describe two methods for specifying the text of an exception object's error message.**"
   ]
  },
  {
   "cell_type": "markdown",
   "id": "11a84f3c",
   "metadata": {},
   "source": [
    "**Q5. Why do you no longer use string-based exceptions?**\n",
    "\n",
    "String-based exceptions are no longer recommended because they are less informative and make it harder to handle specific errors programmatically. Using class-based exceptions provides a structured way to represent different types of errors, allows for better organization of exception hierarchies, and enables the use of exception handling mechanisms like try and except blocks. This makes the code more readable, maintainable, and allows for better error handling practices. Additionally, class-based exceptions can carry additional information and context, which is valuable for debugging and understanding the nature of the exception."
   ]
  },
  {
   "cell_type": "code",
   "execution_count": null,
   "id": "6279f597",
   "metadata": {},
   "outputs": [],
   "source": []
  }
 ],
 "metadata": {
  "kernelspec": {
   "display_name": "Python 3 (ipykernel)",
   "language": "python",
   "name": "python3"
  },
  "language_info": {
   "codemirror_mode": {
    "name": "ipython",
    "version": 3
   },
   "file_extension": ".py",
   "mimetype": "text/x-python",
   "name": "python",
   "nbconvert_exporter": "python",
   "pygments_lexer": "ipython3",
   "version": "3.11.5"
  }
 },
 "nbformat": 4,
 "nbformat_minor": 5
}
